{
 "cells": [
  {
   "cell_type": "markdown",
   "metadata": {},
   "source": [
    "<div class=\"alert alert-success\">\n",
    "  <b> ✔️Комментарий ревьюера ✔️</b>\n",
    "\n",
    "Привет! Меня зовут Михаил, я буду проверять твой проект. Мне было бы приятно узнать твое имя! Предлагаю общаться на 'ты' :)\n",
    "Однако, если это неудобно - сообщи, и мы перейдем на 'Вы'. Моя главная цель —  поделиться с тобой своим опытом и помочь тебе стать крутым специалистом, а не только указать на совершенные тобой ошибки.\n",
    "\n",
    "Видно, что к проекту приложен большой труд. Все ключевые этапы в работе выполнены, статистическое исследование проведено качественно. Так что в целом справиться с задачей тебе удалось.\n",
    "\n",
    "Есть несколько аспектов, которые **требуют** твоего **внимания**. Комментарии по ним помечены красным цветом и символами ❌. После их доработки проект будет принят, осталось совсем немного :) \n",
    "    \n",
    "\n",
    "Давай работать над проектом в диалоге: если **ты что-то меняешь** в проекте по моим рекомендациям — **пиши об этом**. Мне будет легче отследить изменения, если ты будешь использовать синюю форму, которую я прикреплю ниже. Пожалуйста, **не перемещай, не изменяй и не удаляй мои комментарии**. Всё это поможет выполнить повторную проверку твоего проекта оперативнее. \n",
    "\n",
    "\n",
    "\n",
    "Жду проект на повторное ревью. Успехов в изучении!\n",
    "\n",
    "\n",
    "\n",
    "</div>\n",
    "<div class=\"alert alert-block alert-danger\"> <b>❌ Комментарий ревьюера ❌</b> \n",
    "    Так я выделяю моменты, которые требуют особого внимания. Нужно будет учесть их и внести корректировки в свою работу. </div>\n",
    "<div class=\"alert alert-block alert-warning\"> <b>⚠️ Комментарий ревьюера ⚠️</b> \n",
    "    Желтым я отмечу рекомендации, которые, могут быть полезными при твоей работе. Они носят рекомендационный характер, но будет классно, если ты будешь учитывать их при работе.</div>\n",
    "<div class=\"alert alert-block alert-success\"> <b>✔️ Комментарий ревьюера ✔️</b>\n",
    "    Так я выделяю удачные и элегантные решения, на которые можно опираться в будущих проектах.</div>\n",
    "<div class=\"alert alert-block alert-info\">\n",
    "    \n",
    "А в таком блоке ты можешь оставить комментарии для меня \n",
    "    \n",
    "</div>"
   ]
  },
  {
   "cell_type": "markdown",
   "metadata": {},
   "source": [
    "<div class=\"alert alert-block alert-info\">\n",
    "    \n",
    "Привет! Меня зовут Настя\n",
    "<div class=\"alert alert-success\">\n",
    "\n",
    "**✔️ Комментарий ревьюера v2✔️**\n",
    "   \n",
    "   Привет, Настя! Очень приятно познакомиться :)\n",
    "\n",
    "</div>\n",
    "    \n",
    "</div>"
   ]
  },
  {
   "cell_type": "markdown",
   "metadata": {
    "id": "-VFbjcb3Awb7"
   },
   "source": [
    "# Исследование объявлений о продаже квартир\n",
    "\n",
    "В вашем распоряжении данные сервиса Яндекс Недвижимость — архив объявлений о продаже квартир в Санкт-Петербурге и соседних населённых пунктах за несколько лет. Вам нужно научиться определять рыночную стоимость объектов недвижимости. Для этого проведите исследовательский анализ данных и установите параметры, влияющие на цену объектов. Это позволит построить автоматизированную систему: она отследит аномалии и мошенническую деятельность.\n",
    "\n",
    "По каждой квартире на продажу доступны два вида данных. Первые вписаны пользователем, вторые — получены автоматически на основе картографических данных. Например, расстояние до центра, аэропорта и других объектов — эти данные автоматически получены из геосервисов. Количество парков и водоёмов также заполняется без участия пользователя."
   ]
  },
  {
   "cell_type": "markdown",
   "metadata": {},
   "source": [
    "**Цель проекта**:\n",
    "Провести исследовательский анализ данных и установить параметры, влияющие на цену объектов недвижимости. \n",
    "\n",
    "**Описание данных**\n",
    "* airports_nearest — расстояние до ближайшего аэропорта в метрах (м)\n",
    "* balcony — число балконов\n",
    "* ceiling_height — высота потолков (м)\n",
    "* cityCenters_nearest — расстояние до центра города (м)\n",
    "* days_exposition — сколько дней было размещено объявление (от публикации до снятия)\n",
    "* first_day_exposition — дата публикации\n",
    "* floor — этаж\n",
    "* floors_total — всего этажей в доме\n",
    "* is_apartment — апартаменты (булев тип)\n",
    "* kitchen_area — площадь кухни в квадратных метрах (м²)\n",
    "* last_price — цена на момент снятия с публикации\n",
    "* living_area — жилая площадь в квадратных метрах (м²)\n",
    "* locality_name — название населённого пункта\n",
    "* open_plan — свободная планировка (булев тип)\n",
    "* parks_around3000 — число парков в радиусе 3 км\n",
    "* parks_nearest — расстояние до ближайшего парка (м)\n",
    "* ponds_around3000 — число водоёмов в радиусе 3 км\n",
    "* ponds_nearest — расстояние до ближайшего водоёма (м)\n",
    "* rooms — число комнат\n",
    "* studio — квартира-студия (булев тип)\n",
    "* total_area — общая площадь квартиры в квадратных метрах (м²)\n",
    "* total_images — число фотографий квартиры в объявлении\n",
    "\n",
    "**План проекта**\n",
    "\n",
    " 1. Обзор данных.\n",
    " 2. Предобработка данных.\n",
    " 3. Исследовательский анализ данных."
   ]
  },
  {
   "cell_type": "markdown",
   "metadata": {},
   "source": [
    "<div class=\"alert alert-success\">\n",
    "\n",
    "**✔️ Комментарий ревьюера ✔️**\n",
    "   \n",
    "   Хорошее введение в проект - пригодится в будущем, когда соберешь большое портфолио и откроешь проект вновь👍\n",
    "\n",
    "</div>\n"
   ]
  },
  {
   "cell_type": "markdown",
   "metadata": {
    "id": "aeFLH07FAwb9"
   },
   "source": [
    "### Откройте файл с данными и изучите общую информацию"
   ]
  },
  {
   "cell_type": "code",
   "execution_count": 208,
   "metadata": {
    "id": "7MZxY65pAwb9",
    "scrolled": true
   },
   "outputs": [
    {
     "name": "stdout",
     "output_type": "stream",
     "text": [
      "<class 'pandas.core.frame.DataFrame'>\n",
      "RangeIndex: 23699 entries, 0 to 23698\n",
      "Data columns (total 22 columns):\n",
      " #   Column                Non-Null Count  Dtype  \n",
      "---  ------                --------------  -----  \n",
      " 0   total_images          23699 non-null  int64  \n",
      " 1   last_price            23699 non-null  float64\n",
      " 2   total_area            23699 non-null  float64\n",
      " 3   first_day_exposition  23699 non-null  object \n",
      " 4   rooms                 23699 non-null  int64  \n",
      " 5   ceiling_height        14504 non-null  float64\n",
      " 6   floors_total          23613 non-null  float64\n",
      " 7   living_area           21796 non-null  float64\n",
      " 8   floor                 23699 non-null  int64  \n",
      " 9   is_apartment          2775 non-null   object \n",
      " 10  studio                23699 non-null  bool   \n",
      " 11  open_plan             23699 non-null  bool   \n",
      " 12  kitchen_area          21421 non-null  float64\n",
      " 13  balcony               12180 non-null  float64\n",
      " 14  locality_name         23650 non-null  object \n",
      " 15  airports_nearest      18157 non-null  float64\n",
      " 16  cityCenters_nearest   18180 non-null  float64\n",
      " 17  parks_around3000      18181 non-null  float64\n",
      " 18  parks_nearest         8079 non-null   float64\n",
      " 19  ponds_around3000      18181 non-null  float64\n",
      " 20  ponds_nearest         9110 non-null   float64\n",
      " 21  days_exposition       20518 non-null  float64\n",
      "dtypes: bool(2), float64(14), int64(3), object(3)\n",
      "memory usage: 3.7+ MB\n"
     ]
    }
   ],
   "source": [
    "# Импортируем библиотеку pandas и matplotlib. Считываем данные из csv-файла в датафрейм и сохраняем в переменную data.\n",
    "\n",
    "import pandas as pd\n",
    "import matplotlib.pyplot as plt\n",
    "\n",
    "data = pd.read_csv('/datasets/real_estate_data.csv', sep = '\\t')\n",
    "\n",
    "# Выведем основную информацию о датафрейме \n",
    "data.info()"
   ]
  },
  {
   "cell_type": "code",
   "execution_count": 209,
   "metadata": {},
   "outputs": [],
   "source": [
    "# Добавим информацию о количестве строк в первоначальном датасете \n",
    "data_raw = data.shape[0]"
   ]
  },
  {
   "cell_type": "markdown",
   "metadata": {},
   "source": [
    "<div class=\"alert alert-info\">\n",
    "\n",
    "Добавила информацию о начальном количестве строк в датасете\n",
    "<div class=\"alert alert-success\">\n",
    "\n",
    "**✔️ Комментарий ревьюера v2✔️**\n",
    "   \n",
    "   👍\n",
    "\n",
    "</div>\n",
    "\n",
    "</div>\n"
   ]
  },
  {
   "cell_type": "code",
   "execution_count": 210,
   "metadata": {},
   "outputs": [
    {
     "data": {
      "text/html": [
       "<div>\n",
       "<style scoped>\n",
       "    .dataframe tbody tr th:only-of-type {\n",
       "        vertical-align: middle;\n",
       "    }\n",
       "\n",
       "    .dataframe tbody tr th {\n",
       "        vertical-align: top;\n",
       "    }\n",
       "\n",
       "    .dataframe thead th {\n",
       "        text-align: right;\n",
       "    }\n",
       "</style>\n",
       "<table border=\"1\" class=\"dataframe\">\n",
       "  <thead>\n",
       "    <tr style=\"text-align: right;\">\n",
       "      <th></th>\n",
       "      <th>total_images</th>\n",
       "      <th>last_price</th>\n",
       "      <th>total_area</th>\n",
       "      <th>first_day_exposition</th>\n",
       "      <th>rooms</th>\n",
       "      <th>ceiling_height</th>\n",
       "      <th>floors_total</th>\n",
       "      <th>living_area</th>\n",
       "      <th>floor</th>\n",
       "      <th>is_apartment</th>\n",
       "      <th>...</th>\n",
       "      <th>kitchen_area</th>\n",
       "      <th>balcony</th>\n",
       "      <th>locality_name</th>\n",
       "      <th>airports_nearest</th>\n",
       "      <th>cityCenters_nearest</th>\n",
       "      <th>parks_around3000</th>\n",
       "      <th>parks_nearest</th>\n",
       "      <th>ponds_around3000</th>\n",
       "      <th>ponds_nearest</th>\n",
       "      <th>days_exposition</th>\n",
       "    </tr>\n",
       "  </thead>\n",
       "  <tbody>\n",
       "    <tr>\n",
       "      <th>0</th>\n",
       "      <td>20</td>\n",
       "      <td>13000000.0</td>\n",
       "      <td>108.00</td>\n",
       "      <td>2019-03-07T00:00:00</td>\n",
       "      <td>3</td>\n",
       "      <td>2.70</td>\n",
       "      <td>16.0</td>\n",
       "      <td>51.00</td>\n",
       "      <td>8</td>\n",
       "      <td>NaN</td>\n",
       "      <td>...</td>\n",
       "      <td>25.00</td>\n",
       "      <td>NaN</td>\n",
       "      <td>Санкт-Петербург</td>\n",
       "      <td>18863.0</td>\n",
       "      <td>16028.0</td>\n",
       "      <td>1.0</td>\n",
       "      <td>482.0</td>\n",
       "      <td>2.0</td>\n",
       "      <td>755.0</td>\n",
       "      <td>NaN</td>\n",
       "    </tr>\n",
       "    <tr>\n",
       "      <th>1</th>\n",
       "      <td>7</td>\n",
       "      <td>3350000.0</td>\n",
       "      <td>40.40</td>\n",
       "      <td>2018-12-04T00:00:00</td>\n",
       "      <td>1</td>\n",
       "      <td>NaN</td>\n",
       "      <td>11.0</td>\n",
       "      <td>18.60</td>\n",
       "      <td>1</td>\n",
       "      <td>NaN</td>\n",
       "      <td>...</td>\n",
       "      <td>11.00</td>\n",
       "      <td>2.0</td>\n",
       "      <td>посёлок Шушары</td>\n",
       "      <td>12817.0</td>\n",
       "      <td>18603.0</td>\n",
       "      <td>0.0</td>\n",
       "      <td>NaN</td>\n",
       "      <td>0.0</td>\n",
       "      <td>NaN</td>\n",
       "      <td>81.0</td>\n",
       "    </tr>\n",
       "    <tr>\n",
       "      <th>2</th>\n",
       "      <td>10</td>\n",
       "      <td>5196000.0</td>\n",
       "      <td>56.00</td>\n",
       "      <td>2015-08-20T00:00:00</td>\n",
       "      <td>2</td>\n",
       "      <td>NaN</td>\n",
       "      <td>5.0</td>\n",
       "      <td>34.30</td>\n",
       "      <td>4</td>\n",
       "      <td>NaN</td>\n",
       "      <td>...</td>\n",
       "      <td>8.30</td>\n",
       "      <td>0.0</td>\n",
       "      <td>Санкт-Петербург</td>\n",
       "      <td>21741.0</td>\n",
       "      <td>13933.0</td>\n",
       "      <td>1.0</td>\n",
       "      <td>90.0</td>\n",
       "      <td>2.0</td>\n",
       "      <td>574.0</td>\n",
       "      <td>558.0</td>\n",
       "    </tr>\n",
       "    <tr>\n",
       "      <th>3</th>\n",
       "      <td>0</td>\n",
       "      <td>64900000.0</td>\n",
       "      <td>159.00</td>\n",
       "      <td>2015-07-24T00:00:00</td>\n",
       "      <td>3</td>\n",
       "      <td>NaN</td>\n",
       "      <td>14.0</td>\n",
       "      <td>NaN</td>\n",
       "      <td>9</td>\n",
       "      <td>NaN</td>\n",
       "      <td>...</td>\n",
       "      <td>NaN</td>\n",
       "      <td>0.0</td>\n",
       "      <td>Санкт-Петербург</td>\n",
       "      <td>28098.0</td>\n",
       "      <td>6800.0</td>\n",
       "      <td>2.0</td>\n",
       "      <td>84.0</td>\n",
       "      <td>3.0</td>\n",
       "      <td>234.0</td>\n",
       "      <td>424.0</td>\n",
       "    </tr>\n",
       "    <tr>\n",
       "      <th>4</th>\n",
       "      <td>2</td>\n",
       "      <td>10000000.0</td>\n",
       "      <td>100.00</td>\n",
       "      <td>2018-06-19T00:00:00</td>\n",
       "      <td>2</td>\n",
       "      <td>3.03</td>\n",
       "      <td>14.0</td>\n",
       "      <td>32.00</td>\n",
       "      <td>13</td>\n",
       "      <td>NaN</td>\n",
       "      <td>...</td>\n",
       "      <td>41.00</td>\n",
       "      <td>NaN</td>\n",
       "      <td>Санкт-Петербург</td>\n",
       "      <td>31856.0</td>\n",
       "      <td>8098.0</td>\n",
       "      <td>2.0</td>\n",
       "      <td>112.0</td>\n",
       "      <td>1.0</td>\n",
       "      <td>48.0</td>\n",
       "      <td>121.0</td>\n",
       "    </tr>\n",
       "    <tr>\n",
       "      <th>5</th>\n",
       "      <td>10</td>\n",
       "      <td>2890000.0</td>\n",
       "      <td>30.40</td>\n",
       "      <td>2018-09-10T00:00:00</td>\n",
       "      <td>1</td>\n",
       "      <td>NaN</td>\n",
       "      <td>12.0</td>\n",
       "      <td>14.40</td>\n",
       "      <td>5</td>\n",
       "      <td>NaN</td>\n",
       "      <td>...</td>\n",
       "      <td>9.10</td>\n",
       "      <td>NaN</td>\n",
       "      <td>городской посёлок Янино-1</td>\n",
       "      <td>NaN</td>\n",
       "      <td>NaN</td>\n",
       "      <td>NaN</td>\n",
       "      <td>NaN</td>\n",
       "      <td>NaN</td>\n",
       "      <td>NaN</td>\n",
       "      <td>55.0</td>\n",
       "    </tr>\n",
       "    <tr>\n",
       "      <th>6</th>\n",
       "      <td>6</td>\n",
       "      <td>3700000.0</td>\n",
       "      <td>37.30</td>\n",
       "      <td>2017-11-02T00:00:00</td>\n",
       "      <td>1</td>\n",
       "      <td>NaN</td>\n",
       "      <td>26.0</td>\n",
       "      <td>10.60</td>\n",
       "      <td>6</td>\n",
       "      <td>NaN</td>\n",
       "      <td>...</td>\n",
       "      <td>14.40</td>\n",
       "      <td>1.0</td>\n",
       "      <td>посёлок Парголово</td>\n",
       "      <td>52996.0</td>\n",
       "      <td>19143.0</td>\n",
       "      <td>0.0</td>\n",
       "      <td>NaN</td>\n",
       "      <td>0.0</td>\n",
       "      <td>NaN</td>\n",
       "      <td>155.0</td>\n",
       "    </tr>\n",
       "    <tr>\n",
       "      <th>7</th>\n",
       "      <td>5</td>\n",
       "      <td>7915000.0</td>\n",
       "      <td>71.60</td>\n",
       "      <td>2019-04-18T00:00:00</td>\n",
       "      <td>2</td>\n",
       "      <td>NaN</td>\n",
       "      <td>24.0</td>\n",
       "      <td>NaN</td>\n",
       "      <td>22</td>\n",
       "      <td>NaN</td>\n",
       "      <td>...</td>\n",
       "      <td>18.90</td>\n",
       "      <td>2.0</td>\n",
       "      <td>Санкт-Петербург</td>\n",
       "      <td>23982.0</td>\n",
       "      <td>11634.0</td>\n",
       "      <td>0.0</td>\n",
       "      <td>NaN</td>\n",
       "      <td>0.0</td>\n",
       "      <td>NaN</td>\n",
       "      <td>NaN</td>\n",
       "    </tr>\n",
       "    <tr>\n",
       "      <th>8</th>\n",
       "      <td>20</td>\n",
       "      <td>2900000.0</td>\n",
       "      <td>33.16</td>\n",
       "      <td>2018-05-23T00:00:00</td>\n",
       "      <td>1</td>\n",
       "      <td>NaN</td>\n",
       "      <td>27.0</td>\n",
       "      <td>15.43</td>\n",
       "      <td>26</td>\n",
       "      <td>NaN</td>\n",
       "      <td>...</td>\n",
       "      <td>8.81</td>\n",
       "      <td>NaN</td>\n",
       "      <td>посёлок Мурино</td>\n",
       "      <td>NaN</td>\n",
       "      <td>NaN</td>\n",
       "      <td>NaN</td>\n",
       "      <td>NaN</td>\n",
       "      <td>NaN</td>\n",
       "      <td>NaN</td>\n",
       "      <td>189.0</td>\n",
       "    </tr>\n",
       "    <tr>\n",
       "      <th>9</th>\n",
       "      <td>18</td>\n",
       "      <td>5400000.0</td>\n",
       "      <td>61.00</td>\n",
       "      <td>2017-02-26T00:00:00</td>\n",
       "      <td>3</td>\n",
       "      <td>2.50</td>\n",
       "      <td>9.0</td>\n",
       "      <td>43.60</td>\n",
       "      <td>7</td>\n",
       "      <td>NaN</td>\n",
       "      <td>...</td>\n",
       "      <td>6.50</td>\n",
       "      <td>2.0</td>\n",
       "      <td>Санкт-Петербург</td>\n",
       "      <td>50898.0</td>\n",
       "      <td>15008.0</td>\n",
       "      <td>0.0</td>\n",
       "      <td>NaN</td>\n",
       "      <td>0.0</td>\n",
       "      <td>NaN</td>\n",
       "      <td>289.0</td>\n",
       "    </tr>\n",
       "    <tr>\n",
       "      <th>10</th>\n",
       "      <td>5</td>\n",
       "      <td>5050000.0</td>\n",
       "      <td>39.60</td>\n",
       "      <td>2017-11-16T00:00:00</td>\n",
       "      <td>1</td>\n",
       "      <td>2.67</td>\n",
       "      <td>12.0</td>\n",
       "      <td>20.30</td>\n",
       "      <td>3</td>\n",
       "      <td>NaN</td>\n",
       "      <td>...</td>\n",
       "      <td>8.50</td>\n",
       "      <td>NaN</td>\n",
       "      <td>Санкт-Петербург</td>\n",
       "      <td>38357.0</td>\n",
       "      <td>13878.0</td>\n",
       "      <td>1.0</td>\n",
       "      <td>310.0</td>\n",
       "      <td>2.0</td>\n",
       "      <td>553.0</td>\n",
       "      <td>137.0</td>\n",
       "    </tr>\n",
       "    <tr>\n",
       "      <th>11</th>\n",
       "      <td>9</td>\n",
       "      <td>3300000.0</td>\n",
       "      <td>44.00</td>\n",
       "      <td>2018-08-27T00:00:00</td>\n",
       "      <td>2</td>\n",
       "      <td>NaN</td>\n",
       "      <td>5.0</td>\n",
       "      <td>31.00</td>\n",
       "      <td>4</td>\n",
       "      <td>False</td>\n",
       "      <td>...</td>\n",
       "      <td>6.00</td>\n",
       "      <td>1.0</td>\n",
       "      <td>Ломоносов</td>\n",
       "      <td>48252.0</td>\n",
       "      <td>51677.0</td>\n",
       "      <td>0.0</td>\n",
       "      <td>NaN</td>\n",
       "      <td>0.0</td>\n",
       "      <td>NaN</td>\n",
       "      <td>7.0</td>\n",
       "    </tr>\n",
       "    <tr>\n",
       "      <th>12</th>\n",
       "      <td>10</td>\n",
       "      <td>3890000.0</td>\n",
       "      <td>54.00</td>\n",
       "      <td>2016-06-30T00:00:00</td>\n",
       "      <td>2</td>\n",
       "      <td>NaN</td>\n",
       "      <td>5.0</td>\n",
       "      <td>30.00</td>\n",
       "      <td>5</td>\n",
       "      <td>NaN</td>\n",
       "      <td>...</td>\n",
       "      <td>9.00</td>\n",
       "      <td>0.0</td>\n",
       "      <td>Сертолово</td>\n",
       "      <td>NaN</td>\n",
       "      <td>NaN</td>\n",
       "      <td>NaN</td>\n",
       "      <td>NaN</td>\n",
       "      <td>NaN</td>\n",
       "      <td>NaN</td>\n",
       "      <td>90.0</td>\n",
       "    </tr>\n",
       "    <tr>\n",
       "      <th>13</th>\n",
       "      <td>20</td>\n",
       "      <td>3550000.0</td>\n",
       "      <td>42.80</td>\n",
       "      <td>2017-07-01T00:00:00</td>\n",
       "      <td>2</td>\n",
       "      <td>2.56</td>\n",
       "      <td>5.0</td>\n",
       "      <td>27.00</td>\n",
       "      <td>5</td>\n",
       "      <td>NaN</td>\n",
       "      <td>...</td>\n",
       "      <td>5.20</td>\n",
       "      <td>1.0</td>\n",
       "      <td>Петергоф</td>\n",
       "      <td>37868.0</td>\n",
       "      <td>33058.0</td>\n",
       "      <td>1.0</td>\n",
       "      <td>294.0</td>\n",
       "      <td>3.0</td>\n",
       "      <td>298.0</td>\n",
       "      <td>366.0</td>\n",
       "    </tr>\n",
       "    <tr>\n",
       "      <th>14</th>\n",
       "      <td>1</td>\n",
       "      <td>4400000.0</td>\n",
       "      <td>36.00</td>\n",
       "      <td>2016-06-23T00:00:00</td>\n",
       "      <td>1</td>\n",
       "      <td>NaN</td>\n",
       "      <td>6.0</td>\n",
       "      <td>17.00</td>\n",
       "      <td>1</td>\n",
       "      <td>NaN</td>\n",
       "      <td>...</td>\n",
       "      <td>8.00</td>\n",
       "      <td>0.0</td>\n",
       "      <td>Пушкин</td>\n",
       "      <td>20782.0</td>\n",
       "      <td>30759.0</td>\n",
       "      <td>0.0</td>\n",
       "      <td>NaN</td>\n",
       "      <td>1.0</td>\n",
       "      <td>96.0</td>\n",
       "      <td>203.0</td>\n",
       "    </tr>\n",
       "    <tr>\n",
       "      <th>15</th>\n",
       "      <td>16</td>\n",
       "      <td>4650000.0</td>\n",
       "      <td>39.00</td>\n",
       "      <td>2017-11-18T00:00:00</td>\n",
       "      <td>1</td>\n",
       "      <td>NaN</td>\n",
       "      <td>14.0</td>\n",
       "      <td>20.50</td>\n",
       "      <td>5</td>\n",
       "      <td>NaN</td>\n",
       "      <td>...</td>\n",
       "      <td>7.60</td>\n",
       "      <td>1.0</td>\n",
       "      <td>Санкт-Петербург</td>\n",
       "      <td>12900.0</td>\n",
       "      <td>14259.0</td>\n",
       "      <td>1.0</td>\n",
       "      <td>590.0</td>\n",
       "      <td>1.0</td>\n",
       "      <td>296.0</td>\n",
       "      <td>19.0</td>\n",
       "    </tr>\n",
       "    <tr>\n",
       "      <th>16</th>\n",
       "      <td>11</td>\n",
       "      <td>6700000.0</td>\n",
       "      <td>82.00</td>\n",
       "      <td>2017-11-23T00:00:00</td>\n",
       "      <td>3</td>\n",
       "      <td>3.05</td>\n",
       "      <td>5.0</td>\n",
       "      <td>55.60</td>\n",
       "      <td>1</td>\n",
       "      <td>NaN</td>\n",
       "      <td>...</td>\n",
       "      <td>9.00</td>\n",
       "      <td>NaN</td>\n",
       "      <td>Санкт-Петербург</td>\n",
       "      <td>22108.0</td>\n",
       "      <td>10698.0</td>\n",
       "      <td>3.0</td>\n",
       "      <td>420.0</td>\n",
       "      <td>0.0</td>\n",
       "      <td>NaN</td>\n",
       "      <td>397.0</td>\n",
       "    </tr>\n",
       "    <tr>\n",
       "      <th>17</th>\n",
       "      <td>6</td>\n",
       "      <td>4180000.0</td>\n",
       "      <td>36.00</td>\n",
       "      <td>2016-09-09T00:00:00</td>\n",
       "      <td>1</td>\n",
       "      <td>NaN</td>\n",
       "      <td>17.0</td>\n",
       "      <td>16.50</td>\n",
       "      <td>7</td>\n",
       "      <td>NaN</td>\n",
       "      <td>...</td>\n",
       "      <td>11.00</td>\n",
       "      <td>1.0</td>\n",
       "      <td>Санкт-Петербург</td>\n",
       "      <td>33564.0</td>\n",
       "      <td>14616.0</td>\n",
       "      <td>0.0</td>\n",
       "      <td>NaN</td>\n",
       "      <td>1.0</td>\n",
       "      <td>859.0</td>\n",
       "      <td>571.0</td>\n",
       "    </tr>\n",
       "    <tr>\n",
       "      <th>18</th>\n",
       "      <td>8</td>\n",
       "      <td>3250000.0</td>\n",
       "      <td>31.00</td>\n",
       "      <td>2017-01-27T00:00:00</td>\n",
       "      <td>1</td>\n",
       "      <td>2.50</td>\n",
       "      <td>5.0</td>\n",
       "      <td>19.40</td>\n",
       "      <td>2</td>\n",
       "      <td>NaN</td>\n",
       "      <td>...</td>\n",
       "      <td>5.60</td>\n",
       "      <td>1.0</td>\n",
       "      <td>Санкт-Петербург</td>\n",
       "      <td>44060.0</td>\n",
       "      <td>10842.0</td>\n",
       "      <td>1.0</td>\n",
       "      <td>759.0</td>\n",
       "      <td>0.0</td>\n",
       "      <td>NaN</td>\n",
       "      <td>168.0</td>\n",
       "    </tr>\n",
       "    <tr>\n",
       "      <th>19</th>\n",
       "      <td>16</td>\n",
       "      <td>14200000.0</td>\n",
       "      <td>121.00</td>\n",
       "      <td>2019-01-09T00:00:00</td>\n",
       "      <td>3</td>\n",
       "      <td>2.75</td>\n",
       "      <td>16.0</td>\n",
       "      <td>76.00</td>\n",
       "      <td>8</td>\n",
       "      <td>NaN</td>\n",
       "      <td>...</td>\n",
       "      <td>12.00</td>\n",
       "      <td>NaN</td>\n",
       "      <td>Санкт-Петербург</td>\n",
       "      <td>38900.0</td>\n",
       "      <td>12843.0</td>\n",
       "      <td>0.0</td>\n",
       "      <td>NaN</td>\n",
       "      <td>0.0</td>\n",
       "      <td>NaN</td>\n",
       "      <td>97.0</td>\n",
       "    </tr>\n",
       "  </tbody>\n",
       "</table>\n",
       "<p>20 rows × 22 columns</p>\n",
       "</div>"
      ],
      "text/plain": [
       "    total_images  last_price  total_area first_day_exposition  rooms  \\\n",
       "0             20  13000000.0      108.00  2019-03-07T00:00:00      3   \n",
       "1              7   3350000.0       40.40  2018-12-04T00:00:00      1   \n",
       "2             10   5196000.0       56.00  2015-08-20T00:00:00      2   \n",
       "3              0  64900000.0      159.00  2015-07-24T00:00:00      3   \n",
       "4              2  10000000.0      100.00  2018-06-19T00:00:00      2   \n",
       "5             10   2890000.0       30.40  2018-09-10T00:00:00      1   \n",
       "6              6   3700000.0       37.30  2017-11-02T00:00:00      1   \n",
       "7              5   7915000.0       71.60  2019-04-18T00:00:00      2   \n",
       "8             20   2900000.0       33.16  2018-05-23T00:00:00      1   \n",
       "9             18   5400000.0       61.00  2017-02-26T00:00:00      3   \n",
       "10             5   5050000.0       39.60  2017-11-16T00:00:00      1   \n",
       "11             9   3300000.0       44.00  2018-08-27T00:00:00      2   \n",
       "12            10   3890000.0       54.00  2016-06-30T00:00:00      2   \n",
       "13            20   3550000.0       42.80  2017-07-01T00:00:00      2   \n",
       "14             1   4400000.0       36.00  2016-06-23T00:00:00      1   \n",
       "15            16   4650000.0       39.00  2017-11-18T00:00:00      1   \n",
       "16            11   6700000.0       82.00  2017-11-23T00:00:00      3   \n",
       "17             6   4180000.0       36.00  2016-09-09T00:00:00      1   \n",
       "18             8   3250000.0       31.00  2017-01-27T00:00:00      1   \n",
       "19            16  14200000.0      121.00  2019-01-09T00:00:00      3   \n",
       "\n",
       "    ceiling_height  floors_total  living_area  floor is_apartment  ...  \\\n",
       "0             2.70          16.0        51.00      8          NaN  ...   \n",
       "1              NaN          11.0        18.60      1          NaN  ...   \n",
       "2              NaN           5.0        34.30      4          NaN  ...   \n",
       "3              NaN          14.0          NaN      9          NaN  ...   \n",
       "4             3.03          14.0        32.00     13          NaN  ...   \n",
       "5              NaN          12.0        14.40      5          NaN  ...   \n",
       "6              NaN          26.0        10.60      6          NaN  ...   \n",
       "7              NaN          24.0          NaN     22          NaN  ...   \n",
       "8              NaN          27.0        15.43     26          NaN  ...   \n",
       "9             2.50           9.0        43.60      7          NaN  ...   \n",
       "10            2.67          12.0        20.30      3          NaN  ...   \n",
       "11             NaN           5.0        31.00      4        False  ...   \n",
       "12             NaN           5.0        30.00      5          NaN  ...   \n",
       "13            2.56           5.0        27.00      5          NaN  ...   \n",
       "14             NaN           6.0        17.00      1          NaN  ...   \n",
       "15             NaN          14.0        20.50      5          NaN  ...   \n",
       "16            3.05           5.0        55.60      1          NaN  ...   \n",
       "17             NaN          17.0        16.50      7          NaN  ...   \n",
       "18            2.50           5.0        19.40      2          NaN  ...   \n",
       "19            2.75          16.0        76.00      8          NaN  ...   \n",
       "\n",
       "    kitchen_area  balcony              locality_name  airports_nearest  \\\n",
       "0          25.00      NaN            Санкт-Петербург           18863.0   \n",
       "1          11.00      2.0             посёлок Шушары           12817.0   \n",
       "2           8.30      0.0            Санкт-Петербург           21741.0   \n",
       "3            NaN      0.0            Санкт-Петербург           28098.0   \n",
       "4          41.00      NaN            Санкт-Петербург           31856.0   \n",
       "5           9.10      NaN  городской посёлок Янино-1               NaN   \n",
       "6          14.40      1.0          посёлок Парголово           52996.0   \n",
       "7          18.90      2.0            Санкт-Петербург           23982.0   \n",
       "8           8.81      NaN             посёлок Мурино               NaN   \n",
       "9           6.50      2.0            Санкт-Петербург           50898.0   \n",
       "10          8.50      NaN            Санкт-Петербург           38357.0   \n",
       "11          6.00      1.0                  Ломоносов           48252.0   \n",
       "12          9.00      0.0                  Сертолово               NaN   \n",
       "13          5.20      1.0                   Петергоф           37868.0   \n",
       "14          8.00      0.0                     Пушкин           20782.0   \n",
       "15          7.60      1.0            Санкт-Петербург           12900.0   \n",
       "16          9.00      NaN            Санкт-Петербург           22108.0   \n",
       "17         11.00      1.0            Санкт-Петербург           33564.0   \n",
       "18          5.60      1.0            Санкт-Петербург           44060.0   \n",
       "19         12.00      NaN            Санкт-Петербург           38900.0   \n",
       "\n",
       "   cityCenters_nearest  parks_around3000  parks_nearest  ponds_around3000  \\\n",
       "0              16028.0               1.0          482.0               2.0   \n",
       "1              18603.0               0.0            NaN               0.0   \n",
       "2              13933.0               1.0           90.0               2.0   \n",
       "3               6800.0               2.0           84.0               3.0   \n",
       "4               8098.0               2.0          112.0               1.0   \n",
       "5                  NaN               NaN            NaN               NaN   \n",
       "6              19143.0               0.0            NaN               0.0   \n",
       "7              11634.0               0.0            NaN               0.0   \n",
       "8                  NaN               NaN            NaN               NaN   \n",
       "9              15008.0               0.0            NaN               0.0   \n",
       "10             13878.0               1.0          310.0               2.0   \n",
       "11             51677.0               0.0            NaN               0.0   \n",
       "12                 NaN               NaN            NaN               NaN   \n",
       "13             33058.0               1.0          294.0               3.0   \n",
       "14             30759.0               0.0            NaN               1.0   \n",
       "15             14259.0               1.0          590.0               1.0   \n",
       "16             10698.0               3.0          420.0               0.0   \n",
       "17             14616.0               0.0            NaN               1.0   \n",
       "18             10842.0               1.0          759.0               0.0   \n",
       "19             12843.0               0.0            NaN               0.0   \n",
       "\n",
       "    ponds_nearest  days_exposition  \n",
       "0           755.0              NaN  \n",
       "1             NaN             81.0  \n",
       "2           574.0            558.0  \n",
       "3           234.0            424.0  \n",
       "4            48.0            121.0  \n",
       "5             NaN             55.0  \n",
       "6             NaN            155.0  \n",
       "7             NaN              NaN  \n",
       "8             NaN            189.0  \n",
       "9             NaN            289.0  \n",
       "10          553.0            137.0  \n",
       "11            NaN              7.0  \n",
       "12            NaN             90.0  \n",
       "13          298.0            366.0  \n",
       "14           96.0            203.0  \n",
       "15          296.0             19.0  \n",
       "16            NaN            397.0  \n",
       "17          859.0            571.0  \n",
       "18            NaN            168.0  \n",
       "19            NaN             97.0  \n",
       "\n",
       "[20 rows x 22 columns]"
      ]
     },
     "execution_count": 210,
     "metadata": {},
     "output_type": "execute_result"
    }
   ],
   "source": [
    "#Выведем первые 20 строчек датафрейма на экран\n",
    "\n",
    "data.head(20)"
   ]
  },
  {
   "cell_type": "code",
   "execution_count": 211,
   "metadata": {},
   "outputs": [
    {
     "data": {
      "text/plain": [
       "array([[<AxesSubplot:title={'center':'total_images'}>,\n",
       "        <AxesSubplot:title={'center':'last_price'}>,\n",
       "        <AxesSubplot:title={'center':'total_area'}>,\n",
       "        <AxesSubplot:title={'center':'rooms'}>],\n",
       "       [<AxesSubplot:title={'center':'ceiling_height'}>,\n",
       "        <AxesSubplot:title={'center':'floors_total'}>,\n",
       "        <AxesSubplot:title={'center':'living_area'}>,\n",
       "        <AxesSubplot:title={'center':'floor'}>],\n",
       "       [<AxesSubplot:title={'center':'kitchen_area'}>,\n",
       "        <AxesSubplot:title={'center':'balcony'}>,\n",
       "        <AxesSubplot:title={'center':'airports_nearest'}>,\n",
       "        <AxesSubplot:title={'center':'cityCenters_nearest'}>],\n",
       "       [<AxesSubplot:title={'center':'parks_around3000'}>,\n",
       "        <AxesSubplot:title={'center':'parks_nearest'}>,\n",
       "        <AxesSubplot:title={'center':'ponds_around3000'}>,\n",
       "        <AxesSubplot:title={'center':'ponds_nearest'}>],\n",
       "       [<AxesSubplot:title={'center':'days_exposition'}>, <AxesSubplot:>,\n",
       "        <AxesSubplot:>, <AxesSubplot:>]], dtype=object)"
      ]
     },
     "execution_count": 211,
     "metadata": {},
     "output_type": "execute_result"
    },
    {
     "data": {
      "image/png": "[encoded data removed]",
      "text/plain": [
       "<Figure size 1080x1440 with 20 Axes>"
      ]
     },
     "metadata": {
      "needs_background": "light"
     },
     "output_type": "display_data"
    }
   ],
   "source": [
    "#Построим гистограмму для всех числовых столбцов таблицы на одном графике. \n",
    "\n",
    "data.hist(figsize=(15, 20))"
   ]
  },
  {
   "cell_type": "markdown",
   "metadata": {},
   "source": [
    "<div class=\"alert alert-success\">\n",
    "\n",
    "**✔️ Комментарий ревьюера ✔️**\n",
    "   \n",
    "   Хорошо. Гистограммы построены. \n",
    "\n",
    "</div>\n"
   ]
  },
  {
   "cell_type": "markdown",
   "metadata": {},
   "source": [
    "<div class=\"alert alert-danger\">\n",
    "\n",
    "**❌ Комментарий ревьюера ❌**\n",
    "   \n",
    "   Какие выводы по ним можно сделать?\n",
    "\n",
    "</div>\n"
   ]
  },
  {
   "cell_type": "markdown",
   "metadata": {},
   "source": [
    "<div class=\"alert alert-block alert-info\">\n",
    "    \n",
    "На первый взгляд распределения похожи на нормальные, на гистограмме по значениям высоты потолков, количеству балконов, жилой площади и последней стоимости квартиры, а также по значениям близости парков и водоемов видим много нулевых значений. Это может быть связано с пропусками в данных.\n",
    "<div class=\"alert alert-success\">\n",
    "\n",
    "**✔️ Комментарий ревьюера v2✔️**\n",
    "   \n",
    "   Действительно, по значениям осей ОY мы можем заметить, что в данных много пропусков\n",
    "\n",
    "</div>\n",
    "    \n",
    "</div>"
   ]
  },
  {
   "cell_type": "markdown",
   "metadata": {
    "id": "-O5NtivEAwb9"
   },
   "source": [
    "### Выполните предобработку данных"
   ]
  },
  {
   "cell_type": "code",
   "execution_count": 212,
   "metadata": {},
   "outputs": [
    {
     "data": {
      "text/plain": [
       "total_images                0\n",
       "last_price                  0\n",
       "total_area                  0\n",
       "first_day_exposition        0\n",
       "rooms                       0\n",
       "ceiling_height           9195\n",
       "floors_total               86\n",
       "living_area              1903\n",
       "floor                       0\n",
       "is_apartment            20924\n",
       "studio                      0\n",
       "open_plan                   0\n",
       "kitchen_area             2278\n",
       "balcony                 11519\n",
       "locality_name              49\n",
       "airports_nearest         5542\n",
       "cityCenters_nearest      5519\n",
       "parks_around3000         5518\n",
       "parks_nearest           15620\n",
       "ponds_around3000         5518\n",
       "ponds_nearest           14589\n",
       "days_exposition          3181\n",
       "dtype: int64"
      ]
     },
     "execution_count": 212,
     "metadata": {},
     "output_type": "execute_result"
    }
   ],
   "source": [
    "# Найдем количество пропусков в каждом столбце датафрейма\n",
    "\n",
    "data.isna().sum()"
   ]
  },
  {
   "cell_type": "code",
   "execution_count": 213,
   "metadata": {
    "id": "7v3vAeTuAwb-"
   },
   "outputs": [],
   "source": [
    "# Заполним пропуски в столбце 'balcony' на нули. \n",
    "\n",
    "data['balcony'] = data['balcony'].fillna(0)"
   ]
  },
  {
   "cell_type": "code",
   "execution_count": 214,
   "metadata": {},
   "outputs": [],
   "source": [
    "# Заполним пропуски в столбце 'is_apartment' на False. \n",
    "\n",
    "data['is_apartment'] = data['is_apartment'].fillna(False)"
   ]
  },
  {
   "cell_type": "code",
   "execution_count": 215,
   "metadata": {},
   "outputs": [],
   "source": [
    "# Заполним пропуски в столбце 'locality_name' на 'unknown'\n",
    "\n",
    "#data['locality_name'] = data['locality_name'].fillna('unknown')"
   ]
  },
  {
   "cell_type": "markdown",
   "metadata": {},
   "source": [
    "<div class=\"alert alert-danger\">\n",
    "\n",
    "**❌ Комментарий ревьюера ❌**\n",
    "   \n",
    "   В столбце locality_name крайне мало пропусков - мы можем удалить их, это не приведет к потере качества данных. Заполнять новым значением \"unknown\", которое не является названием населенного пункта не стоит, так как это может исказить дальнейший анализ\n",
    "\n",
    "</div>\n"
   ]
  },
  {
   "cell_type": "code",
   "execution_count": 216,
   "metadata": {},
   "outputs": [],
   "source": [
    "# Удалим строки с пропусками в столбце 'locality_name'\n",
    "\n",
    "data = data.dropna(subset=['locality_name'])"
   ]
  },
  {
   "cell_type": "markdown",
   "metadata": {},
   "source": [
    "<div class=\"alert alert-info\">\n",
    "\n",
    "Вместо замены значениями 'unknown' в пропусков в столбце locality_name, удалили эти строки\n",
    "<div class=\"alert alert-success\">\n",
    "\n",
    "**✔️ Комментарий ревьюера v2✔️**\n",
    "   \n",
    "   Хорошо👍\n",
    "\n",
    "</div>\n",
    "\n",
    "</div>"
   ]
  },
  {
   "cell_type": "code",
   "execution_count": 217,
   "metadata": {},
   "outputs": [],
   "source": [
    "# Удалим строки с пропусками в 'days_exposition'\n",
    "\n",
    "# data = data.dropna(subset=['days_exposition'])"
   ]
  },
  {
   "cell_type": "markdown",
   "metadata": {},
   "source": [
    "<div class=\"alert alert-danger\">\n",
    "\n",
    "**❌ Комментарий ревьюера ❌**\n",
    "   \n",
    "   В столбце days_exposition много пропусков - удаление приведет к тому, что мы потеряем данные по остальным параметрам - стоит оставить пропуски без изменений\n",
    "\n",
    "</div>\n"
   ]
  },
  {
   "cell_type": "markdown",
   "metadata": {},
   "source": [
    "<div class=\"alert alert-info\">\n",
    "\n",
    "Оставили строки с пропусками в 'days_exposition' без изменений\n",
    "<div class=\"alert alert-success\">\n",
    "\n",
    "**✔️ Комментарий ревьюера v2✔️**\n",
    "   \n",
    "   👍\n",
    "\n",
    "</div>\n",
    "\n",
    "</div>"
   ]
  },
  {
   "cell_type": "code",
   "execution_count": 218,
   "metadata": {},
   "outputs": [],
   "source": [
    "# Переименуем столбец 'cityCenters_nearest'\n",
    "\n",
    "data = data.rename(columns={'cityCenters_nearest': 'citycenters_nearest'})"
   ]
  },
  {
   "cell_type": "markdown",
   "metadata": {},
   "source": [
    "Найдены пропуски в 14 столбцах из 22. \n",
    "\n",
    "Причиной пропусков в столбцах с информацией о высоте потолков, количестве этажей в здании, метраже жилой площади и кухни можно считать человеческий фактор, собственники не посчитали важной эту информацию и пропустили ее при заполнении. При этом заполнены без пропусков важные смежные данные: этаж, на котором расположена квартира, общая площадь.\n",
    "\n",
    "Пропуски в столбце с информацией о типе квартиры: апартаменты или о количестве балконов может быть пропущено, если балконов нет, информацию об апартаментах могли пропустить так как не сочли ее важной.\n",
    "\n",
    "Есть вероятность, что пропуск в количестве дней размещения объявления до снятия был сделан намерено или же объявление не является настоящим - следовательно, квартира не была продана. \n",
    "\n",
    "Есть схожие по количеству пропуски в столбцах с информацией о близости ближайших парков и водоемов - так как данные получаются с карт, можно считать, что пропуск был сделан в связи с ошибкой в картах или же данные не были получены полностью. \n",
    "Такой же вывод можно сделать для пропусков в столбцах с информацией о близости центра города/аэропорта и количестве парков/водоемов в радиусе 3 км. "
   ]
  },
  {
   "cell_type": "markdown",
   "metadata": {},
   "source": [
    "<div class=\"alert alert-success\">\n",
    "\n",
    "**✔️ Комментарий ревьюера ✔️**\n",
    "   \n",
    "    Теория обработки пропусков хорошо изложена в статье: https://loginom.ru/blog/missing. Особенно хорошо описаны виды пропусков и их влияние на целесообразность и выбор способа заполнения.\n",
    "Действительно, решая аналитические задачи, заполнение пропусков может быть необязательно, если объем достоверных данных достаточен для выявления закономерностей, а риск изменить распределение данных существеннен. Не зря в задании просят: \"Заполните пропущенные значения там, где это возможно\". При ответе на вопросы исследования можно взять только достоверно известные значения, а пропуски проигнорировать, если надежного способа их заполнить нет. \n",
    "\n",
    "\n",
    "</div>\n"
   ]
  },
  {
   "cell_type": "code",
   "execution_count": 219,
   "metadata": {},
   "outputs": [],
   "source": [
    "# Изменим тип данных в столбце 'first_day_exposition'\n",
    "\n",
    "data['first_day_exposition'] = pd.to_datetime(data['first_day_exposition'], format='%Y-%m-%d')"
   ]
  },
  {
   "cell_type": "markdown",
   "metadata": {},
   "source": [
    "Тип данных в столбце 'дата публикации' поменяли на datetime, чтобы можно было провести операции со временем позже. "
   ]
  },
  {
   "cell_type": "code",
   "execution_count": 220,
   "metadata": {},
   "outputs": [
    {
     "data": {
      "text/plain": [
       "array(['Санкт-Петербург', 'посёлок Шушары', 'городской посёлок Янино-1',\n",
       "       'посёлок Парголово', 'посёлок Мурино', 'Ломоносов', 'Сертолово',\n",
       "       'Петергоф', 'Пушкин', 'деревня Кудрово', 'Коммунар', 'Колпино',\n",
       "       'поселок городского типа Красный Бор', 'Гатчина', 'поселок Мурино',\n",
       "       'деревня Фёдоровское', 'Выборг', 'Кронштадт', 'Кировск',\n",
       "       'деревня Новое Девяткино', 'посёлок Металлострой',\n",
       "       'посёлок городского типа Лебяжье',\n",
       "       'посёлок городского типа Сиверский', 'поселок Молодцово',\n",
       "       'поселок городского типа Кузьмоловский',\n",
       "       'садовое товарищество Новая Ропша', 'Павловск',\n",
       "       'деревня Пикколово', 'Всеволожск', 'Волхов', 'Кингисепп',\n",
       "       'Приозерск', 'Сестрорецк', 'деревня Куттузи', 'посёлок Аннино',\n",
       "       'поселок городского типа Ефимовский', 'посёлок Плодовое',\n",
       "       'деревня Заклинье', 'поселок Торковичи', 'поселок Первомайское',\n",
       "       'Красное Село', 'посёлок Понтонный', 'Сясьстрой', 'деревня Старая',\n",
       "       'деревня Лесколово', 'посёлок Новый Свет', 'Сланцы',\n",
       "       'село Путилово', 'Ивангород', 'Мурино', 'Шлиссельбург',\n",
       "       'Никольское', 'Зеленогорск', 'Сосновый Бор', 'поселок Новый Свет',\n",
       "       'деревня Оржицы', 'деревня Кальтино', 'Кудрово',\n",
       "       'поселок Романовка', 'посёлок Бугры', 'поселок Бугры',\n",
       "       'поселок городского типа Рощино', 'Кириши', 'Луга', 'Волосово',\n",
       "       'Отрадное', 'село Павлово', 'поселок Оредеж', 'село Копорье',\n",
       "       'посёлок городского типа Красный Бор', 'посёлок Молодёжное',\n",
       "       'Тихвин', 'посёлок Победа', 'деревня Нурма',\n",
       "       'поселок городского типа Синявино', 'Тосно',\n",
       "       'посёлок городского типа Кузьмоловский', 'посёлок Стрельна',\n",
       "       'Бокситогорск', 'посёлок Александровская', 'деревня Лопухинка',\n",
       "       'Пикалёво', 'поселок Терволово',\n",
       "       'поселок городского типа Советский', 'Подпорожье',\n",
       "       'посёлок Петровское', 'посёлок городского типа Токсово',\n",
       "       'поселок Сельцо', 'посёлок городского типа Вырица',\n",
       "       'деревня Кипень', 'деревня Келози', 'деревня Вартемяги',\n",
       "       'посёлок Тельмана', 'поселок Севастьяново',\n",
       "       'городской поселок Большая Ижора', 'городской посёлок Павлово',\n",
       "       'деревня Агалатово', 'посёлок Новогорелово',\n",
       "       'городской посёлок Лесогорский', 'деревня Лаголово',\n",
       "       'поселок Цвелодубово', 'поселок городского типа Рахья',\n",
       "       'поселок городского типа Вырица', 'деревня Белогорка',\n",
       "       'поселок Заводской', 'городской посёлок Новоселье',\n",
       "       'деревня Большие Колпаны', 'деревня Горбунки', 'деревня Батово',\n",
       "       'деревня Заневка', 'деревня Иссад', 'Приморск',\n",
       "       'городской посёлок Фёдоровское', 'деревня Мистолово',\n",
       "       'Новая Ладога', 'поселок Зимитицы', 'поселок Барышево',\n",
       "       'деревня Разметелево', 'поселок городского типа имени Свердлова',\n",
       "       'деревня Пеники', 'поселок Рябово', 'деревня Пудомяги',\n",
       "       'поселок станции Корнево', 'деревня Низино', 'деревня Бегуницы',\n",
       "       'посёлок Поляны', 'городской посёлок Мга', 'поселок Елизаветино',\n",
       "       'посёлок городского типа Кузнечное', 'деревня Колтуши',\n",
       "       'поселок Запорожское', 'посёлок городского типа Рощино',\n",
       "       'деревня Гостилицы', 'деревня Малое Карлино',\n",
       "       'посёлок Мичуринское', 'посёлок городского типа имени Морозова',\n",
       "       'посёлок Песочный', 'посёлок Сосново', 'деревня Аро',\n",
       "       'поселок Ильичёво', 'посёлок городского типа Тайцы',\n",
       "       'деревня Малое Верево', 'деревня Извара', 'поселок станции Вещево',\n",
       "       'село Паша', 'деревня Калитино',\n",
       "       'посёлок городского типа Ульяновка', 'деревня Чудской Бор',\n",
       "       'поселок городского типа Дубровка', 'деревня Мины',\n",
       "       'поселок Войсковицы', 'посёлок городского типа имени Свердлова',\n",
       "       'деревня Коркино', 'посёлок Ропша',\n",
       "       'поселок городского типа Приладожский', 'посёлок Щеглово',\n",
       "       'посёлок Гаврилово', 'Лодейное Поле', 'деревня Рабитицы',\n",
       "       'поселок городского типа Никольский', 'деревня Кузьмолово',\n",
       "       'деревня Малые Колпаны', 'поселок Тельмана',\n",
       "       'посёлок Петро-Славянка', 'городской посёлок Назия',\n",
       "       'посёлок Репино', 'посёлок Ильичёво', 'поселок Углово',\n",
       "       'поселок Старая Малукса', 'садовое товарищество Рахья',\n",
       "       'поселок Аннино', 'поселок Победа', 'деревня Меньково',\n",
       "       'деревня Старые Бегуницы', 'посёлок Сапёрный', 'поселок Семрино',\n",
       "       'поселок Гаврилово', 'поселок Глажево', 'поселок Кобринское',\n",
       "       'деревня Гарболово', 'деревня Юкки',\n",
       "       'поселок станции Приветнинское', 'деревня Мануйлово',\n",
       "       'деревня Пчева', 'поселок Поляны', 'поселок Цвылёво',\n",
       "       'поселок Мельниково', 'посёлок Пудость', 'посёлок Усть-Луга',\n",
       "       'Светогорск', 'Любань', 'поселок Селезнёво',\n",
       "       'поселок городского типа Рябово', 'Каменногорск', 'деревня Кривко',\n",
       "       'поселок Глебычево', 'деревня Парицы', 'поселок Жилпосёлок',\n",
       "       'посёлок городского типа Мга', 'городской поселок Янино-1',\n",
       "       'посёлок Войскорово', 'село Никольское', 'посёлок Терволово',\n",
       "       'поселок Стеклянный', 'посёлок городского типа Важины',\n",
       "       'посёлок Мыза-Ивановка', 'село Русско-Высоцкое',\n",
       "       'поселок городского типа Лебяжье',\n",
       "       'поселок городского типа Форносово', 'село Старая Ладога',\n",
       "       'поселок Житково', 'городской посёлок Виллози', 'деревня Лампово',\n",
       "       'деревня Шпаньково', 'деревня Лаврики', 'посёлок Сумино',\n",
       "       'посёлок Возрождение', 'деревня Старосиверская',\n",
       "       'посёлок Кикерино', 'поселок Возрождение',\n",
       "       'деревня Старое Хинколово', 'посёлок Пригородный',\n",
       "       'посёлок Торфяное', 'городской посёлок Будогощь',\n",
       "       'поселок Суходолье', 'поселок Красная Долина', 'деревня Хапо-Ое',\n",
       "       'поселок городского типа Дружная Горка', 'поселок Лисий Нос',\n",
       "       'деревня Яльгелево', 'посёлок Стеклянный', 'село Рождествено',\n",
       "       'деревня Старополье', 'посёлок Левашово', 'деревня Сяськелево',\n",
       "       'деревня Камышовка',\n",
       "       'садоводческое некоммерческое товарищество Лесная Поляна',\n",
       "       'деревня Хязельки', 'поселок Жилгородок',\n",
       "       'посёлок городского типа Павлово', 'деревня Ялгино',\n",
       "       'поселок Новый Учхоз', 'городской посёлок Рощино',\n",
       "       'поселок Гончарово', 'поселок Почап', 'посёлок Сапёрное',\n",
       "       'посёлок Платформа 69-й километр', 'поселок Каложицы',\n",
       "       'деревня Фалилеево', 'деревня Пельгора',\n",
       "       'поселок городского типа Лесогорский', 'деревня Торошковичи',\n",
       "       'посёлок Белоостров', 'посёлок Алексеевка', 'поселок Серебрянский',\n",
       "       'поселок Лукаши', 'поселок Петровское', 'деревня Щеглово',\n",
       "       'поселок Мичуринское', 'деревня Тарасово', 'поселок Кингисеппский',\n",
       "       'посёлок при железнодорожной станции Вещево', 'поселок Ушаки',\n",
       "       'деревня Котлы', 'деревня Сижно', 'деревня Торосово',\n",
       "       'посёлок Форт Красная Горка', 'поселок городского типа Токсово',\n",
       "       'деревня Новолисино', 'посёлок станции Громово', 'деревня Глинка',\n",
       "       'посёлок Мельниково', 'поселок городского типа Назия',\n",
       "       'деревня Старая Пустошь', 'поселок Коммунары', 'поселок Починок',\n",
       "       'посёлок городского типа Вознесенье', 'деревня Разбегаево',\n",
       "       'посёлок городского типа Рябово', 'поселок Гладкое',\n",
       "       'посёлок при железнодорожной станции Приветнинское',\n",
       "       'поселок Тёсово-4', 'посёлок Жилгородок', 'деревня Бор',\n",
       "       'посёлок Коробицыно', 'деревня Большая Вруда', 'деревня Курковицы',\n",
       "       'посёлок Лисий Нос', 'городской посёлок Советский',\n",
       "       'посёлок Кобралово', 'деревня Суоранда', 'поселок Кобралово',\n",
       "       'поселок городского типа Кондратьево',\n",
       "       'коттеджный поселок Счастье', 'поселок Любань', 'деревня Реброво',\n",
       "       'деревня Зимитицы', 'деревня Тойворово', 'поселок Семиозерье',\n",
       "       'поселок Лесное', 'поселок Совхозный', 'поселок Усть-Луга',\n",
       "       'посёлок Ленинское', 'посёлок Суйда',\n",
       "       'посёлок городского типа Форносово', 'деревня Нижние Осельки',\n",
       "       'посёлок станции Свирь', 'поселок Перово', 'Высоцк',\n",
       "       'поселок Гарболово', 'село Шум', 'поселок Котельский',\n",
       "       'поселок станции Лужайка', 'деревня Большая Пустомержа',\n",
       "       'поселок Красносельское', 'деревня Вахнова Кара', 'деревня Пижма',\n",
       "       'коттеджный поселок Кивеннапа Север', 'поселок Коробицыно',\n",
       "       'поселок Ромашки', 'посёлок Перово', 'деревня Каськово',\n",
       "       'деревня Куровицы', 'посёлок Плоское', 'поселок Сумино',\n",
       "       'поселок городского типа Большая Ижора', 'поселок Кирпичное',\n",
       "       'деревня Ям-Тесово', 'деревня Раздолье', 'деревня Терпилицы',\n",
       "       'посёлок Шугозеро', 'деревня Ваганово', 'поселок Пушное',\n",
       "       'садовое товарищество Садко', 'посёлок Усть-Ижора',\n",
       "       'деревня Выскатка', 'городской посёлок Свирьстрой',\n",
       "       'поселок Громово', 'деревня Кисельня', 'посёлок Старая Малукса',\n",
       "       'деревня Трубников Бор', 'поселок Калитино',\n",
       "       'посёлок Высокоключевой', 'садовое товарищество Приладожский',\n",
       "       'посёлок Пансионат Зелёный Бор', 'деревня Ненимяки',\n",
       "       'поселок Пансионат Зелёный Бор', 'деревня Снегирёвка',\n",
       "       'деревня Рапполово', 'деревня Пустынка', 'поселок Рабитицы',\n",
       "       'деревня Большой Сабск', 'деревня Русско', 'деревня Лупполово',\n",
       "       'деревня Большое Рейзино', 'деревня Малая Романовка',\n",
       "       'поселок Дружноселье', 'поселок Пчевжа', 'поселок Володарское',\n",
       "       'деревня Нижняя', 'коттеджный посёлок Лесное', 'деревня Тихковицы',\n",
       "       'деревня Борисова Грива', 'посёлок Дзержинского'], dtype=object)"
      ]
     },
     "execution_count": 220,
     "metadata": {},
     "output_type": "execute_result"
    }
   ],
   "source": [
    "# Найдем неявные дубликаты в столбце с названием района\n",
    "\n",
    "data['locality_name'].unique()"
   ]
  },
  {
   "cell_type": "code",
   "execution_count": 221,
   "metadata": {},
   "outputs": [
    {
     "data": {
      "text/plain": [
       "array(['Санкт-Петербург', 'Шушары', 'Янино-1', 'Парголово', 'Мурино',\n",
       "       'Ломоносов', 'Сертолово', 'Петергоф', 'Пушкин', 'Кудрово',\n",
       "       'Коммунар', 'Колпино', 'Красный Бор', 'Гатчина', 'Федоровское',\n",
       "       'Выборг', 'Кронштадт', 'Кировск', 'Новое Девяткино',\n",
       "       'Металлострой', 'Лебяжье', 'Сиверский', 'Молодцово',\n",
       "       'Кузьмоловский', 'Новая Ропша', 'Павловск', 'Пикколово',\n",
       "       'Всеволожск', 'Волхов', 'Кингисепп', 'Приозерск', 'Сестрорецк',\n",
       "       'Куттузи', 'Аннино', 'Ефимовский', 'Плодовое', 'Заклинье',\n",
       "       'Торковичи', 'Первомайское', 'Красное Село', 'Понтонный',\n",
       "       'Сясьстрой', 'Старая', 'Лесколово', 'Новый Свет', 'Сланцы',\n",
       "       'село Путилово', 'Ивангород', 'Шлиссельбург', 'Никольское',\n",
       "       'Зеленогорск', 'Сосновый Бор', 'Оржицы', 'Кальтино', 'Романовка',\n",
       "       'Бугры', 'Рощино', 'Кириши', 'Луга', 'Волосово', 'Отрадное',\n",
       "       'село Павлово', 'Оредеж', 'село Копорье', 'Молодежное', 'Тихвин',\n",
       "       'Победа', 'Нурма', 'Синявино', 'Тосно', 'Стрельна', 'Бокситогорск',\n",
       "       'Александровская', 'Лопухинка', 'Пикалево', 'Терволово',\n",
       "       'Советский', 'Подпорожье', 'Петровское', 'Токсово', 'Сельцо',\n",
       "       'Вырица', 'Кипень', 'Келози', 'Вартемяги', 'Тельмана',\n",
       "       'Севастьяново', 'Большая Ижора', 'Павлово', 'Агалатово',\n",
       "       'Новогорелово', 'Лесогорский', 'Лаголово', 'Цвелодубово', 'Рахья',\n",
       "       'Белогорка', 'Заводской', 'Новоселье', 'Большие Колпаны',\n",
       "       'Горбунки', 'Батово', 'Заневка', 'Иссад', 'Приморск', 'Мистолово',\n",
       "       'Новая Ладога', 'Зимитицы', 'Барышево', 'Разметелево',\n",
       "       'имени Свердлова', 'Пеники', 'Рябово', 'Пудомяги',\n",
       "       'станции Корнево', 'Низино', 'Бегуницы', 'Поляны', 'Мга',\n",
       "       'Елизаветино', 'Кузнечное', 'Колтуши', 'Запорожское', 'Гостилицы',\n",
       "       'Малое Карлино', 'Мичуринское', 'имени Морозова', 'Песочный',\n",
       "       'Сосново', 'Аро', 'Ильичево', 'Тайцы', 'Малое Верево', 'Извара',\n",
       "       'станции Вещево', 'село Паша', 'Калитино', 'Ульяновка',\n",
       "       'Чудской Бор', 'Дубровка', 'Мины', 'Войсковицы', 'Коркино',\n",
       "       'Ропша', 'Приладожский', 'Щеглово', 'Гаврилово', 'Лодейное Поле',\n",
       "       'Рабитицы', 'Никольский', 'Кузьмолово', 'Малые Колпаны',\n",
       "       'Петро-Славянка', 'Назия', 'Репино', 'Углово', 'Старая Малукса',\n",
       "       'Меньково', 'Старые Бегуницы', 'Саперный', 'Семрино', 'Глажево',\n",
       "       'Кобринское', 'Гарболово', 'Юкки', 'станции Приветнинское',\n",
       "       'Мануйлово', 'Пчева', 'Цвылево', 'Мельниково', 'Пудость',\n",
       "       'Усть-Луга', 'Светогорск', 'Любань', 'Селезнево', 'Каменногорск',\n",
       "       'Кривко', 'Глебычево', 'Парицы', 'Жилпоселок', 'Войскорово',\n",
       "       'село Никольское', 'Стеклянный', 'Важины', 'Мыза-Ивановка',\n",
       "       'село Русско-Высоцкое', 'Форносово', 'село Старая Ладога',\n",
       "       'Житково', 'Виллози', 'Лампово', 'Шпаньково', 'Лаврики', 'Сумино',\n",
       "       'Возрождение', 'Старосиверская', 'Кикерино', 'Старое Хинколово',\n",
       "       'Пригородный', 'Торфяное', 'Будогощь', 'Суходолье',\n",
       "       'Красная Долина', 'Хапо-Ое', 'Дружная Горка', 'Лисий Нос',\n",
       "       'Яльгелево', 'село Рождествено', 'Старополье', 'Левашово',\n",
       "       'Сяськелево', 'Камышовка', ' Лесная Поляна', 'Хязельки',\n",
       "       'Жилгородок', 'Ялгино', 'Новый Учхоз', 'Гончарово', 'Почап',\n",
       "       'Саперное', 'Платформа 69-й километр', 'Каложицы', 'Фалилеево',\n",
       "       'Пельгора', 'Торошковичи', 'Белоостров', 'Алексеевка',\n",
       "       'Серебрянский', 'Лукаши', 'Тарасово', 'Кингисеппский',\n",
       "       'при железнодорожной станции Вещево', 'Ушаки', 'Котлы', 'Сижно',\n",
       "       'Торосово', 'Форт Красная Горка', 'Новолисино', 'станции Громово',\n",
       "       'Глинка', 'Старая Пустошь', 'Коммунары', 'Починок', 'Вознесенье',\n",
       "       'Разбегаево', 'Гладкое',\n",
       "       'при железнодорожной станции Приветнинское', 'Тесово-4', 'Бор',\n",
       "       'Коробицыно', 'Большая Вруда', 'Курковицы', 'Кобралово',\n",
       "       'Суоранда', 'Кондратьево', 'Счастье', 'Реброво', 'Тойворово',\n",
       "       'Семиозерье', 'Лесное', 'Совхозный', 'Ленинское', 'Суйда',\n",
       "       'Нижние Осельки', 'станции Свирь', 'Перово', 'Высоцк', 'село Шум',\n",
       "       'Котельский', 'станции Лужайка', 'Большая Пустомержа',\n",
       "       'Красносельское', 'Вахнова Кара', 'Пижма', 'Кивеннапа Север',\n",
       "       'Ромашки', 'Каськово', 'Куровицы', 'Плоское', 'Кирпичное',\n",
       "       'Ям-Тесово', 'Раздолье', 'Терпилицы', 'Шугозеро', 'Ваганово',\n",
       "       'Пушное', 'Садко', 'Усть-Ижора', 'Выскатка', 'Свирьстрой',\n",
       "       'Громово', 'Кисельня', 'Трубников Бор', 'Высокоключевой',\n",
       "       'Пансионат Зеленый Бор', 'Ненимяки', 'Снегиревка', 'Рапполово',\n",
       "       'Пустынка', 'Большой Сабск', 'Русско', 'Лупполово',\n",
       "       'Большое Рейзино', 'Малая Романовка', 'Дружноселье', 'Пчевжа',\n",
       "       'Володарское', 'Нижняя', 'Тихковицы', 'Борисова Грива',\n",
       "       'Дзержинского'], dtype=object)"
      ]
     },
     "execution_count": 221,
     "metadata": {},
     "output_type": "execute_result"
    }
   ],
   "source": [
    "# Устраним неявные дубликаты в столбце с названием района\n",
    "\n",
    "data['locality_name'] = (\n",
    "    data['locality_name']\n",
    "    .str.replace('ё', 'е')\n",
    "    .replace(['поселок городского типа ', 'городской поселок ', 'деревня ', 'коттеджный поселок ', 'садовое товарищество ', 'поселок ', 'садоводческое некоммерческое товарищество'], '', regex=True)\n",
    "    .replace('село ', '')\n",
    ")\n",
    "\n",
    "# Проверим новый список значений\n",
    "\n",
    "data['locality_name'].unique()"
   ]
  },
  {
   "cell_type": "markdown",
   "metadata": {},
   "source": [
    "<div class=\"alert alert-success\">\n",
    "\n",
    "**✔️ Комментарий ревьюера ✔️**\n",
    "\n",
    "\n",
    "   Хорошая работа. Также рекомендую хорошую статью по предобработке, в ней есть интересные способы обработки неявных дубликатов: https://proglib.io/p/moem-dataset-rukovodstvo-po-ochistke-dannyh-v-python-2020-03-27 В пункте 8 есть интересная информация о работе с опечатками в названиях населенных пунктов\n",
    "\n",
    "</div>\n"
   ]
  },
  {
   "cell_type": "markdown",
   "metadata": {
    "id": "QCcvyY6YAwb-"
   },
   "source": [
    "### Добавьте в таблицу новые столбцы"
   ]
  },
  {
   "cell_type": "code",
   "execution_count": 222,
   "metadata": {
    "id": "Z8eJek3IAwb-"
   },
   "outputs": [],
   "source": [
    "# Добавим новый столбец с ценой одного квадратного метра \n",
    "data['area_unit_price'] = round(data['last_price'] / data['total_area'], 2)\n",
    "\n",
    "# Добавим новый столбец с днем недели публикации объявления (0 — понедельник, 1 — вторник и так далее)\n",
    "data['exposition_weekday'] = data['first_day_exposition'].dt.weekday\n",
    "\n",
    "# Добавим новый столбец с месяцем публикации объявления\n",
    "data['exposition_month'] = data['first_day_exposition'].dt.month\n",
    "\n",
    "# Добавим новый столбец с годом публикации объявления\n",
    "data['exposition_year'] = data['first_day_exposition'].dt.year\n",
    "\n",
    "# Добавим новый столбец с расстоянием до центра города в километрах\n",
    "data['city_center_km'] = round(data['citycenters_nearest'] / 1000, 0)"
   ]
  },
  {
   "cell_type": "code",
   "execution_count": 223,
   "metadata": {},
   "outputs": [],
   "source": [
    "# Добавим новый столбец с типом этажа квартиры (значения — «первый», «последний», «другой»)\n",
    "# Для этого используем собственную функцию categorize_floors\n",
    "\n",
    "def categorize_floors(floor, floor_total):\n",
    "    if floor == floor_total:\n",
    "        return 'последний'\n",
    "    elif floor == 1:\n",
    "        return'первый'\n",
    "    else:\n",
    "         return 'другой'\n",
    "        \n",
    "data['floor_type'] = data.apply(lambda row: categorize_floors(row['floor'], row['floors_total']), axis=1)"
   ]
  },
  {
   "cell_type": "code",
   "execution_count": 224,
   "metadata": {},
   "outputs": [
    {
     "data": {
      "text/html": [
       "<div>\n",
       "<style scoped>\n",
       "    .dataframe tbody tr th:only-of-type {\n",
       "        vertical-align: middle;\n",
       "    }\n",
       "\n",
       "    .dataframe tbody tr th {\n",
       "        vertical-align: top;\n",
       "    }\n",
       "\n",
       "    .dataframe thead th {\n",
       "        text-align: right;\n",
       "    }\n",
       "</style>\n",
       "<table border=\"1\" class=\"dataframe\">\n",
       "  <thead>\n",
       "    <tr style=\"text-align: right;\">\n",
       "      <th></th>\n",
       "      <th>total_images</th>\n",
       "      <th>last_price</th>\n",
       "      <th>total_area</th>\n",
       "      <th>first_day_exposition</th>\n",
       "      <th>rooms</th>\n",
       "      <th>ceiling_height</th>\n",
       "      <th>floors_total</th>\n",
       "      <th>living_area</th>\n",
       "      <th>floor</th>\n",
       "      <th>is_apartment</th>\n",
       "      <th>...</th>\n",
       "      <th>parks_nearest</th>\n",
       "      <th>ponds_around3000</th>\n",
       "      <th>ponds_nearest</th>\n",
       "      <th>days_exposition</th>\n",
       "      <th>area_unit_price</th>\n",
       "      <th>exposition_weekday</th>\n",
       "      <th>exposition_month</th>\n",
       "      <th>exposition_year</th>\n",
       "      <th>city_center_km</th>\n",
       "      <th>floor_type</th>\n",
       "    </tr>\n",
       "  </thead>\n",
       "  <tbody>\n",
       "    <tr>\n",
       "      <th>0</th>\n",
       "      <td>20</td>\n",
       "      <td>13000000.0</td>\n",
       "      <td>108.00</td>\n",
       "      <td>2019-03-07</td>\n",
       "      <td>3</td>\n",
       "      <td>2.70</td>\n",
       "      <td>16.0</td>\n",
       "      <td>51.00</td>\n",
       "      <td>8</td>\n",
       "      <td>False</td>\n",
       "      <td>...</td>\n",
       "      <td>482.0</td>\n",
       "      <td>2.0</td>\n",
       "      <td>755.0</td>\n",
       "      <td>NaN</td>\n",
       "      <td>120370.37</td>\n",
       "      <td>3</td>\n",
       "      <td>3</td>\n",
       "      <td>2019</td>\n",
       "      <td>16.0</td>\n",
       "      <td>другой</td>\n",
       "    </tr>\n",
       "    <tr>\n",
       "      <th>1</th>\n",
       "      <td>7</td>\n",
       "      <td>3350000.0</td>\n",
       "      <td>40.40</td>\n",
       "      <td>2018-12-04</td>\n",
       "      <td>1</td>\n",
       "      <td>NaN</td>\n",
       "      <td>11.0</td>\n",
       "      <td>18.60</td>\n",
       "      <td>1</td>\n",
       "      <td>False</td>\n",
       "      <td>...</td>\n",
       "      <td>NaN</td>\n",
       "      <td>0.0</td>\n",
       "      <td>NaN</td>\n",
       "      <td>81.0</td>\n",
       "      <td>82920.79</td>\n",
       "      <td>1</td>\n",
       "      <td>12</td>\n",
       "      <td>2018</td>\n",
       "      <td>19.0</td>\n",
       "      <td>первый</td>\n",
       "    </tr>\n",
       "    <tr>\n",
       "      <th>2</th>\n",
       "      <td>10</td>\n",
       "      <td>5196000.0</td>\n",
       "      <td>56.00</td>\n",
       "      <td>2015-08-20</td>\n",
       "      <td>2</td>\n",
       "      <td>NaN</td>\n",
       "      <td>5.0</td>\n",
       "      <td>34.30</td>\n",
       "      <td>4</td>\n",
       "      <td>False</td>\n",
       "      <td>...</td>\n",
       "      <td>90.0</td>\n",
       "      <td>2.0</td>\n",
       "      <td>574.0</td>\n",
       "      <td>558.0</td>\n",
       "      <td>92785.71</td>\n",
       "      <td>3</td>\n",
       "      <td>8</td>\n",
       "      <td>2015</td>\n",
       "      <td>14.0</td>\n",
       "      <td>другой</td>\n",
       "    </tr>\n",
       "    <tr>\n",
       "      <th>3</th>\n",
       "      <td>0</td>\n",
       "      <td>64900000.0</td>\n",
       "      <td>159.00</td>\n",
       "      <td>2015-07-24</td>\n",
       "      <td>3</td>\n",
       "      <td>NaN</td>\n",
       "      <td>14.0</td>\n",
       "      <td>NaN</td>\n",
       "      <td>9</td>\n",
       "      <td>False</td>\n",
       "      <td>...</td>\n",
       "      <td>84.0</td>\n",
       "      <td>3.0</td>\n",
       "      <td>234.0</td>\n",
       "      <td>424.0</td>\n",
       "      <td>408176.10</td>\n",
       "      <td>4</td>\n",
       "      <td>7</td>\n",
       "      <td>2015</td>\n",
       "      <td>7.0</td>\n",
       "      <td>другой</td>\n",
       "    </tr>\n",
       "    <tr>\n",
       "      <th>4</th>\n",
       "      <td>2</td>\n",
       "      <td>10000000.0</td>\n",
       "      <td>100.00</td>\n",
       "      <td>2018-06-19</td>\n",
       "      <td>2</td>\n",
       "      <td>3.03</td>\n",
       "      <td>14.0</td>\n",
       "      <td>32.00</td>\n",
       "      <td>13</td>\n",
       "      <td>False</td>\n",
       "      <td>...</td>\n",
       "      <td>112.0</td>\n",
       "      <td>1.0</td>\n",
       "      <td>48.0</td>\n",
       "      <td>121.0</td>\n",
       "      <td>100000.00</td>\n",
       "      <td>1</td>\n",
       "      <td>6</td>\n",
       "      <td>2018</td>\n",
       "      <td>8.0</td>\n",
       "      <td>другой</td>\n",
       "    </tr>\n",
       "    <tr>\n",
       "      <th>5</th>\n",
       "      <td>10</td>\n",
       "      <td>2890000.0</td>\n",
       "      <td>30.40</td>\n",
       "      <td>2018-09-10</td>\n",
       "      <td>1</td>\n",
       "      <td>NaN</td>\n",
       "      <td>12.0</td>\n",
       "      <td>14.40</td>\n",
       "      <td>5</td>\n",
       "      <td>False</td>\n",
       "      <td>...</td>\n",
       "      <td>NaN</td>\n",
       "      <td>NaN</td>\n",
       "      <td>NaN</td>\n",
       "      <td>55.0</td>\n",
       "      <td>95065.79</td>\n",
       "      <td>0</td>\n",
       "      <td>9</td>\n",
       "      <td>2018</td>\n",
       "      <td>NaN</td>\n",
       "      <td>другой</td>\n",
       "    </tr>\n",
       "    <tr>\n",
       "      <th>6</th>\n",
       "      <td>6</td>\n",
       "      <td>3700000.0</td>\n",
       "      <td>37.30</td>\n",
       "      <td>2017-11-02</td>\n",
       "      <td>1</td>\n",
       "      <td>NaN</td>\n",
       "      <td>26.0</td>\n",
       "      <td>10.60</td>\n",
       "      <td>6</td>\n",
       "      <td>False</td>\n",
       "      <td>...</td>\n",
       "      <td>NaN</td>\n",
       "      <td>0.0</td>\n",
       "      <td>NaN</td>\n",
       "      <td>155.0</td>\n",
       "      <td>99195.71</td>\n",
       "      <td>3</td>\n",
       "      <td>11</td>\n",
       "      <td>2017</td>\n",
       "      <td>19.0</td>\n",
       "      <td>другой</td>\n",
       "    </tr>\n",
       "    <tr>\n",
       "      <th>7</th>\n",
       "      <td>5</td>\n",
       "      <td>7915000.0</td>\n",
       "      <td>71.60</td>\n",
       "      <td>2019-04-18</td>\n",
       "      <td>2</td>\n",
       "      <td>NaN</td>\n",
       "      <td>24.0</td>\n",
       "      <td>NaN</td>\n",
       "      <td>22</td>\n",
       "      <td>False</td>\n",
       "      <td>...</td>\n",
       "      <td>NaN</td>\n",
       "      <td>0.0</td>\n",
       "      <td>NaN</td>\n",
       "      <td>NaN</td>\n",
       "      <td>110544.69</td>\n",
       "      <td>3</td>\n",
       "      <td>4</td>\n",
       "      <td>2019</td>\n",
       "      <td>12.0</td>\n",
       "      <td>другой</td>\n",
       "    </tr>\n",
       "    <tr>\n",
       "      <th>8</th>\n",
       "      <td>20</td>\n",
       "      <td>2900000.0</td>\n",
       "      <td>33.16</td>\n",
       "      <td>2018-05-23</td>\n",
       "      <td>1</td>\n",
       "      <td>NaN</td>\n",
       "      <td>27.0</td>\n",
       "      <td>15.43</td>\n",
       "      <td>26</td>\n",
       "      <td>False</td>\n",
       "      <td>...</td>\n",
       "      <td>NaN</td>\n",
       "      <td>NaN</td>\n",
       "      <td>NaN</td>\n",
       "      <td>189.0</td>\n",
       "      <td>87454.76</td>\n",
       "      <td>2</td>\n",
       "      <td>5</td>\n",
       "      <td>2018</td>\n",
       "      <td>NaN</td>\n",
       "      <td>другой</td>\n",
       "    </tr>\n",
       "    <tr>\n",
       "      <th>9</th>\n",
       "      <td>18</td>\n",
       "      <td>5400000.0</td>\n",
       "      <td>61.00</td>\n",
       "      <td>2017-02-26</td>\n",
       "      <td>3</td>\n",
       "      <td>2.50</td>\n",
       "      <td>9.0</td>\n",
       "      <td>43.60</td>\n",
       "      <td>7</td>\n",
       "      <td>False</td>\n",
       "      <td>...</td>\n",
       "      <td>NaN</td>\n",
       "      <td>0.0</td>\n",
       "      <td>NaN</td>\n",
       "      <td>289.0</td>\n",
       "      <td>88524.59</td>\n",
       "      <td>6</td>\n",
       "      <td>2</td>\n",
       "      <td>2017</td>\n",
       "      <td>15.0</td>\n",
       "      <td>другой</td>\n",
       "    </tr>\n",
       "  </tbody>\n",
       "</table>\n",
       "<p>10 rows × 28 columns</p>\n",
       "</div>"
      ],
      "text/plain": [
       "   total_images  last_price  total_area first_day_exposition  rooms  \\\n",
       "0            20  13000000.0      108.00           2019-03-07      3   \n",
       "1             7   3350000.0       40.40           2018-12-04      1   \n",
       "2            10   5196000.0       56.00           2015-08-20      2   \n",
       "3             0  64900000.0      159.00           2015-07-24      3   \n",
       "4             2  10000000.0      100.00           2018-06-19      2   \n",
       "5            10   2890000.0       30.40           2018-09-10      1   \n",
       "6             6   3700000.0       37.30           2017-11-02      1   \n",
       "7             5   7915000.0       71.60           2019-04-18      2   \n",
       "8            20   2900000.0       33.16           2018-05-23      1   \n",
       "9            18   5400000.0       61.00           2017-02-26      3   \n",
       "\n",
       "   ceiling_height  floors_total  living_area  floor  is_apartment  ...  \\\n",
       "0            2.70          16.0        51.00      8         False  ...   \n",
       "1             NaN          11.0        18.60      1         False  ...   \n",
       "2             NaN           5.0        34.30      4         False  ...   \n",
       "3             NaN          14.0          NaN      9         False  ...   \n",
       "4            3.03          14.0        32.00     13         False  ...   \n",
       "5             NaN          12.0        14.40      5         False  ...   \n",
       "6             NaN          26.0        10.60      6         False  ...   \n",
       "7             NaN          24.0          NaN     22         False  ...   \n",
       "8             NaN          27.0        15.43     26         False  ...   \n",
       "9            2.50           9.0        43.60      7         False  ...   \n",
       "\n",
       "   parks_nearest  ponds_around3000  ponds_nearest  days_exposition  \\\n",
       "0          482.0               2.0          755.0              NaN   \n",
       "1            NaN               0.0            NaN             81.0   \n",
       "2           90.0               2.0          574.0            558.0   \n",
       "3           84.0               3.0          234.0            424.0   \n",
       "4          112.0               1.0           48.0            121.0   \n",
       "5            NaN               NaN            NaN             55.0   \n",
       "6            NaN               0.0            NaN            155.0   \n",
       "7            NaN               0.0            NaN              NaN   \n",
       "8            NaN               NaN            NaN            189.0   \n",
       "9            NaN               0.0            NaN            289.0   \n",
       "\n",
       "  area_unit_price  exposition_weekday  exposition_month  exposition_year  \\\n",
       "0       120370.37                   3                 3             2019   \n",
       "1        82920.79                   1                12             2018   \n",
       "2        92785.71                   3                 8             2015   \n",
       "3       408176.10                   4                 7             2015   \n",
       "4       100000.00                   1                 6             2018   \n",
       "5        95065.79                   0                 9             2018   \n",
       "6        99195.71                   3                11             2017   \n",
       "7       110544.69                   3                 4             2019   \n",
       "8        87454.76                   2                 5             2018   \n",
       "9        88524.59                   6                 2             2017   \n",
       "\n",
       "   city_center_km  floor_type  \n",
       "0            16.0      другой  \n",
       "1            19.0      первый  \n",
       "2            14.0      другой  \n",
       "3             7.0      другой  \n",
       "4             8.0      другой  \n",
       "5             NaN      другой  \n",
       "6            19.0      другой  \n",
       "7            12.0      другой  \n",
       "8             NaN      другой  \n",
       "9            15.0      другой  \n",
       "\n",
       "[10 rows x 28 columns]"
      ]
     },
     "execution_count": 224,
     "metadata": {},
     "output_type": "execute_result"
    }
   ],
   "source": [
    "# Выведем 10 строк измененного датасета\n",
    "\n",
    "data.head(10)"
   ]
  },
  {
   "cell_type": "markdown",
   "metadata": {},
   "source": [
    "<div class=\"alert alert-danger\">\n",
    "\n",
    "**❌ Комментарий ревьюера ❌**\n",
    "   \n",
    "   Стоит вывести несколько строк измененного датасета\n",
    "\n",
    "</div>\n"
   ]
  },
  {
   "cell_type": "markdown",
   "metadata": {},
   "source": [
    "<div class=\"alert alert-info\">\n",
    "\n",
    "Добавили вывод измененного датасета. Все добавленные столбцы отражены в таблице  \n",
    "<div class=\"alert alert-success\">\n",
    "\n",
    "**✔️ Комментарий ревьюера v2✔️**\n",
    "   \n",
    "   Теперь мы уверены, что изменения внесены👍\n",
    "\n",
    "</div>\n",
    "\n",
    "</div>"
   ]
  },
  {
   "cell_type": "markdown",
   "metadata": {
    "id": "pPyxrKWTAwb-"
   },
   "source": [
    "### Проведите исследовательский анализ данных"
   ]
  },
  {
   "cell_type": "code",
   "execution_count": 225,
   "metadata": {},
   "outputs": [
    {
     "name": "stdout",
     "output_type": "stream",
     "text": [
      "count    23650.000000\n",
      "mean        60.329069\n",
      "std         35.661808\n",
      "min         12.000000\n",
      "25%         40.000000\n",
      "50%         52.000000\n",
      "75%         69.700000\n",
      "max        900.000000\n",
      "Name: total_area, dtype: float64\n"
     ]
    },
    {
     "data": {
      "text/plain": [
       "<AxesSubplot:>"
      ]
     },
     "execution_count": 225,
     "metadata": {},
     "output_type": "execute_result"
    },
    {
     "data": {
      "image/png": "[encoded data removed]",
      "text/plain": [
       "<Figure size 432x288 with 1 Axes>"
      ]
     },
     "metadata": {
      "needs_background": "light"
     },
     "output_type": "display_data"
    }
   ],
   "source": [
    "#Построим гистограмму по значениям столбца с общим метражом квартиры\n",
    "\n",
    "print(data['total_area'].describe())\n",
    "\n",
    "data['total_area'].hist(bins=100, range=(0, 500))\n"
   ]
  },
  {
   "cell_type": "code",
   "execution_count": 226,
   "metadata": {},
   "outputs": [],
   "source": [
    "#Отфильтруем редкие значения с площадью квартир свыше 300 квадратных метров. \n",
    "\n",
    "data_filtered = data.query('total_area < 300')"
   ]
  },
  {
   "cell_type": "markdown",
   "metadata": {},
   "source": [
    "Распределение на графике похоже на нормальное. Но есть неровности, медианное значение не сильно отличается от среднего арифметического, есть небольшое количество аномальных значений. \n",
    "Большая часть выборки состоит из квартир с общей площадью 30-60 квадратных метров. Аномальными можно считать значения свыше 300 квадратных метров.  "
   ]
  },
  {
   "cell_type": "code",
   "execution_count": 227,
   "metadata": {
    "scrolled": false
   },
   "outputs": [
    {
     "name": "stdout",
     "output_type": "stream",
     "text": [
      "count    21702.000000\n",
      "mean        34.013249\n",
      "std         19.826907\n",
      "min          2.000000\n",
      "25%         18.600000\n",
      "50%         30.000000\n",
      "75%         42.200000\n",
      "max        250.000000\n",
      "Name: living_area, dtype: float64\n"
     ]
    },
    {
     "data": {
      "text/plain": [
       "<AxesSubplot:>"
      ]
     },
     "execution_count": 227,
     "metadata": {},
     "output_type": "execute_result"
    },
    {
     "data": {
      "image/png": "[encoded data removed]",
      "text/plain": [
       "<Figure size 432x288 with 1 Axes>"
      ]
     },
     "metadata": {
      "needs_background": "light"
     },
     "output_type": "display_data"
    }
   ],
   "source": [
    "#Построим гистограмму по значениям столбца с метражом жилой площади\n",
    "\n",
    "print(data_filtered['living_area'].describe())\n",
    "\n",
    "data_filtered['living_area'].hist(bins=100, range=(0, 300))"
   ]
  },
  {
   "cell_type": "code",
   "execution_count": 228,
   "metadata": {
    "scrolled": true
   },
   "outputs": [
    {
     "name": "stdout",
     "output_type": "stream",
     "text": [
      "count    21702.000000\n",
      "mean        34.013249\n",
      "std         19.826907\n",
      "min          2.000000\n",
      "25%         18.600000\n",
      "50%         30.000000\n",
      "75%         42.200000\n",
      "max        250.000000\n",
      "Name: living_area, dtype: float64\n"
     ]
    },
    {
     "data": {
      "text/html": [
       "<div>\n",
       "<style scoped>\n",
       "    .dataframe tbody tr th:only-of-type {\n",
       "        vertical-align: middle;\n",
       "    }\n",
       "\n",
       "    .dataframe tbody tr th {\n",
       "        vertical-align: top;\n",
       "    }\n",
       "\n",
       "    .dataframe thead th {\n",
       "        text-align: right;\n",
       "    }\n",
       "</style>\n",
       "<table border=\"1\" class=\"dataframe\">\n",
       "  <thead>\n",
       "    <tr style=\"text-align: right;\">\n",
       "      <th></th>\n",
       "      <th>total_images</th>\n",
       "      <th>last_price</th>\n",
       "      <th>total_area</th>\n",
       "      <th>first_day_exposition</th>\n",
       "      <th>rooms</th>\n",
       "      <th>ceiling_height</th>\n",
       "      <th>floors_total</th>\n",
       "      <th>living_area</th>\n",
       "      <th>floor</th>\n",
       "      <th>is_apartment</th>\n",
       "      <th>...</th>\n",
       "      <th>parks_nearest</th>\n",
       "      <th>ponds_around3000</th>\n",
       "      <th>ponds_nearest</th>\n",
       "      <th>days_exposition</th>\n",
       "      <th>area_unit_price</th>\n",
       "      <th>exposition_weekday</th>\n",
       "      <th>exposition_month</th>\n",
       "      <th>exposition_year</th>\n",
       "      <th>city_center_km</th>\n",
       "      <th>floor_type</th>\n",
       "    </tr>\n",
       "  </thead>\n",
       "  <tbody>\n",
       "    <tr>\n",
       "      <th>13915</th>\n",
       "      <td>20</td>\n",
       "      <td>6350000.0</td>\n",
       "      <td>52.00</td>\n",
       "      <td>2018-02-06</td>\n",
       "      <td>2</td>\n",
       "      <td>3.0</td>\n",
       "      <td>6.0</td>\n",
       "      <td>2.00</td>\n",
       "      <td>2</td>\n",
       "      <td>False</td>\n",
       "      <td>...</td>\n",
       "      <td>NaN</td>\n",
       "      <td>1.0</td>\n",
       "      <td>1012.0</td>\n",
       "      <td>91.0</td>\n",
       "      <td>122115.38</td>\n",
       "      <td>1</td>\n",
       "      <td>2</td>\n",
       "      <td>2018</td>\n",
       "      <td>7.0</td>\n",
       "      <td>другой</td>\n",
       "    </tr>\n",
       "    <tr>\n",
       "      <th>21758</th>\n",
       "      <td>0</td>\n",
       "      <td>2330000.0</td>\n",
       "      <td>23.00</td>\n",
       "      <td>2018-01-01</td>\n",
       "      <td>0</td>\n",
       "      <td>NaN</td>\n",
       "      <td>24.0</td>\n",
       "      <td>2.00</td>\n",
       "      <td>22</td>\n",
       "      <td>False</td>\n",
       "      <td>...</td>\n",
       "      <td>NaN</td>\n",
       "      <td>NaN</td>\n",
       "      <td>NaN</td>\n",
       "      <td>66.0</td>\n",
       "      <td>101304.35</td>\n",
       "      <td>0</td>\n",
       "      <td>1</td>\n",
       "      <td>2018</td>\n",
       "      <td>NaN</td>\n",
       "      <td>другой</td>\n",
       "    </tr>\n",
       "    <tr>\n",
       "      <th>23574</th>\n",
       "      <td>14</td>\n",
       "      <td>64990000.0</td>\n",
       "      <td>139.00</td>\n",
       "      <td>2015-11-24</td>\n",
       "      <td>3</td>\n",
       "      <td>3.0</td>\n",
       "      <td>8.0</td>\n",
       "      <td>3.00</td>\n",
       "      <td>8</td>\n",
       "      <td>False</td>\n",
       "      <td>...</td>\n",
       "      <td>630.0</td>\n",
       "      <td>3.0</td>\n",
       "      <td>100.0</td>\n",
       "      <td>280.0</td>\n",
       "      <td>467553.96</td>\n",
       "      <td>1</td>\n",
       "      <td>11</td>\n",
       "      <td>2015</td>\n",
       "      <td>6.0</td>\n",
       "      <td>последний</td>\n",
       "    </tr>\n",
       "    <tr>\n",
       "      <th>3242</th>\n",
       "      <td>7</td>\n",
       "      <td>4440000.0</td>\n",
       "      <td>41.00</td>\n",
       "      <td>2017-07-02</td>\n",
       "      <td>1</td>\n",
       "      <td>NaN</td>\n",
       "      <td>17.0</td>\n",
       "      <td>3.00</td>\n",
       "      <td>17</td>\n",
       "      <td>False</td>\n",
       "      <td>...</td>\n",
       "      <td>NaN</td>\n",
       "      <td>0.0</td>\n",
       "      <td>NaN</td>\n",
       "      <td>216.0</td>\n",
       "      <td>108292.68</td>\n",
       "      <td>6</td>\n",
       "      <td>7</td>\n",
       "      <td>2017</td>\n",
       "      <td>13.0</td>\n",
       "      <td>последний</td>\n",
       "    </tr>\n",
       "    <tr>\n",
       "      <th>17582</th>\n",
       "      <td>11</td>\n",
       "      <td>2680000.0</td>\n",
       "      <td>22.00</td>\n",
       "      <td>2018-08-11</td>\n",
       "      <td>0</td>\n",
       "      <td>NaN</td>\n",
       "      <td>25.0</td>\n",
       "      <td>5.00</td>\n",
       "      <td>8</td>\n",
       "      <td>False</td>\n",
       "      <td>...</td>\n",
       "      <td>835.0</td>\n",
       "      <td>1.0</td>\n",
       "      <td>652.0</td>\n",
       "      <td>70.0</td>\n",
       "      <td>121818.18</td>\n",
       "      <td>5</td>\n",
       "      <td>8</td>\n",
       "      <td>2018</td>\n",
       "      <td>12.0</td>\n",
       "      <td>другой</td>\n",
       "    </tr>\n",
       "    <tr>\n",
       "      <th>...</th>\n",
       "      <td>...</td>\n",
       "      <td>...</td>\n",
       "      <td>...</td>\n",
       "      <td>...</td>\n",
       "      <td>...</td>\n",
       "      <td>...</td>\n",
       "      <td>...</td>\n",
       "      <td>...</td>\n",
       "      <td>...</td>\n",
       "      <td>...</td>\n",
       "      <td>...</td>\n",
       "      <td>...</td>\n",
       "      <td>...</td>\n",
       "      <td>...</td>\n",
       "      <td>...</td>\n",
       "      <td>...</td>\n",
       "      <td>...</td>\n",
       "      <td>...</td>\n",
       "      <td>...</td>\n",
       "      <td>...</td>\n",
       "      <td>...</td>\n",
       "    </tr>\n",
       "    <tr>\n",
       "      <th>22623</th>\n",
       "      <td>8</td>\n",
       "      <td>3100000.0</td>\n",
       "      <td>61.00</td>\n",
       "      <td>2018-04-03</td>\n",
       "      <td>4</td>\n",
       "      <td>2.6</td>\n",
       "      <td>5.0</td>\n",
       "      <td>44.90</td>\n",
       "      <td>4</td>\n",
       "      <td>False</td>\n",
       "      <td>...</td>\n",
       "      <td>NaN</td>\n",
       "      <td>NaN</td>\n",
       "      <td>NaN</td>\n",
       "      <td>57.0</td>\n",
       "      <td>50819.67</td>\n",
       "      <td>1</td>\n",
       "      <td>4</td>\n",
       "      <td>2018</td>\n",
       "      <td>NaN</td>\n",
       "      <td>другой</td>\n",
       "    </tr>\n",
       "    <tr>\n",
       "      <th>14863</th>\n",
       "      <td>10</td>\n",
       "      <td>5600000.0</td>\n",
       "      <td>72.00</td>\n",
       "      <td>2018-03-13</td>\n",
       "      <td>3</td>\n",
       "      <td>NaN</td>\n",
       "      <td>17.0</td>\n",
       "      <td>44.90</td>\n",
       "      <td>8</td>\n",
       "      <td>False</td>\n",
       "      <td>...</td>\n",
       "      <td>NaN</td>\n",
       "      <td>NaN</td>\n",
       "      <td>NaN</td>\n",
       "      <td>264.0</td>\n",
       "      <td>77777.78</td>\n",
       "      <td>1</td>\n",
       "      <td>3</td>\n",
       "      <td>2018</td>\n",
       "      <td>NaN</td>\n",
       "      <td>другой</td>\n",
       "    </tr>\n",
       "    <tr>\n",
       "      <th>11281</th>\n",
       "      <td>13</td>\n",
       "      <td>2590000.0</td>\n",
       "      <td>61.30</td>\n",
       "      <td>2015-05-08</td>\n",
       "      <td>4</td>\n",
       "      <td>NaN</td>\n",
       "      <td>5.0</td>\n",
       "      <td>44.91</td>\n",
       "      <td>1</td>\n",
       "      <td>False</td>\n",
       "      <td>...</td>\n",
       "      <td>NaN</td>\n",
       "      <td>NaN</td>\n",
       "      <td>NaN</td>\n",
       "      <td>NaN</td>\n",
       "      <td>42251.22</td>\n",
       "      <td>4</td>\n",
       "      <td>5</td>\n",
       "      <td>2015</td>\n",
       "      <td>NaN</td>\n",
       "      <td>первый</td>\n",
       "    </tr>\n",
       "    <tr>\n",
       "      <th>7391</th>\n",
       "      <td>3</td>\n",
       "      <td>11968000.0</td>\n",
       "      <td>96.38</td>\n",
       "      <td>2018-03-26</td>\n",
       "      <td>2</td>\n",
       "      <td>2.7</td>\n",
       "      <td>12.0</td>\n",
       "      <td>44.99</td>\n",
       "      <td>12</td>\n",
       "      <td>False</td>\n",
       "      <td>...</td>\n",
       "      <td>NaN</td>\n",
       "      <td>0.0</td>\n",
       "      <td>NaN</td>\n",
       "      <td>298.0</td>\n",
       "      <td>124175.14</td>\n",
       "      <td>0</td>\n",
       "      <td>3</td>\n",
       "      <td>2018</td>\n",
       "      <td>14.0</td>\n",
       "      <td>последний</td>\n",
       "    </tr>\n",
       "    <tr>\n",
       "      <th>13466</th>\n",
       "      <td>4</td>\n",
       "      <td>11967575.0</td>\n",
       "      <td>97.10</td>\n",
       "      <td>2018-01-21</td>\n",
       "      <td>2</td>\n",
       "      <td>2.7</td>\n",
       "      <td>12.0</td>\n",
       "      <td>44.99</td>\n",
       "      <td>12</td>\n",
       "      <td>False</td>\n",
       "      <td>...</td>\n",
       "      <td>980.0</td>\n",
       "      <td>1.0</td>\n",
       "      <td>1093.0</td>\n",
       "      <td>404.0</td>\n",
       "      <td>123250.00</td>\n",
       "      <td>6</td>\n",
       "      <td>1</td>\n",
       "      <td>2018</td>\n",
       "      <td>13.0</td>\n",
       "      <td>последний</td>\n",
       "    </tr>\n",
       "  </tbody>\n",
       "</table>\n",
       "<p>12554 rows × 28 columns</p>\n",
       "</div>"
      ],
      "text/plain": [
       "       total_images  last_price  total_area first_day_exposition  rooms  \\\n",
       "13915            20   6350000.0       52.00           2018-02-06      2   \n",
       "21758             0   2330000.0       23.00           2018-01-01      0   \n",
       "23574            14  64990000.0      139.00           2015-11-24      3   \n",
       "3242              7   4440000.0       41.00           2017-07-02      1   \n",
       "17582            11   2680000.0       22.00           2018-08-11      0   \n",
       "...             ...         ...         ...                  ...    ...   \n",
       "22623             8   3100000.0       61.00           2018-04-03      4   \n",
       "14863            10   5600000.0       72.00           2018-03-13      3   \n",
       "11281            13   2590000.0       61.30           2015-05-08      4   \n",
       "7391              3  11968000.0       96.38           2018-03-26      2   \n",
       "13466             4  11967575.0       97.10           2018-01-21      2   \n",
       "\n",
       "       ceiling_height  floors_total  living_area  floor  is_apartment  ...  \\\n",
       "13915             3.0           6.0         2.00      2         False  ...   \n",
       "21758             NaN          24.0         2.00     22         False  ...   \n",
       "23574             3.0           8.0         3.00      8         False  ...   \n",
       "3242              NaN          17.0         3.00     17         False  ...   \n",
       "17582             NaN          25.0         5.00      8         False  ...   \n",
       "...               ...           ...          ...    ...           ...  ...   \n",
       "22623             2.6           5.0        44.90      4         False  ...   \n",
       "14863             NaN          17.0        44.90      8         False  ...   \n",
       "11281             NaN           5.0        44.91      1         False  ...   \n",
       "7391              2.7          12.0        44.99     12         False  ...   \n",
       "13466             2.7          12.0        44.99     12         False  ...   \n",
       "\n",
       "       parks_nearest  ponds_around3000  ponds_nearest  days_exposition  \\\n",
       "13915            NaN               1.0         1012.0             91.0   \n",
       "21758            NaN               NaN            NaN             66.0   \n",
       "23574          630.0               3.0          100.0            280.0   \n",
       "3242             NaN               0.0            NaN            216.0   \n",
       "17582          835.0               1.0          652.0             70.0   \n",
       "...              ...               ...            ...              ...   \n",
       "22623            NaN               NaN            NaN             57.0   \n",
       "14863            NaN               NaN            NaN            264.0   \n",
       "11281            NaN               NaN            NaN              NaN   \n",
       "7391             NaN               0.0            NaN            298.0   \n",
       "13466          980.0               1.0         1093.0            404.0   \n",
       "\n",
       "      area_unit_price  exposition_weekday  exposition_month  exposition_year  \\\n",
       "13915       122115.38                   1                 2             2018   \n",
       "21758       101304.35                   0                 1             2018   \n",
       "23574       467553.96                   1                11             2015   \n",
       "3242        108292.68                   6                 7             2017   \n",
       "17582       121818.18                   5                 8             2018   \n",
       "...               ...                 ...               ...              ...   \n",
       "22623        50819.67                   1                 4             2018   \n",
       "14863        77777.78                   1                 3             2018   \n",
       "11281        42251.22                   4                 5             2015   \n",
       "7391        124175.14                   0                 3             2018   \n",
       "13466       123250.00                   6                 1             2018   \n",
       "\n",
       "       city_center_km  floor_type  \n",
       "13915             7.0      другой  \n",
       "21758             NaN      другой  \n",
       "23574             6.0   последний  \n",
       "3242             13.0   последний  \n",
       "17582            12.0      другой  \n",
       "...               ...         ...  \n",
       "22623             NaN      другой  \n",
       "14863             NaN      другой  \n",
       "11281             NaN      первый  \n",
       "7391             14.0   последний  \n",
       "13466            13.0   последний  \n",
       "\n",
       "[12554 rows x 28 columns]"
      ]
     },
     "execution_count": 228,
     "metadata": {},
     "output_type": "execute_result"
    }
   ],
   "source": [
    "#посмотрим срез данных с аномальными значениями жилой площади\n",
    "print(data_filtered['living_area'].describe())\n",
    "\n",
    "data_filtered.query('living_area < 20 or (living_area < 45 and living_area > 30)').sort_values(by='living_area')"
   ]
  },
  {
   "cell_type": "code",
   "execution_count": 229,
   "metadata": {},
   "outputs": [
    {
     "data": {
      "text/plain": [
       "<AxesSubplot:>"
      ]
     },
     "execution_count": 229,
     "metadata": {},
     "output_type": "execute_result"
    },
    {
     "data": {
      "image/png": "[encoded data removed]",
      "text/plain": [
       "<Figure size 432x288 with 1 Axes>"
      ]
     },
     "metadata": {
      "needs_background": "light"
     },
     "output_type": "display_data"
    }
   ],
   "source": [
    "#отфильтруем данные с жилой площадью менее 10 квадратных метров и с долей от общей площади более 80%. \n",
    "data_filtered = data_filtered.query('living_area / total_area < 0.8 and living_area > 10')\n",
    "\n",
    "#построим гистограмму по отфильтрованным данным\n",
    "data_filtered['living_area'].hist(bins=100, range=(0, 300))"
   ]
  },
  {
   "cell_type": "markdown",
   "metadata": {},
   "source": [
    "<div class=\"alert alert-danger\">\n",
    "\n",
    "**❌ Комментарий ревьюера ❌**\n",
    "   \n",
    "   Здесь код падает с ошибкой - исправь ее, и я продолжу проверку\n",
    "\n",
    "</div>\n"
   ]
  },
  {
   "cell_type": "markdown",
   "metadata": {},
   "source": [
    "<div class=\"alert alert-info\">\n",
    "\n",
    "Ошибка исправлена\n",
    "\n",
    "</div>"
   ]
  },
  {
   "cell_type": "markdown",
   "metadata": {},
   "source": [
    "Есть несколько аномальных пиков, на значениях примерно 20 и 40 квадратных метров. Также есть значения по жилой площади менее 10 квадратных метров, что не похоже на жилые помещения. Изучив срез с аномалиями заметили, что также есть квартиры с соотношением жилой площади квартиры к общей площади более 80% (стандартные значения этого соотношения - 50-70%). Эти значения были отфильтрованы. \n",
    "\n",
    "В среднем, большинство квартир имеет жилую площадь около 25-45 квадратных метров. Достаточно редко встречаются значения свыше 200 квадратных метров. "
   ]
  },
  {
   "cell_type": "code",
   "execution_count": 230,
   "metadata": {},
   "outputs": [
    {
     "data": {
      "text/plain": [
       "0.9048061099624457"
      ]
     },
     "execution_count": 230,
     "metadata": {},
     "output_type": "execute_result"
    }
   ],
   "source": [
    "#проверим оставшиеся данные после фильтрации\n",
    "\n",
    "data_filtered.shape[0] / data_raw"
   ]
  },
  {
   "cell_type": "code",
   "execution_count": 231,
   "metadata": {},
   "outputs": [
    {
     "name": "stdout",
     "output_type": "stream",
     "text": [
      "count    20717.000000\n",
      "mean        10.449775\n",
      "std          5.609623\n",
      "min          1.300000\n",
      "25%          7.000000\n",
      "50%          9.000000\n",
      "75%         12.000000\n",
      "max        107.000000\n",
      "Name: kitchen_area, dtype: float64\n"
     ]
    },
    {
     "data": {
      "text/plain": [
       "<AxesSubplot:>"
      ]
     },
     "execution_count": 231,
     "metadata": {},
     "output_type": "execute_result"
    },
    {
     "data": {
      "image/png": "[encoded data removed]",
      "text/plain": [
       "<Figure size 432x288 with 1 Axes>"
      ]
     },
     "metadata": {
      "needs_background": "light"
     },
     "output_type": "display_data"
    }
   ],
   "source": [
    "#Построим гистограмму по значениям столбца с метражом кухни\n",
    "\n",
    "print(data_filtered['kitchen_area'].describe())\n",
    "\n",
    "data_filtered['kitchen_area'].hist(bins=100, range=(0, 150))"
   ]
  },
  {
   "cell_type": "markdown",
   "metadata": {},
   "source": [
    "Распределение похоже на нормальное, в среднем квартиры в выборке имеют площадь кухни 10-15 квадратных метров, редкими являются значения площади от 40 квадратных метров и могут достигать 100 квадратных метров. "
   ]
  },
  {
   "cell_type": "code",
   "execution_count": 232,
   "metadata": {},
   "outputs": [
    {
     "name": "stdout",
     "output_type": "stream",
     "text": [
      "count    2.144300e+04\n",
      "mean     6.281689e+06\n",
      "std      7.692279e+06\n",
      "min      1.219000e+04\n",
      "25%      3.450000e+06\n",
      "50%      4.650000e+06\n",
      "75%      6.750000e+06\n",
      "max      3.300000e+08\n",
      "Name: last_price, dtype: float64\n"
     ]
    },
    {
     "data": {
      "image/png": "[encoded data removed]",
      "text/plain": [
       "<Figure size 432x288 with 1 Axes>"
      ]
     },
     "metadata": {
      "needs_background": "light"
     },
     "output_type": "display_data"
    }
   ],
   "source": [
    "#Построим гистограмму по значениям столбца со стоимостями квартир\n",
    "\n",
    "print(data_filtered['last_price'].describe())\n",
    "\n",
    "data_filtered['last_price'].hist(bins=200, range=(0, 50000000))\n",
    "\n",
    "#отфильтруем данные со значениями стоимостей квартир менее 1 млн рублей. \n",
    "data_filtered = data_filtered.query('last_price > 1000000')"
   ]
  },
  {
   "cell_type": "markdown",
   "metadata": {},
   "source": [
    "Рапределение похоже на нормальное. В среднем стоимость квартир составляет около 5 млн рублей. Достаточно редкой будет стоимость от 20 миллионов рублей. \n",
    "Аномальными можно считать значения менее 1 млн рублей, отфильтруем их. "
   ]
  },
  {
   "cell_type": "code",
   "execution_count": 233,
   "metadata": {},
   "outputs": [
    {
     "data": {
      "text/plain": [
       "0.8964935229334571"
      ]
     },
     "execution_count": 233,
     "metadata": {},
     "output_type": "execute_result"
    }
   ],
   "source": [
    "#проверим оставшиеся данные после фильтрации\n",
    "\n",
    "data_filtered.shape[0] / data_raw"
   ]
  },
  {
   "cell_type": "code",
   "execution_count": 234,
   "metadata": {},
   "outputs": [
    {
     "name": "stdout",
     "output_type": "stream",
     "text": [
      "count    21246.000000\n",
      "mean         2.065095\n",
      "std          1.044615\n",
      "min          0.000000\n",
      "25%          1.000000\n",
      "50%          2.000000\n",
      "75%          3.000000\n",
      "max         16.000000\n",
      "Name: rooms, dtype: float64\n"
     ]
    },
    {
     "data": {
      "text/plain": [
       "<AxesSubplot:>"
      ]
     },
     "execution_count": 234,
     "metadata": {},
     "output_type": "execute_result"
    },
    {
     "data": {
      "image/png": "[encoded data removed]",
      "text/plain": [
       "<Figure size 432x288 with 1 Axes>"
      ]
     },
     "metadata": {
      "needs_background": "light"
     },
     "output_type": "display_data"
    }
   ],
   "source": [
    "#Построим гистограмму по значениям столбца с количеством комнат\n",
    "\n",
    "print(data_filtered['rooms'].describe())\n",
    "\n",
    "data_filtered['rooms'].hist(bins=50)"
   ]
  },
  {
   "cell_type": "markdown",
   "metadata": {},
   "source": [
    "Найдены редкие и аномальные значения по количеству комнат - 0 и свыше 6. В среднем количество комнат в квартирах составляет 1-2. \n",
    "Нулевые значения комнат могут принадлежать данным с квартирами-студиями. "
   ]
  },
  {
   "cell_type": "code",
   "execution_count": 235,
   "metadata": {},
   "outputs": [
    {
     "name": "stdout",
     "output_type": "stream",
     "text": [
      "count    13428.000000\n",
      "mean         2.768528\n",
      "std          1.271992\n",
      "min          1.000000\n",
      "25%          2.520000\n",
      "50%          2.650000\n",
      "75%          2.800000\n",
      "max        100.000000\n",
      "Name: ceiling_height, dtype: float64\n"
     ]
    },
    {
     "data": {
      "image/png": "[encoded data removed]",
      "text/plain": [
       "<Figure size 432x288 with 1 Axes>"
      ]
     },
     "metadata": {
      "needs_background": "light"
     },
     "output_type": "display_data"
    }
   ],
   "source": [
    "#Построим гистограмму по значениям столбца с количеством комнат\n",
    "\n",
    "print(data_filtered['ceiling_height'].describe())\n",
    "\n",
    "data_filtered['ceiling_height'].hist(bins=100, range=(1, 10))\n",
    "\n",
    "#Заменим неправильно внесенные данные на корректные\n",
    "data['ceiling_height'] = data['ceiling_height'].where(data['ceiling_height'] < 20, data['ceiling_height'] / 10)\n",
    "\n",
    "#Отфильтруем значения высоты потолков свыше 4м\n",
    "#data_filtered = data_filtered.query('ceiling_height < 4')"
   ]
  },
  {
   "cell_type": "markdown",
   "metadata": {},
   "source": [
    "<div class=\"alert alert-success\">\n",
    "\n",
    "**✔️ Комментарий ревьюера ✔️**\n",
    "   \n",
    "   Хорошее решение👍\n",
    "\n",
    "</div>\n"
   ]
  },
  {
   "cell_type": "markdown",
   "metadata": {},
   "source": [
    "<div class=\"alert alert-info\">\n",
    "Оставили данные о квартирах с потолками высотой более 4м, так как такая фильтрация устраняет большую часть данных.\n",
    "\n",
    "</div>"
   ]
  },
  {
   "cell_type": "markdown",
   "metadata": {},
   "source": [
    "Найдены аномально значения высоты потолков - меньше 2 метров и свыше 3 метров. Ошибки могут быть связаны с неправильным вносом значений высоты потолков вручную."
   ]
  },
  {
   "cell_type": "code",
   "execution_count": 236,
   "metadata": {},
   "outputs": [
    {
     "data": {
      "text/plain": [
       "0.8964935229334571"
      ]
     },
     "execution_count": 236,
     "metadata": {},
     "output_type": "execute_result"
    }
   ],
   "source": [
    "#проверим оставшиеся данные после фильтрации\n",
    "\n",
    "data_filtered.shape[0] / data_raw"
   ]
  },
  {
   "cell_type": "code",
   "execution_count": 237,
   "metadata": {},
   "outputs": [
    {
     "data": {
      "text/plain": [
       "<AxesSubplot:>"
      ]
     },
     "execution_count": 237,
     "metadata": {},
     "output_type": "execute_result"
    },
    {
     "data": {
      "image/png": "[encoded data removed]",
      "text/plain": [
       "<Figure size 432x288 with 1 Axes>"
      ]
     },
     "metadata": {
      "needs_background": "light"
     },
     "output_type": "display_data"
    }
   ],
   "source": [
    "#Построим гистограмму по значениям столбца с типом этажа\n",
    "\n",
    "data_filtered['floor_type'].hist()"
   ]
  },
  {
   "cell_type": "markdown",
   "metadata": {},
   "source": [
    "Большее количество квартир на продажу находится на этажах, между первым и последним"
   ]
  },
  {
   "cell_type": "code",
   "execution_count": 238,
   "metadata": {},
   "outputs": [
    {
     "name": "stdout",
     "output_type": "stream",
     "text": [
      "count    21196.000000\n",
      "mean        10.720749\n",
      "std          6.555967\n",
      "min          1.000000\n",
      "25%          5.000000\n",
      "50%          9.000000\n",
      "75%         16.000000\n",
      "max         60.000000\n",
      "Name: floors_total, dtype: float64\n"
     ]
    },
    {
     "data": {
      "text/plain": [
       "<AxesSubplot:>"
      ]
     },
     "execution_count": 238,
     "metadata": {},
     "output_type": "execute_result"
    },
    {
     "data": {
      "image/png": "[encoded data removed]",
      "text/plain": [
       "<Figure size 432x288 with 1 Axes>"
      ]
     },
     "metadata": {
      "needs_background": "light"
     },
     "output_type": "display_data"
    }
   ],
   "source": [
    "#Построим гистограмму по значениям столбца с количеством этажей\n",
    "print(data_filtered['floors_total'].describe())\n",
    "\n",
    "data_filtered['floors_total'].hist(bins=100)"
   ]
  },
  {
   "cell_type": "markdown",
   "metadata": {},
   "source": [
    "Достаточно редким является количество свыше 30 этажей в жилых зданиях. В среднем здания в выборке высотой около 5 этажей. "
   ]
  },
  {
   "cell_type": "code",
   "execution_count": 239,
   "metadata": {},
   "outputs": [
    {
     "name": "stdout",
     "output_type": "stream",
     "text": [
      "count    16628.000000\n",
      "mean     14280.093036\n",
      "std       8668.104712\n",
      "min        181.000000\n",
      "25%       9399.750000\n",
      "50%      13138.000000\n",
      "75%      16285.000000\n",
      "max      65968.000000\n",
      "Name: citycenters_nearest, dtype: float64\n"
     ]
    },
    {
     "data": {
      "text/plain": [
       "<AxesSubplot:>"
      ]
     },
     "execution_count": 239,
     "metadata": {},
     "output_type": "execute_result"
    },
    {
     "data": {
      "image/png": "[encoded data removed]",
      "text/plain": [
       "<Figure size 432x288 with 1 Axes>"
      ]
     },
     "metadata": {
      "needs_background": "light"
     },
     "output_type": "display_data"
    }
   ],
   "source": [
    "#Построим гистограмму по значениям столбца с близостью центра города\n",
    "\n",
    "print(data_filtered['citycenters_nearest'].describe())\n",
    "\n",
    "data_filtered['citycenters_nearest'].hist(bins=100)"
   ]
  },
  {
   "cell_type": "markdown",
   "metadata": {},
   "source": [
    "Распределение с аномальными пиками в расстояниях до центра примерно 5 км и 30 км, 50 км. Аномальными можно считать значения от 30 км."
   ]
  },
  {
   "cell_type": "code",
   "execution_count": 240,
   "metadata": {},
   "outputs": [
    {
     "name": "stdout",
     "output_type": "stream",
     "text": [
      "count    7358.000000\n",
      "mean      488.335553\n",
      "std       337.690036\n",
      "min         1.000000\n",
      "25%       288.000000\n",
      "50%       452.000000\n",
      "75%       611.000000\n",
      "max      3190.000000\n",
      "Name: parks_nearest, dtype: float64\n"
     ]
    },
    {
     "data": {
      "text/plain": [
       "<AxesSubplot:>"
      ]
     },
     "execution_count": 240,
     "metadata": {},
     "output_type": "execute_result"
    },
    {
     "data": {
      "image/png": "[encoded data removed]",
      "text/plain": [
       "<Figure size 432x288 with 1 Axes>"
      ]
     },
     "metadata": {
      "needs_background": "light"
     },
     "output_type": "display_data"
    }
   ],
   "source": [
    "#Построим гистограмму по значениям столбца с близостью парков\n",
    "\n",
    "print(data_filtered['parks_nearest'].describe())\n",
    "\n",
    "data_filtered['parks_nearest'].hist(bins=100)"
   ]
  },
  {
   "cell_type": "markdown",
   "metadata": {},
   "source": [
    "Самая частая близость парков от квартир - примерно 0,5 км, аномальным можно считать расстояние до парка свыше 1100 метров. "
   ]
  },
  {
   "cell_type": "markdown",
   "metadata": {},
   "source": [
    " <div class=\"alert alert-success\">\n",
    "✔️ Комментарий ревьюера ✔️\n",
    "\n",
    "Хороший результат. Хочу добавить, что обычно размеры двухкомнатных квартир составляют от 50 до 100 квадратных метров, что и соответствует проведенному анализу.\n",
    "\n",
    "Могу посоветовать на будущее хорошую статью по оформлению графиков:\n",
    "    https://devpractice.ru/matplotlib-lesson-3-3-text-elements/\n",
    "\n",
    "\n",
    "\n",
    "</div>"
   ]
  },
  {
   "cell_type": "markdown",
   "metadata": {},
   "source": [
    "<div class=\"alert alert-danger\">\n",
    "\n",
    "**❌ Комментарий ревьюера ❌**\n",
    "\n",
    "   Также важно посмотреть, какая доля от изначального количества данных осталась после фильтрации. Для этого рекомендую зафиксировать начальное количество данных в переменную с помощью метода shape, а затем использовать ее в рассчетах. Прикрепляю полезную ссылку: https://tonais.ru/library/poluchenie-formy-razmera-dataframe Обращаю внимание, что мы можем провести актуальный анализ, если у нас есть не менее 90 % от изначального числа данных\n",
    "\n",
    "</div>\n"
   ]
  },
  {
   "cell_type": "code",
   "execution_count": 241,
   "metadata": {},
   "outputs": [
    {
     "data": {
      "text/plain": [
       "0.8964935229334571"
      ]
     },
     "execution_count": 241,
     "metadata": {},
     "output_type": "execute_result"
    }
   ],
   "source": [
    "# Вычислим долю оставшихся данных после фильтрации от начального объема в датасете. \n",
    "\n",
    "data_filtered.shape[0] / data_raw"
   ]
  },
  {
   "cell_type": "markdown",
   "metadata": {},
   "source": [
    " <div class=\"alert alert-info\">\n",
    "Добавили долю оставшихся данных\n",
    "\n",
    "\n",
    "</div>"
   ]
  },
  {
   "cell_type": "markdown",
   "metadata": {},
   "source": [
    "<div class=\"alert alert-success\">\n",
    "\n",
    "**✔️ Комментарий ревьюера v2✔️**\n",
    "   \n",
    "   Отличный результат👍\n",
    "\n",
    "</div>\n"
   ]
  },
  {
   "cell_type": "code",
   "execution_count": 242,
   "metadata": {},
   "outputs": [
    {
     "name": "stdout",
     "output_type": "stream",
     "text": [
      "count    18353.000000\n",
      "mean       184.832834\n",
      "std        221.475177\n",
      "min          1.000000\n",
      "25%         44.000000\n",
      "50%        101.000000\n",
      "75%        239.000000\n",
      "max       1580.000000\n",
      "Name: days_exposition, dtype: float64\n"
     ]
    },
    {
     "data": {
      "text/plain": [
       "<AxesSubplot:>"
      ]
     },
     "execution_count": 242,
     "metadata": {},
     "output_type": "execute_result"
    },
    {
     "data": {
      "image/png": "[encoded data removed]",
      "text/plain": [
       "<Figure size 432x288 with 1 Axes>"
      ]
     },
     "metadata": {
      "needs_background": "light"
     },
     "output_type": "display_data"
    }
   ],
   "source": [
    "#Построим гистограмму по значениям столбца со сроком публикации до продажи\n",
    "\n",
    "print(data_filtered['days_exposition'].describe())\n",
    "\n",
    "data_filtered['days_exposition'].hist(bins=200, range=(0, 2000))\n"
   ]
  },
  {
   "cell_type": "markdown",
   "metadata": {},
   "source": [
    "Медианное значение времени продажи - 112 дней, среднее значение - 200 дней. \n",
    "То есть обычно продажа занимает по времени около 3-4х месяцев. \n",
    "Есть аномальные данные по продаже квартир в течение 1-30 дней - достаточно быстро, если учитывать, что продажа квартиры - долгий и трудоемкий процесс.\n",
    "Также присутствуют аномально долгие продажи - от 2-5 лет. Допустимо, что такие долгие сроки связаны с непривлекательностью квартиры для покупателей."
   ]
  },
  {
   "cell_type": "code",
   "execution_count": 243,
   "metadata": {
    "scrolled": true
   },
   "outputs": [
    {
     "data": {
      "text/plain": [
       "<AxesSubplot:>"
      ]
     },
     "execution_count": 243,
     "metadata": {},
     "output_type": "execute_result"
    },
    {
     "data": {
      "image/png": "[encoded data removed]",
      "text/plain": [
       "<Figure size 432x288 with 1 Axes>"
      ]
     },
     "metadata": {
      "needs_background": "light"
     },
     "output_type": "display_data"
    }
   ],
   "source": [
    "data_filtered.boxplot('days_exposition')"
   ]
  },
  {
   "cell_type": "markdown",
   "metadata": {},
   "source": [
    "<div class=\"alert alert-info\">\n",
    "Построили диаграмму размаха. \n",
    "\n",
    "    Новый вывод: Медианное значение времени продажи - 112 дней, среднее значение - 200 дней. \n",
    "    Быстрыми продажами можем считать данные со сроками 1-44 дня, долгими - от 239 дней.\n",
    "    Аномальными являются продажи со сроками от 500 дней.      \n",
    "<div class=\"alert alert-success\">\n",
    "\n",
    "**✔️ Комментарий ревьюера v2✔️**\n",
    "   \n",
    "   Теперь выводы верны👍\n",
    "\n",
    "</div>\n",
    "      \n",
    "\n",
    "</div>"
   ]
  },
  {
   "cell_type": "code",
   "execution_count": 244,
   "metadata": {},
   "outputs": [
    {
     "data": {
      "text/plain": [
       "<AxesSubplot:>"
      ]
     },
     "execution_count": 244,
     "metadata": {},
     "output_type": "execute_result"
    },
    {
     "data": {
      "image/png": "[encoded data removed]",
      "text/plain": [
       "<Figure size 864x504 with 1 Axes>"
      ]
     },
     "metadata": {
      "needs_background": "light"
     },
     "output_type": "display_data"
    }
   ],
   "source": [
    "# Код ревьюера\n",
    "data_filtered['days_exposition'].hist(bins=50, range=(0,100), figsize=(12, 7))"
   ]
  },
  {
   "cell_type": "markdown",
   "metadata": {},
   "source": [
    "<div class=\"alert alert-danger\">\n",
    "\n",
    "**❌ Комментарий ревьюера ❌**\n",
    "   \n",
    "      На гистограмме заметны пики примерно через 45, 60 и 90 дней после начала продажи. Можно посмотреть на условия размещения объявлений в Яндекс.Недвижимости - https://yandex.ru/support/realty/owner/home/add-ads-housing.html С учетом того, что после формирования датасета правила размещения поменялись, эти пики являются следами автоматического снятия объявлений - поэтому оценивать скорость продажи стоит действительно по диаграмме размаха, взяв за быстрые продажи до 1 квартиля, за долгие - после третьего\n",
    "\n",
    "\n",
    "\n",
    "\n",
    "</div>\n"
   ]
  },
  {
   "cell_type": "code",
   "execution_count": 245,
   "metadata": {},
   "outputs": [
    {
     "data": {
      "text/html": [
       "<div>\n",
       "<style scoped>\n",
       "    .dataframe tbody tr th:only-of-type {\n",
       "        vertical-align: middle;\n",
       "    }\n",
       "\n",
       "    .dataframe tbody tr th {\n",
       "        vertical-align: top;\n",
       "    }\n",
       "\n",
       "    .dataframe thead tr th {\n",
       "        text-align: left;\n",
       "    }\n",
       "\n",
       "    .dataframe thead tr:last-of-type th {\n",
       "        text-align: right;\n",
       "    }\n",
       "</style>\n",
       "<table border=\"1\" class=\"dataframe\">\n",
       "  <thead>\n",
       "    <tr>\n",
       "      <th></th>\n",
       "      <th>median</th>\n",
       "      <th>count</th>\n",
       "    </tr>\n",
       "    <tr>\n",
       "      <th></th>\n",
       "      <th>last_price</th>\n",
       "      <th>last_price</th>\n",
       "    </tr>\n",
       "    <tr>\n",
       "      <th>total_area_category</th>\n",
       "      <th></th>\n",
       "      <th></th>\n",
       "    </tr>\n",
       "  </thead>\n",
       "  <tbody>\n",
       "    <tr>\n",
       "      <th>аномалия</th>\n",
       "      <td>39000000.0</td>\n",
       "      <td>43</td>\n",
       "    </tr>\n",
       "    <tr>\n",
       "      <th>большая</th>\n",
       "      <td>9100000.0</td>\n",
       "      <td>5090</td>\n",
       "    </tr>\n",
       "    <tr>\n",
       "      <th>маленькая</th>\n",
       "      <td>3350000.0</td>\n",
       "      <td>5370</td>\n",
       "    </tr>\n",
       "    <tr>\n",
       "      <th>средняя</th>\n",
       "      <td>4690000.0</td>\n",
       "      <td>10743</td>\n",
       "    </tr>\n",
       "  </tbody>\n",
       "</table>\n",
       "</div>"
      ],
      "text/plain": [
       "                         median      count\n",
       "                     last_price last_price\n",
       "total_area_category                       \n",
       "аномалия             39000000.0         43\n",
       "большая               9100000.0       5090\n",
       "маленькая             3350000.0       5370\n",
       "средняя               4690000.0      10743"
      ]
     },
     "execution_count": 245,
     "metadata": {},
     "output_type": "execute_result"
    }
   ],
   "source": [
    "#Создадим собственную функцию для категоризации по общей площади квартир\n",
    "\n",
    "def categorize_area(area):\n",
    "    try:\n",
    "        if 12 <= area <= 40:\n",
    "            return 'маленькая'\n",
    "        elif 40 < area <= 70:\n",
    "            return 'средняя'\n",
    "        elif 70 < area <= 250:\n",
    "            return 'большая'\n",
    "        elif area > 250:\n",
    "            return 'аномалия'\n",
    "    except:\n",
    "        pass\n",
    "\n",
    "#создадим новый столбец с данными о категории общей площади квартиры\n",
    "    \n",
    "data_filtered['total_area_category'] = data_filtered['total_area'].apply(categorize_area)    \n",
    "\n",
    "#построим сводную таблицу с медианными значениями стоимостей квартир по категориям общей площади и количеством таких объявлений\n",
    "\n",
    "data_filtered.pivot_table(index='total_area_category', values='last_price', aggfunc=['median', 'count'])"
   ]
  },
  {
   "cell_type": "markdown",
   "metadata": {},
   "source": [
    "Можно отбросить аномальные значения площади более 250 кв км  "
   ]
  },
  {
   "cell_type": "markdown",
   "metadata": {},
   "source": [
    "<div class=\"alert alert-danger\">\n",
    "\n",
    "**❌ Комментарий ревьюера ❌**\n",
    "   \n",
    "   Опять же, нужно будет посмотреть на остаточную долю данных\n",
    "\n",
    "</div>\n"
   ]
  },
  {
   "cell_type": "markdown",
   "metadata": {},
   "source": [
    "<div class=\"alert alert-info\">\n",
    "Оставили данные с аномалиями, так как выборка уже составляет 90% от первоначальной\n",
    "    \n",
    "</div>    "
   ]
  },
  {
   "cell_type": "code",
   "execution_count": 246,
   "metadata": {},
   "outputs": [
    {
     "data": {
      "text/plain": [
       "<AxesSubplot:xlabel='total_area'>"
      ]
     },
     "execution_count": 246,
     "metadata": {},
     "output_type": "execute_result"
    },
    {
     "data": {
      "image/png": "[encoded data removed]",
      "text/plain": [
       "<Figure size 864x360 with 1 Axes>"
      ]
     },
     "metadata": {
      "needs_background": "light"
     },
     "output_type": "display_data"
    }
   ],
   "source": [
    "(\n",
    "    data_filtered.pivot_table(index='total_area', values='last_price', aggfunc='median')\n",
    "    .plot(grid=True, figsize=(12, 5))\n",
    ")"
   ]
  },
  {
   "cell_type": "markdown",
   "metadata": {},
   "source": [
    "По данному графику можем увидеть, что фактор общей площади квартиры пропорционально влияет на ее полную стоимость, при значениях площади свыше 150 квадратных метров стоимость меняется менее пропорционально, чем на малых площадях. "
   ]
  },
  {
   "cell_type": "code",
   "execution_count": 247,
   "metadata": {},
   "outputs": [
    {
     "data": {
      "text/plain": [
       "<AxesSubplot:xlabel='kitchen_area'>"
      ]
     },
     "execution_count": 247,
     "metadata": {},
     "output_type": "execute_result"
    },
    {
     "data": {
      "image/png": "[encoded data removed]",
      "text/plain": [
       "<Figure size 864x360 with 1 Axes>"
      ]
     },
     "metadata": {
      "needs_background": "light"
     },
     "output_type": "display_data"
    }
   ],
   "source": [
    "(\n",
    "    data_filtered.pivot_table(index='kitchen_area', values='last_price', aggfunc='median')\n",
    "    .plot(grid=True, figsize=(12, 5))\n",
    ")"
   ]
  },
  {
   "cell_type": "markdown",
   "metadata": {},
   "source": [
    "По графику можем увидеть, что при площадях до 30 квадратных метров полная стоимость сильно зависит от площади кухни, но при значениях площади от 30 квадратных метров и выше стоимость теряет эту зависимость. "
   ]
  },
  {
   "cell_type": "code",
   "execution_count": 248,
   "metadata": {
    "scrolled": true
   },
   "outputs": [
    {
     "data": {
      "text/plain": [
       "<AxesSubplot:xlabel='living_area'>"
      ]
     },
     "execution_count": 248,
     "metadata": {},
     "output_type": "execute_result"
    },
    {
     "data": {
      "image/png": "[encoded data removed]",
      "text/plain": [
       "<Figure size 864x360 with 1 Axes>"
      ]
     },
     "metadata": {
      "needs_background": "light"
     },
     "output_type": "display_data"
    }
   ],
   "source": [
    "(\n",
    "    data_filtered.pivot_table(index='living_area', values='last_price', aggfunc='median')\n",
    "    .plot(grid=True, figsize=(12, 5))\n",
    ")"
   ]
  },
  {
   "cell_type": "markdown",
   "metadata": {},
   "source": [
    "По графику видим, что жилая площадь как фактор пропорционально влияет на полную стоимость квартиры."
   ]
  },
  {
   "cell_type": "code",
   "execution_count": 249,
   "metadata": {
    "scrolled": true
   },
   "outputs": [
    {
     "data": {
      "text/plain": [
       "<AxesSubplot:xlabel='rooms'>"
      ]
     },
     "execution_count": 249,
     "metadata": {},
     "output_type": "execute_result"
    },
    {
     "data": {
      "image/png": "[encoded data removed]",
      "text/plain": [
       "<Figure size 864x360 with 1 Axes>"
      ]
     },
     "metadata": {
      "needs_background": "light"
     },
     "output_type": "display_data"
    }
   ],
   "source": [
    "(\n",
    "    data_filtered.pivot_table(index='rooms', values='last_price', aggfunc='median')\n",
    "    .plot(grid=True, figsize=(12, 5))\n",
    ")"
   ]
  },
  {
   "cell_type": "markdown",
   "metadata": {},
   "source": [
    "Количество комнат пропорционально влияет на стоимость квартиры, но при количестве комнат свыше 12 эта связь пропадает. "
   ]
  },
  {
   "cell_type": "code",
   "execution_count": 250,
   "metadata": {},
   "outputs": [
    {
     "data": {
      "text/plain": [
       "<AxesSubplot:xlabel='floor_type'>"
      ]
     },
     "execution_count": 250,
     "metadata": {},
     "output_type": "execute_result"
    },
    {
     "data": {
      "image/png": "[encoded data removed]",
      "text/plain": [
       "<Figure size 864x360 with 1 Axes>"
      ]
     },
     "metadata": {
      "needs_background": "light"
     },
     "output_type": "display_data"
    }
   ],
   "source": [
    "(\n",
    "    data_filtered.pivot_table(index='floor_type', values='last_price', aggfunc='median')\n",
    "    .plot(grid=True, figsize=(12, 5))\n",
    ")\n"
   ]
  },
  {
   "cell_type": "markdown",
   "metadata": {},
   "source": [
    "По графику видим, что медианная стоимость квартир имеет зависимость по категориям, в зависимости от этаж. Так, например, стоимость квартир, расположенных на первом этаже ниже, чем стоимость квартир на последнем этаже. Но Наибольшей стоимостью обладают квартиры, расположенные между первым и последним этажом. \n",
    "Но нельзя утверждать, что стоимость пропорционально увеличивается в зависимости от номера этажа. "
   ]
  },
  {
   "cell_type": "markdown",
   "metadata": {},
   "source": [
    "<div class=\"alert alert-success\">\n",
    "\n",
    "**✔️ Комментарий ревьюера ✔️**\n",
    "\n",
    "   Хорошие результаты. Отмечу, что скорее всего, низкую цену на квартиры на первом и последнем этажах можно аргументировать плохими условиями - шум от улиц и моторов лифта, охлаждаемость помещения зимой.\n",
    "\n",
    "</div>"
   ]
  },
  {
   "cell_type": "code",
   "execution_count": 251,
   "metadata": {},
   "outputs": [
    {
     "data": {
      "text/plain": [
       "<AxesSubplot:xlabel='exposition_weekday'>"
      ]
     },
     "execution_count": 251,
     "metadata": {},
     "output_type": "execute_result"
    },
    {
     "data": {
      "image/png": "[encoded data removed]",
      "text/plain": [
       "<Figure size 864x360 with 1 Axes>"
      ]
     },
     "metadata": {
      "needs_background": "light"
     },
     "output_type": "display_data"
    }
   ],
   "source": [
    "(\n",
    "    data_filtered.pivot_table(index='exposition_weekday', values='last_price', aggfunc='median')\n",
    "    .plot(grid=True, figsize=(12, 5))\n",
    ")"
   ]
  },
  {
   "cell_type": "markdown",
   "metadata": {},
   "source": [
    "По графику видим, что между стоимостью квартир и днем публикации объявления в неделе нет сильной зависимости. Большую медианную стоимость имеют квартиры, опубликованные во вторник-среду. "
   ]
  },
  {
   "cell_type": "code",
   "execution_count": 252,
   "metadata": {},
   "outputs": [
    {
     "data": {
      "text/plain": [
       "<AxesSubplot:xlabel='exposition_month'>"
      ]
     },
     "execution_count": 252,
     "metadata": {},
     "output_type": "execute_result"
    },
    {
     "data": {
      "image/png": "[encoded data removed]",
      "text/plain": [
       "<Figure size 864x360 with 1 Axes>"
      ]
     },
     "metadata": {
      "needs_background": "light"
     },
     "output_type": "display_data"
    }
   ],
   "source": [
    "(\n",
    "    data_filtered.pivot_table(index='exposition_month', values='last_price', aggfunc='median')\n",
    "    .plot(grid=True, figsize=(12, 5))\n",
    ")"
   ]
  },
  {
   "cell_type": "markdown",
   "metadata": {},
   "source": [
    "По графику видим, что нет зависимости между стоимостью квартир и месяцем публикации. Наименьшую медианную стоимость имеют квартиры, опубликованные в июне. "
   ]
  },
  {
   "cell_type": "code",
   "execution_count": 253,
   "metadata": {},
   "outputs": [
    {
     "data": {
      "text/plain": [
       "<AxesSubplot:xlabel='exposition_year'>"
      ]
     },
     "execution_count": 253,
     "metadata": {},
     "output_type": "execute_result"
    },
    {
     "data": {
      "image/png": "[encoded data removed]",
      "text/plain": [
       "<Figure size 864x360 with 1 Axes>"
      ]
     },
     "metadata": {
      "needs_background": "light"
     },
     "output_type": "display_data"
    }
   ],
   "source": [
    "(\n",
    "    data_filtered.pivot_table(index='exposition_year', values='last_price', aggfunc='median')\n",
    "    .plot(grid=True, figsize=(12, 5))\n",
    ")"
   ]
  },
  {
   "cell_type": "markdown",
   "metadata": {},
   "source": [
    "По графику можем увидеть, что есть некая обратная зависимость между годом публикации и стоимостью объектов, но до 2018 года. В 2019 году видим небольшой подъем стоимости квартир."
   ]
  },
  {
   "cell_type": "markdown",
   "metadata": {},
   "source": [
    "<div class=\"alert alert-warning\">\n",
    "\n",
    "**⚠️ Комментарий ревьюера ⚠️**\n",
    "   \n",
    "  Стоит также посмотреть на динамику изменения площади продаваемых квартир по годам. Возможно, упала не столько цена, сколько площадь продаваемых квартир? \n",
    "</div>\n",
    "\n",
    "\n"
   ]
  },
  {
   "cell_type": "code",
   "execution_count": 254,
   "metadata": {
    "scrolled": true
   },
   "outputs": [
    {
     "data": {
      "text/plain": [
       "<AxesSubplot:xlabel='exposition_year'>"
      ]
     },
     "execution_count": 254,
     "metadata": {},
     "output_type": "execute_result"
    },
    {
     "data": {
      "image/png": "[encoded data removed]",
      "text/plain": [
       "<Figure size 864x360 with 1 Axes>"
      ]
     },
     "metadata": {
      "needs_background": "light"
     },
     "output_type": "display_data"
    }
   ],
   "source": [
    "(\n",
    "    data_filtered.pivot_table(index='exposition_year', values='total_area', aggfunc='median')\n",
    "    .plot(grid=True, figsize=(12, 5))\n",
    ")"
   ]
  },
  {
   "cell_type": "markdown",
   "metadata": {},
   "source": [
    "<div class=\"alert alert-info\">\n",
    "\n",
    "Построили новый график динамики изменения общей площади квартир по годам. Действительно, график повторяет вид зависимости стоимости по годам - то есть упала площадь продаваемых квартир (соответственно упала и медианная стоимость по годам, которая зависит от площади квартиры). \n",
    "<div class=\"alert alert-success\">\n",
    "\n",
    "**✔️ Комментарий ревьюера v2✔️**\n",
    "   \n",
    "   Согласен👍\n",
    "\n",
    "</div>\n",
    "    \n",
    "</div>\n"
   ]
  },
  {
   "cell_type": "code",
   "execution_count": 255,
   "metadata": {},
   "outputs": [
    {
     "data": {
      "text/html": [
       "<div>\n",
       "<style scoped>\n",
       "    .dataframe tbody tr th:only-of-type {\n",
       "        vertical-align: middle;\n",
       "    }\n",
       "\n",
       "    .dataframe tbody tr th {\n",
       "        vertical-align: top;\n",
       "    }\n",
       "\n",
       "    .dataframe thead tr th {\n",
       "        text-align: left;\n",
       "    }\n",
       "\n",
       "    .dataframe thead tr:last-of-type th {\n",
       "        text-align: right;\n",
       "    }\n",
       "</style>\n",
       "<table border=\"1\" class=\"dataframe\">\n",
       "  <thead>\n",
       "    <tr>\n",
       "      <th></th>\n",
       "      <th>средняя_цена_1_кв_м</th>\n",
       "      <th>количество_объявлений</th>\n",
       "    </tr>\n",
       "    <tr>\n",
       "      <th></th>\n",
       "      <th></th>\n",
       "      <th></th>\n",
       "    </tr>\n",
       "    <tr>\n",
       "      <th>locality_name</th>\n",
       "      <th></th>\n",
       "      <th></th>\n",
       "    </tr>\n",
       "  </thead>\n",
       "  <tbody>\n",
       "    <tr>\n",
       "      <th>Санкт-Петербург</th>\n",
       "      <td>113588.352474</td>\n",
       "      <td>14361</td>\n",
       "    </tr>\n",
       "    <tr>\n",
       "      <th>Мурино</th>\n",
       "      <td>86413.654599</td>\n",
       "      <td>511</td>\n",
       "    </tr>\n",
       "    <tr>\n",
       "      <th>Кудрово</th>\n",
       "      <td>95700.907990</td>\n",
       "      <td>418</td>\n",
       "    </tr>\n",
       "    <tr>\n",
       "      <th>Шушары</th>\n",
       "      <td>78911.278856</td>\n",
       "      <td>402</td>\n",
       "    </tr>\n",
       "    <tr>\n",
       "      <th>Всеволожск</th>\n",
       "      <td>68852.147658</td>\n",
       "      <td>363</td>\n",
       "    </tr>\n",
       "    <tr>\n",
       "      <th>Пушкин</th>\n",
       "      <td>103494.456804</td>\n",
       "      <td>341</td>\n",
       "    </tr>\n",
       "    <tr>\n",
       "      <th>Колпино</th>\n",
       "      <td>75246.281227</td>\n",
       "      <td>326</td>\n",
       "    </tr>\n",
       "    <tr>\n",
       "      <th>Парголово</th>\n",
       "      <td>90399.098400</td>\n",
       "      <td>300</td>\n",
       "    </tr>\n",
       "    <tr>\n",
       "      <th>Гатчина</th>\n",
       "      <td>68701.383368</td>\n",
       "      <td>288</td>\n",
       "    </tr>\n",
       "    <tr>\n",
       "      <th>Петергоф</th>\n",
       "      <td>84532.148564</td>\n",
       "      <td>195</td>\n",
       "    </tr>\n",
       "  </tbody>\n",
       "</table>\n",
       "</div>"
      ],
      "text/plain": [
       "                средняя_цена_1_кв_м количество_объявлений\n",
       "                                                         \n",
       "locality_name                                            \n",
       "Санкт-Петербург       113588.352474                 14361\n",
       "Мурино                 86413.654599                   511\n",
       "Кудрово                95700.907990                   418\n",
       "Шушары                 78911.278856                   402\n",
       "Всеволожск             68852.147658                   363\n",
       "Пушкин                103494.456804                   341\n",
       "Колпино                75246.281227                   326\n",
       "Парголово              90399.098400                   300\n",
       "Гатчина                68701.383368                   288\n",
       "Петергоф               84532.148564                   195"
      ]
     },
     "execution_count": 255,
     "metadata": {},
     "output_type": "execute_result"
    }
   ],
   "source": [
    "#Посчитаем среднюю цену 1 кв м в 10 населенных пунктах с наибольшим числом объявлений и построим сводную таблицу. \n",
    "\n",
    "( \n",
    "    data_filtered.pivot_table(index='locality_name', values='area_unit_price', aggfunc=['mean', 'count'])\n",
    "    .rename(columns={'count': 'количество_объявлений','mean': 'средняя_цена_1_кв_м', 'area_unit_price': ''})\n",
    "    .sort_values(by=['количество_объявлений'], ascending=False)[:10]\n",
    ")\n"
   ]
  },
  {
   "cell_type": "markdown",
   "metadata": {},
   "source": [
    "Самой высокой стоимостью квадратного метра обладает Санкт-Петербург - 106 тыс рублей.  Самой низкой стоимостью квадратного метра обладает населенный пункт Выборг - 57 тыс рублей. "
   ]
  },
  {
   "cell_type": "markdown",
   "metadata": {},
   "source": [
    "<div class=\"alert alert-success\">\n",
    "\n",
    "**✔️ Комментарий ревьюера ✔️**\n",
    "   \n",
    "   Верно\n",
    "</div>\n"
   ]
  },
  {
   "cell_type": "markdown",
   "metadata": {},
   "source": [
    "<div class=\"alert alert-info\">\n",
    "Произошли изменения в данных, так как выборка до этого момента была сильно отфильтрована. \n",
    "    \n",
    "    Новый вывод:\n",
    "    \n",
    "    Самой высокой стоимостью квадратного метра обладает Санкт-Петербург - 114 тыс рублей.  Самой низкой стоимостью квадратного метра обладает населенный пункт Петергоф - 85 тыс рублей. \n",
    "    \n",
    "</div>"
   ]
  },
  {
   "cell_type": "code",
   "execution_count": 207,
   "metadata": {},
   "outputs": [
    {
     "data": {
      "text/plain": [
       "<AxesSubplot:xlabel='city_center_km'>"
      ]
     },
     "execution_count": 207,
     "metadata": {},
     "output_type": "execute_result"
    },
    {
     "data": {
      "image/png": "[encoded data removed]",
      "text/plain": [
       "<Figure size 864x360 with 1 Axes>"
      ]
     },
     "metadata": {
      "needs_background": "light"
     },
     "output_type": "display_data"
    }
   ],
   "source": [
    "#выделим квартиры в Санкт-Петербурге и вычислим их среднюю стоимость на разном удалении от центра  \n",
    "\n",
    "(\n",
    "    data_filtered.query('locality_name == \"Санкт-Петербург\"')\n",
    "    .pivot_table(index='city_center_km', values='last_price')\n",
    "    .plot(grid=True, figsize=(12, 5))\n",
    ")\n"
   ]
  },
  {
   "cell_type": "markdown",
   "metadata": {},
   "source": [
    "Стоимость объектов обратно пропорционально зависит от расстояния до центра города - чем дальше квартира от центра города, тем она дешевле. Но на расстояних до 5 км от центра этой зависимости практически нет. "
   ]
  },
  {
   "cell_type": "markdown",
   "metadata": {},
   "source": [
    "<div class=\"alert alert-success\">\n",
    "✔️ Комментарий ревьюера ✔️\n",
    "\n",
    "Верно. На графике после 7 км заметно, что цена меняется. Это возможный центр города.\n",
    "\n",
    "Если интересно, то самый дорогой по стоимости жилья район в Санкт-Петербурге риелторы назвали \"Золотой треугольник\". Дома \"Золотого треугольника\" находятся в пределах Невского проспекта, набережной реки Фонтанки и Дворцовой набережной.\n",
    "Для географической справки: https://zen.yandex.ru/media/id/5cb4ebcc0a51a300b5b1f60d/zolotoi-treugolnik-sanktpeterburga-chto-eto-i-gde-nahoditsia-5edf942db1204610073e88b2\n",
    "\n",
    "</div>"
   ]
  },
  {
   "cell_type": "markdown",
   "metadata": {
    "id": "h7VpzkIDAwb-"
   },
   "source": [
    "### Напишите общий вывод"
   ]
  },
  {
   "cell_type": "markdown",
   "metadata": {
    "id": "3H4lnp_KAwb-"
   },
   "source": [
    "В ходе выполнения проекта была проведена предобработка данных и в результате была достигнута цель - провести исследовательский анализ данных и установить параметры, влияющие на цену объектов недвижимости. \n",
    " \n",
    "1) На стоимость объектов влияют следующие факторы:\n",
    "общая площадь квартиры, жилая площадь и площадь кухни, количество комнат - прямо пропорционально влияют на стоимость, в то время как дата размещения не имеет прямого влияния на стоимость квартир. На графике зависимости стоимости объекта от года увидели спад стоимости в течение времени, но также увидели небольшой подъем в 2019 году. \n",
    "Есть наблюдение о том, что стоимость квартир на первом и последнем этажах на порядок ниже стоимости квартир на других этажах. \n",
    "\n",
    "2) Также, был изучено, как быстро продавались квартиры.\n",
    "Обычно продажа занимает около 3-4х месяцев. Есть аномальные данные по продаже квартир в течение 1-30 дней - достаточно быстро, если учитывать, что продажа квартиры - долгий и трудоемкий процесс. Также присутствуют аномально долгие продажи - от 2-5 лет. Допустимо, что такие долгие сроки связаны с непривлекательностью квартиры для покупателей.\n",
    "\n",
    "3) Была посчитана средняя цена одного квадратного метра в 10 населённых пунктах с наибольшим числом объявлений. \n",
    "Самой высокой стоимостью квадратного метра обладает Санкт-Петербург - 106 тыс рублей.  Самой низкой стоимостью квадратного метра обладает населенный пункт Выборг - 57 тыс рублей. \n",
    "\n",
    "4) Также, выяснили, что стоимость объектов имеет обратно пропорциональную зависимость от расстояния до центра города. Чем дальше квартира от центра города, тем она дешевле. Но на расстояних до 5 км от центра этой зависимости практически нет. "
   ]
  },
  {
   "cell_type": "markdown",
   "metadata": {},
   "source": [
    "<div class=\"alert alert-success\">\n",
    "\n",
    "**✔️ Комментарий ревьюера ✔️**\n",
    "   \n",
    "   Проведен основательный и подробный анализ. Все наглядно - графики и гистограммы подтверждают обоснованные выводы. Учти мои замечания. Возможно, придется немного подправить выводы. Жду твой проект на повторное ревью. Успехов!\n",
    "\n",
    "</div>\n"
   ]
  },
  {
   "cell_type": "markdown",
   "metadata": {},
   "source": [
    "<div class=\"alert alert-success\">\n",
    "\n",
    "**✔️ Комментарий ревьюера v2✔️**\n",
    "   \n",
    "   Настя, замечания устранены 👍. Уверен, мои советы пригодятся тебе в новых проектах. Успехов в обучении! 😉 \n",
    "\n",
    "</div>"
   ]
  },
  {
   "cell_type": "markdown",
   "metadata": {
    "id": "A90mc0BgAwb-"
   },
   "source": [
    "**Чек-лист готовности проекта**\n",
    "\n",
    "Поставьте 'x' в выполненных пунктах. Далее нажмите Shift+Enter."
   ]
  },
  {
   "cell_type": "markdown",
   "metadata": {
    "id": "ME3sTWm6Awb-"
   },
   "source": [
    "- [x]  Файл с данными открыт.\n",
    "- [x]  Файл с данными изучен: выведены первые строки, использован метод `info()`, построены гистограммы.\n",
    "- [x]  Найдены пропущенные значения.\n",
    "- [x]  Пропущенные значения заполнены там, где это возможно.\n",
    "- [x]  Объяснено, какие пропущенные значения обнаружены.\n",
    "- [x]  В каждом столбце установлен корректный тип данных.\n",
    "- [x]  Объяснено, в каких столбцах изменён тип данных и почему.\n",
    "- [x]  Устранены неявные дубликаты в названиях населённых пунктов.\n",
    "- [x]  Обработаны редкие и выбивающиеся значения (аномалии).\n",
    "- [x]  В таблицу добавлены новые параметры:\n",
    "       – цена одного квадратного метра;\n",
    "       – день публикации объявления (0 - понедельник, 1 - вторник и т. д.);\n",
    "       – месяц публикации объявления;\n",
    "       – год публикации объявления;\n",
    "       – тип этажа квартиры (значения — «первый», «последний», «другой»);\n",
    "       – расстояние до центра города в километрах.\n",
    "- [x]  Изучены и описаны параметры:\n",
    "        - общая площадь;\n",
    "        - жилая площадь;\n",
    "        - площадь кухни;\n",
    "        - цена объекта;\n",
    "        - количество комнат;\n",
    "        - высота потолков;\n",
    "        - тип этажа квартиры («первый», «последний», «другой»);\n",
    "        - общее количество этажей в доме;\n",
    "        - расстояние до центра города в метрах;\n",
    "        - расстояние до ближайшего парка.\n",
    "- [x]  Выполнено задание «Изучите, как быстро продавались квартиры (столбец `days_exposition`)»:\n",
    "    - построена гистограмма;\n",
    "    - рассчитаны среднее и медиана;\n",
    "    - описано, сколько обычно занимает продажа и указано, какие продажи можно считать быстрыми, а какие — необычно долгими.\n",
    "- [x]  Выполнено задание «Определите факторы, которые больше всего влияют на общую (полную) стоимость объекта». Построены графики, которые показывают зависимость цены от параметров:\n",
    "        - общая площадь;\n",
    "        - жилая площадь;\n",
    "        - площадь кухни;\n",
    "        - количество комнат;\n",
    "        - тип этажа, на котором расположена квартира (первый, последний, другой);\n",
    "        - дата размещения (день недели, месяц, год).\n",
    "- [x]  Выполнено задание «Посчитайте среднюю цену одного квадратного метра в 10 населённых пунктах с наибольшим числом объявлений»:\n",
    "    - выделены населённые пункты с самой высокой и низкой стоимостью квадратного метра.\n",
    "- [x]  Выполнено задание «Выделите квартиры в Санкт-Петербурге с помощью столбца `locality_name` и вычислите их среднюю стоимость на разном удалении от центра»:\n",
    "    -  учтён каждый километр расстояния, известны средние цены квартир в одном километре от центра, в двух и так далее;\n",
    "    -  описано, как стоимость объекта зависит от расстояния до центра города;\n",
    "    -  построен график изменения средней цены для каждого километра от центра Петербурга.\n",
    "- [x]  На каждом этапе сделаны промежуточные выводы.\n",
    "- [x]  В конце проекта сделан общий вывод."
   ]
  }
 ],
 "metadata": {
  "ExecuteTimeLog": [
   {
    "duration": 640,
    "start_time": "2024-07-11T17:07:06.224Z"
   },
   {
    "duration": 63,
    "start_time": "2024-07-11T17:08:25.099Z"
   },
   {
    "duration": 55,
    "start_time": "2024-07-11T17:09:26.700Z"
   },
   {
    "duration": 58,
    "start_time": "2024-07-11T17:09:29.667Z"
   },
   {
    "duration": 93,
    "start_time": "2024-07-11T17:09:33.811Z"
   },
   {
    "duration": 124,
    "start_time": "2024-07-11T17:10:22.976Z"
   },
   {
    "duration": 577,
    "start_time": "2024-07-11T17:11:01.228Z"
   },
   {
    "duration": 114,
    "start_time": "2024-07-11T17:11:49.992Z"
   },
   {
    "duration": 108,
    "start_time": "2024-07-11T17:12:45.394Z"
   },
   {
    "duration": 112,
    "start_time": "2024-07-11T17:12:49.806Z"
   },
   {
    "duration": 109,
    "start_time": "2024-07-11T17:13:50.872Z"
   },
   {
    "duration": 116,
    "start_time": "2024-07-11T17:14:24.743Z"
   },
   {
    "duration": 105,
    "start_time": "2024-07-11T17:15:06.921Z"
   },
   {
    "duration": 118,
    "start_time": "2024-07-11T17:15:20.798Z"
   },
   {
    "duration": 18,
    "start_time": "2024-07-11T17:15:23.208Z"
   },
   {
    "duration": 241,
    "start_time": "2024-07-11T17:15:40.691Z"
   },
   {
    "duration": 1345,
    "start_time": "2024-07-11T17:16:20.773Z"
   },
   {
    "duration": 173,
    "start_time": "2024-07-11T17:19:02.609Z"
   },
   {
    "duration": 158,
    "start_time": "2024-07-11T17:19:21.224Z"
   },
   {
    "duration": 1468,
    "start_time": "2024-07-11T17:22:07.529Z"
   },
   {
    "duration": 1728,
    "start_time": "2024-07-11T17:22:17.665Z"
   },
   {
    "duration": 1822,
    "start_time": "2024-07-11T17:22:26.318Z"
   },
   {
    "duration": 2068,
    "start_time": "2024-07-11T17:23:35.979Z"
   },
   {
    "duration": 638,
    "start_time": "2024-07-13T14:14:32.105Z"
   },
   {
    "duration": 98,
    "start_time": "2024-07-13T14:14:50.439Z"
   },
   {
    "duration": 131,
    "start_time": "2024-07-13T14:15:12.415Z"
   },
   {
    "duration": 120,
    "start_time": "2024-07-13T14:15:32.920Z"
   },
   {
    "duration": 31,
    "start_time": "2024-07-13T14:17:38.021Z"
   },
   {
    "duration": 10,
    "start_time": "2024-07-13T14:17:50.490Z"
   },
   {
    "duration": 12,
    "start_time": "2024-07-13T14:19:02.918Z"
   },
   {
    "duration": 50,
    "start_time": "2024-07-13T14:21:49.965Z"
   },
   {
    "duration": 9,
    "start_time": "2024-07-13T14:22:16.249Z"
   },
   {
    "duration": 27,
    "start_time": "2024-07-13T14:22:22.287Z"
   },
   {
    "duration": 14,
    "start_time": "2024-07-13T14:22:36.384Z"
   },
   {
    "duration": 28,
    "start_time": "2024-07-13T14:25:55.678Z"
   },
   {
    "duration": 26,
    "start_time": "2024-07-13T14:26:25.069Z"
   },
   {
    "duration": 11,
    "start_time": "2024-07-13T14:26:30.002Z"
   },
   {
    "duration": 34,
    "start_time": "2024-07-13T14:29:13.527Z"
   },
   {
    "duration": 38,
    "start_time": "2024-07-13T14:29:27.262Z"
   },
   {
    "duration": 7,
    "start_time": "2024-07-13T14:30:04.024Z"
   },
   {
    "duration": 31,
    "start_time": "2024-07-13T14:33:15.865Z"
   },
   {
    "duration": 9,
    "start_time": "2024-07-13T14:36:45.693Z"
   },
   {
    "duration": 32,
    "start_time": "2024-07-13T14:37:33.775Z"
   },
   {
    "duration": 10,
    "start_time": "2024-07-13T14:39:06.947Z"
   },
   {
    "duration": 35,
    "start_time": "2024-07-13T14:39:29.544Z"
   },
   {
    "duration": 5,
    "start_time": "2024-07-13T14:40:19.896Z"
   },
   {
    "duration": 7,
    "start_time": "2024-07-13T14:40:31.524Z"
   },
   {
    "duration": 10,
    "start_time": "2024-07-13T14:42:14.122Z"
   },
   {
    "duration": 10,
    "start_time": "2024-07-13T14:43:05.409Z"
   },
   {
    "duration": 10,
    "start_time": "2024-07-13T14:43:26.811Z"
   },
   {
    "duration": 12,
    "start_time": "2024-07-13T14:43:43.706Z"
   },
   {
    "duration": 7,
    "start_time": "2024-07-13T14:43:52.630Z"
   },
   {
    "duration": 8,
    "start_time": "2024-07-13T14:44:37.451Z"
   },
   {
    "duration": 6,
    "start_time": "2024-07-13T14:45:30.850Z"
   },
   {
    "duration": 7,
    "start_time": "2024-07-13T14:45:48.680Z"
   },
   {
    "duration": 10,
    "start_time": "2024-07-13T14:46:12.923Z"
   },
   {
    "duration": 9,
    "start_time": "2024-07-13T14:46:39.623Z"
   },
   {
    "duration": 9,
    "start_time": "2024-07-13T14:46:51.230Z"
   },
   {
    "duration": 8,
    "start_time": "2024-07-13T14:47:05.877Z"
   },
   {
    "duration": 9,
    "start_time": "2024-07-13T14:47:07.770Z"
   },
   {
    "duration": 17,
    "start_time": "2024-07-13T14:47:22.537Z"
   },
   {
    "duration": 12,
    "start_time": "2024-07-13T14:48:12.537Z"
   },
   {
    "duration": 8,
    "start_time": "2024-07-13T14:48:18.320Z"
   },
   {
    "duration": 9,
    "start_time": "2024-07-13T14:48:48.487Z"
   },
   {
    "duration": 7,
    "start_time": "2024-07-13T14:49:13.679Z"
   },
   {
    "duration": 12,
    "start_time": "2024-07-13T14:49:44.688Z"
   },
   {
    "duration": 138,
    "start_time": "2024-07-13T14:51:07.087Z"
   },
   {
    "duration": 118,
    "start_time": "2024-07-13T14:51:39.587Z"
   },
   {
    "duration": 129,
    "start_time": "2024-07-13T14:52:02.892Z"
   },
   {
    "duration": 10,
    "start_time": "2024-07-13T15:15:01.135Z"
   },
   {
    "duration": 8,
    "start_time": "2024-07-13T15:15:16.352Z"
   },
   {
    "duration": 5,
    "start_time": "2024-07-13T15:15:21.565Z"
   },
   {
    "duration": 7,
    "start_time": "2024-07-13T15:16:03.413Z"
   },
   {
    "duration": 8,
    "start_time": "2024-07-13T15:16:15.263Z"
   },
   {
    "duration": 127,
    "start_time": "2024-07-13T15:16:41.669Z"
   },
   {
    "duration": 2367,
    "start_time": "2024-07-13T15:16:41.798Z"
   },
   {
    "duration": 11,
    "start_time": "2024-07-13T15:16:44.167Z"
   },
   {
    "duration": 57,
    "start_time": "2024-07-13T15:17:23.773Z"
   },
   {
    "duration": 11,
    "start_time": "2024-07-13T15:17:26.246Z"
   },
   {
    "duration": 16,
    "start_time": "2024-07-13T15:18:24.706Z"
   },
   {
    "duration": 8,
    "start_time": "2024-07-13T15:19:03.810Z"
   },
   {
    "duration": 11,
    "start_time": "2024-07-13T15:19:36.608Z"
   },
   {
    "duration": 9,
    "start_time": "2024-07-13T15:19:49.484Z"
   },
   {
    "duration": 10,
    "start_time": "2024-07-13T15:19:56.015Z"
   },
   {
    "duration": 5,
    "start_time": "2024-07-13T15:20:01.235Z"
   },
   {
    "duration": 9,
    "start_time": "2024-07-13T15:20:05.409Z"
   },
   {
    "duration": 14,
    "start_time": "2024-07-13T15:20:10.252Z"
   },
   {
    "duration": 138,
    "start_time": "2024-07-13T15:20:24.999Z"
   },
   {
    "duration": 2052,
    "start_time": "2024-07-13T15:20:25.139Z"
   },
   {
    "duration": 14,
    "start_time": "2024-07-13T15:20:27.192Z"
   },
   {
    "duration": 7,
    "start_time": "2024-07-13T15:21:17.636Z"
   },
   {
    "duration": 7,
    "start_time": "2024-07-13T15:21:31.134Z"
   },
   {
    "duration": 8,
    "start_time": "2024-07-13T15:21:34.662Z"
   },
   {
    "duration": 21,
    "start_time": "2024-07-13T15:40:46.882Z"
   },
   {
    "duration": 7,
    "start_time": "2024-07-13T15:41:03.441Z"
   },
   {
    "duration": 15,
    "start_time": "2024-07-13T15:42:03.456Z"
   },
   {
    "duration": 6,
    "start_time": "2024-07-13T15:42:25.838Z"
   },
   {
    "duration": 20,
    "start_time": "2024-07-13T15:42:29.209Z"
   },
   {
    "duration": 128,
    "start_time": "2024-07-13T15:42:42.637Z"
   },
   {
    "duration": 2097,
    "start_time": "2024-07-13T15:42:42.767Z"
   },
   {
    "duration": 12,
    "start_time": "2024-07-13T15:42:44.866Z"
   },
   {
    "duration": 7,
    "start_time": "2024-07-13T15:42:44.880Z"
   },
   {
    "duration": 3,
    "start_time": "2024-07-13T15:42:51.554Z"
   },
   {
    "duration": 26,
    "start_time": "2024-07-13T15:42:53.491Z"
   },
   {
    "duration": 16,
    "start_time": "2024-07-13T15:46:34.074Z"
   },
   {
    "duration": 9,
    "start_time": "2024-07-13T15:46:40.990Z"
   },
   {
    "duration": 23,
    "start_time": "2024-07-13T15:46:57.238Z"
   },
   {
    "duration": 12,
    "start_time": "2024-07-13T15:47:30.329Z"
   },
   {
    "duration": 56,
    "start_time": "2024-07-13T15:54:32.547Z"
   },
   {
    "duration": 6,
    "start_time": "2024-07-13T15:54:39.807Z"
   },
   {
    "duration": 27,
    "start_time": "2024-07-13T15:54:46.945Z"
   },
   {
    "duration": 46,
    "start_time": "2024-07-13T15:57:04.879Z"
   },
   {
    "duration": 36,
    "start_time": "2024-07-13T16:01:49.144Z"
   },
   {
    "duration": 127,
    "start_time": "2024-07-13T16:02:08.475Z"
   },
   {
    "duration": 2031,
    "start_time": "2024-07-13T16:02:08.605Z"
   },
   {
    "duration": 12,
    "start_time": "2024-07-13T16:02:10.638Z"
   },
   {
    "duration": 6,
    "start_time": "2024-07-13T16:02:10.652Z"
   },
   {
    "duration": 4,
    "start_time": "2024-07-13T16:02:10.661Z"
   },
   {
    "duration": 9,
    "start_time": "2024-07-13T16:02:10.666Z"
   },
   {
    "duration": 37,
    "start_time": "2024-07-13T16:02:19.083Z"
   },
   {
    "duration": 20,
    "start_time": "2024-07-13T17:14:58.527Z"
   },
   {
    "duration": 1024,
    "start_time": "2024-07-13T17:24:45.275Z"
   },
   {
    "duration": 265,
    "start_time": "2024-07-13T17:24:58.704Z"
   },
   {
    "duration": 19,
    "start_time": "2024-07-13T17:33:05.700Z"
   },
   {
    "duration": 60,
    "start_time": "2024-07-13T17:34:18.184Z"
   },
   {
    "duration": 61,
    "start_time": "2024-07-13T17:35:16.879Z"
   },
   {
    "duration": 55,
    "start_time": "2024-07-13T17:35:20.071Z"
   },
   {
    "duration": 12,
    "start_time": "2024-07-13T17:37:31.169Z"
   },
   {
    "duration": 1070,
    "start_time": "2024-07-13T17:51:09.960Z"
   },
   {
    "duration": 1098,
    "start_time": "2024-07-13T17:57:19.883Z"
   },
   {
    "duration": 296,
    "start_time": "2024-07-13T17:57:29.676Z"
   },
   {
    "duration": 312,
    "start_time": "2024-07-13T17:57:46.323Z"
   },
   {
    "duration": 486,
    "start_time": "2024-07-13T17:58:18.342Z"
   },
   {
    "duration": 16,
    "start_time": "2024-07-13T18:07:20.183Z"
   },
   {
    "duration": 14,
    "start_time": "2024-07-13T18:07:41.138Z"
   },
   {
    "duration": 308,
    "start_time": "2024-07-13T18:07:42.474Z"
   },
   {
    "duration": 121,
    "start_time": "2024-07-13T18:13:14.306Z"
   },
   {
    "duration": 137,
    "start_time": "2024-07-13T18:13:35.112Z"
   },
   {
    "duration": 157,
    "start_time": "2024-07-13T18:13:52.887Z"
   },
   {
    "duration": 160,
    "start_time": "2024-07-13T18:14:05.286Z"
   },
   {
    "duration": 150,
    "start_time": "2024-07-13T18:14:29.556Z"
   },
   {
    "duration": 170,
    "start_time": "2024-07-13T18:14:35.357Z"
   },
   {
    "duration": 177,
    "start_time": "2024-07-13T18:15:11.224Z"
   },
   {
    "duration": 139,
    "start_time": "2024-07-13T18:15:46.273Z"
   },
   {
    "duration": 145,
    "start_time": "2024-07-13T18:16:02.965Z"
   },
   {
    "duration": 131,
    "start_time": "2024-07-13T18:18:06.683Z"
   },
   {
    "duration": 150,
    "start_time": "2024-07-13T18:18:06.815Z"
   },
   {
    "duration": 138,
    "start_time": "2024-07-13T18:18:06.967Z"
   },
   {
    "duration": 135,
    "start_time": "2024-07-13T18:18:07.106Z"
   },
   {
    "duration": 292,
    "start_time": "2024-07-13T18:18:07.243Z"
   },
   {
    "duration": 150,
    "start_time": "2024-07-13T18:18:07.536Z"
   },
   {
    "duration": 172,
    "start_time": "2024-07-13T18:18:07.687Z"
   },
   {
    "duration": 146,
    "start_time": "2024-07-13T18:19:33.756Z"
   },
   {
    "duration": 139,
    "start_time": "2024-07-13T18:19:45.938Z"
   },
   {
    "duration": 7,
    "start_time": "2024-07-13T18:21:55.913Z"
   },
   {
    "duration": 53,
    "start_time": "2024-07-13T18:27:37.980Z"
   },
   {
    "duration": 52,
    "start_time": "2024-07-13T18:27:54.210Z"
   },
   {
    "duration": 12,
    "start_time": "2024-07-13T18:28:33.435Z"
   },
   {
    "duration": 53,
    "start_time": "2024-07-13T18:28:35.058Z"
   },
   {
    "duration": 62,
    "start_time": "2024-07-13T18:28:48.799Z"
   },
   {
    "duration": 51,
    "start_time": "2024-07-13T18:28:54.436Z"
   },
   {
    "duration": 71,
    "start_time": "2024-07-13T18:29:12.405Z"
   },
   {
    "duration": 14,
    "start_time": "2024-07-13T18:29:40.794Z"
   },
   {
    "duration": 10,
    "start_time": "2024-07-13T18:29:57.413Z"
   },
   {
    "duration": 73,
    "start_time": "2024-07-13T18:30:22.888Z"
   },
   {
    "duration": 52,
    "start_time": "2024-07-13T18:30:59.140Z"
   },
   {
    "duration": 133,
    "start_time": "2024-07-13T18:33:23.109Z"
   },
   {
    "duration": 1878,
    "start_time": "2024-07-13T18:33:23.244Z"
   },
   {
    "duration": 13,
    "start_time": "2024-07-13T18:33:25.124Z"
   },
   {
    "duration": 40,
    "start_time": "2024-07-13T18:33:25.139Z"
   },
   {
    "duration": 9,
    "start_time": "2024-07-13T18:33:25.181Z"
   },
   {
    "duration": 10,
    "start_time": "2024-07-13T18:33:25.191Z"
   },
   {
    "duration": 7,
    "start_time": "2024-07-13T18:33:41.464Z"
   },
   {
    "duration": 7,
    "start_time": "2024-07-13T18:34:07.430Z"
   },
   {
    "duration": 6,
    "start_time": "2024-07-13T18:34:10.829Z"
   },
   {
    "duration": 12,
    "start_time": "2024-07-13T18:34:19.978Z"
   },
   {
    "duration": 8,
    "start_time": "2024-07-13T18:34:34.356Z"
   },
   {
    "duration": 8,
    "start_time": "2024-07-13T18:34:55.697Z"
   },
   {
    "duration": 11,
    "start_time": "2024-07-13T18:35:11.896Z"
   },
   {
    "duration": 12,
    "start_time": "2024-07-13T18:35:29.726Z"
   },
   {
    "duration": 8,
    "start_time": "2024-07-13T18:36:29.668Z"
   },
   {
    "duration": 12,
    "start_time": "2024-07-13T18:36:39.221Z"
   },
   {
    "duration": 9,
    "start_time": "2024-07-13T18:38:02.613Z"
   },
   {
    "duration": 141,
    "start_time": "2024-07-13T18:39:54.161Z"
   },
   {
    "duration": 136,
    "start_time": "2024-07-13T18:40:11.207Z"
   },
   {
    "duration": 10,
    "start_time": "2024-07-13T18:40:20.753Z"
   },
   {
    "duration": 139,
    "start_time": "2024-07-13T18:40:26.763Z"
   },
   {
    "duration": 2120,
    "start_time": "2024-07-13T18:40:26.904Z"
   },
   {
    "duration": 10,
    "start_time": "2024-07-13T18:40:29.026Z"
   },
   {
    "duration": 6,
    "start_time": "2024-07-13T18:40:29.038Z"
   },
   {
    "duration": 12,
    "start_time": "2024-07-13T18:40:29.046Z"
   },
   {
    "duration": 9,
    "start_time": "2024-07-13T18:40:29.060Z"
   },
   {
    "duration": 14,
    "start_time": "2024-07-13T18:40:29.070Z"
   },
   {
    "duration": 146,
    "start_time": "2024-07-13T18:40:42.928Z"
   },
   {
    "duration": 6,
    "start_time": "2024-07-13T18:41:38.362Z"
   },
   {
    "duration": 125,
    "start_time": "2024-07-13T18:41:48.202Z"
   },
   {
    "duration": 1942,
    "start_time": "2024-07-13T18:41:48.329Z"
   },
   {
    "duration": 12,
    "start_time": "2024-07-13T18:41:50.273Z"
   },
   {
    "duration": 39,
    "start_time": "2024-07-13T18:41:50.286Z"
   },
   {
    "duration": 27,
    "start_time": "2024-07-13T18:41:50.328Z"
   },
   {
    "duration": 21,
    "start_time": "2024-07-13T18:41:50.357Z"
   },
   {
    "duration": 9,
    "start_time": "2024-07-13T18:41:50.379Z"
   },
   {
    "duration": 81,
    "start_time": "2024-07-14T11:24:49.668Z"
   },
   {
    "duration": 145,
    "start_time": "2024-07-14T11:24:58.187Z"
   },
   {
    "duration": 1849,
    "start_time": "2024-07-14T11:24:58.334Z"
   },
   {
    "duration": 9,
    "start_time": "2024-07-14T11:25:00.185Z"
   },
   {
    "duration": 155,
    "start_time": "2024-07-14T11:25:00.196Z"
   },
   {
    "duration": 190,
    "start_time": "2024-07-14T11:25:00.354Z"
   },
   {
    "duration": 264,
    "start_time": "2024-07-14T11:25:00.545Z"
   },
   {
    "duration": 102,
    "start_time": "2024-07-14T11:25:00.810Z"
   },
   {
    "duration": 120,
    "start_time": "2024-07-14T11:25:08.134Z"
   },
   {
    "duration": 109,
    "start_time": "2024-07-14T11:25:21.338Z"
   },
   {
    "duration": 21,
    "start_time": "2024-07-14T11:25:31.054Z"
   },
   {
    "duration": 121,
    "start_time": "2024-07-14T11:25:43.843Z"
   },
   {
    "duration": 1887,
    "start_time": "2024-07-14T11:25:43.966Z"
   },
   {
    "duration": 10,
    "start_time": "2024-07-14T11:25:45.854Z"
   },
   {
    "duration": 25,
    "start_time": "2024-07-14T11:25:45.865Z"
   },
   {
    "duration": 34,
    "start_time": "2024-07-14T11:25:45.892Z"
   },
   {
    "duration": 7,
    "start_time": "2024-07-14T11:25:45.928Z"
   },
   {
    "duration": 11,
    "start_time": "2024-07-14T11:25:45.937Z"
   },
   {
    "duration": 108,
    "start_time": "2024-07-14T11:25:54.503Z"
   },
   {
    "duration": 105,
    "start_time": "2024-07-14T11:32:16.265Z"
   },
   {
    "duration": 127,
    "start_time": "2024-07-14T11:34:00.413Z"
   },
   {
    "duration": 116,
    "start_time": "2024-07-14T11:34:49.241Z"
   },
   {
    "duration": 1721,
    "start_time": "2024-07-14T11:34:49.359Z"
   },
   {
    "duration": 9,
    "start_time": "2024-07-14T11:34:51.082Z"
   },
   {
    "duration": 9,
    "start_time": "2024-07-14T11:34:51.092Z"
   },
   {
    "duration": 13,
    "start_time": "2024-07-14T11:34:51.103Z"
   },
   {
    "duration": 9,
    "start_time": "2024-07-14T11:34:51.117Z"
   },
   {
    "duration": 19,
    "start_time": "2024-07-14T11:34:51.127Z"
   },
   {
    "duration": 178,
    "start_time": "2024-07-14T11:34:58.907Z"
   },
   {
    "duration": 8,
    "start_time": "2024-07-14T11:35:33.024Z"
   },
   {
    "duration": 136,
    "start_time": "2024-07-14T11:37:22.343Z"
   },
   {
    "duration": 120,
    "start_time": "2024-07-14T11:37:45.967Z"
   },
   {
    "duration": 1735,
    "start_time": "2024-07-14T11:37:46.089Z"
   },
   {
    "duration": 16,
    "start_time": "2024-07-14T11:37:47.826Z"
   },
   {
    "duration": 5,
    "start_time": "2024-07-14T11:37:47.844Z"
   },
   {
    "duration": 6,
    "start_time": "2024-07-14T11:37:47.851Z"
   },
   {
    "duration": 20,
    "start_time": "2024-07-14T11:37:47.859Z"
   },
   {
    "duration": 24,
    "start_time": "2024-07-14T11:37:47.881Z"
   },
   {
    "duration": 154,
    "start_time": "2024-07-14T11:37:56.975Z"
   },
   {
    "duration": 59,
    "start_time": "2024-07-14T11:40:33.352Z"
   },
   {
    "duration": 53,
    "start_time": "2024-07-14T11:41:23.380Z"
   },
   {
    "duration": 33,
    "start_time": "2024-07-14T11:42:13.468Z"
   },
   {
    "duration": 50,
    "start_time": "2024-07-14T11:42:20.501Z"
   },
   {
    "duration": 175,
    "start_time": "2024-07-14T11:42:48.100Z"
   },
   {
    "duration": 65,
    "start_time": "2024-07-14T11:43:03.952Z"
   },
   {
    "duration": 66,
    "start_time": "2024-07-14T11:44:20.888Z"
   },
   {
    "duration": 38,
    "start_time": "2024-07-14T11:44:54.288Z"
   },
   {
    "duration": 18,
    "start_time": "2024-07-14T11:45:05.172Z"
   },
   {
    "duration": 42,
    "start_time": "2024-07-14T11:47:22.181Z"
   },
   {
    "duration": 215,
    "start_time": "2024-07-14T11:47:50.743Z"
   },
   {
    "duration": 70,
    "start_time": "2024-07-14T11:48:27.182Z"
   },
   {
    "duration": 40,
    "start_time": "2024-07-14T11:53:20.212Z"
   },
   {
    "duration": 75,
    "start_time": "2024-07-14T11:53:37.245Z"
   },
   {
    "duration": 42,
    "start_time": "2024-07-14T11:54:04.376Z"
   },
   {
    "duration": 40,
    "start_time": "2024-07-14T11:54:24.792Z"
   },
   {
    "duration": 205,
    "start_time": "2024-07-14T11:54:31.391Z"
   },
   {
    "duration": 1199,
    "start_time": "2024-07-14T11:55:17.705Z"
   },
   {
    "duration": 1081,
    "start_time": "2024-07-14T11:55:38.409Z"
   },
   {
    "duration": 40,
    "start_time": "2024-07-14T11:55:52.172Z"
   },
   {
    "duration": 64,
    "start_time": "2024-07-14T12:04:57.896Z"
   },
   {
    "duration": 141,
    "start_time": "2024-07-14T12:05:19.128Z"
   },
   {
    "duration": 276,
    "start_time": "2024-07-14T12:05:26.131Z"
   },
   {
    "duration": 64,
    "start_time": "2024-07-14T12:09:46.776Z"
   },
   {
    "duration": 127,
    "start_time": "2024-07-14T12:09:56.743Z"
   },
   {
    "duration": 43,
    "start_time": "2024-07-14T12:20:26.489Z"
   },
   {
    "duration": 38,
    "start_time": "2024-07-14T12:21:28.085Z"
   },
   {
    "duration": 8,
    "start_time": "2024-07-14T12:26:02.754Z"
   },
   {
    "duration": 7,
    "start_time": "2024-07-14T12:26:06.855Z"
   },
   {
    "duration": 146,
    "start_time": "2024-07-14T12:26:17.688Z"
   },
   {
    "duration": 143,
    "start_time": "2024-07-14T12:26:23.600Z"
   },
   {
    "duration": 11,
    "start_time": "2024-07-14T12:39:07.880Z"
   },
   {
    "duration": 315,
    "start_time": "2024-07-14T12:40:38.577Z"
   },
   {
    "duration": 208,
    "start_time": "2024-07-14T12:40:48.802Z"
   },
   {
    "duration": 267,
    "start_time": "2024-07-14T12:41:07.982Z"
   },
   {
    "duration": 231,
    "start_time": "2024-07-14T12:41:12.512Z"
   },
   {
    "duration": 210,
    "start_time": "2024-07-14T12:41:16.296Z"
   },
   {
    "duration": 156,
    "start_time": "2024-07-14T12:41:43.475Z"
   },
   {
    "duration": 232,
    "start_time": "2024-07-14T12:45:54.100Z"
   },
   {
    "duration": 143,
    "start_time": "2024-07-14T12:48:04.335Z"
   },
   {
    "duration": 239,
    "start_time": "2024-07-14T12:48:25.135Z"
   },
   {
    "duration": 240,
    "start_time": "2024-07-14T12:48:47.747Z"
   },
   {
    "duration": 221,
    "start_time": "2024-07-14T12:49:00.605Z"
   },
   {
    "duration": 213,
    "start_time": "2024-07-14T12:49:05.421Z"
   },
   {
    "duration": 222,
    "start_time": "2024-07-14T12:49:12.091Z"
   },
   {
    "duration": 458,
    "start_time": "2024-07-14T12:49:52.992Z"
   },
   {
    "duration": 271,
    "start_time": "2024-07-14T12:50:21.785Z"
   },
   {
    "duration": 231,
    "start_time": "2024-07-14T12:50:26.351Z"
   },
   {
    "duration": 233,
    "start_time": "2024-07-14T12:50:31.750Z"
   },
   {
    "duration": 259,
    "start_time": "2024-07-14T12:50:36.467Z"
   },
   {
    "duration": 167,
    "start_time": "2024-07-14T12:51:01.333Z"
   },
   {
    "duration": 156,
    "start_time": "2024-07-14T12:51:30.596Z"
   },
   {
    "duration": 153,
    "start_time": "2024-07-14T12:51:35.467Z"
   },
   {
    "duration": 234,
    "start_time": "2024-07-14T12:51:39.457Z"
   },
   {
    "duration": 184,
    "start_time": "2024-07-14T12:52:05.270Z"
   },
   {
    "duration": 134,
    "start_time": "2024-07-14T12:52:30.134Z"
   },
   {
    "duration": 249,
    "start_time": "2024-07-14T12:53:06.438Z"
   },
   {
    "duration": 211,
    "start_time": "2024-07-14T12:53:16.419Z"
   },
   {
    "duration": 272,
    "start_time": "2024-07-14T12:53:23.073Z"
   },
   {
    "duration": 1031,
    "start_time": "2024-07-14T12:54:04.220Z"
   },
   {
    "duration": 1038,
    "start_time": "2024-07-14T12:54:12.682Z"
   },
   {
    "duration": 1012,
    "start_time": "2024-07-14T12:54:18.869Z"
   },
   {
    "duration": 265,
    "start_time": "2024-07-14T12:54:27.349Z"
   },
   {
    "duration": 1023,
    "start_time": "2024-07-14T12:54:30.448Z"
   },
   {
    "duration": 151,
    "start_time": "2024-07-14T12:54:36.559Z"
   },
   {
    "duration": 2014,
    "start_time": "2024-07-14T12:54:36.712Z"
   },
   {
    "duration": 13,
    "start_time": "2024-07-14T12:54:38.728Z"
   },
   {
    "duration": 6,
    "start_time": "2024-07-14T12:54:38.742Z"
   },
   {
    "duration": 5,
    "start_time": "2024-07-14T12:54:38.750Z"
   },
   {
    "duration": 15,
    "start_time": "2024-07-14T12:54:38.757Z"
   },
   {
    "duration": 10,
    "start_time": "2024-07-14T12:54:38.773Z"
   },
   {
    "duration": 154,
    "start_time": "2024-07-14T12:54:38.784Z"
   },
   {
    "duration": 6,
    "start_time": "2024-07-14T12:54:38.940Z"
   },
   {
    "duration": 35,
    "start_time": "2024-07-14T12:54:38.947Z"
   },
   {
    "duration": 287,
    "start_time": "2024-07-14T12:54:38.983Z"
   },
   {
    "duration": 73,
    "start_time": "2024-07-14T12:54:39.271Z"
   },
   {
    "duration": 0,
    "start_time": "2024-07-14T12:54:39.346Z"
   },
   {
    "duration": 0,
    "start_time": "2024-07-14T12:54:39.347Z"
   },
   {
    "duration": 0,
    "start_time": "2024-07-14T12:54:39.348Z"
   },
   {
    "duration": 0,
    "start_time": "2024-07-14T12:54:39.350Z"
   },
   {
    "duration": 0,
    "start_time": "2024-07-14T12:54:39.351Z"
   },
   {
    "duration": 0,
    "start_time": "2024-07-14T12:54:39.352Z"
   },
   {
    "duration": 110,
    "start_time": "2024-07-14T12:54:59.934Z"
   },
   {
    "duration": 154,
    "start_time": "2024-07-14T12:55:42.522Z"
   },
   {
    "duration": 224,
    "start_time": "2024-07-14T12:55:51.954Z"
   },
   {
    "duration": 130,
    "start_time": "2024-07-14T12:56:23.736Z"
   },
   {
    "duration": 223,
    "start_time": "2024-07-14T12:56:57.506Z"
   },
   {
    "duration": 129,
    "start_time": "2024-07-14T12:57:34.452Z"
   },
   {
    "duration": 237,
    "start_time": "2024-07-14T12:57:45.029Z"
   },
   {
    "duration": 230,
    "start_time": "2024-07-14T12:59:40.737Z"
   },
   {
    "duration": 223,
    "start_time": "2024-07-14T12:59:41.191Z"
   },
   {
    "duration": 230,
    "start_time": "2024-07-14T12:59:41.821Z"
   },
   {
    "duration": 219,
    "start_time": "2024-07-14T12:59:42.053Z"
   },
   {
    "duration": 184,
    "start_time": "2024-07-14T12:59:42.274Z"
   },
   {
    "duration": 556,
    "start_time": "2024-07-14T12:59:42.460Z"
   },
   {
    "duration": 136,
    "start_time": "2024-07-14T12:59:43.018Z"
   },
   {
    "duration": 5,
    "start_time": "2024-07-14T13:05:08.392Z"
   },
   {
    "duration": 6,
    "start_time": "2024-07-14T13:05:39.079Z"
   },
   {
    "duration": 259,
    "start_time": "2024-07-14T13:07:54.125Z"
   },
   {
    "duration": 230,
    "start_time": "2024-07-14T13:08:36.165Z"
   },
   {
    "duration": 386,
    "start_time": "2024-07-14T13:11:48.897Z"
   },
   {
    "duration": 240,
    "start_time": "2024-07-14T13:25:18.886Z"
   },
   {
    "duration": 85,
    "start_time": "2024-07-14T13:26:19.022Z"
   },
   {
    "duration": 239,
    "start_time": "2024-07-14T13:26:30.347Z"
   },
   {
    "duration": 364,
    "start_time": "2024-07-14T13:27:24.673Z"
   },
   {
    "duration": 330,
    "start_time": "2024-07-14T13:30:18.913Z"
   },
   {
    "duration": 340,
    "start_time": "2024-07-14T13:30:30.399Z"
   },
   {
    "duration": 26,
    "start_time": "2024-07-14T13:37:15.213Z"
   },
   {
    "duration": 20,
    "start_time": "2024-07-14T13:37:20.935Z"
   },
   {
    "duration": 32,
    "start_time": "2024-07-14T13:37:33.030Z"
   },
   {
    "duration": 28,
    "start_time": "2024-07-14T13:37:39.885Z"
   },
   {
    "duration": 27,
    "start_time": "2024-07-14T13:40:21.603Z"
   },
   {
    "duration": 41,
    "start_time": "2024-07-14T13:47:25.848Z"
   },
   {
    "duration": 133,
    "start_time": "2024-07-14T13:52:46.554Z"
   },
   {
    "duration": 20,
    "start_time": "2024-07-14T13:53:01.127Z"
   },
   {
    "duration": 30,
    "start_time": "2024-07-14T13:53:12.019Z"
   },
   {
    "duration": 165,
    "start_time": "2024-07-14T13:53:15.743Z"
   },
   {
    "duration": 169,
    "start_time": "2024-07-14T13:53:48.178Z"
   },
   {
    "duration": 162,
    "start_time": "2024-07-14T13:58:05.713Z"
   },
   {
    "duration": 171,
    "start_time": "2024-07-14T13:58:16.645Z"
   },
   {
    "duration": 171,
    "start_time": "2024-07-14T14:00:07.548Z"
   },
   {
    "duration": 172,
    "start_time": "2024-07-14T14:00:54.434Z"
   },
   {
    "duration": 164,
    "start_time": "2024-07-14T14:01:01.947Z"
   },
   {
    "duration": 145,
    "start_time": "2024-07-14T14:01:09.192Z"
   },
   {
    "duration": 163,
    "start_time": "2024-07-14T14:01:21.264Z"
   },
   {
    "duration": 13,
    "start_time": "2024-07-14T14:02:24.724Z"
   },
   {
    "duration": 13,
    "start_time": "2024-07-14T14:02:56.760Z"
   },
   {
    "duration": 126,
    "start_time": "2024-07-14T14:03:03.063Z"
   },
   {
    "duration": 2162,
    "start_time": "2024-07-14T14:03:03.191Z"
   },
   {
    "duration": 9,
    "start_time": "2024-07-14T14:03:05.355Z"
   },
   {
    "duration": 20,
    "start_time": "2024-07-14T14:03:05.365Z"
   },
   {
    "duration": 20,
    "start_time": "2024-07-14T14:03:05.387Z"
   },
   {
    "duration": 11,
    "start_time": "2024-07-14T14:03:05.409Z"
   },
   {
    "duration": 10,
    "start_time": "2024-07-14T14:03:05.421Z"
   },
   {
    "duration": 14,
    "start_time": "2024-07-14T14:03:05.432Z"
   },
   {
    "duration": 171,
    "start_time": "2024-07-14T14:03:05.448Z"
   },
   {
    "duration": 6,
    "start_time": "2024-07-14T14:03:05.620Z"
   },
   {
    "duration": 44,
    "start_time": "2024-07-14T14:03:05.628Z"
   },
   {
    "duration": 305,
    "start_time": "2024-07-14T14:03:05.673Z"
   },
   {
    "duration": 236,
    "start_time": "2024-07-14T14:03:05.979Z"
   },
   {
    "duration": 245,
    "start_time": "2024-07-14T14:03:06.218Z"
   },
   {
    "duration": 238,
    "start_time": "2024-07-14T14:03:06.464Z"
   },
   {
    "duration": 358,
    "start_time": "2024-07-14T14:03:06.704Z"
   },
   {
    "duration": 195,
    "start_time": "2024-07-14T14:03:07.064Z"
   },
   {
    "duration": 281,
    "start_time": "2024-07-14T14:03:07.260Z"
   },
   {
    "duration": 134,
    "start_time": "2024-07-14T14:03:07.542Z"
   },
   {
    "duration": 249,
    "start_time": "2024-07-14T14:03:07.678Z"
   },
   {
    "duration": 274,
    "start_time": "2024-07-14T14:03:07.929Z"
   },
   {
    "duration": 237,
    "start_time": "2024-07-14T14:03:08.204Z"
   },
   {
    "duration": 355,
    "start_time": "2024-07-14T14:03:08.442Z"
   },
   {
    "duration": 39,
    "start_time": "2024-07-14T14:03:08.799Z"
   },
   {
    "duration": 190,
    "start_time": "2024-07-14T14:03:08.840Z"
   },
   {
    "duration": 174,
    "start_time": "2024-07-14T14:03:09.031Z"
   },
   {
    "duration": 186,
    "start_time": "2024-07-14T14:03:09.207Z"
   },
   {
    "duration": 155,
    "start_time": "2024-07-14T14:03:09.395Z"
   },
   {
    "duration": 150,
    "start_time": "2024-07-14T14:03:23.755Z"
   },
   {
    "duration": 147,
    "start_time": "2024-07-14T14:04:06.860Z"
   },
   {
    "duration": 22,
    "start_time": "2024-07-14T14:04:45.023Z"
   },
   {
    "duration": 146,
    "start_time": "2024-07-14T14:05:14.733Z"
   },
   {
    "duration": 15,
    "start_time": "2024-07-14T14:07:05.282Z"
   },
   {
    "duration": 136,
    "start_time": "2024-07-14T14:08:06.427Z"
   },
   {
    "duration": 139,
    "start_time": "2024-07-14T14:08:56.842Z"
   },
   {
    "duration": 139,
    "start_time": "2024-07-14T14:09:06.349Z"
   },
   {
    "duration": 142,
    "start_time": "2024-07-14T14:11:46.572Z"
   },
   {
    "duration": 31,
    "start_time": "2024-07-14T14:13:27.191Z"
   },
   {
    "duration": 28,
    "start_time": "2024-07-14T14:13:42.041Z"
   },
   {
    "duration": 171,
    "start_time": "2024-07-14T14:13:44.502Z"
   },
   {
    "duration": 25,
    "start_time": "2024-07-14T14:13:46.799Z"
   },
   {
    "duration": 186,
    "start_time": "2024-07-14T14:14:08.062Z"
   },
   {
    "duration": 20,
    "start_time": "2024-07-14T14:15:00.943Z"
   },
   {
    "duration": 163,
    "start_time": "2024-07-14T14:15:05.235Z"
   },
   {
    "duration": 23,
    "start_time": "2024-07-14T14:15:06.330Z"
   },
   {
    "duration": 36,
    "start_time": "2024-07-14T14:15:22.512Z"
   },
   {
    "duration": 185,
    "start_time": "2024-07-14T14:17:52.739Z"
   },
   {
    "duration": 174,
    "start_time": "2024-07-14T14:19:15.233Z"
   },
   {
    "duration": 165,
    "start_time": "2024-07-14T14:19:37.642Z"
   },
   {
    "duration": 59,
    "start_time": "2024-07-14T14:19:48.787Z"
   },
   {
    "duration": 158,
    "start_time": "2024-07-14T14:19:55.835Z"
   },
   {
    "duration": 153,
    "start_time": "2024-07-14T14:20:22.348Z"
   },
   {
    "duration": 80,
    "start_time": "2024-07-14T15:46:34.402Z"
   },
   {
    "duration": 19,
    "start_time": "2024-07-14T15:46:43.810Z"
   },
   {
    "duration": 13,
    "start_time": "2024-07-14T15:47:16.870Z"
   },
   {
    "duration": 28,
    "start_time": "2024-07-14T15:47:36.164Z"
   },
   {
    "duration": 63,
    "start_time": "2024-07-14T15:48:53.500Z"
   },
   {
    "duration": 24,
    "start_time": "2024-07-14T15:49:01.232Z"
   },
   {
    "duration": 23,
    "start_time": "2024-07-14T15:49:09.776Z"
   },
   {
    "duration": 28,
    "start_time": "2024-07-14T15:49:59.805Z"
   },
   {
    "duration": 30,
    "start_time": "2024-07-14T15:50:43.261Z"
   },
   {
    "duration": 28,
    "start_time": "2024-07-14T15:51:04.918Z"
   },
   {
    "duration": 31,
    "start_time": "2024-07-14T15:51:10.447Z"
   },
   {
    "duration": 27,
    "start_time": "2024-07-14T15:51:14.859Z"
   },
   {
    "duration": 44,
    "start_time": "2024-07-14T15:51:20.764Z"
   },
   {
    "duration": 101,
    "start_time": "2024-07-14T15:53:13.513Z"
   },
   {
    "duration": 81,
    "start_time": "2024-07-14T15:53:32.695Z"
   },
   {
    "duration": 31,
    "start_time": "2024-07-14T15:53:44.972Z"
   },
   {
    "duration": 66,
    "start_time": "2024-07-14T15:54:19.403Z"
   },
   {
    "duration": 111,
    "start_time": "2024-07-14T15:54:56.995Z"
   },
   {
    "duration": 26,
    "start_time": "2024-07-14T15:55:22.173Z"
   },
   {
    "duration": 24,
    "start_time": "2024-07-14T15:55:29.685Z"
   },
   {
    "duration": 27,
    "start_time": "2024-07-14T15:55:38.826Z"
   },
   {
    "duration": 36,
    "start_time": "2024-07-14T15:55:50.120Z"
   },
   {
    "duration": 29,
    "start_time": "2024-07-14T15:55:55.533Z"
   },
   {
    "duration": 26,
    "start_time": "2024-07-14T15:58:44.169Z"
   },
   {
    "duration": 43,
    "start_time": "2024-07-14T15:59:01.797Z"
   },
   {
    "duration": 281,
    "start_time": "2024-07-14T15:59:36.458Z"
   },
   {
    "duration": 28,
    "start_time": "2024-07-14T16:00:42.812Z"
   },
   {
    "duration": 32,
    "start_time": "2024-07-14T16:04:08.048Z"
   },
   {
    "duration": 26,
    "start_time": "2024-07-14T16:04:25.412Z"
   },
   {
    "duration": 52,
    "start_time": "2024-07-14T16:07:31.351Z"
   },
   {
    "duration": 49,
    "start_time": "2024-07-14T16:07:54.345Z"
   },
   {
    "duration": 25,
    "start_time": "2024-07-14T16:08:03.588Z"
   },
   {
    "duration": 56,
    "start_time": "2024-07-14T16:08:34.630Z"
   },
   {
    "duration": 42,
    "start_time": "2024-07-14T16:09:48.028Z"
   },
   {
    "duration": 43,
    "start_time": "2024-07-14T16:10:25.384Z"
   },
   {
    "duration": 39,
    "start_time": "2024-07-14T16:12:40.930Z"
   },
   {
    "duration": 35,
    "start_time": "2024-07-14T16:12:53.118Z"
   },
   {
    "duration": 33,
    "start_time": "2024-07-14T16:13:02.269Z"
   },
   {
    "duration": 35,
    "start_time": "2024-07-14T16:14:58.832Z"
   },
   {
    "duration": 58,
    "start_time": "2024-07-14T16:15:09.561Z"
   },
   {
    "duration": 29,
    "start_time": "2024-07-14T16:16:47.531Z"
   },
   {
    "duration": 23,
    "start_time": "2024-07-14T16:17:11.684Z"
   },
   {
    "duration": 23,
    "start_time": "2024-07-14T16:17:55.629Z"
   },
   {
    "duration": 26,
    "start_time": "2024-07-14T16:17:59.458Z"
   },
   {
    "duration": 23,
    "start_time": "2024-07-14T16:18:06.493Z"
   },
   {
    "duration": 24,
    "start_time": "2024-07-14T16:18:13.736Z"
   },
   {
    "duration": 83,
    "start_time": "2024-07-14T16:19:03.941Z"
   },
   {
    "duration": 93,
    "start_time": "2024-07-14T16:19:13.376Z"
   },
   {
    "duration": 59,
    "start_time": "2024-07-14T16:19:20.673Z"
   },
   {
    "duration": 92,
    "start_time": "2024-07-14T16:19:27.812Z"
   },
   {
    "duration": 61,
    "start_time": "2024-07-14T16:19:34.339Z"
   },
   {
    "duration": 63,
    "start_time": "2024-07-14T16:19:48.892Z"
   },
   {
    "duration": 28,
    "start_time": "2024-07-14T16:19:54.349Z"
   },
   {
    "duration": 991,
    "start_time": "2024-07-14T16:20:22.355Z"
   },
   {
    "duration": 33,
    "start_time": "2024-07-14T16:20:38.289Z"
   },
   {
    "duration": 44,
    "start_time": "2024-07-14T16:20:55.182Z"
   },
   {
    "duration": 25,
    "start_time": "2024-07-14T16:21:43.359Z"
   },
   {
    "duration": 964,
    "start_time": "2024-07-14T16:22:02.841Z"
   },
   {
    "duration": 1053,
    "start_time": "2024-07-14T16:22:18.859Z"
   },
   {
    "duration": 1037,
    "start_time": "2024-07-14T16:23:21.613Z"
   },
   {
    "duration": 28,
    "start_time": "2024-07-14T16:23:50.963Z"
   },
   {
    "duration": 32,
    "start_time": "2024-07-14T16:24:10.618Z"
   },
   {
    "duration": 64,
    "start_time": "2024-07-14T16:26:06.643Z"
   },
   {
    "duration": 61,
    "start_time": "2024-07-14T16:26:24.322Z"
   },
   {
    "duration": 59,
    "start_time": "2024-07-14T16:26:33.197Z"
   },
   {
    "duration": 154,
    "start_time": "2024-07-14T16:26:35.423Z"
   },
   {
    "duration": 80,
    "start_time": "2024-07-14T16:26:37.687Z"
   },
   {
    "duration": 61,
    "start_time": "2024-07-14T16:27:56.652Z"
   },
   {
    "duration": 61,
    "start_time": "2024-07-14T16:28:27.275Z"
   },
   {
    "duration": 68,
    "start_time": "2024-07-14T16:28:32.900Z"
   },
   {
    "duration": 72,
    "start_time": "2024-07-14T16:33:13.136Z"
   },
   {
    "duration": 152,
    "start_time": "2024-07-14T16:33:43.009Z"
   },
   {
    "duration": 68,
    "start_time": "2024-07-14T16:33:45.229Z"
   },
   {
    "duration": 40,
    "start_time": "2024-07-14T16:33:58.723Z"
   },
   {
    "duration": 44,
    "start_time": "2024-07-14T16:34:12.223Z"
   },
   {
    "duration": 28,
    "start_time": "2024-07-14T16:34:24.925Z"
   },
   {
    "duration": 43,
    "start_time": "2024-07-14T16:34:27.818Z"
   },
   {
    "duration": 42,
    "start_time": "2024-07-14T16:34:32.395Z"
   },
   {
    "duration": 39,
    "start_time": "2024-07-14T16:34:40.718Z"
   },
   {
    "duration": 42,
    "start_time": "2024-07-14T16:34:50.292Z"
   },
   {
    "duration": 21,
    "start_time": "2024-07-14T16:37:20.407Z"
   },
   {
    "duration": 26,
    "start_time": "2024-07-14T16:37:33.791Z"
   },
   {
    "duration": 27,
    "start_time": "2024-07-14T16:38:23.297Z"
   },
   {
    "duration": 27,
    "start_time": "2024-07-14T16:38:36.561Z"
   },
   {
    "duration": 40,
    "start_time": "2024-07-14T16:40:20.474Z"
   },
   {
    "duration": 60,
    "start_time": "2024-07-14T16:41:45.743Z"
   },
   {
    "duration": 95,
    "start_time": "2024-07-14T16:48:45.286Z"
   },
   {
    "duration": 14,
    "start_time": "2024-07-14T16:52:51.319Z"
   },
   {
    "duration": 62,
    "start_time": "2024-07-14T16:53:06.174Z"
   },
   {
    "duration": 2169,
    "start_time": "2024-07-14T16:53:30.250Z"
   },
   {
    "duration": 15,
    "start_time": "2024-07-14T16:57:05.800Z"
   },
   {
    "duration": 97,
    "start_time": "2024-07-14T16:57:14.992Z"
   },
   {
    "duration": 64,
    "start_time": "2024-07-14T16:58:48.733Z"
   },
   {
    "duration": 20,
    "start_time": "2024-07-14T17:01:09.355Z"
   },
   {
    "duration": 1038,
    "start_time": "2024-07-14T17:02:39.434Z"
   },
   {
    "duration": 324,
    "start_time": "2024-07-14T17:03:01.736Z"
   },
   {
    "duration": 22,
    "start_time": "2024-07-14T17:03:28.459Z"
   },
   {
    "duration": 27,
    "start_time": "2024-07-14T17:05:41.504Z"
   },
   {
    "duration": 13,
    "start_time": "2024-07-14T17:07:49.654Z"
   },
   {
    "duration": 20,
    "start_time": "2024-07-14T17:07:57.297Z"
   },
   {
    "duration": 171,
    "start_time": "2024-07-14T17:08:23.585Z"
   },
   {
    "duration": 29,
    "start_time": "2024-07-14T17:15:22.827Z"
   },
   {
    "duration": 22,
    "start_time": "2024-07-14T17:16:17.152Z"
   },
   {
    "duration": 27,
    "start_time": "2024-07-14T17:16:29.712Z"
   },
   {
    "duration": 24,
    "start_time": "2024-07-14T17:16:56.174Z"
   },
   {
    "duration": 26,
    "start_time": "2024-07-14T17:17:04.618Z"
   },
   {
    "duration": 9,
    "start_time": "2024-07-14T17:31:46.507Z"
   },
   {
    "duration": 585,
    "start_time": "2024-07-14T17:32:22.144Z"
   },
   {
    "duration": 238,
    "start_time": "2024-07-14T17:33:11.591Z"
   },
   {
    "duration": 238,
    "start_time": "2024-07-14T17:34:26.758Z"
   },
   {
    "duration": 111,
    "start_time": "2024-07-14T17:36:32.194Z"
   },
   {
    "duration": 235,
    "start_time": "2024-07-14T17:36:49.037Z"
   },
   {
    "duration": 103,
    "start_time": "2024-07-14T17:38:55.052Z"
   },
   {
    "duration": 218,
    "start_time": "2024-07-14T17:39:07.605Z"
   },
   {
    "duration": 115,
    "start_time": "2024-07-14T17:40:48.372Z"
   },
   {
    "duration": 110,
    "start_time": "2024-07-14T17:41:56.649Z"
   },
   {
    "duration": 101,
    "start_time": "2024-07-14T17:42:42.565Z"
   },
   {
    "duration": 427,
    "start_time": "2024-07-14T17:43:19.337Z"
   },
   {
    "duration": 9,
    "start_time": "2024-07-14T17:44:41.187Z"
   },
   {
    "duration": 108,
    "start_time": "2024-07-14T17:44:45.995Z"
   },
   {
    "duration": 102,
    "start_time": "2024-07-14T17:46:14.311Z"
   },
   {
    "duration": 111,
    "start_time": "2024-07-14T17:46:50.653Z"
   },
   {
    "duration": 96,
    "start_time": "2024-07-14T17:46:55.591Z"
   },
   {
    "duration": 104,
    "start_time": "2024-07-14T17:49:41.465Z"
   },
   {
    "duration": 111,
    "start_time": "2024-07-14T17:51:59.994Z"
   },
   {
    "duration": 232,
    "start_time": "2024-07-14T17:52:25.767Z"
   },
   {
    "duration": 231,
    "start_time": "2024-07-14T17:52:31.047Z"
   },
   {
    "duration": 233,
    "start_time": "2024-07-14T17:52:36.153Z"
   },
   {
    "duration": 8,
    "start_time": "2024-07-14T17:58:16.278Z"
   },
   {
    "duration": 10,
    "start_time": "2024-07-14T17:58:44.718Z"
   },
   {
    "duration": 109,
    "start_time": "2024-07-14T17:59:01.612Z"
   },
   {
    "duration": 12,
    "start_time": "2024-07-14T18:00:41.408Z"
   },
   {
    "duration": 111,
    "start_time": "2024-07-14T18:01:14.509Z"
   },
   {
    "duration": 41,
    "start_time": "2024-07-14T18:06:15.470Z"
   },
   {
    "duration": 11,
    "start_time": "2024-07-14T18:09:42.953Z"
   },
   {
    "duration": 10,
    "start_time": "2024-07-14T18:09:46.835Z"
   },
   {
    "duration": 46,
    "start_time": "2024-07-14T18:09:58.749Z"
   },
   {
    "duration": 16,
    "start_time": "2024-07-14T18:13:29.971Z"
   },
   {
    "duration": 47,
    "start_time": "2024-07-14T18:13:33.190Z"
   },
   {
    "duration": 6,
    "start_time": "2024-07-14T18:16:03.931Z"
   },
   {
    "duration": 9,
    "start_time": "2024-07-14T18:16:21.287Z"
   },
   {
    "duration": 252,
    "start_time": "2024-07-14T18:16:41.414Z"
   },
   {
    "duration": 236,
    "start_time": "2024-07-14T18:17:42.314Z"
   },
   {
    "duration": 37,
    "start_time": "2024-07-14T18:18:37.024Z"
   },
   {
    "duration": 35,
    "start_time": "2024-07-14T18:20:24.225Z"
   },
   {
    "duration": 55,
    "start_time": "2024-07-14T18:21:14.264Z"
   },
   {
    "duration": 15,
    "start_time": "2024-07-14T18:23:31.788Z"
   },
   {
    "duration": 132,
    "start_time": "2024-07-14T18:23:41.694Z"
   },
   {
    "duration": 15,
    "start_time": "2024-07-14T18:23:43.987Z"
   },
   {
    "duration": 10,
    "start_time": "2024-07-14T18:24:36.489Z"
   },
   {
    "duration": 294,
    "start_time": "2024-07-14T18:24:52.678Z"
   },
   {
    "duration": 5,
    "start_time": "2024-07-14T18:26:16.754Z"
   },
   {
    "duration": 11,
    "start_time": "2024-07-14T18:28:13.436Z"
   },
   {
    "duration": 223,
    "start_time": "2024-07-14T18:28:27.104Z"
   },
   {
    "duration": 11,
    "start_time": "2024-07-14T18:29:17.572Z"
   },
   {
    "duration": 8,
    "start_time": "2024-07-14T18:29:52.889Z"
   },
   {
    "duration": 11,
    "start_time": "2024-07-14T18:30:48.216Z"
   },
   {
    "duration": 9,
    "start_time": "2024-07-14T18:31:15.950Z"
   },
   {
    "duration": 124,
    "start_time": "2024-07-14T18:31:26.057Z"
   },
   {
    "duration": 1802,
    "start_time": "2024-07-14T18:31:26.183Z"
   },
   {
    "duration": 10,
    "start_time": "2024-07-14T18:31:27.987Z"
   },
   {
    "duration": 7,
    "start_time": "2024-07-14T18:31:27.999Z"
   },
   {
    "duration": 30,
    "start_time": "2024-07-14T18:31:28.009Z"
   },
   {
    "duration": 5,
    "start_time": "2024-07-14T18:31:28.041Z"
   },
   {
    "duration": 15,
    "start_time": "2024-07-14T18:31:28.048Z"
   },
   {
    "duration": 13,
    "start_time": "2024-07-14T18:31:28.064Z"
   },
   {
    "duration": 174,
    "start_time": "2024-07-14T18:31:28.078Z"
   },
   {
    "duration": 7,
    "start_time": "2024-07-14T18:31:28.253Z"
   },
   {
    "duration": 71,
    "start_time": "2024-07-14T18:31:28.262Z"
   },
   {
    "duration": 339,
    "start_time": "2024-07-14T18:31:28.335Z"
   },
   {
    "duration": 246,
    "start_time": "2024-07-14T18:31:28.676Z"
   },
   {
    "duration": 114,
    "start_time": "2024-07-14T18:31:28.925Z"
   },
   {
    "duration": 9,
    "start_time": "2024-07-14T18:31:29.041Z"
   },
   {
    "duration": 244,
    "start_time": "2024-07-14T18:31:29.051Z"
   },
   {
    "duration": 853,
    "start_time": "2024-07-14T18:31:29.297Z"
   },
   {
    "duration": 9,
    "start_time": "2024-07-14T18:31:30.152Z"
   },
   {
    "duration": 134,
    "start_time": "2024-07-14T18:31:30.163Z"
   },
   {
    "duration": 244,
    "start_time": "2024-07-14T18:31:30.299Z"
   },
   {
    "duration": 118,
    "start_time": "2024-07-14T18:31:30.544Z"
   },
   {
    "duration": 8,
    "start_time": "2024-07-14T18:31:30.664Z"
   },
   {
    "duration": 427,
    "start_time": "2024-07-14T18:31:30.674Z"
   },
   {
    "duration": 125,
    "start_time": "2024-07-14T18:31:31.103Z"
   },
   {
    "duration": 8,
    "start_time": "2024-07-14T18:31:31.237Z"
   },
   {
    "duration": 221,
    "start_time": "2024-07-14T18:31:31.246Z"
   },
   {
    "duration": 129,
    "start_time": "2024-07-14T18:31:31.469Z"
   },
   {
    "duration": 8,
    "start_time": "2024-07-14T18:32:57.403Z"
   },
   {
    "duration": 8,
    "start_time": "2024-07-14T18:35:01.782Z"
   },
   {
    "duration": 107,
    "start_time": "2024-07-14T18:36:17.181Z"
   },
   {
    "duration": 7,
    "start_time": "2024-07-14T18:37:21.032Z"
   },
   {
    "duration": 99,
    "start_time": "2024-07-14T18:37:51.866Z"
   },
   {
    "duration": 7,
    "start_time": "2024-07-14T18:38:51.545Z"
   },
   {
    "duration": 23,
    "start_time": "2024-07-14T18:39:00.477Z"
   },
   {
    "duration": 34,
    "start_time": "2024-07-14T18:39:07.755Z"
   },
   {
    "duration": 333,
    "start_time": "2024-07-14T18:40:06.304Z"
   },
   {
    "duration": 172,
    "start_time": "2024-07-14T18:41:04.984Z"
   },
   {
    "duration": 178,
    "start_time": "2024-07-14T18:45:18.099Z"
   },
   {
    "duration": 61,
    "start_time": "2024-07-14T18:54:34.900Z"
   },
   {
    "duration": 36,
    "start_time": "2024-07-14T18:54:39.158Z"
   },
   {
    "duration": 34,
    "start_time": "2024-07-14T18:55:38.499Z"
   },
   {
    "duration": 35,
    "start_time": "2024-07-14T18:57:13.264Z"
   },
   {
    "duration": 7,
    "start_time": "2024-07-14T18:58:55.136Z"
   },
   {
    "duration": 9,
    "start_time": "2024-07-14T18:59:01.900Z"
   },
   {
    "duration": 34,
    "start_time": "2024-07-14T18:59:14.690Z"
   },
   {
    "duration": 121,
    "start_time": "2024-07-14T18:59:51.153Z"
   },
   {
    "duration": 1772,
    "start_time": "2024-07-14T18:59:51.276Z"
   },
   {
    "duration": 10,
    "start_time": "2024-07-14T18:59:53.049Z"
   },
   {
    "duration": 12,
    "start_time": "2024-07-14T18:59:53.060Z"
   },
   {
    "duration": 39,
    "start_time": "2024-07-14T18:59:53.074Z"
   },
   {
    "duration": 33,
    "start_time": "2024-07-14T18:59:53.114Z"
   },
   {
    "duration": 35,
    "start_time": "2024-07-14T18:59:53.149Z"
   },
   {
    "duration": 160,
    "start_time": "2024-07-14T18:59:53.186Z"
   },
   {
    "duration": 6,
    "start_time": "2024-07-14T18:59:53.348Z"
   },
   {
    "duration": 18,
    "start_time": "2024-07-14T18:59:53.355Z"
   },
   {
    "duration": 306,
    "start_time": "2024-07-14T18:59:53.375Z"
   },
   {
    "duration": 233,
    "start_time": "2024-07-14T18:59:53.683Z"
   },
   {
    "duration": 109,
    "start_time": "2024-07-14T18:59:53.918Z"
   },
   {
    "duration": 42,
    "start_time": "2024-07-14T19:00:02.108Z"
   },
   {
    "duration": 75,
    "start_time": "2024-07-14T19:00:55.993Z"
   },
   {
    "duration": 9,
    "start_time": "2024-07-14T19:01:01.011Z"
   },
   {
    "duration": 34,
    "start_time": "2024-07-14T19:01:17.108Z"
   },
   {
    "duration": 37,
    "start_time": "2024-07-14T19:06:00.599Z"
   },
   {
    "duration": 8,
    "start_time": "2024-07-14T19:06:49.491Z"
   },
   {
    "duration": 8,
    "start_time": "2024-07-14T19:06:52.320Z"
   },
   {
    "duration": 14,
    "start_time": "2024-07-14T19:26:57.033Z"
   },
   {
    "duration": 34,
    "start_time": "2024-07-14T19:27:13.154Z"
   },
   {
    "duration": 9,
    "start_time": "2024-07-14T19:27:32.697Z"
   },
   {
    "duration": 8,
    "start_time": "2024-07-14T19:27:42.058Z"
   },
   {
    "duration": 34,
    "start_time": "2024-07-14T19:27:49.707Z"
   },
   {
    "duration": 39,
    "start_time": "2024-07-14T19:29:04.778Z"
   },
   {
    "duration": 9,
    "start_time": "2024-07-14T19:29:26.462Z"
   },
   {
    "duration": 9,
    "start_time": "2024-07-14T19:29:32.607Z"
   },
   {
    "duration": 10,
    "start_time": "2024-07-14T19:29:39.433Z"
   },
   {
    "duration": 36,
    "start_time": "2024-07-14T19:29:56.771Z"
   },
   {
    "duration": 10,
    "start_time": "2024-07-14T19:30:05.183Z"
   },
   {
    "duration": 45,
    "start_time": "2024-07-14T19:32:53.495Z"
   },
   {
    "duration": 11,
    "start_time": "2024-07-14T19:33:32.018Z"
   },
   {
    "duration": 10,
    "start_time": "2024-07-14T19:34:31.685Z"
   },
   {
    "duration": 4568,
    "start_time": "2024-07-14T19:36:48.454Z"
   },
   {
    "duration": 210,
    "start_time": "2024-07-14T19:37:16.451Z"
   },
   {
    "duration": 227,
    "start_time": "2024-07-14T19:37:25.058Z"
   },
   {
    "duration": 263,
    "start_time": "2024-07-14T19:37:43.479Z"
   },
   {
    "duration": 105,
    "start_time": "2024-07-14T19:43:22.703Z"
   },
   {
    "duration": 39,
    "start_time": "2024-07-14T19:43:30.468Z"
   },
   {
    "duration": 103,
    "start_time": "2024-07-14T19:44:45.813Z"
   },
   {
    "duration": 37,
    "start_time": "2024-07-14T19:44:56.616Z"
   },
   {
    "duration": 1735,
    "start_time": "2024-07-14T19:44:56.914Z"
   },
   {
    "duration": 39,
    "start_time": "2024-07-14T19:45:35.179Z"
   },
   {
    "duration": 98,
    "start_time": "2024-07-14T19:46:03.933Z"
   },
   {
    "duration": 5,
    "start_time": "2024-07-14T19:51:41.295Z"
   },
   {
    "duration": 5,
    "start_time": "2024-07-14T19:55:09.354Z"
   },
   {
    "duration": 5,
    "start_time": "2024-07-14T19:55:48.625Z"
   },
   {
    "duration": 230,
    "start_time": "2024-07-14T20:06:55.781Z"
   },
   {
    "duration": 244,
    "start_time": "2024-07-14T20:06:56.013Z"
   },
   {
    "duration": 104,
    "start_time": "2024-07-14T20:06:56.258Z"
   },
   {
    "duration": 232,
    "start_time": "2024-07-14T20:06:56.364Z"
   },
   {
    "duration": 7,
    "start_time": "2024-07-14T20:06:56.598Z"
   },
   {
    "duration": 236,
    "start_time": "2024-07-14T20:06:56.607Z"
   },
   {
    "duration": 248,
    "start_time": "2024-07-14T20:06:56.844Z"
   },
   {
    "duration": 10,
    "start_time": "2024-07-14T20:06:57.093Z"
   },
   {
    "duration": 123,
    "start_time": "2024-07-14T20:06:57.104Z"
   },
   {
    "duration": 231,
    "start_time": "2024-07-14T20:06:57.237Z"
   },
   {
    "duration": 121,
    "start_time": "2024-07-14T20:06:57.470Z"
   },
   {
    "duration": 8,
    "start_time": "2024-07-14T20:06:57.592Z"
   },
   {
    "duration": 356,
    "start_time": "2024-07-14T20:06:57.601Z"
   },
   {
    "duration": 122,
    "start_time": "2024-07-14T20:06:57.960Z"
   },
   {
    "duration": 9,
    "start_time": "2024-07-14T20:06:58.084Z"
   },
   {
    "duration": 196,
    "start_time": "2024-07-14T20:06:58.094Z"
   },
   {
    "duration": 113,
    "start_time": "2024-07-14T20:06:58.291Z"
   },
   {
    "duration": 9,
    "start_time": "2024-07-14T20:06:58.405Z"
   },
   {
    "duration": 250,
    "start_time": "2024-07-14T20:06:58.415Z"
   },
   {
    "duration": 119,
    "start_time": "2024-07-14T20:06:58.667Z"
   },
   {
    "duration": 11,
    "start_time": "2024-07-14T20:06:58.788Z"
   },
   {
    "duration": 25,
    "start_time": "2024-07-14T20:06:58.800Z"
   },
   {
    "duration": 126,
    "start_time": "2024-07-14T20:06:58.827Z"
   },
   {
    "duration": 242,
    "start_time": "2024-07-14T20:06:58.955Z"
   },
   {
    "duration": 7,
    "start_time": "2024-07-14T20:06:59.199Z"
   },
   {
    "duration": 999,
    "start_time": "2024-07-14T20:06:59.208Z"
   },
   {
    "duration": 116,
    "start_time": "2024-07-14T20:07:00.209Z"
   },
   {
    "duration": 16,
    "start_time": "2024-07-14T20:07:00.326Z"
   },
   {
    "duration": 288,
    "start_time": "2024-07-14T20:07:00.343Z"
   },
   {
    "duration": 110,
    "start_time": "2024-07-14T20:07:00.633Z"
   },
   {
    "duration": 34,
    "start_time": "2024-07-14T20:07:00.744Z"
   },
   {
    "duration": 120,
    "start_time": "2024-07-14T20:07:00.780Z"
   },
   {
    "duration": 381,
    "start_time": "2024-07-14T20:07:00.902Z"
   },
   {
    "duration": 355,
    "start_time": "2024-07-14T20:07:01.285Z"
   },
   {
    "duration": 35,
    "start_time": "2024-07-14T20:07:01.641Z"
   },
   {
    "duration": 186,
    "start_time": "2024-07-14T20:07:01.677Z"
   },
   {
    "duration": 189,
    "start_time": "2024-07-14T20:07:01.865Z"
   },
   {
    "duration": 185,
    "start_time": "2024-07-14T20:07:02.055Z"
   },
   {
    "duration": 179,
    "start_time": "2024-07-14T20:07:02.242Z"
   },
   {
    "duration": 176,
    "start_time": "2024-07-14T20:07:02.422Z"
   },
   {
    "duration": 149,
    "start_time": "2024-07-14T20:07:02.601Z"
   },
   {
    "duration": 164,
    "start_time": "2024-07-14T20:07:02.751Z"
   },
   {
    "duration": 22,
    "start_time": "2024-07-14T20:07:02.916Z"
   },
   {
    "duration": 0,
    "start_time": "2024-07-14T20:07:02.939Z"
   },
   {
    "duration": 0,
    "start_time": "2024-07-14T20:07:02.940Z"
   },
   {
    "duration": 0,
    "start_time": "2024-07-14T20:07:02.941Z"
   },
   {
    "duration": 0,
    "start_time": "2024-07-14T20:07:02.942Z"
   },
   {
    "duration": 0,
    "start_time": "2024-07-14T20:07:02.943Z"
   },
   {
    "duration": 10,
    "start_time": "2024-07-14T20:09:02.353Z"
   },
   {
    "duration": 222,
    "start_time": "2024-07-14T20:10:13.290Z"
   },
   {
    "duration": 219,
    "start_time": "2024-07-14T20:10:25.537Z"
   },
   {
    "duration": 226,
    "start_time": "2024-07-14T20:10:47.321Z"
   },
   {
    "duration": 75,
    "start_time": "2024-07-14T20:11:53.919Z"
   },
   {
    "duration": 15,
    "start_time": "2024-07-14T20:13:13.123Z"
   },
   {
    "duration": 73,
    "start_time": "2024-07-14T20:13:18.278Z"
   },
   {
    "duration": 248,
    "start_time": "2024-07-14T20:14:35.537Z"
   },
   {
    "duration": 8,
    "start_time": "2024-07-14T20:17:21.304Z"
   },
   {
    "duration": 42,
    "start_time": "2024-07-14T20:17:31.616Z"
   },
   {
    "duration": 37,
    "start_time": "2024-07-14T20:18:33.654Z"
   },
   {
    "duration": 9,
    "start_time": "2024-07-14T20:19:34.260Z"
   },
   {
    "duration": 9,
    "start_time": "2024-07-14T20:19:47.550Z"
   },
   {
    "duration": 8,
    "start_time": "2024-07-14T20:20:03.459Z"
   },
   {
    "duration": 9,
    "start_time": "2024-07-14T20:20:17.553Z"
   },
   {
    "duration": 10,
    "start_time": "2024-07-14T20:21:37.317Z"
   },
   {
    "duration": 40,
    "start_time": "2024-07-14T20:29:08.880Z"
   },
   {
    "duration": 9,
    "start_time": "2024-07-14T20:29:14.341Z"
   },
   {
    "duration": 9,
    "start_time": "2024-07-14T20:30:08.628Z"
   },
   {
    "duration": 8,
    "start_time": "2024-07-14T20:30:15.603Z"
   },
   {
    "duration": 9,
    "start_time": "2024-07-14T20:30:21.100Z"
   },
   {
    "duration": 11,
    "start_time": "2024-07-14T20:33:10.335Z"
   },
   {
    "duration": 9,
    "start_time": "2024-07-14T20:33:16.438Z"
   },
   {
    "duration": 10,
    "start_time": "2024-07-14T20:33:26.538Z"
   },
   {
    "duration": 9,
    "start_time": "2024-07-14T20:33:27.183Z"
   },
   {
    "duration": 9,
    "start_time": "2024-07-14T20:33:27.865Z"
   },
   {
    "duration": 31,
    "start_time": "2024-07-14T20:36:24.625Z"
   },
   {
    "duration": 9,
    "start_time": "2024-07-14T20:36:43.029Z"
   },
   {
    "duration": 6,
    "start_time": "2024-07-14T20:37:07.985Z"
   },
   {
    "duration": 35,
    "start_time": "2024-07-14T20:38:08.487Z"
   },
   {
    "duration": 7,
    "start_time": "2024-07-14T20:41:08.731Z"
   },
   {
    "duration": 9,
    "start_time": "2024-07-14T20:41:16.051Z"
   },
   {
    "duration": 9,
    "start_time": "2024-07-14T20:41:36.423Z"
   },
   {
    "duration": 11,
    "start_time": "2024-07-14T20:42:07.345Z"
   },
   {
    "duration": 8,
    "start_time": "2024-07-14T20:42:08.826Z"
   },
   {
    "duration": 9,
    "start_time": "2024-07-14T20:42:10.245Z"
   },
   {
    "duration": 36,
    "start_time": "2024-07-14T20:43:21.758Z"
   },
   {
    "duration": 12,
    "start_time": "2024-07-14T20:43:48.009Z"
   },
   {
    "duration": 8,
    "start_time": "2024-07-14T20:43:55.086Z"
   },
   {
    "duration": 37,
    "start_time": "2024-07-14T20:44:00.307Z"
   },
   {
    "duration": 10,
    "start_time": "2024-07-14T20:44:34.575Z"
   },
   {
    "duration": 37,
    "start_time": "2024-07-14T20:44:57.586Z"
   },
   {
    "duration": 33,
    "start_time": "2024-07-14T20:49:53.532Z"
   },
   {
    "duration": 102,
    "start_time": "2024-07-14T20:54:06.532Z"
   },
   {
    "duration": 100,
    "start_time": "2024-07-14T20:54:17.089Z"
   },
   {
    "duration": 1109,
    "start_time": "2024-07-15T09:31:54.538Z"
   },
   {
    "duration": 40,
    "start_time": "2024-07-15T09:31:55.649Z"
   },
   {
    "duration": 2013,
    "start_time": "2024-07-15T09:31:55.691Z"
   },
   {
    "duration": 10,
    "start_time": "2024-07-15T09:31:57.706Z"
   },
   {
    "duration": 65,
    "start_time": "2024-07-15T09:31:57.717Z"
   },
   {
    "duration": 7,
    "start_time": "2024-07-15T09:31:57.784Z"
   },
   {
    "duration": 14,
    "start_time": "2024-07-15T09:31:57.793Z"
   },
   {
    "duration": 9,
    "start_time": "2024-07-15T09:31:57.809Z"
   },
   {
    "duration": 104,
    "start_time": "2024-07-15T09:31:57.819Z"
   },
   {
    "duration": 168,
    "start_time": "2024-07-15T09:31:57.925Z"
   },
   {
    "duration": 916,
    "start_time": "2024-07-15T09:31:58.095Z"
   },
   {
    "duration": 0,
    "start_time": "2024-07-15T09:31:59.013Z"
   },
   {
    "duration": 0,
    "start_time": "2024-07-15T09:31:59.014Z"
   },
   {
    "duration": 805,
    "start_time": "2024-07-15T09:32:36.928Z"
   },
   {
    "duration": 43,
    "start_time": "2024-07-15T09:33:31.992Z"
   },
   {
    "duration": 836,
    "start_time": "2024-07-15T09:33:45.137Z"
   },
   {
    "duration": 15,
    "start_time": "2024-07-15T09:34:19.012Z"
   },
   {
    "duration": 834,
    "start_time": "2024-07-15T09:34:26.477Z"
   },
   {
    "duration": 767,
    "start_time": "2024-07-15T09:34:43.948Z"
   },
   {
    "duration": 4,
    "start_time": "2024-07-15T09:35:13.808Z"
   },
   {
    "duration": 4,
    "start_time": "2024-07-15T09:35:30.608Z"
   },
   {
    "duration": 294,
    "start_time": "2024-07-15T09:35:42.459Z"
   },
   {
    "duration": 241,
    "start_time": "2024-07-15T09:35:51.198Z"
   },
   {
    "duration": 10,
    "start_time": "2024-07-15T09:37:05.899Z"
   },
   {
    "duration": 44,
    "start_time": "2024-07-15T09:38:20.043Z"
   },
   {
    "duration": 54,
    "start_time": "2024-07-15T09:38:55.175Z"
   },
   {
    "duration": 52,
    "start_time": "2024-07-15T09:39:08.612Z"
   },
   {
    "duration": 49,
    "start_time": "2024-07-15T09:39:18.551Z"
   },
   {
    "duration": 349,
    "start_time": "2024-07-15T09:39:27.260Z"
   },
   {
    "duration": 50,
    "start_time": "2024-07-15T09:40:28.544Z"
   },
   {
    "duration": 52,
    "start_time": "2024-07-15T09:40:40.003Z"
   },
   {
    "duration": 56,
    "start_time": "2024-07-15T09:42:08.754Z"
   },
   {
    "duration": 49,
    "start_time": "2024-07-15T09:43:08.953Z"
   },
   {
    "duration": 82,
    "start_time": "2024-07-15T09:44:27.852Z"
   },
   {
    "duration": 43,
    "start_time": "2024-07-15T09:44:45.840Z"
   },
   {
    "duration": 76,
    "start_time": "2024-07-15T09:44:47.270Z"
   },
   {
    "duration": 44,
    "start_time": "2024-07-15T09:49:38.526Z"
   },
   {
    "duration": 249,
    "start_time": "2024-07-15T09:50:53.624Z"
   },
   {
    "duration": 274,
    "start_time": "2024-07-15T09:51:32.241Z"
   },
   {
    "duration": 276,
    "start_time": "2024-07-15T09:52:02.714Z"
   },
   {
    "duration": 46,
    "start_time": "2024-07-15T09:52:25.542Z"
   },
   {
    "duration": 265,
    "start_time": "2024-07-15T09:54:27.873Z"
   },
   {
    "duration": 242,
    "start_time": "2024-07-15T09:54:47.430Z"
   },
   {
    "duration": 338,
    "start_time": "2024-07-15T09:55:20.933Z"
   },
   {
    "duration": 12,
    "start_time": "2024-07-15T09:58:04.223Z"
   },
   {
    "duration": 45,
    "start_time": "2024-07-15T09:58:32.941Z"
   },
   {
    "duration": 245,
    "start_time": "2024-07-15T10:00:27.555Z"
   },
   {
    "duration": 46,
    "start_time": "2024-07-15T12:22:07.604Z"
   },
   {
    "duration": 6,
    "start_time": "2024-07-15T12:25:16.246Z"
   },
   {
    "duration": 1061,
    "start_time": "2024-07-15T12:25:21.703Z"
   },
   {
    "duration": 41,
    "start_time": "2024-07-15T12:25:22.766Z"
   },
   {
    "duration": 1852,
    "start_time": "2024-07-15T12:25:22.808Z"
   },
   {
    "duration": 9,
    "start_time": "2024-07-15T12:25:24.662Z"
   },
   {
    "duration": 4,
    "start_time": "2024-07-15T12:25:24.672Z"
   },
   {
    "duration": 7,
    "start_time": "2024-07-15T12:25:24.677Z"
   },
   {
    "duration": 15,
    "start_time": "2024-07-15T12:25:24.685Z"
   },
   {
    "duration": 11,
    "start_time": "2024-07-15T12:25:24.701Z"
   },
   {
    "duration": 4,
    "start_time": "2024-07-15T12:25:24.713Z"
   },
   {
    "duration": 9,
    "start_time": "2024-07-15T12:25:24.719Z"
   },
   {
    "duration": 12,
    "start_time": "2024-07-15T12:25:24.729Z"
   },
   {
    "duration": 131,
    "start_time": "2024-07-15T12:25:24.743Z"
   },
   {
    "duration": 18,
    "start_time": "2024-07-15T12:25:24.876Z"
   },
   {
    "duration": 247,
    "start_time": "2024-07-15T12:25:24.895Z"
   },
   {
    "duration": 226,
    "start_time": "2024-07-15T12:25:32.378Z"
   },
   {
    "duration": 333,
    "start_time": "2024-07-15T14:52:58.366Z"
   },
   {
    "duration": 257,
    "start_time": "2024-07-15T14:54:59.693Z"
   },
   {
    "duration": 237,
    "start_time": "2024-07-15T14:55:28.547Z"
   },
   {
    "duration": 240,
    "start_time": "2024-07-15T14:56:04.794Z"
   },
   {
    "duration": 9,
    "start_time": "2024-07-15T14:59:15.222Z"
   },
   {
    "duration": 217,
    "start_time": "2024-07-15T14:59:54.624Z"
   },
   {
    "duration": 226,
    "start_time": "2024-07-15T15:01:53.362Z"
   },
   {
    "duration": 304,
    "start_time": "2024-07-15T15:02:15.781Z"
   },
   {
    "duration": 233,
    "start_time": "2024-07-15T15:02:18.693Z"
   },
   {
    "duration": 42,
    "start_time": "2024-07-15T15:03:12.312Z"
   },
   {
    "duration": 46,
    "start_time": "2024-07-15T15:07:24.979Z"
   },
   {
    "duration": 12,
    "start_time": "2024-07-15T15:07:37.578Z"
   },
   {
    "duration": 17,
    "start_time": "2024-07-15T15:07:49.188Z"
   },
   {
    "duration": 15,
    "start_time": "2024-07-15T15:08:05.752Z"
   },
   {
    "duration": 18,
    "start_time": "2024-07-15T15:09:55.585Z"
   },
   {
    "duration": 20,
    "start_time": "2024-07-15T15:10:02.744Z"
   },
   {
    "duration": 4495,
    "start_time": "2024-07-15T15:16:27.520Z"
   },
   {
    "duration": 229,
    "start_time": "2024-07-15T15:16:46.515Z"
   },
   {
    "duration": 223,
    "start_time": "2024-07-15T15:17:26.644Z"
   },
   {
    "duration": 232,
    "start_time": "2024-07-15T15:17:32.018Z"
   },
   {
    "duration": 226,
    "start_time": "2024-07-15T15:17:35.117Z"
   },
   {
    "duration": 407,
    "start_time": "2024-07-15T15:17:45.748Z"
   },
   {
    "duration": 214,
    "start_time": "2024-07-15T15:17:53.545Z"
   },
   {
    "duration": 222,
    "start_time": "2024-07-15T15:17:56.571Z"
   },
   {
    "duration": 225,
    "start_time": "2024-07-15T15:18:00.267Z"
   },
   {
    "duration": 223,
    "start_time": "2024-07-15T15:18:29.341Z"
   },
   {
    "duration": 229,
    "start_time": "2024-07-15T15:18:34.928Z"
   },
   {
    "duration": 226,
    "start_time": "2024-07-15T15:18:37.836Z"
   },
   {
    "duration": 229,
    "start_time": "2024-07-15T15:18:50.655Z"
   },
   {
    "duration": 245,
    "start_time": "2024-07-15T15:20:02.621Z"
   },
   {
    "duration": 244,
    "start_time": "2024-07-15T15:21:08.152Z"
   },
   {
    "duration": 232,
    "start_time": "2024-07-15T15:21:11.724Z"
   },
   {
    "duration": 441,
    "start_time": "2024-07-15T15:21:15.608Z"
   },
   {
    "duration": 225,
    "start_time": "2024-07-15T15:21:18.794Z"
   },
   {
    "duration": 250,
    "start_time": "2024-07-15T15:21:21.880Z"
   },
   {
    "duration": 243,
    "start_time": "2024-07-15T15:21:25.185Z"
   },
   {
    "duration": 231,
    "start_time": "2024-07-15T15:21:33.584Z"
   },
   {
    "duration": 239,
    "start_time": "2024-07-15T15:21:38.403Z"
   },
   {
    "duration": 249,
    "start_time": "2024-07-15T15:21:41.257Z"
   },
   {
    "duration": 227,
    "start_time": "2024-07-15T15:22:49.435Z"
   },
   {
    "duration": 18,
    "start_time": "2024-07-15T15:22:57.812Z"
   },
   {
    "duration": 17,
    "start_time": "2024-07-15T15:23:10.996Z"
   },
   {
    "duration": 233,
    "start_time": "2024-07-15T15:23:14.980Z"
   },
   {
    "duration": 233,
    "start_time": "2024-07-15T15:24:08.054Z"
   },
   {
    "duration": 243,
    "start_time": "2024-07-15T15:26:19.757Z"
   },
   {
    "duration": 273,
    "start_time": "2024-07-15T15:26:25.716Z"
   },
   {
    "duration": 276,
    "start_time": "2024-07-15T15:26:36.833Z"
   },
   {
    "duration": 531,
    "start_time": "2024-07-15T15:26:46.461Z"
   },
   {
    "duration": 36,
    "start_time": "2024-07-15T15:29:55.466Z"
   },
   {
    "duration": 224,
    "start_time": "2024-07-15T15:30:50.951Z"
   },
   {
    "duration": 250,
    "start_time": "2024-07-15T15:30:58.954Z"
   },
   {
    "duration": 236,
    "start_time": "2024-07-15T15:31:02.826Z"
   },
   {
    "duration": 338,
    "start_time": "2024-07-15T15:32:28.639Z"
   },
   {
    "duration": 337,
    "start_time": "2024-07-15T15:32:36.434Z"
   },
   {
    "duration": 378,
    "start_time": "2024-07-15T15:34:45.248Z"
   },
   {
    "duration": 364,
    "start_time": "2024-07-15T15:35:47.787Z"
   },
   {
    "duration": 404,
    "start_time": "2024-07-15T15:35:58.073Z"
   },
   {
    "duration": 338,
    "start_time": "2024-07-15T15:37:07.230Z"
   },
   {
    "duration": 177,
    "start_time": "2024-07-15T15:37:37.261Z"
   },
   {
    "duration": 60,
    "start_time": "2024-07-15T15:41:05.591Z"
   },
   {
    "duration": 190,
    "start_time": "2024-07-15T15:42:34.101Z"
   },
   {
    "duration": 533,
    "start_time": "2024-07-15T15:43:29.660Z"
   },
   {
    "duration": 222,
    "start_time": "2024-07-15T15:44:22.515Z"
   },
   {
    "duration": 180,
    "start_time": "2024-07-15T15:45:22.505Z"
   },
   {
    "duration": 26,
    "start_time": "2024-07-15T15:45:45.400Z"
   },
   {
    "duration": 106,
    "start_time": "2024-07-15T15:45:54.596Z"
   },
   {
    "duration": 36,
    "start_time": "2024-07-15T15:45:54.704Z"
   },
   {
    "duration": 1768,
    "start_time": "2024-07-15T15:45:54.742Z"
   },
   {
    "duration": 9,
    "start_time": "2024-07-15T15:45:56.511Z"
   },
   {
    "duration": 3,
    "start_time": "2024-07-15T15:45:56.522Z"
   },
   {
    "duration": 9,
    "start_time": "2024-07-15T15:45:56.526Z"
   },
   {
    "duration": 15,
    "start_time": "2024-07-15T15:45:56.536Z"
   },
   {
    "duration": 15,
    "start_time": "2024-07-15T15:45:56.552Z"
   },
   {
    "duration": 8,
    "start_time": "2024-07-15T15:45:56.569Z"
   },
   {
    "duration": 11,
    "start_time": "2024-07-15T15:45:56.578Z"
   },
   {
    "duration": 9,
    "start_time": "2024-07-15T15:45:56.591Z"
   },
   {
    "duration": 146,
    "start_time": "2024-07-15T15:45:56.602Z"
   },
   {
    "duration": 14,
    "start_time": "2024-07-15T15:45:56.749Z"
   },
   {
    "duration": 259,
    "start_time": "2024-07-15T15:45:56.765Z"
   },
   {
    "duration": 224,
    "start_time": "2024-07-15T15:45:57.025Z"
   },
   {
    "duration": 9,
    "start_time": "2024-07-15T15:45:57.250Z"
   },
   {
    "duration": 232,
    "start_time": "2024-07-15T15:45:57.260Z"
   },
   {
    "duration": 39,
    "start_time": "2024-07-15T15:45:57.493Z"
   },
   {
    "duration": 0,
    "start_time": "2024-07-15T15:45:57.534Z"
   },
   {
    "duration": 0,
    "start_time": "2024-07-15T15:45:57.535Z"
   },
   {
    "duration": 0,
    "start_time": "2024-07-15T15:45:57.537Z"
   },
   {
    "duration": 249,
    "start_time": "2024-07-15T15:46:27.708Z"
   },
   {
    "duration": 251,
    "start_time": "2024-07-15T15:46:35.982Z"
   },
   {
    "duration": 313,
    "start_time": "2024-07-15T15:46:58.979Z"
   },
   {
    "duration": 230,
    "start_time": "2024-07-15T15:47:32.913Z"
   },
   {
    "duration": 106,
    "start_time": "2024-07-15T15:47:43.514Z"
   },
   {
    "duration": 37,
    "start_time": "2024-07-15T15:47:43.622Z"
   },
   {
    "duration": 2073,
    "start_time": "2024-07-15T15:47:43.661Z"
   },
   {
    "duration": 10,
    "start_time": "2024-07-15T15:47:45.735Z"
   },
   {
    "duration": 17,
    "start_time": "2024-07-15T15:47:45.747Z"
   },
   {
    "duration": 19,
    "start_time": "2024-07-15T15:47:45.765Z"
   },
   {
    "duration": 9,
    "start_time": "2024-07-15T15:47:45.786Z"
   },
   {
    "duration": 8,
    "start_time": "2024-07-15T15:47:45.796Z"
   },
   {
    "duration": 4,
    "start_time": "2024-07-15T15:47:45.806Z"
   },
   {
    "duration": 8,
    "start_time": "2024-07-15T15:47:45.811Z"
   },
   {
    "duration": 15,
    "start_time": "2024-07-15T15:47:45.820Z"
   },
   {
    "duration": 133,
    "start_time": "2024-07-15T15:47:45.837Z"
   },
   {
    "duration": 18,
    "start_time": "2024-07-15T15:47:45.972Z"
   },
   {
    "duration": 241,
    "start_time": "2024-07-15T15:47:45.992Z"
   },
   {
    "duration": 229,
    "start_time": "2024-07-15T15:47:46.235Z"
   },
   {
    "duration": 8,
    "start_time": "2024-07-15T15:47:46.465Z"
   },
   {
    "duration": 237,
    "start_time": "2024-07-15T15:47:46.474Z"
   },
   {
    "duration": 250,
    "start_time": "2024-07-15T15:48:03.203Z"
   },
   {
    "duration": 258,
    "start_time": "2024-07-15T15:48:50.146Z"
   },
   {
    "duration": 242,
    "start_time": "2024-07-15T15:49:11.547Z"
   },
   {
    "duration": 383,
    "start_time": "2024-07-15T15:49:28.988Z"
   },
   {
    "duration": 174,
    "start_time": "2024-07-15T15:49:51.665Z"
   },
   {
    "duration": 35,
    "start_time": "2024-07-15T15:50:06.757Z"
   },
   {
    "duration": 246,
    "start_time": "2024-07-15T15:50:41.904Z"
   },
   {
    "duration": 251,
    "start_time": "2024-07-15T15:52:38.753Z"
   },
   {
    "duration": 266,
    "start_time": "2024-07-15T15:53:00.860Z"
   },
   {
    "duration": 125,
    "start_time": "2024-07-15T15:53:36.746Z"
   },
   {
    "duration": 104,
    "start_time": "2024-07-15T15:53:44.413Z"
   },
   {
    "duration": 225,
    "start_time": "2024-07-15T15:54:01.596Z"
   },
   {
    "duration": 247,
    "start_time": "2024-07-15T15:54:19.384Z"
   },
   {
    "duration": 270,
    "start_time": "2024-07-15T15:54:28.279Z"
   },
   {
    "duration": 1114,
    "start_time": "2024-07-15T15:56:05.237Z"
   },
   {
    "duration": 745,
    "start_time": "2024-07-15T15:56:07.421Z"
   },
   {
    "duration": 238,
    "start_time": "2024-07-15T15:56:14.217Z"
   },
   {
    "duration": 233,
    "start_time": "2024-07-15T15:57:28.533Z"
   },
   {
    "duration": 6,
    "start_time": "2024-07-15T17:00:06.163Z"
   },
   {
    "duration": 792,
    "start_time": "2024-07-15T17:00:25.994Z"
   },
   {
    "duration": 357,
    "start_time": "2024-07-15T17:00:36.123Z"
   },
   {
    "duration": 341,
    "start_time": "2024-07-15T17:00:44.032Z"
   },
   {
    "duration": 11,
    "start_time": "2024-07-15T17:03:32.705Z"
   },
   {
    "duration": 21,
    "start_time": "2024-07-15T17:03:38.585Z"
   },
   {
    "duration": 22,
    "start_time": "2024-07-15T17:03:54.261Z"
   },
   {
    "duration": 162,
    "start_time": "2024-07-15T17:04:39.143Z"
   },
   {
    "duration": 157,
    "start_time": "2024-07-15T17:04:50.656Z"
   },
   {
    "duration": 7,
    "start_time": "2024-07-15T17:05:36.766Z"
   },
   {
    "duration": 7,
    "start_time": "2024-07-15T17:05:41.763Z"
   },
   {
    "duration": 158,
    "start_time": "2024-07-15T17:05:44.973Z"
   },
   {
    "duration": 165,
    "start_time": "2024-07-15T17:06:14.363Z"
   },
   {
    "duration": 131,
    "start_time": "2024-07-15T17:06:22.090Z"
   },
   {
    "duration": 139,
    "start_time": "2024-07-15T17:06:32.969Z"
   },
   {
    "duration": 151,
    "start_time": "2024-07-15T17:06:43.169Z"
   },
   {
    "duration": 140,
    "start_time": "2024-07-15T17:06:50.875Z"
   },
   {
    "duration": 160,
    "start_time": "2024-07-15T17:07:15.614Z"
   },
   {
    "duration": 141,
    "start_time": "2024-07-15T17:07:20.825Z"
   },
   {
    "duration": 156,
    "start_time": "2024-07-15T17:07:25.169Z"
   },
   {
    "duration": 23,
    "start_time": "2024-07-15T17:12:06.946Z"
   },
   {
    "duration": 163,
    "start_time": "2024-07-15T17:14:14.344Z"
   },
   {
    "duration": 139,
    "start_time": "2024-07-15T17:18:20.426Z"
   },
   {
    "duration": 152,
    "start_time": "2024-07-15T17:19:32.794Z"
   },
   {
    "duration": 152,
    "start_time": "2024-07-15T17:20:42.804Z"
   },
   {
    "duration": 148,
    "start_time": "2024-07-15T17:25:49.520Z"
   },
   {
    "duration": 23,
    "start_time": "2024-07-15T17:28:16.443Z"
   },
   {
    "duration": 19,
    "start_time": "2024-07-15T17:30:50.135Z"
   },
   {
    "duration": 139,
    "start_time": "2024-07-15T17:31:25.741Z"
   },
   {
    "duration": 161,
    "start_time": "2024-07-15T17:33:00.923Z"
   },
   {
    "duration": 109,
    "start_time": "2024-07-15T17:47:08.068Z"
   },
   {
    "duration": 38,
    "start_time": "2024-07-15T17:47:08.179Z"
   },
   {
    "duration": 1854,
    "start_time": "2024-07-15T17:47:08.219Z"
   },
   {
    "duration": 10,
    "start_time": "2024-07-15T17:47:10.083Z"
   },
   {
    "duration": 42,
    "start_time": "2024-07-15T17:47:10.094Z"
   },
   {
    "duration": 21,
    "start_time": "2024-07-15T17:47:10.137Z"
   },
   {
    "duration": 21,
    "start_time": "2024-07-15T17:47:10.160Z"
   },
   {
    "duration": 8,
    "start_time": "2024-07-15T17:47:10.183Z"
   },
   {
    "duration": 6,
    "start_time": "2024-07-15T17:47:10.193Z"
   },
   {
    "duration": 9,
    "start_time": "2024-07-15T17:47:10.201Z"
   },
   {
    "duration": 8,
    "start_time": "2024-07-15T17:47:10.211Z"
   },
   {
    "duration": 147,
    "start_time": "2024-07-15T17:47:10.220Z"
   },
   {
    "duration": 22,
    "start_time": "2024-07-15T17:47:10.368Z"
   },
   {
    "duration": 240,
    "start_time": "2024-07-15T17:47:10.392Z"
   },
   {
    "duration": 225,
    "start_time": "2024-07-15T17:47:10.633Z"
   },
   {
    "duration": 8,
    "start_time": "2024-07-15T17:47:10.859Z"
   },
   {
    "duration": 241,
    "start_time": "2024-07-15T17:47:10.868Z"
   },
   {
    "duration": 37,
    "start_time": "2024-07-15T17:47:11.111Z"
   },
   {
    "duration": 0,
    "start_time": "2024-07-15T17:47:11.149Z"
   },
   {
    "duration": 0,
    "start_time": "2024-07-15T17:47:11.151Z"
   },
   {
    "duration": 0,
    "start_time": "2024-07-15T17:47:11.152Z"
   },
   {
    "duration": 0,
    "start_time": "2024-07-15T17:47:11.153Z"
   },
   {
    "duration": 0,
    "start_time": "2024-07-15T17:47:11.154Z"
   },
   {
    "duration": 0,
    "start_time": "2024-07-15T17:47:11.155Z"
   },
   {
    "duration": 0,
    "start_time": "2024-07-15T17:47:11.156Z"
   },
   {
    "duration": 0,
    "start_time": "2024-07-15T17:47:11.157Z"
   },
   {
    "duration": 0,
    "start_time": "2024-07-15T17:47:11.184Z"
   },
   {
    "duration": 0,
    "start_time": "2024-07-15T17:47:11.185Z"
   },
   {
    "duration": 0,
    "start_time": "2024-07-15T17:47:11.186Z"
   },
   {
    "duration": 0,
    "start_time": "2024-07-15T17:47:11.188Z"
   },
   {
    "duration": 0,
    "start_time": "2024-07-15T17:47:11.189Z"
   },
   {
    "duration": 0,
    "start_time": "2024-07-15T17:47:11.190Z"
   },
   {
    "duration": 0,
    "start_time": "2024-07-15T17:47:11.191Z"
   },
   {
    "duration": 0,
    "start_time": "2024-07-15T17:47:11.192Z"
   },
   {
    "duration": 0,
    "start_time": "2024-07-15T17:47:11.193Z"
   },
   {
    "duration": 0,
    "start_time": "2024-07-15T17:47:11.195Z"
   },
   {
    "duration": 0,
    "start_time": "2024-07-15T17:47:11.196Z"
   },
   {
    "duration": 0,
    "start_time": "2024-07-15T17:47:11.197Z"
   },
   {
    "duration": 232,
    "start_time": "2024-07-15T17:48:02.965Z"
   },
   {
    "duration": 246,
    "start_time": "2024-07-15T17:49:17.929Z"
   },
   {
    "duration": 235,
    "start_time": "2024-07-15T17:49:52.243Z"
   },
   {
    "duration": 239,
    "start_time": "2024-07-15T17:49:52.484Z"
   },
   {
    "duration": 850,
    "start_time": "2024-07-15T17:49:52.724Z"
   },
   {
    "duration": 183,
    "start_time": "2024-07-15T17:49:53.575Z"
   },
   {
    "duration": 241,
    "start_time": "2024-07-15T17:49:53.760Z"
   },
   {
    "duration": 110,
    "start_time": "2024-07-15T17:49:54.002Z"
   },
   {
    "duration": 234,
    "start_time": "2024-07-15T17:49:54.113Z"
   },
   {
    "duration": 227,
    "start_time": "2024-07-15T17:49:54.348Z"
   },
   {
    "duration": 236,
    "start_time": "2024-07-15T17:49:54.577Z"
   },
   {
    "duration": 351,
    "start_time": "2024-07-15T17:49:54.815Z"
   },
   {
    "duration": 31,
    "start_time": "2024-07-15T17:49:55.168Z"
   },
   {
    "duration": 169,
    "start_time": "2024-07-15T17:49:55.201Z"
   },
   {
    "duration": 169,
    "start_time": "2024-07-15T17:49:55.372Z"
   },
   {
    "duration": 144,
    "start_time": "2024-07-15T17:49:55.544Z"
   },
   {
    "duration": 158,
    "start_time": "2024-07-15T17:49:55.690Z"
   },
   {
    "duration": 152,
    "start_time": "2024-07-15T17:49:55.849Z"
   },
   {
    "duration": 166,
    "start_time": "2024-07-15T17:49:56.003Z"
   },
   {
    "duration": 162,
    "start_time": "2024-07-15T17:49:56.171Z"
   },
   {
    "duration": 169,
    "start_time": "2024-07-15T17:49:56.335Z"
   },
   {
    "duration": 22,
    "start_time": "2024-07-15T17:49:56.506Z"
   },
   {
    "duration": 168,
    "start_time": "2024-07-15T17:49:56.530Z"
   },
   {
    "duration": 46,
    "start_time": "2024-07-15T18:28:51.168Z"
   },
   {
    "duration": 7,
    "start_time": "2024-07-15T18:28:59.743Z"
   },
   {
    "duration": 758,
    "start_time": "2024-07-15T18:29:05.208Z"
   },
   {
    "duration": 53,
    "start_time": "2024-07-15T18:29:05.968Z"
   },
   {
    "duration": 1857,
    "start_time": "2024-07-15T18:29:06.022Z"
   },
   {
    "duration": 8,
    "start_time": "2024-07-15T18:29:07.880Z"
   },
   {
    "duration": 340,
    "start_time": "2024-07-15T18:29:07.890Z"
   },
   {
    "duration": 28,
    "start_time": "2024-07-15T18:29:08.232Z"
   },
   {
    "duration": 5,
    "start_time": "2024-07-15T18:29:08.262Z"
   },
   {
    "duration": 10,
    "start_time": "2024-07-15T18:29:08.269Z"
   },
   {
    "duration": 5,
    "start_time": "2024-07-15T18:29:08.281Z"
   },
   {
    "duration": 7,
    "start_time": "2024-07-15T18:29:08.287Z"
   },
   {
    "duration": 6,
    "start_time": "2024-07-15T18:29:08.296Z"
   },
   {
    "duration": 138,
    "start_time": "2024-07-15T18:29:08.304Z"
   },
   {
    "duration": 13,
    "start_time": "2024-07-15T18:29:08.443Z"
   },
   {
    "duration": 279,
    "start_time": "2024-07-15T18:29:08.459Z"
   },
   {
    "duration": 223,
    "start_time": "2024-07-15T18:29:08.740Z"
   },
   {
    "duration": 8,
    "start_time": "2024-07-15T18:29:08.965Z"
   },
   {
    "duration": 334,
    "start_time": "2024-07-15T18:29:08.975Z"
   },
   {
    "duration": 100,
    "start_time": "2024-07-15T18:29:09.311Z"
   },
   {
    "duration": 0,
    "start_time": "2024-07-15T18:29:09.413Z"
   },
   {
    "duration": 0,
    "start_time": "2024-07-15T18:29:09.414Z"
   },
   {
    "duration": 0,
    "start_time": "2024-07-15T18:29:09.415Z"
   },
   {
    "duration": 0,
    "start_time": "2024-07-15T18:29:09.416Z"
   },
   {
    "duration": 0,
    "start_time": "2024-07-15T18:29:09.417Z"
   },
   {
    "duration": 0,
    "start_time": "2024-07-15T18:29:09.418Z"
   },
   {
    "duration": 0,
    "start_time": "2024-07-15T18:29:09.419Z"
   },
   {
    "duration": 0,
    "start_time": "2024-07-15T18:29:09.437Z"
   },
   {
    "duration": 0,
    "start_time": "2024-07-15T18:29:09.439Z"
   },
   {
    "duration": 0,
    "start_time": "2024-07-15T18:29:09.440Z"
   },
   {
    "duration": 0,
    "start_time": "2024-07-15T18:29:09.442Z"
   },
   {
    "duration": 0,
    "start_time": "2024-07-15T18:29:09.444Z"
   },
   {
    "duration": 0,
    "start_time": "2024-07-15T18:29:09.446Z"
   },
   {
    "duration": 0,
    "start_time": "2024-07-15T18:29:09.447Z"
   },
   {
    "duration": 0,
    "start_time": "2024-07-15T18:29:09.448Z"
   },
   {
    "duration": 0,
    "start_time": "2024-07-15T18:29:09.449Z"
   },
   {
    "duration": 0,
    "start_time": "2024-07-15T18:29:09.450Z"
   },
   {
    "duration": 0,
    "start_time": "2024-07-15T18:29:09.452Z"
   },
   {
    "duration": 0,
    "start_time": "2024-07-15T18:29:09.452Z"
   },
   {
    "duration": 0,
    "start_time": "2024-07-15T18:29:09.453Z"
   },
   {
    "duration": 0,
    "start_time": "2024-07-15T18:29:09.454Z"
   },
   {
    "duration": 246,
    "start_time": "2024-07-15T18:34:14.392Z"
   },
   {
    "duration": 372,
    "start_time": "2024-07-15T18:34:15.325Z"
   },
   {
    "duration": 207,
    "start_time": "2024-07-15T18:34:16.143Z"
   },
   {
    "duration": 260,
    "start_time": "2024-07-15T18:34:16.930Z"
   },
   {
    "duration": 110,
    "start_time": "2024-07-15T18:34:18.193Z"
   },
   {
    "duration": 362,
    "start_time": "2024-07-15T18:34:19.136Z"
   },
   {
    "duration": 243,
    "start_time": "2024-07-15T18:34:19.985Z"
   },
   {
    "duration": 232,
    "start_time": "2024-07-15T18:34:20.905Z"
   },
   {
    "duration": 391,
    "start_time": "2024-07-15T18:34:24.258Z"
   },
   {
    "duration": 191,
    "start_time": "2024-07-15T18:34:29.043Z"
   },
   {
    "duration": 38,
    "start_time": "2024-07-15T18:34:57.270Z"
   },
   {
    "duration": 172,
    "start_time": "2024-07-15T18:34:58.241Z"
   },
   {
    "duration": 269,
    "start_time": "2024-07-15T18:34:59.282Z"
   },
   {
    "duration": 166,
    "start_time": "2024-07-15T18:35:00.204Z"
   },
   {
    "duration": 171,
    "start_time": "2024-07-15T18:35:01.120Z"
   },
   {
    "duration": 166,
    "start_time": "2024-07-15T18:35:02.015Z"
   },
   {
    "duration": 160,
    "start_time": "2024-07-15T18:35:02.860Z"
   },
   {
    "duration": 152,
    "start_time": "2024-07-15T18:35:03.577Z"
   },
   {
    "duration": 156,
    "start_time": "2024-07-15T18:35:04.190Z"
   },
   {
    "duration": 24,
    "start_time": "2024-07-15T18:35:04.806Z"
   },
   {
    "duration": 174,
    "start_time": "2024-07-15T18:35:05.510Z"
   },
   {
    "duration": 68,
    "start_time": "2024-07-16T14:16:03.981Z"
   },
   {
    "duration": 2,
    "start_time": "2024-07-16T14:26:19.841Z"
   },
   {
    "duration": 74,
    "start_time": "2024-07-16T14:28:58.274Z"
   },
   {
    "duration": 41,
    "start_time": "2024-07-16T14:31:20.614Z"
   },
   {
    "duration": 1088,
    "start_time": "2024-07-16T14:31:25.293Z"
   },
   {
    "duration": 39,
    "start_time": "2024-07-16T14:31:26.384Z"
   },
   {
    "duration": 1804,
    "start_time": "2024-07-16T14:31:26.425Z"
   },
   {
    "duration": 9,
    "start_time": "2024-07-16T14:31:28.231Z"
   },
   {
    "duration": 9,
    "start_time": "2024-07-16T14:31:28.242Z"
   },
   {
    "duration": 6,
    "start_time": "2024-07-16T14:31:28.253Z"
   },
   {
    "duration": 4,
    "start_time": "2024-07-16T14:31:28.260Z"
   },
   {
    "duration": 14,
    "start_time": "2024-07-16T14:31:28.265Z"
   },
   {
    "duration": 21,
    "start_time": "2024-07-16T14:31:28.280Z"
   },
   {
    "duration": 6,
    "start_time": "2024-07-16T14:31:28.303Z"
   },
   {
    "duration": 14,
    "start_time": "2024-07-16T14:31:28.310Z"
   },
   {
    "duration": 16,
    "start_time": "2024-07-16T14:31:28.325Z"
   },
   {
    "duration": 189,
    "start_time": "2024-07-16T14:31:28.342Z"
   },
   {
    "duration": 14,
    "start_time": "2024-07-16T14:31:28.532Z"
   },
   {
    "duration": 280,
    "start_time": "2024-07-16T14:31:28.547Z"
   },
   {
    "duration": 30,
    "start_time": "2024-07-16T14:31:34.546Z"
   },
   {
    "duration": 229,
    "start_time": "2024-07-16T14:32:25.524Z"
   },
   {
    "duration": 10,
    "start_time": "2024-07-16T14:32:27.527Z"
   },
   {
    "duration": 316,
    "start_time": "2024-07-16T14:32:29.059Z"
   },
   {
    "duration": 43,
    "start_time": "2024-07-16T14:32:31.434Z"
   },
   {
    "duration": 13,
    "start_time": "2024-07-16T14:32:53.118Z"
   },
   {
    "duration": 322,
    "start_time": "2024-07-16T14:33:08.597Z"
   },
   {
    "duration": 284,
    "start_time": "2024-07-16T14:33:50.261Z"
   },
   {
    "duration": 72,
    "start_time": "2024-07-16T14:34:03.393Z"
   },
   {
    "duration": 247,
    "start_time": "2024-07-16T14:34:21.057Z"
   },
   {
    "duration": 40,
    "start_time": "2024-07-16T14:35:59.461Z"
   },
   {
    "duration": 236,
    "start_time": "2024-07-16T14:36:23.750Z"
   },
   {
    "duration": 37,
    "start_time": "2024-07-16T14:37:00.797Z"
   },
   {
    "duration": 112,
    "start_time": "2024-07-16T14:37:18.517Z"
   },
   {
    "duration": 37,
    "start_time": "2024-07-16T14:37:18.630Z"
   },
   {
    "duration": 1850,
    "start_time": "2024-07-16T14:37:18.668Z"
   },
   {
    "duration": 10,
    "start_time": "2024-07-16T14:37:20.519Z"
   },
   {
    "duration": 8,
    "start_time": "2024-07-16T14:37:20.530Z"
   },
   {
    "duration": 24,
    "start_time": "2024-07-16T14:37:20.539Z"
   },
   {
    "duration": 21,
    "start_time": "2024-07-16T14:37:20.565Z"
   },
   {
    "duration": 26,
    "start_time": "2024-07-16T14:37:20.587Z"
   },
   {
    "duration": 21,
    "start_time": "2024-07-16T14:37:20.614Z"
   },
   {
    "duration": 32,
    "start_time": "2024-07-16T14:37:20.637Z"
   },
   {
    "duration": 29,
    "start_time": "2024-07-16T14:37:20.670Z"
   },
   {
    "duration": 25,
    "start_time": "2024-07-16T14:37:20.700Z"
   },
   {
    "duration": 173,
    "start_time": "2024-07-16T14:37:20.727Z"
   },
   {
    "duration": 15,
    "start_time": "2024-07-16T14:37:20.902Z"
   },
   {
    "duration": 295,
    "start_time": "2024-07-16T14:37:20.919Z"
   },
   {
    "duration": 28,
    "start_time": "2024-07-16T14:37:21.215Z"
   },
   {
    "duration": 366,
    "start_time": "2024-07-16T14:37:21.244Z"
   },
   {
    "duration": 9,
    "start_time": "2024-07-16T14:37:21.611Z"
   },
   {
    "duration": 259,
    "start_time": "2024-07-16T14:37:21.621Z"
   },
   {
    "duration": 40,
    "start_time": "2024-07-16T14:37:21.881Z"
   },
   {
    "duration": 43,
    "start_time": "2024-07-16T14:38:23.019Z"
   },
   {
    "duration": 227,
    "start_time": "2024-07-16T14:38:39.301Z"
   },
   {
    "duration": 61,
    "start_time": "2024-07-16T14:38:59.826Z"
   },
   {
    "duration": 10,
    "start_time": "2024-07-16T14:44:20.095Z"
   },
   {
    "duration": 2,
    "start_time": "2024-07-16T14:44:56.426Z"
   },
   {
    "duration": 4,
    "start_time": "2024-07-16T14:45:02.760Z"
   },
   {
    "duration": 5,
    "start_time": "2024-07-16T14:45:25.453Z"
   },
   {
    "duration": 4,
    "start_time": "2024-07-16T14:45:28.907Z"
   },
   {
    "duration": 4,
    "start_time": "2024-07-16T14:46:24.462Z"
   },
   {
    "duration": 2,
    "start_time": "2024-07-16T14:47:03.892Z"
   },
   {
    "duration": 4,
    "start_time": "2024-07-16T14:47:13.324Z"
   },
   {
    "duration": 2,
    "start_time": "2024-07-16T14:47:16.816Z"
   },
   {
    "duration": 3,
    "start_time": "2024-07-16T14:50:07.051Z"
   },
   {
    "duration": 4,
    "start_time": "2024-07-16T14:50:19.279Z"
   },
   {
    "duration": 4,
    "start_time": "2024-07-16T14:53:31.214Z"
   },
   {
    "duration": 240,
    "start_time": "2024-07-16T14:53:47.289Z"
   },
   {
    "duration": 4,
    "start_time": "2024-07-16T14:53:50.612Z"
   },
   {
    "duration": 116,
    "start_time": "2024-07-16T14:53:57.683Z"
   },
   {
    "duration": 3,
    "start_time": "2024-07-16T14:53:57.801Z"
   },
   {
    "duration": 39,
    "start_time": "2024-07-16T14:53:57.806Z"
   },
   {
    "duration": 1967,
    "start_time": "2024-07-16T14:53:57.847Z"
   },
   {
    "duration": 9,
    "start_time": "2024-07-16T14:53:59.816Z"
   },
   {
    "duration": 3,
    "start_time": "2024-07-16T14:53:59.827Z"
   },
   {
    "duration": 5,
    "start_time": "2024-07-16T14:53:59.832Z"
   },
   {
    "duration": 22,
    "start_time": "2024-07-16T14:53:59.838Z"
   },
   {
    "duration": 8,
    "start_time": "2024-07-16T14:53:59.861Z"
   },
   {
    "duration": 13,
    "start_time": "2024-07-16T14:53:59.871Z"
   },
   {
    "duration": 5,
    "start_time": "2024-07-16T14:53:59.885Z"
   },
   {
    "duration": 7,
    "start_time": "2024-07-16T14:53:59.892Z"
   },
   {
    "duration": 8,
    "start_time": "2024-07-16T14:53:59.900Z"
   },
   {
    "duration": 180,
    "start_time": "2024-07-16T14:53:59.910Z"
   },
   {
    "duration": 16,
    "start_time": "2024-07-16T14:54:00.091Z"
   },
   {
    "duration": 365,
    "start_time": "2024-07-16T14:54:00.109Z"
   },
   {
    "duration": 36,
    "start_time": "2024-07-16T14:54:00.475Z"
   },
   {
    "duration": 259,
    "start_time": "2024-07-16T14:54:00.513Z"
   },
   {
    "duration": 18,
    "start_time": "2024-07-16T14:54:00.774Z"
   },
   {
    "duration": 315,
    "start_time": "2024-07-16T14:54:00.794Z"
   },
   {
    "duration": 46,
    "start_time": "2024-07-16T14:54:01.111Z"
   },
   {
    "duration": 234,
    "start_time": "2024-07-16T14:54:06.056Z"
   },
   {
    "duration": 5,
    "start_time": "2024-07-16T14:54:07.437Z"
   },
   {
    "duration": 4,
    "start_time": "2024-07-16T14:54:18.657Z"
   },
   {
    "duration": 394,
    "start_time": "2024-07-16T14:54:32.633Z"
   },
   {
    "duration": 4,
    "start_time": "2024-07-16T14:54:34.942Z"
   },
   {
    "duration": 239,
    "start_time": "2024-07-16T14:54:41.618Z"
   },
   {
    "duration": 4,
    "start_time": "2024-07-16T14:54:43.871Z"
   },
   {
    "duration": 243,
    "start_time": "2024-07-16T14:54:49.881Z"
   },
   {
    "duration": 4,
    "start_time": "2024-07-16T14:54:52.420Z"
   },
   {
    "duration": 241,
    "start_time": "2024-07-16T14:55:06.923Z"
   },
   {
    "duration": 114,
    "start_time": "2024-07-16T14:55:12.501Z"
   },
   {
    "duration": 3,
    "start_time": "2024-07-16T14:55:12.617Z"
   },
   {
    "duration": 43,
    "start_time": "2024-07-16T14:55:12.622Z"
   },
   {
    "duration": 1765,
    "start_time": "2024-07-16T14:55:12.667Z"
   },
   {
    "duration": 9,
    "start_time": "2024-07-16T14:55:14.434Z"
   },
   {
    "duration": 10,
    "start_time": "2024-07-16T14:55:14.445Z"
   },
   {
    "duration": 6,
    "start_time": "2024-07-16T14:55:14.456Z"
   },
   {
    "duration": 3,
    "start_time": "2024-07-16T14:55:14.463Z"
   },
   {
    "duration": 21,
    "start_time": "2024-07-16T14:55:14.468Z"
   },
   {
    "duration": 2,
    "start_time": "2024-07-16T14:55:14.491Z"
   },
   {
    "duration": 6,
    "start_time": "2024-07-16T14:55:14.495Z"
   },
   {
    "duration": 8,
    "start_time": "2024-07-16T14:55:14.502Z"
   },
   {
    "duration": 9,
    "start_time": "2024-07-16T14:55:14.511Z"
   },
   {
    "duration": 181,
    "start_time": "2024-07-16T14:55:14.522Z"
   },
   {
    "duration": 15,
    "start_time": "2024-07-16T14:55:14.705Z"
   },
   {
    "duration": 497,
    "start_time": "2024-07-16T14:55:14.722Z"
   },
   {
    "duration": 28,
    "start_time": "2024-07-16T14:55:15.220Z"
   },
   {
    "duration": 271,
    "start_time": "2024-07-16T14:55:15.250Z"
   },
   {
    "duration": 8,
    "start_time": "2024-07-16T14:55:15.523Z"
   },
   {
    "duration": 254,
    "start_time": "2024-07-16T14:55:15.532Z"
   },
   {
    "duration": 45,
    "start_time": "2024-07-16T14:55:15.787Z"
   },
   {
    "duration": 248,
    "start_time": "2024-07-16T14:55:15.833Z"
   },
   {
    "duration": 4,
    "start_time": "2024-07-16T14:55:43.480Z"
   },
   {
    "duration": 4,
    "start_time": "2024-07-16T14:56:23.228Z"
   },
   {
    "duration": 235,
    "start_time": "2024-07-16T14:56:45.629Z"
   },
   {
    "duration": 230,
    "start_time": "2024-07-16T14:56:49.554Z"
   },
   {
    "duration": 227,
    "start_time": "2024-07-16T14:56:52.853Z"
   },
   {
    "duration": 227,
    "start_time": "2024-07-16T14:56:56.486Z"
   },
   {
    "duration": 220,
    "start_time": "2024-07-16T14:56:59.238Z"
   },
   {
    "duration": 220,
    "start_time": "2024-07-16T14:57:12.617Z"
   },
   {
    "duration": 409,
    "start_time": "2024-07-16T14:57:19.993Z"
   },
   {
    "duration": 4,
    "start_time": "2024-07-16T14:57:22.653Z"
   },
   {
    "duration": 219,
    "start_time": "2024-07-16T15:07:35.229Z"
   },
   {
    "duration": 218,
    "start_time": "2024-07-16T15:07:37.810Z"
   },
   {
    "duration": 252,
    "start_time": "2024-07-16T15:07:44.044Z"
   },
   {
    "duration": 4,
    "start_time": "2024-07-16T15:07:46.772Z"
   },
   {
    "duration": 112,
    "start_time": "2024-07-16T15:08:12.506Z"
   },
   {
    "duration": 3,
    "start_time": "2024-07-16T15:08:12.619Z"
   },
   {
    "duration": 37,
    "start_time": "2024-07-16T15:08:12.623Z"
   },
   {
    "duration": 1771,
    "start_time": "2024-07-16T15:08:12.662Z"
   },
   {
    "duration": 10,
    "start_time": "2024-07-16T15:08:14.435Z"
   },
   {
    "duration": 66,
    "start_time": "2024-07-16T15:08:14.447Z"
   },
   {
    "duration": 6,
    "start_time": "2024-07-16T15:08:14.514Z"
   },
   {
    "duration": 20,
    "start_time": "2024-07-16T15:08:14.522Z"
   },
   {
    "duration": 25,
    "start_time": "2024-07-16T15:08:14.544Z"
   },
   {
    "duration": 5,
    "start_time": "2024-07-16T15:08:14.571Z"
   },
   {
    "duration": 5,
    "start_time": "2024-07-16T15:08:14.578Z"
   },
   {
    "duration": 9,
    "start_time": "2024-07-16T15:08:14.585Z"
   },
   {
    "duration": 28,
    "start_time": "2024-07-16T15:08:14.596Z"
   },
   {
    "duration": 165,
    "start_time": "2024-07-16T15:08:14.627Z"
   },
   {
    "duration": 15,
    "start_time": "2024-07-16T15:08:14.794Z"
   },
   {
    "duration": 312,
    "start_time": "2024-07-16T15:08:14.810Z"
   },
   {
    "duration": 29,
    "start_time": "2024-07-16T15:08:15.123Z"
   },
   {
    "duration": 326,
    "start_time": "2024-07-16T15:08:15.153Z"
   },
   {
    "duration": 9,
    "start_time": "2024-07-16T15:08:15.481Z"
   },
   {
    "duration": 520,
    "start_time": "2024-07-16T15:08:15.492Z"
   },
   {
    "duration": 49,
    "start_time": "2024-07-16T15:08:16.013Z"
   },
   {
    "duration": 239,
    "start_time": "2024-07-16T15:08:23.352Z"
   },
   {
    "duration": 4,
    "start_time": "2024-07-16T15:08:25.782Z"
   },
   {
    "duration": 242,
    "start_time": "2024-07-16T15:09:00.983Z"
   },
   {
    "duration": 4,
    "start_time": "2024-07-16T15:09:03.116Z"
   },
   {
    "duration": 109,
    "start_time": "2024-07-16T15:12:13.594Z"
   },
   {
    "duration": 3,
    "start_time": "2024-07-16T15:12:13.705Z"
   },
   {
    "duration": 41,
    "start_time": "2024-07-16T15:12:13.709Z"
   },
   {
    "duration": 1792,
    "start_time": "2024-07-16T15:12:13.752Z"
   },
   {
    "duration": 9,
    "start_time": "2024-07-16T15:12:15.546Z"
   },
   {
    "duration": 4,
    "start_time": "2024-07-16T15:12:15.557Z"
   },
   {
    "duration": 7,
    "start_time": "2024-07-16T15:12:15.562Z"
   },
   {
    "duration": 2,
    "start_time": "2024-07-16T15:12:15.583Z"
   },
   {
    "duration": 11,
    "start_time": "2024-07-16T15:12:15.587Z"
   },
   {
    "duration": 2,
    "start_time": "2024-07-16T15:12:15.599Z"
   },
   {
    "duration": 16,
    "start_time": "2024-07-16T15:12:15.602Z"
   },
   {
    "duration": 13,
    "start_time": "2024-07-16T15:12:15.619Z"
   },
   {
    "duration": 9,
    "start_time": "2024-07-16T15:12:15.633Z"
   },
   {
    "duration": 156,
    "start_time": "2024-07-16T15:12:15.644Z"
   },
   {
    "duration": 14,
    "start_time": "2024-07-16T15:12:15.801Z"
   },
   {
    "duration": 291,
    "start_time": "2024-07-16T15:12:15.817Z"
   },
   {
    "duration": 27,
    "start_time": "2024-07-16T15:12:16.109Z"
   },
   {
    "duration": 242,
    "start_time": "2024-07-16T15:12:16.137Z"
   },
   {
    "duration": 8,
    "start_time": "2024-07-16T15:12:16.383Z"
   },
   {
    "duration": 249,
    "start_time": "2024-07-16T15:12:16.393Z"
   },
   {
    "duration": 53,
    "start_time": "2024-07-16T15:12:16.644Z"
   },
   {
    "duration": 243,
    "start_time": "2024-07-16T15:12:16.699Z"
   },
   {
    "duration": 245,
    "start_time": "2024-07-16T15:12:16.944Z"
   },
   {
    "duration": 357,
    "start_time": "2024-07-16T15:12:17.191Z"
   },
   {
    "duration": 509,
    "start_time": "2024-07-16T15:12:17.549Z"
   },
   {
    "duration": 344,
    "start_time": "2024-07-16T15:12:18.060Z"
   },
   {
    "duration": 139,
    "start_time": "2024-07-16T15:12:18.407Z"
   },
   {
    "duration": 248,
    "start_time": "2024-07-16T15:12:18.548Z"
   },
   {
    "duration": 249,
    "start_time": "2024-07-16T15:12:18.798Z"
   },
   {
    "duration": 267,
    "start_time": "2024-07-16T15:12:19.049Z"
   },
   {
    "duration": 4,
    "start_time": "2024-07-16T15:12:59.505Z"
   },
   {
    "duration": 4,
    "start_time": "2024-07-16T15:16:58.792Z"
   },
   {
    "duration": 119,
    "start_time": "2024-07-16T15:17:02.301Z"
   },
   {
    "duration": 2,
    "start_time": "2024-07-16T15:17:02.422Z"
   },
   {
    "duration": 43,
    "start_time": "2024-07-16T15:17:02.426Z"
   },
   {
    "duration": 1868,
    "start_time": "2024-07-16T15:17:02.471Z"
   },
   {
    "duration": 8,
    "start_time": "2024-07-16T15:17:04.341Z"
   },
   {
    "duration": 3,
    "start_time": "2024-07-16T15:17:04.351Z"
   },
   {
    "duration": 6,
    "start_time": "2024-07-16T15:17:04.355Z"
   },
   {
    "duration": 22,
    "start_time": "2024-07-16T15:17:04.362Z"
   },
   {
    "duration": 19,
    "start_time": "2024-07-16T15:17:04.385Z"
   },
   {
    "duration": 11,
    "start_time": "2024-07-16T15:17:04.406Z"
   },
   {
    "duration": 10,
    "start_time": "2024-07-16T15:17:04.419Z"
   },
   {
    "duration": 8,
    "start_time": "2024-07-16T15:17:04.431Z"
   },
   {
    "duration": 21,
    "start_time": "2024-07-16T15:17:04.440Z"
   },
   {
    "duration": 160,
    "start_time": "2024-07-16T15:17:04.463Z"
   },
   {
    "duration": 16,
    "start_time": "2024-07-16T15:17:04.625Z"
   },
   {
    "duration": 300,
    "start_time": "2024-07-16T15:17:04.642Z"
   },
   {
    "duration": 27,
    "start_time": "2024-07-16T15:17:04.944Z"
   },
   {
    "duration": 239,
    "start_time": "2024-07-16T15:17:04.973Z"
   },
   {
    "duration": 8,
    "start_time": "2024-07-16T15:17:05.214Z"
   },
   {
    "duration": 251,
    "start_time": "2024-07-16T15:17:05.223Z"
   },
   {
    "duration": 49,
    "start_time": "2024-07-16T15:17:05.476Z"
   },
   {
    "duration": 257,
    "start_time": "2024-07-16T15:17:05.527Z"
   },
   {
    "duration": 4,
    "start_time": "2024-07-16T15:17:09.192Z"
   },
   {
    "duration": 4,
    "start_time": "2024-07-16T15:17:20.101Z"
   },
   {
    "duration": 3,
    "start_time": "2024-07-16T15:17:28.206Z"
   },
   {
    "duration": 4,
    "start_time": "2024-07-16T15:17:43.147Z"
   },
   {
    "duration": 3,
    "start_time": "2024-07-16T15:18:05.196Z"
   },
   {
    "duration": 42,
    "start_time": "2024-07-16T17:02:17.580Z"
   },
   {
    "duration": 846,
    "start_time": "2024-07-16T17:02:26.502Z"
   },
   {
    "duration": 3,
    "start_time": "2024-07-16T17:02:27.350Z"
   },
   {
    "duration": 45,
    "start_time": "2024-07-16T17:02:27.354Z"
   },
   {
    "duration": 1584,
    "start_time": "2024-07-16T17:02:27.400Z"
   },
   {
    "duration": 8,
    "start_time": "2024-07-16T17:02:28.985Z"
   },
   {
    "duration": 3,
    "start_time": "2024-07-16T17:02:28.994Z"
   },
   {
    "duration": 6,
    "start_time": "2024-07-16T17:02:28.998Z"
   },
   {
    "duration": 2,
    "start_time": "2024-07-16T17:02:29.005Z"
   },
   {
    "duration": 10,
    "start_time": "2024-07-16T17:02:29.009Z"
   },
   {
    "duration": 2,
    "start_time": "2024-07-16T17:02:29.022Z"
   },
   {
    "duration": 6,
    "start_time": "2024-07-16T17:02:29.025Z"
   },
   {
    "duration": 6,
    "start_time": "2024-07-16T17:02:29.032Z"
   },
   {
    "duration": 21,
    "start_time": "2024-07-16T17:02:29.040Z"
   },
   {
    "duration": 146,
    "start_time": "2024-07-16T17:02:29.062Z"
   },
   {
    "duration": 11,
    "start_time": "2024-07-16T17:02:29.209Z"
   },
   {
    "duration": 283,
    "start_time": "2024-07-16T17:02:29.221Z"
   },
   {
    "duration": 23,
    "start_time": "2024-07-16T17:02:29.505Z"
   },
   {
    "duration": 190,
    "start_time": "2024-07-16T17:02:29.529Z"
   },
   {
    "duration": 52,
    "start_time": "2024-07-16T17:02:29.720Z"
   },
   {
    "duration": 199,
    "start_time": "2024-07-16T17:02:29.773Z"
   },
   {
    "duration": 42,
    "start_time": "2024-07-16T17:02:29.974Z"
   },
   {
    "duration": 213,
    "start_time": "2024-07-16T17:02:30.018Z"
   },
   {
    "duration": 3,
    "start_time": "2024-07-16T17:02:30.232Z"
   },
   {
    "duration": 266,
    "start_time": "2024-07-16T17:02:30.236Z"
   },
   {
    "duration": 286,
    "start_time": "2024-07-16T17:02:30.503Z"
   },
   {
    "duration": 3,
    "start_time": "2024-07-16T17:02:30.791Z"
   },
   {
    "duration": 190,
    "start_time": "2024-07-16T17:02:30.796Z"
   },
   {
    "duration": 270,
    "start_time": "2024-07-16T17:02:30.989Z"
   },
   {
    "duration": 4,
    "start_time": "2024-07-16T17:02:31.260Z"
   },
   {
    "duration": 126,
    "start_time": "2024-07-16T17:02:31.266Z"
   },
   {
    "duration": 183,
    "start_time": "2024-07-16T17:02:31.393Z"
   },
   {
    "duration": 202,
    "start_time": "2024-07-16T17:02:31.577Z"
   },
   {
    "duration": 193,
    "start_time": "2024-07-16T17:02:31.780Z"
   },
   {
    "duration": 3,
    "start_time": "2024-07-16T17:02:31.974Z"
   },
   {
    "duration": 301,
    "start_time": "2024-07-16T17:02:31.979Z"
   },
   {
    "duration": 3,
    "start_time": "2024-07-16T17:02:36.370Z"
   },
   {
    "duration": 362,
    "start_time": "2024-07-16T17:02:39.783Z"
   },
   {
    "duration": 107,
    "start_time": "2024-07-16T17:03:08.286Z"
   },
   {
    "duration": 4,
    "start_time": "2024-07-16T17:03:08.395Z"
   },
   {
    "duration": 40,
    "start_time": "2024-07-16T17:03:08.401Z"
   },
   {
    "duration": 1628,
    "start_time": "2024-07-16T17:03:08.456Z"
   },
   {
    "duration": 9,
    "start_time": "2024-07-16T17:03:10.086Z"
   },
   {
    "duration": 4,
    "start_time": "2024-07-16T17:03:10.097Z"
   },
   {
    "duration": 14,
    "start_time": "2024-07-16T17:03:10.102Z"
   },
   {
    "duration": 26,
    "start_time": "2024-07-16T17:03:10.117Z"
   },
   {
    "duration": 7,
    "start_time": "2024-07-16T17:03:10.145Z"
   },
   {
    "duration": 2,
    "start_time": "2024-07-16T17:03:10.154Z"
   },
   {
    "duration": 6,
    "start_time": "2024-07-16T17:03:10.158Z"
   },
   {
    "duration": 10,
    "start_time": "2024-07-16T17:03:10.166Z"
   },
   {
    "duration": 19,
    "start_time": "2024-07-16T17:03:10.178Z"
   },
   {
    "duration": 166,
    "start_time": "2024-07-16T17:03:10.200Z"
   },
   {
    "duration": 12,
    "start_time": "2024-07-16T17:03:10.368Z"
   },
   {
    "duration": 277,
    "start_time": "2024-07-16T17:03:10.381Z"
   },
   {
    "duration": 24,
    "start_time": "2024-07-16T17:03:10.659Z"
   },
   {
    "duration": 201,
    "start_time": "2024-07-16T17:03:10.685Z"
   },
   {
    "duration": 8,
    "start_time": "2024-07-16T17:03:10.887Z"
   },
   {
    "duration": 208,
    "start_time": "2024-07-16T17:03:10.896Z"
   },
   {
    "duration": 40,
    "start_time": "2024-07-16T17:03:11.105Z"
   },
   {
    "duration": 205,
    "start_time": "2024-07-16T17:03:11.147Z"
   },
   {
    "duration": 4,
    "start_time": "2024-07-16T17:03:11.356Z"
   },
   {
    "duration": 198,
    "start_time": "2024-07-16T17:03:11.361Z"
   },
   {
    "duration": 396,
    "start_time": "2024-07-16T17:03:11.561Z"
   },
   {
    "duration": 4,
    "start_time": "2024-07-16T17:03:11.959Z"
   },
   {
    "duration": 166,
    "start_time": "2024-07-16T17:03:11.965Z"
   },
   {
    "duration": 204,
    "start_time": "2024-07-16T17:03:12.132Z"
   },
   {
    "duration": 4,
    "start_time": "2024-07-16T17:03:15.780Z"
   },
   {
    "duration": 91,
    "start_time": "2024-07-16T17:03:37.089Z"
   },
   {
    "duration": 2,
    "start_time": "2024-07-16T17:03:37.181Z"
   },
   {
    "duration": 35,
    "start_time": "2024-07-16T17:03:37.185Z"
   },
   {
    "duration": 1512,
    "start_time": "2024-07-16T17:03:37.222Z"
   },
   {
    "duration": 8,
    "start_time": "2024-07-16T17:03:38.736Z"
   },
   {
    "duration": 33,
    "start_time": "2024-07-16T17:03:38.745Z"
   },
   {
    "duration": 6,
    "start_time": "2024-07-16T17:03:38.780Z"
   },
   {
    "duration": 4,
    "start_time": "2024-07-16T17:03:38.788Z"
   },
   {
    "duration": 8,
    "start_time": "2024-07-16T17:03:38.793Z"
   },
   {
    "duration": 2,
    "start_time": "2024-07-16T17:03:38.802Z"
   },
   {
    "duration": 5,
    "start_time": "2024-07-16T17:03:38.805Z"
   },
   {
    "duration": 13,
    "start_time": "2024-07-16T17:03:38.811Z"
   },
   {
    "duration": 11,
    "start_time": "2024-07-16T17:03:38.825Z"
   },
   {
    "duration": 138,
    "start_time": "2024-07-16T17:03:38.838Z"
   },
   {
    "duration": 11,
    "start_time": "2024-07-16T17:03:38.977Z"
   },
   {
    "duration": 388,
    "start_time": "2024-07-16T17:03:38.989Z"
   },
   {
    "duration": 22,
    "start_time": "2024-07-16T17:03:39.379Z"
   },
   {
    "duration": 208,
    "start_time": "2024-07-16T17:03:39.402Z"
   },
   {
    "duration": 7,
    "start_time": "2024-07-16T17:03:39.612Z"
   },
   {
    "duration": 197,
    "start_time": "2024-07-16T17:03:39.620Z"
   },
   {
    "duration": 45,
    "start_time": "2024-07-16T17:03:39.819Z"
   },
   {
    "duration": 200,
    "start_time": "2024-07-16T17:03:39.865Z"
   },
   {
    "duration": 3,
    "start_time": "2024-07-16T17:03:40.066Z"
   },
   {
    "duration": 217,
    "start_time": "2024-07-16T17:03:40.071Z"
   },
   {
    "duration": 278,
    "start_time": "2024-07-16T17:03:40.289Z"
   },
   {
    "duration": 3,
    "start_time": "2024-07-16T17:03:40.569Z"
   },
   {
    "duration": 157,
    "start_time": "2024-07-16T17:03:40.573Z"
   },
   {
    "duration": 181,
    "start_time": "2024-07-16T17:03:40.731Z"
   },
   {
    "duration": 4,
    "start_time": "2024-07-16T17:03:48.168Z"
   },
   {
    "duration": 7,
    "start_time": "2024-07-16T17:05:31.821Z"
   },
   {
    "duration": 3,
    "start_time": "2024-07-16T17:05:48.925Z"
   },
   {
    "duration": 3,
    "start_time": "2024-07-16T17:05:53.757Z"
   },
   {
    "duration": 433,
    "start_time": "2024-07-16T17:05:58.470Z"
   },
   {
    "duration": 99,
    "start_time": "2024-07-16T17:06:01.516Z"
   },
   {
    "duration": 63,
    "start_time": "2024-07-16T17:18:34.415Z"
   },
   {
    "duration": 2,
    "start_time": "2024-07-16T17:18:43.786Z"
   },
   {
    "duration": 142,
    "start_time": "2024-07-16T17:20:12.442Z"
   },
   {
    "duration": 124,
    "start_time": "2024-07-16T17:21:43.949Z"
   },
   {
    "duration": 96,
    "start_time": "2024-07-16T17:25:29.459Z"
   },
   {
    "duration": 2,
    "start_time": "2024-07-16T17:25:29.556Z"
   },
   {
    "duration": 33,
    "start_time": "2024-07-16T17:25:29.559Z"
   },
   {
    "duration": 1553,
    "start_time": "2024-07-16T17:25:29.594Z"
   },
   {
    "duration": 9,
    "start_time": "2024-07-16T17:25:31.148Z"
   },
   {
    "duration": 19,
    "start_time": "2024-07-16T17:25:31.159Z"
   },
   {
    "duration": 58,
    "start_time": "2024-07-16T17:25:31.180Z"
   },
   {
    "duration": 29,
    "start_time": "2024-07-16T17:25:31.240Z"
   },
   {
    "duration": 28,
    "start_time": "2024-07-16T17:25:31.270Z"
   },
   {
    "duration": 22,
    "start_time": "2024-07-16T17:25:31.300Z"
   },
   {
    "duration": 40,
    "start_time": "2024-07-16T17:25:31.324Z"
   },
   {
    "duration": 22,
    "start_time": "2024-07-16T17:25:31.366Z"
   },
   {
    "duration": 24,
    "start_time": "2024-07-16T17:25:31.390Z"
   },
   {
    "duration": 166,
    "start_time": "2024-07-16T17:25:31.415Z"
   },
   {
    "duration": 10,
    "start_time": "2024-07-16T17:25:31.583Z"
   },
   {
    "duration": 294,
    "start_time": "2024-07-16T17:25:31.594Z"
   },
   {
    "duration": 22,
    "start_time": "2024-07-16T17:25:31.890Z"
   },
   {
    "duration": 202,
    "start_time": "2024-07-16T17:25:31.914Z"
   },
   {
    "duration": 7,
    "start_time": "2024-07-16T17:25:32.117Z"
   },
   {
    "duration": 204,
    "start_time": "2024-07-16T17:25:32.125Z"
   },
   {
    "duration": 41,
    "start_time": "2024-07-16T17:25:32.330Z"
   },
   {
    "duration": 364,
    "start_time": "2024-07-16T17:25:32.372Z"
   },
   {
    "duration": 3,
    "start_time": "2024-07-16T17:25:32.738Z"
   },
   {
    "duration": 212,
    "start_time": "2024-07-16T17:25:32.742Z"
   },
   {
    "duration": 290,
    "start_time": "2024-07-16T17:25:32.957Z"
   },
   {
    "duration": 4,
    "start_time": "2024-07-16T17:25:33.248Z"
   },
   {
    "duration": 164,
    "start_time": "2024-07-16T17:25:33.257Z"
   },
   {
    "duration": 186,
    "start_time": "2024-07-16T17:25:33.424Z"
   },
   {
    "duration": 4,
    "start_time": "2024-07-16T17:25:33.611Z"
   },
   {
    "duration": 109,
    "start_time": "2024-07-16T17:25:33.616Z"
   },
   {
    "duration": 191,
    "start_time": "2024-07-16T17:25:33.726Z"
   },
   {
    "duration": 191,
    "start_time": "2024-07-16T17:25:33.918Z"
   },
   {
    "duration": 185,
    "start_time": "2024-07-16T17:25:34.111Z"
   },
   {
    "duration": 4,
    "start_time": "2024-07-16T17:25:34.298Z"
   },
   {
    "duration": 293,
    "start_time": "2024-07-16T17:25:34.303Z"
   },
   {
    "duration": 101,
    "start_time": "2024-07-16T17:25:34.598Z"
   },
   {
    "duration": 166,
    "start_time": "2024-07-16T17:25:34.701Z"
   },
   {
    "duration": 27,
    "start_time": "2024-07-16T17:25:34.868Z"
   },
   {
    "duration": 155,
    "start_time": "2024-07-16T17:25:34.896Z"
   },
   {
    "duration": 151,
    "start_time": "2024-07-16T17:25:35.057Z"
   },
   {
    "duration": 147,
    "start_time": "2024-07-16T17:25:35.210Z"
   },
   {
    "duration": 138,
    "start_time": "2024-07-16T17:25:35.359Z"
   },
   {
    "duration": 137,
    "start_time": "2024-07-16T17:25:35.498Z"
   },
   {
    "duration": 145,
    "start_time": "2024-07-16T17:25:35.636Z"
   },
   {
    "duration": 344,
    "start_time": "2024-07-16T17:25:35.783Z"
   },
   {
    "duration": 152,
    "start_time": "2024-07-16T17:25:36.129Z"
   },
   {
    "duration": 139,
    "start_time": "2024-07-16T17:25:36.287Z"
   },
   {
    "duration": 33,
    "start_time": "2024-07-16T17:25:36.427Z"
   },
   {
    "duration": 148,
    "start_time": "2024-07-16T17:25:36.461Z"
   },
   {
    "duration": 4,
    "start_time": "2024-07-16T17:28:30.035Z"
   },
   {
    "duration": 3,
    "start_time": "2024-07-16T17:28:45.228Z"
   },
   {
    "duration": 3,
    "start_time": "2024-07-16T17:28:59.651Z"
   },
   {
    "duration": 3,
    "start_time": "2024-07-16T17:29:59.843Z"
   },
   {
    "duration": 91,
    "start_time": "2024-07-16T17:35:45.677Z"
   },
   {
    "duration": 2,
    "start_time": "2024-07-16T17:35:45.770Z"
   },
   {
    "duration": 41,
    "start_time": "2024-07-16T17:35:45.773Z"
   },
   {
    "duration": 1487,
    "start_time": "2024-07-16T17:35:45.815Z"
   },
   {
    "duration": 8,
    "start_time": "2024-07-16T17:35:47.303Z"
   },
   {
    "duration": 4,
    "start_time": "2024-07-16T17:35:47.312Z"
   },
   {
    "duration": 6,
    "start_time": "2024-07-16T17:35:47.318Z"
   },
   {
    "duration": 5,
    "start_time": "2024-07-16T17:35:47.325Z"
   },
   {
    "duration": 10,
    "start_time": "2024-07-16T17:35:47.331Z"
   },
   {
    "duration": 2,
    "start_time": "2024-07-16T17:35:47.343Z"
   },
   {
    "duration": 12,
    "start_time": "2024-07-16T17:35:47.346Z"
   },
   {
    "duration": 6,
    "start_time": "2024-07-16T17:35:47.360Z"
   },
   {
    "duration": 10,
    "start_time": "2024-07-16T17:35:47.367Z"
   },
   {
    "duration": 157,
    "start_time": "2024-07-16T17:35:47.378Z"
   },
   {
    "duration": 21,
    "start_time": "2024-07-16T17:35:47.536Z"
   },
   {
    "duration": 268,
    "start_time": "2024-07-16T17:35:47.559Z"
   },
   {
    "duration": 22,
    "start_time": "2024-07-16T17:35:47.828Z"
   },
   {
    "duration": 186,
    "start_time": "2024-07-16T17:35:47.857Z"
   },
   {
    "duration": 14,
    "start_time": "2024-07-16T17:35:48.044Z"
   },
   {
    "duration": 216,
    "start_time": "2024-07-16T17:35:48.059Z"
   },
   {
    "duration": 42,
    "start_time": "2024-07-16T17:35:48.277Z"
   },
   {
    "duration": 231,
    "start_time": "2024-07-16T17:35:48.321Z"
   },
   {
    "duration": 5,
    "start_time": "2024-07-16T17:35:48.554Z"
   },
   {
    "duration": 202,
    "start_time": "2024-07-16T17:35:48.560Z"
   },
   {
    "duration": 280,
    "start_time": "2024-07-16T17:35:48.763Z"
   },
   {
    "duration": 3,
    "start_time": "2024-07-16T17:35:49.044Z"
   },
   {
    "duration": 160,
    "start_time": "2024-07-16T17:35:49.057Z"
   },
   {
    "duration": 426,
    "start_time": "2024-07-16T17:35:49.220Z"
   },
   {
    "duration": 3,
    "start_time": "2024-07-16T17:35:49.647Z"
   },
   {
    "duration": 110,
    "start_time": "2024-07-16T17:35:49.651Z"
   },
   {
    "duration": 181,
    "start_time": "2024-07-16T17:35:49.762Z"
   },
   {
    "duration": 196,
    "start_time": "2024-07-16T17:35:49.944Z"
   },
   {
    "duration": 188,
    "start_time": "2024-07-16T17:35:50.142Z"
   },
   {
    "duration": 3,
    "start_time": "2024-07-16T17:35:50.331Z"
   },
   {
    "duration": 297,
    "start_time": "2024-07-16T17:35:50.336Z"
   },
   {
    "duration": 102,
    "start_time": "2024-07-16T17:35:50.634Z"
   },
   {
    "duration": 161,
    "start_time": "2024-07-16T17:35:50.738Z"
   },
   {
    "duration": 26,
    "start_time": "2024-07-16T17:35:50.901Z"
   },
   {
    "duration": 149,
    "start_time": "2024-07-16T17:35:50.928Z"
   },
   {
    "duration": 149,
    "start_time": "2024-07-16T17:35:51.079Z"
   },
   {
    "duration": 137,
    "start_time": "2024-07-16T17:35:51.229Z"
   },
   {
    "duration": 146,
    "start_time": "2024-07-16T17:35:51.367Z"
   },
   {
    "duration": 129,
    "start_time": "2024-07-16T17:35:51.514Z"
   },
   {
    "duration": 147,
    "start_time": "2024-07-16T17:35:51.644Z"
   },
   {
    "duration": 144,
    "start_time": "2024-07-16T17:35:51.792Z"
   },
   {
    "duration": 136,
    "start_time": "2024-07-16T17:35:51.937Z"
   },
   {
    "duration": 132,
    "start_time": "2024-07-16T17:35:52.074Z"
   },
   {
    "duration": 23,
    "start_time": "2024-07-16T17:35:52.207Z"
   },
   {
    "duration": 153,
    "start_time": "2024-07-16T17:35:52.231Z"
   },
   {
    "duration": 95,
    "start_time": "2024-07-16T17:37:20.507Z"
   },
   {
    "duration": 2,
    "start_time": "2024-07-16T17:37:20.604Z"
   },
   {
    "duration": 38,
    "start_time": "2024-07-16T17:37:20.608Z"
   },
   {
    "duration": 1512,
    "start_time": "2024-07-16T17:37:20.648Z"
   },
   {
    "duration": 8,
    "start_time": "2024-07-16T17:37:22.162Z"
   },
   {
    "duration": 9,
    "start_time": "2024-07-16T17:37:22.171Z"
   },
   {
    "duration": 19,
    "start_time": "2024-07-16T17:37:22.181Z"
   },
   {
    "duration": 31,
    "start_time": "2024-07-16T17:37:22.201Z"
   },
   {
    "duration": 8,
    "start_time": "2024-07-16T17:37:22.234Z"
   },
   {
    "duration": 2,
    "start_time": "2024-07-16T17:37:22.244Z"
   },
   {
    "duration": 10,
    "start_time": "2024-07-16T17:37:22.247Z"
   },
   {
    "duration": 23,
    "start_time": "2024-07-16T17:37:22.258Z"
   },
   {
    "duration": 10,
    "start_time": "2024-07-16T17:37:22.282Z"
   },
   {
    "duration": 149,
    "start_time": "2024-07-16T17:37:22.294Z"
   },
   {
    "duration": 17,
    "start_time": "2024-07-16T17:37:22.445Z"
   },
   {
    "duration": 279,
    "start_time": "2024-07-16T17:37:22.463Z"
   },
   {
    "duration": 23,
    "start_time": "2024-07-16T17:37:22.744Z"
   },
   {
    "duration": 191,
    "start_time": "2024-07-16T17:37:22.769Z"
   },
   {
    "duration": 7,
    "start_time": "2024-07-16T17:37:22.962Z"
   },
   {
    "duration": 465,
    "start_time": "2024-07-16T17:37:22.970Z"
   },
   {
    "duration": 50,
    "start_time": "2024-07-16T17:37:23.437Z"
   },
   {
    "duration": 211,
    "start_time": "2024-07-16T17:37:23.488Z"
   },
   {
    "duration": 4,
    "start_time": "2024-07-16T17:37:23.700Z"
   },
   {
    "duration": 208,
    "start_time": "2024-07-16T17:37:23.706Z"
   },
   {
    "duration": 279,
    "start_time": "2024-07-16T17:37:23.916Z"
   },
   {
    "duration": 3,
    "start_time": "2024-07-16T17:37:24.196Z"
   },
   {
    "duration": 169,
    "start_time": "2024-07-16T17:37:24.201Z"
   },
   {
    "duration": 196,
    "start_time": "2024-07-16T17:37:24.373Z"
   },
   {
    "duration": 4,
    "start_time": "2024-07-16T17:37:24.570Z"
   },
   {
    "duration": 113,
    "start_time": "2024-07-16T17:37:24.575Z"
   },
   {
    "duration": 186,
    "start_time": "2024-07-16T17:37:24.690Z"
   },
   {
    "duration": 194,
    "start_time": "2024-07-16T17:37:24.877Z"
   },
   {
    "duration": 186,
    "start_time": "2024-07-16T17:37:25.073Z"
   },
   {
    "duration": 3,
    "start_time": "2024-07-16T17:37:25.260Z"
   },
   {
    "duration": 298,
    "start_time": "2024-07-16T17:37:25.264Z"
   },
   {
    "duration": 106,
    "start_time": "2024-07-16T17:37:25.563Z"
   },
   {
    "duration": 168,
    "start_time": "2024-07-16T17:37:25.671Z"
   },
   {
    "duration": 32,
    "start_time": "2024-07-16T17:37:25.841Z"
   },
   {
    "duration": 139,
    "start_time": "2024-07-16T17:37:25.874Z"
   },
   {
    "duration": 143,
    "start_time": "2024-07-16T17:37:26.014Z"
   },
   {
    "duration": 136,
    "start_time": "2024-07-16T17:37:26.158Z"
   },
   {
    "duration": 143,
    "start_time": "2024-07-16T17:37:26.295Z"
   },
   {
    "duration": 135,
    "start_time": "2024-07-16T17:37:26.439Z"
   },
   {
    "duration": 146,
    "start_time": "2024-07-16T17:37:26.576Z"
   },
   {
    "duration": 138,
    "start_time": "2024-07-16T17:37:26.724Z"
   },
   {
    "duration": 139,
    "start_time": "2024-07-16T17:37:26.863Z"
   },
   {
    "duration": 127,
    "start_time": "2024-07-16T17:37:27.004Z"
   },
   {
    "duration": 27,
    "start_time": "2024-07-16T17:37:27.133Z"
   }
  ],
  "colab": {
   "provenance": []
  },
  "kernelspec": {
   "display_name": "Python 3 (ipykernel)",
   "language": "python",
   "name": "python3"
  },
  "language_info": {
   "codemirror_mode": {
    "name": "ipython",
    "version": 3
   },
   "file_extension": ".py",
   "mimetype": "text/x-python",
   "name": "python",
   "nbconvert_exporter": "python",
   "pygments_lexer": "ipython3",
   "version": "3.9.5"
  },
  "toc": {
   "base_numbering": 1,
   "nav_menu": {},
   "number_sections": true,
   "sideBar": true,
   "skip_h1_title": true,
   "title_cell": "Table of Contents",
   "title_sidebar": "Contents",
   "toc_cell": false,
   "toc_position": {},
   "toc_section_display": true,
   "toc_window_display": true
  }
 },
 "nbformat": 4,
 "nbformat_minor": 1
}
