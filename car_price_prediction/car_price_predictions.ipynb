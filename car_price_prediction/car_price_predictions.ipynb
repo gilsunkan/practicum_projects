{
 "cells": [
  {
   "cell_type": "markdown",
   "metadata": {},
   "source": [
    "# Определение стоимости автомобилей"
   ]
  },
  {
   "cell_type": "markdown",
   "metadata": {},
   "source": [
    "Сервис по продаже автомобилей с пробегом «Не бит, не крашен» разрабатывает приложение для привлечения новых клиентов. В нём можно быстро узнать рыночную стоимость своего автомобиля. В вашем распоряжении исторические данные: технические характеристики, комплектации и цены автомобилей. Вам нужно построить модель для определения стоимости. \n",
    "\n",
    "Заказчику важны:\n",
    "\n",
    "- качество предсказания;\n",
    "- скорость предсказания;\n",
    "- время обучения."
   ]
  },
  {
   "cell_type": "markdown",
   "metadata": {},
   "source": [
    "**Цель проекта**:\n",
    "Опираясь на критерии заказчика, выбрать лучшую модель, проверить её качество на тестовой выборке.\n",
    "\n",
    "**План проекта**\n",
    "- Задача 1: предсказание уровня удовлетворённости сотрудника\n",
    " 1. Подготовка данных.\n",
    " 2. Обучение моделей.\n",
    " 3. Анализ моделей.\n",
    " 4. Вывод\n",
    " 5. Чек-лист проверки"
   ]
  },
  {
   "cell_type": "code",
   "execution_count": 1,
   "metadata": {},
   "outputs": [],
   "source": [
    "#установка версий библиотек \n",
    "\n",
    "!pip install phik -q"
   ]
  },
  {
   "cell_type": "code",
   "execution_count": 2,
   "metadata": {},
   "outputs": [],
   "source": [
    "import pandas as pd\n",
    "\n",
    "import seaborn as sns\n",
    "\n",
    "from matplotlib import pyplot as plt\n",
    "\n",
    "import numpy as np\n",
    "\n",
    "import time\n",
    "\n",
    "import phik\n",
    "from phik.report import plot_correlation_matrix\n",
    "\n",
    "from sklearn.model_selection import train_test_split\n",
    "\n",
    "from sklearn.preprocessing import StandardScaler, OrdinalEncoder\n",
    "\n",
    "from sklearn.metrics import mean_squared_error\n",
    "\n",
    "from sklearn.tree import DecisionTreeRegressor\n",
    "\n",
    "from sklearn.model_selection import GridSearchCV\n",
    "\n",
    "from lightgbm import LGBMRegressor\n",
    "\n",
    "from catboost import CatBoostRegressor"
   ]
  },
  {
   "cell_type": "markdown",
   "metadata": {},
   "source": [
    "## Подготовка данных"
   ]
  },
  {
   "cell_type": "markdown",
   "metadata": {},
   "source": [
    "Загрузите данные.\n",
    "Изучите данные. Заполните пропущенные значения и обработайте аномалии в столбцах. Если среди признаков имеются неинформативные, удалите их."
   ]
  },
  {
   "cell_type": "markdown",
   "metadata": {},
   "source": [
    "### Обработка данных"
   ]
  },
  {
   "cell_type": "code",
   "execution_count": 3,
   "metadata": {},
   "outputs": [],
   "source": [
    "#считаем данные и загрузим в датафрейм\n",
    "autos_data = pd.read_csv('autos.csv')"
   ]
  },
  {
   "cell_type": "code",
   "execution_count": 4,
   "metadata": {
    "scrolled": false
   },
   "outputs": [
    {
     "name": "stdout",
     "output_type": "stream",
     "text": [
      "<class 'pandas.core.frame.DataFrame'>\n",
      "RangeIndex: 354369 entries, 0 to 354368\n",
      "Data columns (total 16 columns):\n",
      " #   Column             Non-Null Count   Dtype \n",
      "---  ------             --------------   ----- \n",
      " 0   DateCrawled        354369 non-null  object\n",
      " 1   Price              354369 non-null  int64 \n",
      " 2   VehicleType        316879 non-null  object\n",
      " 3   RegistrationYear   354369 non-null  int64 \n",
      " 4   Gearbox            334536 non-null  object\n",
      " 5   Power              354369 non-null  int64 \n",
      " 6   Model              334664 non-null  object\n",
      " 7   Kilometer          354369 non-null  int64 \n",
      " 8   RegistrationMonth  354369 non-null  int64 \n",
      " 9   FuelType           321474 non-null  object\n",
      " 10  Brand              354369 non-null  object\n",
      " 11  Repaired           283215 non-null  object\n",
      " 12  DateCreated        354369 non-null  object\n",
      " 13  NumberOfPictures   354369 non-null  int64 \n",
      " 14  PostalCode         354369 non-null  int64 \n",
      " 15  LastSeen           354369 non-null  object\n",
      "dtypes: int64(7), object(9)\n",
      "memory usage: 43.3+ MB\n"
     ]
    }
   ],
   "source": [
    "# выведем общее инфо\n",
    "autos_data.info()"
   ]
  },
  {
   "cell_type": "code",
   "execution_count": 5,
   "metadata": {},
   "outputs": [],
   "source": [
    "#запишем изначальный размер датасета\n",
    "len_0 = len(autos_data)"
   ]
  },
  {
   "cell_type": "code",
   "execution_count": 6,
   "metadata": {
    "scrolled": false
   },
   "outputs": [
    {
     "data": {
      "text/html": [
       "<div>\n",
       "<style scoped>\n",
       "    .dataframe tbody tr th:only-of-type {\n",
       "        vertical-align: middle;\n",
       "    }\n",
       "\n",
       "    .dataframe tbody tr th {\n",
       "        vertical-align: top;\n",
       "    }\n",
       "\n",
       "    .dataframe thead th {\n",
       "        text-align: right;\n",
       "    }\n",
       "</style>\n",
       "<table border=\"1\" class=\"dataframe\">\n",
       "  <thead>\n",
       "    <tr style=\"text-align: right;\">\n",
       "      <th></th>\n",
       "      <th>DateCrawled</th>\n",
       "      <th>Price</th>\n",
       "      <th>VehicleType</th>\n",
       "      <th>RegistrationYear</th>\n",
       "      <th>Gearbox</th>\n",
       "      <th>Power</th>\n",
       "      <th>Model</th>\n",
       "      <th>Kilometer</th>\n",
       "      <th>RegistrationMonth</th>\n",
       "      <th>FuelType</th>\n",
       "      <th>Brand</th>\n",
       "      <th>Repaired</th>\n",
       "      <th>DateCreated</th>\n",
       "      <th>NumberOfPictures</th>\n",
       "      <th>PostalCode</th>\n",
       "      <th>LastSeen</th>\n",
       "    </tr>\n",
       "  </thead>\n",
       "  <tbody>\n",
       "    <tr>\n",
       "      <th>0</th>\n",
       "      <td>2016-03-24 11:52:17</td>\n",
       "      <td>480</td>\n",
       "      <td>NaN</td>\n",
       "      <td>1993</td>\n",
       "      <td>manual</td>\n",
       "      <td>0</td>\n",
       "      <td>golf</td>\n",
       "      <td>150000</td>\n",
       "      <td>0</td>\n",
       "      <td>petrol</td>\n",
       "      <td>volkswagen</td>\n",
       "      <td>NaN</td>\n",
       "      <td>2016-03-24 00:00:00</td>\n",
       "      <td>0</td>\n",
       "      <td>70435</td>\n",
       "      <td>2016-04-07 03:16:57</td>\n",
       "    </tr>\n",
       "    <tr>\n",
       "      <th>1</th>\n",
       "      <td>2016-03-24 10:58:45</td>\n",
       "      <td>18300</td>\n",
       "      <td>coupe</td>\n",
       "      <td>2011</td>\n",
       "      <td>manual</td>\n",
       "      <td>190</td>\n",
       "      <td>NaN</td>\n",
       "      <td>125000</td>\n",
       "      <td>5</td>\n",
       "      <td>gasoline</td>\n",
       "      <td>audi</td>\n",
       "      <td>yes</td>\n",
       "      <td>2016-03-24 00:00:00</td>\n",
       "      <td>0</td>\n",
       "      <td>66954</td>\n",
       "      <td>2016-04-07 01:46:50</td>\n",
       "    </tr>\n",
       "    <tr>\n",
       "      <th>2</th>\n",
       "      <td>2016-03-14 12:52:21</td>\n",
       "      <td>9800</td>\n",
       "      <td>suv</td>\n",
       "      <td>2004</td>\n",
       "      <td>auto</td>\n",
       "      <td>163</td>\n",
       "      <td>grand</td>\n",
       "      <td>125000</td>\n",
       "      <td>8</td>\n",
       "      <td>gasoline</td>\n",
       "      <td>jeep</td>\n",
       "      <td>NaN</td>\n",
       "      <td>2016-03-14 00:00:00</td>\n",
       "      <td>0</td>\n",
       "      <td>90480</td>\n",
       "      <td>2016-04-05 12:47:46</td>\n",
       "    </tr>\n",
       "    <tr>\n",
       "      <th>3</th>\n",
       "      <td>2016-03-17 16:54:04</td>\n",
       "      <td>1500</td>\n",
       "      <td>small</td>\n",
       "      <td>2001</td>\n",
       "      <td>manual</td>\n",
       "      <td>75</td>\n",
       "      <td>golf</td>\n",
       "      <td>150000</td>\n",
       "      <td>6</td>\n",
       "      <td>petrol</td>\n",
       "      <td>volkswagen</td>\n",
       "      <td>no</td>\n",
       "      <td>2016-03-17 00:00:00</td>\n",
       "      <td>0</td>\n",
       "      <td>91074</td>\n",
       "      <td>2016-03-17 17:40:17</td>\n",
       "    </tr>\n",
       "    <tr>\n",
       "      <th>4</th>\n",
       "      <td>2016-03-31 17:25:20</td>\n",
       "      <td>3600</td>\n",
       "      <td>small</td>\n",
       "      <td>2008</td>\n",
       "      <td>manual</td>\n",
       "      <td>69</td>\n",
       "      <td>fabia</td>\n",
       "      <td>90000</td>\n",
       "      <td>7</td>\n",
       "      <td>gasoline</td>\n",
       "      <td>skoda</td>\n",
       "      <td>no</td>\n",
       "      <td>2016-03-31 00:00:00</td>\n",
       "      <td>0</td>\n",
       "      <td>60437</td>\n",
       "      <td>2016-04-06 10:17:21</td>\n",
       "    </tr>\n",
       "    <tr>\n",
       "      <th>5</th>\n",
       "      <td>2016-04-04 17:36:23</td>\n",
       "      <td>650</td>\n",
       "      <td>sedan</td>\n",
       "      <td>1995</td>\n",
       "      <td>manual</td>\n",
       "      <td>102</td>\n",
       "      <td>3er</td>\n",
       "      <td>150000</td>\n",
       "      <td>10</td>\n",
       "      <td>petrol</td>\n",
       "      <td>bmw</td>\n",
       "      <td>yes</td>\n",
       "      <td>2016-04-04 00:00:00</td>\n",
       "      <td>0</td>\n",
       "      <td>33775</td>\n",
       "      <td>2016-04-06 19:17:07</td>\n",
       "    </tr>\n",
       "    <tr>\n",
       "      <th>6</th>\n",
       "      <td>2016-04-01 20:48:51</td>\n",
       "      <td>2200</td>\n",
       "      <td>convertible</td>\n",
       "      <td>2004</td>\n",
       "      <td>manual</td>\n",
       "      <td>109</td>\n",
       "      <td>2_reihe</td>\n",
       "      <td>150000</td>\n",
       "      <td>8</td>\n",
       "      <td>petrol</td>\n",
       "      <td>peugeot</td>\n",
       "      <td>no</td>\n",
       "      <td>2016-04-01 00:00:00</td>\n",
       "      <td>0</td>\n",
       "      <td>67112</td>\n",
       "      <td>2016-04-05 18:18:39</td>\n",
       "    </tr>\n",
       "    <tr>\n",
       "      <th>7</th>\n",
       "      <td>2016-03-21 18:54:38</td>\n",
       "      <td>0</td>\n",
       "      <td>sedan</td>\n",
       "      <td>1980</td>\n",
       "      <td>manual</td>\n",
       "      <td>50</td>\n",
       "      <td>other</td>\n",
       "      <td>40000</td>\n",
       "      <td>7</td>\n",
       "      <td>petrol</td>\n",
       "      <td>volkswagen</td>\n",
       "      <td>no</td>\n",
       "      <td>2016-03-21 00:00:00</td>\n",
       "      <td>0</td>\n",
       "      <td>19348</td>\n",
       "      <td>2016-03-25 16:47:58</td>\n",
       "    </tr>\n",
       "    <tr>\n",
       "      <th>8</th>\n",
       "      <td>2016-04-04 23:42:13</td>\n",
       "      <td>14500</td>\n",
       "      <td>bus</td>\n",
       "      <td>2014</td>\n",
       "      <td>manual</td>\n",
       "      <td>125</td>\n",
       "      <td>c_max</td>\n",
       "      <td>30000</td>\n",
       "      <td>8</td>\n",
       "      <td>petrol</td>\n",
       "      <td>ford</td>\n",
       "      <td>NaN</td>\n",
       "      <td>2016-04-04 00:00:00</td>\n",
       "      <td>0</td>\n",
       "      <td>94505</td>\n",
       "      <td>2016-04-04 23:42:13</td>\n",
       "    </tr>\n",
       "    <tr>\n",
       "      <th>9</th>\n",
       "      <td>2016-03-17 10:53:50</td>\n",
       "      <td>999</td>\n",
       "      <td>small</td>\n",
       "      <td>1998</td>\n",
       "      <td>manual</td>\n",
       "      <td>101</td>\n",
       "      <td>golf</td>\n",
       "      <td>150000</td>\n",
       "      <td>0</td>\n",
       "      <td>NaN</td>\n",
       "      <td>volkswagen</td>\n",
       "      <td>NaN</td>\n",
       "      <td>2016-03-17 00:00:00</td>\n",
       "      <td>0</td>\n",
       "      <td>27472</td>\n",
       "      <td>2016-03-31 17:17:06</td>\n",
       "    </tr>\n",
       "  </tbody>\n",
       "</table>\n",
       "</div>"
      ],
      "text/plain": [
       "           DateCrawled  Price  VehicleType  RegistrationYear Gearbox  Power  \\\n",
       "0  2016-03-24 11:52:17    480          NaN              1993  manual      0   \n",
       "1  2016-03-24 10:58:45  18300        coupe              2011  manual    190   \n",
       "2  2016-03-14 12:52:21   9800          suv              2004    auto    163   \n",
       "3  2016-03-17 16:54:04   1500        small              2001  manual     75   \n",
       "4  2016-03-31 17:25:20   3600        small              2008  manual     69   \n",
       "5  2016-04-04 17:36:23    650        sedan              1995  manual    102   \n",
       "6  2016-04-01 20:48:51   2200  convertible              2004  manual    109   \n",
       "7  2016-03-21 18:54:38      0        sedan              1980  manual     50   \n",
       "8  2016-04-04 23:42:13  14500          bus              2014  manual    125   \n",
       "9  2016-03-17 10:53:50    999        small              1998  manual    101   \n",
       "\n",
       "     Model  Kilometer  RegistrationMonth  FuelType       Brand Repaired  \\\n",
       "0     golf     150000                  0    petrol  volkswagen      NaN   \n",
       "1      NaN     125000                  5  gasoline        audi      yes   \n",
       "2    grand     125000                  8  gasoline        jeep      NaN   \n",
       "3     golf     150000                  6    petrol  volkswagen       no   \n",
       "4    fabia      90000                  7  gasoline       skoda       no   \n",
       "5      3er     150000                 10    petrol         bmw      yes   \n",
       "6  2_reihe     150000                  8    petrol     peugeot       no   \n",
       "7    other      40000                  7    petrol  volkswagen       no   \n",
       "8    c_max      30000                  8    petrol        ford      NaN   \n",
       "9     golf     150000                  0       NaN  volkswagen      NaN   \n",
       "\n",
       "           DateCreated  NumberOfPictures  PostalCode             LastSeen  \n",
       "0  2016-03-24 00:00:00                 0       70435  2016-04-07 03:16:57  \n",
       "1  2016-03-24 00:00:00                 0       66954  2016-04-07 01:46:50  \n",
       "2  2016-03-14 00:00:00                 0       90480  2016-04-05 12:47:46  \n",
       "3  2016-03-17 00:00:00                 0       91074  2016-03-17 17:40:17  \n",
       "4  2016-03-31 00:00:00                 0       60437  2016-04-06 10:17:21  \n",
       "5  2016-04-04 00:00:00                 0       33775  2016-04-06 19:17:07  \n",
       "6  2016-04-01 00:00:00                 0       67112  2016-04-05 18:18:39  \n",
       "7  2016-03-21 00:00:00                 0       19348  2016-03-25 16:47:58  \n",
       "8  2016-04-04 00:00:00                 0       94505  2016-04-04 23:42:13  \n",
       "9  2016-03-17 00:00:00                 0       27472  2016-03-31 17:17:06  "
      ]
     },
     "execution_count": 6,
     "metadata": {},
     "output_type": "execute_result"
    }
   ],
   "source": [
    "autos_data.head(10)"
   ]
  },
  {
   "cell_type": "markdown",
   "metadata": {},
   "source": [
    "Видим, что есть пропуски в пяти столбцах, типы данных соотвествуют ожидаемым. Названия стобцов не соответствуют правилам. "
   ]
  },
  {
   "cell_type": "code",
   "execution_count": 7,
   "metadata": {},
   "outputs": [],
   "source": [
    "#приведем названия столбцов к змеиному регистру\n",
    "autos_data.columns = autos_data.columns.str.replace(r\"([A-Z])\", r\" \\1\", regex=True)\\\n",
    "                                       .str.replace('(?<=.) ', '_', regex=True)\\\n",
    "                                       .str.replace(' ', '', regex=True)\\\n",
    "                                       .str.lower()"
   ]
  },
  {
   "cell_type": "code",
   "execution_count": 8,
   "metadata": {},
   "outputs": [
    {
     "name": "stdout",
     "output_type": "stream",
     "text": [
      "Процент пропусков в признаке date_crawled = 0.00%\n",
      "Процент пропусков в признаке price = 0.00%\n",
      "Процент пропусков в признаке vehicle_type = 10.58%\n",
      "Процент пропусков в признаке registration_year = 0.00%\n",
      "Процент пропусков в признаке gearbox = 5.60%\n",
      "Процент пропусков в признаке power = 0.00%\n",
      "Процент пропусков в признаке model = 5.56%\n",
      "Процент пропусков в признаке kilometer = 0.00%\n",
      "Процент пропусков в признаке registration_month = 0.00%\n",
      "Процент пропусков в признаке fuel_type = 9.28%\n",
      "Процент пропусков в признаке brand = 0.00%\n",
      "Процент пропусков в признаке repaired = 20.08%\n",
      "Процент пропусков в признаке date_created = 0.00%\n",
      "Процент пропусков в признаке number_of_pictures = 0.00%\n",
      "Процент пропусков в признаке postal_code = 0.00%\n",
      "Процент пропусков в признаке last_seen = 0.00%\n"
     ]
    }
   ],
   "source": [
    "#выведем долю пропусков в каждом признаке\n",
    "for l in autos_data.columns:\n",
    "    print(f'Процент пропусков в признаке {l} = {autos_data[l].isna().mean():.2%}')"
   ]
  },
  {
   "cell_type": "code",
   "execution_count": 9,
   "metadata": {
    "scrolled": false
   },
   "outputs": [
    {
     "name": "stdout",
     "output_type": "stream",
     "text": [
      "sedan          91457\n",
      "small          79831\n",
      "wagon          65166\n",
      "bus            28775\n",
      "convertible    20203\n",
      "coupe          16163\n",
      "suv            11996\n",
      "other           3288\n",
      "Name: vehicle_type, dtype: int64\n",
      "\n",
      "\n",
      "manual    268251\n",
      "auto       66285\n",
      "Name: gearbox, dtype: int64\n",
      "\n",
      "\n",
      "golf                  29232\n",
      "other                 24421\n",
      "3er                   19761\n",
      "polo                  13066\n",
      "corsa                 12570\n",
      "                      ...  \n",
      "serie_2                   8\n",
      "rangerover                4\n",
      "serie_3                   4\n",
      "serie_1                   2\n",
      "range_rover_evoque        2\n",
      "Name: model, Length: 250, dtype: int64\n",
      "\n",
      "\n",
      "petrol      216352\n",
      "gasoline     98720\n",
      "lpg           5310\n",
      "cng            565\n",
      "hybrid         233\n",
      "other          204\n",
      "electric        90\n",
      "Name: fuel_type, dtype: int64\n",
      "\n",
      "\n",
      "no     247161\n",
      "yes     36054\n",
      "Name: repaired, dtype: int64\n",
      "\n",
      "\n"
     ]
    }
   ],
   "source": [
    "#просмотрим уникальные значения в столбцах с пропусками\n",
    "subset = ['vehicle_type', 'gearbox', 'model', 'fuel_type', 'repaired']\n",
    "for l in subset:\n",
    "    print(autos_data[l].value_counts())\n",
    "    print('\\n')"
   ]
  },
  {
   "cell_type": "markdown",
   "metadata": {},
   "source": [
    "Поставим заглушки на пропуски в столбцах, для дальнейшего анализа"
   ]
  },
  {
   "cell_type": "code",
   "execution_count": 10,
   "metadata": {},
   "outputs": [],
   "source": [
    "autos_data = autos_data.fillna('unknown')"
   ]
  },
  {
   "cell_type": "markdown",
   "metadata": {},
   "source": [
    "Заменим тип топлива gasoline на petrol, так как это один и тот же вид топлива"
   ]
  },
  {
   "cell_type": "code",
   "execution_count": 11,
   "metadata": {},
   "outputs": [],
   "source": [
    "autos_data['fuel_type'] = autos_data['fuel_type'].replace('gasoline', 'petrol')"
   ]
  },
  {
   "cell_type": "markdown",
   "metadata": {},
   "source": [
    "### Исследовательский анализ данных"
   ]
  },
  {
   "cell_type": "code",
   "execution_count": 12,
   "metadata": {},
   "outputs": [
    {
     "data": {
      "text/html": [
       "<div>\n",
       "<style scoped>\n",
       "    .dataframe tbody tr th:only-of-type {\n",
       "        vertical-align: middle;\n",
       "    }\n",
       "\n",
       "    .dataframe tbody tr th {\n",
       "        vertical-align: top;\n",
       "    }\n",
       "\n",
       "    .dataframe thead th {\n",
       "        text-align: right;\n",
       "    }\n",
       "</style>\n",
       "<table border=\"1\" class=\"dataframe\">\n",
       "  <thead>\n",
       "    <tr style=\"text-align: right;\">\n",
       "      <th></th>\n",
       "      <th>count</th>\n",
       "      <th>mean</th>\n",
       "      <th>std</th>\n",
       "      <th>min</th>\n",
       "      <th>25%</th>\n",
       "      <th>50%</th>\n",
       "      <th>75%</th>\n",
       "      <th>max</th>\n",
       "    </tr>\n",
       "  </thead>\n",
       "  <tbody>\n",
       "    <tr>\n",
       "      <th>price</th>\n",
       "      <td>354369.0</td>\n",
       "      <td>4416.656776</td>\n",
       "      <td>4514.158514</td>\n",
       "      <td>0.0</td>\n",
       "      <td>1050.0</td>\n",
       "      <td>2700.0</td>\n",
       "      <td>6400.0</td>\n",
       "      <td>20000.0</td>\n",
       "    </tr>\n",
       "    <tr>\n",
       "      <th>registration_year</th>\n",
       "      <td>354369.0</td>\n",
       "      <td>2004.234448</td>\n",
       "      <td>90.227958</td>\n",
       "      <td>1000.0</td>\n",
       "      <td>1999.0</td>\n",
       "      <td>2003.0</td>\n",
       "      <td>2008.0</td>\n",
       "      <td>9999.0</td>\n",
       "    </tr>\n",
       "    <tr>\n",
       "      <th>power</th>\n",
       "      <td>354369.0</td>\n",
       "      <td>110.094337</td>\n",
       "      <td>189.850405</td>\n",
       "      <td>0.0</td>\n",
       "      <td>69.0</td>\n",
       "      <td>105.0</td>\n",
       "      <td>143.0</td>\n",
       "      <td>20000.0</td>\n",
       "    </tr>\n",
       "    <tr>\n",
       "      <th>kilometer</th>\n",
       "      <td>354369.0</td>\n",
       "      <td>128211.172535</td>\n",
       "      <td>37905.341530</td>\n",
       "      <td>5000.0</td>\n",
       "      <td>125000.0</td>\n",
       "      <td>150000.0</td>\n",
       "      <td>150000.0</td>\n",
       "      <td>150000.0</td>\n",
       "    </tr>\n",
       "    <tr>\n",
       "      <th>registration_month</th>\n",
       "      <td>354369.0</td>\n",
       "      <td>5.714645</td>\n",
       "      <td>3.726421</td>\n",
       "      <td>0.0</td>\n",
       "      <td>3.0</td>\n",
       "      <td>6.0</td>\n",
       "      <td>9.0</td>\n",
       "      <td>12.0</td>\n",
       "    </tr>\n",
       "    <tr>\n",
       "      <th>number_of_pictures</th>\n",
       "      <td>354369.0</td>\n",
       "      <td>0.000000</td>\n",
       "      <td>0.000000</td>\n",
       "      <td>0.0</td>\n",
       "      <td>0.0</td>\n",
       "      <td>0.0</td>\n",
       "      <td>0.0</td>\n",
       "      <td>0.0</td>\n",
       "    </tr>\n",
       "    <tr>\n",
       "      <th>postal_code</th>\n",
       "      <td>354369.0</td>\n",
       "      <td>50508.689087</td>\n",
       "      <td>25783.096248</td>\n",
       "      <td>1067.0</td>\n",
       "      <td>30165.0</td>\n",
       "      <td>49413.0</td>\n",
       "      <td>71083.0</td>\n",
       "      <td>99998.0</td>\n",
       "    </tr>\n",
       "  </tbody>\n",
       "</table>\n",
       "</div>"
      ],
      "text/plain": [
       "                       count           mean           std     min       25%  \\\n",
       "price               354369.0    4416.656776   4514.158514     0.0    1050.0   \n",
       "registration_year   354369.0    2004.234448     90.227958  1000.0    1999.0   \n",
       "power               354369.0     110.094337    189.850405     0.0      69.0   \n",
       "kilometer           354369.0  128211.172535  37905.341530  5000.0  125000.0   \n",
       "registration_month  354369.0       5.714645      3.726421     0.0       3.0   \n",
       "number_of_pictures  354369.0       0.000000      0.000000     0.0       0.0   \n",
       "postal_code         354369.0   50508.689087  25783.096248  1067.0   30165.0   \n",
       "\n",
       "                         50%       75%       max  \n",
       "price                 2700.0    6400.0   20000.0  \n",
       "registration_year     2003.0    2008.0    9999.0  \n",
       "power                  105.0     143.0   20000.0  \n",
       "kilometer           150000.0  150000.0  150000.0  \n",
       "registration_month       6.0       9.0      12.0  \n",
       "number_of_pictures       0.0       0.0       0.0  \n",
       "postal_code          49413.0   71083.0   99998.0  "
      ]
     },
     "execution_count": 12,
     "metadata": {},
     "output_type": "execute_result"
    }
   ],
   "source": [
    "autos_data.describe().T"
   ]
  },
  {
   "cell_type": "markdown",
   "metadata": {},
   "source": [
    "Можно отметить, что в столбце с количеством фотографий одно значение - 0, этот признак можно удалить. \n",
    "Такие признаки, как  дата последней активности пользователя, почтовый индекс пользователя, месяц регистрации и дата создания анкеты не влияют на стоимость машины - также удалим их из датасета"
   ]
  },
  {
   "cell_type": "code",
   "execution_count": 13,
   "metadata": {},
   "outputs": [],
   "source": [
    "autos_data = autos_data.drop(\n",
    "    [\n",
    "        'registration_month', \n",
    "        'date_created', \n",
    "        'number_of_pictures', \n",
    "        'postal_code', \n",
    "        'last_seen'\n",
    "    ], axis = 1\n",
    ")"
   ]
  },
  {
   "cell_type": "code",
   "execution_count": 17,
   "metadata": {},
   "outputs": [],
   "source": [
    "#создадим функцию для построения графиков распределения количественных признаков\n",
    "def graph_maker_num(df, col_names, labels):\n",
    "    for i, col_name in enumerate(col_names):\n",
    "        fig, axes = plt.subplots(nrows=1, ncols=2, figsize=(15, 5))\n",
    "        df[col_name].plot(kind='hist', bins=10, ax=axes[0])\n",
    "        axes[0].set_title(f'Гистограмма распределения, {col_name}')\n",
    "        axes[0].set_xlabel(f'{labels[i]}')\n",
    "        axes[0].set_ylabel('Количество сотрудников')\n",
    "        df[col_name].plot(kind='box', ax=axes[1], vert=False)\n",
    "        axes[1].set_title(f'Разброс значений признаков, {col_name}')\n",
    "        axes[1].set_xlabel(f'{labels[i]}')\n",
    "        axes[1].set_yticks([])\n",
    "        plt.show()"
   ]
  },
  {
   "cell_type": "code",
   "execution_count": 18,
   "metadata": {},
   "outputs": [],
   "source": [
    "#создадим список значений количественных признаков\n",
    "num_col_names_1 = autos_data.select_dtypes(include='number').columns.tolist()"
   ]
  },
  {
   "cell_type": "code",
   "execution_count": 19,
   "metadata": {},
   "outputs": [],
   "source": [
    "#создадим список подписей для графиков\n",
    "num_labels = [\n",
    "    'Цена (евро)',\n",
    "    'Год регистрации автомобиля',\n",
    "    'Мощность (л.с.)',\n",
    "    'Пробег (км)'\n",
    "]"
   ]
  },
  {
   "cell_type": "code",
   "execution_count": 20,
   "metadata": {},
   "outputs": [
    {
     "data": {
      "image/png": "[encoded data removed]",
      "text/plain": [
       "<Figure size 1080x360 with 2 Axes>"
      ]
     },
     "metadata": {
      "needs_background": "light"
     },
     "output_type": "display_data"
    },
    {
     "data": {
      "image/png": "[encoded data removed]",
      "text/plain": [
       "<Figure size 1080x360 with 2 Axes>"
      ]
     },
     "metadata": {
      "needs_background": "light"
     },
     "output_type": "display_data"
    },
    {
     "data": {
      "image/png": "[encoded data removed]",
      "text/plain": [
       "<Figure size 1080x360 with 2 Axes>"
      ]
     },
     "metadata": {
      "needs_background": "light"
     },
     "output_type": "display_data"
    },
    {
     "data": {
      "image/png": "[encoded data removed]",
      "text/plain": [
       "<Figure size 1080x360 with 2 Axes>"
      ]
     },
     "metadata": {
      "needs_background": "light"
     },
     "output_type": "display_data"
    }
   ],
   "source": [
    "#построим графики распределения количественных признаков\n",
    "graph_maker_num(autos_data, num_col_names_1, num_labels)"
   ]
  },
  {
   "cell_type": "markdown",
   "metadata": {},
   "source": [
    "Можно отметить наличие нулевых значений в цене автомобиля - проверим количество таких значений"
   ]
  },
  {
   "cell_type": "code",
   "execution_count": 21,
   "metadata": {},
   "outputs": [
    {
     "data": {
      "text/html": [
       "<div>\n",
       "<style scoped>\n",
       "    .dataframe tbody tr th:only-of-type {\n",
       "        vertical-align: middle;\n",
       "    }\n",
       "\n",
       "    .dataframe tbody tr th {\n",
       "        vertical-align: top;\n",
       "    }\n",
       "\n",
       "    .dataframe thead th {\n",
       "        text-align: right;\n",
       "    }\n",
       "</style>\n",
       "<table border=\"1\" class=\"dataframe\">\n",
       "  <thead>\n",
       "    <tr style=\"text-align: right;\">\n",
       "      <th></th>\n",
       "      <th>count</th>\n",
       "      <th>mean</th>\n",
       "      <th>std</th>\n",
       "      <th>min</th>\n",
       "      <th>25%</th>\n",
       "      <th>50%</th>\n",
       "      <th>75%</th>\n",
       "      <th>max</th>\n",
       "    </tr>\n",
       "  </thead>\n",
       "  <tbody>\n",
       "    <tr>\n",
       "      <th>price</th>\n",
       "      <td>354369.0</td>\n",
       "      <td>4416.656776</td>\n",
       "      <td>4514.158514</td>\n",
       "      <td>0.0</td>\n",
       "      <td>1050.0</td>\n",
       "      <td>2700.0</td>\n",
       "      <td>6400.0</td>\n",
       "      <td>20000.0</td>\n",
       "    </tr>\n",
       "    <tr>\n",
       "      <th>registration_year</th>\n",
       "      <td>354369.0</td>\n",
       "      <td>2004.234448</td>\n",
       "      <td>90.227958</td>\n",
       "      <td>1000.0</td>\n",
       "      <td>1999.0</td>\n",
       "      <td>2003.0</td>\n",
       "      <td>2008.0</td>\n",
       "      <td>9999.0</td>\n",
       "    </tr>\n",
       "    <tr>\n",
       "      <th>power</th>\n",
       "      <td>354369.0</td>\n",
       "      <td>110.094337</td>\n",
       "      <td>189.850405</td>\n",
       "      <td>0.0</td>\n",
       "      <td>69.0</td>\n",
       "      <td>105.0</td>\n",
       "      <td>143.0</td>\n",
       "      <td>20000.0</td>\n",
       "    </tr>\n",
       "    <tr>\n",
       "      <th>kilometer</th>\n",
       "      <td>354369.0</td>\n",
       "      <td>128211.172535</td>\n",
       "      <td>37905.341530</td>\n",
       "      <td>5000.0</td>\n",
       "      <td>125000.0</td>\n",
       "      <td>150000.0</td>\n",
       "      <td>150000.0</td>\n",
       "      <td>150000.0</td>\n",
       "    </tr>\n",
       "  </tbody>\n",
       "</table>\n",
       "</div>"
      ],
      "text/plain": [
       "                      count           mean           std     min       25%  \\\n",
       "price              354369.0    4416.656776   4514.158514     0.0    1050.0   \n",
       "registration_year  354369.0    2004.234448     90.227958  1000.0    1999.0   \n",
       "power              354369.0     110.094337    189.850405     0.0      69.0   \n",
       "kilometer          354369.0  128211.172535  37905.341530  5000.0  125000.0   \n",
       "\n",
       "                        50%       75%       max  \n",
       "price                2700.0    6400.0   20000.0  \n",
       "registration_year    2003.0    2008.0    9999.0  \n",
       "power                 105.0     143.0   20000.0  \n",
       "kilometer          150000.0  150000.0  150000.0  "
      ]
     },
     "execution_count": 21,
     "metadata": {},
     "output_type": "execute_result"
    }
   ],
   "source": [
    "autos_data.describe().T"
   ]
  },
  {
   "cell_type": "code",
   "execution_count": 22,
   "metadata": {},
   "outputs": [
    {
     "name": "stdout",
     "output_type": "stream",
     "text": [
      "3.04%\n"
     ]
    }
   ],
   "source": [
    "print(f'{len(autos_data[autos_data[\"price\"] == 0])/len_0:.2%}')"
   ]
  },
  {
   "cell_type": "markdown",
   "metadata": {},
   "source": [
    "Удалим данные с нулевой ценой, так как они занимают всего 3 процента от начального объема данных"
   ]
  },
  {
   "cell_type": "code",
   "execution_count": 23,
   "metadata": {},
   "outputs": [],
   "source": [
    "autos_data = autos_data[autos_data[\"price\"] > 0]"
   ]
  },
  {
   "cell_type": "markdown",
   "metadata": {},
   "source": [
    "Проверим данные с около-нулевыми ценами"
   ]
  },
  {
   "cell_type": "code",
   "execution_count": 24,
   "metadata": {},
   "outputs": [
    {
     "data": {
      "text/plain": [
       "0       1298\n",
       "75       135\n",
       "60       109\n",
       "45        72\n",
       "90        66\n",
       "        ... \n",
       "430        1\n",
       "400        1\n",
       "10         1\n",
       "320        1\n",
       "1401       1\n",
       "Name: power, Length: 166, dtype: int64"
      ]
     },
     "execution_count": 24,
     "metadata": {},
     "output_type": "execute_result"
    }
   ],
   "source": [
    "autos_data[autos_data[\"price\"] <100]['power'].value_counts()"
   ]
  },
  {
   "cell_type": "markdown",
   "metadata": {},
   "source": [
    "Видим, что год регистрации начинается с 1000 и заканчивается 9999. По общим данным машины признаны винтажными до с годом выпуска примерно до 1930 - для этих машин ценовые категории идут в других рамках, чем для коммерческих автомобилей - поэтому отфильтруем данные с 1930 до времени сбора данных"
   ]
  },
  {
   "cell_type": "markdown",
   "metadata": {},
   "source": [
    "Проверим по датам выгрузки анкет верхнюю границу года регистрации"
   ]
  },
  {
   "cell_type": "code",
   "execution_count": 25,
   "metadata": {},
   "outputs": [
    {
     "data": {
      "text/plain": [
       "'2016-03-05 14:06:22'"
      ]
     },
     "execution_count": 25,
     "metadata": {},
     "output_type": "execute_result"
    }
   ],
   "source": [
    "autos_data['date_crawled'].min()"
   ]
  },
  {
   "cell_type": "code",
   "execution_count": 26,
   "metadata": {
    "scrolled": true
   },
   "outputs": [
    {
     "data": {
      "text/plain": [
       "'2016-04-07 14:36:58'"
      ]
     },
     "execution_count": 26,
     "metadata": {},
     "output_type": "execute_result"
    }
   ],
   "source": [
    "autos_data['date_crawled'].max()"
   ]
  },
  {
   "cell_type": "markdown",
   "metadata": {},
   "source": [
    "Возьмем за верхнюю границу даты регистрации 2016 год"
   ]
  },
  {
   "cell_type": "code",
   "execution_count": 27,
   "metadata": {},
   "outputs": [],
   "source": [
    "autos_data = autos_data.query('registration_year > 1930 & registration_year < 2016')"
   ]
  },
  {
   "cell_type": "markdown",
   "metadata": {},
   "source": [
    "Значения для мощности в датасете начинаются с 0 и заканчиваются 20000 - по общим данным, в среднем минимальная мощность для автомобиля - 60 лс и максимальная около 400 лс. Избавимся от значений с минимальными стоимостями и нулевой мощность. Заменим все некорректные данные медианой. "
   ]
  },
  {
   "cell_type": "code",
   "execution_count": 28,
   "metadata": {},
   "outputs": [],
   "source": [
    "autos_data = autos_data.query('power !=0 and price >99')"
   ]
  },
  {
   "cell_type": "code",
   "execution_count": 29,
   "metadata": {},
   "outputs": [],
   "source": [
    "med =  autos_data['power'].median()"
   ]
  },
  {
   "cell_type": "code",
   "execution_count": 30,
   "metadata": {},
   "outputs": [],
   "source": [
    "autos_data['power'] = np.where((autos_data['power'] < 60) | (autos_data['power'] > 400), med, autos_data['power'])"
   ]
  },
  {
   "cell_type": "markdown",
   "metadata": {},
   "source": [
    "Данные по пробегу не являются аномальными, оставим их без изменений"
   ]
  },
  {
   "cell_type": "code",
   "execution_count": 31,
   "metadata": {},
   "outputs": [
    {
     "data": {
      "text/plain": [
       "25"
      ]
     },
     "execution_count": 31,
     "metadata": {},
     "output_type": "execute_result"
    }
   ],
   "source": [
    "#проверим данные на дубликаты\n",
    "autos_data.duplicated().sum()"
   ]
  },
  {
   "cell_type": "code",
   "execution_count": 32,
   "metadata": {},
   "outputs": [],
   "source": [
    "#удалим дубликаты\n",
    "autos_data = autos_data.drop_duplicates()"
   ]
  },
  {
   "cell_type": "markdown",
   "metadata": {},
   "source": [
    "Удалим оставшийся неинформативный признак \"дата выгрузки анкеты\""
   ]
  },
  {
   "cell_type": "code",
   "execution_count": 33,
   "metadata": {},
   "outputs": [],
   "source": [
    "autos_data = autos_data.drop(['date_crawled'], axis = 1)"
   ]
  },
  {
   "cell_type": "code",
   "execution_count": 34,
   "metadata": {},
   "outputs": [],
   "source": [
    "#проверим признаки на мультиколлинеарность\n",
    "phik_overview = autos_data.phik_matrix(interval_cols=['price', 'power'], bins={'price':50, 'power':50})"
   ]
  },
  {
   "cell_type": "code",
   "execution_count": 35,
   "metadata": {},
   "outputs": [
    {
     "data": {
      "image/png": "[encoded data removed]",
      "text/plain": [
       "<Figure size 936x576 with 2 Axes>"
      ]
     },
     "metadata": {
      "needs_background": "light"
     },
     "output_type": "display_data"
    }
   ],
   "source": [
    "#построим матрицу корреляции\n",
    "plot_correlation_matrix(\n",
    "    phik_overview.values,\n",
    "    x_labels = phik_overview.columns,\n",
    "    y_labels = phik_overview.index,\n",
    "    vmin=0, vmax=1, color_map='Greens',\n",
    "    title=r'корреляция $\\phi_K$',\n",
    "    fontsize_factor=1.5,\n",
    "    figsize=(13,8)\n",
    "    \n",
    ")"
   ]
  },
  {
   "cell_type": "code",
   "execution_count": 36,
   "metadata": {},
   "outputs": [],
   "source": [
    "autos_data['model'] = autos_data['brand'] + '_' + autos_data['model']"
   ]
  },
  {
   "cell_type": "code",
   "execution_count": 37,
   "metadata": {},
   "outputs": [],
   "source": [
    "autos_data = autos_data.drop(['brand'], axis=1)"
   ]
  },
  {
   "cell_type": "code",
   "execution_count": 38,
   "metadata": {},
   "outputs": [
    {
     "data": {
      "text/plain": [
       "0.8165245831322717"
      ]
     },
     "execution_count": 38,
     "metadata": {},
     "output_type": "execute_result"
    }
   ],
   "source": [
    "#проверим объем удаленных данных\n",
    "len(autos_data)/len_0"
   ]
  },
  {
   "cell_type": "markdown",
   "metadata": {},
   "source": [
    "### Вывод"
   ]
  },
  {
   "cell_type": "markdown",
   "metadata": {},
   "source": [
    "Изучив данные, обнаружили пропуски в пяти столбцах. На пропуски поставлена заглушка для последующего анализа. Аномальные нулевые значения в столбцах со значениями цены были устранены, выбросы в столбце с мощностью заменили на медиану значений, отфильтровали данные по значению года регистрации - удалили очень старые или слишком новые по году выпуска машины  \n",
    "\n",
    "Удалили неинформативные и не влияющие на стоимость машины признаки со значениями количества фотографий, даты скачивания анкеты из базы, даты последней активности пользователя, почтового индекс пользователя, месяца регистрации и даты создания анкеты.\n",
    "\n",
    "Признаки бренд и модель машины объединили, так как они были мультиколлинеарными. \n",
    "\n",
    "Удалили дубликаты данных.\n",
    "\n",
    "Общий объем удаленных данных 18,3%"
   ]
  },
  {
   "cell_type": "markdown",
   "metadata": {},
   "source": [
    "## Обучение моделей"
   ]
  },
  {
   "cell_type": "markdown",
   "metadata": {},
   "source": [
    "Подготовьте выборки для обучения моделей.\n",
    "Обучите разные модели, одна из которых — LightGBM, как минимум одна — не бустинг. Для каждой модели попробуйте разные гиперпараметры.\n",
    "Проанализируйте время обучения, время предсказания и качество моделей.\n",
    "Опираясь на критерии заказчика, выберите лучшую модель, проверьте её качество на тестовой выборке."
   ]
  },
  {
   "cell_type": "markdown",
   "metadata": {},
   "source": [
    "Для оценки качества моделей применяйте метрику RMSE.\n",
    "\n",
    "Значение метрики RMSE должно быть меньше 2500.\n",
    "\n",
    "Самостоятельно освойте библиотеку LightGBM и её средствами постройте модели градиентного бустинга."
   ]
  },
  {
   "cell_type": "markdown",
   "metadata": {},
   "source": [
    "### Подготовка к обучению"
   ]
  },
  {
   "cell_type": "code",
   "execution_count": 39,
   "metadata": {},
   "outputs": [],
   "source": [
    "#подготовим список количественных признаков\n",
    "num_col_names = autos_data.select_dtypes(include='number').columns.tolist()[1:]"
   ]
  },
  {
   "cell_type": "code",
   "execution_count": 40,
   "metadata": {},
   "outputs": [],
   "source": [
    "#подготовим список качественных признаков\n",
    "cat_col_names = autos_data.select_dtypes(exclude='number').columns.tolist()"
   ]
  },
  {
   "cell_type": "code",
   "execution_count": 41,
   "metadata": {},
   "outputs": [],
   "source": [
    "RANDOM_STATE = 42\n",
    "# выделяем в отдельные переменные целевой признак и входные признаки\n",
    "X = autos_data.drop(['price'], axis=1)\n",
    "y = autos_data['price']\n",
    " "
   ]
  },
  {
   "cell_type": "code",
   "execution_count": 42,
   "metadata": {},
   "outputs": [],
   "source": [
    "#разделим выборку на тестовую и тренировочную   \n",
    "X_train, X_test, y_train, y_test = train_test_split(\n",
    "    X,\n",
    "    y,\n",
    "    random_state=RANDOM_STATE\n",
    ")"
   ]
  },
  {
   "cell_type": "markdown",
   "metadata": {},
   "source": [
    "Масштабируем количественные признаки с помощью StandardScaler"
   ]
  },
  {
   "cell_type": "code",
   "execution_count": 43,
   "metadata": {},
   "outputs": [],
   "source": [
    "#создаем переменную с экземпляром класса StandardScaler()\n",
    "scaler = StandardScaler()\n",
    "\n",
    "#обучим и трансформируем количественные признаки из тренировочной выборки \n",
    "X_train_scaled = scaler.fit_transform(X_train[num_col_names])\n",
    "\n",
    "#выполним преобразование количественных признаков в тестовой выборке\n",
    "X_test_scaled = scaler.transform(X_test[num_col_names])"
   ]
  },
  {
   "cell_type": "markdown",
   "metadata": {},
   "source": [
    "Кодируем категориальные признаки с помощью OrdinalEncoder."
   ]
  },
  {
   "cell_type": "code",
   "execution_count": 44,
   "metadata": {},
   "outputs": [],
   "source": [
    "#создаем переменную с экземпляром класса OrdinalEncoder()\n",
    "encoder = OrdinalEncoder(handle_unknown='most_frequent')\n",
    "\n",
    "#обучим и трансформируем категориальные признаки из тренировочной выборки \n",
    "X_train_oe = encoder.fit_transform(X_train[cat_col_names])\n",
    "\n",
    "#выполним преобразование категориальных признаков в тестовой выборке\n",
    "X_test_oe = encoder.transform(X_test[cat_col_names])"
   ]
  },
  {
   "cell_type": "code",
   "execution_count": 45,
   "metadata": {},
   "outputs": [],
   "source": [
    "X_train_oe = pd.DataFrame(X_train_oe, columns=cat_col_names)\n",
    "X_test_oe = pd.DataFrame(X_test_oe, columns=cat_col_names)\n",
    "\n",
    "X_train_scaled = pd.DataFrame(X_train_scaled, columns=num_col_names)\n",
    "X_test_scaled = pd.DataFrame(X_test_scaled, columns=num_col_names)\n",
    "    \n",
    "X_train = pd.concat([X_train_oe, X_train_scaled], axis=1)\n",
    "X_test = pd.concat([X_test_oe, X_test_scaled], axis=1)"
   ]
  },
  {
   "cell_type": "markdown",
   "metadata": {},
   "source": [
    "### Дерево решений"
   ]
  },
  {
   "cell_type": "code",
   "execution_count": 46,
   "metadata": {},
   "outputs": [],
   "source": [
    "#инициализируем модель дерева решений\n",
    "model_dtr = DecisionTreeRegressor()"
   ]
  },
  {
   "cell_type": "code",
   "execution_count": 47,
   "metadata": {},
   "outputs": [],
   "source": [
    "#создадим подбор гиперпараметров для модели\n",
    "parameters_dtr = {\n",
    "    'min_samples_leaf': range(1, 6),\n",
    "    'max_depth': range(1, 9)\n",
    "}"
   ]
  },
  {
   "cell_type": "code",
   "execution_count": 48,
   "metadata": {},
   "outputs": [
    {
     "data": {
      "text/plain": [
       "GridSearchCV(cv=5, estimator=DecisionTreeRegressor(), n_jobs=-1,\n",
       "             param_grid={'max_depth': range(1, 9),\n",
       "                         'min_samples_leaf': range(1, 6)},\n",
       "             scoring='neg_root_mean_squared_error')"
      ]
     },
     "execution_count": 48,
     "metadata": {},
     "output_type": "execute_result"
    }
   ],
   "source": [
    "gs_dt = GridSearchCV(\n",
    "    model_dtr,\n",
    "    parameters_dtr,\n",
    "    n_jobs=-1,\n",
    "    cv=5,\n",
    "    scoring='neg_root_mean_squared_error'\n",
    ")\n",
    "\n",
    "gs_dt.fit(X_train, y_train) "
   ]
  },
  {
   "cell_type": "code",
   "execution_count": 49,
   "metadata": {},
   "outputs": [
    {
     "name": "stdout",
     "output_type": "stream",
     "text": [
      "Лучшие параметры модели:\n",
      " {'max_depth': 8, 'min_samples_leaf': 4}\n"
     ]
    }
   ],
   "source": [
    "print('Лучшие параметры модели:\\n', gs_dt.best_params_)"
   ]
  },
  {
   "cell_type": "code",
   "execution_count": 50,
   "metadata": {},
   "outputs": [
    {
     "name": "stdout",
     "output_type": "stream",
     "text": [
      "Метрика модели на тренировочной выборке: 2087.226783662345\n"
     ]
    }
   ],
   "source": [
    "print ('Метрика модели на тренировочной выборке:', -gs_dt.best_score_)"
   ]
  },
  {
   "cell_type": "code",
   "execution_count": 51,
   "metadata": {},
   "outputs": [],
   "source": [
    "rmse_dtr = -gs_dt.best_score_"
   ]
  },
  {
   "cell_type": "markdown",
   "metadata": {},
   "source": [
    "#### Вывод\n",
    "\n",
    "Обучили модель дерево решений. Использовали инструмент GridSearchCV для подбора гиперпараметров. Получили значение RMSE на тренировочной выборке модели  - 2087.23"
   ]
  },
  {
   "cell_type": "markdown",
   "metadata": {},
   "source": [
    "### LightGBM"
   ]
  },
  {
   "cell_type": "code",
   "execution_count": 52,
   "metadata": {},
   "outputs": [],
   "source": [
    "#инициализируем модель \n",
    "model_lgbmr = LGBMRegressor(random_state=RANDOM_STATE) "
   ]
  },
  {
   "cell_type": "code",
   "execution_count": 53,
   "metadata": {},
   "outputs": [],
   "source": [
    "#подбор гиперпараметров\n",
    "parameters_lgbm = {\n",
    "    'num_leaves':[100, 150], \n",
    "    'n_estimators': [100, 500], \n",
    "    'learning_rate':[0.1, 0.5]\n",
    "}"
   ]
  },
  {
   "cell_type": "code",
   "execution_count": 54,
   "metadata": {},
   "outputs": [
    {
     "data": {
      "text/plain": [
       "GridSearchCV(cv=3, estimator=LGBMRegressor(random_state=42), n_jobs=-1,\n",
       "             param_grid={'learning_rate': [0.1, 0.5],\n",
       "                         'n_estimators': [100, 500], 'num_leaves': [100, 150]},\n",
       "             scoring='neg_root_mean_squared_error')"
      ]
     },
     "execution_count": 54,
     "metadata": {},
     "output_type": "execute_result"
    }
   ],
   "source": [
    "gd_lgbm = GridSearchCV(\n",
    "    model_lgbmr, \n",
    "    parameters_lgbm, \n",
    "    n_jobs=-1,\n",
    "    cv=3, \n",
    "    scoring='neg_root_mean_squared_error'\n",
    ")\n",
    "\n",
    "gd_lgbm.fit(X_train, y_train)"
   ]
  },
  {
   "cell_type": "code",
   "execution_count": 55,
   "metadata": {},
   "outputs": [
    {
     "name": "stdout",
     "output_type": "stream",
     "text": [
      "Лучшие параметры модели:\n",
      " {'learning_rate': 0.1, 'n_estimators': 500, 'num_leaves': 150}\n"
     ]
    }
   ],
   "source": [
    "print('Лучшие параметры модели:\\n', gd_lgbm.best_params_)"
   ]
  },
  {
   "cell_type": "code",
   "execution_count": 56,
   "metadata": {},
   "outputs": [
    {
     "name": "stdout",
     "output_type": "stream",
     "text": [
      "Метрика модели на тренировочной выборке: 1532.881475320269\n"
     ]
    }
   ],
   "source": [
    "print ('Метрика модели на тренировочной выборке:', -gd_lgbm.best_score_)"
   ]
  },
  {
   "cell_type": "code",
   "execution_count": 57,
   "metadata": {},
   "outputs": [],
   "source": [
    "rmse_lgbm = - gd_lgbm.best_score_"
   ]
  },
  {
   "cell_type": "markdown",
   "metadata": {},
   "source": [
    "#### Вывод\n",
    "Обучили модель LightGBM. Использовали инструмент GridSearchCV для подбора гиперпараметров. Получили значение RMSE на тренировочной выборке модели - 1532.88."
   ]
  },
  {
   "cell_type": "markdown",
   "metadata": {},
   "source": [
    "### CatBoost"
   ]
  },
  {
   "cell_type": "code",
   "execution_count": 58,
   "metadata": {},
   "outputs": [],
   "source": [
    "model_cbr = CatBoostRegressor(random_state=RANDOM_STATE) "
   ]
  },
  {
   "cell_type": "code",
   "execution_count": 59,
   "metadata": {},
   "outputs": [],
   "source": [
    "#подбор гиперпараметров\n",
    "parameters_cbr = {\n",
    "    'learning_rate':[0.1,0.5], \n",
    "    'depth':[5,10,15], \n",
    "    'iterations':[50, 100, 150], \n",
    "    'verbose':[False]\n",
    "}"
   ]
  },
  {
   "cell_type": "code",
   "execution_count": 60,
   "metadata": {},
   "outputs": [
    {
     "data": {
      "text/plain": [
       "GridSearchCV(cv=3,\n",
       "             estimator=<catboost.core.CatBoostRegressor object at 0x7f6bee0c5c40>,\n",
       "             n_jobs=-1,\n",
       "             param_grid={'depth': [5, 10, 15], 'iterations': [50, 100, 150],\n",
       "                         'learning_rate': [0.1, 0.5], 'verbose': [False]},\n",
       "             scoring='neg_root_mean_squared_error')"
      ]
     },
     "execution_count": 60,
     "metadata": {},
     "output_type": "execute_result"
    }
   ],
   "source": [
    "gs_cbr = GridSearchCV(\n",
    "    model_cbr, \n",
    "    parameters_cbr, \n",
    "    n_jobs=-1,\n",
    "    cv=3, \n",
    "    scoring='neg_root_mean_squared_error'\n",
    ")\n",
    "\n",
    "gs_cbr.fit(X_train, y_train)"
   ]
  },
  {
   "cell_type": "code",
   "execution_count": 61,
   "metadata": {},
   "outputs": [
    {
     "name": "stdout",
     "output_type": "stream",
     "text": [
      "Лучшие параметры модели:\n",
      " {'depth': 15, 'iterations': 150, 'learning_rate': 0.5, 'verbose': False}\n"
     ]
    }
   ],
   "source": [
    "print('Лучшие параметры модели:\\n', gs_cbr.best_params_)"
   ]
  },
  {
   "cell_type": "code",
   "execution_count": 62,
   "metadata": {},
   "outputs": [
    {
     "name": "stdout",
     "output_type": "stream",
     "text": [
      "Метрика модели на тренировочной выборке: 1588.1917289236305\n"
     ]
    }
   ],
   "source": [
    "print ('Метрика модели на тренировочной выборке:', -gs_cbr.best_score_)"
   ]
  },
  {
   "cell_type": "code",
   "execution_count": 63,
   "metadata": {},
   "outputs": [],
   "source": [
    "rmse_cbr = - gs_cbr.best_score_"
   ]
  },
  {
   "cell_type": "markdown",
   "metadata": {},
   "source": [
    "#### Вывод\n",
    "Обучили модель CatBoostRegressor. Использовали инструмент GridSearchCV для подбора гиперпараметров. Получили значение RMSE на тренировочной выборке модели - 1588.19."
   ]
  },
  {
   "cell_type": "markdown",
   "metadata": {},
   "source": [
    "## Анализ моделей"
   ]
  },
  {
   "cell_type": "markdown",
   "metadata": {},
   "source": [
    "### Дерево решений"
   ]
  },
  {
   "cell_type": "markdown",
   "metadata": {},
   "source": [
    "Рассчитаем время обучения дерева решений"
   ]
  },
  {
   "cell_type": "code",
   "execution_count": 64,
   "metadata": {},
   "outputs": [
    {
     "name": "stdout",
     "output_type": "stream",
     "text": [
      "CPU times: user 329 ms, sys: 0 ns, total: 329 ms\n",
      "Wall time: 328 ms\n"
     ]
    },
    {
     "data": {
      "text/plain": [
       "0.32773280143737793"
      ]
     },
     "execution_count": 64,
     "metadata": {},
     "output_type": "execute_result"
    }
   ],
   "source": [
    "%%time\n",
    "start = time.time()\n",
    "\n",
    "model_dtr = DecisionTreeRegressor(max_depth = 8, min_samples_leaf = 4, random_state=RANDOM_STATE)\n",
    "model_dtr.fit(X_train, y_train)\n",
    "\n",
    "end = time.time()\n",
    "\n",
    "t_dtr_fit=end-start\n",
    "t_dtr_fit"
   ]
  },
  {
   "cell_type": "markdown",
   "metadata": {},
   "source": [
    "Рассчитаем время на предсказание дерева решений"
   ]
  },
  {
   "cell_type": "code",
   "execution_count": 65,
   "metadata": {},
   "outputs": [
    {
     "name": "stdout",
     "output_type": "stream",
     "text": [
      "CPU times: user 19.1 ms, sys: 906 µs, total: 20 ms\n",
      "Wall time: 18.8 ms\n"
     ]
    },
    {
     "data": {
      "text/plain": [
       "0.01873922348022461"
      ]
     },
     "execution_count": 65,
     "metadata": {},
     "output_type": "execute_result"
    }
   ],
   "source": [
    "%%time\n",
    "start = time.time()\n",
    "\n",
    "predictions_dtr = model_dtr.predict(X_train)\n",
    "\n",
    "end = time.time()\n",
    "\n",
    "t_dtr_pred=end-start\n",
    "t_dtr_pred"
   ]
  },
  {
   "cell_type": "markdown",
   "metadata": {},
   "source": [
    "### Light GBM"
   ]
  },
  {
   "cell_type": "markdown",
   "metadata": {},
   "source": [
    "Рассчитаем время обучения LightGBM"
   ]
  },
  {
   "cell_type": "code",
   "execution_count": 66,
   "metadata": {},
   "outputs": [
    {
     "name": "stdout",
     "output_type": "stream",
     "text": [
      "CPU times: user 6min 5s, sys: 7.69 s, total: 6min 13s\n",
      "Wall time: 6min 16s\n"
     ]
    },
    {
     "data": {
      "text/plain": [
       "376.3528473377228"
      ]
     },
     "execution_count": 66,
     "metadata": {},
     "output_type": "execute_result"
    }
   ],
   "source": [
    "%%time\n",
    "start = time.time()\n",
    "\n",
    "model_lgbm = LGBMRegressor(n_estimators=500, num_leaves=150, learning_rate=0.1,random_state=RANDOM_STATE) \n",
    "model_lgbm.fit(X_train, y_train)\n",
    "\n",
    "end = time.time()\n",
    "\n",
    "t_lgbm_fit=end-start\n",
    "t_lgbm_fit"
   ]
  },
  {
   "cell_type": "markdown",
   "metadata": {},
   "source": [
    "Рассчитаем время предсказания LightGBM"
   ]
  },
  {
   "cell_type": "code",
   "execution_count": 67,
   "metadata": {},
   "outputs": [
    {
     "name": "stdout",
     "output_type": "stream",
     "text": [
      "CPU times: user 15.3 s, sys: 0 ns, total: 15.3 s\n",
      "Wall time: 15.3 s\n"
     ]
    },
    {
     "data": {
      "text/plain": [
       "15.313215970993042"
      ]
     },
     "execution_count": 67,
     "metadata": {},
     "output_type": "execute_result"
    }
   ],
   "source": [
    "%%time\n",
    "start = time.time()\n",
    "\n",
    "predictions_lgbm = model_lgbm.predict(X_train)\n",
    "\n",
    "end = time.time()\n",
    "\n",
    "t_lgbm_pred=end-start\n",
    "t_lgbm_pred"
   ]
  },
  {
   "cell_type": "markdown",
   "metadata": {},
   "source": [
    "### CatBoost"
   ]
  },
  {
   "cell_type": "markdown",
   "metadata": {},
   "source": [
    "Рассчитаем время обучения CatBoostRegressor"
   ]
  },
  {
   "cell_type": "code",
   "execution_count": 68,
   "metadata": {},
   "outputs": [
    {
     "name": "stdout",
     "output_type": "stream",
     "text": [
      "CPU times: user 57.1 s, sys: 34.7 s, total: 1min 31s\n",
      "Wall time: 1min 32s\n"
     ]
    },
    {
     "data": {
      "text/plain": [
       "92.72010898590088"
      ]
     },
     "execution_count": 68,
     "metadata": {},
     "output_type": "execute_result"
    }
   ],
   "source": [
    "%%time\n",
    "start = time.time()\n",
    "\n",
    "model_cbr = CatBoostRegressor(depth=15, iterations=150, learning_rate=0.5, random_state=RANDOM_STATE, verbose=False) \n",
    "model_cbr.fit(X_train, y_train)\n",
    "\n",
    "end = time.time()\n",
    "\n",
    "t_cbr_fit=end-start\n",
    "t_cbr_fit"
   ]
  },
  {
   "cell_type": "markdown",
   "metadata": {},
   "source": [
    "Рассчитаем время предсказания CatBoostRegressor"
   ]
  },
  {
   "cell_type": "code",
   "execution_count": 69,
   "metadata": {},
   "outputs": [
    {
     "name": "stdout",
     "output_type": "stream",
     "text": [
      "CPU times: user 320 ms, sys: 0 ns, total: 320 ms\n",
      "Wall time: 330 ms\n"
     ]
    },
    {
     "data": {
      "text/plain": [
       "0.3298969268798828"
      ]
     },
     "execution_count": 69,
     "metadata": {},
     "output_type": "execute_result"
    }
   ],
   "source": [
    "%%time\n",
    "start = time.time()\n",
    "\n",
    "predictions_cbr = model_cbr.predict(X_train)\n",
    "\n",
    "end = time.time()\n",
    "\n",
    "t_cbr_pred=end-start\n",
    "t_cbr_pred"
   ]
  },
  {
   "cell_type": "markdown",
   "metadata": {},
   "source": [
    "### Критерии заказчика"
   ]
  },
  {
   "cell_type": "markdown",
   "metadata": {},
   "source": [
    "Построим таблицу критериев для заказчика"
   ]
  },
  {
   "cell_type": "code",
   "execution_count": 70,
   "metadata": {},
   "outputs": [
    {
     "name": "stdout",
     "output_type": "stream",
     "text": [
      "                       Качество предсказания RMSE  Время обучения модели, сек  \\\n",
      "DecisionTreeRegressor                 2087.226784                    0.327733   \n",
      "LGBMRegressor                         1532.881475                  376.352847   \n",
      "CatBoostRegressor                     1588.191729                   92.720109   \n",
      "\n",
      "                       Время предсказания модели, сек  \n",
      "DecisionTreeRegressor                        0.018739  \n",
      "LGBMRegressor                               15.313216  \n",
      "CatBoostRegressor                            0.329897  \n"
     ]
    }
   ],
   "source": [
    "data = {'Качество предсказания RMSE':\n",
    "        [\n",
    "            rmse_dtr,\n",
    "            rmse_lgbm,\n",
    "            rmse_cbr,            \n",
    "        ],\n",
    "\n",
    "        'Время обучения модели, сек':\n",
    "        [\n",
    "            t_dtr_fit, \n",
    "            t_lgbm_fit,\n",
    "            t_cbr_fit\n",
    "        ],\n",
    "        \n",
    "        'Время предсказания модели, сек':\n",
    "        [\n",
    "            t_dtr_pred, \n",
    "            t_lgbm_pred,\n",
    "            t_cbr_pred,            \n",
    "        ]\n",
    "       }\n",
    "index = ['DecisionTreeRegressor',\n",
    "         'LGBMRegressor',\n",
    "         'CatBoostRegressor'\n",
    "        ]\n",
    "\n",
    "\n",
    "qualities = pd.DataFrame(data=data, index=index)\n",
    "print(qualities)"
   ]
  },
  {
   "cell_type": "markdown",
   "metadata": {},
   "source": [
    "### Вывод\n",
    "\n"
   ]
  },
  {
   "cell_type": "markdown",
   "metadata": {},
   "source": [
    "Проанализировали скорость работы трех моделей. Модель дерева решений работает в разы быстрее, но показывает худшие показатели по метрике RMSE, в отличие от LightGBM и CatBoost. \n",
    "Лучший показатель по метрике RMSE у модели LightGBM.\n",
    "\n",
    "По двум показателям из трех дерево решений показывает себя лучше всех - но выберем как лучшую модель LightGBM - по метрике RMSE и по неплохому результату скорости обучения и предсказания.  "
   ]
  },
  {
   "cell_type": "markdown",
   "metadata": {},
   "source": [
    "Посчитаем качество лучшей модели на тестовых данных - 1513.76"
   ]
  },
  {
   "cell_type": "code",
   "execution_count": 71,
   "metadata": {},
   "outputs": [],
   "source": [
    "predictions_lgbm_test = model_lgbm.predict(X_test)\n",
    "rmse = mean_squared_error(predictions_lgbm_test, y_test, squared=False)"
   ]
  },
  {
   "cell_type": "code",
   "execution_count": 72,
   "metadata": {},
   "outputs": [
    {
     "data": {
      "text/plain": [
       "1513.7552609232227"
      ]
     },
     "execution_count": 72,
     "metadata": {},
     "output_type": "execute_result"
    }
   ],
   "source": [
    "rmse"
   ]
  },
  {
   "cell_type": "markdown",
   "metadata": {},
   "source": [
    "Построим график важности признаков лучшей модели"
   ]
  },
  {
   "cell_type": "code",
   "execution_count": 73,
   "metadata": {},
   "outputs": [],
   "source": [
    "feature_importances = pd.DataFrame(\n",
    "    {\n",
    "        'Feature': X.columns,\n",
    "        'Importance': gd_lgbm.best_estimator_.feature_importances_\n",
    "    }).sort_values('Importance', ascending=False)\n"
   ]
  },
  {
   "cell_type": "code",
   "execution_count": 74,
   "metadata": {},
   "outputs": [
    {
     "data": {
      "image/png": "[encoded data removed]",
      "text/plain": [
       "<Figure size 864x432 with 1 Axes>"
      ]
     },
     "metadata": {
      "needs_background": "light"
     },
     "output_type": "display_data"
    }
   ],
   "source": [
    "#построим столбчатый график\n",
    "plt.figure(figsize=(12, 6))\n",
    "ax = sns.barplot(x='Importance', y='Feature', data=feature_importances)\n",
    "ax.set_title('Важность признаков', fontsize=16)\n",
    "ax.set_xlabel('Важность', fontsize=14)\n",
    "ax.set_ylabel('Признак', fontsize=14)\n",
    "plt.show()"
   ]
  },
  {
   "cell_type": "markdown",
   "metadata": {},
   "source": [
    "Можно отметить, что самыми важными признаками при прогнозе стоимости автомобиля модель LightGBM посчитала: тип топлива, тип коробки передач и пробег. Наименее важные признаки - мощность и модель с годом регистрации. "
   ]
  },
  {
   "cell_type": "markdown",
   "metadata": {},
   "source": [
    "## Вывод"
   ]
  },
  {
   "cell_type": "markdown",
   "metadata": {},
   "source": [
    "1. В первой части работы загрузили данные, обнаружили пропуски в пяти столбцах. На пропуски была поставлена заглушка для последующего анализа. Аномальные нулевые значения в столбцах со значениями цены были устранены, выбросы в столбце с мощностью заменили на медиану значений, отфильтровали данные по значению года регистрации - удалили очень старые или слишком новые по году выпуска машины  \n",
    "\n",
    "Удалили неинформативные и не влияющие на стоимость машины признаки со значениями количества фотографий, даты скачивания анкеты из базы, даты последней активности пользователя, почтового индекс пользователя, месяца регистрации и даты создания анкеты.\n",
    "\n",
    "Признаки бренд и модель машины объединили, так как они были мультиколлинеарными.\n",
    "\n",
    "Удалили дубликаты данных.\n",
    "Общий объем удаленных данных 18,3%\n",
    "\n",
    "2. Обучили три модели - DecisionTreeRegressor, LightGBM и CatBoost. С помощью подбора гиперпараметров и GridSearchCV рассчитали метрики RMSE и лучшие параметры для трех моделей. \n",
    "\n",
    "3. Проанализировали скорость работы трех моделей. Модель дерева решений работает в разы быстрее, но показывает худшие показатели по метрике RMSE, в отличие от LightGBM и CatBoost. Лучший показатель по метрике RMSE у модели LightGBM.\n",
    "\n",
    "По двум показателям из трех дерево решений показывает себя лучше всех - но выберем как лучшую модель LightGBM - по метрике RMSE и по неплохому результату скорости обучения и предсказания.\n",
    "\n",
    "Качество лучшей модели на тестовых данных - 1513.76\n",
    "\n",
    "4. По графику важности признаков выделили, что самыми важными признаками при прогнозе стоимости автомобиля модель LightGBM посчитала: тип топлива, тип коробки передач и пробег. Наименее важные признаки - мощность и модель с годом регистрации. "
   ]
  },
  {
   "cell_type": "code",
   "execution_count": null,
   "metadata": {},
   "outputs": [],
   "source": []
  }
 ],
 "metadata": {
  "ExecuteTimeLog": [
   {
    "duration": 385,
    "start_time": "2025-02-15T18:41:30.202Z"
   },
   {
    "duration": 89,
    "start_time": "2025-02-15T18:42:46.618Z"
   },
   {
    "duration": 84,
    "start_time": "2025-02-15T18:42:48.614Z"
   },
   {
    "duration": 904,
    "start_time": "2025-02-15T18:42:51.515Z"
   },
   {
    "duration": 132,
    "start_time": "2025-02-15T18:43:08.434Z"
   },
   {
    "duration": 20,
    "start_time": "2025-02-15T18:43:19.838Z"
   },
   {
    "duration": 84,
    "start_time": "2025-02-15T19:06:32.176Z"
   },
   {
    "duration": 7,
    "start_time": "2025-02-15T19:06:46.364Z"
   },
   {
    "duration": 4,
    "start_time": "2025-02-15T19:07:23.014Z"
   },
   {
    "duration": 3,
    "start_time": "2025-02-15T19:08:14.522Z"
   },
   {
    "duration": 3,
    "start_time": "2025-02-15T19:08:44.278Z"
   },
   {
    "duration": 4,
    "start_time": "2025-02-15T19:08:44.780Z"
   },
   {
    "duration": 4,
    "start_time": "2025-02-15T19:12:43.480Z"
   },
   {
    "duration": 5,
    "start_time": "2025-02-15T19:12:45.178Z"
   },
   {
    "duration": 4,
    "start_time": "2025-02-15T19:13:37.644Z"
   },
   {
    "duration": 4,
    "start_time": "2025-02-15T19:13:38.206Z"
   },
   {
    "duration": 4,
    "start_time": "2025-02-15T19:13:44.234Z"
   },
   {
    "duration": 4,
    "start_time": "2025-02-15T19:14:42.628Z"
   },
   {
    "duration": 5,
    "start_time": "2025-02-15T19:14:45.413Z"
   },
   {
    "duration": 806,
    "start_time": "2025-02-15T19:14:59.101Z"
   },
   {
    "duration": 143,
    "start_time": "2025-02-15T19:14:59.909Z"
   },
   {
    "duration": 43,
    "start_time": "2025-02-15T19:15:00.053Z"
   },
   {
    "duration": 29,
    "start_time": "2025-02-15T19:15:00.098Z"
   },
   {
    "duration": 4,
    "start_time": "2025-02-15T19:15:03.442Z"
   },
   {
    "duration": 4,
    "start_time": "2025-02-15T19:16:49.065Z"
   },
   {
    "duration": 4,
    "start_time": "2025-02-15T19:16:50.104Z"
   },
   {
    "duration": 4,
    "start_time": "2025-02-15T19:17:02.632Z"
   },
   {
    "duration": 4,
    "start_time": "2025-02-15T19:17:03.006Z"
   },
   {
    "duration": 824,
    "start_time": "2025-02-15T19:17:06.575Z"
   },
   {
    "duration": 142,
    "start_time": "2025-02-15T19:17:07.400Z"
   },
   {
    "duration": 14,
    "start_time": "2025-02-15T19:17:07.544Z"
   },
   {
    "duration": 4,
    "start_time": "2025-02-15T19:17:07.656Z"
   },
   {
    "duration": 3,
    "start_time": "2025-02-15T19:17:08.240Z"
   },
   {
    "duration": 4,
    "start_time": "2025-02-15T19:21:40.795Z"
   },
   {
    "duration": 3,
    "start_time": "2025-02-15T19:21:41.034Z"
   },
   {
    "duration": 814,
    "start_time": "2025-02-15T19:21:46.534Z"
   },
   {
    "duration": 144,
    "start_time": "2025-02-15T19:21:47.349Z"
   },
   {
    "duration": 13,
    "start_time": "2025-02-15T19:21:47.494Z"
   },
   {
    "duration": 6,
    "start_time": "2025-02-15T19:21:47.509Z"
   },
   {
    "duration": 4,
    "start_time": "2025-02-15T19:21:50.584Z"
   },
   {
    "duration": 14,
    "start_time": "2025-02-15T19:25:02.414Z"
   },
   {
    "duration": 4,
    "start_time": "2025-02-15T19:25:02.916Z"
   },
   {
    "duration": 4,
    "start_time": "2025-02-15T19:25:04.357Z"
   },
   {
    "duration": 858,
    "start_time": "2025-02-15T19:25:09.140Z"
   },
   {
    "duration": 149,
    "start_time": "2025-02-15T19:25:10.000Z"
   },
   {
    "duration": 14,
    "start_time": "2025-02-15T19:25:10.150Z"
   },
   {
    "duration": 5,
    "start_time": "2025-02-15T19:25:10.175Z"
   },
   {
    "duration": 7,
    "start_time": "2025-02-15T19:25:10.181Z"
   },
   {
    "duration": 316,
    "start_time": "2025-02-15T19:25:25.091Z"
   },
   {
    "duration": 4,
    "start_time": "2025-02-15T19:25:30.690Z"
   },
   {
    "duration": 5,
    "start_time": "2025-02-15T19:25:31.436Z"
   },
   {
    "duration": 5,
    "start_time": "2025-02-15T19:27:54.686Z"
   },
   {
    "duration": 5,
    "start_time": "2025-02-15T19:28:07.949Z"
   },
   {
    "duration": 4,
    "start_time": "2025-02-15T19:28:13.344Z"
   },
   {
    "duration": 3,
    "start_time": "2025-02-15T19:30:25.576Z"
   },
   {
    "duration": 881,
    "start_time": "2025-02-15T19:30:29.544Z"
   },
   {
    "duration": 153,
    "start_time": "2025-02-15T19:30:30.427Z"
   },
   {
    "duration": 56,
    "start_time": "2025-02-15T19:30:30.582Z"
   },
   {
    "duration": 5,
    "start_time": "2025-02-15T19:30:30.639Z"
   },
   {
    "duration": 5,
    "start_time": "2025-02-15T19:30:31.168Z"
   },
   {
    "duration": 4,
    "start_time": "2025-02-15T19:33:56.943Z"
   },
   {
    "duration": 5,
    "start_time": "2025-02-15T19:34:03.821Z"
   },
   {
    "duration": 4,
    "start_time": "2025-02-15T19:34:04.730Z"
   },
   {
    "duration": 4,
    "start_time": "2025-02-15T19:36:41.170Z"
   },
   {
    "duration": 4,
    "start_time": "2025-02-15T19:36:41.889Z"
   },
   {
    "duration": 417,
    "start_time": "2025-02-15T19:37:07.672Z"
   },
   {
    "duration": 805,
    "start_time": "2025-02-15T19:37:08.091Z"
   },
   {
    "duration": 139,
    "start_time": "2025-02-15T19:37:08.897Z"
   },
   {
    "duration": 19,
    "start_time": "2025-02-15T19:37:09.038Z"
   },
   {
    "duration": 19,
    "start_time": "2025-02-15T19:37:09.058Z"
   },
   {
    "duration": 140,
    "start_time": "2025-02-15T19:38:13.006Z"
   },
   {
    "duration": 142,
    "start_time": "2025-02-15T19:38:30.864Z"
   },
   {
    "duration": 18,
    "start_time": "2025-02-15T19:41:45.215Z"
   },
   {
    "duration": 70,
    "start_time": "2025-02-15T19:41:51.171Z"
   },
   {
    "duration": 19,
    "start_time": "2025-02-15T19:41:53.111Z"
   },
   {
    "duration": 18,
    "start_time": "2025-02-15T19:42:04.815Z"
   },
   {
    "duration": 457,
    "start_time": "2025-02-16T09:22:00.057Z"
   },
   {
    "duration": 1033,
    "start_time": "2025-02-16T09:22:00.516Z"
   },
   {
    "duration": 171,
    "start_time": "2025-02-16T09:22:01.551Z"
   },
   {
    "duration": 23,
    "start_time": "2025-02-16T09:22:01.724Z"
   },
   {
    "duration": 55,
    "start_time": "2025-02-16T09:22:01.749Z"
   },
   {
    "duration": 9,
    "start_time": "2025-02-16T09:22:01.806Z"
   },
   {
    "duration": 164,
    "start_time": "2025-02-16T09:22:01.817Z"
   },
   {
    "duration": 21,
    "start_time": "2025-02-16T09:22:01.982Z"
   },
   {
    "duration": 90,
    "start_time": "2025-02-16T09:23:18.828Z"
   },
   {
    "duration": 78,
    "start_time": "2025-02-16T09:23:26.220Z"
   },
   {
    "duration": 1370,
    "start_time": "2025-02-16T09:23:38.815Z"
   },
   {
    "duration": 165,
    "start_time": "2025-02-16T09:23:51.739Z"
   },
   {
    "duration": 163,
    "start_time": "2025-02-16T09:24:26.140Z"
   },
   {
    "duration": 3,
    "start_time": "2025-02-16T09:24:41.524Z"
   },
   {
    "duration": 163,
    "start_time": "2025-02-16T09:25:00.576Z"
   },
   {
    "duration": 11,
    "start_time": "2025-02-16T09:29:55.580Z"
   },
   {
    "duration": 8,
    "start_time": "2025-02-16T09:29:59.306Z"
   },
   {
    "duration": 1750,
    "start_time": "2025-02-16T09:30:19.829Z"
   },
   {
    "duration": 843,
    "start_time": "2025-02-16T09:31:01.774Z"
   },
   {
    "duration": 818,
    "start_time": "2025-02-16T09:32:04.617Z"
   },
   {
    "duration": 183,
    "start_time": "2025-02-16T09:32:17.481Z"
   },
   {
    "duration": 75,
    "start_time": "2025-02-16T09:32:24.901Z"
   },
   {
    "duration": 79,
    "start_time": "2025-02-16T09:32:27.308Z"
   },
   {
    "duration": 80,
    "start_time": "2025-02-16T09:32:38.358Z"
   },
   {
    "duration": 179,
    "start_time": "2025-02-16T09:32:41.396Z"
   },
   {
    "duration": 183,
    "start_time": "2025-02-16T09:35:53.556Z"
   },
   {
    "duration": 862,
    "start_time": "2025-02-16T09:38:00.024Z"
   },
   {
    "duration": 17,
    "start_time": "2025-02-16T09:43:30.632Z"
   },
   {
    "duration": 100,
    "start_time": "2025-02-16T09:43:51.351Z"
   },
   {
    "duration": 140,
    "start_time": "2025-02-16T09:43:54.396Z"
   },
   {
    "duration": 209,
    "start_time": "2025-02-16T09:43:59.041Z"
   },
   {
    "duration": 20,
    "start_time": "2025-02-16T09:53:21.002Z"
   },
   {
    "duration": 220,
    "start_time": "2025-02-16T09:53:25.552Z"
   },
   {
    "duration": 139,
    "start_time": "2025-02-16T09:54:13.130Z"
   },
   {
    "duration": 186,
    "start_time": "2025-02-16T09:54:16.646Z"
   },
   {
    "duration": 8,
    "start_time": "2025-02-16T09:57:40.876Z"
   },
   {
    "duration": 92,
    "start_time": "2025-02-16T09:57:59.506Z"
   },
   {
    "duration": 7,
    "start_time": "2025-02-16T09:58:53.062Z"
   },
   {
    "duration": 4,
    "start_time": "2025-02-16T10:00:04.808Z"
   },
   {
    "duration": 11,
    "start_time": "2025-02-16T10:00:06.108Z"
   },
   {
    "duration": 467,
    "start_time": "2025-02-16T10:00:21.657Z"
   },
   {
    "duration": 6,
    "start_time": "2025-02-16T10:00:29.476Z"
   },
   {
    "duration": 72,
    "start_time": "2025-02-16T10:00:29.796Z"
   },
   {
    "duration": 7,
    "start_time": "2025-02-16T10:00:30.268Z"
   },
   {
    "duration": 4,
    "start_time": "2025-02-16T10:00:30.806Z"
   },
   {
    "duration": 1551,
    "start_time": "2025-02-16T10:00:31.402Z"
   },
   {
    "duration": 5,
    "start_time": "2025-02-16T10:01:04.663Z"
   },
   {
    "duration": 4,
    "start_time": "2025-02-16T10:01:17.634Z"
   },
   {
    "duration": 18,
    "start_time": "2025-02-16T10:01:18.146Z"
   },
   {
    "duration": 10,
    "start_time": "2025-02-16T10:01:18.492Z"
   },
   {
    "duration": 22,
    "start_time": "2025-02-16T10:01:29.621Z"
   },
   {
    "duration": 8,
    "start_time": "2025-02-16T10:01:34.562Z"
   },
   {
    "duration": 6448,
    "start_time": "2025-02-16T10:01:37.149Z"
   },
   {
    "duration": 3,
    "start_time": "2025-02-16T10:12:59.424Z"
   },
   {
    "duration": 923,
    "start_time": "2025-02-16T10:12:59.512Z"
   },
   {
    "duration": 4,
    "start_time": "2025-02-16T10:13:20.552Z"
   },
   {
    "duration": 3,
    "start_time": "2025-02-16T10:13:20.981Z"
   },
   {
    "duration": 842,
    "start_time": "2025-02-16T10:13:22.064Z"
   },
   {
    "duration": 5,
    "start_time": "2025-02-16T10:13:34.704Z"
   },
   {
    "duration": 3,
    "start_time": "2025-02-16T10:13:35.073Z"
   },
   {
    "duration": 845,
    "start_time": "2025-02-16T10:13:35.305Z"
   },
   {
    "duration": 34,
    "start_time": "2025-02-16T10:16:20.306Z"
   },
   {
    "duration": 12,
    "start_time": "2025-02-16T10:19:33.412Z"
   },
   {
    "duration": 11,
    "start_time": "2025-02-16T10:19:51.803Z"
   },
   {
    "duration": 10,
    "start_time": "2025-02-16T10:21:04.056Z"
   },
   {
    "duration": 26,
    "start_time": "2025-02-16T10:21:09.130Z"
   },
   {
    "duration": 9,
    "start_time": "2025-02-16T10:21:30.018Z"
   },
   {
    "duration": 74,
    "start_time": "2025-02-16T10:21:33.171Z"
   },
   {
    "duration": 15,
    "start_time": "2025-02-16T10:22:10.903Z"
   },
   {
    "duration": 56,
    "start_time": "2025-02-16T10:22:11.274Z"
   },
   {
    "duration": 720,
    "start_time": "2025-02-16T10:22:48.808Z"
   },
   {
    "duration": 997,
    "start_time": "2025-02-16T10:22:49.530Z"
   },
   {
    "duration": 167,
    "start_time": "2025-02-16T10:22:50.529Z"
   },
   {
    "duration": 22,
    "start_time": "2025-02-16T10:22:50.698Z"
   },
   {
    "duration": 881,
    "start_time": "2025-02-16T10:22:50.722Z"
   },
   {
    "duration": 6,
    "start_time": "2025-02-16T10:22:51.605Z"
   },
   {
    "duration": 23,
    "start_time": "2025-02-16T10:22:51.612Z"
   },
   {
    "duration": 45,
    "start_time": "2025-02-16T10:22:51.637Z"
   },
   {
    "duration": 112,
    "start_time": "2025-02-16T10:22:51.684Z"
   },
   {
    "duration": 121,
    "start_time": "2025-02-16T10:22:51.799Z"
   },
   {
    "duration": 198,
    "start_time": "2025-02-16T10:22:51.922Z"
   },
   {
    "duration": 19,
    "start_time": "2025-02-16T10:22:52.122Z"
   },
   {
    "duration": 159,
    "start_time": "2025-02-16T10:22:52.143Z"
   },
   {
    "duration": 6,
    "start_time": "2025-02-16T10:22:52.304Z"
   },
   {
    "duration": 138,
    "start_time": "2025-02-16T10:22:52.312Z"
   },
   {
    "duration": 7,
    "start_time": "2025-02-16T10:22:52.452Z"
   },
   {
    "duration": 11,
    "start_time": "2025-02-16T10:22:52.461Z"
   },
   {
    "duration": 1441,
    "start_time": "2025-02-16T10:22:52.474Z"
   },
   {
    "duration": 35,
    "start_time": "2025-02-16T10:22:53.917Z"
   },
   {
    "duration": 54,
    "start_time": "2025-02-16T10:22:53.954Z"
   },
   {
    "duration": 79,
    "start_time": "2025-02-16T10:22:59.853Z"
   },
   {
    "duration": 19,
    "start_time": "2025-02-16T10:25:21.410Z"
   },
   {
    "duration": 23,
    "start_time": "2025-02-16T10:25:21.622Z"
   },
   {
    "duration": 78,
    "start_time": "2025-02-16T10:25:21.829Z"
   },
   {
    "duration": 726,
    "start_time": "2025-02-16T10:25:29.339Z"
   },
   {
    "duration": 1073,
    "start_time": "2025-02-16T10:25:30.067Z"
   },
   {
    "duration": 200,
    "start_time": "2025-02-16T10:25:31.142Z"
   },
   {
    "duration": 31,
    "start_time": "2025-02-16T10:25:31.344Z"
   },
   {
    "duration": 849,
    "start_time": "2025-02-16T10:25:31.378Z"
   },
   {
    "duration": 6,
    "start_time": "2025-02-16T10:25:32.228Z"
   },
   {
    "duration": 39,
    "start_time": "2025-02-16T10:25:32.236Z"
   },
   {
    "duration": 25,
    "start_time": "2025-02-16T10:25:32.277Z"
   },
   {
    "duration": 113,
    "start_time": "2025-02-16T10:25:32.304Z"
   },
   {
    "duration": 125,
    "start_time": "2025-02-16T10:25:32.418Z"
   },
   {
    "duration": 203,
    "start_time": "2025-02-16T10:25:32.545Z"
   },
   {
    "duration": 28,
    "start_time": "2025-02-16T10:25:32.750Z"
   },
   {
    "duration": 151,
    "start_time": "2025-02-16T10:25:32.781Z"
   },
   {
    "duration": 6,
    "start_time": "2025-02-16T10:25:32.935Z"
   },
   {
    "duration": 117,
    "start_time": "2025-02-16T10:25:32.943Z"
   },
   {
    "duration": 11,
    "start_time": "2025-02-16T10:25:33.062Z"
   },
   {
    "duration": 5,
    "start_time": "2025-02-16T10:25:33.075Z"
   },
   {
    "duration": 1472,
    "start_time": "2025-02-16T10:25:33.081Z"
   },
   {
    "duration": 47,
    "start_time": "2025-02-16T10:25:34.555Z"
   },
   {
    "duration": 35,
    "start_time": "2025-02-16T10:25:34.603Z"
   },
   {
    "duration": 104,
    "start_time": "2025-02-16T10:25:39.162Z"
   },
   {
    "duration": 34,
    "start_time": "2025-02-16T10:28:13.725Z"
   },
   {
    "duration": 127,
    "start_time": "2025-02-16T10:28:13.882Z"
   },
   {
    "duration": 78,
    "start_time": "2025-02-16T10:29:27.846Z"
   },
   {
    "duration": 77,
    "start_time": "2025-02-16T10:29:34.964Z"
   },
   {
    "duration": 9,
    "start_time": "2025-02-16T10:29:52.838Z"
   },
   {
    "duration": 9,
    "start_time": "2025-02-16T10:30:06.905Z"
   },
   {
    "duration": 46,
    "start_time": "2025-02-16T10:30:40.520Z"
   },
   {
    "duration": 41,
    "start_time": "2025-02-16T10:30:44.340Z"
   },
   {
    "duration": 520,
    "start_time": "2025-02-16T10:30:47.032Z"
   },
   {
    "duration": 164,
    "start_time": "2025-02-16T10:30:56.505Z"
   },
   {
    "duration": 12,
    "start_time": "2025-02-16T10:31:21.369Z"
   },
   {
    "duration": 221,
    "start_time": "2025-02-16T10:31:27.669Z"
   },
   {
    "duration": 165,
    "start_time": "2025-02-16T10:31:33.852Z"
   },
   {
    "duration": 153,
    "start_time": "2025-02-16T10:31:46.737Z"
   },
   {
    "duration": 172,
    "start_time": "2025-02-16T10:32:32.133Z"
   },
   {
    "duration": 1098,
    "start_time": "2025-02-16T10:33:01.331Z"
   },
   {
    "duration": 10,
    "start_time": "2025-02-16T10:33:07.208Z"
   },
   {
    "duration": 182,
    "start_time": "2025-02-16T10:33:26.072Z"
   },
   {
    "duration": 38,
    "start_time": "2025-02-16T10:34:31.113Z"
   },
   {
    "duration": 63,
    "start_time": "2025-02-16T10:36:31.381Z"
   },
   {
    "duration": 89,
    "start_time": "2025-02-16T10:38:07.413Z"
   },
   {
    "duration": 1566,
    "start_time": "2025-02-16T10:38:22.315Z"
   },
   {
    "duration": 74,
    "start_time": "2025-02-16T10:39:49.576Z"
   },
   {
    "duration": 7,
    "start_time": "2025-02-16T10:44:04.277Z"
   },
   {
    "duration": 24,
    "start_time": "2025-02-16T10:44:11.796Z"
   },
   {
    "duration": 22,
    "start_time": "2025-02-16T10:44:30.617Z"
   },
   {
    "duration": 22,
    "start_time": "2025-02-16T10:44:56.921Z"
   },
   {
    "duration": 18,
    "start_time": "2025-02-16T10:54:13.205Z"
   },
   {
    "duration": 1395,
    "start_time": "2025-02-16T10:54:17.238Z"
   },
   {
    "duration": 27,
    "start_time": "2025-02-16T10:54:24.517Z"
   },
   {
    "duration": 27,
    "start_time": "2025-02-16T10:54:36.953Z"
   },
   {
    "duration": 705,
    "start_time": "2025-02-16T10:54:54.720Z"
   },
   {
    "duration": 1011,
    "start_time": "2025-02-16T10:54:55.427Z"
   },
   {
    "duration": 163,
    "start_time": "2025-02-16T10:54:56.440Z"
   },
   {
    "duration": 20,
    "start_time": "2025-02-16T10:54:56.605Z"
   },
   {
    "duration": 903,
    "start_time": "2025-02-16T10:54:56.628Z"
   },
   {
    "duration": 6,
    "start_time": "2025-02-16T10:54:57.532Z"
   },
   {
    "duration": 11,
    "start_time": "2025-02-16T10:54:57.540Z"
   },
   {
    "duration": 37,
    "start_time": "2025-02-16T10:54:57.553Z"
   },
   {
    "duration": 113,
    "start_time": "2025-02-16T10:54:57.592Z"
   },
   {
    "duration": 159,
    "start_time": "2025-02-16T10:54:57.707Z"
   },
   {
    "duration": 220,
    "start_time": "2025-02-16T10:54:57.872Z"
   },
   {
    "duration": 27,
    "start_time": "2025-02-16T10:54:58.094Z"
   },
   {
    "duration": 166,
    "start_time": "2025-02-16T10:54:58.123Z"
   },
   {
    "duration": 5,
    "start_time": "2025-02-16T10:54:58.292Z"
   },
   {
    "duration": 132,
    "start_time": "2025-02-16T10:54:58.299Z"
   },
   {
    "duration": 6,
    "start_time": "2025-02-16T10:54:58.433Z"
   },
   {
    "duration": 5,
    "start_time": "2025-02-16T10:54:58.441Z"
   },
   {
    "duration": 1505,
    "start_time": "2025-02-16T10:54:58.448Z"
   },
   {
    "duration": 42,
    "start_time": "2025-02-16T10:54:59.955Z"
   },
   {
    "duration": 34,
    "start_time": "2025-02-16T10:54:59.999Z"
   },
   {
    "duration": 46,
    "start_time": "2025-02-16T10:55:00.035Z"
   },
   {
    "duration": 745,
    "start_time": "2025-02-16T10:55:20.293Z"
   },
   {
    "duration": 1014,
    "start_time": "2025-02-16T10:55:21.041Z"
   },
   {
    "duration": 159,
    "start_time": "2025-02-16T10:55:22.057Z"
   },
   {
    "duration": 22,
    "start_time": "2025-02-16T10:55:22.218Z"
   },
   {
    "duration": 871,
    "start_time": "2025-02-16T10:55:22.243Z"
   },
   {
    "duration": 7,
    "start_time": "2025-02-16T10:55:23.116Z"
   },
   {
    "duration": 19,
    "start_time": "2025-02-16T10:55:23.125Z"
   },
   {
    "duration": 44,
    "start_time": "2025-02-16T10:55:23.147Z"
   },
   {
    "duration": 133,
    "start_time": "2025-02-16T10:55:23.194Z"
   },
   {
    "duration": 151,
    "start_time": "2025-02-16T10:55:23.329Z"
   },
   {
    "duration": 197,
    "start_time": "2025-02-16T10:55:23.482Z"
   },
   {
    "duration": 19,
    "start_time": "2025-02-16T10:55:23.681Z"
   },
   {
    "duration": 156,
    "start_time": "2025-02-16T10:55:23.702Z"
   },
   {
    "duration": 5,
    "start_time": "2025-02-16T10:55:23.861Z"
   },
   {
    "duration": 121,
    "start_time": "2025-02-16T10:55:23.872Z"
   },
   {
    "duration": 7,
    "start_time": "2025-02-16T10:55:23.995Z"
   },
   {
    "duration": 4,
    "start_time": "2025-02-16T10:55:24.003Z"
   },
   {
    "duration": 1463,
    "start_time": "2025-02-16T10:55:24.009Z"
   },
   {
    "duration": 34,
    "start_time": "2025-02-16T10:55:25.473Z"
   },
   {
    "duration": 51,
    "start_time": "2025-02-16T10:55:25.509Z"
   },
   {
    "duration": 4,
    "start_time": "2025-02-16T11:03:31.467Z"
   },
   {
    "duration": 100,
    "start_time": "2025-02-16T11:03:37.873Z"
   },
   {
    "duration": 3,
    "start_time": "2025-02-16T11:03:47.613Z"
   },
   {
    "duration": 13,
    "start_time": "2025-02-16T11:03:58.493Z"
   },
   {
    "duration": 19,
    "start_time": "2025-02-16T11:04:16.239Z"
   },
   {
    "duration": 11,
    "start_time": "2025-02-16T11:05:13.138Z"
   },
   {
    "duration": 12,
    "start_time": "2025-02-16T11:05:29.033Z"
   },
   {
    "duration": 12,
    "start_time": "2025-02-16T11:05:33.429Z"
   },
   {
    "duration": 11,
    "start_time": "2025-02-16T11:05:58.579Z"
   },
   {
    "duration": 11,
    "start_time": "2025-02-16T11:06:01.994Z"
   },
   {
    "duration": 10,
    "start_time": "2025-02-16T11:06:09.508Z"
   },
   {
    "duration": 10,
    "start_time": "2025-02-16T11:06:55.156Z"
   },
   {
    "duration": 103,
    "start_time": "2025-02-16T11:07:20.196Z"
   },
   {
    "duration": 130,
    "start_time": "2025-02-16T11:07:43.674Z"
   },
   {
    "duration": 10,
    "start_time": "2025-02-16T11:10:45.191Z"
   },
   {
    "duration": 12,
    "start_time": "2025-02-16T11:14:12.008Z"
   },
   {
    "duration": 72,
    "start_time": "2025-02-16T11:16:46.041Z"
   },
   {
    "duration": 67,
    "start_time": "2025-02-16T11:17:01.685Z"
   },
   {
    "duration": 120,
    "start_time": "2025-02-16T11:17:25.268Z"
   },
   {
    "duration": 80,
    "start_time": "2025-02-16T11:18:06.172Z"
   },
   {
    "duration": 216,
    "start_time": "2025-02-16T11:19:37.955Z"
   },
   {
    "duration": 393,
    "start_time": "2025-02-16T11:19:54.671Z"
   },
   {
    "duration": 336,
    "start_time": "2025-02-16T11:21:26.796Z"
   },
   {
    "duration": 791,
    "start_time": "2025-02-16T11:21:48.875Z"
   },
   {
    "duration": 1024,
    "start_time": "2025-02-16T11:21:49.668Z"
   },
   {
    "duration": 178,
    "start_time": "2025-02-16T11:21:50.694Z"
   },
   {
    "duration": 23,
    "start_time": "2025-02-16T11:21:50.874Z"
   },
   {
    "duration": 915,
    "start_time": "2025-02-16T11:21:50.900Z"
   },
   {
    "duration": 6,
    "start_time": "2025-02-16T11:21:51.817Z"
   },
   {
    "duration": 21,
    "start_time": "2025-02-16T11:21:51.825Z"
   },
   {
    "duration": 34,
    "start_time": "2025-02-16T11:21:51.848Z"
   },
   {
    "duration": 110,
    "start_time": "2025-02-16T11:21:51.883Z"
   },
   {
    "duration": 139,
    "start_time": "2025-02-16T11:21:51.995Z"
   },
   {
    "duration": 200,
    "start_time": "2025-02-16T11:21:52.136Z"
   },
   {
    "duration": 19,
    "start_time": "2025-02-16T11:21:52.338Z"
   },
   {
    "duration": 186,
    "start_time": "2025-02-16T11:21:52.359Z"
   },
   {
    "duration": 6,
    "start_time": "2025-02-16T11:21:52.548Z"
   },
   {
    "duration": 117,
    "start_time": "2025-02-16T11:21:52.556Z"
   },
   {
    "duration": 7,
    "start_time": "2025-02-16T11:21:52.674Z"
   },
   {
    "duration": 22,
    "start_time": "2025-02-16T11:21:52.684Z"
   },
   {
    "duration": 1441,
    "start_time": "2025-02-16T11:21:52.708Z"
   },
   {
    "duration": 43,
    "start_time": "2025-02-16T11:21:54.150Z"
   },
   {
    "duration": 34,
    "start_time": "2025-02-16T11:21:54.195Z"
   },
   {
    "duration": 12,
    "start_time": "2025-02-16T11:22:00.119Z"
   },
   {
    "duration": 10,
    "start_time": "2025-02-16T11:22:19.696Z"
   },
   {
    "duration": 5,
    "start_time": "2025-02-16T11:22:26.345Z"
   },
   {
    "duration": 439,
    "start_time": "2025-02-16T11:22:55.390Z"
   },
   {
    "duration": 8,
    "start_time": "2025-02-16T11:23:12.989Z"
   },
   {
    "duration": 10,
    "start_time": "2025-02-16T11:23:33.468Z"
   },
   {
    "duration": 20,
    "start_time": "2025-02-16T11:23:36.426Z"
   },
   {
    "duration": 1572,
    "start_time": "2025-02-16T11:23:56.748Z"
   },
   {
    "duration": 7,
    "start_time": "2025-02-16T11:24:19.367Z"
   },
   {
    "duration": 21,
    "start_time": "2025-02-16T11:24:25.465Z"
   },
   {
    "duration": 7,
    "start_time": "2025-02-16T11:25:37.451Z"
   },
   {
    "duration": 1379,
    "start_time": "2025-02-16T11:25:42.071Z"
   },
   {
    "duration": 10,
    "start_time": "2025-02-16T11:25:46.706Z"
   },
   {
    "duration": 21,
    "start_time": "2025-02-16T11:26:46.662Z"
   },
   {
    "duration": 27,
    "start_time": "2025-02-16T11:27:09.371Z"
   },
   {
    "duration": 185,
    "start_time": "2025-02-16T13:23:52.646Z"
   },
   {
    "duration": 173,
    "start_time": "2025-02-16T13:23:55.568Z"
   },
   {
    "duration": 206,
    "start_time": "2025-02-16T13:24:05.973Z"
   },
   {
    "duration": 215,
    "start_time": "2025-02-16T13:24:11.298Z"
   },
   {
    "duration": 95,
    "start_time": "2025-02-16T13:24:17.496Z"
   },
   {
    "duration": 29,
    "start_time": "2025-02-16T13:24:34.155Z"
   },
   {
    "duration": 16,
    "start_time": "2025-02-16T13:32:02.663Z"
   },
   {
    "duration": 843,
    "start_time": "2025-02-16T13:33:57.191Z"
   },
   {
    "duration": 117,
    "start_time": "2025-02-16T13:34:08.552Z"
   },
   {
    "duration": 126,
    "start_time": "2025-02-16T13:35:12.675Z"
   },
   {
    "duration": 8,
    "start_time": "2025-02-16T13:36:15.302Z"
   },
   {
    "duration": 1557,
    "start_time": "2025-02-16T13:36:19.518Z"
   },
   {
    "duration": 8,
    "start_time": "2025-02-16T13:37:15.296Z"
   },
   {
    "duration": 19,
    "start_time": "2025-02-16T13:37:16.890Z"
   },
   {
    "duration": 1366,
    "start_time": "2025-02-16T13:37:17.154Z"
   },
   {
    "duration": 116,
    "start_time": "2025-02-16T13:40:17.859Z"
   },
   {
    "duration": 1306,
    "start_time": "2025-02-16T13:40:26.876Z"
   },
   {
    "duration": 25,
    "start_time": "2025-02-16T13:42:21.253Z"
   },
   {
    "duration": 12,
    "start_time": "2025-02-16T13:43:04.658Z"
   },
   {
    "duration": 20,
    "start_time": "2025-02-16T13:43:21.992Z"
   },
   {
    "duration": 19,
    "start_time": "2025-02-16T13:48:20.979Z"
   },
   {
    "duration": 1562,
    "start_time": "2025-02-16T13:48:30.303Z"
   },
   {
    "duration": 2657,
    "start_time": "2025-02-16T13:49:12.302Z"
   },
   {
    "duration": 23390,
    "start_time": "2025-02-16T13:49:43.784Z"
   },
   {
    "duration": 10,
    "start_time": "2025-02-16T13:50:17.867Z"
   },
   {
    "duration": 12,
    "start_time": "2025-02-16T13:50:21.877Z"
   },
   {
    "duration": 5,
    "start_time": "2025-02-16T13:50:26.362Z"
   },
   {
    "duration": 5,
    "start_time": "2025-02-16T13:58:31.085Z"
   },
   {
    "duration": 2616,
    "start_time": "2025-02-16T13:59:07.760Z"
   },
   {
    "duration": 27794,
    "start_time": "2025-02-16T13:59:10.378Z"
   },
   {
    "duration": 9,
    "start_time": "2025-02-16T14:09:03.620Z"
   },
   {
    "duration": 4024,
    "start_time": "2025-02-16T14:09:11.690Z"
   },
   {
    "duration": 131,
    "start_time": "2025-02-16T14:09:26.880Z"
   },
   {
    "duration": 17,
    "start_time": "2025-02-16T14:09:27.818Z"
   },
   {
    "duration": 8,
    "start_time": "2025-02-16T14:09:50.816Z"
   },
   {
    "duration": 40238,
    "start_time": "2025-02-16T14:09:51.419Z"
   },
   {
    "duration": 0,
    "start_time": "2025-02-16T14:10:31.659Z"
   },
   {
    "duration": 5,
    "start_time": "2025-02-16T14:19:27.492Z"
   },
   {
    "duration": 68467,
    "start_time": "2025-02-16T14:19:29.014Z"
   },
   {
    "duration": 1331,
    "start_time": "2025-02-16T14:22:37.058Z"
   },
   {
    "duration": 84,
    "start_time": "2025-02-16T14:25:35.355Z"
   },
   {
    "duration": 23,
    "start_time": "2025-02-16T14:25:39.688Z"
   },
   {
    "duration": 1492,
    "start_time": "2025-02-16T14:26:20.179Z"
   },
   {
    "duration": 973,
    "start_time": "2025-02-16T14:26:21.674Z"
   },
   {
    "duration": 179,
    "start_time": "2025-02-16T14:26:22.649Z"
   },
   {
    "duration": 28,
    "start_time": "2025-02-16T14:26:22.830Z"
   },
   {
    "duration": 944,
    "start_time": "2025-02-16T14:26:22.873Z"
   },
   {
    "duration": 5,
    "start_time": "2025-02-16T14:26:23.818Z"
   },
   {
    "duration": 48,
    "start_time": "2025-02-16T14:26:23.825Z"
   },
   {
    "duration": 34,
    "start_time": "2025-02-16T14:26:23.875Z"
   },
   {
    "duration": 110,
    "start_time": "2025-02-16T14:26:23.911Z"
   },
   {
    "duration": 113,
    "start_time": "2025-02-16T14:26:24.023Z"
   },
   {
    "duration": 192,
    "start_time": "2025-02-16T14:26:24.137Z"
   },
   {
    "duration": 22,
    "start_time": "2025-02-16T14:26:24.330Z"
   },
   {
    "duration": 159,
    "start_time": "2025-02-16T14:26:24.354Z"
   },
   {
    "duration": 6,
    "start_time": "2025-02-16T14:26:24.516Z"
   },
   {
    "duration": 179,
    "start_time": "2025-02-16T14:26:24.523Z"
   },
   {
    "duration": 6,
    "start_time": "2025-02-16T14:26:24.704Z"
   },
   {
    "duration": 5,
    "start_time": "2025-02-16T14:26:24.712Z"
   },
   {
    "duration": 1463,
    "start_time": "2025-02-16T14:26:24.718Z"
   },
   {
    "duration": 36,
    "start_time": "2025-02-16T14:26:26.184Z"
   },
   {
    "duration": 57,
    "start_time": "2025-02-16T14:26:26.222Z"
   },
   {
    "duration": 10,
    "start_time": "2025-02-16T14:26:26.281Z"
   },
   {
    "duration": 18,
    "start_time": "2025-02-16T14:26:26.293Z"
   },
   {
    "duration": 126,
    "start_time": "2025-02-16T14:26:26.313Z"
   },
   {
    "duration": 0,
    "start_time": "2025-02-16T14:26:26.441Z"
   },
   {
    "duration": 0,
    "start_time": "2025-02-16T14:26:26.442Z"
   },
   {
    "duration": 0,
    "start_time": "2025-02-16T14:26:26.444Z"
   },
   {
    "duration": 0,
    "start_time": "2025-02-16T14:26:26.444Z"
   },
   {
    "duration": 0,
    "start_time": "2025-02-16T14:26:26.446Z"
   },
   {
    "duration": 0,
    "start_time": "2025-02-16T14:26:26.447Z"
   },
   {
    "duration": 0,
    "start_time": "2025-02-16T14:26:26.448Z"
   },
   {
    "duration": 0,
    "start_time": "2025-02-16T14:26:26.449Z"
   },
   {
    "duration": 0,
    "start_time": "2025-02-16T14:26:26.450Z"
   },
   {
    "duration": 0,
    "start_time": "2025-02-16T14:26:26.452Z"
   },
   {
    "duration": 0,
    "start_time": "2025-02-16T14:26:26.472Z"
   },
   {
    "duration": 0,
    "start_time": "2025-02-16T14:26:26.473Z"
   },
   {
    "duration": 0,
    "start_time": "2025-02-16T14:26:26.474Z"
   },
   {
    "duration": 1544,
    "start_time": "2025-02-16T14:26:37.907Z"
   },
   {
    "duration": 105,
    "start_time": "2025-02-16T14:26:39.923Z"
   },
   {
    "duration": 5,
    "start_time": "2025-02-16T14:26:40.127Z"
   },
   {
    "duration": 3,
    "start_time": "2025-02-16T14:26:40.299Z"
   },
   {
    "duration": 900,
    "start_time": "2025-02-16T14:26:40.943Z"
   },
   {
    "duration": 190,
    "start_time": "2025-02-16T14:26:41.846Z"
   },
   {
    "duration": 190,
    "start_time": "2025-02-16T14:26:42.038Z"
   },
   {
    "duration": 96,
    "start_time": "2025-02-16T14:26:42.230Z"
   },
   {
    "duration": 2732,
    "start_time": "2025-02-16T14:26:42.328Z"
   },
   {
    "duration": 41,
    "start_time": "2025-02-16T14:26:45.063Z"
   },
   {
    "duration": 7,
    "start_time": "2025-02-16T14:26:46.449Z"
   },
   {
    "duration": 1435,
    "start_time": "2025-02-16T14:29:05.007Z"
   },
   {
    "duration": 1022,
    "start_time": "2025-02-16T14:29:06.444Z"
   },
   {
    "duration": 178,
    "start_time": "2025-02-16T14:29:07.468Z"
   },
   {
    "duration": 31,
    "start_time": "2025-02-16T14:29:07.648Z"
   },
   {
    "duration": 915,
    "start_time": "2025-02-16T14:29:07.682Z"
   },
   {
    "duration": 6,
    "start_time": "2025-02-16T14:29:08.599Z"
   },
   {
    "duration": 8,
    "start_time": "2025-02-16T14:29:08.606Z"
   },
   {
    "duration": 31,
    "start_time": "2025-02-16T14:29:08.616Z"
   },
   {
    "duration": 126,
    "start_time": "2025-02-16T14:29:08.648Z"
   },
   {
    "duration": 118,
    "start_time": "2025-02-16T14:29:08.776Z"
   },
   {
    "duration": 217,
    "start_time": "2025-02-16T14:29:08.896Z"
   },
   {
    "duration": 31,
    "start_time": "2025-02-16T14:29:09.116Z"
   },
   {
    "duration": 161,
    "start_time": "2025-02-16T14:29:09.149Z"
   },
   {
    "duration": 5,
    "start_time": "2025-02-16T14:29:09.314Z"
   },
   {
    "duration": 150,
    "start_time": "2025-02-16T14:29:09.322Z"
   },
   {
    "duration": 7,
    "start_time": "2025-02-16T14:29:09.474Z"
   },
   {
    "duration": 4,
    "start_time": "2025-02-16T14:29:09.483Z"
   },
   {
    "duration": 1495,
    "start_time": "2025-02-16T14:29:09.488Z"
   },
   {
    "duration": 37,
    "start_time": "2025-02-16T14:29:10.985Z"
   },
   {
    "duration": 52,
    "start_time": "2025-02-16T14:29:11.023Z"
   },
   {
    "duration": 10,
    "start_time": "2025-02-16T14:29:11.077Z"
   },
   {
    "duration": 9,
    "start_time": "2025-02-16T14:29:11.089Z"
   },
   {
    "duration": 1529,
    "start_time": "2025-02-16T14:29:11.100Z"
   },
   {
    "duration": 117,
    "start_time": "2025-02-16T14:29:12.631Z"
   },
   {
    "duration": 5,
    "start_time": "2025-02-16T14:29:12.749Z"
   },
   {
    "duration": 21,
    "start_time": "2025-02-16T14:29:12.755Z"
   },
   {
    "duration": 886,
    "start_time": "2025-02-16T14:29:12.778Z"
   },
   {
    "duration": 190,
    "start_time": "2025-02-16T14:29:13.666Z"
   },
   {
    "duration": 189,
    "start_time": "2025-02-16T14:29:13.858Z"
   },
   {
    "duration": 98,
    "start_time": "2025-02-16T14:29:14.048Z"
   },
   {
    "duration": 2744,
    "start_time": "2025-02-16T14:29:14.148Z"
   },
   {
    "duration": 38,
    "start_time": "2025-02-16T14:29:16.894Z"
   },
   {
    "duration": 8,
    "start_time": "2025-02-16T14:29:16.934Z"
   },
   {
    "duration": 0,
    "start_time": "2025-02-16T14:29:45.333Z"
   },
   {
    "duration": 0,
    "start_time": "2025-02-16T14:29:45.334Z"
   },
   {
    "duration": 28,
    "start_time": "2025-02-16T14:29:46.824Z"
   },
   {
    "duration": 364,
    "start_time": "2025-02-16T14:29:47.410Z"
   },
   {
    "duration": 6,
    "start_time": "2025-02-16T14:29:56.760Z"
   },
   {
    "duration": 72021,
    "start_time": "2025-02-16T14:29:57.398Z"
   },
   {
    "duration": 1406,
    "start_time": "2025-02-16T14:31:33.296Z"
   },
   {
    "duration": 88,
    "start_time": "2025-02-16T14:32:44.127Z"
   },
   {
    "duration": 11,
    "start_time": "2025-02-16T14:32:45.069Z"
   },
   {
    "duration": 16,
    "start_time": "2025-02-16T14:33:04.855Z"
   },
   {
    "duration": 20,
    "start_time": "2025-02-16T14:33:10.230Z"
   },
   {
    "duration": 7,
    "start_time": "2025-02-16T14:33:19.152Z"
   },
   {
    "duration": 5,
    "start_time": "2025-02-16T14:33:19.815Z"
   },
   {
    "duration": 18,
    "start_time": "2025-02-16T14:33:23.303Z"
   },
   {
    "duration": 113,
    "start_time": "2025-02-16T14:33:25.336Z"
   },
   {
    "duration": 1768,
    "start_time": "2025-02-16T14:33:25.767Z"
   },
   {
    "duration": 4077,
    "start_time": "2025-02-16T14:33:27.537Z"
   },
   {
    "duration": 31368,
    "start_time": "2025-02-16T14:33:31.617Z"
   },
   {
    "duration": 5,
    "start_time": "2025-02-16T14:34:31.757Z"
   },
   {
    "duration": 15,
    "start_time": "2025-02-16T14:34:48.171Z"
   },
   {
    "duration": 8,
    "start_time": "2025-02-16T14:34:57.420Z"
   },
   {
    "duration": 4,
    "start_time": "2025-02-16T14:34:57.617Z"
   },
   {
    "duration": 18,
    "start_time": "2025-02-16T14:34:57.827Z"
   },
   {
    "duration": 124,
    "start_time": "2025-02-16T14:34:58.048Z"
   },
   {
    "duration": 1498,
    "start_time": "2025-02-16T14:34:58.527Z"
   },
   {
    "duration": 1853,
    "start_time": "2025-02-16T14:35:29.755Z"
   },
   {
    "duration": 4076,
    "start_time": "2025-02-16T14:35:31.610Z"
   },
   {
    "duration": 29090,
    "start_time": "2025-02-16T14:35:35.688Z"
   },
   {
    "duration": 11,
    "start_time": "2025-02-16T14:43:26.975Z"
   },
   {
    "duration": 10,
    "start_time": "2025-02-16T14:43:39.614Z"
   },
   {
    "duration": 4,
    "start_time": "2025-02-16T14:43:44.044Z"
   },
   {
    "duration": 15,
    "start_time": "2025-02-16T14:43:49.924Z"
   },
   {
    "duration": 1640,
    "start_time": "2025-02-16T14:44:00.733Z"
   },
   {
    "duration": 1077,
    "start_time": "2025-02-16T14:44:02.375Z"
   },
   {
    "duration": 184,
    "start_time": "2025-02-16T14:44:03.454Z"
   },
   {
    "duration": 21,
    "start_time": "2025-02-16T14:44:03.640Z"
   },
   {
    "duration": 925,
    "start_time": "2025-02-16T14:44:03.673Z"
   },
   {
    "duration": 6,
    "start_time": "2025-02-16T14:44:04.600Z"
   },
   {
    "duration": 17,
    "start_time": "2025-02-16T14:44:04.608Z"
   },
   {
    "duration": 46,
    "start_time": "2025-02-16T14:44:04.627Z"
   },
   {
    "duration": 116,
    "start_time": "2025-02-16T14:44:04.676Z"
   },
   {
    "duration": 117,
    "start_time": "2025-02-16T14:44:04.794Z"
   },
   {
    "duration": 241,
    "start_time": "2025-02-16T14:44:04.913Z"
   },
   {
    "duration": 30,
    "start_time": "2025-02-16T14:44:05.156Z"
   },
   {
    "duration": 162,
    "start_time": "2025-02-16T14:44:05.189Z"
   },
   {
    "duration": 6,
    "start_time": "2025-02-16T14:44:05.354Z"
   },
   {
    "duration": 156,
    "start_time": "2025-02-16T14:44:05.362Z"
   },
   {
    "duration": 10,
    "start_time": "2025-02-16T14:44:05.520Z"
   },
   {
    "duration": 9,
    "start_time": "2025-02-16T14:44:05.533Z"
   },
   {
    "duration": 1468,
    "start_time": "2025-02-16T14:44:05.544Z"
   },
   {
    "duration": 36,
    "start_time": "2025-02-16T14:44:07.014Z"
   },
   {
    "duration": 48,
    "start_time": "2025-02-16T14:44:07.052Z"
   },
   {
    "duration": 10,
    "start_time": "2025-02-16T14:44:07.102Z"
   },
   {
    "duration": 12,
    "start_time": "2025-02-16T14:44:07.114Z"
   },
   {
    "duration": 1537,
    "start_time": "2025-02-16T14:44:07.128Z"
   },
   {
    "duration": 119,
    "start_time": "2025-02-16T14:44:08.667Z"
   },
   {
    "duration": 5,
    "start_time": "2025-02-16T14:44:08.789Z"
   },
   {
    "duration": 5,
    "start_time": "2025-02-16T14:44:08.796Z"
   },
   {
    "duration": 952,
    "start_time": "2025-02-16T14:44:08.803Z"
   },
   {
    "duration": 182,
    "start_time": "2025-02-16T14:44:09.757Z"
   },
   {
    "duration": 197,
    "start_time": "2025-02-16T14:44:09.941Z"
   },
   {
    "duration": 99,
    "start_time": "2025-02-16T14:44:10.140Z"
   },
   {
    "duration": 2926,
    "start_time": "2025-02-16T14:44:10.241Z"
   },
   {
    "duration": 38,
    "start_time": "2025-02-16T14:44:13.170Z"
   },
   {
    "duration": 8,
    "start_time": "2025-02-16T14:44:13.210Z"
   },
   {
    "duration": 1317,
    "start_time": "2025-02-16T14:45:25.860Z"
   },
   {
    "duration": 97,
    "start_time": "2025-02-16T14:45:27.179Z"
   },
   {
    "duration": 21,
    "start_time": "2025-02-16T14:45:27.278Z"
   },
   {
    "duration": 8,
    "start_time": "2025-02-16T14:45:27.301Z"
   },
   {
    "duration": 10,
    "start_time": "2025-02-16T14:45:27.311Z"
   },
   {
    "duration": 31,
    "start_time": "2025-02-16T14:45:27.323Z"
   },
   {
    "duration": 131,
    "start_time": "2025-02-16T14:45:27.371Z"
   },
   {
    "duration": 74906,
    "start_time": "2025-02-16T14:46:43.137Z"
   },
   {
    "duration": 157,
    "start_time": "2025-02-16T14:48:18.019Z"
   },
   {
    "duration": 29,
    "start_time": "2025-02-16T14:48:25.239Z"
   },
   {
    "duration": 335,
    "start_time": "2025-02-16T14:48:37.515Z"
   },
   {
    "duration": 119,
    "start_time": "2025-02-16T14:48:45.546Z"
   },
   {
    "duration": 638,
    "start_time": "2025-02-16T14:48:55.467Z"
   },
   {
    "duration": 622,
    "start_time": "2025-02-16T14:49:03.935Z"
   },
   {
    "duration": 12,
    "start_time": "2025-02-16T14:50:40.668Z"
   },
   {
    "duration": 22,
    "start_time": "2025-02-16T14:50:52.179Z"
   },
   {
    "duration": 215,
    "start_time": "2025-02-16T14:50:54.368Z"
   },
   {
    "duration": 140,
    "start_time": "2025-02-16T14:51:33.478Z"
   },
   {
    "duration": 1511,
    "start_time": "2025-02-16T14:52:14.641Z"
   },
   {
    "duration": 1029,
    "start_time": "2025-02-16T14:52:16.155Z"
   },
   {
    "duration": 164,
    "start_time": "2025-02-16T14:52:17.186Z"
   },
   {
    "duration": 34,
    "start_time": "2025-02-16T14:52:17.351Z"
   },
   {
    "duration": 904,
    "start_time": "2025-02-16T14:52:17.388Z"
   },
   {
    "duration": 7,
    "start_time": "2025-02-16T14:52:18.294Z"
   },
   {
    "duration": 6,
    "start_time": "2025-02-16T14:52:18.303Z"
   },
   {
    "duration": 31,
    "start_time": "2025-02-16T14:52:18.312Z"
   },
   {
    "duration": 139,
    "start_time": "2025-02-16T14:52:18.345Z"
   },
   {
    "duration": 121,
    "start_time": "2025-02-16T14:52:18.486Z"
   },
   {
    "duration": 203,
    "start_time": "2025-02-16T14:52:18.610Z"
   },
   {
    "duration": 21,
    "start_time": "2025-02-16T14:52:18.816Z"
   },
   {
    "duration": 172,
    "start_time": "2025-02-16T14:52:18.839Z"
   },
   {
    "duration": 8,
    "start_time": "2025-02-16T14:52:19.017Z"
   },
   {
    "duration": 147,
    "start_time": "2025-02-16T14:52:19.028Z"
   },
   {
    "duration": 8,
    "start_time": "2025-02-16T14:52:19.177Z"
   },
   {
    "duration": 4,
    "start_time": "2025-02-16T14:52:19.188Z"
   },
   {
    "duration": 1573,
    "start_time": "2025-02-16T14:52:19.194Z"
   },
   {
    "duration": 38,
    "start_time": "2025-02-16T14:52:20.772Z"
   },
   {
    "duration": 38,
    "start_time": "2025-02-16T14:52:20.811Z"
   },
   {
    "duration": 28,
    "start_time": "2025-02-16T14:52:20.851Z"
   },
   {
    "duration": 39,
    "start_time": "2025-02-16T14:52:20.881Z"
   },
   {
    "duration": 1492,
    "start_time": "2025-02-16T14:52:20.921Z"
   },
   {
    "duration": 111,
    "start_time": "2025-02-16T14:52:22.414Z"
   },
   {
    "duration": 4,
    "start_time": "2025-02-16T14:52:22.527Z"
   },
   {
    "duration": 10,
    "start_time": "2025-02-16T14:52:22.533Z"
   },
   {
    "duration": 840,
    "start_time": "2025-02-16T14:52:22.545Z"
   },
   {
    "duration": 188,
    "start_time": "2025-02-16T14:52:23.386Z"
   },
   {
    "duration": 187,
    "start_time": "2025-02-16T14:52:23.576Z"
   },
   {
    "duration": 91,
    "start_time": "2025-02-16T14:52:23.764Z"
   },
   {
    "duration": 2789,
    "start_time": "2025-02-16T14:52:23.858Z"
   },
   {
    "duration": 39,
    "start_time": "2025-02-16T14:52:26.650Z"
   },
   {
    "duration": 93,
    "start_time": "2025-02-16T14:52:36.333Z"
   },
   {
    "duration": 31,
    "start_time": "2025-02-16T14:52:36.740Z"
   },
   {
    "duration": 10,
    "start_time": "2025-02-16T14:52:38.079Z"
   },
   {
    "duration": 5,
    "start_time": "2025-02-16T14:52:38.271Z"
   },
   {
    "duration": 29,
    "start_time": "2025-02-16T14:52:38.519Z"
   },
   {
    "duration": 164,
    "start_time": "2025-02-16T14:52:38.940Z"
   },
   {
    "duration": 638,
    "start_time": "2025-02-16T14:52:41.582Z"
   },
   {
    "duration": 23,
    "start_time": "2025-02-16T14:52:48.625Z"
   },
   {
    "duration": 270,
    "start_time": "2025-02-16T14:52:49.302Z"
   },
   {
    "duration": 5,
    "start_time": "2025-02-16T14:52:52.657Z"
   },
   {
    "duration": 24,
    "start_time": "2025-02-16T14:54:04.927Z"
   },
   {
    "duration": 3,
    "start_time": "2025-02-16T14:54:24.904Z"
   },
   {
    "duration": 125,
    "start_time": "2025-02-16T14:55:55.599Z"
   },
   {
    "duration": 3,
    "start_time": "2025-02-16T14:56:13.207Z"
   },
   {
    "duration": 24,
    "start_time": "2025-02-16T14:56:13.904Z"
   },
   {
    "duration": 16,
    "start_time": "2025-02-16T14:59:43.116Z"
   },
   {
    "duration": 1554,
    "start_time": "2025-02-16T15:00:46.588Z"
   },
   {
    "duration": 11,
    "start_time": "2025-02-16T15:01:04.374Z"
   },
   {
    "duration": 5,
    "start_time": "2025-02-16T15:01:20.432Z"
   },
   {
    "duration": 34980,
    "start_time": "2025-02-16T15:02:10.512Z"
   },
   {
    "duration": 5,
    "start_time": "2025-02-16T15:03:01.840Z"
   },
   {
    "duration": 1824,
    "start_time": "2025-02-16T15:06:12.385Z"
   },
   {
    "duration": 30,
    "start_time": "2025-02-16T15:08:35.800Z"
   },
   {
    "duration": 1066890,
    "start_time": "2025-02-16T15:12:36.284Z"
   },
   {
    "duration": 86,
    "start_time": "2025-02-16T15:37:38.901Z"
   },
   {
    "duration": 99,
    "start_time": "2025-02-16T15:37:50.642Z"
   },
   {
    "duration": 22,
    "start_time": "2025-02-16T15:38:18.978Z"
   },
   {
    "duration": 110261,
    "start_time": "2025-02-16T15:38:49.235Z"
   },
   {
    "duration": 10590,
    "start_time": "2025-02-16T15:42:12.008Z"
   },
   {
    "duration": 42839,
    "start_time": "2025-02-16T15:48:21.549Z"
   },
   {
    "duration": 193071,
    "start_time": "2025-02-16T15:49:06.631Z"
   },
   {
    "duration": 1180905,
    "start_time": "2025-02-16T15:53:09.797Z"
   },
   {
    "duration": 15,
    "start_time": "2025-02-16T16:13:13.719Z"
   },
   {
    "duration": 85877,
    "start_time": "2025-02-16T16:13:20.107Z"
   },
   {
    "duration": 1547184,
    "start_time": "2025-02-16T16:14:48.205Z"
   },
   {
    "duration": 14,
    "start_time": "2025-02-16T16:41:19.031Z"
   },
   {
    "duration": 4,
    "start_time": "2025-02-16T16:41:21.380Z"
   },
   {
    "duration": 4,
    "start_time": "2025-02-16T17:23:03.448Z"
   },
   {
    "duration": 66,
    "start_time": "2025-02-16T17:27:56.084Z"
   },
   {
    "duration": 99,
    "start_time": "2025-02-16T17:28:21.127Z"
   },
   {
    "duration": 3,
    "start_time": "2025-02-16T17:28:37.846Z"
   },
   {
    "duration": 410,
    "start_time": "2025-02-16T17:28:38.948Z"
   },
   {
    "duration": 92,
    "start_time": "2025-02-16T17:28:44.465Z"
   },
   {
    "duration": 129,
    "start_time": "2025-02-16T17:28:50.498Z"
   },
   {
    "duration": 129,
    "start_time": "2025-02-16T17:28:55.714Z"
   },
   {
    "duration": 14,
    "start_time": "2025-02-16T17:29:00.964Z"
   },
   {
    "duration": 60778,
    "start_time": "2025-02-16T17:31:24.918Z"
   },
   {
    "duration": 13301,
    "start_time": "2025-02-16T17:32:52.443Z"
   },
   {
    "duration": 11,
    "start_time": "2025-02-16T17:35:14.318Z"
   },
   {
    "duration": 15,
    "start_time": "2025-02-16T17:35:19.352Z"
   },
   {
    "duration": 3,
    "start_time": "2025-02-16T17:35:47.906Z"
   },
   {
    "duration": 3,
    "start_time": "2025-02-16T17:36:05.877Z"
   },
   {
    "duration": 3,
    "start_time": "2025-02-16T17:36:08.140Z"
   },
   {
    "duration": 16,
    "start_time": "2025-02-16T17:36:11.610Z"
   },
   {
    "duration": 8,
    "start_time": "2025-02-16T17:36:36.001Z"
   },
   {
    "duration": 7,
    "start_time": "2025-02-16T17:38:24.143Z"
   },
   {
    "duration": 2742,
    "start_time": "2025-02-16T17:45:43.677Z"
   },
   {
    "duration": 2120,
    "start_time": "2025-02-16T17:45:48.443Z"
   },
   {
    "duration": 1037,
    "start_time": "2025-02-16T17:46:08.180Z"
   },
   {
    "duration": 3,
    "start_time": "2025-02-16T17:50:09.416Z"
   },
   {
    "duration": 6,
    "start_time": "2025-02-16T17:50:13.869Z"
   },
   {
    "duration": 1011,
    "start_time": "2025-02-16T17:50:21.708Z"
   },
   {
    "duration": 160,
    "start_time": "2025-02-16T17:50:24.290Z"
   },
   {
    "duration": 6,
    "start_time": "2025-02-16T17:50:58.488Z"
   },
   {
    "duration": 155,
    "start_time": "2025-02-16T17:51:41.830Z"
   },
   {
    "duration": 199,
    "start_time": "2025-02-16T17:57:54.406Z"
   },
   {
    "duration": 19,
    "start_time": "2025-02-16T17:57:57.315Z"
   },
   {
    "duration": 124,
    "start_time": "2025-02-16T17:57:58.917Z"
   },
   {
    "duration": 5,
    "start_time": "2025-02-16T17:58:17.320Z"
   },
   {
    "duration": 56,
    "start_time": "2025-02-16T17:59:00.278Z"
   },
   {
    "duration": 2701,
    "start_time": "2025-02-16T17:59:08.260Z"
   },
   {
    "duration": 1596,
    "start_time": "2025-02-16T17:59:10.964Z"
   },
   {
    "duration": 963,
    "start_time": "2025-02-16T17:59:12.562Z"
   },
   {
    "duration": 169,
    "start_time": "2025-02-16T17:59:13.527Z"
   },
   {
    "duration": 3,
    "start_time": "2025-02-16T17:59:13.698Z"
   },
   {
    "duration": 19,
    "start_time": "2025-02-16T17:59:13.703Z"
   },
   {
    "duration": 5,
    "start_time": "2025-02-16T17:59:13.724Z"
   },
   {
    "duration": 189,
    "start_time": "2025-02-16T17:59:13.730Z"
   },
   {
    "duration": 191,
    "start_time": "2025-02-16T17:59:13.921Z"
   },
   {
    "duration": 25,
    "start_time": "2025-02-16T17:59:14.113Z"
   },
   {
    "duration": 122,
    "start_time": "2025-02-16T17:59:14.140Z"
   },
   {
    "duration": 10,
    "start_time": "2025-02-16T17:59:14.263Z"
   },
   {
    "duration": 52,
    "start_time": "2025-02-16T18:00:37.184Z"
   },
   {
    "duration": 2686,
    "start_time": "2025-02-16T18:00:41.140Z"
   },
   {
    "duration": 1595,
    "start_time": "2025-02-16T18:00:43.829Z"
   },
   {
    "duration": 1091,
    "start_time": "2025-02-16T18:00:45.426Z"
   },
   {
    "duration": 165,
    "start_time": "2025-02-16T18:00:46.519Z"
   },
   {
    "duration": 9,
    "start_time": "2025-02-16T18:00:46.686Z"
   },
   {
    "duration": 27,
    "start_time": "2025-02-16T18:00:46.696Z"
   },
   {
    "duration": 5,
    "start_time": "2025-02-16T18:00:46.724Z"
   },
   {
    "duration": 185,
    "start_time": "2025-02-16T18:00:46.731Z"
   },
   {
    "duration": 195,
    "start_time": "2025-02-16T18:00:46.918Z"
   },
   {
    "duration": 20,
    "start_time": "2025-02-16T18:00:47.115Z"
   },
   {
    "duration": 125,
    "start_time": "2025-02-16T18:00:47.137Z"
   },
   {
    "duration": 22,
    "start_time": "2025-02-16T18:00:54.163Z"
   },
   {
    "duration": 5,
    "start_time": "2025-02-16T18:00:55.768Z"
   },
   {
    "duration": 2610,
    "start_time": "2025-02-16T18:02:09.512Z"
   },
   {
    "duration": 1479,
    "start_time": "2025-02-16T18:02:12.124Z"
   },
   {
    "duration": 1014,
    "start_time": "2025-02-16T18:02:13.605Z"
   },
   {
    "duration": 174,
    "start_time": "2025-02-16T18:02:14.620Z"
   },
   {
    "duration": 2,
    "start_time": "2025-02-16T18:02:14.796Z"
   },
   {
    "duration": 20,
    "start_time": "2025-02-16T18:02:14.800Z"
   },
   {
    "duration": 5,
    "start_time": "2025-02-16T18:02:14.821Z"
   },
   {
    "duration": 187,
    "start_time": "2025-02-16T18:02:14.827Z"
   },
   {
    "duration": 197,
    "start_time": "2025-02-16T18:02:15.016Z"
   },
   {
    "duration": 26,
    "start_time": "2025-02-16T18:02:15.215Z"
   },
   {
    "duration": 117,
    "start_time": "2025-02-16T18:02:15.243Z"
   },
   {
    "duration": 31,
    "start_time": "2025-02-16T18:02:15.361Z"
   },
   {
    "duration": 5,
    "start_time": "2025-02-16T18:02:21.687Z"
   },
   {
    "duration": 4,
    "start_time": "2025-02-16T18:02:22.302Z"
   },
   {
    "duration": 31891,
    "start_time": "2025-02-16T18:02:27.414Z"
   },
   {
    "duration": 4,
    "start_time": "2025-02-16T18:03:02.626Z"
   },
   {
    "duration": 4,
    "start_time": "2025-02-16T18:03:03.085Z"
   },
   {
    "duration": 5,
    "start_time": "2025-02-16T18:03:07.042Z"
   },
   {
    "duration": 3,
    "start_time": "2025-02-16T18:03:07.403Z"
   },
   {
    "duration": 5,
    "start_time": "2025-02-16T18:03:11.993Z"
   },
   {
    "duration": 4,
    "start_time": "2025-02-16T18:03:12.237Z"
   },
   {
    "duration": 2694,
    "start_time": "2025-02-16T18:03:15.440Z"
   },
   {
    "duration": 4,
    "start_time": "2025-02-16T18:03:18.137Z"
   },
   {
    "duration": 969,
    "start_time": "2025-02-16T18:03:18.143Z"
   },
   {
    "duration": 164,
    "start_time": "2025-02-16T18:03:19.113Z"
   },
   {
    "duration": 3,
    "start_time": "2025-02-16T18:03:19.279Z"
   },
   {
    "duration": 28,
    "start_time": "2025-02-16T18:03:19.283Z"
   },
   {
    "duration": 6,
    "start_time": "2025-02-16T18:03:19.312Z"
   },
   {
    "duration": 172,
    "start_time": "2025-02-16T18:03:19.320Z"
   },
   {
    "duration": 193,
    "start_time": "2025-02-16T18:03:19.493Z"
   },
   {
    "duration": 18,
    "start_time": "2025-02-16T18:03:19.688Z"
   },
   {
    "duration": 116,
    "start_time": "2025-02-16T18:03:19.708Z"
   },
   {
    "duration": 16,
    "start_time": "2025-02-16T18:03:19.826Z"
   },
   {
    "duration": 4,
    "start_time": "2025-02-16T18:03:19.844Z"
   },
   {
    "duration": 4,
    "start_time": "2025-02-16T18:03:27.215Z"
   },
   {
    "duration": 2667,
    "start_time": "2025-02-16T18:03:33.583Z"
   },
   {
    "duration": 1553,
    "start_time": "2025-02-16T18:03:36.253Z"
   },
   {
    "duration": 1013,
    "start_time": "2025-02-16T18:03:37.810Z"
   },
   {
    "duration": 191,
    "start_time": "2025-02-16T18:03:38.826Z"
   },
   {
    "duration": 4,
    "start_time": "2025-02-16T18:03:39.020Z"
   },
   {
    "duration": 25,
    "start_time": "2025-02-16T18:03:39.025Z"
   },
   {
    "duration": 5,
    "start_time": "2025-02-16T18:03:39.073Z"
   },
   {
    "duration": 214,
    "start_time": "2025-02-16T18:03:39.079Z"
   },
   {
    "duration": 189,
    "start_time": "2025-02-16T18:03:39.294Z"
   },
   {
    "duration": 28,
    "start_time": "2025-02-16T18:03:39.484Z"
   },
   {
    "duration": 130,
    "start_time": "2025-02-16T18:03:39.513Z"
   },
   {
    "duration": 38,
    "start_time": "2025-02-16T18:03:39.645Z"
   },
   {
    "duration": 5,
    "start_time": "2025-02-16T18:03:39.686Z"
   },
   {
    "duration": 3,
    "start_time": "2025-02-16T18:03:44.396Z"
   },
   {
    "duration": 6,
    "start_time": "2025-02-16T18:04:22.779Z"
   },
   {
    "duration": 79626,
    "start_time": "2025-02-16T18:07:50.772Z"
   },
   {
    "duration": 0,
    "start_time": "2025-02-16T18:09:10.400Z"
   },
   {
    "duration": 128,
    "start_time": "2025-02-16T18:09:38.513Z"
   },
   {
    "duration": 13,
    "start_time": "2025-02-16T18:09:41.478Z"
   },
   {
    "duration": 122,
    "start_time": "2025-02-16T18:09:43.683Z"
   },
   {
    "duration": 18,
    "start_time": "2025-02-16T18:09:49.439Z"
   },
   {
    "duration": 363,
    "start_time": "2025-02-16T18:09:52.289Z"
   },
   {
    "duration": 5,
    "start_time": "2025-02-16T18:11:02.797Z"
   },
   {
    "duration": 124754,
    "start_time": "2025-02-16T18:11:03.863Z"
   },
   {
    "duration": 0,
    "start_time": "2025-02-16T18:13:08.619Z"
   },
   {
    "duration": 3,
    "start_time": "2025-02-16T18:13:10.553Z"
   },
   {
    "duration": 435,
    "start_time": "2025-02-16T18:13:11.101Z"
   },
   {
    "duration": 2697,
    "start_time": "2025-02-16T18:13:37.206Z"
   },
   {
    "duration": 1651,
    "start_time": "2025-02-16T18:13:39.907Z"
   },
   {
    "duration": 1016,
    "start_time": "2025-02-16T18:13:41.560Z"
   },
   {
    "duration": 180,
    "start_time": "2025-02-16T18:13:42.578Z"
   },
   {
    "duration": 3,
    "start_time": "2025-02-16T18:13:42.760Z"
   },
   {
    "duration": 34,
    "start_time": "2025-02-16T18:13:42.764Z"
   },
   {
    "duration": 5,
    "start_time": "2025-02-16T18:13:42.800Z"
   },
   {
    "duration": 178,
    "start_time": "2025-02-16T18:13:42.807Z"
   },
   {
    "duration": 202,
    "start_time": "2025-02-16T18:13:42.987Z"
   },
   {
    "duration": 3,
    "start_time": "2025-02-16T18:13:43.191Z"
   },
   {
    "duration": 31,
    "start_time": "2025-02-16T18:13:43.195Z"
   },
   {
    "duration": 127,
    "start_time": "2025-02-16T18:13:43.229Z"
   },
   {
    "duration": 34,
    "start_time": "2025-02-16T18:13:43.358Z"
   },
   {
    "duration": 4,
    "start_time": "2025-02-16T18:13:53.958Z"
   },
   {
    "duration": 586,
    "start_time": "2025-02-16T18:13:55.701Z"
   },
   {
    "duration": 66504,
    "start_time": "2025-02-16T18:14:26.775Z"
   },
   {
    "duration": 207,
    "start_time": "2025-02-16T18:16:19.955Z"
   },
   {
    "duration": 168932,
    "start_time": "2025-02-16T18:16:28.022Z"
   },
   {
    "duration": 2714,
    "start_time": "2025-02-16T18:19:29.152Z"
   },
   {
    "duration": 1539,
    "start_time": "2025-02-16T18:19:31.869Z"
   },
   {
    "duration": 1039,
    "start_time": "2025-02-16T18:19:33.410Z"
   },
   {
    "duration": 163,
    "start_time": "2025-02-16T18:19:34.451Z"
   },
   {
    "duration": 3,
    "start_time": "2025-02-16T18:19:34.617Z"
   },
   {
    "duration": 22,
    "start_time": "2025-02-16T18:19:34.621Z"
   },
   {
    "duration": 30,
    "start_time": "2025-02-16T18:19:34.645Z"
   },
   {
    "duration": 179,
    "start_time": "2025-02-16T18:19:34.677Z"
   },
   {
    "duration": 196,
    "start_time": "2025-02-16T18:19:34.858Z"
   },
   {
    "duration": 221,
    "start_time": "2025-02-16T18:19:35.056Z"
   },
   {
    "duration": 19,
    "start_time": "2025-02-16T18:19:35.279Z"
   },
   {
    "duration": 245,
    "start_time": "2025-02-16T18:19:35.300Z"
   },
   {
    "duration": 41,
    "start_time": "2025-02-16T18:19:35.547Z"
   },
   {
    "duration": 3,
    "start_time": "2025-02-16T18:19:35.590Z"
   },
   {
    "duration": 33118,
    "start_time": "2025-02-16T18:19:35.594Z"
   },
   {
    "duration": 23116,
    "start_time": "2025-02-16T18:20:13.028Z"
   },
   {
    "duration": 1278,
    "start_time": "2025-02-16T18:21:08.838Z"
   },
   {
    "duration": 6,
    "start_time": "2025-02-16T18:22:32.540Z"
   },
   {
    "duration": 748,
    "start_time": "2025-02-16T18:23:15.452Z"
   },
   {
    "duration": 7901,
    "start_time": "2025-02-16T18:23:46.309Z"
   },
   {
    "duration": 1137,
    "start_time": "2025-02-16T18:23:57.522Z"
   },
   {
    "duration": 6705,
    "start_time": "2025-02-16T18:24:13.761Z"
   },
   {
    "duration": 1205,
    "start_time": "2025-02-16T18:24:22.249Z"
   },
   {
    "duration": 24731,
    "start_time": "2025-02-16T18:24:33.735Z"
   },
   {
    "duration": 1173,
    "start_time": "2025-02-16T18:25:01.942Z"
   },
   {
    "duration": 25433,
    "start_time": "2025-02-16T18:26:27.386Z"
   },
   {
    "duration": 1174,
    "start_time": "2025-02-16T18:26:53.806Z"
   },
   {
    "duration": 25819,
    "start_time": "2025-02-16T18:27:08.979Z"
   },
   {
    "duration": 1128,
    "start_time": "2025-02-16T18:27:42.513Z"
   },
   {
    "duration": 2749,
    "start_time": "2025-02-16T18:30:19.678Z"
   },
   {
    "duration": 1561,
    "start_time": "2025-02-16T18:30:22.430Z"
   },
   {
    "duration": 1010,
    "start_time": "2025-02-16T18:30:23.993Z"
   },
   {
    "duration": 177,
    "start_time": "2025-02-16T18:30:25.006Z"
   },
   {
    "duration": 2,
    "start_time": "2025-02-16T18:30:25.185Z"
   },
   {
    "duration": 23,
    "start_time": "2025-02-16T18:30:25.189Z"
   },
   {
    "duration": 5,
    "start_time": "2025-02-16T18:30:25.214Z"
   },
   {
    "duration": 188,
    "start_time": "2025-02-16T18:30:25.221Z"
   },
   {
    "duration": 246,
    "start_time": "2025-02-16T18:30:25.411Z"
   },
   {
    "duration": 234,
    "start_time": "2025-02-16T18:30:25.660Z"
   },
   {
    "duration": 31,
    "start_time": "2025-02-16T18:30:25.896Z"
   },
   {
    "duration": 262,
    "start_time": "2025-02-16T18:30:25.929Z"
   },
   {
    "duration": 3,
    "start_time": "2025-02-16T18:30:26.192Z"
   },
   {
    "duration": 14016,
    "start_time": "2025-02-16T18:30:34.044Z"
   },
   {
    "duration": 25,
    "start_time": "2025-02-16T18:30:50.666Z"
   },
   {
    "duration": 24847,
    "start_time": "2025-02-16T18:30:52.563Z"
   },
   {
    "duration": 1276,
    "start_time": "2025-02-16T18:31:32.858Z"
   },
   {
    "duration": 25675,
    "start_time": "2025-02-16T18:32:13.440Z"
   },
   {
    "duration": 25519,
    "start_time": "2025-02-16T18:36:41.193Z"
   },
   {
    "duration": 24,
    "start_time": "2025-02-16T18:38:05.974Z"
   },
   {
    "duration": 6,
    "start_time": "2025-02-16T18:38:14.988Z"
   },
   {
    "duration": 7,
    "start_time": "2025-02-16T18:39:05.502Z"
   },
   {
    "duration": 3,
    "start_time": "2025-02-16T18:39:05.683Z"
   },
   {
    "duration": 1412,
    "start_time": "2025-02-16T18:39:07.325Z"
   },
   {
    "duration": 9,
    "start_time": "2025-02-16T18:40:54.970Z"
   },
   {
    "duration": 8,
    "start_time": "2025-02-16T18:41:00.878Z"
   },
   {
    "duration": 81,
    "start_time": "2025-02-16T18:41:24.498Z"
   },
   {
    "duration": 90,
    "start_time": "2025-02-16T18:41:35.746Z"
   },
   {
    "duration": 78,
    "start_time": "2025-02-16T18:41:42.411Z"
   },
   {
    "duration": 98,
    "start_time": "2025-02-16T18:41:44.255Z"
   },
   {
    "duration": 101,
    "start_time": "2025-02-16T18:42:00.850Z"
   },
   {
    "duration": 76,
    "start_time": "2025-02-16T18:42:06.398Z"
   },
   {
    "duration": 82,
    "start_time": "2025-02-16T18:42:40.427Z"
   },
   {
    "duration": 169,
    "start_time": "2025-02-16T18:42:49.475Z"
   },
   {
    "duration": 80,
    "start_time": "2025-02-16T18:43:20.889Z"
   },
   {
    "duration": 8,
    "start_time": "2025-02-16T18:43:43.770Z"
   },
   {
    "duration": 25,
    "start_time": "2025-02-16T18:44:03.111Z"
   },
   {
    "duration": 67,
    "start_time": "2025-02-16T18:45:09.065Z"
   },
   {
    "duration": 29,
    "start_time": "2025-02-16T18:48:45.093Z"
   },
   {
    "duration": 12,
    "start_time": "2025-02-16T18:50:59.984Z"
   },
   {
    "duration": 10,
    "start_time": "2025-02-16T18:51:00.422Z"
   },
   {
    "duration": 118,
    "start_time": "2025-02-16T18:51:34.310Z"
   },
   {
    "duration": 128,
    "start_time": "2025-02-16T18:51:41.262Z"
   },
   {
    "duration": 6,
    "start_time": "2025-02-16T18:51:56.962Z"
   },
   {
    "duration": 2671,
    "start_time": "2025-02-16T18:52:57.642Z"
   },
   {
    "duration": 1512,
    "start_time": "2025-02-16T18:53:00.316Z"
   },
   {
    "duration": 1030,
    "start_time": "2025-02-16T18:53:01.829Z"
   },
   {
    "duration": 179,
    "start_time": "2025-02-16T18:53:02.861Z"
   },
   {
    "duration": 3,
    "start_time": "2025-02-16T18:53:03.042Z"
   },
   {
    "duration": 59,
    "start_time": "2025-02-16T18:53:03.047Z"
   },
   {
    "duration": 10,
    "start_time": "2025-02-16T18:53:03.108Z"
   },
   {
    "duration": 202,
    "start_time": "2025-02-16T18:53:03.119Z"
   },
   {
    "duration": 195,
    "start_time": "2025-02-16T18:53:03.323Z"
   },
   {
    "duration": 225,
    "start_time": "2025-02-16T18:53:03.520Z"
   },
   {
    "duration": 32,
    "start_time": "2025-02-16T18:53:03.746Z"
   },
   {
    "duration": 245,
    "start_time": "2025-02-16T18:53:03.780Z"
   },
   {
    "duration": 31,
    "start_time": "2025-02-16T18:53:04.026Z"
   },
   {
    "duration": 26736,
    "start_time": "2025-02-16T18:53:04.073Z"
   },
   {
    "duration": 1257,
    "start_time": "2025-02-16T18:53:30.810Z"
   },
   {
    "duration": 2,
    "start_time": "2025-02-16T18:53:32.072Z"
   },
   {
    "duration": 6,
    "start_time": "2025-02-16T18:53:32.077Z"
   },
   {
    "duration": 18,
    "start_time": "2025-02-16T18:53:32.085Z"
   },
   {
    "duration": 23,
    "start_time": "2025-02-16T18:53:32.105Z"
   },
   {
    "duration": 8,
    "start_time": "2025-02-16T18:53:32.129Z"
   },
   {
    "duration": 1415,
    "start_time": "2025-02-16T18:53:32.139Z"
   },
   {
    "duration": 70,
    "start_time": "2025-02-16T18:53:33.557Z"
   },
   {
    "duration": 8,
    "start_time": "2025-02-16T18:53:33.629Z"
   },
   {
    "duration": 49,
    "start_time": "2025-02-16T18:53:33.639Z"
   },
   {
    "duration": 125,
    "start_time": "2025-02-16T18:53:33.690Z"
   },
   {
    "duration": 10,
    "start_time": "2025-02-16T18:53:33.817Z"
   },
   {
    "duration": 5,
    "start_time": "2025-02-16T18:53:36.345Z"
   },
   {
    "duration": 7,
    "start_time": "2025-02-16T18:53:36.569Z"
   },
   {
    "duration": 3,
    "start_time": "2025-02-16T18:53:36.773Z"
   },
   {
    "duration": 1363,
    "start_time": "2025-02-16T18:53:36.957Z"
   },
   {
    "duration": 67,
    "start_time": "2025-02-16T18:53:40.130Z"
   },
   {
    "duration": 5,
    "start_time": "2025-02-16T18:53:40.334Z"
   },
   {
    "duration": 25,
    "start_time": "2025-02-16T18:53:56.134Z"
   },
   {
    "duration": 42,
    "start_time": "2025-02-16T18:53:57.979Z"
   },
   {
    "duration": 11,
    "start_time": "2025-02-16T18:54:12.691Z"
   },
   {
    "duration": 13431,
    "start_time": "2025-02-16T18:54:18.425Z"
   },
   {
    "duration": 17,
    "start_time": "2025-02-16T18:55:01.040Z"
   },
   {
    "duration": 115,
    "start_time": "2025-02-16T18:55:10.980Z"
   },
   {
    "duration": 2663,
    "start_time": "2025-02-16T18:56:58.617Z"
   },
   {
    "duration": 1613,
    "start_time": "2025-02-16T18:57:01.283Z"
   },
   {
    "duration": 1044,
    "start_time": "2025-02-16T18:57:02.898Z"
   },
   {
    "duration": 169,
    "start_time": "2025-02-16T18:57:03.944Z"
   },
   {
    "duration": 3,
    "start_time": "2025-02-16T18:57:04.115Z"
   },
   {
    "duration": 20,
    "start_time": "2025-02-16T18:57:04.120Z"
   },
   {
    "duration": 30,
    "start_time": "2025-02-16T18:57:04.142Z"
   },
   {
    "duration": 171,
    "start_time": "2025-02-16T18:57:04.174Z"
   },
   {
    "duration": 200,
    "start_time": "2025-02-16T18:57:04.347Z"
   },
   {
    "duration": 226,
    "start_time": "2025-02-16T18:57:04.549Z"
   },
   {
    "duration": 19,
    "start_time": "2025-02-16T18:57:04.776Z"
   },
   {
    "duration": 244,
    "start_time": "2025-02-16T18:57:04.797Z"
   },
   {
    "duration": 41,
    "start_time": "2025-02-16T18:57:05.042Z"
   },
   {
    "duration": 27166,
    "start_time": "2025-02-16T18:57:05.086Z"
   },
   {
    "duration": 1329,
    "start_time": "2025-02-16T18:57:32.254Z"
   },
   {
    "duration": 3,
    "start_time": "2025-02-16T18:57:33.585Z"
   },
   {
    "duration": 25,
    "start_time": "2025-02-16T18:57:33.589Z"
   },
   {
    "duration": 13,
    "start_time": "2025-02-16T18:57:33.616Z"
   },
   {
    "duration": 10,
    "start_time": "2025-02-16T18:57:33.631Z"
   },
   {
    "duration": 14,
    "start_time": "2025-02-16T18:57:33.643Z"
   },
   {
    "duration": 1424,
    "start_time": "2025-02-16T18:57:33.671Z"
   },
   {
    "duration": 84,
    "start_time": "2025-02-16T18:57:35.097Z"
   },
   {
    "duration": 8,
    "start_time": "2025-02-16T18:57:35.183Z"
   },
   {
    "duration": 24,
    "start_time": "2025-02-16T18:57:35.194Z"
   },
   {
    "duration": 152,
    "start_time": "2025-02-16T18:57:35.220Z"
   },
   {
    "duration": 11,
    "start_time": "2025-02-16T18:57:35.374Z"
   },
   {
    "duration": 17,
    "start_time": "2025-02-16T18:57:35.387Z"
   },
   {
    "duration": 114,
    "start_time": "2025-02-16T18:58:35.302Z"
   },
   {
    "duration": 129,
    "start_time": "2025-02-16T18:59:18.629Z"
   },
   {
    "duration": 5,
    "start_time": "2025-02-16T18:59:19.670Z"
   },
   {
    "duration": 89,
    "start_time": "2025-02-16T19:05:10.812Z"
   },
   {
    "duration": 99,
    "start_time": "2025-02-16T19:05:20.496Z"
   },
   {
    "duration": 4,
    "start_time": "2025-02-16T19:05:31.431Z"
   },
   {
    "duration": 10,
    "start_time": "2025-02-16T19:11:13.637Z"
   },
   {
    "duration": 12,
    "start_time": "2025-02-16T19:11:14.218Z"
   },
   {
    "duration": 11,
    "start_time": "2025-02-16T19:11:17.016Z"
   },
   {
    "duration": 42,
    "start_time": "2025-02-16T19:13:29.314Z"
   },
   {
    "duration": 25,
    "start_time": "2025-02-16T19:13:31.746Z"
   },
   {
    "duration": 270,
    "start_time": "2025-02-16T19:13:33.445Z"
   },
   {
    "duration": 15,
    "start_time": "2025-02-16T19:13:35.562Z"
   },
   {
    "duration": 3,
    "start_time": "2025-02-16T19:15:43.376Z"
   },
   {
    "duration": 2,
    "start_time": "2025-02-16T19:15:44.134Z"
   },
   {
    "duration": 23916,
    "start_time": "2025-02-16T19:15:52.484Z"
   },
   {
    "duration": 4,
    "start_time": "2025-02-16T19:19:23.822Z"
   },
   {
    "duration": 4,
    "start_time": "2025-02-16T19:19:29.773Z"
   },
   {
    "duration": 4,
    "start_time": "2025-02-16T19:20:12.748Z"
   },
   {
    "duration": 4,
    "start_time": "2025-02-16T19:20:16.127Z"
   },
   {
    "duration": 4,
    "start_time": "2025-02-16T19:20:22.769Z"
   },
   {
    "duration": 3,
    "start_time": "2025-02-16T19:20:38.500Z"
   },
   {
    "duration": 3,
    "start_time": "2025-02-16T19:20:43.083Z"
   },
   {
    "duration": 23747,
    "start_time": "2025-02-16T19:21:31.012Z"
   },
   {
    "duration": 12,
    "start_time": "2025-02-16T19:21:54.761Z"
   },
   {
    "duration": 6,
    "start_time": "2025-02-16T19:21:54.775Z"
   },
   {
    "duration": 3,
    "start_time": "2025-02-16T19:21:54.784Z"
   },
   {
    "duration": 2,
    "start_time": "2025-02-16T19:24:27.475Z"
   },
   {
    "duration": 2,
    "start_time": "2025-02-16T19:24:42.266Z"
   },
   {
    "duration": 3,
    "start_time": "2025-02-16T19:25:51.005Z"
   },
   {
    "duration": 3,
    "start_time": "2025-02-16T19:25:52.793Z"
   },
   {
    "duration": 478071,
    "start_time": "2025-02-16T19:25:57.717Z"
   },
   {
    "duration": 4,
    "start_time": "2025-02-16T19:34:05.269Z"
   },
   {
    "duration": 124,
    "start_time": "2025-02-16T19:34:07.204Z"
   },
   {
    "duration": 12,
    "start_time": "2025-02-16T19:34:30.597Z"
   },
   {
    "duration": 9,
    "start_time": "2025-02-16T19:34:39.673Z"
   },
   {
    "duration": 4,
    "start_time": "2025-02-16T19:34:44.394Z"
   },
   {
    "duration": 3,
    "start_time": "2025-02-16T19:34:53.424Z"
   },
   {
    "duration": 5,
    "start_time": "2025-02-16T19:35:12.042Z"
   },
   {
    "duration": 4,
    "start_time": "2025-02-16T19:35:22.469Z"
   },
   {
    "duration": 76,
    "start_time": "2025-02-16T19:36:04.069Z"
   },
   {
    "duration": 272,
    "start_time": "2025-02-16T19:36:18.286Z"
   },
   {
    "duration": 15,
    "start_time": "2025-02-16T19:36:37.893Z"
   },
   {
    "duration": 55146,
    "start_time": "2025-02-16T19:37:05.529Z"
   },
   {
    "duration": 13119,
    "start_time": "2025-02-16T19:38:00.677Z"
   },
   {
    "duration": 8,
    "start_time": "2025-02-16T19:38:24.588Z"
   },
   {
    "duration": 11,
    "start_time": "2025-02-16T19:40:58.650Z"
   },
   {
    "duration": 5,
    "start_time": "2025-02-16T19:41:03.423Z"
   },
   {
    "duration": 13009,
    "start_time": "2025-02-16T19:41:52.390Z"
   },
   {
    "duration": 11,
    "start_time": "2025-02-16T19:45:24.506Z"
   },
   {
    "duration": 4,
    "start_time": "2025-02-16T19:45:24.696Z"
   },
   {
    "duration": 2685,
    "start_time": "2025-02-16T19:49:28.367Z"
   },
   {
    "duration": 1532,
    "start_time": "2025-02-16T19:49:31.055Z"
   },
   {
    "duration": 983,
    "start_time": "2025-02-16T19:49:32.589Z"
   },
   {
    "duration": 165,
    "start_time": "2025-02-16T19:49:33.574Z"
   },
   {
    "duration": 2,
    "start_time": "2025-02-16T19:49:33.741Z"
   },
   {
    "duration": 45,
    "start_time": "2025-02-16T19:49:33.745Z"
   },
   {
    "duration": 5,
    "start_time": "2025-02-16T19:49:33.791Z"
   },
   {
    "duration": 168,
    "start_time": "2025-02-16T19:49:33.798Z"
   },
   {
    "duration": 191,
    "start_time": "2025-02-16T19:49:33.973Z"
   },
   {
    "duration": 217,
    "start_time": "2025-02-16T19:49:34.174Z"
   },
   {
    "duration": 18,
    "start_time": "2025-02-16T19:49:34.392Z"
   },
   {
    "duration": 242,
    "start_time": "2025-02-16T19:49:34.411Z"
   },
   {
    "duration": 36,
    "start_time": "2025-02-16T19:49:34.654Z"
   },
   {
    "duration": 27006,
    "start_time": "2025-02-16T19:49:34.692Z"
   },
   {
    "duration": 1311,
    "start_time": "2025-02-16T19:50:01.699Z"
   },
   {
    "duration": 3,
    "start_time": "2025-02-16T19:50:03.012Z"
   },
   {
    "duration": 26,
    "start_time": "2025-02-16T19:50:03.016Z"
   },
   {
    "duration": 53,
    "start_time": "2025-02-16T19:50:03.044Z"
   },
   {
    "duration": 23,
    "start_time": "2025-02-16T19:50:03.098Z"
   },
   {
    "duration": 5,
    "start_time": "2025-02-16T19:50:03.123Z"
   },
   {
    "duration": 1413,
    "start_time": "2025-02-16T19:50:03.130Z"
   },
   {
    "duration": 79,
    "start_time": "2025-02-16T19:50:04.545Z"
   },
   {
    "duration": 8,
    "start_time": "2025-02-16T19:50:04.626Z"
   },
   {
    "duration": 41,
    "start_time": "2025-02-16T19:50:04.636Z"
   },
   {
    "duration": 125,
    "start_time": "2025-02-16T19:50:04.679Z"
   },
   {
    "duration": 11,
    "start_time": "2025-02-16T19:50:04.806Z"
   },
   {
    "duration": 15,
    "start_time": "2025-02-16T19:50:04.819Z"
   },
   {
    "duration": 128,
    "start_time": "2025-02-16T19:50:04.837Z"
   },
   {
    "duration": 137,
    "start_time": "2025-02-16T19:50:04.967Z"
   },
   {
    "duration": 4,
    "start_time": "2025-02-16T19:50:05.105Z"
   },
   {
    "duration": 20,
    "start_time": "2025-02-16T19:50:05.111Z"
   },
   {
    "duration": 16,
    "start_time": "2025-02-16T19:50:05.133Z"
   },
   {
    "duration": 32,
    "start_time": "2025-02-16T19:50:05.151Z"
   },
   {
    "duration": 45,
    "start_time": "2025-02-16T19:50:05.185Z"
   },
   {
    "duration": 25,
    "start_time": "2025-02-16T19:50:05.232Z"
   },
   {
    "duration": 308,
    "start_time": "2025-02-16T19:50:05.271Z"
   },
   {
    "duration": 15,
    "start_time": "2025-02-16T19:50:05.581Z"
   },
   {
    "duration": 25,
    "start_time": "2025-02-16T19:50:05.598Z"
   },
   {
    "duration": 11,
    "start_time": "2025-02-16T19:50:05.625Z"
   },
   {
    "duration": 24219,
    "start_time": "2025-02-16T19:50:05.638Z"
   },
   {
    "duration": 3,
    "start_time": "2025-02-16T19:50:29.859Z"
   },
   {
    "duration": 11,
    "start_time": "2025-02-16T19:50:29.863Z"
   },
   {
    "duration": 5,
    "start_time": "2025-02-16T19:50:29.875Z"
   },
   {
    "duration": 9,
    "start_time": "2025-02-16T19:50:29.881Z"
   },
   {
    "duration": 6,
    "start_time": "2025-02-16T19:50:29.891Z"
   },
   {
    "duration": 454382,
    "start_time": "2025-02-16T19:50:29.898Z"
   },
   {
    "duration": 4,
    "start_time": "2025-02-16T19:58:04.282Z"
   },
   {
    "duration": 4,
    "start_time": "2025-02-16T19:58:04.288Z"
   },
   {
    "duration": 3,
    "start_time": "2025-02-16T19:58:04.294Z"
   },
   {
    "duration": 264,
    "start_time": "2025-02-16T19:58:04.299Z"
   },
   {
    "duration": 27,
    "start_time": "2025-02-16T19:58:04.565Z"
   },
   {
    "duration": 57691,
    "start_time": "2025-02-16T19:58:04.594Z"
   },
   {
    "duration": 38255,
    "start_time": "2025-02-16T19:59:02.288Z"
   },
   {
    "duration": 8,
    "start_time": "2025-02-16T19:59:40.544Z"
   },
   {
    "duration": 14,
    "start_time": "2025-02-16T19:59:40.571Z"
   },
   {
    "duration": 4,
    "start_time": "2025-02-16T19:59:40.587Z"
   },
   {
    "duration": 3791,
    "start_time": "2025-02-16T21:11:50.595Z"
   },
   {
    "duration": 5583,
    "start_time": "2025-02-16T21:11:54.389Z"
   },
   {
    "duration": 1888,
    "start_time": "2025-02-16T21:11:59.974Z"
   },
   {
    "duration": 173,
    "start_time": "2025-02-16T21:12:01.864Z"
   },
   {
    "duration": 3,
    "start_time": "2025-02-16T21:12:02.039Z"
   },
   {
    "duration": 39,
    "start_time": "2025-02-16T21:12:02.043Z"
   },
   {
    "duration": 6,
    "start_time": "2025-02-16T21:12:02.083Z"
   },
   {
    "duration": 183,
    "start_time": "2025-02-16T21:12:02.091Z"
   },
   {
    "duration": 196,
    "start_time": "2025-02-16T21:12:02.276Z"
   },
   {
    "duration": 224,
    "start_time": "2025-02-16T21:12:02.474Z"
   },
   {
    "duration": 20,
    "start_time": "2025-02-16T21:12:02.700Z"
   },
   {
    "duration": 256,
    "start_time": "2025-02-16T21:12:02.721Z"
   },
   {
    "duration": 28,
    "start_time": "2025-02-16T21:12:02.978Z"
   },
   {
    "duration": 27264,
    "start_time": "2025-02-16T21:12:03.008Z"
   },
   {
    "duration": 1367,
    "start_time": "2025-02-16T21:12:30.274Z"
   },
   {
    "duration": 878,
    "start_time": "2025-02-16T21:12:39.367Z"
   },
   {
    "duration": 1160,
    "start_time": "2025-02-16T21:12:40.573Z"
   },
   {
    "duration": 7133,
    "start_time": "2025-02-16T21:12:46.075Z"
   },
   {
    "duration": 1206,
    "start_time": "2025-02-16T21:12:53.210Z"
   },
   {
    "duration": 27025,
    "start_time": "2025-02-16T21:14:21.327Z"
   },
   {
    "duration": 1208,
    "start_time": "2025-02-16T21:14:48.354Z"
   },
   {
    "duration": 3572,
    "start_time": "2025-02-17T15:01:45.936Z"
   },
   {
    "duration": 1735,
    "start_time": "2025-02-17T15:01:50.767Z"
   },
   {
    "duration": 993,
    "start_time": "2025-02-17T15:02:17.827Z"
   },
   {
    "duration": 158,
    "start_time": "2025-02-17T15:02:18.822Z"
   },
   {
    "duration": 3,
    "start_time": "2025-02-17T15:02:18.982Z"
   },
   {
    "duration": 20,
    "start_time": "2025-02-17T15:02:20.804Z"
   },
   {
    "duration": 4,
    "start_time": "2025-02-17T15:02:21.384Z"
   },
   {
    "duration": 156,
    "start_time": "2025-02-17T15:02:23.282Z"
   },
   {
    "duration": 178,
    "start_time": "2025-02-17T15:02:23.479Z"
   },
   {
    "duration": 202,
    "start_time": "2025-02-17T15:02:29.674Z"
   },
   {
    "duration": 18,
    "start_time": "2025-02-17T15:02:38.587Z"
   },
   {
    "duration": 225,
    "start_time": "2025-02-17T15:03:20.204Z"
   },
   {
    "duration": 33,
    "start_time": "2025-02-17T15:04:20.897Z"
   },
   {
    "duration": 871,
    "start_time": "2025-02-17T15:05:16.423Z"
   },
   {
    "duration": 8232,
    "start_time": "2025-02-17T15:05:33.241Z"
   },
   {
    "duration": 1370,
    "start_time": "2025-02-17T15:14:02.387Z"
   },
   {
    "duration": 3,
    "start_time": "2025-02-17T15:27:11.826Z"
   },
   {
    "duration": 3,
    "start_time": "2025-02-17T15:27:23.016Z"
   },
   {
    "duration": 2,
    "start_time": "2025-02-17T15:27:30.886Z"
   },
   {
    "duration": 3,
    "start_time": "2025-02-17T15:27:43.638Z"
   },
   {
    "duration": 116,
    "start_time": "2025-02-17T15:29:04.707Z"
   },
   {
    "duration": 2589,
    "start_time": "2025-02-17T15:30:42.337Z"
   },
   {
    "duration": 1621,
    "start_time": "2025-02-17T15:30:44.929Z"
   },
   {
    "duration": 971,
    "start_time": "2025-02-17T15:30:46.552Z"
   },
   {
    "duration": 174,
    "start_time": "2025-02-17T15:30:47.525Z"
   },
   {
    "duration": 2,
    "start_time": "2025-02-17T15:30:47.702Z"
   },
   {
    "duration": 167,
    "start_time": "2025-02-17T15:30:47.706Z"
   },
   {
    "duration": 6,
    "start_time": "2025-02-17T15:30:47.875Z"
   },
   {
    "duration": 262,
    "start_time": "2025-02-17T15:30:47.883Z"
   },
   {
    "duration": 191,
    "start_time": "2025-02-17T15:30:48.147Z"
   },
   {
    "duration": 224,
    "start_time": "2025-02-17T15:30:48.340Z"
   },
   {
    "duration": 23,
    "start_time": "2025-02-17T15:30:48.565Z"
   },
   {
    "duration": 247,
    "start_time": "2025-02-17T15:30:48.589Z"
   },
   {
    "duration": 38,
    "start_time": "2025-02-17T15:30:48.838Z"
   },
   {
    "duration": 55,
    "start_time": "2025-02-17T15:30:48.879Z"
   },
   {
    "duration": 3,
    "start_time": "2025-02-17T15:31:30.216Z"
   },
   {
    "duration": 2,
    "start_time": "2025-02-17T15:31:33.296Z"
   },
   {
    "duration": 5,
    "start_time": "2025-02-17T15:31:35.597Z"
   },
   {
    "duration": 11,
    "start_time": "2025-02-17T15:31:37.639Z"
   },
   {
    "duration": 2,
    "start_time": "2025-02-17T15:31:37.971Z"
   },
   {
    "duration": 1397,
    "start_time": "2025-02-17T15:31:39.351Z"
   },
   {
    "duration": 67,
    "start_time": "2025-02-17T15:31:40.750Z"
   },
   {
    "duration": 10,
    "start_time": "2025-02-17T15:31:42.597Z"
   },
   {
    "duration": 30,
    "start_time": "2025-02-17T15:31:43.954Z"
   },
   {
    "duration": 2677,
    "start_time": "2025-02-17T15:37:45.744Z"
   },
   {
    "duration": 1521,
    "start_time": "2025-02-17T15:37:48.424Z"
   },
   {
    "duration": 965,
    "start_time": "2025-02-17T15:37:49.946Z"
   },
   {
    "duration": 160,
    "start_time": "2025-02-17T15:37:50.913Z"
   },
   {
    "duration": 3,
    "start_time": "2025-02-17T15:37:51.075Z"
   },
   {
    "duration": 22,
    "start_time": "2025-02-17T15:37:51.079Z"
   },
   {
    "duration": 11,
    "start_time": "2025-02-17T15:37:51.103Z"
   },
   {
    "duration": 173,
    "start_time": "2025-02-17T15:37:51.116Z"
   },
   {
    "duration": 193,
    "start_time": "2025-02-17T15:37:51.291Z"
   },
   {
    "duration": 215,
    "start_time": "2025-02-17T15:37:51.486Z"
   },
   {
    "duration": 20,
    "start_time": "2025-02-17T15:37:51.702Z"
   },
   {
    "duration": 265,
    "start_time": "2025-02-17T15:37:51.724Z"
   },
   {
    "duration": 32,
    "start_time": "2025-02-17T15:37:51.991Z"
   },
   {
    "duration": 31,
    "start_time": "2025-02-17T15:37:52.027Z"
   },
   {
    "duration": 14,
    "start_time": "2025-02-17T15:37:52.060Z"
   },
   {
    "duration": 102,
    "start_time": "2025-02-17T15:37:52.076Z"
   },
   {
    "duration": 17,
    "start_time": "2025-02-17T15:37:52.180Z"
   },
   {
    "duration": 14,
    "start_time": "2025-02-17T15:37:52.199Z"
   },
   {
    "duration": 22,
    "start_time": "2025-02-17T15:37:52.215Z"
   },
   {
    "duration": 1383,
    "start_time": "2025-02-17T15:37:52.240Z"
   },
   {
    "duration": 75,
    "start_time": "2025-02-17T15:37:53.625Z"
   },
   {
    "duration": 13,
    "start_time": "2025-02-17T15:37:53.702Z"
   },
   {
    "duration": 59,
    "start_time": "2025-02-17T15:37:53.717Z"
   },
   {
    "duration": 7,
    "start_time": "2025-02-17T15:38:33.273Z"
   },
   {
    "duration": 6,
    "start_time": "2025-02-17T15:39:08.873Z"
   },
   {
    "duration": 130,
    "start_time": "2025-02-17T15:39:12.854Z"
   },
   {
    "duration": 5,
    "start_time": "2025-02-17T15:39:14.984Z"
   },
   {
    "duration": 357,
    "start_time": "2025-02-17T15:39:25.538Z"
   },
   {
    "duration": 29,
    "start_time": "2025-02-17T15:39:37.953Z"
   },
   {
    "duration": 29,
    "start_time": "2025-02-17T15:39:42.598Z"
   },
   {
    "duration": 31,
    "start_time": "2025-02-17T15:39:51.858Z"
   },
   {
    "duration": 38,
    "start_time": "2025-02-17T15:39:52.031Z"
   },
   {
    "duration": 52,
    "start_time": "2025-02-17T15:41:05.635Z"
   },
   {
    "duration": 19,
    "start_time": "2025-02-17T15:41:20.678Z"
   },
   {
    "duration": 12,
    "start_time": "2025-02-17T15:41:36.595Z"
   },
   {
    "duration": 9,
    "start_time": "2025-02-17T15:41:40.437Z"
   },
   {
    "duration": 10,
    "start_time": "2025-02-17T15:41:45.862Z"
   },
   {
    "duration": 7,
    "start_time": "2025-02-17T15:56:24.468Z"
   },
   {
    "duration": 7,
    "start_time": "2025-02-17T15:56:37.536Z"
   },
   {
    "duration": 7,
    "start_time": "2025-02-17T16:00:18.109Z"
   },
   {
    "duration": 8,
    "start_time": "2025-02-17T16:00:21.278Z"
   },
   {
    "duration": 249,
    "start_time": "2025-02-17T16:00:43.674Z"
   },
   {
    "duration": 8,
    "start_time": "2025-02-17T16:00:47.985Z"
   },
   {
    "duration": 7,
    "start_time": "2025-02-17T16:00:50.390Z"
   },
   {
    "duration": 8,
    "start_time": "2025-02-17T16:00:52.693Z"
   },
   {
    "duration": 9,
    "start_time": "2025-02-17T16:00:55.212Z"
   },
   {
    "duration": 98,
    "start_time": "2025-02-17T16:00:57.879Z"
   },
   {
    "duration": 8,
    "start_time": "2025-02-17T16:01:01.442Z"
   },
   {
    "duration": 20,
    "start_time": "2025-02-17T16:01:07.581Z"
   },
   {
    "duration": 7,
    "start_time": "2025-02-17T16:03:04.277Z"
   },
   {
    "duration": 7,
    "start_time": "2025-02-17T16:03:19.608Z"
   },
   {
    "duration": 7,
    "start_time": "2025-02-17T16:03:49.048Z"
   },
   {
    "duration": 8,
    "start_time": "2025-02-17T16:04:01.060Z"
   },
   {
    "duration": 7,
    "start_time": "2025-02-17T16:04:03.199Z"
   },
   {
    "duration": 8,
    "start_time": "2025-02-17T16:04:04.922Z"
   },
   {
    "duration": 6,
    "start_time": "2025-02-17T16:04:26.223Z"
   },
   {
    "duration": 7,
    "start_time": "2025-02-17T16:04:38.263Z"
   },
   {
    "duration": 55,
    "start_time": "2025-02-17T18:31:43.240Z"
   },
   {
    "duration": 5070,
    "start_time": "2025-02-17T18:33:21.153Z"
   },
   {
    "duration": 1707,
    "start_time": "2025-02-17T18:33:26.226Z"
   },
   {
    "duration": 1069,
    "start_time": "2025-02-17T18:33:27.935Z"
   },
   {
    "duration": 153,
    "start_time": "2025-02-17T18:33:29.006Z"
   },
   {
    "duration": 3,
    "start_time": "2025-02-17T18:33:29.162Z"
   },
   {
    "duration": 34,
    "start_time": "2025-02-17T18:33:29.166Z"
   },
   {
    "duration": 5,
    "start_time": "2025-02-17T18:33:29.202Z"
   },
   {
    "duration": 171,
    "start_time": "2025-02-17T18:33:29.209Z"
   },
   {
    "duration": 200,
    "start_time": "2025-02-17T18:33:29.382Z"
   },
   {
    "duration": 220,
    "start_time": "2025-02-17T18:33:29.584Z"
   },
   {
    "duration": 18,
    "start_time": "2025-02-17T18:33:29.806Z"
   },
   {
    "duration": 236,
    "start_time": "2025-02-17T18:33:29.826Z"
   },
   {
    "duration": 48,
    "start_time": "2025-02-17T18:33:30.064Z"
   },
   {
    "duration": 3,
    "start_time": "2025-02-17T18:33:30.116Z"
   },
   {
    "duration": 27,
    "start_time": "2025-02-17T18:33:30.121Z"
   },
   {
    "duration": 29,
    "start_time": "2025-02-17T18:33:30.150Z"
   },
   {
    "duration": 43,
    "start_time": "2025-02-17T18:33:30.181Z"
   },
   {
    "duration": 16,
    "start_time": "2025-02-17T18:33:30.226Z"
   },
   {
    "duration": 22,
    "start_time": "2025-02-17T18:33:30.244Z"
   },
   {
    "duration": 1498,
    "start_time": "2025-02-17T18:33:30.268Z"
   },
   {
    "duration": 77,
    "start_time": "2025-02-17T18:33:31.767Z"
   },
   {
    "duration": 12,
    "start_time": "2025-02-17T18:33:31.846Z"
   },
   {
    "duration": 31,
    "start_time": "2025-02-17T18:33:52.636Z"
   },
   {
    "duration": 29,
    "start_time": "2025-02-17T18:34:58.042Z"
   },
   {
    "duration": 727,
    "start_time": "2025-02-17T18:38:57.223Z"
   },
   {
    "duration": 21,
    "start_time": "2025-02-17T18:39:09.634Z"
   },
   {
    "duration": 7,
    "start_time": "2025-02-17T18:40:49.541Z"
   },
   {
    "duration": 8,
    "start_time": "2025-02-17T18:44:31.823Z"
   },
   {
    "duration": 227,
    "start_time": "2025-02-17T18:45:06.834Z"
   },
   {
    "duration": 26,
    "start_time": "2025-02-17T18:45:09.635Z"
   },
   {
    "duration": 14,
    "start_time": "2025-02-17T18:46:06.527Z"
   },
   {
    "duration": 26,
    "start_time": "2025-02-17T18:46:11.664Z"
   },
   {
    "duration": 9,
    "start_time": "2025-02-17T18:47:10.755Z"
   },
   {
    "duration": 20,
    "start_time": "2025-02-17T18:47:14.627Z"
   },
   {
    "duration": 2536,
    "start_time": "2025-02-17T18:47:22.267Z"
   },
   {
    "duration": 2124,
    "start_time": "2025-02-17T18:47:24.806Z"
   },
   {
    "duration": 1058,
    "start_time": "2025-02-17T18:47:26.932Z"
   },
   {
    "duration": 166,
    "start_time": "2025-02-17T18:47:27.992Z"
   },
   {
    "duration": 3,
    "start_time": "2025-02-17T18:47:28.160Z"
   },
   {
    "duration": 48,
    "start_time": "2025-02-17T18:47:28.164Z"
   },
   {
    "duration": 5,
    "start_time": "2025-02-17T18:47:28.214Z"
   },
   {
    "duration": 180,
    "start_time": "2025-02-17T18:47:28.221Z"
   },
   {
    "duration": 197,
    "start_time": "2025-02-17T18:47:28.404Z"
   },
   {
    "duration": 207,
    "start_time": "2025-02-17T18:47:28.603Z"
   },
   {
    "duration": 17,
    "start_time": "2025-02-17T18:47:28.812Z"
   },
   {
    "duration": 230,
    "start_time": "2025-02-17T18:47:28.831Z"
   },
   {
    "duration": 47,
    "start_time": "2025-02-17T18:47:29.063Z"
   },
   {
    "duration": 3,
    "start_time": "2025-02-17T18:47:29.114Z"
   },
   {
    "duration": 11,
    "start_time": "2025-02-17T18:47:29.119Z"
   },
   {
    "duration": 6,
    "start_time": "2025-02-17T18:47:29.131Z"
   },
   {
    "duration": 7,
    "start_time": "2025-02-17T18:47:29.139Z"
   },
   {
    "duration": 13,
    "start_time": "2025-02-17T18:47:29.147Z"
   },
   {
    "duration": 5,
    "start_time": "2025-02-17T18:47:29.162Z"
   },
   {
    "duration": 1521,
    "start_time": "2025-02-17T18:47:29.169Z"
   },
   {
    "duration": 75,
    "start_time": "2025-02-17T18:47:30.692Z"
   },
   {
    "duration": 12,
    "start_time": "2025-02-17T18:47:30.768Z"
   },
   {
    "duration": 44,
    "start_time": "2025-02-17T18:47:30.798Z"
   },
   {
    "duration": 22,
    "start_time": "2025-02-17T18:47:30.844Z"
   },
   {
    "duration": 72,
    "start_time": "2025-02-17T18:47:30.868Z"
   },
   {
    "duration": 47,
    "start_time": "2025-02-17T18:47:30.942Z"
   },
   {
    "duration": 62,
    "start_time": "2025-02-17T18:47:30.991Z"
   },
   {
    "duration": 25,
    "start_time": "2025-02-17T18:47:31.054Z"
   },
   {
    "duration": 21,
    "start_time": "2025-02-17T18:47:31.081Z"
   },
   {
    "duration": 17,
    "start_time": "2025-02-17T18:47:31.104Z"
   },
   {
    "duration": 269,
    "start_time": "2025-02-17T18:47:31.123Z"
   },
   {
    "duration": 285,
    "start_time": "2025-02-17T18:47:31.394Z"
   },
   {
    "duration": 2323,
    "start_time": "2025-02-17T18:47:31.680Z"
   },
   {
    "duration": 0,
    "start_time": "2025-02-17T18:47:34.007Z"
   },
   {
    "duration": 0,
    "start_time": "2025-02-17T18:47:34.009Z"
   },
   {
    "duration": 0,
    "start_time": "2025-02-17T18:47:34.010Z"
   },
   {
    "duration": 0,
    "start_time": "2025-02-17T18:47:34.012Z"
   },
   {
    "duration": 0,
    "start_time": "2025-02-17T18:47:34.014Z"
   },
   {
    "duration": 0,
    "start_time": "2025-02-17T18:47:34.016Z"
   },
   {
    "duration": 0,
    "start_time": "2025-02-17T18:47:34.017Z"
   },
   {
    "duration": 0,
    "start_time": "2025-02-17T18:47:34.018Z"
   },
   {
    "duration": 0,
    "start_time": "2025-02-17T18:47:34.019Z"
   },
   {
    "duration": 0,
    "start_time": "2025-02-17T18:47:34.021Z"
   },
   {
    "duration": 0,
    "start_time": "2025-02-17T18:47:34.022Z"
   },
   {
    "duration": 0,
    "start_time": "2025-02-17T18:47:34.024Z"
   },
   {
    "duration": 0,
    "start_time": "2025-02-17T18:47:34.025Z"
   },
   {
    "duration": 0,
    "start_time": "2025-02-17T18:47:34.027Z"
   },
   {
    "duration": 0,
    "start_time": "2025-02-17T18:47:34.028Z"
   },
   {
    "duration": 0,
    "start_time": "2025-02-17T18:47:34.029Z"
   },
   {
    "duration": 0,
    "start_time": "2025-02-17T18:47:34.030Z"
   },
   {
    "duration": 0,
    "start_time": "2025-02-17T18:47:34.031Z"
   },
   {
    "duration": 0,
    "start_time": "2025-02-17T18:47:34.032Z"
   },
   {
    "duration": 0,
    "start_time": "2025-02-17T18:47:34.033Z"
   },
   {
    "duration": 0,
    "start_time": "2025-02-17T18:47:34.034Z"
   },
   {
    "duration": 0,
    "start_time": "2025-02-17T18:47:34.035Z"
   },
   {
    "duration": 0,
    "start_time": "2025-02-17T18:47:34.036Z"
   },
   {
    "duration": 0,
    "start_time": "2025-02-17T18:47:34.037Z"
   },
   {
    "duration": 0,
    "start_time": "2025-02-17T18:47:34.039Z"
   },
   {
    "duration": 0,
    "start_time": "2025-02-17T18:47:34.040Z"
   },
   {
    "duration": 0,
    "start_time": "2025-02-17T18:47:34.041Z"
   },
   {
    "duration": 0,
    "start_time": "2025-02-17T18:47:34.043Z"
   },
   {
    "duration": 0,
    "start_time": "2025-02-17T18:47:34.100Z"
   },
   {
    "duration": 0,
    "start_time": "2025-02-17T18:47:34.101Z"
   },
   {
    "duration": 3162,
    "start_time": "2025-02-17T18:48:02.276Z"
   },
   {
    "duration": 1770,
    "start_time": "2025-02-17T18:48:05.441Z"
   },
   {
    "duration": 959,
    "start_time": "2025-02-17T18:48:07.213Z"
   },
   {
    "duration": 171,
    "start_time": "2025-02-17T18:48:08.175Z"
   },
   {
    "duration": 3,
    "start_time": "2025-02-17T18:48:08.348Z"
   },
   {
    "duration": 35,
    "start_time": "2025-02-17T18:48:08.352Z"
   },
   {
    "duration": 14,
    "start_time": "2025-02-17T18:48:08.389Z"
   },
   {
    "duration": 190,
    "start_time": "2025-02-17T18:48:08.405Z"
   },
   {
    "duration": 190,
    "start_time": "2025-02-17T18:48:08.600Z"
   },
   {
    "duration": 217,
    "start_time": "2025-02-17T18:48:08.802Z"
   },
   {
    "duration": 23,
    "start_time": "2025-02-17T18:48:09.021Z"
   },
   {
    "duration": 234,
    "start_time": "2025-02-17T18:48:09.046Z"
   },
   {
    "duration": 46,
    "start_time": "2025-02-17T18:48:09.282Z"
   },
   {
    "duration": 2,
    "start_time": "2025-02-17T18:48:09.330Z"
   },
   {
    "duration": 15,
    "start_time": "2025-02-17T18:48:09.334Z"
   },
   {
    "duration": 23,
    "start_time": "2025-02-17T18:48:09.351Z"
   },
   {
    "duration": 13,
    "start_time": "2025-02-17T18:48:09.376Z"
   },
   {
    "duration": 15,
    "start_time": "2025-02-17T18:48:09.391Z"
   },
   {
    "duration": 3,
    "start_time": "2025-02-17T18:48:09.408Z"
   },
   {
    "duration": 1412,
    "start_time": "2025-02-17T18:48:09.413Z"
   },
   {
    "duration": 83,
    "start_time": "2025-02-17T18:48:10.827Z"
   },
   {
    "duration": 12,
    "start_time": "2025-02-17T18:48:10.913Z"
   },
   {
    "duration": 52,
    "start_time": "2025-02-17T18:48:10.927Z"
   },
   {
    "duration": 9,
    "start_time": "2025-02-17T18:48:58.883Z"
   },
   {
    "duration": 10,
    "start_time": "2025-02-17T18:50:06.126Z"
   },
   {
    "duration": 9,
    "start_time": "2025-02-17T18:50:53.538Z"
   },
   {
    "duration": 15,
    "start_time": "2025-02-17T18:59:03.921Z"
   },
   {
    "duration": 36,
    "start_time": "2025-02-17T19:00:21.971Z"
   },
   {
    "duration": 107,
    "start_time": "2025-02-17T19:00:26.248Z"
   },
   {
    "duration": 7,
    "start_time": "2025-02-17T19:00:44.416Z"
   },
   {
    "duration": 240,
    "start_time": "2025-02-17T19:02:23.378Z"
   },
   {
    "duration": 255,
    "start_time": "2025-02-17T19:02:29.326Z"
   },
   {
    "duration": 2173,
    "start_time": "2025-02-17T19:02:38.329Z"
   },
   {
    "duration": 1507,
    "start_time": "2025-02-17T19:02:40.505Z"
   },
   {
    "duration": 1750,
    "start_time": "2025-02-17T19:02:42.014Z"
   },
   {
    "duration": 152,
    "start_time": "2025-02-17T19:02:43.766Z"
   },
   {
    "duration": 6,
    "start_time": "2025-02-17T19:02:43.921Z"
   },
   {
    "duration": 42,
    "start_time": "2025-02-17T19:02:43.930Z"
   },
   {
    "duration": 7,
    "start_time": "2025-02-17T19:02:43.975Z"
   },
   {
    "duration": 169,
    "start_time": "2025-02-17T19:02:44.000Z"
   },
   {
    "duration": 192,
    "start_time": "2025-02-17T19:02:44.171Z"
   },
   {
    "duration": 210,
    "start_time": "2025-02-17T19:02:44.365Z"
   },
   {
    "duration": 26,
    "start_time": "2025-02-17T19:02:44.576Z"
   },
   {
    "duration": 226,
    "start_time": "2025-02-17T19:02:44.604Z"
   },
   {
    "duration": 33,
    "start_time": "2025-02-17T19:02:44.832Z"
   },
   {
    "duration": 2,
    "start_time": "2025-02-17T19:02:44.870Z"
   },
   {
    "duration": 25,
    "start_time": "2025-02-17T19:02:44.874Z"
   },
   {
    "duration": 29,
    "start_time": "2025-02-17T19:02:44.901Z"
   },
   {
    "duration": 44,
    "start_time": "2025-02-17T19:02:44.932Z"
   },
   {
    "duration": 15,
    "start_time": "2025-02-17T19:02:44.978Z"
   },
   {
    "duration": 25,
    "start_time": "2025-02-17T19:02:44.995Z"
   },
   {
    "duration": 0,
    "start_time": "2025-02-17T19:02:45.022Z"
   },
   {
    "duration": 0,
    "start_time": "2025-02-17T19:02:45.024Z"
   },
   {
    "duration": 0,
    "start_time": "2025-02-17T19:02:45.025Z"
   },
   {
    "duration": 0,
    "start_time": "2025-02-17T19:02:45.026Z"
   },
   {
    "duration": 0,
    "start_time": "2025-02-17T19:02:45.028Z"
   },
   {
    "duration": 0,
    "start_time": "2025-02-17T19:02:45.029Z"
   },
   {
    "duration": 0,
    "start_time": "2025-02-17T19:02:45.030Z"
   },
   {
    "duration": 0,
    "start_time": "2025-02-17T19:02:45.031Z"
   },
   {
    "duration": 0,
    "start_time": "2025-02-17T19:02:45.032Z"
   },
   {
    "duration": 0,
    "start_time": "2025-02-17T19:02:45.033Z"
   },
   {
    "duration": 0,
    "start_time": "2025-02-17T19:02:45.034Z"
   },
   {
    "duration": 0,
    "start_time": "2025-02-17T19:02:45.036Z"
   },
   {
    "duration": 0,
    "start_time": "2025-02-17T19:02:45.037Z"
   },
   {
    "duration": 0,
    "start_time": "2025-02-17T19:02:45.038Z"
   },
   {
    "duration": 0,
    "start_time": "2025-02-17T19:02:45.039Z"
   },
   {
    "duration": 0,
    "start_time": "2025-02-17T19:02:45.040Z"
   },
   {
    "duration": 0,
    "start_time": "2025-02-17T19:02:45.041Z"
   },
   {
    "duration": 0,
    "start_time": "2025-02-17T19:02:45.042Z"
   },
   {
    "duration": 0,
    "start_time": "2025-02-17T19:02:45.043Z"
   },
   {
    "duration": 0,
    "start_time": "2025-02-17T19:02:45.044Z"
   },
   {
    "duration": 0,
    "start_time": "2025-02-17T19:02:45.045Z"
   },
   {
    "duration": 0,
    "start_time": "2025-02-17T19:02:45.046Z"
   },
   {
    "duration": 0,
    "start_time": "2025-02-17T19:02:45.047Z"
   },
   {
    "duration": 0,
    "start_time": "2025-02-17T19:02:45.048Z"
   },
   {
    "duration": 0,
    "start_time": "2025-02-17T19:02:45.050Z"
   },
   {
    "duration": 0,
    "start_time": "2025-02-17T19:02:45.051Z"
   },
   {
    "duration": 0,
    "start_time": "2025-02-17T19:02:45.052Z"
   },
   {
    "duration": 0,
    "start_time": "2025-02-17T19:02:45.053Z"
   },
   {
    "duration": 0,
    "start_time": "2025-02-17T19:02:45.054Z"
   },
   {
    "duration": 0,
    "start_time": "2025-02-17T19:02:45.056Z"
   },
   {
    "duration": 0,
    "start_time": "2025-02-17T19:02:45.057Z"
   },
   {
    "duration": 0,
    "start_time": "2025-02-17T19:02:45.100Z"
   },
   {
    "duration": 0,
    "start_time": "2025-02-17T19:02:45.101Z"
   },
   {
    "duration": 0,
    "start_time": "2025-02-17T19:02:45.102Z"
   },
   {
    "duration": 0,
    "start_time": "2025-02-17T19:02:45.103Z"
   },
   {
    "duration": 0,
    "start_time": "2025-02-17T19:02:45.104Z"
   },
   {
    "duration": 0,
    "start_time": "2025-02-17T19:02:45.104Z"
   },
   {
    "duration": 0,
    "start_time": "2025-02-17T19:02:45.105Z"
   },
   {
    "duration": 0,
    "start_time": "2025-02-17T19:02:45.107Z"
   },
   {
    "duration": 0,
    "start_time": "2025-02-17T19:02:45.108Z"
   },
   {
    "duration": 0,
    "start_time": "2025-02-17T19:02:45.109Z"
   },
   {
    "duration": 0,
    "start_time": "2025-02-17T19:02:45.110Z"
   },
   {
    "duration": 0,
    "start_time": "2025-02-17T19:02:45.112Z"
   },
   {
    "duration": 0,
    "start_time": "2025-02-17T19:02:45.113Z"
   },
   {
    "duration": 3,
    "start_time": "2025-02-17T19:02:54.277Z"
   },
   {
    "duration": 1454,
    "start_time": "2025-02-17T19:02:55.994Z"
   },
   {
    "duration": 70,
    "start_time": "2025-02-17T19:02:59.566Z"
   },
   {
    "duration": 12,
    "start_time": "2025-02-17T19:02:59.904Z"
   },
   {
    "duration": 37,
    "start_time": "2025-02-17T19:03:02.154Z"
   },
   {
    "duration": 11,
    "start_time": "2025-02-17T19:03:06.449Z"
   },
   {
    "duration": 31,
    "start_time": "2025-02-17T19:03:11.700Z"
   },
   {
    "duration": 30,
    "start_time": "2025-02-17T19:03:12.043Z"
   },
   {
    "duration": 44,
    "start_time": "2025-02-17T19:03:14.560Z"
   },
   {
    "duration": 31,
    "start_time": "2025-02-17T19:03:17.109Z"
   },
   {
    "duration": 9,
    "start_time": "2025-02-17T19:03:17.327Z"
   },
   {
    "duration": 8,
    "start_time": "2025-02-17T19:03:17.493Z"
   },
   {
    "duration": 239,
    "start_time": "2025-02-17T19:03:18.684Z"
   },
   {
    "duration": 278,
    "start_time": "2025-02-17T19:03:20.167Z"
   },
   {
    "duration": 11497,
    "start_time": "2025-02-17T19:03:20.583Z"
   },
   {
    "duration": 19,
    "start_time": "2025-02-17T19:03:52.959Z"
   },
   {
    "duration": 14,
    "start_time": "2025-02-17T19:04:48.607Z"
   },
   {
    "duration": 5697,
    "start_time": "2025-02-17T19:04:50.792Z"
   },
   {
    "duration": 1238,
    "start_time": "2025-02-17T19:05:00.958Z"
   },
   {
    "duration": 87,
    "start_time": "2025-02-17T19:11:37.242Z"
   },
   {
    "duration": 18,
    "start_time": "2025-02-17T19:11:39.675Z"
   },
   {
    "duration": 5,
    "start_time": "2025-02-17T19:11:41.805Z"
   },
   {
    "duration": 7,
    "start_time": "2025-02-17T19:12:44.870Z"
   },
   {
    "duration": 18,
    "start_time": "2025-02-17T19:12:45.477Z"
   },
   {
    "duration": 15,
    "start_time": "2025-02-17T19:12:45.813Z"
   },
   {
    "duration": 75,
    "start_time": "2025-02-17T19:12:46.220Z"
   },
   {
    "duration": 27,
    "start_time": "2025-02-17T19:12:48.127Z"
   },
   {
    "duration": 597,
    "start_time": "2025-02-17T19:12:53.015Z"
   },
   {
    "duration": 20,
    "start_time": "2025-02-17T19:12:55.577Z"
   },
   {
    "duration": 3,
    "start_time": "2025-02-17T19:12:57.341Z"
   },
   {
    "duration": 2,
    "start_time": "2025-02-17T19:12:57.603Z"
   },
   {
    "duration": 32648,
    "start_time": "2025-02-17T19:12:57.971Z"
   },
   {
    "duration": 4,
    "start_time": "2025-02-17T19:13:30.620Z"
   },
   {
    "duration": 19,
    "start_time": "2025-02-17T19:13:30.626Z"
   },
   {
    "duration": 13,
    "start_time": "2025-02-17T19:13:30.647Z"
   },
   {
    "duration": 3,
    "start_time": "2025-02-17T19:13:51.523Z"
   },
   {
    "duration": 3,
    "start_time": "2025-02-17T19:13:51.792Z"
   },
   {
    "duration": 490217,
    "start_time": "2025-02-17T19:13:54.097Z"
   },
   {
    "duration": 4,
    "start_time": "2025-02-17T19:22:04.316Z"
   },
   {
    "duration": 9,
    "start_time": "2025-02-17T19:22:04.322Z"
   },
   {
    "duration": 66,
    "start_time": "2025-02-17T19:22:04.333Z"
   },
   {
    "duration": 57,
    "start_time": "2025-02-17T19:33:27.403Z"
   },
   {
    "duration": 3,
    "start_time": "2025-02-17T19:33:29.281Z"
   },
   {
    "duration": 4,
    "start_time": "2025-02-17T19:33:37.390Z"
   },
   {
    "duration": 3,
    "start_time": "2025-02-17T19:34:06.118Z"
   },
   {
    "duration": 19259,
    "start_time": "2025-02-17T19:34:22.615Z"
   },
   {
    "duration": 3,
    "start_time": "2025-02-17T19:34:43.148Z"
   },
   {
    "duration": 0,
    "start_time": "2025-02-17T19:35:22.231Z"
   },
   {
    "duration": 0,
    "start_time": "2025-02-17T19:35:22.233Z"
   },
   {
    "duration": 0,
    "start_time": "2025-02-17T19:35:22.234Z"
   },
   {
    "duration": 3,
    "start_time": "2025-02-17T19:35:25.864Z"
   },
   {
    "duration": 3,
    "start_time": "2025-02-17T19:35:27.181Z"
   },
   {
    "duration": 2569,
    "start_time": "2025-02-17T19:35:41.436Z"
   },
   {
    "duration": 1504,
    "start_time": "2025-02-17T19:35:44.007Z"
   },
   {
    "duration": 959,
    "start_time": "2025-02-17T19:35:45.513Z"
   },
   {
    "duration": 169,
    "start_time": "2025-02-17T19:35:46.473Z"
   },
   {
    "duration": 3,
    "start_time": "2025-02-17T19:35:46.645Z"
   },
   {
    "duration": 43,
    "start_time": "2025-02-17T19:35:46.649Z"
   },
   {
    "duration": 11,
    "start_time": "2025-02-17T19:35:46.694Z"
   },
   {
    "duration": 164,
    "start_time": "2025-02-17T19:35:46.707Z"
   },
   {
    "duration": 188,
    "start_time": "2025-02-17T19:35:46.873Z"
   },
   {
    "duration": 211,
    "start_time": "2025-02-17T19:35:47.063Z"
   },
   {
    "duration": 23,
    "start_time": "2025-02-17T19:35:47.276Z"
   },
   {
    "duration": 231,
    "start_time": "2025-02-17T19:35:47.301Z"
   },
   {
    "duration": 34,
    "start_time": "2025-02-17T19:35:47.533Z"
   },
   {
    "duration": 3,
    "start_time": "2025-02-17T19:35:47.570Z"
   },
   {
    "duration": 8,
    "start_time": "2025-02-17T19:35:47.574Z"
   },
   {
    "duration": 22,
    "start_time": "2025-02-17T19:35:47.583Z"
   },
   {
    "duration": 7,
    "start_time": "2025-02-17T19:35:47.606Z"
   },
   {
    "duration": 12,
    "start_time": "2025-02-17T19:35:47.615Z"
   },
   {
    "duration": 4,
    "start_time": "2025-02-17T19:35:47.628Z"
   },
   {
    "duration": 1467,
    "start_time": "2025-02-17T19:35:47.634Z"
   },
   {
    "duration": 64,
    "start_time": "2025-02-17T19:35:49.103Z"
   },
   {
    "duration": 12,
    "start_time": "2025-02-17T19:35:49.169Z"
   },
   {
    "duration": 63,
    "start_time": "2025-02-17T19:35:49.199Z"
   },
   {
    "duration": 11,
    "start_time": "2025-02-17T19:35:49.264Z"
   },
   {
    "duration": 29,
    "start_time": "2025-02-17T19:35:49.277Z"
   },
   {
    "duration": 30,
    "start_time": "2025-02-17T19:35:49.307Z"
   },
   {
    "duration": 48,
    "start_time": "2025-02-17T19:35:49.339Z"
   },
   {
    "duration": 40,
    "start_time": "2025-02-17T19:35:49.389Z"
   },
   {
    "duration": 9,
    "start_time": "2025-02-17T19:35:49.431Z"
   },
   {
    "duration": 8,
    "start_time": "2025-02-17T19:35:49.442Z"
   },
   {
    "duration": 254,
    "start_time": "2025-02-17T19:35:49.451Z"
   },
   {
    "duration": 248,
    "start_time": "2025-02-17T19:35:49.707Z"
   },
   {
    "duration": 20,
    "start_time": "2025-02-17T19:35:49.957Z"
   },
   {
    "duration": 6677,
    "start_time": "2025-02-17T19:35:49.979Z"
   },
   {
    "duration": 1234,
    "start_time": "2025-02-17T19:35:56.658Z"
   },
   {
    "duration": 82,
    "start_time": "2025-02-17T19:35:57.894Z"
   },
   {
    "duration": 23,
    "start_time": "2025-02-17T19:35:57.977Z"
   },
   {
    "duration": 4,
    "start_time": "2025-02-17T19:35:58.001Z"
   },
   {
    "duration": 8,
    "start_time": "2025-02-17T19:35:58.006Z"
   },
   {
    "duration": 19,
    "start_time": "2025-02-17T19:35:58.015Z"
   },
   {
    "duration": 15,
    "start_time": "2025-02-17T19:35:58.038Z"
   },
   {
    "duration": 98,
    "start_time": "2025-02-17T19:35:58.055Z"
   },
   {
    "duration": 44,
    "start_time": "2025-02-17T19:35:58.155Z"
   },
   {
    "duration": 588,
    "start_time": "2025-02-17T19:35:58.201Z"
   },
   {
    "duration": 27,
    "start_time": "2025-02-17T19:35:58.790Z"
   },
   {
    "duration": 3,
    "start_time": "2025-02-17T19:35:58.818Z"
   },
   {
    "duration": 5,
    "start_time": "2025-02-17T19:35:58.823Z"
   },
   {
    "duration": 32510,
    "start_time": "2025-02-17T19:35:58.829Z"
   },
   {
    "duration": 3,
    "start_time": "2025-02-17T19:36:31.341Z"
   },
   {
    "duration": 10,
    "start_time": "2025-02-17T19:36:31.346Z"
   },
   {
    "duration": 4,
    "start_time": "2025-02-17T19:36:31.358Z"
   },
   {
    "duration": 30,
    "start_time": "2025-02-17T19:36:31.364Z"
   },
   {
    "duration": 30,
    "start_time": "2025-02-17T19:36:31.397Z"
   },
   {
    "duration": 495184,
    "start_time": "2025-02-17T19:36:31.429Z"
   },
   {
    "duration": 4,
    "start_time": "2025-02-17T19:44:46.615Z"
   },
   {
    "duration": 30,
    "start_time": "2025-02-17T19:44:46.621Z"
   },
   {
    "duration": 27,
    "start_time": "2025-02-17T19:44:46.652Z"
   },
   {
    "duration": 3,
    "start_time": "2025-02-17T19:46:10.201Z"
   },
   {
    "duration": 55,
    "start_time": "2025-02-17T19:46:10.865Z"
   },
   {
    "duration": 4,
    "start_time": "2025-02-17T19:46:11.443Z"
   },
   {
    "duration": 283881,
    "start_time": "2025-02-17T19:46:12.569Z"
   },
   {
    "duration": 3,
    "start_time": "2025-02-17T19:52:18.945Z"
   },
   {
    "duration": 3,
    "start_time": "2025-02-17T19:52:21.027Z"
   },
   {
    "duration": 4,
    "start_time": "2025-02-17T19:53:08.953Z"
   },
   {
    "duration": 1246596,
    "start_time": "2025-02-17T19:53:10.109Z"
   },
   {
    "duration": 2595,
    "start_time": "2025-02-17T20:14:15.038Z"
   },
   {
    "duration": 1477,
    "start_time": "2025-02-17T20:14:17.635Z"
   },
   {
    "duration": 973,
    "start_time": "2025-02-17T20:14:19.114Z"
   },
   {
    "duration": 155,
    "start_time": "2025-02-17T20:14:20.089Z"
   },
   {
    "duration": 58,
    "start_time": "2025-02-17T20:14:20.247Z"
   },
   {
    "duration": 22,
    "start_time": "2025-02-17T20:14:20.307Z"
   },
   {
    "duration": 7,
    "start_time": "2025-02-17T20:14:20.331Z"
   },
   {
    "duration": 472,
    "start_time": "2025-02-17T20:14:20.340Z"
   },
   {
    "duration": 390,
    "start_time": "2025-02-17T20:14:20.813Z"
   },
   {
    "duration": 420,
    "start_time": "2025-02-17T20:14:21.205Z"
   },
   {
    "duration": 72,
    "start_time": "2025-02-17T20:14:21.627Z"
   },
   {
    "duration": 412,
    "start_time": "2025-02-17T20:14:21.701Z"
   },
   {
    "duration": 32,
    "start_time": "2025-02-17T20:14:22.115Z"
   },
   {
    "duration": 2,
    "start_time": "2025-02-17T20:14:22.151Z"
   },
   {
    "duration": 8,
    "start_time": "2025-02-17T20:14:22.154Z"
   },
   {
    "duration": 4,
    "start_time": "2025-02-17T20:14:22.163Z"
   },
   {
    "duration": 5,
    "start_time": "2025-02-17T20:14:22.169Z"
   },
   {
    "duration": 29,
    "start_time": "2025-02-17T20:14:22.176Z"
   },
   {
    "duration": 4,
    "start_time": "2025-02-17T20:14:22.207Z"
   },
   {
    "duration": 1487,
    "start_time": "2025-02-17T20:14:22.212Z"
   },
   {
    "duration": 68,
    "start_time": "2025-02-17T20:14:23.701Z"
   },
   {
    "duration": 29,
    "start_time": "2025-02-17T20:14:23.771Z"
   },
   {
    "duration": 40,
    "start_time": "2025-02-17T20:14:23.802Z"
   },
   {
    "duration": 11,
    "start_time": "2025-02-17T20:14:23.844Z"
   },
   {
    "duration": 51,
    "start_time": "2025-02-17T20:14:23.857Z"
   },
   {
    "duration": 31,
    "start_time": "2025-02-17T20:14:23.909Z"
   },
   {
    "duration": 59,
    "start_time": "2025-02-17T20:14:23.941Z"
   },
   {
    "duration": 33,
    "start_time": "2025-02-17T20:14:24.001Z"
   },
   {
    "duration": 9,
    "start_time": "2025-02-17T20:14:24.036Z"
   },
   {
    "duration": 8,
    "start_time": "2025-02-17T20:14:24.047Z"
   },
   {
    "duration": 272,
    "start_time": "2025-02-17T20:14:24.057Z"
   },
   {
    "duration": 269,
    "start_time": "2025-02-17T20:14:24.331Z"
   },
   {
    "duration": 21,
    "start_time": "2025-02-17T20:14:24.602Z"
   },
   {
    "duration": 7484,
    "start_time": "2025-02-17T20:14:24.625Z"
   },
   {
    "duration": 1229,
    "start_time": "2025-02-17T20:14:32.111Z"
   },
   {
    "duration": 85,
    "start_time": "2025-02-17T20:14:33.342Z"
   },
   {
    "duration": 45,
    "start_time": "2025-02-17T20:14:33.428Z"
   },
   {
    "duration": 9,
    "start_time": "2025-02-17T20:14:33.475Z"
   },
   {
    "duration": 13,
    "start_time": "2025-02-17T20:14:33.486Z"
   },
   {
    "duration": 20,
    "start_time": "2025-02-17T20:14:33.501Z"
   },
   {
    "duration": 15,
    "start_time": "2025-02-17T20:14:33.526Z"
   },
   {
    "duration": 90,
    "start_time": "2025-02-17T20:14:33.543Z"
   },
   {
    "duration": 33,
    "start_time": "2025-02-17T20:14:33.635Z"
   },
   {
    "duration": 643,
    "start_time": "2025-02-17T20:14:33.670Z"
   },
   {
    "duration": 23,
    "start_time": "2025-02-17T20:14:34.315Z"
   },
   {
    "duration": 3,
    "start_time": "2025-02-17T20:14:34.339Z"
   },
   {
    "duration": 7,
    "start_time": "2025-02-17T20:14:34.344Z"
   },
   {
    "duration": 33743,
    "start_time": "2025-02-17T20:14:34.352Z"
   },
   {
    "duration": 4,
    "start_time": "2025-02-17T20:15:08.100Z"
   },
   {
    "duration": 5,
    "start_time": "2025-02-17T20:15:08.106Z"
   },
   {
    "duration": 12,
    "start_time": "2025-02-17T20:15:08.113Z"
   },
   {
    "duration": 3,
    "start_time": "2025-02-17T20:16:16.254Z"
   },
   {
    "duration": 3,
    "start_time": "2025-02-17T20:16:17.636Z"
   },
   {
    "duration": 700629,
    "start_time": "2025-02-17T20:16:18.907Z"
   },
   {
    "duration": 4,
    "start_time": "2025-02-17T20:28:07.684Z"
   },
   {
    "duration": 514716,
    "start_time": "2025-02-17T20:28:08.394Z"
   },
   {
    "duration": 3,
    "start_time": "2025-02-17T20:38:49.251Z"
   },
   {
    "duration": 3,
    "start_time": "2025-02-17T20:38:53.683Z"
   },
   {
    "duration": 3,
    "start_time": "2025-02-17T20:38:55.780Z"
   },
   {
    "duration": 57,
    "start_time": "2025-02-17T20:39:30.779Z"
   },
   {
    "duration": 3,
    "start_time": "2025-02-17T20:39:31.706Z"
   },
   {
    "duration": 1283460,
    "start_time": "2025-02-17T20:39:35.018Z"
   },
   {
    "duration": 3,
    "start_time": "2025-02-17T21:01:08.935Z"
   },
   {
    "duration": 3,
    "start_time": "2025-02-17T21:01:13.069Z"
   },
   {
    "duration": 325,
    "start_time": "2025-02-17T21:02:02.701Z"
   },
   {
    "duration": 24,
    "start_time": "2025-02-17T21:02:05.952Z"
   },
   {
    "duration": 49426,
    "start_time": "2025-02-17T21:02:18.590Z"
   },
   {
    "duration": 15581,
    "start_time": "2025-02-17T21:03:08.019Z"
   },
   {
    "duration": 96229,
    "start_time": "2025-02-17T21:03:38.122Z"
   },
   {
    "duration": 326,
    "start_time": "2025-02-17T21:05:14.353Z"
   },
   {
    "duration": 14,
    "start_time": "2025-02-17T21:05:27.509Z"
   },
   {
    "duration": 3,
    "start_time": "2025-02-17T21:05:52.385Z"
   },
   {
    "duration": 11,
    "start_time": "2025-02-17T21:05:55.794Z"
   },
   {
    "duration": 3,
    "start_time": "2025-02-17T21:06:08.020Z"
   },
   {
    "duration": 2,
    "start_time": "2025-02-17T21:06:11.932Z"
   },
   {
    "duration": 9,
    "start_time": "2025-02-17T21:06:15.034Z"
   },
   {
    "duration": 5329,
    "start_time": "2025-02-17T21:10:44.600Z"
   },
   {
    "duration": 5,
    "start_time": "2025-02-17T21:10:51.336Z"
   },
   {
    "duration": 11,
    "start_time": "2025-02-17T21:11:38.470Z"
   },
   {
    "duration": 11,
    "start_time": "2025-02-17T21:11:44.151Z"
   },
   {
    "duration": 10,
    "start_time": "2025-02-17T21:13:47.898Z"
   },
   {
    "duration": 73,
    "start_time": "2025-02-17T21:13:58.402Z"
   },
   {
    "duration": 14,
    "start_time": "2025-02-17T21:14:03.759Z"
   },
   {
    "duration": 44,
    "start_time": "2025-02-17T21:14:30.371Z"
   },
   {
    "duration": 194,
    "start_time": "2025-02-17T21:14:35.818Z"
   },
   {
    "duration": 75,
    "start_time": "2025-02-17T21:15:17.911Z"
   },
   {
    "duration": 5,
    "start_time": "2025-02-17T21:15:39.884Z"
   },
   {
    "duration": 183,
    "start_time": "2025-02-17T21:15:41.208Z"
   },
   {
    "duration": 182,
    "start_time": "2025-02-17T21:16:20.810Z"
   },
   {
    "duration": 3867,
    "start_time": "2025-05-30T11:48:09.097Z"
   },
   {
    "duration": 1855,
    "start_time": "2025-05-30T11:48:12.967Z"
   },
   {
    "duration": 992,
    "start_time": "2025-05-30T11:48:14.824Z"
   },
   {
    "duration": 162,
    "start_time": "2025-05-30T11:48:15.818Z"
   },
   {
    "duration": 78,
    "start_time": "2025-05-30T11:48:15.982Z"
   },
   {
    "duration": 33,
    "start_time": "2025-05-30T11:48:16.062Z"
   },
   {
    "duration": 11,
    "start_time": "2025-05-30T11:48:16.097Z"
   },
   {
    "duration": 170,
    "start_time": "2025-05-30T11:48:16.110Z"
   },
   {
    "duration": 193,
    "start_time": "2025-05-30T11:48:16.282Z"
   },
   {
    "duration": 218,
    "start_time": "2025-05-30T11:48:16.477Z"
   },
   {
    "duration": 18,
    "start_time": "2025-05-30T11:48:16.697Z"
   },
   {
    "duration": 302,
    "start_time": "2025-05-30T11:48:16.717Z"
   },
   {
    "duration": 46,
    "start_time": "2025-05-30T11:48:17.020Z"
   },
   {
    "duration": 2,
    "start_time": "2025-05-30T11:48:17.069Z"
   },
   {
    "duration": 26,
    "start_time": "2025-05-30T11:48:17.073Z"
   },
   {
    "duration": 100,
    "start_time": "2025-05-30T11:48:17.101Z"
   },
   {
    "duration": 16,
    "start_time": "2025-05-30T11:48:17.203Z"
   },
   {
    "duration": 169,
    "start_time": "2025-05-30T11:48:17.221Z"
   },
   {
    "duration": 7,
    "start_time": "2025-05-30T11:48:17.392Z"
   },
   {
    "duration": 1493,
    "start_time": "2025-05-30T11:48:17.400Z"
   },
   {
    "duration": 88,
    "start_time": "2025-05-30T11:48:18.895Z"
   },
   {
    "duration": 13,
    "start_time": "2025-05-30T11:48:18.985Z"
   },
   {
    "duration": 59,
    "start_time": "2025-05-30T11:48:19.000Z"
   },
   {
    "duration": 12,
    "start_time": "2025-05-30T11:48:19.061Z"
   },
   {
    "duration": 30,
    "start_time": "2025-05-30T11:48:19.074Z"
   },
   {
    "duration": 53,
    "start_time": "2025-05-30T11:48:19.105Z"
   },
   {
    "duration": 91,
    "start_time": "2025-05-30T11:48:19.160Z"
   },
   {
    "duration": 34,
    "start_time": "2025-05-30T11:48:19.252Z"
   },
   {
    "duration": 107,
    "start_time": "2025-05-30T11:48:19.287Z"
   },
   {
    "duration": 10,
    "start_time": "2025-05-30T11:48:19.396Z"
   },
   {
    "duration": 233,
    "start_time": "2025-05-30T11:48:19.408Z"
   },
   {
    "duration": 269,
    "start_time": "2025-05-30T11:48:19.643Z"
   },
   {
    "duration": 29,
    "start_time": "2025-05-30T11:48:19.914Z"
   },
   {
    "duration": 6753,
    "start_time": "2025-05-30T11:48:19.945Z"
   },
   {
    "duration": 1273,
    "start_time": "2025-05-30T11:48:26.700Z"
   },
   {
    "duration": 85,
    "start_time": "2025-05-30T11:48:27.975Z"
   },
   {
    "duration": 35,
    "start_time": "2025-05-30T11:48:28.062Z"
   },
   {
    "duration": 8,
    "start_time": "2025-05-30T11:48:28.099Z"
   },
   {
    "duration": 10,
    "start_time": "2025-05-30T11:48:28.109Z"
   },
   {
    "duration": 25,
    "start_time": "2025-05-30T11:48:28.120Z"
   },
   {
    "duration": 15,
    "start_time": "2025-05-30T11:48:28.150Z"
   },
   {
    "duration": 93,
    "start_time": "2025-05-30T11:48:28.167Z"
   },
   {
    "duration": 35,
    "start_time": "2025-05-30T11:48:28.262Z"
   },
   {
    "duration": 605,
    "start_time": "2025-05-30T11:48:28.299Z"
   },
   {
    "duration": 34,
    "start_time": "2025-05-30T11:48:28.906Z"
   },
   {
    "duration": 3,
    "start_time": "2025-05-30T11:48:28.942Z"
   },
   {
    "duration": 10,
    "start_time": "2025-05-30T11:48:28.947Z"
   },
   {
    "duration": 32958,
    "start_time": "2025-05-30T11:48:28.960Z"
   },
   {
    "duration": 4,
    "start_time": "2025-05-30T11:49:01.919Z"
   },
   {
    "duration": 3,
    "start_time": "2025-05-30T11:49:01.937Z"
   },
   {
    "duration": 90,
    "start_time": "2025-05-30T11:49:01.942Z"
   },
   {
    "duration": 54,
    "start_time": "2025-05-30T11:49:02.033Z"
   },
   {
    "duration": 17,
    "start_time": "2025-05-30T11:49:02.089Z"
   },
   {
    "duration": 612733,
    "start_time": "2025-05-30T11:49:02.107Z"
   },
   {
    "duration": 3,
    "start_time": "2025-05-30T11:59:14.842Z"
   },
   {
    "duration": 4,
    "start_time": "2025-05-30T11:59:14.847Z"
   },
   {
    "duration": 4,
    "start_time": "2025-05-30T11:59:14.853Z"
   },
   {
    "duration": 13,
    "start_time": "2025-05-30T11:59:14.859Z"
   },
   {
    "duration": 5,
    "start_time": "2025-05-30T11:59:14.874Z"
   },
   {
    "duration": 1297452,
    "start_time": "2025-05-30T11:59:14.881Z"
   },
   {
    "duration": 4,
    "start_time": "2025-05-30T12:20:52.335Z"
   },
   {
    "duration": 61,
    "start_time": "2025-05-30T12:20:52.340Z"
   },
   {
    "duration": 18,
    "start_time": "2025-05-30T12:20:52.403Z"
   },
   {
    "duration": 341,
    "start_time": "2025-05-30T12:20:52.423Z"
   },
   {
    "duration": 25,
    "start_time": "2025-05-30T12:20:52.766Z"
   },
   {
    "duration": 376359,
    "start_time": "2025-05-30T12:20:52.793Z"
   },
   {
    "duration": 15320,
    "start_time": "2025-05-30T12:27:09.154Z"
   },
   {
    "duration": 92785,
    "start_time": "2025-05-30T12:27:24.475Z"
   },
   {
    "duration": 336,
    "start_time": "2025-05-30T12:28:57.261Z"
   },
   {
    "duration": 9,
    "start_time": "2025-05-30T12:28:57.599Z"
   },
   {
    "duration": 5127,
    "start_time": "2025-05-30T12:28:57.610Z"
   },
   {
    "duration": 4,
    "start_time": "2025-05-30T12:29:02.739Z"
   },
   {
    "duration": 195,
    "start_time": "2025-05-30T12:29:02.744Z"
   },
   {
    "duration": 202,
    "start_time": "2025-05-30T12:29:02.941Z"
   }
  ],
  "kernelspec": {
   "display_name": "Python 3 (ipykernel)",
   "language": "python",
   "name": "python3"
  },
  "language_info": {
   "codemirror_mode": {
    "name": "ipython",
    "version": 3
   },
   "file_extension": ".py",
   "mimetype": "text/x-python",
   "name": "python",
   "nbconvert_exporter": "python",
   "pygments_lexer": "ipython3",
   "version": "3.11.9"
  },
  "toc": {
   "base_numbering": 1,
   "nav_menu": {},
   "number_sections": true,
   "sideBar": true,
   "skip_h1_title": true,
   "title_cell": "Table of Contents",
   "title_sidebar": "Contents",
   "toc_cell": false,
   "toc_position": {
    "height": "calc(100% - 180px)",
    "left": "10px",
    "top": "150px",
    "width": "165px"
   },
   "toc_section_display": true,
   "toc_window_display": true
  }
 },
 "nbformat": 4,
 "nbformat_minor": 2
}
