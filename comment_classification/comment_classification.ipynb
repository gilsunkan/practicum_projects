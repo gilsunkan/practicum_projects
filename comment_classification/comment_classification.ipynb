{
 "cells": [
  {
   "cell_type": "markdown",
   "metadata": {
    "toc": true
   },
   "source": [
    "<h1>Содержание<span class=\"tocSkip\"></span></h1>\n",
    "<div class=\"toc\"><ul class=\"toc-item\"><li><span><a href=\"#Подготовка\" data-toc-modified-id=\"Подготовка-1\"><span class=\"toc-item-num\">1&nbsp;&nbsp;</span>Подготовка</a></span><ul class=\"toc-item\"><li><span><a href=\"#Вывод\" data-toc-modified-id=\"Вывод-1.1\"><span class=\"toc-item-num\">1.1&nbsp;&nbsp;</span>Вывод</a></span></li></ul></li><li><span><a href=\"#Обучение\" data-toc-modified-id=\"Обучение-2\"><span class=\"toc-item-num\">2&nbsp;&nbsp;</span>Обучение</a></span></li><li><span><a href=\"#Выводы\" data-toc-modified-id=\"Выводы-3\"><span class=\"toc-item-num\">3&nbsp;&nbsp;</span>Выводы</a></span></li><li><span><a href=\"#Чек-лист-проверки\" data-toc-modified-id=\"Чек-лист-проверки-4\"><span class=\"toc-item-num\">4&nbsp;&nbsp;</span>Чек-лист проверки</a></span></li></ul></div>"
   ]
  },
  {
   "cell_type": "markdown",
   "metadata": {},
   "source": [
    "# Проект для «Викишоп»"
   ]
  },
  {
   "cell_type": "markdown",
   "metadata": {},
   "source": [
    "Интернет-магазин «Викишоп» запускает новый сервис. Теперь пользователи могут редактировать и дополнять описания товаров, как в вики-сообществах. То есть клиенты предлагают свои правки и комментируют изменения других. Магазину нужен инструмент, который будет искать токсичные комментарии и отправлять их на модерацию. \n",
    "\n",
    "Обучите модель классифицировать комментарии на позитивные и негативные. В вашем распоряжении набор данных с разметкой о токсичности правок.\n",
    "\n",
    "Постройте модель со значением метрики качества *F1* не меньше 0.75. \n",
    "\n",
    "**Инструкция по выполнению проекта**\n",
    "\n",
    "1. Загрузите и подготовьте данные.\n",
    "2. Обучите разные модели. \n",
    "3. Сделайте выводы.\n",
    "\n",
    "Для выполнения проекта применять *BERT* необязательно, но вы можете попробовать.\n",
    "\n",
    "**Описание данных**\n",
    "\n",
    "Данные находятся в файле `toxic_comments.csv`. Столбец *text* в нём содержит текст комментария, а *toxic* — целевой признак."
   ]
  },
  {
   "cell_type": "code",
   "execution_count": 1,
   "metadata": {},
   "outputs": [],
   "source": [
    "import pandas as pd\n",
    "\n",
    "import re\n",
    "\n",
    "import nltk\n",
    "from nltk.corpus import stopwords as nltk_stopwords\n",
    "\n",
    "import spacy\n",
    "nlp = spacy.load('en_core_web_sm')\n",
    "\n",
    "from pymystem3 import Mystem\n",
    "\n",
    "from tqdm.notebook import tqdm\n",
    "\n",
    "from sklearn.feature_extraction.text import TfidfVectorizer\n",
    "\n",
    "from sklearn.linear_model import LogisticRegression\n",
    "\n",
    "from sklearn.model_selection import train_test_split, RandomizedSearchCV\n",
    "\n",
    "from sklearn.metrics import f1_score \n",
    "\n",
    "from sklearn.pipeline import Pipeline\n",
    "\n",
    "from sklearn.compose import ColumnTransformer\n",
    "\n",
    "from sklearn.tree import DecisionTreeClassifier\n",
    "\n",
    "from lightgbm import LGBMRegressor\n",
    "\n",
    "from catboost import CatBoostClassifier\n",
    "\n"
   ]
  },
  {
   "cell_type": "markdown",
   "metadata": {},
   "source": [
    "## Подготовка"
   ]
  },
  {
   "cell_type": "code",
   "execution_count": 2,
   "metadata": {},
   "outputs": [],
   "source": [
    "#считаем данные и загрузим в датафрейм\n",
    "toxic_data = pd.read_csv('toxic_comments.csv', index_col=0)"
   ]
  },
  {
   "cell_type": "code",
   "execution_count": 3,
   "metadata": {},
   "outputs": [
    {
     "name": "stdout",
     "output_type": "stream",
     "text": [
      "<class 'pandas.core.frame.DataFrame'>\n",
      "Int64Index: 159292 entries, 0 to 159450\n",
      "Data columns (total 2 columns):\n",
      " #   Column  Non-Null Count   Dtype \n",
      "---  ------  --------------   ----- \n",
      " 0   text    159292 non-null  object\n",
      " 1   toxic   159292 non-null  int64 \n",
      "dtypes: int64(1), object(1)\n",
      "memory usage: 3.6+ MB\n"
     ]
    }
   ],
   "source": [
    "# выведем общее инфо\n",
    "toxic_data.info()"
   ]
  },
  {
   "cell_type": "markdown",
   "metadata": {},
   "source": [
    "В данных нет пропусков, типы данных соответствуют ожидаемым"
   ]
  },
  {
   "cell_type": "code",
   "execution_count": 4,
   "metadata": {},
   "outputs": [
    {
     "data": {
      "text/html": [
       "<div>\n",
       "<style scoped>\n",
       "    .dataframe tbody tr th:only-of-type {\n",
       "        vertical-align: middle;\n",
       "    }\n",
       "\n",
       "    .dataframe tbody tr th {\n",
       "        vertical-align: top;\n",
       "    }\n",
       "\n",
       "    .dataframe thead th {\n",
       "        text-align: right;\n",
       "    }\n",
       "</style>\n",
       "<table border=\"1\" class=\"dataframe\">\n",
       "  <thead>\n",
       "    <tr style=\"text-align: right;\">\n",
       "      <th></th>\n",
       "      <th>text</th>\n",
       "      <th>toxic</th>\n",
       "    </tr>\n",
       "  </thead>\n",
       "  <tbody>\n",
       "    <tr>\n",
       "      <th>0</th>\n",
       "      <td>Explanation\\nWhy the edits made under my usern...</td>\n",
       "      <td>0</td>\n",
       "    </tr>\n",
       "    <tr>\n",
       "      <th>1</th>\n",
       "      <td>D'aww! He matches this background colour I'm s...</td>\n",
       "      <td>0</td>\n",
       "    </tr>\n",
       "    <tr>\n",
       "      <th>2</th>\n",
       "      <td>Hey man, I'm really not trying to edit war. It...</td>\n",
       "      <td>0</td>\n",
       "    </tr>\n",
       "    <tr>\n",
       "      <th>3</th>\n",
       "      <td>\"\\nMore\\nI can't make any real suggestions on ...</td>\n",
       "      <td>0</td>\n",
       "    </tr>\n",
       "    <tr>\n",
       "      <th>4</th>\n",
       "      <td>You, sir, are my hero. Any chance you remember...</td>\n",
       "      <td>0</td>\n",
       "    </tr>\n",
       "    <tr>\n",
       "      <th>5</th>\n",
       "      <td>\"\\n\\nCongratulations from me as well, use the ...</td>\n",
       "      <td>0</td>\n",
       "    </tr>\n",
       "    <tr>\n",
       "      <th>6</th>\n",
       "      <td>COCKSUCKER BEFORE YOU PISS AROUND ON MY WORK</td>\n",
       "      <td>1</td>\n",
       "    </tr>\n",
       "    <tr>\n",
       "      <th>7</th>\n",
       "      <td>Your vandalism to the Matt Shirvington article...</td>\n",
       "      <td>0</td>\n",
       "    </tr>\n",
       "    <tr>\n",
       "      <th>8</th>\n",
       "      <td>Sorry if the word 'nonsense' was offensive to ...</td>\n",
       "      <td>0</td>\n",
       "    </tr>\n",
       "    <tr>\n",
       "      <th>9</th>\n",
       "      <td>alignment on this subject and which are contra...</td>\n",
       "      <td>0</td>\n",
       "    </tr>\n",
       "  </tbody>\n",
       "</table>\n",
       "</div>"
      ],
      "text/plain": [
       "                                                text  toxic\n",
       "0  Explanation\\nWhy the edits made under my usern...      0\n",
       "1  D'aww! He matches this background colour I'm s...      0\n",
       "2  Hey man, I'm really not trying to edit war. It...      0\n",
       "3  \"\\nMore\\nI can't make any real suggestions on ...      0\n",
       "4  You, sir, are my hero. Any chance you remember...      0\n",
       "5  \"\\n\\nCongratulations from me as well, use the ...      0\n",
       "6       COCKSUCKER BEFORE YOU PISS AROUND ON MY WORK      1\n",
       "7  Your vandalism to the Matt Shirvington article...      0\n",
       "8  Sorry if the word 'nonsense' was offensive to ...      0\n",
       "9  alignment on this subject and which are contra...      0"
      ]
     },
     "execution_count": 4,
     "metadata": {},
     "output_type": "execute_result"
    }
   ],
   "source": [
    "toxic_data.head(10)"
   ]
  },
  {
   "cell_type": "code",
   "execution_count": 5,
   "metadata": {},
   "outputs": [],
   "source": [
    "#создадим функцию для лемматизации и очистки текста\n",
    "def lemmatize(text):\n",
    "    cleaned_text = []\n",
    "    document = list(nlp.pipe(text, batch_size=20000))\n",
    "    for doc in document:\n",
    "        sent = [\n",
    "            str(token.lemma_).lower()\n",
    "            for token in doc\n",
    "            if not token.is_punct\n",
    "            and not token.is_stop\n",
    "            and not token.like_num\n",
    "            and token.is_alpha\n",
    "        ]\n",
    "        cleaned_text.append(\" \".join(sent))\n",
    "    return cleaned_text"
   ]
  },
  {
   "cell_type": "code",
   "execution_count": 6,
   "metadata": {},
   "outputs": [
    {
     "name": "stdout",
     "output_type": "stream",
     "text": [
      "                                                text\n",
      "0  The striped bats are hanging on their feet for...\n",
      "1      you should be ashamed of yourself went worked\n"
     ]
    }
   ],
   "source": [
    "#создадим тестовый датафрейм для проверки работы лемматизатора\n",
    "sentence1 = \"The striped bats are hanging on their feet for best\"\n",
    "sentence2 = \"you should be ashamed of yourself went worked\"\n",
    "df_my = pd.DataFrame([sentence1, sentence2], columns = ['text'])\n",
    "print(df_my)"
   ]
  },
  {
   "cell_type": "code",
   "execution_count": 7,
   "metadata": {},
   "outputs": [
    {
     "name": "stdout",
     "output_type": "stream",
     "text": [
      "0    stripe bat hang foot good\n",
      "1              ashamed go work\n",
      "dtype: object\n"
     ]
    }
   ],
   "source": [
    "print(df_my.apply(lambda x: lemmatize(x[['text']]), axis=1).map(' '.join))"
   ]
  },
  {
   "cell_type": "markdown",
   "metadata": {},
   "source": [
    "Проверили, что лемматизатор работает верно, применим функцию ко всему датасету"
   ]
  },
  {
   "cell_type": "code",
   "execution_count": 8,
   "metadata": {},
   "outputs": [
    {
     "data": {
      "application/vnd.jupyter.widget-view+json": {
       "model_id": "bc49f793455e44f59618693e637269c5",
       "version_major": 2,
       "version_minor": 0
      },
      "text/plain": [
       "Processing:   0%|          | 0/159292 [00:00<?, ?it/s]"
      ]
     },
     "metadata": {},
     "output_type": "display_data"
    }
   ],
   "source": [
    "tqdm.pandas(desc=\"Processing\")\n",
    "\n",
    "#примененим функцию к тексту\n",
    "toxic_data['lemm_text'] = toxic_data.progress_apply(lambda x: lemmatize(x[['text']]), axis=1).map(' '.join)"
   ]
  },
  {
   "cell_type": "code",
   "execution_count": 9,
   "metadata": {},
   "outputs": [
    {
     "data": {
      "text/html": [
       "<div>\n",
       "<style scoped>\n",
       "    .dataframe tbody tr th:only-of-type {\n",
       "        vertical-align: middle;\n",
       "    }\n",
       "\n",
       "    .dataframe tbody tr th {\n",
       "        vertical-align: top;\n",
       "    }\n",
       "\n",
       "    .dataframe thead th {\n",
       "        text-align: right;\n",
       "    }\n",
       "</style>\n",
       "<table border=\"1\" class=\"dataframe\">\n",
       "  <thead>\n",
       "    <tr style=\"text-align: right;\">\n",
       "      <th></th>\n",
       "      <th>text</th>\n",
       "      <th>toxic</th>\n",
       "      <th>lemm_text</th>\n",
       "    </tr>\n",
       "  </thead>\n",
       "  <tbody>\n",
       "    <tr>\n",
       "      <th>0</th>\n",
       "      <td>Explanation\\nWhy the edits made under my usern...</td>\n",
       "      <td>0</td>\n",
       "      <td>explanation edit username hardcore metallica f...</td>\n",
       "    </tr>\n",
       "    <tr>\n",
       "      <th>1</th>\n",
       "      <td>D'aww! He matches this background colour I'm s...</td>\n",
       "      <td>0</td>\n",
       "      <td>match background colour seemingly stuck thank ...</td>\n",
       "    </tr>\n",
       "    <tr>\n",
       "      <th>2</th>\n",
       "      <td>Hey man, I'm really not trying to edit war. It...</td>\n",
       "      <td>0</td>\n",
       "      <td>hey man try edit war guy constantly remove rel...</td>\n",
       "    </tr>\n",
       "    <tr>\n",
       "      <th>3</th>\n",
       "      <td>\"\\nMore\\nI can't make any real suggestions on ...</td>\n",
       "      <td>0</td>\n",
       "      <td>real suggestion improvement wonder section sta...</td>\n",
       "    </tr>\n",
       "    <tr>\n",
       "      <th>4</th>\n",
       "      <td>You, sir, are my hero. Any chance you remember...</td>\n",
       "      <td>0</td>\n",
       "      <td>sir hero chance remember page</td>\n",
       "    </tr>\n",
       "  </tbody>\n",
       "</table>\n",
       "</div>"
      ],
      "text/plain": [
       "                                                text  toxic  \\\n",
       "0  Explanation\\nWhy the edits made under my usern...      0   \n",
       "1  D'aww! He matches this background colour I'm s...      0   \n",
       "2  Hey man, I'm really not trying to edit war. It...      0   \n",
       "3  \"\\nMore\\nI can't make any real suggestions on ...      0   \n",
       "4  You, sir, are my hero. Any chance you remember...      0   \n",
       "\n",
       "                                           lemm_text  \n",
       "0  explanation edit username hardcore metallica f...  \n",
       "1  match background colour seemingly stuck thank ...  \n",
       "2  hey man try edit war guy constantly remove rel...  \n",
       "3  real suggestion improvement wonder section sta...  \n",
       "4                      sir hero chance remember page  "
      ]
     },
     "execution_count": 9,
     "metadata": {},
     "output_type": "execute_result"
    }
   ],
   "source": [
    "toxic_data.head()"
   ]
  },
  {
   "cell_type": "code",
   "execution_count": 10,
   "metadata": {},
   "outputs": [
    {
     "data": {
      "text/plain": [
       "<AxesSubplot:>"
      ]
     },
     "execution_count": 10,
     "metadata": {},
     "output_type": "execute_result"
    },
    {
     "data": {
      "image/png": "[encoded data removed]",
      "text/plain": [
       "<Figure size 432x288 with 1 Axes>"
      ]
     },
     "metadata": {
      "needs_background": "light"
     },
     "output_type": "display_data"
    }
   ],
   "source": [
    "#посмотрим на баланс классов целевого признака в выборке\n",
    "toxic_data['toxic'].hist()"
   ]
  },
  {
   "cell_type": "markdown",
   "metadata": {},
   "source": [
    "Видим, что есть сильный дисбаланс классов - будем использовать инструменты для балансирования при обучении моделей"
   ]
  },
  {
   "cell_type": "code",
   "execution_count": 11,
   "metadata": {},
   "outputs": [],
   "source": [
    "#скопируем датасет\n",
    "df = toxic_data.copy()"
   ]
  },
  {
   "cell_type": "code",
   "execution_count": 12,
   "metadata": {},
   "outputs": [],
   "source": [
    "RANDOM_STATE=42\n",
    "\n",
    "#выделяем в отдельные переменные целевой признак и входные признаки\n",
    "y = df['toxic']\n",
    "X = df.drop(['toxic', 'text'], axis = 1)"
   ]
  },
  {
   "cell_type": "code",
   "execution_count": 13,
   "metadata": {},
   "outputs": [],
   "source": [
    "#разделим выборку на тестовую и тренировочную   \n",
    "X_train, X_test, y_train, y_test = train_test_split(X, y, test_size = 0.3, stratify = y)"
   ]
  },
  {
   "cell_type": "markdown",
   "metadata": {},
   "source": [
    "### Вывод\n",
    "Загрузили и подготовили данные. Был отмечен сильный дисбаланс классов в целевом признаке. Провели лемматизацию и очистку текста. Рассчитали величины TF-IDF для создания признаков для обучения моделей"
   ]
  },
  {
   "cell_type": "markdown",
   "metadata": {},
   "source": [
    "## Обучение"
   ]
  },
  {
   "cell_type": "code",
   "execution_count": 18,
   "metadata": {},
   "outputs": [],
   "source": [
    "#создаём итоговый пайплайн\n",
    "pipe_final = Pipeline([\n",
    "    ('vect', ColumnTransformer([\n",
    "            ('tfidf', TfidfVectorizer(), 'lemm_text')\n",
    "        ], remainder='drop' \n",
    "        )),\n",
    "    ('models', DecisionTreeClassifier(random_state=RANDOM_STATE))\n",
    "])"
   ]
  },
  {
   "cell_type": "code",
   "execution_count": 19,
   "metadata": {},
   "outputs": [],
   "source": [
    "param_grid = [\n",
    "    #словарь для модели DecisionTreeClassifier()\n",
    "    {\n",
    "        'models': [DecisionTreeClassifier(random_state=RANDOM_STATE, class_weight='balanced')],\n",
    "        'models__max_depth': range(3, 9),\n",
    "        'models__min_samples_leaf': range(2, 7) \n",
    "    },\n",
    "\n",
    "    #словарь для модели LogisticRegression()\n",
    "    {\n",
    "        'models': [LogisticRegression(\n",
    "            random_state=RANDOM_STATE, \n",
    "            solver='liblinear', \n",
    "            #penalty='l2',\n",
    "            max_iter=3000,\n",
    "            class_weight='balanced'\n",
    "        )],\n",
    "        'models__C': [5, 10, 15],\n",
    "        'models__penalty': ['l1', 'l2']\n",
    "    },\n",
    "    \n",
    "     #словарь для модели CatBoostClassifier()\n",
    "    {\n",
    "        'models': [CatBoostClassifier(random_state=RANDOM_STATE, auto_class_weights='Balanced')],\n",
    "        'models__depth': [4, 6],\n",
    "        'models__iterations': [10, 50]\n",
    "    }\n",
    "]"
   ]
  },
  {
   "cell_type": "code",
   "execution_count": 20,
   "metadata": {
    "scrolled": false
   },
   "outputs": [
    {
     "name": "stdout",
     "output_type": "stream",
     "text": [
      "Learning rate set to 0.5\n",
      "0:\tlearn: 0.5919656\ttotal: 819ms\tremaining: 40.1s\n",
      "1:\tlearn: 0.5374784\ttotal: 1.45s\tremaining: 34.9s\n",
      "2:\tlearn: 0.5111842\ttotal: 2.08s\tremaining: 32.6s\n",
      "3:\tlearn: 0.4920022\ttotal: 2.73s\tremaining: 31.4s\n",
      "4:\tlearn: 0.4805025\ttotal: 3.34s\tremaining: 30s\n",
      "5:\tlearn: 0.4691201\ttotal: 3.95s\tremaining: 28.9s\n",
      "6:\tlearn: 0.4563681\ttotal: 4.56s\tremaining: 28s\n",
      "7:\tlearn: 0.4484333\ttotal: 5.16s\tremaining: 27.1s\n",
      "8:\tlearn: 0.4362912\ttotal: 5.76s\tremaining: 26.3s\n",
      "9:\tlearn: 0.4316181\ttotal: 6.38s\tremaining: 25.5s\n",
      "10:\tlearn: 0.4261078\ttotal: 6.98s\tremaining: 24.8s\n",
      "11:\tlearn: 0.4204315\ttotal: 7.6s\tremaining: 24.1s\n",
      "12:\tlearn: 0.4135740\ttotal: 8.2s\tremaining: 23.3s\n",
      "13:\tlearn: 0.4072863\ttotal: 8.78s\tremaining: 22.6s\n",
      "14:\tlearn: 0.4049555\ttotal: 9.35s\tremaining: 21.8s\n",
      "15:\tlearn: 0.4006049\ttotal: 9.97s\tremaining: 21.2s\n",
      "16:\tlearn: 0.3967280\ttotal: 10.6s\tremaining: 20.5s\n",
      "17:\tlearn: 0.3930341\ttotal: 11.2s\tremaining: 19.9s\n",
      "18:\tlearn: 0.3900685\ttotal: 11.8s\tremaining: 19.3s\n",
      "19:\tlearn: 0.3870506\ttotal: 12.4s\tremaining: 18.6s\n",
      "20:\tlearn: 0.3840426\ttotal: 13s\tremaining: 18s\n",
      "21:\tlearn: 0.3799525\ttotal: 13.6s\tremaining: 17.3s\n",
      "22:\tlearn: 0.3758489\ttotal: 14.2s\tremaining: 16.7s\n",
      "23:\tlearn: 0.3718115\ttotal: 14.8s\tremaining: 16s\n",
      "24:\tlearn: 0.3677669\ttotal: 15.4s\tremaining: 15.4s\n",
      "25:\tlearn: 0.3648080\ttotal: 16s\tremaining: 14.8s\n",
      "26:\tlearn: 0.3615735\ttotal: 16.6s\tremaining: 14.1s\n",
      "27:\tlearn: 0.3589554\ttotal: 17.2s\tremaining: 13.5s\n",
      "28:\tlearn: 0.3559537\ttotal: 17.8s\tremaining: 12.9s\n",
      "29:\tlearn: 0.3530387\ttotal: 18.4s\tremaining: 12.2s\n",
      "30:\tlearn: 0.3480999\ttotal: 18.9s\tremaining: 11.6s\n",
      "31:\tlearn: 0.3453582\ttotal: 19.6s\tremaining: 11s\n",
      "32:\tlearn: 0.3430009\ttotal: 20.1s\tremaining: 10.4s\n",
      "33:\tlearn: 0.3409102\ttotal: 20.7s\tremaining: 9.74s\n",
      "34:\tlearn: 0.3387577\ttotal: 21.3s\tremaining: 9.11s\n",
      "35:\tlearn: 0.3371717\ttotal: 21.8s\tremaining: 8.48s\n",
      "36:\tlearn: 0.3353173\ttotal: 22.4s\tremaining: 7.88s\n",
      "37:\tlearn: 0.3322324\ttotal: 23s\tremaining: 7.27s\n",
      "38:\tlearn: 0.3302355\ttotal: 23.6s\tremaining: 6.66s\n",
      "39:\tlearn: 0.3279877\ttotal: 24.2s\tremaining: 6.05s\n",
      "40:\tlearn: 0.3262435\ttotal: 24.8s\tremaining: 5.44s\n",
      "41:\tlearn: 0.3244890\ttotal: 25.4s\tremaining: 4.83s\n",
      "42:\tlearn: 0.3224055\ttotal: 26s\tremaining: 4.22s\n",
      "43:\tlearn: 0.3207728\ttotal: 26.5s\tremaining: 3.62s\n",
      "44:\tlearn: 0.3192754\ttotal: 27.1s\tremaining: 3.01s\n",
      "45:\tlearn: 0.3173031\ttotal: 27.7s\tremaining: 2.41s\n",
      "46:\tlearn: 0.3158878\ttotal: 28.2s\tremaining: 1.8s\n",
      "47:\tlearn: 0.3138823\ttotal: 28.8s\tremaining: 1.2s\n",
      "48:\tlearn: 0.3109360\ttotal: 29.4s\tremaining: 600ms\n",
      "49:\tlearn: 0.3094738\ttotal: 30s\tremaining: 0us\n",
      "Learning rate set to 0.5\n",
      "0:\tlearn: 0.5866276\ttotal: 722ms\tremaining: 35.4s\n",
      "1:\tlearn: 0.5367794\ttotal: 1.34s\tremaining: 32.2s\n",
      "2:\tlearn: 0.5080363\ttotal: 1.96s\tremaining: 30.7s\n",
      "3:\tlearn: 0.4920312\ttotal: 2.57s\tremaining: 29.5s\n",
      "4:\tlearn: 0.4772759\ttotal: 3.16s\tremaining: 28.5s\n",
      "5:\tlearn: 0.4679540\ttotal: 3.75s\tremaining: 27.5s\n",
      "6:\tlearn: 0.4556156\ttotal: 4.34s\tremaining: 26.7s\n",
      "7:\tlearn: 0.4461343\ttotal: 4.95s\tremaining: 26s\n",
      "8:\tlearn: 0.4401120\ttotal: 5.53s\tremaining: 25.2s\n",
      "9:\tlearn: 0.4318307\ttotal: 6.12s\tremaining: 24.5s\n",
      "10:\tlearn: 0.4254105\ttotal: 6.71s\tremaining: 23.8s\n",
      "11:\tlearn: 0.4160559\ttotal: 7.29s\tremaining: 23.1s\n",
      "12:\tlearn: 0.4112254\ttotal: 7.89s\tremaining: 22.4s\n",
      "13:\tlearn: 0.4058897\ttotal: 8.47s\tremaining: 21.8s\n",
      "14:\tlearn: 0.4014771\ttotal: 9.02s\tremaining: 21.1s\n",
      "15:\tlearn: 0.3970780\ttotal: 9.6s\tremaining: 20.4s\n",
      "16:\tlearn: 0.3925859\ttotal: 10.2s\tremaining: 19.8s\n",
      "17:\tlearn: 0.3888652\ttotal: 10.8s\tremaining: 19.2s\n",
      "18:\tlearn: 0.3859828\ttotal: 11.4s\tremaining: 18.5s\n",
      "19:\tlearn: 0.3836536\ttotal: 11.9s\tremaining: 17.9s\n",
      "20:\tlearn: 0.3792017\ttotal: 12.6s\tremaining: 17.4s\n",
      "21:\tlearn: 0.3728552\ttotal: 13.2s\tremaining: 16.7s\n",
      "22:\tlearn: 0.3696475\ttotal: 13.8s\tremaining: 16.1s\n",
      "23:\tlearn: 0.3668654\ttotal: 14.4s\tremaining: 15.6s\n",
      "24:\tlearn: 0.3634280\ttotal: 15s\tremaining: 15s\n",
      "25:\tlearn: 0.3590199\ttotal: 15.6s\tremaining: 14.4s\n",
      "26:\tlearn: 0.3563472\ttotal: 16.1s\tremaining: 13.8s\n",
      "27:\tlearn: 0.3535392\ttotal: 16.7s\tremaining: 13.1s\n",
      "28:\tlearn: 0.3507817\ttotal: 17.3s\tremaining: 12.5s\n",
      "29:\tlearn: 0.3483397\ttotal: 17.9s\tremaining: 11.9s\n",
      "30:\tlearn: 0.3459152\ttotal: 18.4s\tremaining: 11.3s\n",
      "31:\tlearn: 0.3434014\ttotal: 19s\tremaining: 10.7s\n",
      "32:\tlearn: 0.3409297\ttotal: 19.6s\tremaining: 10.1s\n",
      "33:\tlearn: 0.3386836\ttotal: 20.2s\tremaining: 9.5s\n",
      "34:\tlearn: 0.3354389\ttotal: 20.8s\tremaining: 8.9s\n",
      "35:\tlearn: 0.3333332\ttotal: 21.4s\tremaining: 8.31s\n",
      "36:\tlearn: 0.3315357\ttotal: 21.9s\tremaining: 7.7s\n",
      "37:\tlearn: 0.3296718\ttotal: 22.5s\tremaining: 7.12s\n",
      "38:\tlearn: 0.3280183\ttotal: 23.1s\tremaining: 6.51s\n",
      "39:\tlearn: 0.3259550\ttotal: 23.7s\tremaining: 5.92s\n",
      "40:\tlearn: 0.3241993\ttotal: 24.2s\tremaining: 5.32s\n",
      "41:\tlearn: 0.3216778\ttotal: 24.8s\tremaining: 4.73s\n",
      "42:\tlearn: 0.3201926\ttotal: 25.4s\tremaining: 4.13s\n",
      "43:\tlearn: 0.3185055\ttotal: 25.9s\tremaining: 3.54s\n",
      "44:\tlearn: 0.3166438\ttotal: 26.5s\tremaining: 2.94s\n",
      "45:\tlearn: 0.3150422\ttotal: 27.1s\tremaining: 2.35s\n",
      "46:\tlearn: 0.3137253\ttotal: 27.6s\tremaining: 1.76s\n",
      "47:\tlearn: 0.3109490\ttotal: 28.2s\tremaining: 1.17s\n",
      "48:\tlearn: 0.3093596\ttotal: 28.8s\tremaining: 587ms\n",
      "49:\tlearn: 0.3080745\ttotal: 29.3s\tremaining: 0us\n",
      "Learning rate set to 0.5\n",
      "0:\tlearn: 0.5890161\ttotal: 767ms\tremaining: 37.6s\n",
      "1:\tlearn: 0.5403135\ttotal: 1.4s\tremaining: 33.6s\n",
      "2:\tlearn: 0.5114100\ttotal: 2.02s\tremaining: 31.7s\n",
      "3:\tlearn: 0.4990235\ttotal: 2.64s\tremaining: 30.4s\n",
      "4:\tlearn: 0.4863109\ttotal: 3.25s\tremaining: 29.3s\n",
      "5:\tlearn: 0.4740301\ttotal: 3.85s\tremaining: 28.2s\n",
      "6:\tlearn: 0.4606695\ttotal: 4.46s\tremaining: 27.4s\n",
      "7:\tlearn: 0.4504390\ttotal: 5.05s\tremaining: 26.5s\n",
      "8:\tlearn: 0.4351910\ttotal: 5.67s\tremaining: 25.9s\n",
      "9:\tlearn: 0.4284251\ttotal: 6.27s\tremaining: 25.1s\n",
      "10:\tlearn: 0.4235432\ttotal: 6.85s\tremaining: 24.3s\n",
      "11:\tlearn: 0.4202763\ttotal: 7.46s\tremaining: 23.6s\n",
      "12:\tlearn: 0.4157189\ttotal: 8.09s\tremaining: 23s\n",
      "13:\tlearn: 0.4115279\ttotal: 8.7s\tremaining: 22.4s\n",
      "14:\tlearn: 0.4062408\ttotal: 9.31s\tremaining: 21.7s\n",
      "15:\tlearn: 0.4027817\ttotal: 9.94s\tremaining: 21.1s\n",
      "16:\tlearn: 0.3987710\ttotal: 10.5s\tremaining: 20.5s\n",
      "17:\tlearn: 0.3951089\ttotal: 11.1s\tremaining: 19.8s\n",
      "18:\tlearn: 0.3912553\ttotal: 11.7s\tremaining: 19.2s\n",
      "19:\tlearn: 0.3866607\ttotal: 12.3s\tremaining: 18.5s\n",
      "20:\tlearn: 0.3833278\ttotal: 12.9s\tremaining: 17.8s\n",
      "21:\tlearn: 0.3789037\ttotal: 13.5s\tremaining: 17.2s\n",
      "22:\tlearn: 0.3746740\ttotal: 14.2s\tremaining: 16.6s\n",
      "23:\tlearn: 0.3719599\ttotal: 14.8s\tremaining: 16s\n",
      "24:\tlearn: 0.3687148\ttotal: 15.4s\tremaining: 15.4s\n",
      "25:\tlearn: 0.3657094\ttotal: 16s\tremaining: 14.7s\n",
      "26:\tlearn: 0.3622156\ttotal: 16.6s\tremaining: 14.1s\n",
      "27:\tlearn: 0.3588896\ttotal: 17.2s\tremaining: 13.5s\n",
      "28:\tlearn: 0.3527411\ttotal: 17.7s\tremaining: 12.8s\n",
      "29:\tlearn: 0.3502845\ttotal: 18.3s\tremaining: 12.2s\n",
      "30:\tlearn: 0.3480946\ttotal: 18.9s\tremaining: 11.6s\n",
      "31:\tlearn: 0.3454807\ttotal: 19.5s\tremaining: 11s\n",
      "32:\tlearn: 0.3430315\ttotal: 20.1s\tremaining: 10.3s\n",
      "33:\tlearn: 0.3406143\ttotal: 20.7s\tremaining: 9.72s\n",
      "34:\tlearn: 0.3381617\ttotal: 21.3s\tremaining: 9.12s\n",
      "35:\tlearn: 0.3347233\ttotal: 21.9s\tremaining: 8.5s\n",
      "36:\tlearn: 0.3324007\ttotal: 22.4s\tremaining: 7.88s\n",
      "37:\tlearn: 0.3302276\ttotal: 23s\tremaining: 7.26s\n",
      "38:\tlearn: 0.3282095\ttotal: 23.6s\tremaining: 6.65s\n",
      "39:\tlearn: 0.3265744\ttotal: 24.2s\tremaining: 6.05s\n",
      "40:\tlearn: 0.3250076\ttotal: 24.7s\tremaining: 5.43s\n",
      "41:\tlearn: 0.3231235\ttotal: 25.4s\tremaining: 4.83s\n",
      "42:\tlearn: 0.3213873\ttotal: 26s\tremaining: 4.23s\n",
      "43:\tlearn: 0.3196607\ttotal: 26.5s\tremaining: 3.62s\n",
      "44:\tlearn: 0.3182679\ttotal: 27.1s\tremaining: 3.01s\n",
      "45:\tlearn: 0.3167694\ttotal: 27.7s\tremaining: 2.41s\n",
      "46:\tlearn: 0.3145103\ttotal: 28.3s\tremaining: 1.81s\n",
      "47:\tlearn: 0.3130537\ttotal: 28.9s\tremaining: 1.2s\n",
      "48:\tlearn: 0.3116023\ttotal: 29.4s\tremaining: 601ms\n",
      "49:\tlearn: 0.3094949\ttotal: 30s\tremaining: 0us\n",
      "Learning rate set to 0.5\n",
      "0:\tlearn: 0.5630694\ttotal: 1.71s\tremaining: 1m 23s\n",
      "1:\tlearn: 0.5121457\ttotal: 2.98s\tremaining: 1m 11s\n",
      "2:\tlearn: 0.4923828\ttotal: 4.21s\tremaining: 1m 5s\n",
      "3:\tlearn: 0.4723820\ttotal: 5.47s\tremaining: 1m 2s\n",
      "4:\tlearn: 0.4522179\ttotal: 6.7s\tremaining: 1m\n",
      "5:\tlearn: 0.4397506\ttotal: 7.93s\tremaining: 58.2s\n",
      "6:\tlearn: 0.4317060\ttotal: 9.17s\tremaining: 56.4s\n",
      "7:\tlearn: 0.4228725\ttotal: 10.4s\tremaining: 54.6s\n",
      "8:\tlearn: 0.4152593\ttotal: 11.7s\tremaining: 53.1s\n",
      "9:\tlearn: 0.4078039\ttotal: 12.9s\tremaining: 51.7s\n",
      "10:\tlearn: 0.4034002\ttotal: 14.1s\tremaining: 50.1s\n",
      "11:\tlearn: 0.3957217\ttotal: 15.4s\tremaining: 48.7s\n",
      "12:\tlearn: 0.3889038\ttotal: 16.6s\tremaining: 47.2s\n",
      "13:\tlearn: 0.3827925\ttotal: 17.8s\tremaining: 45.8s\n",
      "14:\tlearn: 0.3801193\ttotal: 19s\tremaining: 44.4s\n",
      "15:\tlearn: 0.3764703\ttotal: 20.2s\tremaining: 43s\n",
      "16:\tlearn: 0.3737163\ttotal: 21.5s\tremaining: 41.7s\n",
      "17:\tlearn: 0.3709706\ttotal: 22.7s\tremaining: 40.4s\n",
      "18:\tlearn: 0.3658877\ttotal: 24s\tremaining: 39.1s\n",
      "19:\tlearn: 0.3610656\ttotal: 25.2s\tremaining: 37.8s\n",
      "20:\tlearn: 0.3572354\ttotal: 26.4s\tremaining: 36.5s\n",
      "21:\tlearn: 0.3528329\ttotal: 27.6s\tremaining: 35.1s\n",
      "22:\tlearn: 0.3503311\ttotal: 28.8s\tremaining: 33.8s\n",
      "23:\tlearn: 0.3434711\ttotal: 30s\tremaining: 32.5s\n",
      "24:\tlearn: 0.3397961\ttotal: 31.2s\tremaining: 31.2s\n",
      "25:\tlearn: 0.3370036\ttotal: 32.4s\tremaining: 29.9s\n",
      "26:\tlearn: 0.3341522\ttotal: 33.6s\tremaining: 28.6s\n",
      "27:\tlearn: 0.3308295\ttotal: 34.8s\tremaining: 27.3s\n",
      "28:\tlearn: 0.3281532\ttotal: 36s\tremaining: 26s\n",
      "29:\tlearn: 0.3245603\ttotal: 37.2s\tremaining: 24.8s\n",
      "30:\tlearn: 0.3214328\ttotal: 38.4s\tremaining: 23.5s\n",
      "31:\tlearn: 0.3189692\ttotal: 39.6s\tremaining: 22.3s\n",
      "32:\tlearn: 0.3164204\ttotal: 40.8s\tremaining: 21s\n",
      "33:\tlearn: 0.3123746\ttotal: 42s\tremaining: 19.8s\n",
      "34:\tlearn: 0.3101495\ttotal: 43.2s\tremaining: 18.5s\n",
      "35:\tlearn: 0.3081542\ttotal: 44.4s\tremaining: 17.3s\n",
      "36:\tlearn: 0.3058138\ttotal: 45.6s\tremaining: 16s\n",
      "37:\tlearn: 0.3037847\ttotal: 46.7s\tremaining: 14.8s\n",
      "38:\tlearn: 0.3023108\ttotal: 47.9s\tremaining: 13.5s\n",
      "39:\tlearn: 0.2998294\ttotal: 49.2s\tremaining: 12.3s\n",
      "40:\tlearn: 0.2975285\ttotal: 50.4s\tremaining: 11.1s\n",
      "41:\tlearn: 0.2959370\ttotal: 51.6s\tremaining: 9.82s\n",
      "42:\tlearn: 0.2940640\ttotal: 52.8s\tremaining: 8.59s\n",
      "43:\tlearn: 0.2923259\ttotal: 53.9s\tremaining: 7.36s\n",
      "44:\tlearn: 0.2887735\ttotal: 55.2s\tremaining: 6.13s\n",
      "45:\tlearn: 0.2869250\ttotal: 56.4s\tremaining: 4.9s\n",
      "46:\tlearn: 0.2852566\ttotal: 57.5s\tremaining: 3.67s\n",
      "47:\tlearn: 0.2840317\ttotal: 58.7s\tremaining: 2.44s\n",
      "48:\tlearn: 0.2822395\ttotal: 59.9s\tremaining: 1.22s\n",
      "49:\tlearn: 0.2806531\ttotal: 1m 1s\tremaining: 0us\n",
      "Learning rate set to 0.5\n",
      "0:\tlearn: 0.5599489\ttotal: 1.7s\tremaining: 1m 23s\n",
      "1:\tlearn: 0.5148754\ttotal: 2.96s\tremaining: 1m 10s\n",
      "2:\tlearn: 0.4939622\ttotal: 4.19s\tremaining: 1m 5s\n",
      "3:\tlearn: 0.4702157\ttotal: 5.46s\tremaining: 1m 2s\n",
      "4:\tlearn: 0.4608676\ttotal: 6.71s\tremaining: 1m\n",
      "5:\tlearn: 0.4478875\ttotal: 7.94s\tremaining: 58.2s\n",
      "6:\tlearn: 0.4362166\ttotal: 9.14s\tremaining: 56.1s\n",
      "7:\tlearn: 0.4281965\ttotal: 10.3s\tremaining: 54.3s\n",
      "8:\tlearn: 0.4170717\ttotal: 11.6s\tremaining: 52.7s\n",
      "9:\tlearn: 0.4104177\ttotal: 12.8s\tremaining: 51.1s\n",
      "10:\tlearn: 0.4023463\ttotal: 14s\tremaining: 49.6s\n",
      "11:\tlearn: 0.3977208\ttotal: 15.2s\tremaining: 48.2s\n",
      "12:\tlearn: 0.3905970\ttotal: 16.4s\tremaining: 46.7s\n",
      "13:\tlearn: 0.3870396\ttotal: 17.6s\tremaining: 45.3s\n",
      "14:\tlearn: 0.3823373\ttotal: 18.8s\tremaining: 43.9s\n",
      "15:\tlearn: 0.3795178\ttotal: 20s\tremaining: 42.5s\n",
      "16:\tlearn: 0.3731202\ttotal: 21.2s\tremaining: 41.1s\n",
      "17:\tlearn: 0.3710414\ttotal: 22.4s\tremaining: 39.8s\n",
      "18:\tlearn: 0.3665105\ttotal: 23.6s\tremaining: 38.5s\n",
      "19:\tlearn: 0.3633636\ttotal: 24.9s\tremaining: 37.3s\n",
      "20:\tlearn: 0.3606223\ttotal: 26.1s\tremaining: 36s\n",
      "21:\tlearn: 0.3577207\ttotal: 27.3s\tremaining: 34.7s\n",
      "22:\tlearn: 0.3540740\ttotal: 28.5s\tremaining: 33.4s\n",
      "23:\tlearn: 0.3499386\ttotal: 29.7s\tremaining: 32.1s\n",
      "24:\tlearn: 0.3462530\ttotal: 30.9s\tremaining: 30.9s\n",
      "25:\tlearn: 0.3430989\ttotal: 32.1s\tremaining: 29.6s\n",
      "26:\tlearn: 0.3393748\ttotal: 33.2s\tremaining: 28.3s\n",
      "27:\tlearn: 0.3355752\ttotal: 34.4s\tremaining: 27s\n",
      "28:\tlearn: 0.3311271\ttotal: 35.6s\tremaining: 25.8s\n",
      "29:\tlearn: 0.3280676\ttotal: 36.7s\tremaining: 24.5s\n",
      "30:\tlearn: 0.3252335\ttotal: 37.9s\tremaining: 23.2s\n",
      "31:\tlearn: 0.3212784\ttotal: 39s\tremaining: 21.9s\n",
      "32:\tlearn: 0.3183213\ttotal: 40.2s\tremaining: 20.7s\n",
      "33:\tlearn: 0.3157418\ttotal: 41.3s\tremaining: 19.4s\n",
      "34:\tlearn: 0.3130596\ttotal: 42.5s\tremaining: 18.2s\n",
      "35:\tlearn: 0.3102088\ttotal: 43.6s\tremaining: 17s\n",
      "36:\tlearn: 0.3078130\ttotal: 44.8s\tremaining: 15.7s\n",
      "37:\tlearn: 0.3056565\ttotal: 45.9s\tremaining: 14.5s\n",
      "38:\tlearn: 0.3021230\ttotal: 47.1s\tremaining: 13.3s\n",
      "39:\tlearn: 0.3003798\ttotal: 48.2s\tremaining: 12s\n",
      "40:\tlearn: 0.2984554\ttotal: 49.3s\tremaining: 10.8s\n",
      "41:\tlearn: 0.2957820\ttotal: 50.5s\tremaining: 9.61s\n",
      "42:\tlearn: 0.2931654\ttotal: 51.6s\tremaining: 8.41s\n",
      "43:\tlearn: 0.2904092\ttotal: 52.8s\tremaining: 7.2s\n",
      "44:\tlearn: 0.2888246\ttotal: 54s\tremaining: 6s\n",
      "45:\tlearn: 0.2867517\ttotal: 55.2s\tremaining: 4.8s\n",
      "46:\tlearn: 0.2854610\ttotal: 56.4s\tremaining: 3.6s\n",
      "47:\tlearn: 0.2837940\ttotal: 57.6s\tremaining: 2.4s\n",
      "48:\tlearn: 0.2823073\ttotal: 58.7s\tremaining: 1.2s\n",
      "49:\tlearn: 0.2807923\ttotal: 59.9s\tremaining: 0us\n",
      "Learning rate set to 0.5\n",
      "0:\tlearn: 0.5621411\ttotal: 1.74s\tremaining: 1m 25s\n",
      "1:\tlearn: 0.5172956\ttotal: 2.97s\tremaining: 1m 11s\n",
      "2:\tlearn: 0.4947844\ttotal: 4.21s\tremaining: 1m 6s\n",
      "3:\tlearn: 0.4742731\ttotal: 5.44s\tremaining: 1m 2s\n",
      "4:\tlearn: 0.4538098\ttotal: 6.7s\tremaining: 1m\n",
      "5:\tlearn: 0.4441379\ttotal: 7.94s\tremaining: 58.2s\n",
      "6:\tlearn: 0.4326973\ttotal: 9.18s\tremaining: 56.4s\n",
      "7:\tlearn: 0.4245604\ttotal: 10.4s\tremaining: 54.5s\n",
      "8:\tlearn: 0.4159799\ttotal: 11.6s\tremaining: 52.8s\n",
      "9:\tlearn: 0.4094889\ttotal: 12.8s\tremaining: 51.2s\n",
      "10:\tlearn: 0.4038913\ttotal: 14s\tremaining: 49.6s\n",
      "11:\tlearn: 0.3967699\ttotal: 15.2s\tremaining: 48s\n",
      "12:\tlearn: 0.3917260\ttotal: 16.4s\tremaining: 46.6s\n",
      "13:\tlearn: 0.3865553\ttotal: 17.6s\tremaining: 45.3s\n",
      "14:\tlearn: 0.3831044\ttotal: 18.9s\tremaining: 44s\n",
      "15:\tlearn: 0.3780098\ttotal: 20.1s\tremaining: 42.7s\n",
      "16:\tlearn: 0.3747211\ttotal: 21.3s\tremaining: 41.3s\n",
      "17:\tlearn: 0.3721766\ttotal: 22.5s\tremaining: 40s\n",
      "18:\tlearn: 0.3700524\ttotal: 23.6s\tremaining: 38.6s\n",
      "19:\tlearn: 0.3666054\ttotal: 24.8s\tremaining: 37.2s\n",
      "20:\tlearn: 0.3642791\ttotal: 26s\tremaining: 36s\n",
      "21:\tlearn: 0.3607638\ttotal: 27.2s\tremaining: 34.7s\n",
      "22:\tlearn: 0.3579181\ttotal: 28.4s\tremaining: 33.4s\n",
      "23:\tlearn: 0.3534568\ttotal: 29.7s\tremaining: 32.2s\n",
      "24:\tlearn: 0.3454747\ttotal: 30.9s\tremaining: 30.9s\n",
      "25:\tlearn: 0.3412732\ttotal: 32.1s\tremaining: 29.6s\n",
      "26:\tlearn: 0.3377092\ttotal: 33.2s\tremaining: 28.3s\n",
      "27:\tlearn: 0.3330489\ttotal: 34.5s\tremaining: 27.1s\n",
      "28:\tlearn: 0.3292265\ttotal: 35.6s\tremaining: 25.8s\n",
      "29:\tlearn: 0.3257018\ttotal: 36.9s\tremaining: 24.6s\n",
      "30:\tlearn: 0.3233062\ttotal: 38s\tremaining: 23.3s\n",
      "31:\tlearn: 0.3194020\ttotal: 39.2s\tremaining: 22.1s\n",
      "32:\tlearn: 0.3166628\ttotal: 40.4s\tremaining: 20.8s\n",
      "33:\tlearn: 0.3144526\ttotal: 41.6s\tremaining: 19.6s\n",
      "34:\tlearn: 0.3113378\ttotal: 42.7s\tremaining: 18.3s\n",
      "35:\tlearn: 0.3088169\ttotal: 43.9s\tremaining: 17.1s\n",
      "36:\tlearn: 0.3060936\ttotal: 45.2s\tremaining: 15.9s\n",
      "37:\tlearn: 0.3040915\ttotal: 46.3s\tremaining: 14.6s\n",
      "38:\tlearn: 0.3013502\ttotal: 47.6s\tremaining: 13.4s\n",
      "39:\tlearn: 0.2991843\ttotal: 48.8s\tremaining: 12.2s\n",
      "40:\tlearn: 0.2968070\ttotal: 50s\tremaining: 11s\n",
      "41:\tlearn: 0.2946197\ttotal: 51.2s\tremaining: 9.75s\n",
      "42:\tlearn: 0.2925674\ttotal: 52.4s\tremaining: 8.53s\n",
      "43:\tlearn: 0.2910789\ttotal: 53.5s\tremaining: 7.3s\n",
      "44:\tlearn: 0.2896323\ttotal: 54.7s\tremaining: 6.08s\n",
      "45:\tlearn: 0.2876891\ttotal: 55.9s\tremaining: 4.86s\n",
      "46:\tlearn: 0.2861493\ttotal: 57s\tremaining: 3.64s\n",
      "47:\tlearn: 0.2838866\ttotal: 58.2s\tremaining: 2.42s\n",
      "48:\tlearn: 0.2825426\ttotal: 59.4s\tremaining: 1.21s\n",
      "49:\tlearn: 0.2804339\ttotal: 1m\tremaining: 0us\n",
      "Learning rate set to 0.5\n",
      "0:\tlearn: 0.5919656\ttotal: 774ms\tremaining: 6.97s\n",
      "1:\tlearn: 0.5374784\ttotal: 1.41s\tremaining: 5.63s\n",
      "2:\tlearn: 0.5111842\ttotal: 2.03s\tremaining: 4.75s\n",
      "3:\tlearn: 0.4920022\ttotal: 2.67s\tremaining: 4s\n",
      "4:\tlearn: 0.4805025\ttotal: 3.27s\tremaining: 3.27s\n",
      "5:\tlearn: 0.4691201\ttotal: 3.9s\tremaining: 2.6s\n",
      "6:\tlearn: 0.4563681\ttotal: 4.56s\tremaining: 1.95s\n",
      "7:\tlearn: 0.4484333\ttotal: 5.16s\tremaining: 1.29s\n",
      "8:\tlearn: 0.4362912\ttotal: 5.76s\tremaining: 641ms\n",
      "9:\tlearn: 0.4316181\ttotal: 6.37s\tremaining: 0us\n",
      "Learning rate set to 0.5\n",
      "0:\tlearn: 0.5866276\ttotal: 760ms\tremaining: 6.84s\n",
      "1:\tlearn: 0.5367794\ttotal: 1.38s\tremaining: 5.53s\n",
      "2:\tlearn: 0.5080363\ttotal: 2.01s\tremaining: 4.69s\n",
      "3:\tlearn: 0.4920312\ttotal: 2.63s\tremaining: 3.95s\n",
      "4:\tlearn: 0.4772759\ttotal: 3.23s\tremaining: 3.23s\n",
      "5:\tlearn: 0.4679540\ttotal: 3.84s\tremaining: 2.56s\n",
      "6:\tlearn: 0.4556156\ttotal: 4.45s\tremaining: 1.91s\n",
      "7:\tlearn: 0.4461343\ttotal: 5.09s\tremaining: 1.27s\n",
      "8:\tlearn: 0.4401120\ttotal: 5.7s\tremaining: 633ms\n",
      "9:\tlearn: 0.4318307\ttotal: 6.3s\tremaining: 0us\n",
      "Learning rate set to 0.5\n",
      "0:\tlearn: 0.5890161\ttotal: 767ms\tremaining: 6.9s\n",
      "1:\tlearn: 0.5403135\ttotal: 1.41s\tremaining: 5.65s\n",
      "2:\tlearn: 0.5114100\ttotal: 2.05s\tremaining: 4.78s\n",
      "3:\tlearn: 0.4990235\ttotal: 2.66s\tremaining: 4s\n",
      "4:\tlearn: 0.4863109\ttotal: 3.27s\tremaining: 3.27s\n",
      "5:\tlearn: 0.4740301\ttotal: 3.88s\tremaining: 2.59s\n",
      "6:\tlearn: 0.4606695\ttotal: 4.5s\tremaining: 1.93s\n",
      "7:\tlearn: 0.4504390\ttotal: 5.11s\tremaining: 1.28s\n",
      "8:\tlearn: 0.4351910\ttotal: 5.74s\tremaining: 638ms\n",
      "9:\tlearn: 0.4284251\ttotal: 6.35s\tremaining: 0us\n",
      "Лучшая модель и её параметры:\n",
      "\n",
      " Pipeline(steps=[('vect',\n",
      "                 ColumnTransformer(transformers=[('tfidf', TfidfVectorizer(),\n",
      "                                                  'lemm_text')])),\n",
      "                ('models',\n",
      "                 LogisticRegression(C=10, class_weight='balanced',\n",
      "                                    max_iter=3000, random_state=42,\n",
      "                                    solver='liblinear'))])\n",
      "Метрика лучшей модели на тренировочной выборке: 0.7595283762317094\n"
     ]
    }
   ],
   "source": [
    "randomized_search = RandomizedSearchCV(\n",
    "    pipe_final, \n",
    "    param_grid, \n",
    "    cv=3,\n",
    "    scoring='f1',\n",
    "    random_state=RANDOM_STATE,\n",
    "    n_jobs=-1,\n",
    "    n_iter=30\n",
    ")\n",
    "randomized_search.fit(X_train, y_train)\n",
    "\n",
    "print('Лучшая модель и её параметры:\\n\\n', randomized_search.best_estimator_)\n",
    "print ('Метрика лучшей модели на тренировочной выборке:', randomized_search.best_score_)"
   ]
  },
  {
   "cell_type": "code",
   "execution_count": 21,
   "metadata": {},
   "outputs": [],
   "source": [
    "#проверим работу модели на тестовой выборке\n",
    "pred = randomized_search.best_estimator_.predict(X_test)"
   ]
  },
  {
   "cell_type": "code",
   "execution_count": 22,
   "metadata": {},
   "outputs": [],
   "source": [
    "f1_score_test = f1_score(y_test, pred)"
   ]
  },
  {
   "cell_type": "code",
   "execution_count": 23,
   "metadata": {},
   "outputs": [
    {
     "name": "stdout",
     "output_type": "stream",
     "text": [
      "Метрика лучшей модели на тестовой выборке: 0.759517706256527\n"
     ]
    }
   ],
   "source": [
    "print(f'Метрика лучшей модели на тестовой выборке: {f1_score_test}')"
   ]
  },
  {
   "cell_type": "markdown",
   "metadata": {},
   "source": [
    "## Выводы"
   ]
  },
  {
   "cell_type": "markdown",
   "metadata": {},
   "source": [
    "В ходе проекта:\n",
    "1) Загрузили и подготовили данные. Был отмечен сильный дисбаланс классов в целевом признаке. Провели лемматизацию и очистку текста с помощью SpaCy. Рассчитали величины TF-IDF для создания признаков для обучения моделей\n",
    "\n",
    "2) Были обучены три модели: LogisticRegression, DecisionTreeClassifier, CatBoostClassifier. С помощью RandomizedSearchCV нашли лучшую модель с метрикой LogisticRegression на тренировочной выборке f1 - 0.76. \n",
    "\n",
    "На тестовой выборке получили метрику f1 - 0.76"
   ]
  }
 ],
 "metadata": {
  "ExecuteTimeLog": [
   {
    "duration": 423,
    "start_time": "2025-03-05T18:52:19.928Z"
   },
   {
    "duration": 922,
    "start_time": "2025-03-05T18:52:42.543Z"
   },
   {
    "duration": 19,
    "start_time": "2025-03-05T18:52:48.380Z"
   },
   {
    "duration": 93,
    "start_time": "2025-03-05T19:04:34.521Z"
   },
   {
    "duration": 880,
    "start_time": "2025-03-05T19:04:40.520Z"
   },
   {
    "duration": 902,
    "start_time": "2025-03-05T19:04:50.869Z"
   },
   {
    "duration": 13,
    "start_time": "2025-03-05T19:05:35.706Z"
   },
   {
    "duration": 828,
    "start_time": "2025-03-05T19:11:47.225Z"
   },
   {
    "duration": 1318,
    "start_time": "2025-03-05T19:16:26.227Z"
   },
   {
    "duration": 304294,
    "start_time": "2025-03-05T19:16:31.555Z"
   },
   {
    "duration": 4,
    "start_time": "2025-03-05T19:21:45.987Z"
   },
   {
    "duration": 829,
    "start_time": "2025-03-05T19:22:04.419Z"
   },
   {
    "duration": 1385,
    "start_time": "2025-03-06T18:53:31.443Z"
   },
   {
    "duration": 136,
    "start_time": "2025-03-06T18:54:31.494Z"
   },
   {
    "duration": 994,
    "start_time": "2025-03-06T18:54:34.330Z"
   },
   {
    "duration": 1473,
    "start_time": "2025-03-06T19:25:48.338Z"
   },
   {
    "duration": 39,
    "start_time": "2025-03-06T19:25:54.272Z"
   },
   {
    "duration": 967,
    "start_time": "2025-03-06T19:26:27.069Z"
   },
   {
    "duration": 4,
    "start_time": "2025-03-06T19:26:28.038Z"
   },
   {
    "duration": 86099,
    "start_time": "2025-03-06T19:26:30.423Z"
   },
   {
    "duration": 3,
    "start_time": "2025-03-06T19:34:20.858Z"
   },
   {
    "duration": 3,
    "start_time": "2025-03-06T19:34:21.289Z"
   },
   {
    "duration": 99098,
    "start_time": "2025-03-06T19:34:21.685Z"
   },
   {
    "duration": 19,
    "start_time": "2025-03-06T19:36:38.456Z"
   },
   {
    "duration": 1345,
    "start_time": "2025-03-06T19:40:16.033Z"
   },
   {
    "duration": 927,
    "start_time": "2025-03-06T19:40:17.380Z"
   },
   {
    "duration": 2,
    "start_time": "2025-03-06T19:40:18.309Z"
   },
   {
    "duration": 18,
    "start_time": "2025-03-06T19:40:22.226Z"
   },
   {
    "duration": 905,
    "start_time": "2025-03-06T19:42:09.270Z"
   },
   {
    "duration": 9,
    "start_time": "2025-03-06T19:42:11.390Z"
   },
   {
    "duration": 3,
    "start_time": "2025-03-06T19:43:21.367Z"
   },
   {
    "duration": 2,
    "start_time": "2025-03-06T19:43:30.412Z"
   },
   {
    "duration": 95156,
    "start_time": "2025-03-06T19:43:31.964Z"
   },
   {
    "duration": 13,
    "start_time": "2025-03-06T19:46:29.596Z"
   },
   {
    "duration": 1415,
    "start_time": "2025-03-09T14:46:24.991Z"
   },
   {
    "duration": 1087,
    "start_time": "2025-03-09T14:46:28.242Z"
   },
   {
    "duration": 15,
    "start_time": "2025-03-09T14:46:29.330Z"
   },
   {
    "duration": 3,
    "start_time": "2025-03-09T14:46:31.731Z"
   },
   {
    "duration": 3,
    "start_time": "2025-03-09T14:46:32.208Z"
   },
   {
    "duration": 98228,
    "start_time": "2025-03-09T14:46:33.148Z"
   },
   {
    "duration": 13,
    "start_time": "2025-03-09T14:54:04.551Z"
   },
   {
    "duration": 49,
    "start_time": "2025-03-09T15:26:50.507Z"
   },
   {
    "duration": 131,
    "start_time": "2025-03-09T15:26:57.269Z"
   },
   {
    "duration": 4,
    "start_time": "2025-03-09T15:27:17.066Z"
   },
   {
    "duration": 85,
    "start_time": "2025-03-09T15:27:19.737Z"
   },
   {
    "duration": 4,
    "start_time": "2025-03-09T15:33:30.146Z"
   },
   {
    "duration": 8329,
    "start_time": "2025-03-09T15:35:41.541Z"
   },
   {
    "duration": 3557,
    "start_time": "2025-03-09T15:35:52.408Z"
   },
   {
    "duration": 43990,
    "start_time": "2025-03-09T15:39:33.519Z"
   },
   {
    "duration": 8,
    "start_time": "2025-03-09T15:40:35.918Z"
   },
   {
    "duration": 16,
    "start_time": "2025-03-09T15:40:37.711Z"
   },
   {
    "duration": 4,
    "start_time": "2025-03-09T15:40:40.473Z"
   },
   {
    "duration": 130,
    "start_time": "2025-03-09T15:42:30.546Z"
   },
   {
    "duration": 3,
    "start_time": "2025-03-09T15:43:39.859Z"
   },
   {
    "duration": 2,
    "start_time": "2025-03-09T15:43:40.492Z"
   },
   {
    "duration": 16,
    "start_time": "2025-03-09T15:43:41.940Z"
   },
   {
    "duration": 15,
    "start_time": "2025-03-09T15:43:47.206Z"
   },
   {
    "duration": 34,
    "start_time": "2025-03-09T15:45:52.241Z"
   },
   {
    "duration": 4,
    "start_time": "2025-03-09T15:47:56.086Z"
   },
   {
    "duration": 2,
    "start_time": "2025-03-09T15:48:16.132Z"
   },
   {
    "duration": 0,
    "start_time": "2025-03-09T15:50:03.120Z"
   },
   {
    "duration": 355687,
    "start_time": "2025-03-09T15:50:04.734Z"
   },
   {
    "duration": 323319,
    "start_time": "2025-03-09T15:56:01.287Z"
   },
   {
    "duration": 7,
    "start_time": "2025-03-09T16:01:54.581Z"
   },
   {
    "duration": 4,
    "start_time": "2025-03-09T16:01:59.752Z"
   },
   {
    "duration": 4,
    "start_time": "2025-03-09T16:02:01.606Z"
   },
   {
    "duration": 2,
    "start_time": "2025-03-09T16:02:25.790Z"
   },
   {
    "duration": 12,
    "start_time": "2025-03-09T16:02:27.698Z"
   },
   {
    "duration": 2,
    "start_time": "2025-03-09T16:02:35.111Z"
   },
   {
    "duration": 321149,
    "start_time": "2025-03-09T16:02:36.156Z"
   },
   {
    "duration": 5,
    "start_time": "2025-03-09T16:07:57.308Z"
   },
   {
    "duration": 4,
    "start_time": "2025-03-09T16:09:19.094Z"
   },
   {
    "duration": 3,
    "start_time": "2025-03-09T16:09:21.803Z"
   },
   {
    "duration": 3,
    "start_time": "2025-03-09T16:09:36.656Z"
   },
   {
    "duration": 3,
    "start_time": "2025-03-09T16:09:37.252Z"
   },
   {
    "duration": 2245,
    "start_time": "2025-03-09T16:09:38.330Z"
   },
   {
    "duration": 78154,
    "start_time": "2025-03-09T16:09:56.860Z"
   },
   {
    "duration": 4,
    "start_time": "2025-03-09T16:11:38.117Z"
   },
   {
    "duration": 2,
    "start_time": "2025-03-09T16:11:46.049Z"
   },
   {
    "duration": 3,
    "start_time": "2025-03-09T16:11:56.250Z"
   },
   {
    "duration": 907983,
    "start_time": "2025-03-09T16:11:56.756Z"
   },
   {
    "duration": 3,
    "start_time": "2025-03-09T16:34:14.809Z"
   },
   {
    "duration": 3,
    "start_time": "2025-03-09T16:34:16.103Z"
   },
   {
    "duration": 3,
    "start_time": "2025-03-09T16:34:17.730Z"
   },
   {
    "duration": 9,
    "start_time": "2025-03-09T16:34:57.921Z"
   },
   {
    "duration": 3,
    "start_time": "2025-03-09T16:35:06.432Z"
   },
   {
    "duration": 4,
    "start_time": "2025-03-09T16:35:11.058Z"
   },
   {
    "duration": 4,
    "start_time": "2025-03-09T16:37:08.734Z"
   },
   {
    "duration": 2,
    "start_time": "2025-03-09T16:37:23.656Z"
   },
   {
    "duration": 2,
    "start_time": "2025-03-09T16:37:25.360Z"
   },
   {
    "duration": 2,
    "start_time": "2025-03-09T16:37:34.231Z"
   },
   {
    "duration": 2,
    "start_time": "2025-03-09T16:37:42.751Z"
   },
   {
    "duration": 3,
    "start_time": "2025-03-09T16:37:43.649Z"
   },
   {
    "duration": 0,
    "start_time": "2025-03-09T17:44:21.973Z"
   },
   {
    "duration": 1571,
    "start_time": "2025-03-09T17:44:41.695Z"
   },
   {
    "duration": 999,
    "start_time": "2025-03-09T17:44:43.268Z"
   },
   {
    "duration": 15,
    "start_time": "2025-03-09T17:44:44.269Z"
   },
   {
    "duration": 19,
    "start_time": "2025-03-09T17:44:44.285Z"
   },
   {
    "duration": 4,
    "start_time": "2025-03-09T17:44:44.307Z"
   },
   {
    "duration": 97724,
    "start_time": "2025-03-09T17:44:44.313Z"
   },
   {
    "duration": 12,
    "start_time": "2025-03-09T17:46:22.039Z"
   },
   {
    "duration": 67,
    "start_time": "2025-03-09T17:46:22.052Z"
   },
   {
    "duration": 73,
    "start_time": "2025-03-09T17:46:22.121Z"
   },
   {
    "duration": 6,
    "start_time": "2025-03-09T17:46:22.204Z"
   },
   {
    "duration": 8796,
    "start_time": "2025-03-09T17:46:22.211Z"
   },
   {
    "duration": 3485,
    "start_time": "2025-03-09T17:46:31.009Z"
   },
   {
    "duration": 8,
    "start_time": "2025-03-09T17:46:34.496Z"
   },
   {
    "duration": 21,
    "start_time": "2025-03-09T17:46:34.507Z"
   },
   {
    "duration": 316078,
    "start_time": "2025-03-09T17:46:34.530Z"
   },
   {
    "duration": 93,
    "start_time": "2025-03-09T17:51:50.611Z"
   },
   {
    "duration": 18,
    "start_time": "2025-03-09T17:51:50.706Z"
   },
   {
    "duration": 6,
    "start_time": "2025-03-09T17:51:50.726Z"
   },
   {
    "duration": 23,
    "start_time": "2025-03-09T17:51:50.733Z"
   },
   {
    "duration": 14,
    "start_time": "2025-03-09T17:51:50.757Z"
   },
   {
    "duration": 889663,
    "start_time": "2025-03-09T17:51:50.773Z"
   },
   {
    "duration": 3,
    "start_time": "2025-03-09T18:06:40.438Z"
   },
   {
    "duration": 11,
    "start_time": "2025-03-09T18:06:40.442Z"
   },
   {
    "duration": 3,
    "start_time": "2025-03-09T18:06:40.455Z"
   },
   {
    "duration": 10,
    "start_time": "2025-03-09T18:06:40.459Z"
   },
   {
    "duration": 4,
    "start_time": "2025-03-09T18:06:40.470Z"
   },
   {
    "duration": 3001293,
    "start_time": "2025-03-09T18:36:18.520Z"
   },
   {
    "duration": 5,
    "start_time": "2025-03-09T19:27:23.732Z"
   },
   {
    "duration": 1477,
    "start_time": "2025-03-09T19:27:28.821Z"
   },
   {
    "duration": 982,
    "start_time": "2025-03-09T19:27:30.300Z"
   },
   {
    "duration": 20,
    "start_time": "2025-03-09T19:27:31.284Z"
   },
   {
    "duration": 16,
    "start_time": "2025-03-09T19:27:31.306Z"
   },
   {
    "duration": 35,
    "start_time": "2025-03-09T19:27:31.324Z"
   },
   {
    "duration": 94581,
    "start_time": "2025-03-09T19:27:31.361Z"
   },
   {
    "duration": 46,
    "start_time": "2025-03-09T19:29:05.945Z"
   },
   {
    "duration": 71,
    "start_time": "2025-03-09T19:29:06.003Z"
   },
   {
    "duration": 4,
    "start_time": "2025-03-09T19:29:06.076Z"
   },
   {
    "duration": 8522,
    "start_time": "2025-03-09T19:29:06.081Z"
   },
   {
    "duration": 3562,
    "start_time": "2025-03-09T19:29:14.605Z"
   },
   {
    "duration": 3,
    "start_time": "2025-03-09T19:29:18.168Z"
   },
   {
    "duration": 4,
    "start_time": "2025-03-09T19:29:18.173Z"
   },
   {
    "duration": 1487,
    "start_time": "2025-03-10T19:18:27.995Z"
   },
   {
    "duration": 947,
    "start_time": "2025-03-10T19:18:32.079Z"
   },
   {
    "duration": 15,
    "start_time": "2025-03-10T19:18:33.458Z"
   },
   {
    "duration": 2,
    "start_time": "2025-03-10T19:18:36.171Z"
   },
   {
    "duration": 3,
    "start_time": "2025-03-10T19:18:36.904Z"
   },
   {
    "duration": 92863,
    "start_time": "2025-03-10T19:18:37.580Z"
   },
   {
    "duration": 46,
    "start_time": "2025-03-10T19:20:28.554Z"
   },
   {
    "duration": 72,
    "start_time": "2025-03-10T19:20:30.098Z"
   },
   {
    "duration": 5,
    "start_time": "2025-03-10T19:20:32.588Z"
   },
   {
    "duration": 8295,
    "start_time": "2025-03-10T19:20:33.774Z"
   },
   {
    "duration": 3369,
    "start_time": "2025-03-10T19:20:42.071Z"
   },
   {
    "duration": 2,
    "start_time": "2025-03-10T19:20:49.443Z"
   },
   {
    "duration": 2,
    "start_time": "2025-03-10T19:20:51.332Z"
   },
   {
    "duration": 529963,
    "start_time": "2025-03-10T19:20:54.999Z"
   },
   {
    "duration": 3,
    "start_time": "2025-03-10T19:34:23.663Z"
   },
   {
    "duration": 3,
    "start_time": "2025-03-10T19:34:33.656Z"
   },
   {
    "duration": 4,
    "start_time": "2025-03-10T19:34:52.667Z"
   },
   {
    "duration": 122,
    "start_time": "2025-03-10T19:34:56.437Z"
   },
   {
    "duration": 2,
    "start_time": "2025-03-10T19:35:08.183Z"
   },
   {
    "duration": 3,
    "start_time": "2025-03-10T19:35:10.635Z"
   },
   {
    "duration": 14,
    "start_time": "2025-03-10T19:35:11.886Z"
   },
   {
    "duration": 10,
    "start_time": "2025-03-10T19:35:56.797Z"
   },
   {
    "duration": 4,
    "start_time": "2025-03-10T19:36:45.370Z"
   },
   {
    "duration": 11,
    "start_time": "2025-03-10T19:36:52.553Z"
   },
   {
    "duration": 4,
    "start_time": "2025-03-10T19:37:04.269Z"
   },
   {
    "duration": 10,
    "start_time": "2025-03-10T19:37:07.850Z"
   },
   {
    "duration": 23289,
    "start_time": "2025-03-10T19:37:31.022Z"
   },
   {
    "duration": 4,
    "start_time": "2025-03-10T19:38:02.216Z"
   },
   {
    "duration": 537564,
    "start_time": "2025-03-10T19:38:04.284Z"
   },
   {
    "duration": 11,
    "start_time": "2025-03-10T19:48:47.718Z"
   },
   {
    "duration": 11,
    "start_time": "2025-03-10T19:53:31.189Z"
   },
   {
    "duration": 5,
    "start_time": "2025-03-10T19:53:37.163Z"
   },
   {
    "duration": 206162,
    "start_time": "2025-03-10T19:53:41.289Z"
   },
   {
    "duration": 5,
    "start_time": "2025-03-10T19:57:09.421Z"
   },
   {
    "duration": 682181,
    "start_time": "2025-03-10T19:57:10.096Z"
   },
   {
    "duration": 4,
    "start_time": "2025-03-10T20:08:46.083Z"
   },
   {
    "duration": 980240,
    "start_time": "2025-03-10T20:08:52.222Z"
   },
   {
    "duration": 6,
    "start_time": "2025-03-10T20:32:05.441Z"
   },
   {
    "duration": 11,
    "start_time": "2025-03-10T20:33:09.522Z"
   },
   {
    "duration": 9,
    "start_time": "2025-03-10T20:34:15.188Z"
   },
   {
    "duration": 9,
    "start_time": "2025-03-10T20:34:29.015Z"
   },
   {
    "duration": 9,
    "start_time": "2025-03-10T20:34:51.561Z"
   },
   {
    "duration": 4,
    "start_time": "2025-03-10T20:35:11.818Z"
   },
   {
    "duration": 19,
    "start_time": "2025-03-10T20:35:16.076Z"
   },
   {
    "duration": 3,
    "start_time": "2025-03-10T20:35:48.430Z"
   },
   {
    "duration": 513,
    "start_time": "2025-03-10T20:36:16.178Z"
   },
   {
    "duration": 1495,
    "start_time": "2025-03-11T13:22:29.550Z"
   },
   {
    "duration": 1015,
    "start_time": "2025-03-11T13:23:03.657Z"
   },
   {
    "duration": 32,
    "start_time": "2025-03-11T13:23:24.002Z"
   },
   {
    "duration": 13,
    "start_time": "2025-03-11T13:23:29.186Z"
   },
   {
    "duration": 2,
    "start_time": "2025-03-11T13:25:31.231Z"
   },
   {
    "duration": 3,
    "start_time": "2025-03-11T13:27:31.322Z"
   },
   {
    "duration": 103230,
    "start_time": "2025-03-11T13:28:05.194Z"
   },
   {
    "duration": 4,
    "start_time": "2025-03-11T13:31:09.198Z"
   },
   {
    "duration": 4,
    "start_time": "2025-03-11T13:31:23.285Z"
   },
   {
    "duration": 4,
    "start_time": "2025-03-11T13:31:26.099Z"
   },
   {
    "duration": 3,
    "start_time": "2025-03-11T13:31:38.432Z"
   },
   {
    "duration": 2,
    "start_time": "2025-03-11T13:32:11.997Z"
   },
   {
    "duration": 144,
    "start_time": "2025-03-11T13:32:17.353Z"
   },
   {
    "duration": 4,
    "start_time": "2025-03-11T13:32:22.030Z"
   },
   {
    "duration": 4,
    "start_time": "2025-03-11T13:35:26.207Z"
   },
   {
    "duration": 4,
    "start_time": "2025-03-11T13:35:35.101Z"
   },
   {
    "duration": 4,
    "start_time": "2025-03-11T13:35:40.541Z"
   },
   {
    "duration": 3,
    "start_time": "2025-03-11T13:35:45.737Z"
   },
   {
    "duration": 4,
    "start_time": "2025-03-11T13:35:53.252Z"
   },
   {
    "duration": 5,
    "start_time": "2025-03-11T13:36:06.513Z"
   },
   {
    "duration": 9,
    "start_time": "2025-03-11T13:36:09.405Z"
   },
   {
    "duration": 4,
    "start_time": "2025-03-11T13:36:12.535Z"
   },
   {
    "duration": 3,
    "start_time": "2025-03-11T13:36:31.934Z"
   },
   {
    "duration": 3,
    "start_time": "2025-03-11T13:36:33.723Z"
   },
   {
    "duration": 4,
    "start_time": "2025-03-11T13:36:37.502Z"
   },
   {
    "duration": 4,
    "start_time": "2025-03-11T13:36:41.993Z"
   },
   {
    "duration": 5,
    "start_time": "2025-03-11T13:36:48.795Z"
   },
   {
    "duration": 4,
    "start_time": "2025-03-11T13:36:56.753Z"
   },
   {
    "duration": 4,
    "start_time": "2025-03-11T13:37:05.764Z"
   },
   {
    "duration": 4,
    "start_time": "2025-03-11T13:37:20.907Z"
   },
   {
    "duration": 4,
    "start_time": "2025-03-11T13:37:23.126Z"
   },
   {
    "duration": 4,
    "start_time": "2025-03-11T13:37:26.168Z"
   },
   {
    "duration": 6,
    "start_time": "2025-03-11T13:37:34.923Z"
   },
   {
    "duration": 3,
    "start_time": "2025-03-11T13:37:35.611Z"
   },
   {
    "duration": 3,
    "start_time": "2025-03-11T13:37:36.310Z"
   },
   {
    "duration": 4,
    "start_time": "2025-03-11T13:37:38.720Z"
   },
   {
    "duration": 4,
    "start_time": "2025-03-11T13:39:04.255Z"
   },
   {
    "duration": 105218,
    "start_time": "2025-03-11T13:39:05.165Z"
   },
   {
    "duration": 10,
    "start_time": "2025-03-11T13:41:41.871Z"
   },
   {
    "duration": 18,
    "start_time": "2025-03-11T13:44:45.482Z"
   },
   {
    "duration": 38,
    "start_time": "2025-03-11T13:44:45.969Z"
   },
   {
    "duration": 81,
    "start_time": "2025-03-11T13:44:47.448Z"
   },
   {
    "duration": 5,
    "start_time": "2025-03-11T13:44:48.523Z"
   },
   {
    "duration": 3,
    "start_time": "2025-03-11T13:44:49.825Z"
   },
   {
    "duration": 9060,
    "start_time": "2025-03-11T13:46:16.458Z"
   },
   {
    "duration": 3883,
    "start_time": "2025-03-11T13:46:25.520Z"
   },
   {
    "duration": 3,
    "start_time": "2025-03-11T13:51:23.844Z"
   },
   {
    "duration": 4,
    "start_time": "2025-03-11T13:51:30.504Z"
   },
   {
    "duration": 1008574,
    "start_time": "2025-03-11T13:51:32.589Z"
   },
   {
    "duration": 2875,
    "start_time": "2025-03-12T14:51:43.102Z"
   },
   {
    "duration": 1048,
    "start_time": "2025-03-12T14:51:45.980Z"
   },
   {
    "duration": 29,
    "start_time": "2025-03-12T14:51:47.029Z"
   },
   {
    "duration": 19,
    "start_time": "2025-03-12T14:51:47.060Z"
   },
   {
    "duration": 3,
    "start_time": "2025-03-12T14:51:47.081Z"
   },
   {
    "duration": 29,
    "start_time": "2025-03-12T14:51:47.086Z"
   },
   {
    "duration": 98057,
    "start_time": "2025-03-12T14:51:47.117Z"
   },
   {
    "duration": 329,
    "start_time": "2025-03-12T14:53:25.176Z"
   },
   {
    "duration": 45,
    "start_time": "2025-03-12T14:53:25.506Z"
   },
   {
    "duration": 12,
    "start_time": "2025-03-12T14:53:25.554Z"
   },
   {
    "duration": 109,
    "start_time": "2025-03-12T14:53:25.568Z"
   },
   {
    "duration": 7,
    "start_time": "2025-03-12T14:53:25.679Z"
   },
   {
    "duration": 3,
    "start_time": "2025-03-12T14:53:25.687Z"
   },
   {
    "duration": 1754,
    "start_time": "2025-03-12T15:03:19.282Z"
   },
   {
    "duration": 1281,
    "start_time": "2025-03-12T15:03:23.287Z"
   },
   {
    "duration": 33,
    "start_time": "2025-03-12T15:03:24.570Z"
   },
   {
    "duration": 14,
    "start_time": "2025-03-12T15:03:26.238Z"
   },
   {
    "duration": 2,
    "start_time": "2025-03-12T15:03:28.236Z"
   },
   {
    "duration": 4,
    "start_time": "2025-03-12T15:03:28.883Z"
   },
   {
    "duration": 110695,
    "start_time": "2025-03-12T15:03:33.463Z"
   },
   {
    "duration": 75,
    "start_time": "2025-03-12T15:12:45.039Z"
   },
   {
    "duration": 86,
    "start_time": "2025-03-12T15:12:50.187Z"
   },
   {
    "duration": 325185,
    "start_time": "2025-03-12T15:12:53.810Z"
   },
   {
    "duration": 139,
    "start_time": "2025-03-12T15:18:18.997Z"
   },
   {
    "duration": 89,
    "start_time": "2025-03-12T15:18:20.278Z"
   },
   {
    "duration": 9897,
    "start_time": "2025-03-12T15:18:25.443Z"
   },
   {
    "duration": 9337,
    "start_time": "2025-03-12T15:18:39.687Z"
   },
   {
    "duration": 4,
    "start_time": "2025-03-12T15:18:53.144Z"
   },
   {
    "duration": 10,
    "start_time": "2025-03-12T15:18:57.156Z"
   },
   {
    "duration": 6,
    "start_time": "2025-03-12T15:19:32.750Z"
   },
   {
    "duration": 14,
    "start_time": "2025-03-12T15:19:41.163Z"
   },
   {
    "duration": 67116,
    "start_time": "2025-03-12T15:22:08.870Z"
   },
   {
    "duration": 7,
    "start_time": "2025-03-12T18:01:41.893Z"
   },
   {
    "duration": 1622,
    "start_time": "2025-03-12T18:03:13.748Z"
   },
   {
    "duration": 1174,
    "start_time": "2025-03-12T18:03:19.642Z"
   },
   {
    "duration": 30,
    "start_time": "2025-03-12T18:03:20.818Z"
   },
   {
    "duration": 13,
    "start_time": "2025-03-12T18:03:22.621Z"
   },
   {
    "duration": 5,
    "start_time": "2025-03-12T18:03:32.896Z"
   },
   {
    "duration": 407,
    "start_time": "2025-03-12T18:04:12.521Z"
   },
   {
    "duration": 86,
    "start_time": "2025-03-12T18:04:27.414Z"
   },
   {
    "duration": 3335,
    "start_time": "2025-03-12T18:04:29.451Z"
   },
   {
    "duration": 13441,
    "start_time": "2025-03-12T18:04:34.371Z"
   },
   {
    "duration": 70,
    "start_time": "2025-03-12T18:04:58.199Z"
   },
   {
    "duration": 45,
    "start_time": "2025-03-12T18:05:16.286Z"
   },
   {
    "duration": 6,
    "start_time": "2025-03-12T18:05:22.824Z"
   },
   {
    "duration": 9,
    "start_time": "2025-03-12T18:10:08.275Z"
   },
   {
    "duration": 4960,
    "start_time": "2025-03-12T18:10:13.854Z"
   },
   {
    "duration": 904,
    "start_time": "2025-03-12T18:10:18.816Z"
   },
   {
    "duration": 33,
    "start_time": "2025-03-12T18:10:20.770Z"
   },
   {
    "duration": 13,
    "start_time": "2025-03-12T18:10:32.340Z"
   },
   {
    "duration": 5,
    "start_time": "2025-03-12T18:10:52.422Z"
   },
   {
    "duration": 332,
    "start_time": "2025-03-12T18:10:54.502Z"
   },
   {
    "duration": 25,
    "start_time": "2025-03-12T18:11:05.839Z"
   },
   {
    "duration": 77,
    "start_time": "2025-03-12T18:28:22.277Z"
   },
   {
    "duration": 35221,
    "start_time": "2025-03-12T18:28:26.072Z"
   },
   {
    "duration": 11512,
    "start_time": "2025-03-12T18:29:01.298Z"
   },
   {
    "duration": 2926,
    "start_time": "2025-03-12T18:29:38.954Z"
   },
   {
    "duration": 1072,
    "start_time": "2025-03-12T18:29:41.881Z"
   },
   {
    "duration": 33,
    "start_time": "2025-03-12T18:29:42.954Z"
   },
   {
    "duration": 13,
    "start_time": "2025-03-12T18:29:43.673Z"
   },
   {
    "duration": 5,
    "start_time": "2025-03-12T18:29:50.092Z"
   },
   {
    "duration": 8,
    "start_time": "2025-03-12T18:29:54.725Z"
   },
   {
    "duration": 4575,
    "start_time": "2025-03-12T18:40:34.432Z"
   },
   {
    "duration": 460,
    "start_time": "2025-03-12T18:40:41.962Z"
   },
   {
    "duration": 869,
    "start_time": "2025-03-12T18:40:42.450Z"
   },
   {
    "duration": 36,
    "start_time": "2025-03-12T18:40:43.322Z"
   },
   {
    "duration": 13,
    "start_time": "2025-03-12T18:40:44.290Z"
   },
   {
    "duration": 6,
    "start_time": "2025-03-12T18:40:48.556Z"
   },
   {
    "duration": 6,
    "start_time": "2025-03-12T18:40:52.088Z"
   },
   {
    "duration": 23,
    "start_time": "2025-03-12T18:40:52.704Z"
   },
   {
    "duration": 9,
    "start_time": "2025-03-12T19:02:51.589Z"
   },
   {
    "duration": 43,
    "start_time": "2025-03-12T19:02:54.426Z"
   },
   {
    "duration": 4752,
    "start_time": "2025-03-12T19:03:00.244Z"
   },
   {
    "duration": 10,
    "start_time": "2025-03-12T19:03:06.092Z"
   },
   {
    "duration": 22,
    "start_time": "2025-03-12T19:03:07.506Z"
   },
   {
    "duration": 457,
    "start_time": "2025-03-12T19:03:14.854Z"
   },
   {
    "duration": 1085,
    "start_time": "2025-03-12T19:03:15.450Z"
   },
   {
    "duration": 4498,
    "start_time": "2025-03-12T19:03:23.555Z"
   },
   {
    "duration": 858,
    "start_time": "2025-03-12T19:03:28.057Z"
   },
   {
    "duration": 25,
    "start_time": "2025-03-12T19:03:28.916Z"
   },
   {
    "duration": 21,
    "start_time": "2025-03-12T19:03:28.943Z"
   },
   {
    "duration": 4,
    "start_time": "2025-03-12T19:03:33.056Z"
   },
   {
    "duration": 5,
    "start_time": "2025-03-12T19:03:36.523Z"
   },
   {
    "duration": 20,
    "start_time": "2025-03-12T19:03:36.957Z"
   },
   {
    "duration": 2504006,
    "start_time": "2025-03-12T19:03:49.459Z"
   },
   {
    "duration": 12,
    "start_time": "2025-03-12T19:45:50.565Z"
   },
   {
    "duration": 78,
    "start_time": "2025-03-12T19:48:49.551Z"
   },
   {
    "duration": 305,
    "start_time": "2025-03-12T19:48:53.263Z"
   },
   {
    "duration": 24,
    "start_time": "2025-03-12T19:49:21.722Z"
   },
   {
    "duration": 3,
    "start_time": "2025-03-12T19:50:37.058Z"
   },
   {
    "duration": 8,
    "start_time": "2025-03-12T19:50:51.863Z"
   },
   {
    "duration": 4,
    "start_time": "2025-03-12T19:50:58.265Z"
   },
   {
    "duration": 4,
    "start_time": "2025-03-12T19:51:06.619Z"
   },
   {
    "duration": 7,
    "start_time": "2025-03-12T19:51:57.950Z"
   },
   {
    "duration": 177,
    "start_time": "2025-03-12T19:57:31.727Z"
   },
   {
    "duration": 4,
    "start_time": "2025-03-12T19:57:35.318Z"
   },
   {
    "duration": 4,
    "start_time": "2025-03-12T19:58:55.989Z"
   },
   {
    "duration": 6,
    "start_time": "2025-03-12T19:59:01.192Z"
   },
   {
    "duration": 3,
    "start_time": "2025-03-12T19:59:26.671Z"
   },
   {
    "duration": 4,
    "start_time": "2025-03-12T19:59:32.619Z"
   },
   {
    "duration": 8,
    "start_time": "2025-03-12T19:59:37.710Z"
   },
   {
    "duration": 474302,
    "start_time": "2025-03-12T20:01:02.787Z"
   },
   {
    "duration": 39,
    "start_time": "2025-03-12T20:10:40.954Z"
   },
   {
    "duration": 3,
    "start_time": "2025-03-12T20:10:55.600Z"
   },
   {
    "duration": 51715,
    "start_time": "2025-03-12T20:10:56.069Z"
   },
   {
    "duration": 5109,
    "start_time": "2025-03-12T20:11:51.651Z"
   },
   {
    "duration": 7379,
    "start_time": "2025-03-12T20:12:51.406Z"
   },
   {
    "duration": 5930,
    "start_time": "2025-03-12T20:14:51.749Z"
   },
   {
    "duration": 39,
    "start_time": "2025-03-12T20:16:32.485Z"
   },
   {
    "duration": 3,
    "start_time": "2025-03-12T20:16:39.803Z"
   },
   {
    "duration": 32863,
    "start_time": "2025-03-12T20:16:45.905Z"
   },
   {
    "duration": 115,
    "start_time": "2025-03-12T20:17:56.181Z"
   },
   {
    "duration": 79,
    "start_time": "2025-03-12T20:18:19.916Z"
   },
   {
    "duration": 4,
    "start_time": "2025-03-12T20:18:37.007Z"
   },
   {
    "duration": 361,
    "start_time": "2025-03-12T20:19:46.675Z"
   },
   {
    "duration": 3,
    "start_time": "2025-03-12T20:19:57.807Z"
   },
   {
    "duration": 36391,
    "start_time": "2025-03-12T20:19:58.819Z"
   },
   {
    "duration": 6682,
    "start_time": "2025-03-12T20:21:34.476Z"
   },
   {
    "duration": 11144,
    "start_time": "2025-03-12T20:25:44.014Z"
   },
   {
    "duration": 28873,
    "start_time": "2025-03-12T20:26:18.692Z"
   },
   {
    "duration": 21,
    "start_time": "2025-03-12T20:27:10.883Z"
   },
   {
    "duration": 20316,
    "start_time": "2025-03-12T20:27:19.464Z"
   },
   {
    "duration": 0,
    "start_time": "2025-03-12T20:28:05.678Z"
   },
   {
    "duration": 23249,
    "start_time": "2025-03-12T20:28:33.988Z"
   },
   {
    "duration": 0,
    "start_time": "2025-03-12T20:30:43.176Z"
   },
   {
    "duration": 14860,
    "start_time": "2025-03-12T20:30:44.529Z"
   },
   {
    "duration": 2816,
    "start_time": "2025-03-12T20:31:14.684Z"
   },
   {
    "duration": 9567,
    "start_time": "2025-03-12T20:31:39.312Z"
   },
   {
    "duration": 8066,
    "start_time": "2025-03-12T20:31:49.702Z"
   },
   {
    "duration": 25659,
    "start_time": "2025-03-12T20:32:12.571Z"
   },
   {
    "duration": 7890,
    "start_time": "2025-03-12T20:32:50.902Z"
   },
   {
    "duration": 13089,
    "start_time": "2025-03-12T20:33:12.870Z"
   },
   {
    "duration": 106734,
    "start_time": "2025-03-12T20:33:29.127Z"
   },
   {
    "duration": 5,
    "start_time": "2025-03-12T20:37:46.525Z"
   },
   {
    "duration": 35,
    "start_time": "2025-03-12T20:38:04.816Z"
   },
   {
    "duration": 4,
    "start_time": "2025-03-12T20:38:36.710Z"
   },
   {
    "duration": 273,
    "start_time": "2025-03-12T20:38:37.026Z"
   },
   {
    "duration": 10,
    "start_time": "2025-03-12T20:38:44.083Z"
   },
   {
    "duration": 278,
    "start_time": "2025-03-12T20:39:14.098Z"
   },
   {
    "duration": 11,
    "start_time": "2025-03-12T20:39:14.675Z"
   },
   {
    "duration": 3,
    "start_time": "2025-03-12T20:41:01.941Z"
   },
   {
    "duration": 256,
    "start_time": "2025-03-12T20:41:05.205Z"
   },
   {
    "duration": 11,
    "start_time": "2025-03-12T20:41:06.164Z"
   },
   {
    "duration": 5,
    "start_time": "2025-03-12T20:41:18.701Z"
   },
   {
    "duration": 269,
    "start_time": "2025-03-12T20:41:20.591Z"
   },
   {
    "duration": 14,
    "start_time": "2025-03-12T20:41:20.983Z"
   },
   {
    "duration": 824,
    "start_time": "2025-03-12T20:42:00.682Z"
   },
   {
    "duration": 4,
    "start_time": "2025-03-12T20:42:13.308Z"
   },
   {
    "duration": 630,
    "start_time": "2025-03-12T20:42:15.048Z"
   },
   {
    "duration": 10,
    "start_time": "2025-03-12T20:42:17.167Z"
   },
   {
    "duration": 4,
    "start_time": "2025-03-12T20:43:33.498Z"
   },
   {
    "duration": 602,
    "start_time": "2025-03-12T20:43:35.498Z"
   },
   {
    "duration": 62,
    "start_time": "2025-03-12T20:43:36.104Z"
   },
   {
    "duration": 4,
    "start_time": "2025-03-12T20:44:03.388Z"
   },
   {
    "duration": 658,
    "start_time": "2025-03-12T20:44:06.625Z"
   },
   {
    "duration": 79,
    "start_time": "2025-03-12T20:44:07.288Z"
   },
   {
    "duration": 248,
    "start_time": "2025-03-12T20:44:42.311Z"
   },
   {
    "duration": 16,
    "start_time": "2025-03-12T20:44:42.563Z"
   },
   {
    "duration": 4,
    "start_time": "2025-03-12T20:45:51.867Z"
   },
   {
    "duration": 43,
    "start_time": "2025-03-12T20:45:54.805Z"
   },
   {
    "duration": 701,
    "start_time": "2025-03-12T20:46:08.790Z"
   },
   {
    "duration": 4,
    "start_time": "2025-03-12T20:46:40.078Z"
   },
   {
    "duration": 636,
    "start_time": "2025-03-12T20:46:41.779Z"
   },
   {
    "duration": 9,
    "start_time": "2025-03-12T20:46:43.672Z"
   },
   {
    "duration": 5,
    "start_time": "2025-03-12T20:47:13.124Z"
   },
   {
    "duration": 1286,
    "start_time": "2025-03-12T20:47:14.873Z"
   },
   {
    "duration": 94,
    "start_time": "2025-03-12T20:47:16.164Z"
   },
   {
    "duration": 277,
    "start_time": "2025-03-12T20:49:18.393Z"
   },
   {
    "duration": 281,
    "start_time": "2025-03-12T20:49:42.686Z"
   },
   {
    "duration": 76,
    "start_time": "2025-03-12T20:49:59.525Z"
   },
   {
    "duration": 21,
    "start_time": "2025-03-12T20:50:10.049Z"
   },
   {
    "duration": 74,
    "start_time": "2025-03-12T20:50:44.635Z"
   },
   {
    "duration": 3,
    "start_time": "2025-03-12T20:50:47.082Z"
   },
   {
    "duration": 20,
    "start_time": "2025-03-12T20:50:53.877Z"
   },
   {
    "duration": 21,
    "start_time": "2025-03-12T20:50:56.718Z"
   },
   {
    "duration": 18,
    "start_time": "2025-03-12T20:50:58.810Z"
   },
   {
    "duration": 20,
    "start_time": "2025-03-12T20:51:04.644Z"
   },
   {
    "duration": 3,
    "start_time": "2025-03-12T20:51:09.548Z"
   },
   {
    "duration": 31,
    "start_time": "2025-03-12T20:51:18.512Z"
   },
   {
    "duration": 24,
    "start_time": "2025-03-12T20:51:25.285Z"
   },
   {
    "duration": 20,
    "start_time": "2025-03-12T20:51:28.557Z"
   },
   {
    "duration": 3,
    "start_time": "2025-03-12T20:52:55.078Z"
   },
   {
    "duration": 20,
    "start_time": "2025-03-12T20:52:59.278Z"
   },
   {
    "duration": 4,
    "start_time": "2025-03-12T20:53:06.648Z"
   },
   {
    "duration": 102,
    "start_time": "2025-03-12T20:54:26.957Z"
   },
   {
    "duration": 107,
    "start_time": "2025-03-12T20:54:31.685Z"
   },
   {
    "duration": 296,
    "start_time": "2025-03-12T20:54:50.487Z"
   },
   {
    "duration": 91,
    "start_time": "2025-03-12T20:55:10.276Z"
   },
   {
    "duration": 271,
    "start_time": "2025-03-12T20:55:18.995Z"
   },
   {
    "duration": 21,
    "start_time": "2025-03-12T20:55:47.775Z"
   },
   {
    "duration": 250,
    "start_time": "2025-03-12T20:55:55.418Z"
   },
   {
    "duration": 298,
    "start_time": "2025-03-12T20:56:22.630Z"
   },
   {
    "duration": 14,
    "start_time": "2025-03-12T20:56:29.590Z"
   },
   {
    "duration": 3,
    "start_time": "2025-03-12T20:56:44.927Z"
   },
   {
    "duration": 4,
    "start_time": "2025-03-12T20:56:50.791Z"
   },
   {
    "duration": 337,
    "start_time": "2025-03-12T20:57:05.229Z"
   },
   {
    "duration": 19,
    "start_time": "2025-03-12T20:57:28.682Z"
   },
   {
    "duration": 3,
    "start_time": "2025-03-12T20:57:29.058Z"
   },
   {
    "duration": 51,
    "start_time": "2025-03-12T20:57:45.079Z"
   },
   {
    "duration": 131,
    "start_time": "2025-03-12T20:58:16.882Z"
   },
   {
    "duration": 135,
    "start_time": "2025-03-12T20:58:18.826Z"
   },
   {
    "duration": 43,
    "start_time": "2025-03-12T20:58:21.334Z"
   },
   {
    "duration": 12,
    "start_time": "2025-03-12T20:58:31.354Z"
   },
   {
    "duration": 8534,
    "start_time": "2025-03-12T20:59:33.834Z"
   },
   {
    "duration": 13971,
    "start_time": "2025-03-12T20:59:48.290Z"
   },
   {
    "duration": 4,
    "start_time": "2025-03-12T21:01:23.561Z"
   },
   {
    "duration": 4,
    "start_time": "2025-03-12T21:02:06.973Z"
   },
   {
    "duration": 678,
    "start_time": "2025-03-12T21:02:09.395Z"
   },
   {
    "duration": 12,
    "start_time": "2025-03-12T21:02:11.117Z"
   },
   {
    "duration": 206,
    "start_time": "2025-03-12T21:02:28.487Z"
   },
   {
    "duration": 358,
    "start_time": "2025-03-12T21:02:43.658Z"
   },
   {
    "duration": 3041,
    "start_time": "2025-03-12T21:04:53.366Z"
   },
   {
    "duration": 9,
    "start_time": "2025-03-12T21:05:01.485Z"
   },
   {
    "duration": 4,
    "start_time": "2025-03-12T21:05:41.724Z"
   },
   {
    "duration": 8,
    "start_time": "2025-03-12T21:06:25.320Z"
   },
   {
    "duration": 2706,
    "start_time": "2025-03-12T21:06:43.723Z"
   },
   {
    "duration": 8,
    "start_time": "2025-03-12T21:06:47.347Z"
   },
   {
    "duration": 1807,
    "start_time": "2025-03-12T21:07:28.229Z"
   },
   {
    "duration": 9,
    "start_time": "2025-03-12T21:07:31.423Z"
   },
   {
    "duration": 5,
    "start_time": "2025-03-12T21:08:34.896Z"
   },
   {
    "duration": 19,
    "start_time": "2025-03-12T21:08:38.664Z"
   },
   {
    "duration": 685,
    "start_time": "2025-03-12T21:09:15.080Z"
   },
   {
    "duration": 4,
    "start_time": "2025-03-12T21:15:23.151Z"
   },
   {
    "duration": 597,
    "start_time": "2025-03-12T21:15:30.686Z"
   },
   {
    "duration": 76,
    "start_time": "2025-03-12T21:15:31.288Z"
   },
   {
    "duration": 4,
    "start_time": "2025-03-12T21:16:11.684Z"
   },
   {
    "duration": 730,
    "start_time": "2025-03-12T21:16:14.951Z"
   },
   {
    "duration": 80,
    "start_time": "2025-03-12T21:16:15.685Z"
   },
   {
    "duration": 4,
    "start_time": "2025-03-12T21:16:28.282Z"
   },
   {
    "duration": 647,
    "start_time": "2025-03-12T21:16:32.745Z"
   },
   {
    "duration": 70,
    "start_time": "2025-03-12T21:16:33.396Z"
   },
   {
    "duration": 3,
    "start_time": "2025-03-12T21:17:04.539Z"
   },
   {
    "duration": 703,
    "start_time": "2025-03-12T21:17:07.771Z"
   },
   {
    "duration": 81,
    "start_time": "2025-03-12T21:17:08.479Z"
   },
   {
    "duration": 4,
    "start_time": "2025-03-12T21:17:35.847Z"
   },
   {
    "duration": 648,
    "start_time": "2025-03-12T21:17:39.270Z"
   },
   {
    "duration": 16,
    "start_time": "2025-03-12T21:17:39.961Z"
   },
   {
    "duration": 4,
    "start_time": "2025-03-12T21:18:31.133Z"
   },
   {
    "duration": 3,
    "start_time": "2025-03-12T21:18:48.239Z"
   },
   {
    "duration": 663,
    "start_time": "2025-03-12T21:18:50.720Z"
   },
   {
    "duration": 79,
    "start_time": "2025-03-12T21:18:51.388Z"
   },
   {
    "duration": 87,
    "start_time": "2025-03-12T21:18:54.505Z"
   },
   {
    "duration": 285,
    "start_time": "2025-03-12T21:19:21.774Z"
   },
   {
    "duration": 255,
    "start_time": "2025-03-12T21:19:27.928Z"
   },
   {
    "duration": 7,
    "start_time": "2025-03-12T21:19:28.358Z"
   },
   {
    "duration": 17,
    "start_time": "2025-03-12T21:19:49.422Z"
   },
   {
    "duration": 235,
    "start_time": "2025-03-12T21:19:52.157Z"
   },
   {
    "duration": 30,
    "start_time": "2025-03-12T21:19:53.304Z"
   },
   {
    "duration": 233,
    "start_time": "2025-03-12T21:20:16.664Z"
   },
   {
    "duration": 5,
    "start_time": "2025-03-12T21:20:17.427Z"
   },
   {
    "duration": 9,
    "start_time": "2025-03-12T21:20:18.570Z"
   },
   {
    "duration": 154,
    "start_time": "2025-03-12T21:21:31.442Z"
   },
   {
    "duration": 6,
    "start_time": "2025-03-12T21:21:41.323Z"
   },
   {
    "duration": 707,
    "start_time": "2025-03-12T21:21:52.755Z"
   },
   {
    "duration": 9,
    "start_time": "2025-03-12T21:21:54.447Z"
   },
   {
    "duration": 3,
    "start_time": "2025-03-12T21:22:39.286Z"
   },
   {
    "duration": 4,
    "start_time": "2025-03-12T21:23:26.178Z"
   },
   {
    "duration": 848,
    "start_time": "2025-03-12T21:23:48.996Z"
   },
   {
    "duration": 4,
    "start_time": "2025-03-12T21:24:15.306Z"
   },
   {
    "duration": 3,
    "start_time": "2025-03-12T21:24:20.201Z"
   },
   {
    "duration": 800,
    "start_time": "2025-03-12T21:24:23.319Z"
   },
   {
    "duration": 78,
    "start_time": "2025-03-12T21:25:42.030Z"
   },
   {
    "duration": 17,
    "start_time": "2025-03-12T21:25:47.106Z"
   },
   {
    "duration": 4,
    "start_time": "2025-03-12T21:32:39.676Z"
   },
   {
    "duration": 290,
    "start_time": "2025-03-12T21:32:54.699Z"
   },
   {
    "duration": 3,
    "start_time": "2025-03-12T21:33:41.436Z"
   },
   {
    "duration": 18,
    "start_time": "2025-03-12T21:33:43.150Z"
   },
   {
    "duration": 85,
    "start_time": "2025-03-12T21:34:17.420Z"
   },
   {
    "duration": 4,
    "start_time": "2025-03-12T21:34:22.367Z"
   },
   {
    "duration": 630,
    "start_time": "2025-03-12T21:34:24.960Z"
   },
   {
    "duration": 233,
    "start_time": "2025-03-12T21:34:52.375Z"
   },
   {
    "duration": 69,
    "start_time": "2025-03-12T21:35:29.740Z"
   },
   {
    "duration": 201,
    "start_time": "2025-03-12T21:35:40.204Z"
   },
   {
    "duration": 32,
    "start_time": "2025-03-12T21:36:20.996Z"
   },
   {
    "duration": 19,
    "start_time": "2025-03-12T21:36:26.517Z"
   },
   {
    "duration": 17,
    "start_time": "2025-03-12T21:36:34.882Z"
   },
   {
    "duration": 21,
    "start_time": "2025-03-12T21:37:13.559Z"
   },
   {
    "duration": 4,
    "start_time": "2025-03-12T21:38:42.333Z"
   },
   {
    "duration": 650,
    "start_time": "2025-03-12T21:38:43.211Z"
   },
   {
    "duration": 5,
    "start_time": "2025-03-12T21:38:55.129Z"
   },
   {
    "duration": 630,
    "start_time": "2025-03-12T21:38:55.337Z"
   },
   {
    "duration": 4493,
    "start_time": "2025-03-13T08:55:20.050Z"
   },
   {
    "duration": 890,
    "start_time": "2025-03-13T08:55:27.240Z"
   },
   {
    "duration": 36,
    "start_time": "2025-03-13T08:55:28.133Z"
   },
   {
    "duration": 14,
    "start_time": "2025-03-13T08:55:29.765Z"
   },
   {
    "duration": 3,
    "start_time": "2025-03-13T08:55:39.774Z"
   },
   {
    "duration": 3,
    "start_time": "2025-03-13T08:55:43.462Z"
   },
   {
    "duration": 5,
    "start_time": "2025-03-13T08:55:59.373Z"
   },
   {
    "duration": 323,
    "start_time": "2025-03-13T08:56:00.430Z"
   },
   {
    "duration": 484,
    "start_time": "2025-03-13T08:56:08.629Z"
   },
   {
    "duration": 4,
    "start_time": "2025-03-13T08:56:20.106Z"
   },
   {
    "duration": 328,
    "start_time": "2025-03-13T08:56:22.229Z"
   },
   {
    "duration": 322,
    "start_time": "2025-03-13T08:58:02.818Z"
   },
   {
    "duration": 6,
    "start_time": "2025-03-13T08:58:06.167Z"
   },
   {
    "duration": 4,
    "start_time": "2025-03-13T09:02:00.172Z"
   },
   {
    "duration": 50,
    "start_time": "2025-03-13T09:02:01.112Z"
   },
   {
    "duration": 5,
    "start_time": "2025-03-13T09:02:01.497Z"
   },
   {
    "duration": 4,
    "start_time": "2025-03-13T09:04:10.876Z"
   },
   {
    "duration": 381,
    "start_time": "2025-03-13T09:04:26.356Z"
   },
   {
    "duration": 8,
    "start_time": "2025-03-13T09:04:34.572Z"
   },
   {
    "duration": 287,
    "start_time": "2025-03-13T09:05:35.447Z"
   },
   {
    "duration": 34,
    "start_time": "2025-03-13T09:05:43.584Z"
   },
   {
    "duration": 4,
    "start_time": "2025-03-13T09:07:36.874Z"
   },
   {
    "duration": 1074,
    "start_time": "2025-03-13T09:07:47.488Z"
   },
   {
    "duration": 4,
    "start_time": "2025-03-13T09:08:14.420Z"
   },
   {
    "duration": 1198,
    "start_time": "2025-03-13T09:08:18.362Z"
   },
   {
    "duration": 3,
    "start_time": "2025-03-13T09:08:44.157Z"
   },
   {
    "duration": 1086,
    "start_time": "2025-03-13T09:08:46.683Z"
   },
   {
    "duration": 4,
    "start_time": "2025-03-13T09:09:11.057Z"
   },
   {
    "duration": 3,
    "start_time": "2025-03-13T09:10:33.092Z"
   },
   {
    "duration": 1149,
    "start_time": "2025-03-13T09:10:36.115Z"
   },
   {
    "duration": 30,
    "start_time": "2025-03-13T09:11:19.801Z"
   },
   {
    "duration": 4,
    "start_time": "2025-03-13T09:11:51.204Z"
   },
   {
    "duration": 444,
    "start_time": "2025-03-13T09:11:52.292Z"
   },
   {
    "duration": 41,
    "start_time": "2025-03-13T09:11:55.961Z"
   },
   {
    "duration": 4,
    "start_time": "2025-03-13T09:12:22.898Z"
   },
   {
    "duration": 390,
    "start_time": "2025-03-13T09:12:24.074Z"
   },
   {
    "duration": 30,
    "start_time": "2025-03-13T09:12:29.489Z"
   },
   {
    "duration": 4,
    "start_time": "2025-03-13T09:12:58.003Z"
   },
   {
    "duration": 3,
    "start_time": "2025-03-13T09:13:10.034Z"
   },
   {
    "duration": 494,
    "start_time": "2025-03-13T09:13:11.240Z"
   },
   {
    "duration": 43,
    "start_time": "2025-03-13T09:13:15.775Z"
   },
   {
    "duration": 338,
    "start_time": "2025-03-13T09:13:37.932Z"
   },
   {
    "duration": 30,
    "start_time": "2025-03-13T09:14:05.173Z"
   },
   {
    "duration": 4,
    "start_time": "2025-03-13T09:14:15.870Z"
   },
   {
    "duration": 531,
    "start_time": "2025-03-13T09:14:18.105Z"
   },
   {
    "duration": 284,
    "start_time": "2025-03-13T09:14:21.066Z"
   },
   {
    "duration": 310,
    "start_time": "2025-03-13T09:17:10.388Z"
   },
   {
    "duration": 284,
    "start_time": "2025-03-13T09:17:13.495Z"
   },
   {
    "duration": 375,
    "start_time": "2025-03-13T09:17:23.180Z"
   },
   {
    "duration": 4,
    "start_time": "2025-03-13T09:17:40.408Z"
   },
   {
    "duration": 526,
    "start_time": "2025-03-13T09:17:41.307Z"
   },
   {
    "duration": 1155,
    "start_time": "2025-03-13T09:17:43.276Z"
   },
   {
    "duration": 11,
    "start_time": "2025-03-13T09:17:49.091Z"
   },
   {
    "duration": 360,
    "start_time": "2025-03-13T09:18:20.802Z"
   },
   {
    "duration": 405,
    "start_time": "2025-03-13T09:18:24.945Z"
   },
   {
    "duration": 6,
    "start_time": "2025-03-13T09:18:47.335Z"
   },
   {
    "duration": 521,
    "start_time": "2025-03-13T09:18:48.312Z"
   },
   {
    "duration": 287,
    "start_time": "2025-03-13T09:18:51.443Z"
   },
   {
    "duration": 1185,
    "start_time": "2025-03-13T09:18:57.647Z"
   },
   {
    "duration": 10,
    "start_time": "2025-03-13T09:19:00.214Z"
   },
   {
    "duration": 1289,
    "start_time": "2025-03-13T09:19:09.981Z"
   },
   {
    "duration": 1542,
    "start_time": "2025-03-13T09:19:15.300Z"
   },
   {
    "duration": 1148,
    "start_time": "2025-03-13T09:19:18.400Z"
   },
   {
    "duration": 101,
    "start_time": "2025-03-13T09:19:19.646Z"
   },
   {
    "duration": 4,
    "start_time": "2025-03-13T09:20:15.735Z"
   },
   {
    "duration": 500,
    "start_time": "2025-03-13T09:20:16.435Z"
   },
   {
    "duration": 4,
    "start_time": "2025-03-13T09:20:20.832Z"
   },
   {
    "duration": 411,
    "start_time": "2025-03-13T09:20:21.326Z"
   },
   {
    "duration": 1167,
    "start_time": "2025-03-13T09:20:23.264Z"
   },
   {
    "duration": 4,
    "start_time": "2025-03-13T09:24:22.993Z"
   },
   {
    "duration": 1180,
    "start_time": "2025-03-13T09:24:26.268Z"
   },
   {
    "duration": 3,
    "start_time": "2025-03-13T09:24:44.772Z"
   },
   {
    "duration": 1210,
    "start_time": "2025-03-13T09:24:46.521Z"
   },
   {
    "duration": 4,
    "start_time": "2025-03-13T09:25:08.050Z"
   },
   {
    "duration": 1087,
    "start_time": "2025-03-13T09:25:09.652Z"
   },
   {
    "duration": 140,
    "start_time": "2025-03-13T09:25:45.741Z"
   },
   {
    "duration": 3,
    "start_time": "2025-03-13T09:25:48.420Z"
   },
   {
    "duration": 365,
    "start_time": "2025-03-13T09:25:50.172Z"
   },
   {
    "duration": 368,
    "start_time": "2025-03-13T09:25:56.289Z"
   },
   {
    "duration": 4,
    "start_time": "2025-03-13T09:26:51.989Z"
   },
   {
    "duration": 24,
    "start_time": "2025-03-13T09:26:54.630Z"
   },
   {
    "duration": 4,
    "start_time": "2025-03-13T09:27:30.956Z"
   },
   {
    "duration": 3,
    "start_time": "2025-03-13T09:27:42.065Z"
   },
   {
    "duration": 4,
    "start_time": "2025-03-13T09:27:51.687Z"
   },
   {
    "duration": 353,
    "start_time": "2025-03-13T09:28:02.605Z"
   },
   {
    "duration": 83,
    "start_time": "2025-03-13T09:28:05.688Z"
   },
   {
    "duration": 4,
    "start_time": "2025-03-13T09:28:16.924Z"
   },
   {
    "duration": 90,
    "start_time": "2025-03-13T09:28:19.559Z"
   },
   {
    "duration": 75,
    "start_time": "2025-03-13T09:29:13.749Z"
   },
   {
    "duration": 3,
    "start_time": "2025-03-13T09:29:20.352Z"
   },
   {
    "duration": 124,
    "start_time": "2025-03-13T09:29:24.415Z"
   },
   {
    "duration": 4,
    "start_time": "2025-03-13T09:31:44.724Z"
   },
   {
    "duration": 464,
    "start_time": "2025-03-13T09:31:47.671Z"
   },
   {
    "duration": 1164,
    "start_time": "2025-03-13T09:32:00.267Z"
   },
   {
    "duration": 12,
    "start_time": "2025-03-13T09:32:03.748Z"
   },
   {
    "duration": 428,
    "start_time": "2025-03-13T09:32:24.605Z"
   },
   {
    "duration": 253,
    "start_time": "2025-03-13T09:33:12.742Z"
   },
   {
    "duration": 245,
    "start_time": "2025-03-13T09:33:25.504Z"
   },
   {
    "duration": 511,
    "start_time": "2025-03-13T09:33:56.911Z"
   },
   {
    "duration": 34,
    "start_time": "2025-03-13T09:39:29.057Z"
   },
   {
    "duration": 4,
    "start_time": "2025-03-13T09:39:40.410Z"
   },
   {
    "duration": 33,
    "start_time": "2025-03-13T09:39:41.067Z"
   },
   {
    "duration": 469,
    "start_time": "2025-03-13T09:39:44.363Z"
   },
   {
    "duration": 1044,
    "start_time": "2025-03-13T09:39:59.187Z"
   },
   {
    "duration": 11,
    "start_time": "2025-03-13T09:40:05.888Z"
   },
   {
    "duration": 4,
    "start_time": "2025-03-13T09:41:04.717Z"
   },
   {
    "duration": 1089,
    "start_time": "2025-03-13T09:41:10.540Z"
   },
   {
    "duration": 11,
    "start_time": "2025-03-13T09:41:12.988Z"
   },
   {
    "duration": 6,
    "start_time": "2025-03-13T09:41:41.647Z"
   },
   {
    "duration": 1013,
    "start_time": "2025-03-13T09:41:51.821Z"
   },
   {
    "duration": 1119,
    "start_time": "2025-03-13T09:42:58.210Z"
   },
   {
    "duration": 17,
    "start_time": "2025-03-13T09:43:27.415Z"
   },
   {
    "duration": 17,
    "start_time": "2025-03-13T09:43:32.406Z"
   },
   {
    "duration": 131,
    "start_time": "2025-03-13T09:44:07.913Z"
   },
   {
    "duration": 107,
    "start_time": "2025-03-13T09:44:16.535Z"
   },
   {
    "duration": 18,
    "start_time": "2025-03-13T09:44:21.591Z"
   },
   {
    "duration": 508,
    "start_time": "2025-03-13T09:44:24.431Z"
   },
   {
    "duration": 536,
    "start_time": "2025-03-13T09:44:54.298Z"
   },
   {
    "duration": 16973,
    "start_time": "2025-03-13T09:45:11.673Z"
   },
   {
    "duration": 5,
    "start_time": "2025-03-13T09:45:41.081Z"
   },
   {
    "duration": 15446,
    "start_time": "2025-03-13T09:45:44.827Z"
   },
   {
    "duration": 5,
    "start_time": "2025-03-13T09:46:04.176Z"
   },
   {
    "duration": 0,
    "start_time": "2025-03-13T09:46:12.485Z"
   },
   {
    "duration": 4,
    "start_time": "2025-03-13T09:46:16.316Z"
   },
   {
    "duration": 10775,
    "start_time": "2025-03-13T09:46:16.876Z"
   },
   {
    "duration": 4,
    "start_time": "2025-03-13T09:46:30.120Z"
   },
   {
    "duration": 134147,
    "start_time": "2025-03-13T09:46:30.689Z"
   },
   {
    "duration": 4,
    "start_time": "2025-03-13T09:48:47.199Z"
   },
   {
    "duration": 5015,
    "start_time": "2025-03-13T09:48:48.258Z"
   },
   {
    "duration": 4,
    "start_time": "2025-03-13T09:54:11.749Z"
   },
   {
    "duration": 76,
    "start_time": "2025-03-13T09:54:12.681Z"
   },
   {
    "duration": 4,
    "start_time": "2025-03-13T09:54:31.080Z"
   },
   {
    "duration": 77,
    "start_time": "2025-03-13T09:54:32.397Z"
   },
   {
    "duration": 4,
    "start_time": "2025-03-13T09:54:45.723Z"
   },
   {
    "duration": 55,
    "start_time": "2025-03-13T09:54:46.456Z"
   },
   {
    "duration": 6,
    "start_time": "2025-03-13T09:54:51.802Z"
   },
   {
    "duration": 9757,
    "start_time": "2025-03-13T09:54:52.164Z"
   },
   {
    "duration": 826,
    "start_time": "2025-03-13T09:55:07.121Z"
   },
   {
    "duration": 5,
    "start_time": "2025-03-13T09:57:02.142Z"
   },
   {
    "duration": 136,
    "start_time": "2025-03-13T09:57:03.342Z"
   },
   {
    "duration": 4,
    "start_time": "2025-03-13T09:57:16.519Z"
   },
   {
    "duration": 96,
    "start_time": "2025-03-13T09:57:17.055Z"
   },
   {
    "duration": 209,
    "start_time": "2025-03-13T09:57:40.853Z"
   },
   {
    "duration": 128,
    "start_time": "2025-03-13T09:57:41.371Z"
   },
   {
    "duration": 75,
    "start_time": "2025-03-13T09:57:53.696Z"
   },
   {
    "duration": 5,
    "start_time": "2025-03-13T09:58:07.488Z"
   },
   {
    "duration": 88,
    "start_time": "2025-03-13T09:58:08.305Z"
   },
   {
    "duration": 4,
    "start_time": "2025-03-13T09:59:40.786Z"
   },
   {
    "duration": 104,
    "start_time": "2025-03-13T09:59:41.878Z"
   },
   {
    "duration": 5,
    "start_time": "2025-03-13T10:00:53.439Z"
   },
   {
    "duration": 86,
    "start_time": "2025-03-13T10:00:54.464Z"
   },
   {
    "duration": 4,
    "start_time": "2025-03-13T10:02:41.689Z"
   },
   {
    "duration": 99,
    "start_time": "2025-03-13T10:02:42.799Z"
   },
   {
    "duration": 4,
    "start_time": "2025-03-13T10:02:47.945Z"
   },
   {
    "duration": 79,
    "start_time": "2025-03-13T10:02:48.248Z"
   },
   {
    "duration": 16,
    "start_time": "2025-03-13T10:03:37.306Z"
   },
   {
    "duration": 37,
    "start_time": "2025-03-13T10:03:40.231Z"
   },
   {
    "duration": 38,
    "start_time": "2025-03-13T10:03:51.759Z"
   },
   {
    "duration": 77,
    "start_time": "2025-03-13T10:04:35.739Z"
   },
   {
    "duration": 79,
    "start_time": "2025-03-13T10:04:48.038Z"
   },
   {
    "duration": 15,
    "start_time": "2025-03-13T10:05:02.044Z"
   },
   {
    "duration": 21,
    "start_time": "2025-03-13T10:05:07.161Z"
   },
   {
    "duration": 13185,
    "start_time": "2025-03-13T10:05:27.094Z"
   },
   {
    "duration": 7,
    "start_time": "2025-03-13T10:05:44.535Z"
   },
   {
    "duration": 22966,
    "start_time": "2025-03-13T10:05:46.414Z"
   },
   {
    "duration": 2589221,
    "start_time": "2025-03-13T10:06:31.088Z"
   },
   {
    "duration": 9,
    "start_time": "2025-03-13T10:51:41.128Z"
   },
   {
    "duration": 828,
    "start_time": "2025-03-13T10:52:04.625Z"
   },
   {
    "duration": 33,
    "start_time": "2025-03-13T10:52:09.726Z"
   },
   {
    "duration": 31,
    "start_time": "2025-03-13T10:52:11.014Z"
   },
   {
    "duration": 113,
    "start_time": "2025-03-13T10:52:12.771Z"
   },
   {
    "duration": 3,
    "start_time": "2025-03-13T10:52:27.882Z"
   },
   {
    "duration": 3,
    "start_time": "2025-03-13T10:52:34.268Z"
   },
   {
    "duration": 4,
    "start_time": "2025-03-13T10:52:36.479Z"
   },
   {
    "duration": 27,
    "start_time": "2025-03-13T10:52:41.307Z"
   },
   {
    "duration": 791,
    "start_time": "2025-03-13T10:53:02.549Z"
   },
   {
    "duration": 7,
    "start_time": "2025-03-13T10:54:08.878Z"
   },
   {
    "duration": 36,
    "start_time": "2025-03-13T10:57:02.513Z"
   },
   {
    "duration": 21,
    "start_time": "2025-03-13T10:57:14.646Z"
   },
   {
    "duration": 35,
    "start_time": "2025-03-13T10:57:29.311Z"
   },
   {
    "duration": 39,
    "start_time": "2025-03-13T10:57:33.240Z"
   },
   {
    "duration": 21,
    "start_time": "2025-03-13T10:57:36.108Z"
   },
   {
    "duration": 4,
    "start_time": "2025-03-13T10:59:32.259Z"
   },
   {
    "duration": 21,
    "start_time": "2025-03-13T10:59:41.046Z"
   },
   {
    "duration": 21,
    "start_time": "2025-03-13T11:00:06.107Z"
   },
   {
    "duration": 17,
    "start_time": "2025-03-13T11:01:22.853Z"
   },
   {
    "duration": 17,
    "start_time": "2025-03-13T11:01:57.765Z"
   },
   {
    "duration": 482,
    "start_time": "2025-03-13T11:02:46.962Z"
   },
   {
    "duration": 11,
    "start_time": "2025-03-13T11:08:00.580Z"
   },
   {
    "duration": 107,
    "start_time": "2025-03-13T11:08:02.028Z"
   },
   {
    "duration": 11,
    "start_time": "2025-03-13T11:08:07.420Z"
   },
   {
    "duration": 18,
    "start_time": "2025-03-13T11:11:39.545Z"
   },
   {
    "duration": 475,
    "start_time": "2025-03-13T11:12:03.645Z"
   },
   {
    "duration": 3,
    "start_time": "2025-03-13T11:12:17.622Z"
   },
   {
    "duration": 4,
    "start_time": "2025-03-13T11:12:25.566Z"
   },
   {
    "duration": 631,
    "start_time": "2025-03-13T11:12:32.755Z"
   },
   {
    "duration": 513,
    "start_time": "2025-03-13T11:12:43.356Z"
   },
   {
    "duration": 756,
    "start_time": "2025-03-13T11:12:50.096Z"
   },
   {
    "duration": 16,
    "start_time": "2025-03-13T11:13:23.154Z"
   },
   {
    "duration": 34,
    "start_time": "2025-03-13T11:13:32.082Z"
   },
   {
    "duration": 3,
    "start_time": "2025-03-13T11:15:41.209Z"
   },
   {
    "duration": 2,
    "start_time": "2025-03-13T11:15:46.521Z"
   },
   {
    "duration": 32,
    "start_time": "2025-03-13T11:15:53.445Z"
   },
   {
    "duration": 201,
    "start_time": "2025-03-13T11:16:23.097Z"
   },
   {
    "duration": 22,
    "start_time": "2025-03-13T11:16:27.289Z"
   },
   {
    "duration": 2,
    "start_time": "2025-03-13T11:16:34.230Z"
   },
   {
    "duration": 194,
    "start_time": "2025-03-13T11:32:23.406Z"
   },
   {
    "duration": 24,
    "start_time": "2025-03-13T11:32:25.879Z"
   },
   {
    "duration": 4,
    "start_time": "2025-03-13T11:35:18.111Z"
   },
   {
    "duration": 81,
    "start_time": "2025-03-13T11:35:27.583Z"
   },
   {
    "duration": 23,
    "start_time": "2025-03-13T11:35:31.859Z"
   },
   {
    "duration": 41,
    "start_time": "2025-03-13T11:39:58.314Z"
   },
   {
    "duration": 40,
    "start_time": "2025-03-13T11:40:37.356Z"
   },
   {
    "duration": 52,
    "start_time": "2025-03-13T11:40:45.959Z"
   },
   {
    "duration": 39,
    "start_time": "2025-03-13T11:40:49.808Z"
   },
   {
    "duration": 19,
    "start_time": "2025-03-13T11:40:57.995Z"
   },
   {
    "duration": 3,
    "start_time": "2025-03-13T11:44:22.585Z"
   },
   {
    "duration": 621,
    "start_time": "2025-03-13T11:44:25.540Z"
   },
   {
    "duration": 3,
    "start_time": "2025-03-13T11:45:29.451Z"
   },
   {
    "duration": 656,
    "start_time": "2025-03-13T11:45:36.198Z"
   },
   {
    "duration": 3,
    "start_time": "2025-03-13T11:45:49.342Z"
   },
   {
    "duration": 637,
    "start_time": "2025-03-13T11:45:51.598Z"
   },
   {
    "duration": 1203,
    "start_time": "2025-03-13T11:46:43.033Z"
   },
   {
    "duration": 1085,
    "start_time": "2025-03-13T11:46:59.030Z"
   },
   {
    "duration": 4,
    "start_time": "2025-03-13T11:48:49.991Z"
   },
   {
    "duration": 110,
    "start_time": "2025-03-13T11:49:11.746Z"
   },
   {
    "duration": 70,
    "start_time": "2025-03-13T11:49:17.123Z"
   },
   {
    "duration": 4,
    "start_time": "2025-03-13T11:49:31.331Z"
   },
   {
    "duration": 46,
    "start_time": "2025-03-13T11:49:36.165Z"
   },
   {
    "duration": 3,
    "start_time": "2025-03-13T11:50:05.881Z"
   },
   {
    "duration": 22,
    "start_time": "2025-03-13T11:50:10.179Z"
   },
   {
    "duration": 87,
    "start_time": "2025-03-13T11:50:57.911Z"
   },
   {
    "duration": 37,
    "start_time": "2025-03-13T11:51:00.927Z"
   },
   {
    "duration": 23,
    "start_time": "2025-03-13T11:53:02.131Z"
   },
   {
    "duration": 21,
    "start_time": "2025-03-13T11:56:14.051Z"
   },
   {
    "duration": 3,
    "start_time": "2025-03-13T11:56:54.246Z"
   },
   {
    "duration": 78,
    "start_time": "2025-03-13T11:56:56.111Z"
   },
   {
    "duration": 69,
    "start_time": "2025-03-13T11:57:03.840Z"
   },
   {
    "duration": 3,
    "start_time": "2025-03-13T11:57:14.070Z"
   },
   {
    "duration": 4,
    "start_time": "2025-03-13T11:57:15.546Z"
   },
   {
    "duration": 583,
    "start_time": "2025-03-13T11:57:17.051Z"
   },
   {
    "duration": 10,
    "start_time": "2025-03-13T11:57:50.854Z"
   },
   {
    "duration": 13,
    "start_time": "2025-03-13T11:57:57.774Z"
   },
   {
    "duration": 10,
    "start_time": "2025-03-13T11:57:58.189Z"
   },
   {
    "duration": 59,
    "start_time": "2025-03-13T11:57:58.713Z"
   },
   {
    "duration": 9,
    "start_time": "2025-03-13T11:58:05.371Z"
   },
   {
    "duration": 3,
    "start_time": "2025-03-13T11:58:09.215Z"
   },
   {
    "duration": 4,
    "start_time": "2025-03-13T12:10:59.332Z"
   },
   {
    "duration": 0,
    "start_time": "2025-03-13T12:52:22.535Z"
   },
   {
    "duration": 0,
    "start_time": "2025-03-13T12:52:22.536Z"
   },
   {
    "duration": 4,
    "start_time": "2025-03-13T12:52:26.645Z"
   },
   {
    "duration": 0,
    "start_time": "2025-03-13T14:26:10.192Z"
   },
   {
    "duration": 0,
    "start_time": "2025-03-13T14:26:10.432Z"
   },
   {
    "duration": 4,
    "start_time": "2025-03-13T14:26:27.640Z"
   },
   {
    "duration": 4,
    "start_time": "2025-03-13T14:26:39.744Z"
   },
   {
    "duration": 1301,
    "start_time": "2025-03-13T14:26:42.148Z"
   },
   {
    "duration": 95,
    "start_time": "2025-03-13T14:26:50.110Z"
   },
   {
    "duration": 1082,
    "start_time": "2025-03-13T14:26:53.909Z"
   },
   {
    "duration": 1264,
    "start_time": "2025-03-13T14:27:04.593Z"
   },
   {
    "duration": 1133,
    "start_time": "2025-03-13T14:27:13.914Z"
   },
   {
    "duration": 3,
    "start_time": "2025-03-13T14:27:35.015Z"
   },
   {
    "duration": 38,
    "start_time": "2025-03-13T14:27:43.220Z"
   },
   {
    "duration": 6,
    "start_time": "2025-03-13T14:27:53.607Z"
   },
   {
    "duration": 3,
    "start_time": "2025-03-13T14:28:00.010Z"
   },
   {
    "duration": 5,
    "start_time": "2025-03-13T14:28:00.660Z"
   },
   {
    "duration": 12,
    "start_time": "2025-03-13T14:28:09.623Z"
   },
   {
    "duration": 4,
    "start_time": "2025-03-13T14:28:22.366Z"
   },
   {
    "duration": 5,
    "start_time": "2025-03-13T14:28:22.869Z"
   },
   {
    "duration": 23,
    "start_time": "2025-03-13T14:28:24.798Z"
   },
   {
    "duration": 16,
    "start_time": "2025-03-13T14:29:39.285Z"
   },
   {
    "duration": 17,
    "start_time": "2025-03-13T14:30:27.986Z"
   },
   {
    "duration": 6,
    "start_time": "2025-03-13T14:31:30.030Z"
   },
   {
    "duration": 11,
    "start_time": "2025-03-13T14:31:33.958Z"
   },
   {
    "duration": 5,
    "start_time": "2025-03-13T14:31:57.116Z"
   },
   {
    "duration": 4,
    "start_time": "2025-03-13T14:32:06.315Z"
   },
   {
    "duration": 4,
    "start_time": "2025-03-13T14:32:41.657Z"
   },
   {
    "duration": 11,
    "start_time": "2025-03-13T14:32:42.346Z"
   },
   {
    "duration": 797093,
    "start_time": "2025-03-13T14:32:45.965Z"
   },
   {
    "duration": 1060,
    "start_time": "2025-03-13T14:46:45.665Z"
   },
   {
    "duration": 17,
    "start_time": "2025-03-13T14:46:48.571Z"
   },
   {
    "duration": 3,
    "start_time": "2025-03-13T14:46:49.821Z"
   },
   {
    "duration": 10,
    "start_time": "2025-03-13T14:50:41.592Z"
   },
   {
    "duration": 19,
    "start_time": "2025-03-13T14:52:08.779Z"
   },
   {
    "duration": 4,
    "start_time": "2025-03-13T14:52:13.841Z"
   },
   {
    "duration": 4449,
    "start_time": "2025-03-13T17:09:46.550Z"
   },
   {
    "duration": 865,
    "start_time": "2025-03-13T17:09:53.401Z"
   },
   {
    "duration": 25,
    "start_time": "2025-03-13T17:09:54.268Z"
   },
   {
    "duration": 14,
    "start_time": "2025-03-13T17:09:55.108Z"
   },
   {
    "duration": 4,
    "start_time": "2025-03-13T17:11:22.230Z"
   },
   {
    "duration": 4547,
    "start_time": "2025-03-13T17:11:46.486Z"
   },
   {
    "duration": 900,
    "start_time": "2025-03-13T17:11:51.035Z"
   },
   {
    "duration": 27,
    "start_time": "2025-03-13T17:11:51.937Z"
   },
   {
    "duration": 14,
    "start_time": "2025-03-13T17:11:51.966Z"
   },
   {
    "duration": 4,
    "start_time": "2025-03-13T17:11:55.116Z"
   },
   {
    "duration": 5,
    "start_time": "2025-03-13T17:12:00.456Z"
   },
   {
    "duration": 24,
    "start_time": "2025-03-13T17:12:10.138Z"
   },
   {
    "duration": 2587188,
    "start_time": "2025-03-13T17:12:23.052Z"
   },
   {
    "duration": 8,
    "start_time": "2025-03-13T17:55:38.590Z"
   },
   {
    "duration": 317,
    "start_time": "2025-03-13T17:55:51.112Z"
   },
   {
    "duration": 10,
    "start_time": "2025-03-13T17:55:53.821Z"
   },
   {
    "duration": 31,
    "start_time": "2025-03-13T17:55:54.357Z"
   },
   {
    "duration": 85,
    "start_time": "2025-03-13T17:55:56.058Z"
   },
   {
    "duration": 2,
    "start_time": "2025-03-13T17:55:56.864Z"
   },
   {
    "duration": 3,
    "start_time": "2025-03-13T17:55:57.061Z"
   },
   {
    "duration": 2,
    "start_time": "2025-03-13T17:55:57.276Z"
   },
   {
    "duration": 2,
    "start_time": "2025-03-13T17:56:05.302Z"
   },
   {
    "duration": 4,
    "start_time": "2025-03-13T17:56:14.870Z"
   },
   {
    "duration": 5,
    "start_time": "2025-03-13T17:56:18.089Z"
   },
   {
    "duration": 968551,
    "start_time": "2025-03-13T17:56:28.295Z"
   },
   {
    "duration": 1152,
    "start_time": "2025-03-13T18:16:17.990Z"
   },
   {
    "duration": 17,
    "start_time": "2025-03-13T18:16:21.206Z"
   },
   {
    "duration": 4,
    "start_time": "2025-03-13T18:16:22.481Z"
   },
   {
    "duration": 2185,
    "start_time": "2025-03-25T16:28:47.941Z"
   },
   {
    "duration": 4,
    "start_time": "2025-03-25T16:28:53.097Z"
   },
   {
    "duration": 4,
    "start_time": "2025-03-25T16:28:55.631Z"
   },
   {
    "duration": 4,
    "start_time": "2025-03-25T16:28:57.406Z"
   },
   {
    "duration": 541,
    "start_time": "2025-03-25T16:30:18.017Z"
   },
   {
    "duration": 9,
    "start_time": "2025-03-25T16:30:50.377Z"
   },
   {
    "duration": 148,
    "start_time": "2025-03-25T16:30:58.703Z"
   },
   {
    "duration": 106,
    "start_time": "2025-03-25T16:31:28.261Z"
   },
   {
    "duration": 58,
    "start_time": "2025-03-25T16:31:30.707Z"
   },
   {
    "duration": 242,
    "start_time": "2025-03-25T16:32:23.221Z"
   },
   {
    "duration": 3,
    "start_time": "2025-03-25T16:32:53.954Z"
   },
   {
    "duration": 22,
    "start_time": "2025-03-25T16:32:56.260Z"
   },
   {
    "duration": 4,
    "start_time": "2025-03-25T16:33:06.666Z"
   },
   {
    "duration": 19,
    "start_time": "2025-03-25T16:33:09.639Z"
   },
   {
    "duration": 4,
    "start_time": "2025-03-25T16:34:25.079Z"
   },
   {
    "duration": 4,
    "start_time": "2025-03-25T16:34:37.271Z"
   },
   {
    "duration": 973,
    "start_time": "2025-03-25T16:34:41.393Z"
   },
   {
    "duration": 319,
    "start_time": "2025-03-25T16:34:49.447Z"
   },
   {
    "duration": 4,
    "start_time": "2025-03-25T16:34:51.154Z"
   },
   {
    "duration": 3,
    "start_time": "2025-03-25T16:34:58.220Z"
   },
   {
    "duration": 65,
    "start_time": "2025-03-25T16:35:02.134Z"
   },
   {
    "duration": 42713,
    "start_time": "2025-03-25T16:35:02.680Z"
   },
   {
    "duration": 4,
    "start_time": "2025-03-25T16:35:49.686Z"
   }
  ],
  "kernelspec": {
   "display_name": "Python 3 (ipykernel)",
   "language": "python",
   "name": "python3"
  },
  "language_info": {
   "codemirror_mode": {
    "name": "ipython",
    "version": 3
   },
   "file_extension": ".py",
   "mimetype": "text/x-python",
   "name": "python",
   "nbconvert_exporter": "python",
   "pygments_lexer": "ipython3",
   "version": "3.11.9"
  },
  "toc": {
   "base_numbering": 1,
   "nav_menu": {},
   "number_sections": true,
   "sideBar": true,
   "skip_h1_title": true,
   "title_cell": "Содержание",
   "title_sidebar": "Contents",
   "toc_cell": true,
   "toc_position": {
    "height": "calc(100% - 180px)",
    "left": "10px",
    "top": "150px",
    "width": "237.391px"
   },
   "toc_section_display": true,
   "toc_window_display": true
  }
 },
 "nbformat": 4,
 "nbformat_minor": 2
}
