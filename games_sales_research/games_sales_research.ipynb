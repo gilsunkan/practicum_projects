{
 "cells": [
  {
   "cell_type": "markdown",
   "metadata": {},
   "source": [
    "# Исследование данных по продажам компьютерных игр\n",
    "\n",
    "Вы работаете в интернет-магазине «Стримчик», который продаёт по всему миру компьютерные игры. Из открытых источников доступны исторические данные о продажах игр, оценки пользователей и экспертов, жанры и платформы (например, Xbox или PlayStation). Вам нужно выявить определяющие успешность игры закономерности. Это позволит сделать ставку на потенциально популярный продукт и спланировать рекламные кампании.\n",
    "\n",
    "Перед вами данные до 2016 года. Представим, что сейчас декабрь 2016 г., и вы планируете кампанию на 2017-й. Нужно отработать принцип работы с данными. Неважно, прогнозируете ли вы продажи на 2017 год по данным 2016-го или же 2027-й — по данным 2026 года.\n",
    "\n",
    "В наборе данных попадается аббревиатура ESRB (Entertainment Software Rating Board) — это ассоциация, определяющая возрастной рейтинг компьютерных игр. ESRB оценивает игровой контент и присваивает ему подходящую возрастную категорию, например, «Для взрослых», «Для детей младшего возраста» или «Для подростков»."
   ]
  },
  {
   "cell_type": "markdown",
   "metadata": {},
   "source": [
    "**Цель проекта**:\n",
    "Провести исследовательский анализ данных и проверить гипотезы, которые могут помочь в прогнозе продаж игр на 2017 год. \n",
    "\n",
    "**План проекта**\n",
    "\n",
    " 1. Загрузка и обзор данных.\n",
    " 2. Предобработка данных.\n",
    " 3. Исследовательский анализ данных.\n",
    " 4. Портрет пользователя каждого региона\n",
    " 5. Проверка гипотез\n",
    " 6. Общий вывод"
   ]
  },
  {
   "cell_type": "code",
   "execution_count": 2,
   "metadata": {},
   "outputs": [],
   "source": [
    "import pandas as pd\n",
    "import matplotlib.pyplot as plt\n",
    "import numpy as np\n",
    "from scipy import stats as st\n",
    "from IPython.display import display"
   ]
  },
  {
   "cell_type": "markdown",
   "metadata": {},
   "source": [
    "## Загрузка данных"
   ]
  },
  {
   "cell_type": "code",
   "execution_count": 3,
   "metadata": {},
   "outputs": [],
   "source": [
    "#считаем CSV-файл с данными с помощью библиотеки pandas и сохраним его в датафрейм\n",
    "\n",
    "data = pd.read_csv('games.csv')"
   ]
  },
  {
   "cell_type": "code",
   "execution_count": 4,
   "metadata": {},
   "outputs": [
    {
     "data": {
      "text/html": [
       "<div>\n",
       "<style scoped>\n",
       "    .dataframe tbody tr th:only-of-type {\n",
       "        vertical-align: middle;\n",
       "    }\n",
       "\n",
       "    .dataframe tbody tr th {\n",
       "        vertical-align: top;\n",
       "    }\n",
       "\n",
       "    .dataframe thead th {\n",
       "        text-align: right;\n",
       "    }\n",
       "</style>\n",
       "<table border=\"1\" class=\"dataframe\">\n",
       "  <thead>\n",
       "    <tr style=\"text-align: right;\">\n",
       "      <th></th>\n",
       "      <th>Name</th>\n",
       "      <th>Platform</th>\n",
       "      <th>Year_of_Release</th>\n",
       "      <th>Genre</th>\n",
       "      <th>NA_sales</th>\n",
       "      <th>EU_sales</th>\n",
       "      <th>JP_sales</th>\n",
       "      <th>Other_sales</th>\n",
       "      <th>Critic_Score</th>\n",
       "      <th>User_Score</th>\n",
       "      <th>Rating</th>\n",
       "    </tr>\n",
       "  </thead>\n",
       "  <tbody>\n",
       "    <tr>\n",
       "      <th>0</th>\n",
       "      <td>Wii Sports</td>\n",
       "      <td>Wii</td>\n",
       "      <td>2006.0</td>\n",
       "      <td>Sports</td>\n",
       "      <td>41.36</td>\n",
       "      <td>28.96</td>\n",
       "      <td>3.77</td>\n",
       "      <td>8.45</td>\n",
       "      <td>76.0</td>\n",
       "      <td>8</td>\n",
       "      <td>E</td>\n",
       "    </tr>\n",
       "    <tr>\n",
       "      <th>1</th>\n",
       "      <td>Super Mario Bros.</td>\n",
       "      <td>NES</td>\n",
       "      <td>1985.0</td>\n",
       "      <td>Platform</td>\n",
       "      <td>29.08</td>\n",
       "      <td>3.58</td>\n",
       "      <td>6.81</td>\n",
       "      <td>0.77</td>\n",
       "      <td>NaN</td>\n",
       "      <td>NaN</td>\n",
       "      <td>NaN</td>\n",
       "    </tr>\n",
       "    <tr>\n",
       "      <th>2</th>\n",
       "      <td>Mario Kart Wii</td>\n",
       "      <td>Wii</td>\n",
       "      <td>2008.0</td>\n",
       "      <td>Racing</td>\n",
       "      <td>15.68</td>\n",
       "      <td>12.76</td>\n",
       "      <td>3.79</td>\n",
       "      <td>3.29</td>\n",
       "      <td>82.0</td>\n",
       "      <td>8.3</td>\n",
       "      <td>E</td>\n",
       "    </tr>\n",
       "    <tr>\n",
       "      <th>3</th>\n",
       "      <td>Wii Sports Resort</td>\n",
       "      <td>Wii</td>\n",
       "      <td>2009.0</td>\n",
       "      <td>Sports</td>\n",
       "      <td>15.61</td>\n",
       "      <td>10.93</td>\n",
       "      <td>3.28</td>\n",
       "      <td>2.95</td>\n",
       "      <td>80.0</td>\n",
       "      <td>8</td>\n",
       "      <td>E</td>\n",
       "    </tr>\n",
       "    <tr>\n",
       "      <th>4</th>\n",
       "      <td>Pokemon Red/Pokemon Blue</td>\n",
       "      <td>GB</td>\n",
       "      <td>1996.0</td>\n",
       "      <td>Role-Playing</td>\n",
       "      <td>11.27</td>\n",
       "      <td>8.89</td>\n",
       "      <td>10.22</td>\n",
       "      <td>1.00</td>\n",
       "      <td>NaN</td>\n",
       "      <td>NaN</td>\n",
       "      <td>NaN</td>\n",
       "    </tr>\n",
       "    <tr>\n",
       "      <th>5</th>\n",
       "      <td>Tetris</td>\n",
       "      <td>GB</td>\n",
       "      <td>1989.0</td>\n",
       "      <td>Puzzle</td>\n",
       "      <td>23.20</td>\n",
       "      <td>2.26</td>\n",
       "      <td>4.22</td>\n",
       "      <td>0.58</td>\n",
       "      <td>NaN</td>\n",
       "      <td>NaN</td>\n",
       "      <td>NaN</td>\n",
       "    </tr>\n",
       "    <tr>\n",
       "      <th>6</th>\n",
       "      <td>New Super Mario Bros.</td>\n",
       "      <td>DS</td>\n",
       "      <td>2006.0</td>\n",
       "      <td>Platform</td>\n",
       "      <td>11.28</td>\n",
       "      <td>9.14</td>\n",
       "      <td>6.50</td>\n",
       "      <td>2.88</td>\n",
       "      <td>89.0</td>\n",
       "      <td>8.5</td>\n",
       "      <td>E</td>\n",
       "    </tr>\n",
       "    <tr>\n",
       "      <th>7</th>\n",
       "      <td>Wii Play</td>\n",
       "      <td>Wii</td>\n",
       "      <td>2006.0</td>\n",
       "      <td>Misc</td>\n",
       "      <td>13.96</td>\n",
       "      <td>9.18</td>\n",
       "      <td>2.93</td>\n",
       "      <td>2.84</td>\n",
       "      <td>58.0</td>\n",
       "      <td>6.6</td>\n",
       "      <td>E</td>\n",
       "    </tr>\n",
       "    <tr>\n",
       "      <th>8</th>\n",
       "      <td>New Super Mario Bros. Wii</td>\n",
       "      <td>Wii</td>\n",
       "      <td>2009.0</td>\n",
       "      <td>Platform</td>\n",
       "      <td>14.44</td>\n",
       "      <td>6.94</td>\n",
       "      <td>4.70</td>\n",
       "      <td>2.24</td>\n",
       "      <td>87.0</td>\n",
       "      <td>8.4</td>\n",
       "      <td>E</td>\n",
       "    </tr>\n",
       "    <tr>\n",
       "      <th>9</th>\n",
       "      <td>Duck Hunt</td>\n",
       "      <td>NES</td>\n",
       "      <td>1984.0</td>\n",
       "      <td>Shooter</td>\n",
       "      <td>26.93</td>\n",
       "      <td>0.63</td>\n",
       "      <td>0.28</td>\n",
       "      <td>0.47</td>\n",
       "      <td>NaN</td>\n",
       "      <td>NaN</td>\n",
       "      <td>NaN</td>\n",
       "    </tr>\n",
       "    <tr>\n",
       "      <th>10</th>\n",
       "      <td>Nintendogs</td>\n",
       "      <td>DS</td>\n",
       "      <td>2005.0</td>\n",
       "      <td>Simulation</td>\n",
       "      <td>9.05</td>\n",
       "      <td>10.95</td>\n",
       "      <td>1.93</td>\n",
       "      <td>2.74</td>\n",
       "      <td>NaN</td>\n",
       "      <td>NaN</td>\n",
       "      <td>NaN</td>\n",
       "    </tr>\n",
       "    <tr>\n",
       "      <th>11</th>\n",
       "      <td>Mario Kart DS</td>\n",
       "      <td>DS</td>\n",
       "      <td>2005.0</td>\n",
       "      <td>Racing</td>\n",
       "      <td>9.71</td>\n",
       "      <td>7.47</td>\n",
       "      <td>4.13</td>\n",
       "      <td>1.90</td>\n",
       "      <td>91.0</td>\n",
       "      <td>8.6</td>\n",
       "      <td>E</td>\n",
       "    </tr>\n",
       "    <tr>\n",
       "      <th>12</th>\n",
       "      <td>Pokemon Gold/Pokemon Silver</td>\n",
       "      <td>GB</td>\n",
       "      <td>1999.0</td>\n",
       "      <td>Role-Playing</td>\n",
       "      <td>9.00</td>\n",
       "      <td>6.18</td>\n",
       "      <td>7.20</td>\n",
       "      <td>0.71</td>\n",
       "      <td>NaN</td>\n",
       "      <td>NaN</td>\n",
       "      <td>NaN</td>\n",
       "    </tr>\n",
       "    <tr>\n",
       "      <th>13</th>\n",
       "      <td>Wii Fit</td>\n",
       "      <td>Wii</td>\n",
       "      <td>2007.0</td>\n",
       "      <td>Sports</td>\n",
       "      <td>8.92</td>\n",
       "      <td>8.03</td>\n",
       "      <td>3.60</td>\n",
       "      <td>2.15</td>\n",
       "      <td>80.0</td>\n",
       "      <td>7.7</td>\n",
       "      <td>E</td>\n",
       "    </tr>\n",
       "    <tr>\n",
       "      <th>14</th>\n",
       "      <td>Kinect Adventures!</td>\n",
       "      <td>X360</td>\n",
       "      <td>2010.0</td>\n",
       "      <td>Misc</td>\n",
       "      <td>15.00</td>\n",
       "      <td>4.89</td>\n",
       "      <td>0.24</td>\n",
       "      <td>1.69</td>\n",
       "      <td>61.0</td>\n",
       "      <td>6.3</td>\n",
       "      <td>E</td>\n",
       "    </tr>\n",
       "    <tr>\n",
       "      <th>15</th>\n",
       "      <td>Wii Fit Plus</td>\n",
       "      <td>Wii</td>\n",
       "      <td>2009.0</td>\n",
       "      <td>Sports</td>\n",
       "      <td>9.01</td>\n",
       "      <td>8.49</td>\n",
       "      <td>2.53</td>\n",
       "      <td>1.77</td>\n",
       "      <td>80.0</td>\n",
       "      <td>7.4</td>\n",
       "      <td>E</td>\n",
       "    </tr>\n",
       "    <tr>\n",
       "      <th>16</th>\n",
       "      <td>Grand Theft Auto V</td>\n",
       "      <td>PS3</td>\n",
       "      <td>2013.0</td>\n",
       "      <td>Action</td>\n",
       "      <td>7.02</td>\n",
       "      <td>9.09</td>\n",
       "      <td>0.98</td>\n",
       "      <td>3.96</td>\n",
       "      <td>97.0</td>\n",
       "      <td>8.2</td>\n",
       "      <td>M</td>\n",
       "    </tr>\n",
       "    <tr>\n",
       "      <th>17</th>\n",
       "      <td>Grand Theft Auto: San Andreas</td>\n",
       "      <td>PS2</td>\n",
       "      <td>2004.0</td>\n",
       "      <td>Action</td>\n",
       "      <td>9.43</td>\n",
       "      <td>0.40</td>\n",
       "      <td>0.41</td>\n",
       "      <td>10.57</td>\n",
       "      <td>95.0</td>\n",
       "      <td>9</td>\n",
       "      <td>M</td>\n",
       "    </tr>\n",
       "    <tr>\n",
       "      <th>18</th>\n",
       "      <td>Super Mario World</td>\n",
       "      <td>SNES</td>\n",
       "      <td>1990.0</td>\n",
       "      <td>Platform</td>\n",
       "      <td>12.78</td>\n",
       "      <td>3.75</td>\n",
       "      <td>3.54</td>\n",
       "      <td>0.55</td>\n",
       "      <td>NaN</td>\n",
       "      <td>NaN</td>\n",
       "      <td>NaN</td>\n",
       "    </tr>\n",
       "    <tr>\n",
       "      <th>19</th>\n",
       "      <td>Brain Age: Train Your Brain in Minutes a Day</td>\n",
       "      <td>DS</td>\n",
       "      <td>2005.0</td>\n",
       "      <td>Misc</td>\n",
       "      <td>4.74</td>\n",
       "      <td>9.20</td>\n",
       "      <td>4.16</td>\n",
       "      <td>2.04</td>\n",
       "      <td>77.0</td>\n",
       "      <td>7.9</td>\n",
       "      <td>E</td>\n",
       "    </tr>\n",
       "  </tbody>\n",
       "</table>\n",
       "</div>"
      ],
      "text/plain": [
       "                                            Name Platform  Year_of_Release  \\\n",
       "0                                     Wii Sports      Wii           2006.0   \n",
       "1                              Super Mario Bros.      NES           1985.0   \n",
       "2                                 Mario Kart Wii      Wii           2008.0   \n",
       "3                              Wii Sports Resort      Wii           2009.0   \n",
       "4                       Pokemon Red/Pokemon Blue       GB           1996.0   \n",
       "5                                         Tetris       GB           1989.0   \n",
       "6                          New Super Mario Bros.       DS           2006.0   \n",
       "7                                       Wii Play      Wii           2006.0   \n",
       "8                      New Super Mario Bros. Wii      Wii           2009.0   \n",
       "9                                      Duck Hunt      NES           1984.0   \n",
       "10                                    Nintendogs       DS           2005.0   \n",
       "11                                 Mario Kart DS       DS           2005.0   \n",
       "12                   Pokemon Gold/Pokemon Silver       GB           1999.0   \n",
       "13                                       Wii Fit      Wii           2007.0   \n",
       "14                            Kinect Adventures!     X360           2010.0   \n",
       "15                                  Wii Fit Plus      Wii           2009.0   \n",
       "16                            Grand Theft Auto V      PS3           2013.0   \n",
       "17                 Grand Theft Auto: San Andreas      PS2           2004.0   \n",
       "18                             Super Mario World     SNES           1990.0   \n",
       "19  Brain Age: Train Your Brain in Minutes a Day       DS           2005.0   \n",
       "\n",
       "           Genre  NA_sales  EU_sales  JP_sales  Other_sales  Critic_Score  \\\n",
       "0         Sports     41.36     28.96      3.77         8.45          76.0   \n",
       "1       Platform     29.08      3.58      6.81         0.77           NaN   \n",
       "2         Racing     15.68     12.76      3.79         3.29          82.0   \n",
       "3         Sports     15.61     10.93      3.28         2.95          80.0   \n",
       "4   Role-Playing     11.27      8.89     10.22         1.00           NaN   \n",
       "5         Puzzle     23.20      2.26      4.22         0.58           NaN   \n",
       "6       Platform     11.28      9.14      6.50         2.88          89.0   \n",
       "7           Misc     13.96      9.18      2.93         2.84          58.0   \n",
       "8       Platform     14.44      6.94      4.70         2.24          87.0   \n",
       "9        Shooter     26.93      0.63      0.28         0.47           NaN   \n",
       "10    Simulation      9.05     10.95      1.93         2.74           NaN   \n",
       "11        Racing      9.71      7.47      4.13         1.90          91.0   \n",
       "12  Role-Playing      9.00      6.18      7.20         0.71           NaN   \n",
       "13        Sports      8.92      8.03      3.60         2.15          80.0   \n",
       "14          Misc     15.00      4.89      0.24         1.69          61.0   \n",
       "15        Sports      9.01      8.49      2.53         1.77          80.0   \n",
       "16        Action      7.02      9.09      0.98         3.96          97.0   \n",
       "17        Action      9.43      0.40      0.41        10.57          95.0   \n",
       "18      Platform     12.78      3.75      3.54         0.55           NaN   \n",
       "19          Misc      4.74      9.20      4.16         2.04          77.0   \n",
       "\n",
       "   User_Score Rating  \n",
       "0           8      E  \n",
       "1         NaN    NaN  \n",
       "2         8.3      E  \n",
       "3           8      E  \n",
       "4         NaN    NaN  \n",
       "5         NaN    NaN  \n",
       "6         8.5      E  \n",
       "7         6.6      E  \n",
       "8         8.4      E  \n",
       "9         NaN    NaN  \n",
       "10        NaN    NaN  \n",
       "11        8.6      E  \n",
       "12        NaN    NaN  \n",
       "13        7.7      E  \n",
       "14        6.3      E  \n",
       "15        7.4      E  \n",
       "16        8.2      M  \n",
       "17          9      M  \n",
       "18        NaN    NaN  \n",
       "19        7.9      E  "
      ]
     },
     "execution_count": 4,
     "metadata": {},
     "output_type": "execute_result"
    }
   ],
   "source": [
    "#выведем первые 20 строк датасета\n",
    "\n",
    "data.head(20)"
   ]
  },
  {
   "cell_type": "markdown",
   "metadata": {},
   "source": [
    "### Общая информация о датафрейме"
   ]
  },
  {
   "cell_type": "code",
   "execution_count": 5,
   "metadata": {
    "scrolled": false
   },
   "outputs": [
    {
     "name": "stdout",
     "output_type": "stream",
     "text": [
      "<class 'pandas.core.frame.DataFrame'>\n",
      "RangeIndex: 16715 entries, 0 to 16714\n",
      "Data columns (total 11 columns):\n",
      " #   Column           Non-Null Count  Dtype  \n",
      "---  ------           --------------  -----  \n",
      " 0   Name             16713 non-null  object \n",
      " 1   Platform         16715 non-null  object \n",
      " 2   Year_of_Release  16446 non-null  float64\n",
      " 3   Genre            16713 non-null  object \n",
      " 4   NA_sales         16715 non-null  float64\n",
      " 5   EU_sales         16715 non-null  float64\n",
      " 6   JP_sales         16715 non-null  float64\n",
      " 7   Other_sales      16715 non-null  float64\n",
      " 8   Critic_Score     8137 non-null   float64\n",
      " 9   User_Score       10014 non-null  object \n",
      " 10  Rating           9949 non-null   object \n",
      "dtypes: float64(6), object(5)\n",
      "memory usage: 1.4+ MB\n"
     ]
    }
   ],
   "source": [
    "#изучим общую информацию о датафрейме\n",
    "\n",
    "data.info()"
   ]
  },
  {
   "cell_type": "markdown",
   "metadata": {},
   "source": [
    "Видим, что есть небольшое количество пропусков в строках с информацией о названии игр, о дате выпуска, о жанре игр.\n",
    "Также, большое количество пропусков в данных с информацией о пользовательской оценке, оценке критиков и рейтингу ESRB.\n",
    "\n",
    "Также у столбцов: год выпуска и пользовательская оценка имеют неподходящий тип данных.\n"
   ]
  },
  {
   "cell_type": "markdown",
   "metadata": {},
   "source": [
    "## Предобработка данных"
   ]
  },
  {
   "cell_type": "markdown",
   "metadata": {},
   "source": [
    "В этом разделе необходимо:\n",
    "\n",
    "- Заменить названия столбцов;\n",
    "- Преобразовать данные в нужные типы, с описанием причины замены;\n",
    "- Обработать пропуски при необходимости, привести объяснение заполнения пропусков определённым образом;\n",
    "- Описать причины, которые могли привести к пропускам;\n",
    "- Обработать значения с аббревиатурой 'tbd' в столбце с оценкой пользователей;\n",
    "- Посчитать суммарные продажи во всех регионах и записать их в отдельный столбец.\n"
   ]
  },
  {
   "cell_type": "markdown",
   "metadata": {},
   "source": [
    "### Замена названий столбцов"
   ]
  },
  {
   "cell_type": "code",
   "execution_count": 6,
   "metadata": {},
   "outputs": [
    {
     "data": {
      "text/html": [
       "<div>\n",
       "<style scoped>\n",
       "    .dataframe tbody tr th:only-of-type {\n",
       "        vertical-align: middle;\n",
       "    }\n",
       "\n",
       "    .dataframe tbody tr th {\n",
       "        vertical-align: top;\n",
       "    }\n",
       "\n",
       "    .dataframe thead th {\n",
       "        text-align: right;\n",
       "    }\n",
       "</style>\n",
       "<table border=\"1\" class=\"dataframe\">\n",
       "  <thead>\n",
       "    <tr style=\"text-align: right;\">\n",
       "      <th></th>\n",
       "      <th>name</th>\n",
       "      <th>platform</th>\n",
       "      <th>year_of_release</th>\n",
       "      <th>genre</th>\n",
       "      <th>na_sales</th>\n",
       "      <th>eu_sales</th>\n",
       "      <th>jp_sales</th>\n",
       "      <th>other_sales</th>\n",
       "      <th>critic_score</th>\n",
       "      <th>user_score</th>\n",
       "      <th>rating</th>\n",
       "    </tr>\n",
       "  </thead>\n",
       "  <tbody>\n",
       "    <tr>\n",
       "      <th>0</th>\n",
       "      <td>Wii Sports</td>\n",
       "      <td>Wii</td>\n",
       "      <td>2006.0</td>\n",
       "      <td>Sports</td>\n",
       "      <td>41.36</td>\n",
       "      <td>28.96</td>\n",
       "      <td>3.77</td>\n",
       "      <td>8.45</td>\n",
       "      <td>76.0</td>\n",
       "      <td>8</td>\n",
       "      <td>E</td>\n",
       "    </tr>\n",
       "    <tr>\n",
       "      <th>1</th>\n",
       "      <td>Super Mario Bros.</td>\n",
       "      <td>NES</td>\n",
       "      <td>1985.0</td>\n",
       "      <td>Platform</td>\n",
       "      <td>29.08</td>\n",
       "      <td>3.58</td>\n",
       "      <td>6.81</td>\n",
       "      <td>0.77</td>\n",
       "      <td>NaN</td>\n",
       "      <td>NaN</td>\n",
       "      <td>NaN</td>\n",
       "    </tr>\n",
       "    <tr>\n",
       "      <th>2</th>\n",
       "      <td>Mario Kart Wii</td>\n",
       "      <td>Wii</td>\n",
       "      <td>2008.0</td>\n",
       "      <td>Racing</td>\n",
       "      <td>15.68</td>\n",
       "      <td>12.76</td>\n",
       "      <td>3.79</td>\n",
       "      <td>3.29</td>\n",
       "      <td>82.0</td>\n",
       "      <td>8.3</td>\n",
       "      <td>E</td>\n",
       "    </tr>\n",
       "    <tr>\n",
       "      <th>3</th>\n",
       "      <td>Wii Sports Resort</td>\n",
       "      <td>Wii</td>\n",
       "      <td>2009.0</td>\n",
       "      <td>Sports</td>\n",
       "      <td>15.61</td>\n",
       "      <td>10.93</td>\n",
       "      <td>3.28</td>\n",
       "      <td>2.95</td>\n",
       "      <td>80.0</td>\n",
       "      <td>8</td>\n",
       "      <td>E</td>\n",
       "    </tr>\n",
       "    <tr>\n",
       "      <th>4</th>\n",
       "      <td>Pokemon Red/Pokemon Blue</td>\n",
       "      <td>GB</td>\n",
       "      <td>1996.0</td>\n",
       "      <td>Role-Playing</td>\n",
       "      <td>11.27</td>\n",
       "      <td>8.89</td>\n",
       "      <td>10.22</td>\n",
       "      <td>1.00</td>\n",
       "      <td>NaN</td>\n",
       "      <td>NaN</td>\n",
       "      <td>NaN</td>\n",
       "    </tr>\n",
       "  </tbody>\n",
       "</table>\n",
       "</div>"
      ],
      "text/plain": [
       "                       name platform  year_of_release         genre  na_sales  \\\n",
       "0                Wii Sports      Wii           2006.0        Sports     41.36   \n",
       "1         Super Mario Bros.      NES           1985.0      Platform     29.08   \n",
       "2            Mario Kart Wii      Wii           2008.0        Racing     15.68   \n",
       "3         Wii Sports Resort      Wii           2009.0        Sports     15.61   \n",
       "4  Pokemon Red/Pokemon Blue       GB           1996.0  Role-Playing     11.27   \n",
       "\n",
       "   eu_sales  jp_sales  other_sales  critic_score user_score rating  \n",
       "0     28.96      3.77         8.45          76.0          8      E  \n",
       "1      3.58      6.81         0.77           NaN        NaN    NaN  \n",
       "2     12.76      3.79         3.29          82.0        8.3      E  \n",
       "3     10.93      3.28         2.95          80.0          8      E  \n",
       "4      8.89     10.22         1.00           NaN        NaN    NaN  "
      ]
     },
     "execution_count": 6,
     "metadata": {},
     "output_type": "execute_result"
    }
   ],
   "source": [
    "#приведем названия столбцов к нижнему регистру\n",
    "\n",
    "data = data.rename(\n",
    "    columns ={\n",
    "        'Name': 'name', \n",
    "        'Platform': 'platform', \n",
    "        'Year_of_Release': 'year_of_release', \n",
    "        'Genre': 'genre',\n",
    "        'NA_sales': 'na_sales',\n",
    "        'EU_sales': 'eu_sales',\n",
    "        'JP_sales': 'jp_sales',\n",
    "        'Other_sales': 'other_sales',\n",
    "        'Critic_Score': 'critic_score',\n",
    "        'User_Score': 'user_score',\n",
    "        'Rating': 'rating',\n",
    "    }\n",
    ")\n",
    "\n",
    "#проверим внесенные изменения\n",
    "data.head()"
   ]
  },
  {
   "cell_type": "markdown",
   "metadata": {},
   "source": [
    "### Обработка пропусков"
   ]
  },
  {
   "cell_type": "markdown",
   "metadata": {},
   "source": [
    "По общей информации о датафрейме заметили небольшое количество пропусков в строках с информацией о названии игр, о годе выпуска, о жанре игр.Также, большое количество пропусков в данных с информацией о пользовательской оценке, оценке критиков и рейтингу ESRB."
   ]
  },
  {
   "cell_type": "markdown",
   "metadata": {},
   "source": [
    "#### Обработка пропусков со значениями года релиза"
   ]
  },
  {
   "cell_type": "code",
   "execution_count": 7,
   "metadata": {},
   "outputs": [
    {
     "name": "stdout",
     "output_type": "stream",
     "text": [
      "269\n"
     ]
    }
   ],
   "source": [
    "#выведем количество пропусков со значениями года выпуска\n",
    "print(data['year_of_release'].isna().sum())\n",
    "\n",
    "#удалим строки с пропусками\n",
    "data = data.dropna(subset=['year_of_release'])\n",
    "\n",
    "#заменим тип данных на integer\n",
    "data['year_of_release'] = data['year_of_release'].astype('int')"
   ]
  },
  {
   "cell_type": "markdown",
   "metadata": {},
   "source": [
    "Так как размер данных с пропусками незначительно мал, можно удалить строки с пропусками с информацией о годе выпуска игр, так как эта информация важна для прогнозирования продаж и заполнить ее другими значениями на основе текущей таблицы нет возможности. \n",
    "\n",
    "Заменили тип данных на целые числа, так как визуально удобнее видеть год в виде числа без дробной части. \n",
    "\n",
    "Пропуски в данных могли возникнуть по причине неполного заполнения данных или по ошибке."
   ]
  },
  {
   "cell_type": "markdown",
   "metadata": {},
   "source": [
    "#### Обработка пропусков со значениями оценки пользователя"
   ]
  },
  {
   "cell_type": "code",
   "execution_count": 8,
   "metadata": {},
   "outputs": [
    {
     "name": "stdout",
     "output_type": "stream",
     "text": [
      "6607\n",
      "2376\n"
     ]
    }
   ],
   "source": [
    "#выведем количество пропусков со значениями пользовательской оценки\n",
    "print(data['user_score'].isna().sum())\n",
    "\n",
    "print(data[data['user_score'] == \"tbd\"]['user_score'].count())\n",
    "\n",
    "#заменим значения 'tbd' на пропуски\n",
    "data['user_score'] = data['user_score'].replace('tbd', np.nan)\n",
    "\n",
    "#заменим тип данных на float\n",
    "data['user_score'] = data['user_score'].astype('float')"
   ]
  },
  {
   "cell_type": "markdown",
   "metadata": {},
   "source": [
    "Видим большое количество пропусков с оценкой пользователя, эти данные могут быть полезны для дальнейшего исследования, оставили пропуски без изменений. Пропуски могут быть связаны с отсутствием оценки или большой давностью данных. \n",
    "\n",
    "\"tbd\" – это аббревиатура, которая означает фразу “To Be Determined”, то есть отсутствие рейтинга на данный момент. Это может быть связано с тем, что пока не достаточно отзывов для формирования конечной оценки, а также с большой давностью выпуска игры - данные могли потеряться или вообще не фиксироваться на тот момент.\n",
    "Эти значения также заменили пропуски. \n"
   ]
  },
  {
   "cell_type": "markdown",
   "metadata": {},
   "source": [
    "#### Обработка пропусков со значениями оценки критиков"
   ]
  },
  {
   "cell_type": "code",
   "execution_count": 9,
   "metadata": {},
   "outputs": [
    {
     "name": "stdout",
     "output_type": "stream",
     "text": [
      "8463\n"
     ]
    }
   ],
   "source": [
    "#выведем количество пропусков со значениями оценки критиков\n",
    "print(data['critic_score'].isna().sum())"
   ]
  },
  {
   "cell_type": "markdown",
   "metadata": {},
   "source": [
    "Также большое количество пропусков с оценкой критиков, эти данные могут быть полезны для дальнейшего исследования, оставили пропуски без изменений. Пропуски могут быть связаны с отсутствием оценки или большой давностью данных."
   ]
  },
  {
   "cell_type": "code",
   "execution_count": 12,
   "metadata": {
    "scrolled": true
   },
   "outputs": [
    {
     "name": "stdout",
     "output_type": "stream",
     "text": [
      "<class 'pandas.core.frame.DataFrame'>\n",
      "Int64Index: 16446 entries, 0 to 16714\n",
      "Data columns (total 11 columns):\n",
      " #   Column           Non-Null Count  Dtype  \n",
      "---  ------           --------------  -----  \n",
      " 0   name             16444 non-null  object \n",
      " 1   platform         16446 non-null  object \n",
      " 2   year_of_release  16446 non-null  int64  \n",
      " 3   genre            16444 non-null  object \n",
      " 4   na_sales         16446 non-null  float64\n",
      " 5   eu_sales         16446 non-null  float64\n",
      " 6   jp_sales         16446 non-null  float64\n",
      " 7   other_sales      16446 non-null  float64\n",
      " 8   critic_score     7983 non-null   float64\n",
      " 9   user_score       7463 non-null   float64\n",
      " 10  rating           16446 non-null  object \n",
      "dtypes: float64(6), int64(1), object(4)\n",
      "memory usage: 1.5+ MB\n"
     ]
    }
   ],
   "source": [
    "#проверим изменения\n",
    "data.info()"
   ]
  },
  {
   "cell_type": "markdown",
   "metadata": {},
   "source": [
    "#### Обработка пропусков со значениями рейтинга"
   ]
  },
  {
   "cell_type": "code",
   "execution_count": 13,
   "metadata": {
    "scrolled": false
   },
   "outputs": [
    {
     "name": "stdout",
     "output_type": "stream",
     "text": [
      "-1      6678\n",
      "E       3921\n",
      "T       2905\n",
      "M       1536\n",
      "E10+    1393\n",
      "EC         8\n",
      "K-A        3\n",
      "RP         1\n",
      "AO         1\n",
      "Name: rating, dtype: int64\n",
      "0\n"
     ]
    }
   ],
   "source": [
    "print(data['rating'].value_counts())\n",
    "print(data['rating'].isna().sum())\n",
    "data['rating'] = data['rating'].fillna('-1')\n"
   ]
  },
  {
   "cell_type": "markdown",
   "metadata": {},
   "source": [
    "### Добавление столбца с суммарными продажами"
   ]
  },
  {
   "cell_type": "code",
   "execution_count": 11,
   "metadata": {},
   "outputs": [
    {
     "data": {
      "text/html": [
       "<div>\n",
       "<style scoped>\n",
       "    .dataframe tbody tr th:only-of-type {\n",
       "        vertical-align: middle;\n",
       "    }\n",
       "\n",
       "    .dataframe tbody tr th {\n",
       "        vertical-align: top;\n",
       "    }\n",
       "\n",
       "    .dataframe thead th {\n",
       "        text-align: right;\n",
       "    }\n",
       "</style>\n",
       "<table border=\"1\" class=\"dataframe\">\n",
       "  <thead>\n",
       "    <tr style=\"text-align: right;\">\n",
       "      <th></th>\n",
       "      <th>name</th>\n",
       "      <th>platform</th>\n",
       "      <th>year_of_release</th>\n",
       "      <th>genre</th>\n",
       "      <th>na_sales</th>\n",
       "      <th>eu_sales</th>\n",
       "      <th>jp_sales</th>\n",
       "      <th>other_sales</th>\n",
       "      <th>critic_score</th>\n",
       "      <th>user_score</th>\n",
       "      <th>rating</th>\n",
       "      <th>total_sales</th>\n",
       "    </tr>\n",
       "  </thead>\n",
       "  <tbody>\n",
       "    <tr>\n",
       "      <th>0</th>\n",
       "      <td>Wii Sports</td>\n",
       "      <td>Wii</td>\n",
       "      <td>2006</td>\n",
       "      <td>Sports</td>\n",
       "      <td>41.36</td>\n",
       "      <td>28.96</td>\n",
       "      <td>3.77</td>\n",
       "      <td>8.45</td>\n",
       "      <td>76.0</td>\n",
       "      <td>8.0</td>\n",
       "      <td>E</td>\n",
       "      <td>82.54</td>\n",
       "    </tr>\n",
       "    <tr>\n",
       "      <th>1</th>\n",
       "      <td>Super Mario Bros.</td>\n",
       "      <td>NES</td>\n",
       "      <td>1985</td>\n",
       "      <td>Platform</td>\n",
       "      <td>29.08</td>\n",
       "      <td>3.58</td>\n",
       "      <td>6.81</td>\n",
       "      <td>0.77</td>\n",
       "      <td>NaN</td>\n",
       "      <td>NaN</td>\n",
       "      <td>-1</td>\n",
       "      <td>40.24</td>\n",
       "    </tr>\n",
       "    <tr>\n",
       "      <th>2</th>\n",
       "      <td>Mario Kart Wii</td>\n",
       "      <td>Wii</td>\n",
       "      <td>2008</td>\n",
       "      <td>Racing</td>\n",
       "      <td>15.68</td>\n",
       "      <td>12.76</td>\n",
       "      <td>3.79</td>\n",
       "      <td>3.29</td>\n",
       "      <td>82.0</td>\n",
       "      <td>8.3</td>\n",
       "      <td>E</td>\n",
       "      <td>35.52</td>\n",
       "    </tr>\n",
       "    <tr>\n",
       "      <th>3</th>\n",
       "      <td>Wii Sports Resort</td>\n",
       "      <td>Wii</td>\n",
       "      <td>2009</td>\n",
       "      <td>Sports</td>\n",
       "      <td>15.61</td>\n",
       "      <td>10.93</td>\n",
       "      <td>3.28</td>\n",
       "      <td>2.95</td>\n",
       "      <td>80.0</td>\n",
       "      <td>8.0</td>\n",
       "      <td>E</td>\n",
       "      <td>32.77</td>\n",
       "    </tr>\n",
       "    <tr>\n",
       "      <th>4</th>\n",
       "      <td>Pokemon Red/Pokemon Blue</td>\n",
       "      <td>GB</td>\n",
       "      <td>1996</td>\n",
       "      <td>Role-Playing</td>\n",
       "      <td>11.27</td>\n",
       "      <td>8.89</td>\n",
       "      <td>10.22</td>\n",
       "      <td>1.00</td>\n",
       "      <td>NaN</td>\n",
       "      <td>NaN</td>\n",
       "      <td>-1</td>\n",
       "      <td>31.38</td>\n",
       "    </tr>\n",
       "  </tbody>\n",
       "</table>\n",
       "</div>"
      ],
      "text/plain": [
       "                       name platform  year_of_release         genre  na_sales  \\\n",
       "0                Wii Sports      Wii             2006        Sports     41.36   \n",
       "1         Super Mario Bros.      NES             1985      Platform     29.08   \n",
       "2            Mario Kart Wii      Wii             2008        Racing     15.68   \n",
       "3         Wii Sports Resort      Wii             2009        Sports     15.61   \n",
       "4  Pokemon Red/Pokemon Blue       GB             1996  Role-Playing     11.27   \n",
       "\n",
       "   eu_sales  jp_sales  other_sales  critic_score  user_score rating  \\\n",
       "0     28.96      3.77         8.45          76.0         8.0      E   \n",
       "1      3.58      6.81         0.77           NaN         NaN     -1   \n",
       "2     12.76      3.79         3.29          82.0         8.3      E   \n",
       "3     10.93      3.28         2.95          80.0         8.0      E   \n",
       "4      8.89     10.22         1.00           NaN         NaN     -1   \n",
       "\n",
       "   total_sales  \n",
       "0        82.54  \n",
       "1        40.24  \n",
       "2        35.52  \n",
       "3        32.77  \n",
       "4        31.38  "
      ]
     },
     "execution_count": 11,
     "metadata": {},
     "output_type": "execute_result"
    }
   ],
   "source": [
    "#добавим столбец с информацией о суммарных продажах во всех регионах\n",
    "data['total_sales'] = data['na_sales'] + data['jp_sales'] + data['eu_sales'] + data['other_sales']\n",
    "\n",
    "data.head()"
   ]
  },
  {
   "cell_type": "markdown",
   "metadata": {},
   "source": [
    "### Обработка дубликатов"
   ]
  },
  {
   "cell_type": "markdown",
   "metadata": {},
   "source": [
    "Проведем обработку явных и неявных дубликатов"
   ]
  },
  {
   "cell_type": "code",
   "execution_count": 12,
   "metadata": {},
   "outputs": [
    {
     "data": {
      "text/plain": [
       "0"
      ]
     },
     "execution_count": 12,
     "metadata": {},
     "output_type": "execute_result"
    }
   ],
   "source": [
    "#проверим наличие дубликатов в датасете\n",
    "data.duplicated().sum()"
   ]
  },
  {
   "cell_type": "code",
   "execution_count": 13,
   "metadata": {
    "scrolled": true
   },
   "outputs": [
    {
     "data": {
      "text/html": [
       "<div>\n",
       "<style scoped>\n",
       "    .dataframe tbody tr th:only-of-type {\n",
       "        vertical-align: middle;\n",
       "    }\n",
       "\n",
       "    .dataframe tbody tr th {\n",
       "        vertical-align: top;\n",
       "    }\n",
       "\n",
       "    .dataframe thead th {\n",
       "        text-align: right;\n",
       "    }\n",
       "</style>\n",
       "<table border=\"1\" class=\"dataframe\">\n",
       "  <thead>\n",
       "    <tr style=\"text-align: right;\">\n",
       "      <th></th>\n",
       "      <th>name</th>\n",
       "      <th>platform</th>\n",
       "      <th>year_of_release</th>\n",
       "      <th>genre</th>\n",
       "      <th>na_sales</th>\n",
       "      <th>eu_sales</th>\n",
       "      <th>jp_sales</th>\n",
       "      <th>other_sales</th>\n",
       "      <th>critic_score</th>\n",
       "      <th>user_score</th>\n",
       "      <th>rating</th>\n",
       "      <th>total_sales</th>\n",
       "    </tr>\n",
       "  </thead>\n",
       "  <tbody>\n",
       "    <tr>\n",
       "      <th>604</th>\n",
       "      <td>Madden NFL 13</td>\n",
       "      <td>PS3</td>\n",
       "      <td>2012</td>\n",
       "      <td>Sports</td>\n",
       "      <td>2.11</td>\n",
       "      <td>0.22</td>\n",
       "      <td>0.00</td>\n",
       "      <td>0.23</td>\n",
       "      <td>83.0</td>\n",
       "      <td>5.5</td>\n",
       "      <td>E</td>\n",
       "      <td>2.56</td>\n",
       "    </tr>\n",
       "    <tr>\n",
       "      <th>659</th>\n",
       "      <td>NaN</td>\n",
       "      <td>GEN</td>\n",
       "      <td>1993</td>\n",
       "      <td>NaN</td>\n",
       "      <td>1.78</td>\n",
       "      <td>0.53</td>\n",
       "      <td>0.00</td>\n",
       "      <td>0.08</td>\n",
       "      <td>NaN</td>\n",
       "      <td>NaN</td>\n",
       "      <td>-1</td>\n",
       "      <td>2.39</td>\n",
       "    </tr>\n",
       "    <tr>\n",
       "      <th>14244</th>\n",
       "      <td>NaN</td>\n",
       "      <td>GEN</td>\n",
       "      <td>1993</td>\n",
       "      <td>NaN</td>\n",
       "      <td>0.00</td>\n",
       "      <td>0.00</td>\n",
       "      <td>0.03</td>\n",
       "      <td>0.00</td>\n",
       "      <td>NaN</td>\n",
       "      <td>NaN</td>\n",
       "      <td>-1</td>\n",
       "      <td>0.03</td>\n",
       "    </tr>\n",
       "    <tr>\n",
       "      <th>16230</th>\n",
       "      <td>Madden NFL 13</td>\n",
       "      <td>PS3</td>\n",
       "      <td>2012</td>\n",
       "      <td>Sports</td>\n",
       "      <td>0.00</td>\n",
       "      <td>0.01</td>\n",
       "      <td>0.00</td>\n",
       "      <td>0.00</td>\n",
       "      <td>83.0</td>\n",
       "      <td>5.5</td>\n",
       "      <td>E</td>\n",
       "      <td>0.01</td>\n",
       "    </tr>\n",
       "  </tbody>\n",
       "</table>\n",
       "</div>"
      ],
      "text/plain": [
       "                name platform  year_of_release   genre  na_sales  eu_sales  \\\n",
       "604    Madden NFL 13      PS3             2012  Sports      2.11      0.22   \n",
       "659              NaN      GEN             1993     NaN      1.78      0.53   \n",
       "14244            NaN      GEN             1993     NaN      0.00      0.00   \n",
       "16230  Madden NFL 13      PS3             2012  Sports      0.00      0.01   \n",
       "\n",
       "       jp_sales  other_sales  critic_score  user_score rating  total_sales  \n",
       "604        0.00         0.23          83.0         5.5      E         2.56  \n",
       "659        0.00         0.08           NaN         NaN     -1         2.39  \n",
       "14244      0.03         0.00           NaN         NaN     -1         0.03  \n",
       "16230      0.00         0.00          83.0         5.5      E         0.01  "
      ]
     },
     "execution_count": 13,
     "metadata": {},
     "output_type": "execute_result"
    }
   ],
   "source": [
    "#проверим наличие неявных дубликатов, проверку проведем по имени, платформе и году релиза одновременно\n",
    "subset1 = ['name', 'platform', 'year_of_release']\n",
    "subset2 = ['na_sales','eu_sales', 'jp_sales', 'other_sales', 'total_sales']\n",
    "\n",
    "data[data.duplicated(subset=subset1, keep=False)]"
   ]
  },
  {
   "cell_type": "markdown",
   "metadata": {},
   "source": [
    "Видим 2 дубликата, но есть данные по продажам в регионах, которые нужно объединить, так как информация о продажах могла вноситься в разные периоды времени и все данные важны для последующего анализа. "
   ]
  },
  {
   "cell_type": "code",
   "execution_count": 14,
   "metadata": {
    "scrolled": true
   },
   "outputs": [
    {
     "data": {
      "text/html": [
       "<div>\n",
       "<style scoped>\n",
       "    .dataframe tbody tr th:only-of-type {\n",
       "        vertical-align: middle;\n",
       "    }\n",
       "\n",
       "    .dataframe tbody tr th {\n",
       "        vertical-align: top;\n",
       "    }\n",
       "\n",
       "    .dataframe thead th {\n",
       "        text-align: right;\n",
       "    }\n",
       "</style>\n",
       "<table border=\"1\" class=\"dataframe\">\n",
       "  <thead>\n",
       "    <tr style=\"text-align: right;\">\n",
       "      <th></th>\n",
       "      <th>name</th>\n",
       "      <th>platform</th>\n",
       "      <th>year_of_release</th>\n",
       "      <th>na_sales</th>\n",
       "      <th>eu_sales</th>\n",
       "      <th>jp_sales</th>\n",
       "      <th>other_sales</th>\n",
       "      <th>total_sales</th>\n",
       "      <th>critic_score</th>\n",
       "      <th>user_score</th>\n",
       "      <th>rating</th>\n",
       "      <th>genre</th>\n",
       "    </tr>\n",
       "  </thead>\n",
       "  <tbody>\n",
       "    <tr>\n",
       "      <th>0</th>\n",
       "      <td>Madden NFL 13</td>\n",
       "      <td>PS3</td>\n",
       "      <td>2012</td>\n",
       "      <td>2.11</td>\n",
       "      <td>0.23</td>\n",
       "      <td>0.00</td>\n",
       "      <td>0.23</td>\n",
       "      <td>2.57</td>\n",
       "      <td>83.0</td>\n",
       "      <td>5.5</td>\n",
       "      <td>E</td>\n",
       "      <td>Sports</td>\n",
       "    </tr>\n",
       "    <tr>\n",
       "      <th>1</th>\n",
       "      <td>NaN</td>\n",
       "      <td>GEN</td>\n",
       "      <td>1993</td>\n",
       "      <td>1.78</td>\n",
       "      <td>0.53</td>\n",
       "      <td>0.03</td>\n",
       "      <td>0.08</td>\n",
       "      <td>2.42</td>\n",
       "      <td>NaN</td>\n",
       "      <td>NaN</td>\n",
       "      <td>-1</td>\n",
       "      <td>None</td>\n",
       "    </tr>\n",
       "  </tbody>\n",
       "</table>\n",
       "</div>"
      ],
      "text/plain": [
       "            name platform  year_of_release  na_sales  eu_sales  jp_sales  \\\n",
       "0  Madden NFL 13      PS3             2012      2.11      0.23      0.00   \n",
       "1            NaN      GEN             1993      1.78      0.53      0.03   \n",
       "\n",
       "   other_sales  total_sales  critic_score  user_score rating   genre  \n",
       "0         0.23         2.57          83.0         5.5      E  Sports  \n",
       "1         0.08         2.42           NaN         NaN     -1    None  "
      ]
     },
     "execution_count": 14,
     "metadata": {},
     "output_type": "execute_result"
    }
   ],
   "source": [
    "#подготовим данные для обработки дубликатов\n",
    "subset3 = ['name', 'platform', 'year_of_release']\n",
    "\n",
    "multi_agg = {\n",
    "    'na_sales': 'sum',\n",
    "    'eu_sales': 'sum',\n",
    "    'jp_sales': 'sum',\n",
    "    'other_sales': 'sum',\n",
    "    'total_sales': 'sum',\n",
    "    'critic_score': 'mean',\n",
    "    'user_score': 'mean',\n",
    "    'rating': 'first',\n",
    "    'genre': 'first'\n",
    "}\n",
    "\n",
    "#сохраним строки с агрегированными продажами в отдельный датасет\n",
    "data_duplicated = data[data.duplicated(subset=subset1, keep=False)].groupby(subset3, dropna=False).agg(multi_agg).reset_index()\n",
    "\n",
    "#удалим дубликаты\n",
    "data = data.drop_duplicates(subset=subset1,keep = False)\n",
    "\n",
    "#проверим проведенные действия со строками\n",
    "data_duplicated"
   ]
  },
  {
   "cell_type": "code",
   "execution_count": 15,
   "metadata": {},
   "outputs": [
    {
     "data": {
      "text/html": [
       "<div>\n",
       "<style scoped>\n",
       "    .dataframe tbody tr th:only-of-type {\n",
       "        vertical-align: middle;\n",
       "    }\n",
       "\n",
       "    .dataframe tbody tr th {\n",
       "        vertical-align: top;\n",
       "    }\n",
       "\n",
       "    .dataframe thead th {\n",
       "        text-align: right;\n",
       "    }\n",
       "</style>\n",
       "<table border=\"1\" class=\"dataframe\">\n",
       "  <thead>\n",
       "    <tr style=\"text-align: right;\">\n",
       "      <th></th>\n",
       "      <th>name</th>\n",
       "      <th>platform</th>\n",
       "      <th>year_of_release</th>\n",
       "      <th>genre</th>\n",
       "      <th>na_sales</th>\n",
       "      <th>eu_sales</th>\n",
       "      <th>jp_sales</th>\n",
       "      <th>other_sales</th>\n",
       "      <th>critic_score</th>\n",
       "      <th>user_score</th>\n",
       "      <th>rating</th>\n",
       "      <th>total_sales</th>\n",
       "    </tr>\n",
       "  </thead>\n",
       "  <tbody>\n",
       "    <tr>\n",
       "      <th>16439</th>\n",
       "      <td>Haitaka no Psychedelica</td>\n",
       "      <td>PSV</td>\n",
       "      <td>2016</td>\n",
       "      <td>Adventure</td>\n",
       "      <td>0.00</td>\n",
       "      <td>0.00</td>\n",
       "      <td>0.01</td>\n",
       "      <td>0.00</td>\n",
       "      <td>NaN</td>\n",
       "      <td>NaN</td>\n",
       "      <td>-1</td>\n",
       "      <td>0.01</td>\n",
       "    </tr>\n",
       "    <tr>\n",
       "      <th>16440</th>\n",
       "      <td>Spirits &amp; Spells</td>\n",
       "      <td>GBA</td>\n",
       "      <td>2003</td>\n",
       "      <td>Platform</td>\n",
       "      <td>0.01</td>\n",
       "      <td>0.00</td>\n",
       "      <td>0.00</td>\n",
       "      <td>0.00</td>\n",
       "      <td>NaN</td>\n",
       "      <td>NaN</td>\n",
       "      <td>-1</td>\n",
       "      <td>0.01</td>\n",
       "    </tr>\n",
       "    <tr>\n",
       "      <th>16441</th>\n",
       "      <td>Winning Post 8 2016</td>\n",
       "      <td>PSV</td>\n",
       "      <td>2016</td>\n",
       "      <td>Simulation</td>\n",
       "      <td>0.00</td>\n",
       "      <td>0.00</td>\n",
       "      <td>0.01</td>\n",
       "      <td>0.00</td>\n",
       "      <td>NaN</td>\n",
       "      <td>NaN</td>\n",
       "      <td>-1</td>\n",
       "      <td>0.01</td>\n",
       "    </tr>\n",
       "    <tr>\n",
       "      <th>16442</th>\n",
       "      <td>Madden NFL 13</td>\n",
       "      <td>PS3</td>\n",
       "      <td>2012</td>\n",
       "      <td>Sports</td>\n",
       "      <td>2.11</td>\n",
       "      <td>0.23</td>\n",
       "      <td>0.00</td>\n",
       "      <td>0.23</td>\n",
       "      <td>83.0</td>\n",
       "      <td>5.5</td>\n",
       "      <td>E</td>\n",
       "      <td>2.57</td>\n",
       "    </tr>\n",
       "    <tr>\n",
       "      <th>16443</th>\n",
       "      <td>NaN</td>\n",
       "      <td>GEN</td>\n",
       "      <td>1993</td>\n",
       "      <td>None</td>\n",
       "      <td>1.78</td>\n",
       "      <td>0.53</td>\n",
       "      <td>0.03</td>\n",
       "      <td>0.08</td>\n",
       "      <td>NaN</td>\n",
       "      <td>NaN</td>\n",
       "      <td>-1</td>\n",
       "      <td>2.42</td>\n",
       "    </tr>\n",
       "  </tbody>\n",
       "</table>\n",
       "</div>"
      ],
      "text/plain": [
       "                          name platform  year_of_release       genre  \\\n",
       "16439  Haitaka no Psychedelica      PSV             2016   Adventure   \n",
       "16440         Spirits & Spells      GBA             2003    Platform   \n",
       "16441      Winning Post 8 2016      PSV             2016  Simulation   \n",
       "16442            Madden NFL 13      PS3             2012      Sports   \n",
       "16443                      NaN      GEN             1993        None   \n",
       "\n",
       "       na_sales  eu_sales  jp_sales  other_sales  critic_score  user_score  \\\n",
       "16439      0.00      0.00      0.01         0.00           NaN         NaN   \n",
       "16440      0.01      0.00      0.00         0.00           NaN         NaN   \n",
       "16441      0.00      0.00      0.01         0.00           NaN         NaN   \n",
       "16442      2.11      0.23      0.00         0.23          83.0         5.5   \n",
       "16443      1.78      0.53      0.03         0.08           NaN         NaN   \n",
       "\n",
       "      rating  total_sales  \n",
       "16439     -1         0.01  \n",
       "16440     -1         0.01  \n",
       "16441     -1         0.01  \n",
       "16442      E         2.57  \n",
       "16443     -1         2.42  "
      ]
     },
     "execution_count": 15,
     "metadata": {},
     "output_type": "execute_result"
    }
   ],
   "source": [
    "#добавим строки с агрегированными продажами обратно в датасет\n",
    "data = data.append(data_duplicated, ignore_index=True)\n",
    "\n",
    "#проверим изменения\n",
    "data.tail()"
   ]
  },
  {
   "cell_type": "markdown",
   "metadata": {},
   "source": [
    "### Вывод\n",
    "Выполнили предобработку данных, в ходе которой были внесены изменения в регистр названий столбцов, также были обработаны пропуски в данных:\n",
    "- строки с пропусками в данных с годом релиза было решено опустить, такие пропуски могли быть упущены из-за давности данных, \n",
    "- пропуски с оценкой пользователя и критиков было решено оставить без изменений для последующего анализа, такие пропуски могли возникнуть также из-за давности данных или по ошибке логирования, \n",
    "- значения 'tbd' с оценкой пользователя (равноценно не поставленной оценке) заменили на пропуски для последующего анализа\n",
    "- на пропуски в рейтинге ESRB поставили заглушку в виде значения -1 для последующего анализа, здесь пропуски могли возникнуть по причине того, что рейтинг используется только в регионах США и Канады, оставили заглушку для последующего анализа\n",
    "\n",
    "Заменили тип данных в столбце с годом релиза с float на integer для визуального удобства\n",
    "\n",
    "Добавили столбец с информацией о суммарных продажах во всех регионах, также обработали 2 неявных дубликата, заменив значения по продажам в регионах на суммарные. \n"
   ]
  },
  {
   "cell_type": "markdown",
   "metadata": {},
   "source": [
    "## Исследовательский анализ данных"
   ]
  },
  {
   "cell_type": "markdown",
   "metadata": {},
   "source": [
    "Необходимо провести анализ в разных разрезах данных:\n",
    "\n",
    "- Посмотреть, сколько игр выпускалось в разные годы, понять, важны ли все данные;\n",
    "- Посмотреть на динамику продаж по платформам. Выбрать платформы с наибольшими суммарными продажами и построить распределение по годам. Понять, за какой характерный срок появляются новые и исчезают старые платформы;\n",
    "- Определить актуальный период данных для анализа, которые помогут построить прогноз на 2017 год;\n",
    "- Определить какие платформы лидируют по продажам, растут или падают, выбрать несколько потенциально прибыльных платформ;\n",
    "- Построить график «ящик с усами» по глобальным продажам игр в разбивке по платформам. Описать результат;\n",
    "- Определить, как влияют на продажи внутри одной популярной платформы отзывы пользователей и критиков. Построить диаграмму рассеяния и посчитайте корреляцию между отзывами и продажами. Сформулировать выводы;\n",
    "- Cоотнести выводы с продажами игр на других платформах;\n",
    "- Посмотреть на общее распределение игр по жанрам. Что можно сказать о самых прибыльных жанрах? Выделяются ли жанры с высокими и низкими продажами?\n"
   ]
  },
  {
   "cell_type": "markdown",
   "metadata": {},
   "source": [
    "### Распределение игр по году релиза"
   ]
  },
  {
   "cell_type": "markdown",
   "metadata": {},
   "source": [
    "Определим, сколько игр выпускалось по годам, важны ли все данные для последующего анализа"
   ]
  },
  {
   "cell_type": "code",
   "execution_count": 17,
   "metadata": {
    "scrolled": false
   },
   "outputs": [
    {
     "data": {
      "image/png": "[encoded data removed]",
      "text/plain": [
       "<Figure size 432x288 with 1 Axes>"
      ]
     },
     "metadata": {
      "needs_background": "light"
     },
     "output_type": "display_data"
    },
    {
     "data": {
      "text/plain": [
       "0.029615665288251034"
      ]
     },
     "execution_count": 17,
     "metadata": {},
     "output_type": "execute_result"
    }
   ],
   "source": [
    "#построим график распределения выпуска игр по годам\n",
    "data['year_of_release'].hist(bins=37)\n",
    "\n",
    "plt.title('Распределение игр по году выпуска')\n",
    "plt.xlabel('Год')\n",
    "plt.ylabel('Количество игр')\n",
    "plt.show()\n",
    "\n",
    "#проверим, какую долю всех данных занимают данные по выпуску игр до 1995 года\n",
    "len(data.query('year_of_release < 1995')) / len(data)"
   ]
  },
  {
   "cell_type": "code",
   "execution_count": 18,
   "metadata": {},
   "outputs": [
    {
     "data": {
      "text/plain": [
       "2008    1427\n",
       "2009    1426\n",
       "2010    1255\n",
       "2007    1197\n",
       "2011    1136\n",
       "2006    1006\n",
       "2005     939\n",
       "2002     829\n",
       "2003     775\n",
       "2004     762\n",
       "2012     652\n",
       "2015     606\n",
       "2014     581\n",
       "2013     544\n",
       "2016     502\n",
       "2001     482\n",
       "1998     379\n",
       "2000     350\n",
       "1999     338\n",
       "1997     289\n",
       "1996     263\n",
       "1995     219\n",
       "1994     121\n",
       "1993      61\n",
       "1981      46\n",
       "1992      43\n",
       "1991      41\n",
       "1982      36\n",
       "1986      21\n",
       "1983      17\n",
       "1989      17\n",
       "1990      16\n",
       "1987      16\n",
       "1988      15\n",
       "1985      14\n",
       "1984      14\n",
       "1980       9\n",
       "Name: year_of_release, dtype: int64"
      ]
     },
     "execution_count": 18,
     "metadata": {},
     "output_type": "execute_result"
    }
   ],
   "source": [
    "data['year_of_release'].value_counts()"
   ]
  },
  {
   "cell_type": "markdown",
   "metadata": {},
   "source": [
    "По гистограмме видим, что компьютерные игры только набирали популярность в 80х-90х годах, видим несколько пиков на графике - в 2002, 2008-2009 и в 2015 годах. В эти годы были запущены платформы Xbox, PS2, Wii, PS3, Xbox 360 и 3DS, их запуск способствовал росту продаж игр.\n",
    "\n",
    "Данные до 1995 года составляют примерно 3% от общего объема датасета, поэтому эти данные можно опустить. "
   ]
  },
  {
   "cell_type": "markdown",
   "metadata": {},
   "source": [
    "### Динамика продаж по платформам"
   ]
  },
  {
   "cell_type": "markdown",
   "metadata": {},
   "source": [
    "Рассмотрим динамику продаж по платформам. \n",
    "Далее по платформам с наибольшими суммарными продажами построим распределение по годам."
   ]
  },
  {
   "cell_type": "code",
   "execution_count": 19,
   "metadata": {
    "scrolled": false
   },
   "outputs": [
    {
     "data": {
      "image/png": "[encoded data removed]",
      "text/plain": [
       "<Figure size 720x360 with 1 Axes>"
      ]
     },
     "metadata": {
      "needs_background": "light"
     },
     "output_type": "display_data"
    }
   ],
   "source": [
    "#Построим сводную таблицу по суммарным продажам по платформам\n",
    "data_pivot = data.pivot_table(index='platform', values='total_sales', aggfunc='sum')\n",
    "\n",
    "#построим график распределения продаж по платформам\n",
    "data_pivot.sort_values(by='total_sales', ascending=False).plot.bar(figsize=(10,5))\n",
    "\n",
    "plt.title('Распределение продаж по платформам')\n",
    "plt.xlabel('Платформа')\n",
    "plt.ylabel('Общие продажи, млн копий')\n",
    "plt.show()"
   ]
  },
  {
   "cell_type": "markdown",
   "metadata": {},
   "source": [
    "Можно выделить топ-5 платформ с самыми высокими продажами: PS2, X360, PS3, Wii и DS, небольшими суммарными продажами обладают старые платформы: 3DO6 GG и PCFX были выпущены в 90х годах. "
   ]
  },
  {
   "cell_type": "code",
   "execution_count": 20,
   "metadata": {
    "scrolled": false
   },
   "outputs": [
    {
     "data": {
      "image/png": "[encoded data removed]",
      "text/plain": [
       "<Figure size 1152x1008 with 5 Axes>"
      ]
     },
     "metadata": {
      "needs_background": "light"
     },
     "output_type": "display_data"
    }
   ],
   "source": [
    "#построим графики распределения продаж по годам на топ-5 популярных платформ\n",
    "platforms = ['PS2', 'X360', 'PS3', 'Wii', 'DS']\n",
    "\n",
    "\n",
    "#готовим данные для построения графиков\n",
    "i = 1\n",
    "fig, ax = plt.subplots()\n",
    "\n",
    "for pl in platforms: \n",
    "    ax = plt.subplot(3, 3, i)\n",
    "    data.loc[data['platform'] == pl].pivot_table(index='year_of_release', values='total_sales', aggfunc='sum').plot(kind='bar', ax=ax, figsize=(16, 14))\n",
    "    i +=1\n",
    "    plt.title(f'Распределение продаж на {pl}')\n",
    "    plt.xlabel('год')\n",
    "    plt.ylabel('Общие продажи, млн копий')   \n",
    "fig.tight_layout()   \n",
    "plt.show()  \n",
    "         \n"
   ]
  },
  {
   "cell_type": "markdown",
   "metadata": {},
   "source": [
    "По графику PS2 видим первые продажи с 2000 года, далее большой скачок в 2001 году с продажами около 160 млн копий, и спад продаж после 2005 года. Спад после 2005 года скорее всего связан с запуском преемника платформы PS3 и конкурентов X360.\n",
    "\n",
    "X360: Медленный старт в 10 миллионов копий в 2005 году (одновременно с конкурентами PS3), пик продаж через 5 лет в 2010 году.\n",
    "\n",
    "На графике продаж на платформе PS3 виден скачок после старта в 2007 году, делее пик продаж примерно также через 5 лет после запуска в 2011 году и спад после \n",
    "\n",
    "Большие объемы продаж на платформе Wii сразу на старте в 2006 году - около 130 млн копий, затем пик в 2009 году и спад после (в 2013 была прекращена продажа консолей на Wii)"
   ]
  },
  {
   "cell_type": "markdown",
   "metadata": {},
   "source": [
    "### Расчет срока жизни платформ и выбор актуального периода для анализа"
   ]
  },
  {
   "cell_type": "markdown",
   "metadata": {},
   "source": [
    "Проведем расчет срока жизни платформы, взяв медианное значение "
   ]
  },
  {
   "cell_type": "code",
   "execution_count": 26,
   "metadata": {},
   "outputs": [
    {
     "data": {
      "text/plain": [
       "7.0"
      ]
     },
     "execution_count": 26,
     "metadata": {},
     "output_type": "execute_result"
    }
   ],
   "source": [
    "#построим сводную таблицу и посчитаем медиану\n",
    "data_life = data.pivot_table(index='platform', values='year_of_release', aggfunc=['min', 'max']).reset_index()\n",
    "data_life['life'] = data_life['max'] - data_life['min'] + 1\n",
    "\n",
    "data_life['life'].median()"
   ]
  },
  {
   "cell_type": "markdown",
   "metadata": {},
   "source": [
    "Проведем расчет срока жизни платформы, взяв медианное значение, но по данным после 1995 года (не учитывая данные до старта роста продаж)"
   ]
  },
  {
   "cell_type": "code",
   "execution_count": 27,
   "metadata": {},
   "outputs": [
    {
     "data": {
      "text/plain": [
       "7.0"
      ]
     },
     "execution_count": 27,
     "metadata": {},
     "output_type": "execute_result"
    }
   ],
   "source": [
    "#построим сводную таблицу и посчитаем медиану\n",
    "data_life_1995 = data.query('year_of_release > 1995').pivot_table(index='platform', values='year_of_release', aggfunc=['min', 'max']).reset_index()\n",
    "data_life_1995['life'] = data_life_1995['max'] - data_life_1995['min'] + 1\n",
    "\n",
    "data_life_1995['life'].median()\n"
   ]
  },
  {
   "cell_type": "markdown",
   "metadata": {},
   "source": [
    "Можно сделать вывод, что примерно каждые 7 лет выходят новые платформы и исчезают старые."
   ]
  },
  {
   "cell_type": "markdown",
   "metadata": {},
   "source": [
    "Выберем актуальные данные для анализа, учитывая, что для прогнозирования необходимо брать примерно 2-5 года "
   ]
  },
  {
   "cell_type": "code",
   "execution_count": 28,
   "metadata": {},
   "outputs": [],
   "source": [
    "#создадим срез данных с 2012 года\n",
    "data_filtered = data.query('year_of_release > 2011')"
   ]
  },
  {
   "cell_type": "markdown",
   "metadata": {},
   "source": [
    "### Анализ потенциально прибыльных платформ"
   ]
  },
  {
   "cell_type": "markdown",
   "metadata": {},
   "source": [
    "Определим лидеров продаж, выберем потенциально прибыльные платформы для детального анализа"
   ]
  },
  {
   "cell_type": "code",
   "execution_count": 29,
   "metadata": {
    "scrolled": false
   },
   "outputs": [
    {
     "data": {
      "image/png": "[encoded data removed]",
      "text/plain": [
       "<Figure size 1080x576 with 1 Axes>"
      ]
     },
     "metadata": {
      "needs_background": "light"
     },
     "output_type": "display_data"
    }
   ],
   "source": [
    "#построим линейный график по всем данным по платформам\n",
    "fig, ax = plt.subplots(1, 1)\n",
    "fig.subplots_adjust(hspace=0.4, wspace=0.4) \n",
    "platforms = data_filtered['platform'].unique()\n",
    "\n",
    "for pl in platforms: \n",
    "    ax = plt.gca()\n",
    "    data_filtered.loc[data['platform'] == pl].pivot_table(index='year_of_release', values='total_sales', aggfunc='sum').reset_index().plot(x='year_of_release', y='total_sales', kind='line', ax=ax, figsize=(15, 8), grid=True)  \n",
    "\n",
    "plt.legend(platforms)\n",
    "plt.xlabel('Год')\n",
    "plt.xticks(data_filtered['year_of_release'].unique())\n",
    "plt.ylabel('Общие продажи, млн копий') \n",
    "plt.title(f'Распределение продаж')\n",
    "plt.show()  "
   ]
  },
  {
   "cell_type": "markdown",
   "metadata": {},
   "source": [
    "По графику можем заметить общую тенденцию на спад продаж к 2016 году по всем платформам, молодые платформы PS4 и Xone прошли пик продаж в 2015 году. Платформы PS3, X360, 3DS идут на убыль с 2013 года, но имеют достаточно высокие суммарные продажи.\n",
    "Значения продаж по остальным платформам сравнительно давно идут на убыль, но выглядят стабильными последние 3 года\n",
    "\n",
    "Рассчитаем медианные суммарные продажи по каждой платформе и выделим потенциально прибыльные "
   ]
  },
  {
   "cell_type": "code",
   "execution_count": 30,
   "metadata": {
    "scrolled": true
   },
   "outputs": [
    {
     "data": {
      "text/html": [
       "<div>\n",
       "<style scoped>\n",
       "    .dataframe tbody tr th:only-of-type {\n",
       "        vertical-align: middle;\n",
       "    }\n",
       "\n",
       "    .dataframe tbody tr th {\n",
       "        vertical-align: top;\n",
       "    }\n",
       "\n",
       "    .dataframe thead th {\n",
       "        text-align: right;\n",
       "    }\n",
       "</style>\n",
       "<table border=\"1\" class=\"dataframe\">\n",
       "  <thead>\n",
       "    <tr style=\"text-align: right;\">\n",
       "      <th></th>\n",
       "      <th>platform</th>\n",
       "      <th>total_sales</th>\n",
       "    </tr>\n",
       "  </thead>\n",
       "  <tbody>\n",
       "    <tr>\n",
       "      <th>9</th>\n",
       "      <td>X360</td>\n",
       "      <td>0.31</td>\n",
       "    </tr>\n",
       "    <tr>\n",
       "      <th>8</th>\n",
       "      <td>WiiU</td>\n",
       "      <td>0.22</td>\n",
       "    </tr>\n",
       "    <tr>\n",
       "      <th>10</th>\n",
       "      <td>XOne</td>\n",
       "      <td>0.22</td>\n",
       "    </tr>\n",
       "    <tr>\n",
       "      <th>4</th>\n",
       "      <td>PS4</td>\n",
       "      <td>0.20</td>\n",
       "    </tr>\n",
       "    <tr>\n",
       "      <th>3</th>\n",
       "      <td>PS3</td>\n",
       "      <td>0.20</td>\n",
       "    </tr>\n",
       "    <tr>\n",
       "      <th>7</th>\n",
       "      <td>Wii</td>\n",
       "      <td>0.18</td>\n",
       "    </tr>\n",
       "    <tr>\n",
       "      <th>0</th>\n",
       "      <td>3DS</td>\n",
       "      <td>0.11</td>\n",
       "    </tr>\n",
       "    <tr>\n",
       "      <th>2</th>\n",
       "      <td>PC</td>\n",
       "      <td>0.08</td>\n",
       "    </tr>\n",
       "    <tr>\n",
       "      <th>1</th>\n",
       "      <td>DS</td>\n",
       "      <td>0.05</td>\n",
       "    </tr>\n",
       "    <tr>\n",
       "      <th>6</th>\n",
       "      <td>PSV</td>\n",
       "      <td>0.05</td>\n",
       "    </tr>\n",
       "    <tr>\n",
       "      <th>5</th>\n",
       "      <td>PSP</td>\n",
       "      <td>0.03</td>\n",
       "    </tr>\n",
       "  </tbody>\n",
       "</table>\n",
       "</div>"
      ],
      "text/plain": [
       "   platform  total_sales\n",
       "9      X360         0.31\n",
       "8      WiiU         0.22\n",
       "10     XOne         0.22\n",
       "4       PS4         0.20\n",
       "3       PS3         0.20\n",
       "7       Wii         0.18\n",
       "0       3DS         0.11\n",
       "2        PC         0.08\n",
       "1        DS         0.05\n",
       "6       PSV         0.05\n",
       "5       PSP         0.03"
      ]
     },
     "execution_count": 30,
     "metadata": {},
     "output_type": "execute_result"
    }
   ],
   "source": [
    "data_filtered.pivot_table(index='platform', values='total_sales', aggfunc='median').reset_index().sort_values(by='total_sales', ascending=False)"
   ]
  },
  {
   "cell_type": "markdown",
   "metadata": {},
   "source": [
    "Видим, что платформы X360, WiiU, XOne, PS4, PS3 имеют достаточно высокие по списку значения медианных суммарных продаж, можно считать их потенциально прибыльными на следующий год. \n"
   ]
  },
  {
   "cell_type": "markdown",
   "metadata": {},
   "source": [
    "### Построение диаграммы размаха по глобальным продажам игр в разбивке по платформам"
   ]
  },
  {
   "cell_type": "code",
   "execution_count": 32,
   "metadata": {
    "scrolled": false
   },
   "outputs": [
    {
     "data": {
      "image/png": "[encoded data removed]",
      "text/plain": [
       "<Figure size 1080x720 with 1 Axes>"
      ]
     },
     "metadata": {
      "needs_background": "light"
     },
     "output_type": "display_data"
    }
   ],
   "source": [
    "#построение графика\n",
    "data_filtered.boxplot(by ='platform', column =['total_sales'], grid = False, figsize=(15, 10)).get_figure().suptitle('').get_figure().gca().set_title('Продажи по перспективным платформам')\n",
    "\n",
    "plt.xlabel('Платформы')\n",
    "plt.ylabel('Общие продажи, млн копий') \n",
    "plt.show()  "
   ]
  },
  {
   "cell_type": "markdown",
   "metadata": {},
   "source": [
    "Видно большое количество вбросов данных с аномально высокими значениями продаж по платформам PS3, PS4, 3DS.\n",
    "Построим масштабированную диаграмму с отображением медианы и квантиля 75%, по перспективным платформам "
   ]
  },
  {
   "cell_type": "code",
   "execution_count": 33,
   "metadata": {
    "scrolled": false
   },
   "outputs": [
    {
     "data": {
      "image/png": "[encoded data removed]",
      "text/plain": [
       "<Figure size 1080x1080 with 1 Axes>"
      ]
     },
     "metadata": {
      "needs_background": "light"
     },
     "output_type": "display_data"
    }
   ],
   "source": [
    "new_list = ['X360', 'WiiU', 'XOne', 'PS4', 'PS3']\n",
    "\n",
    "data_filtered.query('platform in @new_list').boxplot(by ='platform', column =['total_sales'], grid = False, figsize=(15, 15)).get_figure().suptitle('').get_figure().gca().set_title('Продажи по перспективным платформам')\n",
    "\n",
    "plt.xlabel('Платформы')\n",
    "plt.ylim(0, 2)\n",
    "plt.ylabel('Общие продажи, млн копий') \n",
    "plt.show()"
   ]
  },
  {
   "cell_type": "markdown",
   "metadata": {},
   "source": [
    "Видим схожее значение медиан, платформа X360 лидирует по значению квантиля 75%, то есть внутри достаточно большой разброс значений продаж - от медианного 0,31 до примерно 0,8 млн копий лежит 50-75% продаж на данной платформе. \n",
    "Платформа WiiU показывает стабильные значения, с малым количеством вбросов аномальных значений продаж. "
   ]
  },
  {
   "cell_type": "markdown",
   "metadata": {},
   "source": [
    "### Влияние отзывов на продажи внутри платформ"
   ]
  },
  {
   "cell_type": "markdown",
   "metadata": {},
   "source": [
    "Определим, есть ли корреляция между продажами и отзывами пользователей и критиков. \n",
    "Для этого построим диаграмму рассеяния и посчитаем корреляцию между отзывами и продажами."
   ]
  },
  {
   "cell_type": "code",
   "execution_count": 42,
   "metadata": {
    "scrolled": false
   },
   "outputs": [
    {
     "data": {
      "image/png": "[encoded data removed]",
      "text/plain": [
       "<Figure size 1152x1008 with 5 Axes>"
      ]
     },
     "metadata": {
      "needs_background": "light"
     },
     "output_type": "display_data"
    }
   ],
   "source": [
    "#построим диаграмму рассеяния для популярным платформам в зависимости от оценок пользователей и критиков\n",
    "platforms = ['PS4', 'X360', 'PS3', 'XOne', '3DS']\n",
    "\n",
    "#готовим данные для построения графиков\n",
    "i = 1\n",
    "fig, ax = plt.subplots()\n",
    "for pl in platforms: \n",
    "    ax = plt.subplot(3, 3, i)\n",
    "    data_filtered.loc[data['platform'] == pl].plot(x='user_score', y='total_sales', kind='scatter', ax=ax, figsize=(16, 14))\n",
    "    i +=1\n",
    "    plt.title(f'Продажи и оценка пользователя на {pl}')\n",
    "    plt.xlabel('Оценка пользователя')\n",
    "    plt.ylabel('Общие продажи, млн копий')   \n",
    "fig.tight_layout()      \n",
    "plt.show()  \n",
    "         \n"
   ]
  },
  {
   "cell_type": "code",
   "execution_count": null,
   "metadata": {},
   "outputs": [],
   "source": [
    "#построим диаграмму рассеяния для популярным платформам в зависимости от оценок критиков\n",
    "platforms = ['PS4', 'X360', 'PS3', 'XOne', '3DS']\n",
    "\n",
    "#готовим данные для построения графиков\n",
    "i = 1\n",
    "fig, ax = plt.subplots()\n",
    "\n",
    "for pl in platforms: \n",
    "    ax = plt.subplot(3, 3, i)\n",
    "    data_filtered.loc[data['platform'] == pl].plot(x='critic_score', y='total_sales', kind='scatter', ax=ax, figsize=(16, 14))\n",
    "    i +=1\n",
    "    plt.title(f'Продажи и оценка критиков на {pl}')\n",
    "    plt.xlabel('Оценка критика')\n",
    "    plt.ylabel('Общие продажи, млн копий')  \n",
    "plt.tight_layout()      \n",
    "plt.show()  "
   ]
  },
  {
   "cell_type": "code",
   "execution_count": 44,
   "metadata": {},
   "outputs": [
    {
     "data": {
      "text/html": [
       "<div>\n",
       "<style scoped>\n",
       "    .dataframe tbody tr th:only-of-type {\n",
       "        vertical-align: middle;\n",
       "    }\n",
       "\n",
       "    .dataframe tbody tr th {\n",
       "        vertical-align: top;\n",
       "    }\n",
       "\n",
       "    .dataframe thead th {\n",
       "        text-align: right;\n",
       "    }\n",
       "</style>\n",
       "<table border=\"1\" class=\"dataframe\">\n",
       "  <thead>\n",
       "    <tr style=\"text-align: right;\">\n",
       "      <th></th>\n",
       "      <th>platform</th>\n",
       "      <th>corr</th>\n",
       "    </tr>\n",
       "  </thead>\n",
       "  <tbody>\n",
       "    <tr>\n",
       "      <th>0</th>\n",
       "      <td>PS4</td>\n",
       "      <td>-0.031957</td>\n",
       "    </tr>\n",
       "    <tr>\n",
       "      <th>1</th>\n",
       "      <td>X360</td>\n",
       "      <td>0.006164</td>\n",
       "    </tr>\n",
       "    <tr>\n",
       "      <th>2</th>\n",
       "      <td>PS3</td>\n",
       "      <td>-0.006218</td>\n",
       "    </tr>\n",
       "    <tr>\n",
       "      <th>3</th>\n",
       "      <td>XOne</td>\n",
       "      <td>-0.068925</td>\n",
       "    </tr>\n",
       "    <tr>\n",
       "      <th>4</th>\n",
       "      <td>3DS</td>\n",
       "      <td>0.197583</td>\n",
       "    </tr>\n",
       "  </tbody>\n",
       "</table>\n",
       "</div>"
      ],
      "text/plain": [
       "  platform      corr\n",
       "0      PS4 -0.031957\n",
       "1     X360  0.006164\n",
       "2      PS3 -0.006218\n",
       "3     XOne -0.068925\n",
       "4      3DS  0.197583"
      ]
     },
     "metadata": {},
     "output_type": "display_data"
    },
    {
     "name": "stdout",
     "output_type": "stream",
     "text": [
      "Средний показатель корреляции продаж от оценки пользователя по платформам 0.019329319461737906\n"
     ]
    },
    {
     "data": {
      "text/html": [
       "<div>\n",
       "<style scoped>\n",
       "    .dataframe tbody tr th:only-of-type {\n",
       "        vertical-align: middle;\n",
       "    }\n",
       "\n",
       "    .dataframe tbody tr th {\n",
       "        vertical-align: top;\n",
       "    }\n",
       "\n",
       "    .dataframe thead th {\n",
       "        text-align: right;\n",
       "    }\n",
       "</style>\n",
       "<table border=\"1\" class=\"dataframe\">\n",
       "  <thead>\n",
       "    <tr style=\"text-align: right;\">\n",
       "      <th></th>\n",
       "      <th>platform</th>\n",
       "      <th>corr</th>\n",
       "    </tr>\n",
       "  </thead>\n",
       "  <tbody>\n",
       "    <tr>\n",
       "      <th>0</th>\n",
       "      <td>PS4</td>\n",
       "      <td>0.406568</td>\n",
       "    </tr>\n",
       "    <tr>\n",
       "      <th>1</th>\n",
       "      <td>X360</td>\n",
       "      <td>0.360573</td>\n",
       "    </tr>\n",
       "    <tr>\n",
       "      <th>2</th>\n",
       "      <td>PS3</td>\n",
       "      <td>0.334166</td>\n",
       "    </tr>\n",
       "    <tr>\n",
       "      <th>3</th>\n",
       "      <td>XOne</td>\n",
       "      <td>0.416998</td>\n",
       "    </tr>\n",
       "    <tr>\n",
       "      <th>4</th>\n",
       "      <td>3DS</td>\n",
       "      <td>0.320803</td>\n",
       "    </tr>\n",
       "  </tbody>\n",
       "</table>\n",
       "</div>"
      ],
      "text/plain": [
       "  platform      corr\n",
       "0      PS4  0.406568\n",
       "1     X360  0.360573\n",
       "2      PS3  0.334166\n",
       "3     XOne  0.416998\n",
       "4      3DS  0.320803"
      ]
     },
     "metadata": {},
     "output_type": "display_data"
    },
    {
     "name": "stdout",
     "output_type": "stream",
     "text": [
      "Средний показатель корреляции продаж от оценки критика по платформам 0.36782163526544653\n"
     ]
    }
   ],
   "source": [
    "#рассчитаем показатели корреляции\n",
    "platforms = ['PS4', 'X360', 'PS3', 'XOne', '3DS']\n",
    "\n",
    "corr_critic = []\n",
    "corr_user = []\n",
    "\n",
    "for pl in platforms:\n",
    "    corr_1 = data_filtered.loc[data['platform'] == pl]['total_sales'].corr(data.loc[data['platform'] == pl]['user_score'])\n",
    "    corr_user.append({'platform':pl, 'corr': corr_1})\n",
    "    corr_2 = data_filtered.loc[data['platform'] == pl]['total_sales'].corr(data.loc[data['platform'] == pl]['critic_score'])\n",
    "    corr_critic.append({'platform':pl, 'corr': corr_2})\n",
    "\n",
    "display(pd.DataFrame.from_dict(corr_user))\n",
    "print('Средний показатель корреляции продаж от оценки пользователя по платформам', pd.DataFrame.from_dict(corr_user)['corr'].mean())\n",
    "\n",
    "display(pd.DataFrame.from_dict(corr_critic))\n",
    "print('Средний показатель корреляции продаж от оценки критика по платформам', pd.DataFrame.from_dict(corr_critic)['corr'].mean())\n",
    "\n"
   ]
  },
  {
   "cell_type": "markdown",
   "metadata": {},
   "source": [
    "По построенным диаграммам рассеяния можно сделать вывод, что между оценками пользователей/критиков и продажами игр на платформах есть слабая связь. \n",
    "Так как значение показателя корреляции для значений оценки критиков ближе к единице, можно сказать, что влияние критиков на продажи игр существеннее, чем оценки пользователей. \n",
    "\n",
    "Проверили уровень корреляции на нескольких платформах, видим что это распространяется на все популярные платформы. \n",
    "\n",
    "С уверенностью можно сказать, что больше продано игр с высокими оценками, есть отрывные значения с почти самыми высокими значениями оценок. \n",
    "\n",
    "Следовательно можно сказать, что на популярных платформах будет продано большое количество игр с высокими оценками, в особенности оценками критиков и малое с невысокими оценками - то есть прибыль приносят высоко оцененные игры. "
   ]
  },
  {
   "cell_type": "markdown",
   "metadata": {},
   "source": [
    "### Общее распределение игр по жанрам"
   ]
  },
  {
   "cell_type": "markdown",
   "metadata": {},
   "source": [
    "Выделим самые прибыльные жанры по общему распределению игр, жанры с высокими и низкими продажами."
   ]
  },
  {
   "cell_type": "code",
   "execution_count": 45,
   "metadata": {},
   "outputs": [
    {
     "data": {
      "image/png": "[encoded data removed]",
      "text/plain": [
       "<Figure size 432x288 with 1 Axes>"
      ]
     },
     "metadata": {
      "needs_background": "light"
     },
     "output_type": "display_data"
    }
   ],
   "source": [
    "#построим график распределения игр по жанрам\n",
    "data_filtered['genre'].value_counts().plot.bar()\n",
    "\n",
    "plt.title('Распределение игр по жанрам')\n",
    "plt.xlabel('Жанр')\n",
    "plt.ylabel('Количество игр')\n",
    "plt.show()"
   ]
  },
  {
   "cell_type": "markdown",
   "metadata": {},
   "source": [
    "Видим, что наибольшее количество игр продано в жанре Action с большим отрывом, на следующих местах месте Role-Playing, Adventure, Sports, не пользуются популярностью жанры Puzzle и Strategy"
   ]
  },
  {
   "cell_type": "code",
   "execution_count": 46,
   "metadata": {
    "scrolled": false
   },
   "outputs": [
    {
     "data": {
      "image/png": "[encoded data removed]",
      "text/plain": [
       "<Figure size 1080x720 with 1 Axes>"
      ]
     },
     "metadata": {
      "needs_background": "light"
     },
     "output_type": "display_data"
    }
   ],
   "source": [
    "data_filtered.boxplot(by='genre', column =['total_sales'], grid = False, figsize=(15, 10)).get_figure().suptitle('').get_figure().gca().set_title('Продажи по жанрам')\n",
    "\n",
    "plt.xlabel('Жанры')\n",
    "plt.ylabel('Общие продажи, млн копий') \n",
    "plt.show()\n"
   ]
  },
  {
   "cell_type": "markdown",
   "metadata": {},
   "source": [
    "Выведем масштабированную диаграмму размаха"
   ]
  },
  {
   "cell_type": "code",
   "execution_count": 47,
   "metadata": {},
   "outputs": [
    {
     "data": {
      "image/png": "[encoded data removed]",
      "text/plain": [
       "<Figure size 1080x720 with 1 Axes>"
      ]
     },
     "metadata": {
      "needs_background": "light"
     },
     "output_type": "display_data"
    }
   ],
   "source": [
    "data_filtered.boxplot(by='genre', column =['total_sales'], grid = False, figsize=(15, 10)).get_figure().suptitle('').get_figure().gca().set_title('Продажи по жанрам')\n",
    "\n",
    "plt.xlabel('Жанры')\n",
    "plt.ylabel('Общие продажи, млн копий') \n",
    "plt.ylim(0, 2)\n",
    "plt.show()"
   ]
  },
  {
   "cell_type": "markdown",
   "metadata": {},
   "source": [
    "По графику можно выделить жанры с высокими показателями медианных продаж - Shooter, Sports, Platform. Эти жанры можно считать прибыльными, так как они показывают стабильный спрос в не зависимости от платформы. Низкие продажи можно увидеть по жанрам Puzzle и Adventure, Strategy.\n"
   ]
  },
  {
   "cell_type": "markdown",
   "metadata": {},
   "source": [
    "## Портрет пользователя каждого региона"
   ]
  },
  {
   "cell_type": "markdown",
   "metadata": {},
   "source": [
    "Определим для пользователя каждого региона (NA, EU, JP):\n",
    "- Самые популярные платформы (топ-5).\n",
    "- Самые популярные жанры (топ-5).\n",
    "- Влияет ли рейтинг ESRB на продажи в отдельном регионе?"
   ]
  },
  {
   "cell_type": "markdown",
   "metadata": {},
   "source": [
    "### Топ-5 платформ по регионам"
   ]
  },
  {
   "cell_type": "markdown",
   "metadata": {},
   "source": [
    "По каждому из регионов найдем самые популярные платформы и опишем различия в долях продаж"
   ]
  },
  {
   "cell_type": "code",
   "execution_count": 48,
   "metadata": {},
   "outputs": [
    {
     "data": {
      "image/png": "[encoded data removed]",
      "text/plain": [
       "<Figure size 1080x1080 with 3 Axes>"
      ]
     },
     "metadata": {},
     "output_type": "display_data"
    }
   ],
   "source": [
    "#построим график распределения продаж в регионах по платформам\n",
    "regions = ['jp_sales', 'na_sales', 'eu_sales']\n",
    "\n",
    "i = 1\n",
    "fig, ax = plt.subplots()\n",
    "fig.suptitle('Топ-5 платформ по регионам',fontsize=14)\n",
    "\n",
    "for region in regions: \n",
    "    ax = plt.subplot(1, 3, i)\n",
    "    player_platform = (\n",
    "        data_filtered.pivot_table(index='platform', values=region, aggfunc='sum')\n",
    "        .sort_values(by=region, ascending=False).reset_index()\n",
    "    )\n",
    "\n",
    "    other = pd.DataFrame({\n",
    "        'platform' : ['other'],\n",
    "        region : [player_platform[region][5:].sum()]\n",
    "    })\n",
    "\n",
    "    player_platform = player_platform[:5].append(other, ignore_index = True)\n",
    "    player_platform.plot.pie(labels = player_platform['platform'], y = region, autopct='%.1f%%', figsize=(15, 15), ax=ax)\n",
    "    ax.set_title(f'{region[:2].upper()}')\n",
    "    ax.axes.yaxis.set_visible(False)\n",
    "    i +=1 \n",
    "\n",
    "fig.tight_layout()  \n",
    "fig.subplots_adjust(top=1.5)\n",
    "plt.show()  "
   ]
  },
  {
   "cell_type": "markdown",
   "metadata": {},
   "source": [
    "На примере платформы X360 можем увидеть различия в предпочтениях по платформам в каждом регионе - в Северной Америке на X360 приходится 23,7% от общих продаж в регионе (1 место). В Европе - 14,7% (3 место) и в Японии - платформа не входит в топ-5.  \n",
    "\n",
    "В Северной Америке и в Европе пользуются популярностью смежные платформы, например PS4, PS3 или X360, в то время как в Японии свой уникальный список, в котором платформы, перечисленные выше находятся на неприоритетных местах в списке. Также в Японии можно платформа 3DS занимает практически половину продаж в регионе, в то время как в Европе и Северной Америке продажи примерно равномерно поделены между топ-5 платформами. \n",
    "\n",
    "Такие различия можно связать с тем фактом, что в определенный период японский рынок задал вектор на продажу переносных игровых консолей - платформы WiiU, 3DS. В то время, как остальные регионы отдавали предпочтение домашним консолям. Также, на японском рынке почти не приносят прибыль игры, публикуемые иностранными платформами. \n"
   ]
  },
  {
   "cell_type": "markdown",
   "metadata": {},
   "source": [
    "### Топ-5 жанров по регионам"
   ]
  },
  {
   "cell_type": "markdown",
   "metadata": {},
   "source": [
    "Определим самые популярные жанры по регионам и опишем разницу."
   ]
  },
  {
   "cell_type": "code",
   "execution_count": 52,
   "metadata": {},
   "outputs": [
    {
     "data": {
      "image/png": "[encoded data removed]",
      "text/plain": [
       "<Figure size 1080x1080 with 3 Axes>"
      ]
     },
     "metadata": {},
     "output_type": "display_data"
    }
   ],
   "source": [
    "regions = ['jp_sales', 'na_sales', 'eu_sales']\n",
    "\n",
    "i = 1\n",
    "fig, ax = plt.subplots()\n",
    "fig.suptitle('Топ-5 жанров по регионам',fontsize=14)\n",
    "\n",
    "for region in regions: \n",
    "    ax = plt.subplot(1, 3, i)\n",
    "    player_genre = (\n",
    "        data_filtered.pivot_table(index='genre', values=region, aggfunc='sum')\n",
    "        .sort_values(by=region, ascending=False).reset_index()\n",
    "    )\n",
    "\n",
    "    other = pd.DataFrame({\n",
    "        'genre' : ['other'],\n",
    "        region : [player_genre[region][5:].sum()]\n",
    "    })\n",
    "\n",
    "    player_genre = player_genre[:5].append(other, ignore_index = True)\n",
    "    player_genre.plot.pie(labels = player_genre['genre'], y = region, autopct='%.1f%%', figsize=(15, 15), ax=ax)\n",
    "    ax.set_title(f'{region[:2].upper()}')\n",
    "    ax.axes.yaxis.set_visible(False)\n",
    "    i +=1 \n",
    "\n",
    "fig.tight_layout()  \n",
    "fig.subplots_adjust(top=1.5)\n",
    "plt.show()  "
   ]
  },
  {
   "cell_type": "markdown",
   "metadata": {},
   "source": [
    "- Топ-5 жанров в Северной Америке: Action, Shooter, Sports, Role-Playing, Misc.\n",
    "- Топ-5 жанров в Европе: Action, Shooter, Sports, Role-Playing, Racing.\n",
    "- Топ-5 жанров в Японии: Role-playing, Action, Misc, Simulation, Fighting. "
   ]
  },
  {
   "cell_type": "markdown",
   "metadata": {},
   "source": [
    "Есть схожие жанры, пользующиеся популярностью во всех регионах - Action и Role-Playing.\n",
    "В Северной Америке и Европе снова похожий список топ-5 самых популярных жанров в регионе, c примерно равными долями рынка, в то время как в Японии есть два выделяющихся жанра - Role-Playing и Action, 34% и 24,7%, остальные жанры остаются примерно с равными долями продаж Misc, Simulation Fighting - около 5%. \n",
    "\n",
    "Есть доводы о том, что история жанра игр Role-Playing в Японии началась с 80х годов и с тех пор является предпочтительным в этом регионе из-за таких характеристик, как: насыщенный сюжет, развитие героев и тд. \n",
    "\n",
    "В то время как в других регионах отдают предпочтение жанрам с \"достижениями\" - гоночные игры с соревновательными элементами или action с возможностью быть выше в рейтинге игроков. "
   ]
  },
  {
   "cell_type": "markdown",
   "metadata": {},
   "source": [
    "### Влияние рейтинга ESRB на продажи в отдельном регионе"
   ]
  },
  {
   "cell_type": "markdown",
   "metadata": {},
   "source": [
    "#### Распределение продаж по рейтингу в регионах"
   ]
  },
  {
   "cell_type": "code",
   "execution_count": 56,
   "metadata": {
    "scrolled": true
   },
   "outputs": [
    {
     "data": {
      "image/png": "[encoded data removed]",
      "text/plain": [
       "<Figure size 432x288 with 1 Axes>"
      ]
     },
     "metadata": {
      "needs_background": "light"
     },
     "output_type": "display_data"
    }
   ],
   "source": [
    "#построим распределение продаж в Японии по рейтингу ESRB\n",
    "data_filtered.pivot_table(index='rating', values=['jp_sales', 'na_sales', 'eu_sales'], aggfunc='sum').sort_values(by='jp_sales', ascending=False).plot.bar()\n",
    "\n",
    "plt.title('Распределение продаж в регионах по рейтингу')\n",
    "plt.xlabel('Рейтинг')\n",
    "plt.ylabel('Продажи, млн копий')\n",
    "plt.legend(['EU','JP','NA'])\n",
    "plt.xticks(rotation=0)\n",
    "plt.show()"
   ]
  },
  {
   "cell_type": "markdown",
   "metadata": {},
   "source": [
    "По распределению видим, игры с рейтингом ESRB хорошо продаются во всех регионах, кроме Японии. \n",
    "Игры же без рейтинга (значения заглушки -1) имеют самые высокие продажи в этом регионе. \n",
    "Этот факт можно обосновать тем, что рейтинг ESRB предназначен только для маркировки игр для США и Канады. \n",
    "\n",
    "Среди игр с рейтингом можно также выделить рейтинг M - для взрослых, с большим отрывом от другх видим продажи на 190-240 млн копий в Европе и Северной Америке. \n",
    "Далее по убыванию - рейтинг E (для всех возрастов) - с продажами по 100 млн копий и T (подросткам) с E10+ (Для всех от 10 лет и старше) - с продажами примерно 50-75 млн копий  "
   ]
  },
  {
   "cell_type": "markdown",
   "metadata": {},
   "source": [
    "## Проверка гипотез\n"
   ]
  },
  {
   "cell_type": "markdown",
   "metadata": {},
   "source": [
    "### Гипотеза о равенстве средних пользовательских рейтингов платформ Xbox One и PC"
   ]
  },
  {
   "cell_type": "markdown",
   "metadata": {},
   "source": [
    "**Первая гипотеза**: Средние пользовательские рейтинги платформ Xbox One и PC одинаковые\n",
    "\n",
    "Нулевая гипотеза - Средние пользовательские рейтинги платформ Xbox One и PC одинаковые\n",
    "\n",
    "Альтернативная гипотеза - эти рейтинги не равны"
   ]
  },
  {
   "cell_type": "code",
   "execution_count": 60,
   "metadata": {},
   "outputs": [],
   "source": [
    "#создадим выборки для проведения t-теста, отфильтруем пропуски\n",
    "xone_data = data_filtered.query('platform == \"XOne\" & user_score.isna() == False')\n",
    "pc_data = data_filtered.query('platform == \"PC\" & user_score.isna() == False')\n"
   ]
  },
  {
   "cell_type": "code",
   "execution_count": 61,
   "metadata": {
    "scrolled": true
   },
   "outputs": [
    {
     "name": "stdout",
     "output_type": "stream",
     "text": [
      "среднее первой выборки:6.521428571428572\n",
      "среднее второй выборки:6.4286407766990274\n",
      "p-значение: 0.5535080500643661\n",
      "Не получилось отвергнуть нулевую гипотезу\n"
     ]
    }
   ],
   "source": [
    "print(f'среднее первой выборки:{np.mean(xone_data[\"user_score\"])}')\n",
    "\n",
    "print(f'среднее второй выборки:{np.mean(pc_data[\"user_score\"])}')\n",
    "\n",
    "# задаем уровень значимости\n",
    "alpha = 0.05\n",
    "\n",
    "# проводим ttest для двух выборок, в качестве альтернативной используем двустороннюю гипотезу\n",
    "results = st.ttest_ind(\n",
    "    xone_data['user_score'],\n",
    "    pc_data['user_score'])\n",
    "\n",
    "print('p-значение:', results.pvalue)\n",
    "\n",
    "# проверяем p-value\n",
    "if results.pvalue < alpha:\n",
    "    print('Отвергаем нулевую гипотезу')\n",
    "else:\n",
    "    print('Не получилось отвергнуть нулевую гипотезу')"
   ]
  },
  {
   "cell_type": "markdown",
   "metadata": {},
   "source": [
    "Для проверки гипотезы был использован двухвыборочный t-тест для независимых выборок. \n",
    "Полученное значение p-value больше заданного уровня значимости, поэтому можем подтвердить нулевую гипотезу.\n",
    "Можем сделать вывод, что средние пользовательские рейтинги платформ Xbox One и PC одинаковые. "
   ]
  },
  {
   "cell_type": "markdown",
   "metadata": {},
   "source": [
    "### Гипотеза о неравенстве средних пользовательских рейтингов жанров Action и Sports "
   ]
  },
  {
   "cell_type": "markdown",
   "metadata": {},
   "source": [
    "**Вторая гипотеза**: Средние пользовательские рейтинги жанров Action (англ. «действие», экшен-игры) и Sports (англ. «спортивные соревнования») разные\n",
    "\n",
    "Нулевая гипотеза - Средние пользовательские рейтинги жанров Action (англ. «действие», экшен-игры) и Sports (англ. «спортивные соревнования») одинаковы\n",
    "\n",
    "Альтернативная гипотеза - эти рейтинги не равны"
   ]
  },
  {
   "cell_type": "code",
   "execution_count": 62,
   "metadata": {},
   "outputs": [],
   "source": [
    "#создадим выборки для проведения t-теста, отфильтруем пропуски\n",
    "action_data = data_filtered.query('genre == \"Action\" & user_score.isna() == False')\n",
    "sports_data = data_filtered.query('genre == \"Sports\" & user_score.isna() == False')"
   ]
  },
  {
   "cell_type": "code",
   "execution_count": 63,
   "metadata": {},
   "outputs": [
    {
     "name": "stdout",
     "output_type": "stream",
     "text": [
      "среднее первой выборки:6.825047801147227\n",
      "среднее второй выборки:5.455670103092784\n",
      "p-значение: 4.8045233804629176e-26\n",
      "Отвергаем нулевую гипотезу\n"
     ]
    }
   ],
   "source": [
    "print(f'среднее первой выборки:{np.mean(action_data[\"user_score\"])}')\n",
    "\n",
    "print(f'среднее второй выборки:{np.mean(sports_data[\"user_score\"])}')\n",
    "\n",
    "# задаем уровень значимости\n",
    "alpha = 0.05\n",
    "\n",
    "# проводим ttest для двух выборок, в качестве альтернативной используем двустороннюю гипотезу\n",
    "results = st.ttest_ind(\n",
    "    action_data['user_score'],\n",
    "    sports_data['user_score'])\n",
    "\n",
    "print('p-значение:', results.pvalue)\n",
    "\n",
    "# проверяем p-value\n",
    "if results.pvalue < alpha:\n",
    "    print('Отвергаем нулевую гипотезу')\n",
    "else:\n",
    "    print('Не получилось отвергнуть нулевую гипотезу')"
   ]
  },
  {
   "cell_type": "markdown",
   "metadata": {},
   "source": [
    "Для проверки гипотезы был использован двухвыборочный t-тест для независимых выборок. \n",
    "Полученное значение p-value меньше заданного уровня значимости, поэтому можем отвергнуть нулевую гипотезу.\n",
    "Можем сделать вывод, что гипотеза подтверждена и средние пользовательские рейтинги жанров Action и Sports разные."
   ]
  },
  {
   "cell_type": "markdown",
   "metadata": {},
   "source": [
    "## Общий вывод"
   ]
  },
  {
   "cell_type": "markdown",
   "metadata": {},
   "source": [
    "В ходе проекта было необходимо по данным до 2016 года спланировать кампанию на 2017 год. \n",
    "\n",
    "1. По общей информации о датасете увидели большое количество пропусков в информации об отзывах критиков и пользователей, а также в рейтинге ESRB, нестандартный тип данных для года релиза игры и оценки пользователя. \n",
    "\n",
    "\n",
    "2. Обработали эти аномалии:\n",
    "- привели год релиза к целым числам\n",
    "- пропуски в оценках критиков и пользователей было решено оставить без изменений, значения 'tbd' были также заменены на пропуски для последующего анализа. \n",
    "- в рейтинге на пропущенные значения поставили заглушку, для проверки теории влияния рейтинга на продажи \n",
    "\n",
    "Были обнаружены неявные дубликаты (при проверке одновременно по названию игры, годе релиза и платформе), с разными значениями по продажам в регионе. Было принято решение объеденить продажи и устранить дубликаты. \n",
    "\n",
    "Заменили названия столбцов - привели к нижнему регистру - для наглядности и удобства. \n",
    "\n",
    "3. Был также проведен исследовательский анализ данных в разных разрезах:\n",
    "\n",
    "- посмотрели, на распределение игр по годам, пришли к выводу, что компьютерные игры только набирали популярность в 80х-90х годах, были замечены несколько пиков на гистограмме - в 2002, 2008-2009 и в 2015 годах. В эти годы были запущены платформы Xbox, PS2, Wii, PS3, Xbox 360 и 3DS, их запуск способствовал росту продаж игр.\n",
    "\n",
    "- посмотрели на динамику продаж по платформам, выбрали топ-5 платформ с наибольшими суммарными продажами: PS2, X360, PS3, Wii и DS, и построили по распределение по годам. Далее посчитав медианный срок жизни платформ, пришли к выводу, что примерно каждые 7 лет появляются новые и исчезают старые платформы\n",
    "\n",
    "- выбрали за актуальный период данных -  2012-2016 года\n",
    "\n",
    "- определили, что платформы X360, WiiU, XOne, PS4, PS3 имеют достаточно высокие значения медианных суммарных продаж, можно считать их потенциально прибыльными на следующий год, но также можем заметить общую тенденцию на спад продаж к 2016 году по всем платформам. \n",
    "\n",
    "- построили диаграмму размаха по глобальным продажам игр по потенциально прибыльным платформам, увидели схожее значение медиан, платформа X360 лидирует по значению квантиля 75%, то есть внутри достаточно большой разброс значений продаж - от медианного 0,31 до примерно 0,8 млн копий лежит 50-75% продаж на данной платформе. Платформа WiiU показывает стабильные значения, с малым количеством вбросов аномальных значений продаж. \n",
    "\n",
    "- проверили, существует ли влияние на продажи внутри платформы отзывов. Построили диаграммы рассеяния, посчитали показатели корреляции - между отзывами пользователей и продажами - 0,02, между отзывами критиков и продажами - 0,37\n",
    "\n",
    "Сделали вывод, что между оценками пользователей/критиков и продажами игр на платформах есть слабая связь. Так как значение показателя корреляции для значений оценки критиков ближе к единице, можно сказать, что влияние критиков на продажи игр существеннее, чем оценки пользователей.\n",
    "Проверили уровень корреляции на нескольких платформах, видим что это распространяется на все популярные платформы.\n",
    "С уверенностью можно сказать, что больше продано игр с высокими оценками, есть отрывные значения с почти самыми высокими значениями оценок.\n",
    "Следовательно можно сказать, что на популярных платформах будет продано большое количество игр с высокими оценками, в особенности оценками критиков и малое с невысокими оценками - то есть прибыль приносят высоко оцененные игры.\n",
    "\n",
    "- построили график распределения игр по жанрам. По графику можно выделить жанры с высокими показателями медианных продаж - Shooter, Sports, Platform. Эти жанры можно считать прибыльными, так как они показывают стабильный спрос в не зависимости от платформы. Низкие продажи можно увидеть по жанрам Puzzle и Adventure, Strategy.\n",
    "\n",
    "Видим, что наибольшее количество игр продано в жанре Action с большим отрывом, на следующих местах месте Role-Playing, Adventure, Sports, не пользуются популярностью жанры Puzzle и Strategy\n",
    "Посмотреть на общее распределение игр по жанрам. Что можно сказать о самых прибыльных жанрах? Выделяются ли жанры с высокими и низкими продажами?\n",
    "\n",
    "4. Определили для пользователя каждого региона:\n",
    "\n",
    "- Топ-5 платформ в Северной Америке: X360, PS4, PS3, XOne, 3DS\n",
    "- Топ-5 платформ в Европе:PS4, PS3, X360, XOne, 3DS\n",
    "- Топ-5 платформ в Японии: 3DS, PS3, PSV, PS4, WiiU\n",
    "\n",
    "На примере платформы X360 увидели различия в предпочтениях по платформам в каждом регионе - в Северной Америке на X360 приходится 23,7% от общих продаж в регионе (1 место). В Европе - 14,7% (3 место) и в Японии - платформа не входит в топ-5.  \n",
    "\n",
    "В Северной Америке и в Европе пользуются популярностью смежные платформы, например PS4, PS3 или X360, в то время как в Японии свой уникальный список, в котором платформы, перечисленные выше находятся на неприоритетных местах в списке. Также в Японии можно платформа 3DS занимает практически половину продаж в регионе, в то время как в Европе и Северной Америке продажи примерно равномерно поделены между топ-5 платформами. \n",
    "\n",
    "Такие различия можно связать с тем фактом, что в определенный период японский рынок задал вектор на продажу переносных игровых консолей - платформы WiiU, 3DS. В то время, как остальные регионы отдавали предпочтение домашним консолям. Также, на японском рынке почти не приносят прибыль игры, публикуемые иностранными платформами. \n",
    "\n",
    "- Топ-5 жанров в Северной Америке: Action, Shooter, Sports, Role-Playing, Misc.\n",
    "- Топ-5 жанров в Европе: Action, Shooter, Sports, Role-Playing, Racing.\n",
    "- Топ-5 жанров в Японии: Role-playing, Action, Misc, Simulation, Fighting. \n",
    "\n",
    "Есть схожие жанры, пользующиеся популярностью во всех регионах - Action и Role-Playing.\n",
    "В Северной Америке и Европе снова похожий список топ-5 самых популярных жанров в регионе, c примерно равными долями рынка, в то время как в Японии есть два выделяющихся жанра - Role-Playing и Action, 34% и 24,7%, остальные жанры остаются примерно с равными долями продаж Misc, Simulation Fighting - около 5%. \n",
    "\n",
    "Есть доводы о том, что история жанра игр Role-Playing в Японии началась с 80х годов и с тех пор является предпочтительным в этом регионе из-за таких характеристик, как: насыщенный сюжет, развитие героев и тд. \n",
    "\n",
    "В то время как в других регионах отдают предпочтение жанрам с \"достижениями\" - гоночные игры с соревновательными элементами или action с возможностью быть выше в рейтинге игроков. \n",
    "\n",
    "- определили влияние рейтинга ESRB на продажи\n",
    "\n",
    "По построенному графику увидели, что игры с рейтингом ESRB хорошо продаются во всех регионах, кроме Японии. \n",
    "Игры же без рейтинга (значения заглушки -1) имеют самые высокие продажи в этом регионе. \n",
    "Этот факт можно обосновать тем, что рейтинг ESRB предназначен только для маркировки игр для США и Канады. \n",
    "\n",
    "Среди игр с рейтингом можно также выделить рейтинг M - для взрослых, с большим отрывом от другх видим продажи на 190-240 млн копий в Европе и Северной Америке. \n",
    "Далее по убыванию - рейтинг E (для всех возрастов) - с продажами по 100 млн копий и T (подросткам) с E10+ (Для всех от 10 лет и старше) - с продажами примерно 50-75 млн копий  \n",
    "\n",
    "\n",
    "5. Проверили две гипотезы\n",
    "\n",
    "- Средние пользовательские рейтинги платформ Xbox One и PC одинаковые;\n",
    "\n",
    "Для проверки гипотезы был использован двухвыборочный t-тест для независимых выборок. \n",
    "Полученное значение p-value больше заданного уровня значимости, поэтому подтвердили нулевую гипотезу: средние пользовательские рейтинги платформ Xbox One и PC одинаковые. \n",
    "\n",
    "- Средние пользовательские рейтинги жанров Action (англ. «действие», экшен-игры) и Sports (англ. «спортивные соревнования») разные.\n",
    "Для проверки гипотезы был использован двухвыборочный t-тест для независимых выборок. \n",
    "Полученное значение p-value меньше заданного уровня значимости, поэтому пришлось отвергнуть нулевую гипотезу.\n",
    "Можем сделать вывод, что гипотеза подтверждена и средние пользовательские рейтинги жанров Action и Sports разные.\n",
    "\n",
    "\n",
    "Если подвести итог, можно сказать, что на продажи игр влияет ее жанр, платформа, на которой она публикуется. \n",
    "Также, у разных регионов достаточно сильно различаются предпочтения по этим критериям, Япония в свою очередь имеет свои характерные отличия. \n",
    "\n",
    "Оценки критиков сильнее влияют на продажи игр, чем пользовательские, есть закономерность о продажах большего количества игр с высокими оценками. \n",
    "\n",
    "\n",
    "Для Японии можно порекомендовать рекламирование игр с жанром Role-playing, Action, обратить внимание на платформы 3DS, PS3, здесь больше продаются игры на переносных консолях, на платформах от местных компаний. Игры с рейтингом ESRB в этом регионе практически не продаются. \n",
    "\n",
    "Для Северной Америки можно порекомендовать продвижение игр с жанром Shooter, Action, обратить внимание на платформы X360, PS4, на этих платформах стабильные показатели медианных продаж. Здесь пользуются спросом игры с рейтингом ESRB M(для взрослых). \n",
    "\n",
    "В Европе можно продвигать игры также с жанром Shooter, Action, обратить внимание на платформы X360, PS4, со стабильными показателями медианных продаж. Здесь пользуются спросом игры с рейтингом ESRB M(для взрослых). \n",
    "\n",
    "Стоит обратить внимание на оценки критиков, игры с высокой оценкой с большой вероятностью будут лучше продаваться. "
   ]
  }
 ],
 "metadata": {
  "ExecuteTimeLog": [
   {
    "duration": 350,
    "start_time": "2024-07-28T17:27:42.731Z"
   },
   {
    "duration": 209,
    "start_time": "2024-07-28T17:28:03.087Z"
   },
   {
    "duration": 17,
    "start_time": "2024-07-28T17:28:12.963Z"
   },
   {
    "duration": 24,
    "start_time": "2024-07-28T17:28:18.194Z"
   },
   {
    "duration": 63,
    "start_time": "2024-07-28T17:31:00.402Z"
   },
   {
    "duration": 6,
    "start_time": "2024-07-28T17:31:13.610Z"
   },
   {
    "duration": 7,
    "start_time": "2024-07-28T17:31:32.412Z"
   },
   {
    "duration": 6,
    "start_time": "2024-07-28T17:37:57.667Z"
   },
   {
    "duration": 5,
    "start_time": "2024-07-28T17:38:00.353Z"
   },
   {
    "duration": 13,
    "start_time": "2024-07-28T17:38:07.254Z"
   },
   {
    "duration": 53,
    "start_time": "2024-07-28T17:39:27.534Z"
   },
   {
    "duration": 56,
    "start_time": "2024-07-28T17:39:34.262Z"
   },
   {
    "duration": 341,
    "start_time": "2024-07-28T17:41:24.326Z"
   },
   {
    "duration": 7,
    "start_time": "2024-07-28T17:44:36.487Z"
   },
   {
    "duration": 7,
    "start_time": "2024-07-28T17:45:40.493Z"
   },
   {
    "duration": 6,
    "start_time": "2024-07-28T17:47:07.027Z"
   },
   {
    "duration": 5,
    "start_time": "2024-07-28T17:47:11.543Z"
   },
   {
    "duration": 5,
    "start_time": "2024-07-28T17:47:15.665Z"
   },
   {
    "duration": 58,
    "start_time": "2024-07-28T17:47:20.974Z"
   },
   {
    "duration": 18,
    "start_time": "2024-07-28T17:48:02.512Z"
   },
   {
    "duration": 15,
    "start_time": "2024-07-28T17:48:08.375Z"
   },
   {
    "duration": 357,
    "start_time": "2024-07-28T17:48:22.603Z"
   },
   {
    "duration": 11,
    "start_time": "2024-07-28T17:48:55.781Z"
   },
   {
    "duration": 13,
    "start_time": "2024-07-28T17:49:54.088Z"
   },
   {
    "duration": 11,
    "start_time": "2024-07-28T17:50:03.013Z"
   },
   {
    "duration": 5,
    "start_time": "2024-07-28T17:50:04.674Z"
   },
   {
    "duration": 398,
    "start_time": "2024-07-28T17:52:34.354Z"
   },
   {
    "duration": 5,
    "start_time": "2024-07-28T17:52:47.083Z"
   },
   {
    "duration": 11,
    "start_time": "2024-07-28T17:53:12.861Z"
   },
   {
    "duration": 406,
    "start_time": "2024-07-28T17:53:24.688Z"
   },
   {
    "duration": 58,
    "start_time": "2024-07-28T17:53:25.096Z"
   },
   {
    "duration": 15,
    "start_time": "2024-07-28T17:53:25.156Z"
   },
   {
    "duration": 25,
    "start_time": "2024-07-28T17:53:25.173Z"
   },
   {
    "duration": 4,
    "start_time": "2024-07-28T17:53:25.199Z"
   },
   {
    "duration": 13,
    "start_time": "2024-07-28T17:53:25.204Z"
   },
   {
    "duration": 77,
    "start_time": "2024-07-28T17:53:25.219Z"
   },
   {
    "duration": 380,
    "start_time": "2024-07-28T17:55:41.534Z"
   },
   {
    "duration": 379,
    "start_time": "2024-07-28T17:56:36.201Z"
   },
   {
    "duration": 341,
    "start_time": "2024-07-28T17:56:45.596Z"
   },
   {
    "duration": 7,
    "start_time": "2024-07-28T17:56:52.533Z"
   },
   {
    "duration": 6,
    "start_time": "2024-07-28T17:56:59.473Z"
   },
   {
    "duration": 5,
    "start_time": "2024-07-28T17:57:05.911Z"
   },
   {
    "duration": 5,
    "start_time": "2024-07-28T17:57:07.225Z"
   },
   {
    "duration": 7,
    "start_time": "2024-07-28T17:57:13.696Z"
   },
   {
    "duration": 11,
    "start_time": "2024-07-28T17:58:06.578Z"
   },
   {
    "duration": 6,
    "start_time": "2024-07-28T17:58:28.880Z"
   },
   {
    "duration": 13,
    "start_time": "2024-07-28T17:58:34.197Z"
   },
   {
    "duration": 8,
    "start_time": "2024-07-28T17:58:35.396Z"
   },
   {
    "duration": 374,
    "start_time": "2024-07-28T17:58:43.553Z"
   },
   {
    "duration": 69,
    "start_time": "2024-07-28T17:58:43.929Z"
   },
   {
    "duration": 16,
    "start_time": "2024-07-28T17:58:43.999Z"
   },
   {
    "duration": 26,
    "start_time": "2024-07-28T17:58:44.016Z"
   },
   {
    "duration": 4,
    "start_time": "2024-07-28T17:58:44.044Z"
   },
   {
    "duration": 23,
    "start_time": "2024-07-28T17:58:44.049Z"
   },
   {
    "duration": 37,
    "start_time": "2024-07-28T17:58:44.073Z"
   },
   {
    "duration": 7,
    "start_time": "2024-07-28T17:58:44.111Z"
   },
   {
    "duration": 9,
    "start_time": "2024-07-28T18:00:49.119Z"
   },
   {
    "duration": 7,
    "start_time": "2024-07-28T18:00:53.422Z"
   },
   {
    "duration": 45,
    "start_time": "2024-07-28T18:07:13.199Z"
   },
   {
    "duration": 8,
    "start_time": "2024-07-28T18:07:14.664Z"
   },
   {
    "duration": 14,
    "start_time": "2024-07-28T18:07:22.747Z"
   },
   {
    "duration": 16,
    "start_time": "2024-07-28T18:07:30.151Z"
   },
   {
    "duration": 2,
    "start_time": "2024-07-28T18:11:26.762Z"
   },
   {
    "duration": 59,
    "start_time": "2024-07-28T18:11:26.766Z"
   },
   {
    "duration": 13,
    "start_time": "2024-07-28T18:11:26.826Z"
   },
   {
    "duration": 20,
    "start_time": "2024-07-28T18:11:26.840Z"
   },
   {
    "duration": 5,
    "start_time": "2024-07-28T18:11:26.862Z"
   },
   {
    "duration": 29,
    "start_time": "2024-07-28T18:11:26.868Z"
   },
   {
    "duration": 16,
    "start_time": "2024-07-28T18:11:52.301Z"
   },
   {
    "duration": 6,
    "start_time": "2024-07-28T18:11:58.839Z"
   },
   {
    "duration": 2,
    "start_time": "2024-07-28T18:12:04.875Z"
   },
   {
    "duration": 70,
    "start_time": "2024-07-28T18:12:04.879Z"
   },
   {
    "duration": 12,
    "start_time": "2024-07-28T18:12:04.951Z"
   },
   {
    "duration": 51,
    "start_time": "2024-07-28T18:12:04.964Z"
   },
   {
    "duration": 20,
    "start_time": "2024-07-28T18:12:05.017Z"
   },
   {
    "duration": 19,
    "start_time": "2024-07-28T18:12:05.039Z"
   },
   {
    "duration": 13,
    "start_time": "2024-07-28T18:12:08.946Z"
   },
   {
    "duration": 16,
    "start_time": "2024-07-28T18:12:39.048Z"
   },
   {
    "duration": 13,
    "start_time": "2024-07-28T18:15:38.086Z"
   },
   {
    "duration": 85,
    "start_time": "2024-07-28T18:15:49.668Z"
   },
   {
    "duration": 2,
    "start_time": "2024-07-28T18:15:55.857Z"
   },
   {
    "duration": 58,
    "start_time": "2024-07-28T18:15:55.861Z"
   },
   {
    "duration": 13,
    "start_time": "2024-07-28T18:15:55.920Z"
   },
   {
    "duration": 19,
    "start_time": "2024-07-28T18:15:55.935Z"
   },
   {
    "duration": 4,
    "start_time": "2024-07-28T18:15:55.956Z"
   },
   {
    "duration": 30,
    "start_time": "2024-07-28T18:15:55.961Z"
   },
   {
    "duration": 29,
    "start_time": "2024-07-28T18:15:55.992Z"
   },
   {
    "duration": 8,
    "start_time": "2024-07-28T18:16:41.926Z"
   },
   {
    "duration": 20,
    "start_time": "2024-07-28T18:18:16.380Z"
   },
   {
    "duration": 9,
    "start_time": "2024-07-28T18:18:21.591Z"
   },
   {
    "duration": 16,
    "start_time": "2024-07-28T18:20:23.792Z"
   },
   {
    "duration": 16,
    "start_time": "2024-07-28T18:20:35.337Z"
   },
   {
    "duration": 2,
    "start_time": "2024-07-28T18:21:07.774Z"
   },
   {
    "duration": 58,
    "start_time": "2024-07-28T18:21:07.778Z"
   },
   {
    "duration": 13,
    "start_time": "2024-07-28T18:21:07.838Z"
   },
   {
    "duration": 19,
    "start_time": "2024-07-28T18:21:07.853Z"
   },
   {
    "duration": 4,
    "start_time": "2024-07-28T18:21:07.873Z"
   },
   {
    "duration": 12,
    "start_time": "2024-07-28T18:21:14.140Z"
   },
   {
    "duration": 6,
    "start_time": "2024-07-28T18:21:18.378Z"
   },
   {
    "duration": 5,
    "start_time": "2024-07-28T18:21:21.847Z"
   },
   {
    "duration": 6,
    "start_time": "2024-07-28T18:21:44.004Z"
   },
   {
    "duration": 7,
    "start_time": "2024-07-28T18:21:48.035Z"
   },
   {
    "duration": 14,
    "start_time": "2024-07-28T18:21:52.401Z"
   },
   {
    "duration": 9,
    "start_time": "2024-07-28T18:21:53.988Z"
   },
   {
    "duration": 15,
    "start_time": "2024-07-28T18:24:45.024Z"
   },
   {
    "duration": 81,
    "start_time": "2024-07-28T18:26:15.341Z"
   },
   {
    "duration": 3,
    "start_time": "2024-07-28T18:26:22.935Z"
   },
   {
    "duration": 66,
    "start_time": "2024-07-28T18:26:22.939Z"
   },
   {
    "duration": 13,
    "start_time": "2024-07-28T18:26:23.007Z"
   },
   {
    "duration": 62,
    "start_time": "2024-07-28T18:26:23.022Z"
   },
   {
    "duration": 24,
    "start_time": "2024-07-28T18:26:23.085Z"
   },
   {
    "duration": 45,
    "start_time": "2024-07-28T18:26:23.111Z"
   },
   {
    "duration": 15,
    "start_time": "2024-07-28T18:26:23.157Z"
   },
   {
    "duration": 83,
    "start_time": "2024-07-28T18:26:23.173Z"
   },
   {
    "duration": 17,
    "start_time": "2024-07-28T18:26:23.258Z"
   },
   {
    "duration": 3,
    "start_time": "2024-07-28T18:26:49.654Z"
   },
   {
    "duration": 66,
    "start_time": "2024-07-28T18:26:49.660Z"
   },
   {
    "duration": 13,
    "start_time": "2024-07-28T18:26:49.728Z"
   },
   {
    "duration": 31,
    "start_time": "2024-07-28T18:26:49.743Z"
   },
   {
    "duration": 8,
    "start_time": "2024-07-28T18:26:49.776Z"
   },
   {
    "duration": 19,
    "start_time": "2024-07-28T18:26:49.785Z"
   },
   {
    "duration": 5,
    "start_time": "2024-07-28T18:26:49.806Z"
   },
   {
    "duration": 4,
    "start_time": "2024-07-28T18:26:53.165Z"
   },
   {
    "duration": 8,
    "start_time": "2024-07-28T18:26:54.454Z"
   },
   {
    "duration": 16,
    "start_time": "2024-07-28T18:31:12.463Z"
   },
   {
    "duration": 76,
    "start_time": "2024-07-28T18:31:31.392Z"
   },
   {
    "duration": 71,
    "start_time": "2024-07-28T18:31:35.306Z"
   },
   {
    "duration": 17,
    "start_time": "2024-07-28T18:31:36.404Z"
   },
   {
    "duration": 9,
    "start_time": "2024-07-28T18:32:08.864Z"
   },
   {
    "duration": 7,
    "start_time": "2024-07-28T18:32:10.118Z"
   },
   {
    "duration": 4,
    "start_time": "2024-07-28T18:33:02.375Z"
   },
   {
    "duration": 7,
    "start_time": "2024-07-28T18:33:03.652Z"
   },
   {
    "duration": 21,
    "start_time": "2024-07-28T18:33:14.785Z"
   },
   {
    "duration": 70,
    "start_time": "2024-07-28T18:36:05.629Z"
   },
   {
    "duration": 65,
    "start_time": "2024-07-28T18:36:16.573Z"
   },
   {
    "duration": 10,
    "start_time": "2024-07-28T18:36:38.421Z"
   },
   {
    "duration": 22,
    "start_time": "2024-07-28T18:36:47.500Z"
   },
   {
    "duration": 394,
    "start_time": "2024-07-28T18:36:55.935Z"
   },
   {
    "duration": 55,
    "start_time": "2024-07-28T18:36:56.331Z"
   },
   {
    "duration": 15,
    "start_time": "2024-07-28T18:36:56.388Z"
   },
   {
    "duration": 28,
    "start_time": "2024-07-28T18:36:56.405Z"
   },
   {
    "duration": 4,
    "start_time": "2024-07-28T18:36:56.435Z"
   },
   {
    "duration": 15,
    "start_time": "2024-07-28T18:36:56.440Z"
   },
   {
    "duration": 49,
    "start_time": "2024-07-28T18:36:56.456Z"
   },
   {
    "duration": 88,
    "start_time": "2024-07-28T18:36:56.506Z"
   },
   {
    "duration": 0,
    "start_time": "2024-07-28T18:36:56.595Z"
   },
   {
    "duration": 77,
    "start_time": "2024-07-28T18:41:00.324Z"
   },
   {
    "duration": 2,
    "start_time": "2024-07-28T18:41:06.431Z"
   },
   {
    "duration": 61,
    "start_time": "2024-07-28T18:41:06.435Z"
   },
   {
    "duration": 14,
    "start_time": "2024-07-28T18:41:06.497Z"
   },
   {
    "duration": 19,
    "start_time": "2024-07-28T18:41:06.512Z"
   },
   {
    "duration": 5,
    "start_time": "2024-07-28T18:41:06.532Z"
   },
   {
    "duration": 15,
    "start_time": "2024-07-28T18:41:06.538Z"
   },
   {
    "duration": 8,
    "start_time": "2024-07-28T18:41:09.109Z"
   },
   {
    "duration": 15,
    "start_time": "2024-07-28T18:41:21.318Z"
   },
   {
    "duration": 12,
    "start_time": "2024-07-28T18:41:26.758Z"
   },
   {
    "duration": 8,
    "start_time": "2024-07-28T18:41:29.174Z"
   },
   {
    "duration": 51,
    "start_time": "2024-07-28T18:42:06.810Z"
   },
   {
    "duration": 51,
    "start_time": "2024-07-28T18:42:09.309Z"
   },
   {
    "duration": 2,
    "start_time": "2024-07-28T18:42:18.312Z"
   },
   {
    "duration": 69,
    "start_time": "2024-07-28T18:42:18.316Z"
   },
   {
    "duration": 21,
    "start_time": "2024-07-28T18:42:18.387Z"
   },
   {
    "duration": 26,
    "start_time": "2024-07-28T18:42:18.411Z"
   },
   {
    "duration": 5,
    "start_time": "2024-07-28T18:42:18.439Z"
   },
   {
    "duration": 45,
    "start_time": "2024-07-28T18:42:18.446Z"
   },
   {
    "duration": 15,
    "start_time": "2024-07-28T18:42:18.492Z"
   },
   {
    "duration": 14,
    "start_time": "2024-07-28T18:42:22.511Z"
   },
   {
    "duration": 13,
    "start_time": "2024-07-28T18:42:25.217Z"
   },
   {
    "duration": 12,
    "start_time": "2024-07-28T18:42:26.691Z"
   },
   {
    "duration": 13,
    "start_time": "2024-07-28T18:42:46.562Z"
   },
   {
    "duration": 7,
    "start_time": "2024-07-28T18:42:49.212Z"
   },
   {
    "duration": 5,
    "start_time": "2024-07-28T18:42:56.345Z"
   },
   {
    "duration": 4,
    "start_time": "2024-07-28T18:43:00.431Z"
   },
   {
    "duration": 6,
    "start_time": "2024-07-28T18:43:13.429Z"
   },
   {
    "duration": 8,
    "start_time": "2024-07-28T18:43:15.232Z"
   },
   {
    "duration": 7,
    "start_time": "2024-07-28T18:43:16.541Z"
   },
   {
    "duration": 10,
    "start_time": "2024-07-28T19:06:39.991Z"
   },
   {
    "duration": 6,
    "start_time": "2024-07-28T19:06:59.045Z"
   },
   {
    "duration": 5,
    "start_time": "2024-07-28T19:07:02.096Z"
   },
   {
    "duration": 14,
    "start_time": "2024-07-28T19:07:16.833Z"
   },
   {
    "duration": 6,
    "start_time": "2024-07-28T19:07:31.453Z"
   },
   {
    "duration": 12,
    "start_time": "2024-07-28T19:07:34.440Z"
   },
   {
    "duration": 5,
    "start_time": "2024-07-28T19:07:39.707Z"
   },
   {
    "duration": 12,
    "start_time": "2024-07-28T19:07:42.023Z"
   },
   {
    "duration": 9,
    "start_time": "2024-07-28T19:08:10.165Z"
   },
   {
    "duration": 7,
    "start_time": "2024-07-28T19:09:07.870Z"
   },
   {
    "duration": 5,
    "start_time": "2024-07-28T19:16:16.226Z"
   },
   {
    "duration": 20,
    "start_time": "2024-07-28T19:16:39.965Z"
   },
   {
    "duration": 7,
    "start_time": "2024-07-28T19:17:37.136Z"
   },
   {
    "duration": 7,
    "start_time": "2024-07-28T19:18:02.864Z"
   },
   {
    "duration": 4,
    "start_time": "2024-07-28T19:18:05.300Z"
   },
   {
    "duration": 13,
    "start_time": "2024-07-28T19:18:13.282Z"
   },
   {
    "duration": 3,
    "start_time": "2024-07-28T19:18:15.360Z"
   },
   {
    "duration": 5,
    "start_time": "2024-07-28T19:18:23.496Z"
   },
   {
    "duration": 13,
    "start_time": "2024-07-28T19:24:39.917Z"
   },
   {
    "duration": 6,
    "start_time": "2024-07-28T19:26:22.014Z"
   },
   {
    "duration": 5,
    "start_time": "2024-07-28T19:26:31.519Z"
   },
   {
    "duration": 7,
    "start_time": "2024-07-28T19:26:41.709Z"
   },
   {
    "duration": 4,
    "start_time": "2024-07-28T19:26:51.515Z"
   },
   {
    "duration": 6,
    "start_time": "2024-07-28T19:26:54.118Z"
   },
   {
    "duration": 7,
    "start_time": "2024-07-28T19:27:09.671Z"
   },
   {
    "duration": 4,
    "start_time": "2024-07-28T19:27:12.767Z"
   },
   {
    "duration": 7,
    "start_time": "2024-07-28T19:27:17.179Z"
   },
   {
    "duration": 691,
    "start_time": "2024-07-28T19:32:51.845Z"
   },
   {
    "duration": 6,
    "start_time": "2024-07-28T19:32:53.911Z"
   },
   {
    "duration": 26,
    "start_time": "2024-07-28T19:33:34.706Z"
   },
   {
    "duration": 24,
    "start_time": "2024-07-28T19:33:37.183Z"
   },
   {
    "duration": 13,
    "start_time": "2024-07-28T19:33:45.585Z"
   },
   {
    "duration": 2,
    "start_time": "2024-07-28T19:34:00.217Z"
   },
   {
    "duration": 170,
    "start_time": "2024-07-28T19:34:00.221Z"
   },
   {
    "duration": 14,
    "start_time": "2024-07-28T19:34:00.392Z"
   },
   {
    "duration": 91,
    "start_time": "2024-07-28T19:34:00.408Z"
   },
   {
    "duration": 22,
    "start_time": "2024-07-28T19:34:00.501Z"
   },
   {
    "duration": 60,
    "start_time": "2024-07-28T19:34:00.524Z"
   },
   {
    "duration": 80,
    "start_time": "2024-07-28T19:34:00.585Z"
   },
   {
    "duration": 49,
    "start_time": "2024-07-28T19:34:00.667Z"
   },
   {
    "duration": 69,
    "start_time": "2024-07-28T19:34:00.718Z"
   },
   {
    "duration": 142,
    "start_time": "2024-07-28T19:34:00.788Z"
   },
   {
    "duration": 8,
    "start_time": "2024-07-28T19:34:03.184Z"
   },
   {
    "duration": 372,
    "start_time": "2024-07-28T19:34:12.029Z"
   },
   {
    "duration": 63,
    "start_time": "2024-07-28T19:34:56.233Z"
   },
   {
    "duration": 85,
    "start_time": "2024-07-28T19:34:59.466Z"
   },
   {
    "duration": 24,
    "start_time": "2024-07-28T19:35:04.358Z"
   },
   {
    "duration": 13,
    "start_time": "2024-07-28T19:37:15.309Z"
   },
   {
    "duration": 17,
    "start_time": "2024-07-28T19:38:07.308Z"
   },
   {
    "duration": 4,
    "start_time": "2024-07-28T19:38:13.116Z"
   },
   {
    "duration": 18,
    "start_time": "2024-07-28T19:38:14.684Z"
   },
   {
    "duration": 14,
    "start_time": "2024-07-28T19:38:26.829Z"
   },
   {
    "duration": 4,
    "start_time": "2024-07-28T19:38:35.447Z"
   },
   {
    "duration": 14,
    "start_time": "2024-07-28T19:38:36.658Z"
   },
   {
    "duration": 8,
    "start_time": "2024-07-28T19:38:48.584Z"
   },
   {
    "duration": 108,
    "start_time": "2024-07-28T19:39:25.262Z"
   },
   {
    "duration": 5,
    "start_time": "2024-07-28T19:40:00.368Z"
   },
   {
    "duration": 13,
    "start_time": "2024-07-28T19:40:02.562Z"
   },
   {
    "duration": 6,
    "start_time": "2024-07-28T19:40:08.285Z"
   },
   {
    "duration": 11,
    "start_time": "2024-07-28T19:40:24.580Z"
   },
   {
    "duration": 12,
    "start_time": "2024-07-28T19:40:32.863Z"
   },
   {
    "duration": 6,
    "start_time": "2024-07-28T19:40:45.240Z"
   },
   {
    "duration": 56,
    "start_time": "2024-07-28T19:41:07.547Z"
   },
   {
    "duration": 10,
    "start_time": "2024-07-28T19:41:10.884Z"
   },
   {
    "duration": 5,
    "start_time": "2024-07-28T19:41:28.516Z"
   },
   {
    "duration": 14,
    "start_time": "2024-07-28T19:41:33.741Z"
   },
   {
    "duration": 5,
    "start_time": "2024-07-28T19:41:36.112Z"
   },
   {
    "duration": 14,
    "start_time": "2024-07-28T19:41:37.309Z"
   },
   {
    "duration": 6,
    "start_time": "2024-07-28T19:41:41.239Z"
   },
   {
    "duration": 7,
    "start_time": "2024-07-28T19:41:58.352Z"
   },
   {
    "duration": 5,
    "start_time": "2024-07-28T19:42:13.415Z"
   },
   {
    "duration": 7,
    "start_time": "2024-07-28T19:42:20.279Z"
   },
   {
    "duration": 5,
    "start_time": "2024-07-28T19:42:25.295Z"
   },
   {
    "duration": 4,
    "start_time": "2024-07-28T19:42:32.623Z"
   },
   {
    "duration": 13,
    "start_time": "2024-07-28T19:42:39.872Z"
   },
   {
    "duration": 18,
    "start_time": "2024-07-28T19:42:45.313Z"
   },
   {
    "duration": 7,
    "start_time": "2024-07-28T19:42:49.833Z"
   },
   {
    "duration": 186,
    "start_time": "2024-07-28T19:43:27.503Z"
   },
   {
    "duration": 197,
    "start_time": "2024-07-28T19:43:29.844Z"
   },
   {
    "duration": 196,
    "start_time": "2024-07-28T19:43:39.235Z"
   },
   {
    "duration": 8,
    "start_time": "2024-07-28T19:43:44.373Z"
   },
   {
    "duration": 417,
    "start_time": "2024-07-28T19:43:48.242Z"
   },
   {
    "duration": 199,
    "start_time": "2024-07-28T19:44:08.367Z"
   },
   {
    "duration": 382,
    "start_time": "2024-07-28T19:44:43.106Z"
   },
   {
    "duration": 58,
    "start_time": "2024-07-28T19:44:43.489Z"
   },
   {
    "duration": 14,
    "start_time": "2024-07-28T19:44:43.549Z"
   },
   {
    "duration": 25,
    "start_time": "2024-07-28T19:44:43.564Z"
   },
   {
    "duration": 3,
    "start_time": "2024-07-28T19:44:43.591Z"
   },
   {
    "duration": 30,
    "start_time": "2024-07-28T19:44:43.596Z"
   },
   {
    "duration": 7,
    "start_time": "2024-07-28T19:44:43.628Z"
   },
   {
    "duration": 5,
    "start_time": "2024-07-28T19:44:43.637Z"
   },
   {
    "duration": 4,
    "start_time": "2024-07-28T19:44:43.644Z"
   },
   {
    "duration": 5,
    "start_time": "2024-07-28T19:44:43.650Z"
   },
   {
    "duration": 5,
    "start_time": "2024-07-28T19:44:43.657Z"
   },
   {
    "duration": 17,
    "start_time": "2024-07-28T19:44:43.683Z"
   },
   {
    "duration": 7,
    "start_time": "2024-07-28T19:44:43.701Z"
   },
   {
    "duration": 13,
    "start_time": "2024-07-28T19:44:43.711Z"
   },
   {
    "duration": 6,
    "start_time": "2024-07-28T19:44:43.726Z"
   },
   {
    "duration": 398,
    "start_time": "2024-07-28T19:45:09.001Z"
   },
   {
    "duration": 60,
    "start_time": "2024-07-28T19:45:09.400Z"
   },
   {
    "duration": 14,
    "start_time": "2024-07-28T19:45:09.462Z"
   },
   {
    "duration": 25,
    "start_time": "2024-07-28T19:45:09.477Z"
   },
   {
    "duration": 4,
    "start_time": "2024-07-28T19:45:09.504Z"
   },
   {
    "duration": 20,
    "start_time": "2024-07-28T19:45:09.509Z"
   },
   {
    "duration": 19,
    "start_time": "2024-07-28T19:45:09.531Z"
   },
   {
    "duration": 5,
    "start_time": "2024-07-28T19:45:09.551Z"
   },
   {
    "duration": 4,
    "start_time": "2024-07-28T19:45:09.557Z"
   },
   {
    "duration": 5,
    "start_time": "2024-07-28T19:45:09.563Z"
   },
   {
    "duration": 15,
    "start_time": "2024-07-28T19:45:09.569Z"
   },
   {
    "duration": 17,
    "start_time": "2024-07-28T19:45:09.586Z"
   },
   {
    "duration": 12,
    "start_time": "2024-07-28T19:45:09.604Z"
   },
   {
    "duration": 16,
    "start_time": "2024-07-28T19:45:09.618Z"
   },
   {
    "duration": 7,
    "start_time": "2024-07-28T19:45:09.636Z"
   },
   {
    "duration": 264,
    "start_time": "2024-07-28T19:45:32.697Z"
   },
   {
    "duration": 6,
    "start_time": "2024-07-28T19:48:44.547Z"
   },
   {
    "duration": 7,
    "start_time": "2024-07-28T19:48:57.496Z"
   },
   {
    "duration": 3,
    "start_time": "2024-07-28T19:49:10.549Z"
   },
   {
    "duration": 4,
    "start_time": "2024-07-28T19:49:12.231Z"
   },
   {
    "duration": 6,
    "start_time": "2024-07-28T19:49:25.465Z"
   },
   {
    "duration": 5,
    "start_time": "2024-07-28T19:49:28.349Z"
   },
   {
    "duration": 5,
    "start_time": "2024-07-28T19:49:42.475Z"
   },
   {
    "duration": 402,
    "start_time": "2024-07-28T19:49:47.100Z"
   },
   {
    "duration": 58,
    "start_time": "2024-07-28T19:49:47.505Z"
   },
   {
    "duration": 15,
    "start_time": "2024-07-28T19:49:47.564Z"
   },
   {
    "duration": 25,
    "start_time": "2024-07-28T19:49:47.580Z"
   },
   {
    "duration": 851,
    "start_time": "2024-07-28T19:49:47.606Z"
   },
   {
    "duration": 0,
    "start_time": "2024-07-28T19:49:48.460Z"
   },
   {
    "duration": 0,
    "start_time": "2024-07-28T19:49:48.460Z"
   },
   {
    "duration": 0,
    "start_time": "2024-07-28T19:49:48.461Z"
   },
   {
    "duration": 0,
    "start_time": "2024-07-28T19:49:48.462Z"
   },
   {
    "duration": 0,
    "start_time": "2024-07-28T19:49:48.463Z"
   },
   {
    "duration": 0,
    "start_time": "2024-07-28T19:49:48.464Z"
   },
   {
    "duration": 0,
    "start_time": "2024-07-28T19:49:48.465Z"
   },
   {
    "duration": 0,
    "start_time": "2024-07-28T19:49:48.466Z"
   },
   {
    "duration": 0,
    "start_time": "2024-07-28T19:49:48.467Z"
   },
   {
    "duration": 0,
    "start_time": "2024-07-28T19:49:48.468Z"
   },
   {
    "duration": 0,
    "start_time": "2024-07-28T19:49:48.469Z"
   },
   {
    "duration": 676,
    "start_time": "2024-07-28T19:49:58.855Z"
   },
   {
    "duration": 5,
    "start_time": "2024-07-28T19:50:05.880Z"
   },
   {
    "duration": 3,
    "start_time": "2024-07-28T19:50:20.457Z"
   },
   {
    "duration": 96,
    "start_time": "2024-07-28T19:50:20.462Z"
   },
   {
    "duration": 14,
    "start_time": "2024-07-28T19:50:20.559Z"
   },
   {
    "duration": 20,
    "start_time": "2024-07-28T19:50:20.574Z"
   },
   {
    "duration": 9,
    "start_time": "2024-07-28T19:50:20.597Z"
   },
   {
    "duration": 9,
    "start_time": "2024-07-28T19:50:20.607Z"
   },
   {
    "duration": 24,
    "start_time": "2024-07-28T19:50:20.617Z"
   },
   {
    "duration": 27,
    "start_time": "2024-07-28T19:50:20.642Z"
   },
   {
    "duration": 5,
    "start_time": "2024-07-28T19:50:20.670Z"
   },
   {
    "duration": 7,
    "start_time": "2024-07-28T19:50:20.676Z"
   },
   {
    "duration": 8,
    "start_time": "2024-07-28T19:50:20.684Z"
   },
   {
    "duration": 10,
    "start_time": "2024-07-28T19:50:20.693Z"
   },
   {
    "duration": 33,
    "start_time": "2024-07-28T19:50:20.704Z"
   },
   {
    "duration": 8,
    "start_time": "2024-07-28T19:50:20.739Z"
   },
   {
    "duration": 16,
    "start_time": "2024-07-28T19:50:20.748Z"
   },
   {
    "duration": 6,
    "start_time": "2024-07-28T19:50:20.765Z"
   },
   {
    "duration": 1318,
    "start_time": "2024-07-28T19:50:36.059Z"
   },
   {
    "duration": 6,
    "start_time": "2024-07-28T19:50:45.433Z"
   },
   {
    "duration": 420,
    "start_time": "2024-07-29T06:49:06.368Z"
   },
   {
    "duration": 177,
    "start_time": "2024-07-29T06:49:06.969Z"
   },
   {
    "duration": 15,
    "start_time": "2024-07-29T06:49:07.387Z"
   },
   {
    "duration": 41,
    "start_time": "2024-07-29T06:49:07.706Z"
   },
   {
    "duration": 5,
    "start_time": "2024-07-29T06:49:10.022Z"
   },
   {
    "duration": 5,
    "start_time": "2024-07-29T06:49:10.819Z"
   },
   {
    "duration": 13,
    "start_time": "2024-07-29T06:50:22.022Z"
   },
   {
    "duration": 1111,
    "start_time": "2024-07-29T06:50:41.719Z"
   },
   {
    "duration": 7,
    "start_time": "2024-07-29T06:50:54.046Z"
   },
   {
    "duration": 15,
    "start_time": "2024-07-29T06:50:54.287Z"
   },
   {
    "duration": 5,
    "start_time": "2024-07-29T06:50:54.483Z"
   },
   {
    "duration": 4,
    "start_time": "2024-07-29T06:50:54.710Z"
   },
   {
    "duration": 4,
    "start_time": "2024-07-29T06:50:54.932Z"
   },
   {
    "duration": 5,
    "start_time": "2024-07-29T06:50:55.140Z"
   },
   {
    "duration": 7,
    "start_time": "2024-07-29T06:50:55.582Z"
   },
   {
    "duration": 15,
    "start_time": "2024-07-29T06:50:55.813Z"
   },
   {
    "duration": 13,
    "start_time": "2024-07-29T06:50:57.263Z"
   },
   {
    "duration": 10,
    "start_time": "2024-07-29T06:51:01.582Z"
   },
   {
    "duration": 10,
    "start_time": "2024-07-29T06:51:08.933Z"
   },
   {
    "duration": 16,
    "start_time": "2024-07-29T06:51:26.730Z"
   },
   {
    "duration": 7,
    "start_time": "2024-07-29T06:52:58.335Z"
   },
   {
    "duration": 6,
    "start_time": "2024-07-29T06:53:50.588Z"
   },
   {
    "duration": 7,
    "start_time": "2024-07-29T06:53:57.159Z"
   },
   {
    "duration": 18,
    "start_time": "2024-07-29T06:57:15.642Z"
   },
   {
    "duration": 4,
    "start_time": "2024-07-29T06:57:52.040Z"
   },
   {
    "duration": 10,
    "start_time": "2024-07-29T06:59:01.913Z"
   },
   {
    "duration": 17,
    "start_time": "2024-07-29T06:59:13.876Z"
   },
   {
    "duration": 15,
    "start_time": "2024-07-29T07:01:21.583Z"
   },
   {
    "duration": 36,
    "start_time": "2024-07-29T07:02:00.050Z"
   },
   {
    "duration": 586,
    "start_time": "2024-07-29T07:02:29.898Z"
   },
   {
    "duration": 29,
    "start_time": "2024-07-29T07:02:47.346Z"
   },
   {
    "duration": 691,
    "start_time": "2024-07-29T07:04:31.445Z"
   },
   {
    "duration": 59,
    "start_time": "2024-07-29T07:04:32.138Z"
   },
   {
    "duration": 16,
    "start_time": "2024-07-29T07:04:32.199Z"
   },
   {
    "duration": 58,
    "start_time": "2024-07-29T07:04:32.216Z"
   },
   {
    "duration": 16,
    "start_time": "2024-07-29T07:04:32.276Z"
   },
   {
    "duration": 15,
    "start_time": "2024-07-29T07:04:32.294Z"
   },
   {
    "duration": 13,
    "start_time": "2024-07-29T07:04:32.311Z"
   },
   {
    "duration": 36,
    "start_time": "2024-07-29T07:04:32.325Z"
   },
   {
    "duration": 19,
    "start_time": "2024-07-29T07:04:32.362Z"
   },
   {
    "duration": 7,
    "start_time": "2024-07-29T07:04:32.383Z"
   },
   {
    "duration": 101,
    "start_time": "2024-07-29T07:04:32.391Z"
   },
   {
    "duration": 677,
    "start_time": "2024-07-29T07:05:45.433Z"
   },
   {
    "duration": 57,
    "start_time": "2024-07-29T07:05:46.112Z"
   },
   {
    "duration": 16,
    "start_time": "2024-07-29T07:05:46.170Z"
   },
   {
    "duration": 24,
    "start_time": "2024-07-29T07:05:46.188Z"
   },
   {
    "duration": 17,
    "start_time": "2024-07-29T07:05:46.214Z"
   },
   {
    "duration": 7,
    "start_time": "2024-07-29T07:05:46.255Z"
   },
   {
    "duration": 15,
    "start_time": "2024-07-29T07:05:46.264Z"
   },
   {
    "duration": 14,
    "start_time": "2024-07-29T07:05:46.282Z"
   },
   {
    "duration": 18,
    "start_time": "2024-07-29T07:05:46.298Z"
   },
   {
    "duration": 40,
    "start_time": "2024-07-29T07:05:46.317Z"
   },
   {
    "duration": 23,
    "start_time": "2024-07-29T07:05:46.358Z"
   },
   {
    "duration": 11,
    "start_time": "2024-07-29T07:06:14.039Z"
   },
   {
    "duration": 76,
    "start_time": "2024-07-29T07:06:25.555Z"
   },
   {
    "duration": 11,
    "start_time": "2024-07-29T07:06:29.090Z"
   },
   {
    "duration": 14,
    "start_time": "2024-07-29T07:06:37.145Z"
   },
   {
    "duration": 16,
    "start_time": "2024-07-29T07:10:19.308Z"
   },
   {
    "duration": 8,
    "start_time": "2024-07-29T07:10:55.214Z"
   },
   {
    "duration": 5,
    "start_time": "2024-07-29T07:10:59.060Z"
   },
   {
    "duration": 8,
    "start_time": "2024-07-29T07:11:01.923Z"
   },
   {
    "duration": 18,
    "start_time": "2024-07-29T07:12:18.232Z"
   },
   {
    "duration": 16,
    "start_time": "2024-07-29T07:12:28.792Z"
   },
   {
    "duration": 21,
    "start_time": "2024-07-29T07:12:45.327Z"
   },
   {
    "duration": 7,
    "start_time": "2024-07-29T07:14:45.537Z"
   },
   {
    "duration": 157,
    "start_time": "2024-07-29T07:16:58.063Z"
   },
   {
    "duration": 165,
    "start_time": "2024-07-29T07:17:42.318Z"
   },
   {
    "duration": 153,
    "start_time": "2024-07-29T07:18:04.160Z"
   },
   {
    "duration": 124,
    "start_time": "2024-07-29T07:18:15.125Z"
   },
   {
    "duration": 208,
    "start_time": "2024-07-29T07:18:20.987Z"
   },
   {
    "duration": 122,
    "start_time": "2024-07-29T07:18:23.622Z"
   },
   {
    "duration": 167,
    "start_time": "2024-07-29T07:18:30.417Z"
   },
   {
    "duration": 151,
    "start_time": "2024-07-29T07:18:36.888Z"
   },
   {
    "duration": 66,
    "start_time": "2024-07-29T07:19:32.729Z"
   },
   {
    "duration": 163,
    "start_time": "2024-07-29T07:19:40.849Z"
   },
   {
    "duration": 152,
    "start_time": "2024-07-29T07:19:51.629Z"
   },
   {
    "duration": 146,
    "start_time": "2024-07-29T07:21:07.372Z"
   },
   {
    "duration": 154,
    "start_time": "2024-07-29T07:21:11.639Z"
   },
   {
    "duration": 150,
    "start_time": "2024-07-29T07:21:13.879Z"
   },
   {
    "duration": 161,
    "start_time": "2024-07-29T07:21:31.835Z"
   },
   {
    "duration": 10,
    "start_time": "2024-07-29T07:37:21.900Z"
   },
   {
    "duration": 15,
    "start_time": "2024-07-29T07:37:26.071Z"
   },
   {
    "duration": 21,
    "start_time": "2024-07-29T07:39:10.684Z"
   },
   {
    "duration": 4251,
    "start_time": "2024-07-29T07:40:10.356Z"
   },
   {
    "duration": 17,
    "start_time": "2024-07-29T07:44:31.390Z"
   },
   {
    "duration": 1127,
    "start_time": "2024-07-29T07:44:49.646Z"
   },
   {
    "duration": 18,
    "start_time": "2024-07-29T07:44:59.360Z"
   },
   {
    "duration": 21,
    "start_time": "2024-07-29T07:45:04.879Z"
   },
   {
    "duration": 27,
    "start_time": "2024-07-29T07:45:45.407Z"
   },
   {
    "duration": 35,
    "start_time": "2024-07-29T07:45:57.652Z"
   },
   {
    "duration": 23,
    "start_time": "2024-07-29T07:46:06.500Z"
   },
   {
    "duration": 20,
    "start_time": "2024-07-29T07:47:17.521Z"
   },
   {
    "duration": 147,
    "start_time": "2024-07-29T07:48:48.239Z"
   },
   {
    "duration": 1048,
    "start_time": "2024-07-29T07:49:03.327Z"
   },
   {
    "duration": 150,
    "start_time": "2024-07-29T07:49:10.717Z"
   },
   {
    "duration": 13,
    "start_time": "2024-07-29T07:49:26.851Z"
   },
   {
    "duration": 25,
    "start_time": "2024-07-29T07:49:59.194Z"
   },
   {
    "duration": 15,
    "start_time": "2024-07-29T07:50:53.286Z"
   },
   {
    "duration": 15,
    "start_time": "2024-07-29T07:51:24.513Z"
   },
   {
    "duration": 16,
    "start_time": "2024-07-29T07:51:34.287Z"
   },
   {
    "duration": 15,
    "start_time": "2024-07-29T07:51:41.770Z"
   },
   {
    "duration": 16,
    "start_time": "2024-07-29T07:51:45.362Z"
   },
   {
    "duration": 28944,
    "start_time": "2024-07-29T07:57:54.841Z"
   },
   {
    "duration": 376,
    "start_time": "2024-07-29T07:58:41.167Z"
   },
   {
    "duration": 177,
    "start_time": "2024-07-29T07:59:05.207Z"
   },
   {
    "duration": 170,
    "start_time": "2024-07-29T07:59:09.192Z"
   },
   {
    "duration": 165,
    "start_time": "2024-07-29T07:59:29.954Z"
   },
   {
    "duration": 155,
    "start_time": "2024-07-29T07:59:54.820Z"
   },
   {
    "duration": 13,
    "start_time": "2024-07-29T08:00:08.016Z"
   },
   {
    "duration": 67541,
    "start_time": "2024-07-29T08:00:11.955Z"
   },
   {
    "duration": 26,
    "start_time": "2024-07-29T08:01:42.500Z"
   },
   {
    "duration": 161,
    "start_time": "2024-07-29T08:02:36.607Z"
   },
   {
    "duration": 163,
    "start_time": "2024-07-29T08:04:24.589Z"
   },
   {
    "duration": 211,
    "start_time": "2024-07-29T08:04:46.763Z"
   },
   {
    "duration": 204,
    "start_time": "2024-07-29T08:05:29.463Z"
   },
   {
    "duration": 214,
    "start_time": "2024-07-29T08:05:45.918Z"
   },
   {
    "duration": 150,
    "start_time": "2024-07-29T08:06:16.001Z"
   },
   {
    "duration": 199,
    "start_time": "2024-07-29T08:08:14.987Z"
   },
   {
    "duration": 47,
    "start_time": "2024-07-29T18:32:40.737Z"
   },
   {
    "duration": 768,
    "start_time": "2024-07-29T18:32:47.674Z"
   },
   {
    "duration": 169,
    "start_time": "2024-07-29T18:32:48.444Z"
   },
   {
    "duration": 16,
    "start_time": "2024-07-29T18:32:48.615Z"
   },
   {
    "duration": 24,
    "start_time": "2024-07-29T18:32:48.632Z"
   },
   {
    "duration": 16,
    "start_time": "2024-07-29T18:32:48.658Z"
   },
   {
    "duration": 7,
    "start_time": "2024-07-29T18:32:48.676Z"
   },
   {
    "duration": 14,
    "start_time": "2024-07-29T18:32:48.685Z"
   },
   {
    "duration": 22,
    "start_time": "2024-07-29T18:32:48.700Z"
   },
   {
    "duration": 15,
    "start_time": "2024-07-29T18:32:48.723Z"
   },
   {
    "duration": 21,
    "start_time": "2024-07-29T18:32:48.740Z"
   },
   {
    "duration": 6,
    "start_time": "2024-07-29T18:32:48.763Z"
   },
   {
    "duration": 15,
    "start_time": "2024-07-29T18:32:48.770Z"
   },
   {
    "duration": 16,
    "start_time": "2024-07-29T18:32:48.786Z"
   },
   {
    "duration": 176,
    "start_time": "2024-07-29T18:32:48.804Z"
   },
   {
    "duration": 23,
    "start_time": "2024-07-29T18:32:48.982Z"
   },
   {
    "duration": 15,
    "start_time": "2024-07-29T18:32:49.007Z"
   },
   {
    "duration": 198,
    "start_time": "2024-07-29T18:32:49.024Z"
   },
   {
    "duration": 193,
    "start_time": "2024-07-29T18:32:49.224Z"
   },
   {
    "duration": 189,
    "start_time": "2024-07-29T18:32:49.419Z"
   },
   {
    "duration": 281,
    "start_time": "2024-07-29T18:32:49.610Z"
   },
   {
    "duration": 136,
    "start_time": "2024-07-29T18:49:16.679Z"
   },
   {
    "duration": 136,
    "start_time": "2024-07-29T18:49:31.559Z"
   },
   {
    "duration": 240,
    "start_time": "2024-07-29T18:49:53.715Z"
   },
   {
    "duration": 256,
    "start_time": "2024-07-29T18:49:57.429Z"
   },
   {
    "duration": 255,
    "start_time": "2024-07-29T18:50:14.485Z"
   },
   {
    "duration": 180,
    "start_time": "2024-07-29T18:50:35.024Z"
   },
   {
    "duration": 405,
    "start_time": "2024-07-29T18:50:50.035Z"
   },
   {
    "duration": 371,
    "start_time": "2024-07-29T18:50:56.630Z"
   },
   {
    "duration": 308,
    "start_time": "2024-07-29T18:51:04.295Z"
   },
   {
    "duration": 297,
    "start_time": "2024-07-29T18:51:10.885Z"
   },
   {
    "duration": 263,
    "start_time": "2024-07-29T18:51:16.564Z"
   },
   {
    "duration": 313,
    "start_time": "2024-07-29T18:51:43.838Z"
   },
   {
    "duration": 16,
    "start_time": "2024-07-29T18:51:57.207Z"
   },
   {
    "duration": 272,
    "start_time": "2024-07-29T18:52:05.353Z"
   },
   {
    "duration": 323,
    "start_time": "2024-07-29T18:52:10.824Z"
   },
   {
    "duration": 282,
    "start_time": "2024-07-29T18:53:10.373Z"
   },
   {
    "duration": 160,
    "start_time": "2024-07-29T18:54:57.004Z"
   },
   {
    "duration": 7,
    "start_time": "2024-07-29T18:57:49.155Z"
   },
   {
    "duration": 580,
    "start_time": "2024-07-29T18:57:54.210Z"
   },
   {
    "duration": 53,
    "start_time": "2024-07-29T18:57:54.791Z"
   },
   {
    "duration": 14,
    "start_time": "2024-07-29T18:57:54.845Z"
   },
   {
    "duration": 26,
    "start_time": "2024-07-29T18:57:54.860Z"
   },
   {
    "duration": 14,
    "start_time": "2024-07-29T18:57:54.889Z"
   },
   {
    "duration": 15,
    "start_time": "2024-07-29T18:57:54.905Z"
   },
   {
    "duration": 15,
    "start_time": "2024-07-29T18:57:54.921Z"
   },
   {
    "duration": 24,
    "start_time": "2024-07-29T18:57:54.938Z"
   },
   {
    "duration": 15,
    "start_time": "2024-07-29T18:57:54.963Z"
   },
   {
    "duration": 6,
    "start_time": "2024-07-29T18:57:54.979Z"
   },
   {
    "duration": 6,
    "start_time": "2024-07-29T18:57:54.987Z"
   },
   {
    "duration": 16,
    "start_time": "2024-07-29T18:57:54.995Z"
   },
   {
    "duration": 16,
    "start_time": "2024-07-29T18:57:55.012Z"
   },
   {
    "duration": 143,
    "start_time": "2024-07-29T18:57:55.062Z"
   },
   {
    "duration": 21,
    "start_time": "2024-07-29T18:57:55.207Z"
   },
   {
    "duration": 14,
    "start_time": "2024-07-29T18:57:55.229Z"
   },
   {
    "duration": 272,
    "start_time": "2024-07-29T18:57:55.260Z"
   },
   {
    "duration": 193,
    "start_time": "2024-07-29T18:57:55.533Z"
   },
   {
    "duration": 253,
    "start_time": "2024-07-29T18:57:55.727Z"
   },
   {
    "duration": 181,
    "start_time": "2024-07-29T18:57:55.981Z"
   },
   {
    "duration": 198,
    "start_time": "2024-07-29T18:57:56.164Z"
   },
   {
    "duration": 174,
    "start_time": "2024-07-29T18:57:56.363Z"
   },
   {
    "duration": 11,
    "start_time": "2024-07-29T18:59:06.844Z"
   },
   {
    "duration": 6,
    "start_time": "2024-07-29T18:59:08.962Z"
   },
   {
    "duration": 8,
    "start_time": "2024-07-29T18:59:09.430Z"
   },
   {
    "duration": 16,
    "start_time": "2024-07-29T19:02:20.265Z"
   },
   {
    "duration": 21,
    "start_time": "2024-07-29T19:02:45.518Z"
   },
   {
    "duration": 24,
    "start_time": "2024-07-29T19:03:04.849Z"
   },
   {
    "duration": 25,
    "start_time": "2024-07-29T19:04:56.406Z"
   },
   {
    "duration": 31,
    "start_time": "2024-07-29T19:05:06.189Z"
   },
   {
    "duration": 99,
    "start_time": "2024-07-29T19:05:45.614Z"
   },
   {
    "duration": 35,
    "start_time": "2024-07-29T19:06:14.566Z"
   },
   {
    "duration": 34,
    "start_time": "2024-07-29T19:06:26.111Z"
   },
   {
    "duration": 33,
    "start_time": "2024-07-29T19:07:08.910Z"
   },
   {
    "duration": 44,
    "start_time": "2024-07-29T19:07:48.798Z"
   },
   {
    "duration": 69,
    "start_time": "2024-07-29T19:08:01.920Z"
   },
   {
    "duration": 31,
    "start_time": "2024-07-29T19:08:12.953Z"
   },
   {
    "duration": 6,
    "start_time": "2024-07-29T19:12:57.221Z"
   },
   {
    "duration": 137,
    "start_time": "2024-07-29T19:16:01.344Z"
   },
   {
    "duration": 105,
    "start_time": "2024-07-29T19:21:48.707Z"
   },
   {
    "duration": 8,
    "start_time": "2024-07-29T19:25:04.685Z"
   },
   {
    "duration": 108,
    "start_time": "2024-07-29T19:25:08.954Z"
   },
   {
    "duration": 16,
    "start_time": "2024-07-29T19:26:08.201Z"
   },
   {
    "duration": 16,
    "start_time": "2024-07-29T19:26:17.357Z"
   },
   {
    "duration": 16,
    "start_time": "2024-07-29T19:28:13.142Z"
   },
   {
    "duration": 141,
    "start_time": "2024-07-29T19:28:32.680Z"
   },
   {
    "duration": 115,
    "start_time": "2024-07-29T19:29:04.236Z"
   },
   {
    "duration": 120,
    "start_time": "2024-07-29T19:30:03.795Z"
   },
   {
    "duration": 6,
    "start_time": "2024-07-29T19:30:32.559Z"
   },
   {
    "duration": 116,
    "start_time": "2024-07-29T19:31:21.315Z"
   },
   {
    "duration": 998,
    "start_time": "2024-07-29T19:32:20.946Z"
   },
   {
    "duration": 13,
    "start_time": "2024-07-29T19:32:54.865Z"
   },
   {
    "duration": 16,
    "start_time": "2024-07-29T19:33:27.040Z"
   },
   {
    "duration": 218,
    "start_time": "2024-07-29T19:35:16.366Z"
   },
   {
    "duration": 15,
    "start_time": "2024-07-29T19:36:26.599Z"
   },
   {
    "duration": 4,
    "start_time": "2024-07-29T19:36:36.178Z"
   },
   {
    "duration": 6,
    "start_time": "2024-07-29T19:39:34.662Z"
   },
   {
    "duration": 21,
    "start_time": "2024-07-29T19:40:17.725Z"
   },
   {
    "duration": 20,
    "start_time": "2024-07-29T19:41:34.713Z"
   },
   {
    "duration": 10,
    "start_time": "2024-07-29T19:41:44.203Z"
   },
   {
    "duration": 520,
    "start_time": "2024-07-29T19:41:57.034Z"
   },
   {
    "duration": 21,
    "start_time": "2024-07-29T19:42:17.282Z"
   },
   {
    "duration": 542,
    "start_time": "2024-07-29T19:42:27.692Z"
   },
   {
    "duration": 612,
    "start_time": "2024-07-29T19:42:32.461Z"
   },
   {
    "duration": 12,
    "start_time": "2024-07-29T19:43:26.041Z"
   },
   {
    "duration": 364,
    "start_time": "2024-07-29T19:43:30.379Z"
   },
   {
    "duration": 310,
    "start_time": "2024-07-29T19:43:35.853Z"
   },
   {
    "duration": 314,
    "start_time": "2024-07-29T19:43:40.552Z"
   },
   {
    "duration": 351,
    "start_time": "2024-07-29T19:44:00.392Z"
   },
   {
    "duration": 403,
    "start_time": "2024-07-29T19:44:08.986Z"
   },
   {
    "duration": 15,
    "start_time": "2024-07-29T19:47:11.149Z"
   },
   {
    "duration": 14,
    "start_time": "2024-07-29T19:47:25.781Z"
   },
   {
    "duration": 14,
    "start_time": "2024-07-29T19:47:33.256Z"
   },
   {
    "duration": 54,
    "start_time": "2024-07-29T19:47:58.249Z"
   },
   {
    "duration": 61,
    "start_time": "2024-07-29T19:48:10.942Z"
   },
   {
    "duration": 62,
    "start_time": "2024-07-29T19:48:14.019Z"
   },
   {
    "duration": 14,
    "start_time": "2024-07-29T19:48:37.067Z"
   },
   {
    "duration": 16,
    "start_time": "2024-07-29T19:48:46.371Z"
   },
   {
    "duration": 15,
    "start_time": "2024-07-29T19:48:50.324Z"
   },
   {
    "duration": 15,
    "start_time": "2024-07-29T19:48:57.844Z"
   },
   {
    "duration": 15,
    "start_time": "2024-07-29T19:49:04.250Z"
   },
   {
    "duration": 10,
    "start_time": "2024-07-29T19:50:11.469Z"
   },
   {
    "duration": 11,
    "start_time": "2024-07-29T19:53:30.814Z"
   },
   {
    "duration": 19,
    "start_time": "2024-07-29T19:53:37.931Z"
   },
   {
    "duration": 608,
    "start_time": "2024-07-29T19:54:09.058Z"
   },
   {
    "duration": 732,
    "start_time": "2024-07-29T19:54:24.241Z"
   },
   {
    "duration": 17,
    "start_time": "2024-07-29T19:54:26.910Z"
   },
   {
    "duration": 579,
    "start_time": "2024-07-29T19:54:47.920Z"
   },
   {
    "duration": 629,
    "start_time": "2024-07-29T19:54:54.134Z"
   },
   {
    "duration": 11,
    "start_time": "2024-07-29T19:55:26.295Z"
   },
   {
    "duration": 22,
    "start_time": "2024-07-29T19:55:28.902Z"
   },
   {
    "duration": 589,
    "start_time": "2024-07-29T19:55:47.068Z"
   },
   {
    "duration": 20,
    "start_time": "2024-07-29T19:57:09.458Z"
   },
   {
    "duration": 661,
    "start_time": "2024-07-29T19:58:20.862Z"
   },
   {
    "duration": 14,
    "start_time": "2024-07-29T20:01:57.176Z"
   },
   {
    "duration": 16,
    "start_time": "2024-07-29T20:03:03.120Z"
   },
   {
    "duration": 14,
    "start_time": "2024-07-29T20:03:15.797Z"
   },
   {
    "duration": 14,
    "start_time": "2024-07-29T20:03:17.705Z"
   },
   {
    "duration": 676,
    "start_time": "2024-07-30T08:57:45.127Z"
   },
   {
    "duration": 71,
    "start_time": "2024-07-30T08:57:45.805Z"
   },
   {
    "duration": 25,
    "start_time": "2024-07-30T08:57:45.879Z"
   },
   {
    "duration": 30,
    "start_time": "2024-07-30T08:57:45.906Z"
   },
   {
    "duration": 42,
    "start_time": "2024-07-30T08:57:45.939Z"
   },
   {
    "duration": 32,
    "start_time": "2024-07-30T08:57:45.984Z"
   },
   {
    "duration": 36,
    "start_time": "2024-07-30T08:57:46.018Z"
   },
   {
    "duration": 18,
    "start_time": "2024-07-30T08:57:46.056Z"
   },
   {
    "duration": 22,
    "start_time": "2024-07-30T08:57:46.077Z"
   },
   {
    "duration": 29,
    "start_time": "2024-07-30T08:57:46.101Z"
   },
   {
    "duration": 18,
    "start_time": "2024-07-30T08:57:46.132Z"
   },
   {
    "duration": 35,
    "start_time": "2024-07-30T08:57:46.152Z"
   },
   {
    "duration": 20,
    "start_time": "2024-07-30T08:57:46.189Z"
   },
   {
    "duration": 3,
    "start_time": "2024-07-30T09:01:55.104Z"
   },
   {
    "duration": 653,
    "start_time": "2024-07-30T09:02:02.797Z"
   },
   {
    "duration": 66,
    "start_time": "2024-07-30T09:02:03.452Z"
   },
   {
    "duration": 163,
    "start_time": "2024-07-30T09:02:03.520Z"
   },
   {
    "duration": 158,
    "start_time": "2024-07-30T09:02:03.685Z"
   },
   {
    "duration": 33,
    "start_time": "2024-07-30T09:02:03.845Z"
   },
   {
    "duration": 7,
    "start_time": "2024-07-30T09:02:03.879Z"
   },
   {
    "duration": 41,
    "start_time": "2024-07-30T09:02:03.887Z"
   },
   {
    "duration": 76,
    "start_time": "2024-07-30T09:02:03.930Z"
   },
   {
    "duration": 50,
    "start_time": "2024-07-30T09:02:04.007Z"
   },
   {
    "duration": 8,
    "start_time": "2024-07-30T09:02:04.059Z"
   },
   {
    "duration": 74,
    "start_time": "2024-07-30T09:02:04.069Z"
   },
   {
    "duration": 28,
    "start_time": "2024-07-30T09:02:04.144Z"
   },
   {
    "duration": 29,
    "start_time": "2024-07-30T09:02:04.173Z"
   },
   {
    "duration": 36,
    "start_time": "2024-07-30T09:05:51.003Z"
   },
   {
    "duration": 28,
    "start_time": "2024-07-30T09:05:51.041Z"
   },
   {
    "duration": 37,
    "start_time": "2024-07-30T09:05:51.071Z"
   },
   {
    "duration": 364,
    "start_time": "2024-07-30T09:05:51.110Z"
   },
   {
    "duration": 211,
    "start_time": "2024-07-30T09:05:51.476Z"
   },
   {
    "duration": 206,
    "start_time": "2024-07-30T09:05:51.689Z"
   },
   {
    "duration": 200,
    "start_time": "2024-07-30T09:05:51.897Z"
   },
   {
    "duration": 210,
    "start_time": "2024-07-30T09:05:52.098Z"
   },
   {
    "duration": 203,
    "start_time": "2024-07-30T09:05:52.310Z"
   },
   {
    "duration": 168,
    "start_time": "2024-07-30T09:05:52.515Z"
   },
   {
    "duration": 7,
    "start_time": "2024-07-30T09:05:52.685Z"
   },
   {
    "duration": 143,
    "start_time": "2024-07-30T09:05:52.693Z"
   },
   {
    "duration": 142,
    "start_time": "2024-07-30T09:05:52.837Z"
   },
   {
    "duration": 16,
    "start_time": "2024-07-30T09:05:52.983Z"
   },
   {
    "duration": 145,
    "start_time": "2024-07-30T09:05:53.000Z"
   },
   {
    "duration": 8,
    "start_time": "2024-07-30T09:05:53.155Z"
   },
   {
    "duration": 19,
    "start_time": "2024-07-30T09:05:53.164Z"
   },
   {
    "duration": 396,
    "start_time": "2024-07-30T09:05:53.185Z"
   },
   {
    "duration": 22,
    "start_time": "2024-07-30T09:05:53.582Z"
   },
   {
    "duration": 716,
    "start_time": "2024-07-30T09:05:53.605Z"
   },
   {
    "duration": 16,
    "start_time": "2024-07-30T09:05:54.323Z"
   },
   {
    "duration": 638,
    "start_time": "2024-07-30T09:05:54.341Z"
   },
   {
    "duration": 16,
    "start_time": "2024-07-30T09:05:54.981Z"
   },
   {
    "duration": 719,
    "start_time": "2024-07-30T09:05:54.999Z"
   },
   {
    "duration": 15,
    "start_time": "2024-07-30T09:05:55.720Z"
   },
   {
    "duration": 41,
    "start_time": "2024-07-30T09:05:55.737Z"
   },
   {
    "duration": 19,
    "start_time": "2024-07-30T09:05:55.779Z"
   },
   {
    "duration": 690,
    "start_time": "2024-07-30T09:10:50.378Z"
   },
   {
    "duration": 58,
    "start_time": "2024-07-30T09:10:51.070Z"
   },
   {
    "duration": 16,
    "start_time": "2024-07-30T09:10:51.130Z"
   },
   {
    "duration": 55,
    "start_time": "2024-07-30T09:10:51.148Z"
   },
   {
    "duration": 22,
    "start_time": "2024-07-30T09:10:51.205Z"
   },
   {
    "duration": 78,
    "start_time": "2024-07-30T09:10:51.228Z"
   },
   {
    "duration": 18,
    "start_time": "2024-07-30T09:10:51.308Z"
   },
   {
    "duration": 14,
    "start_time": "2024-07-30T09:10:51.328Z"
   },
   {
    "duration": 19,
    "start_time": "2024-07-30T09:10:51.344Z"
   },
   {
    "duration": 14,
    "start_time": "2024-07-30T09:10:51.367Z"
   },
   {
    "duration": 15,
    "start_time": "2024-07-30T09:10:51.383Z"
   },
   {
    "duration": 24,
    "start_time": "2024-07-30T09:10:51.400Z"
   },
   {
    "duration": 31,
    "start_time": "2024-07-30T09:10:51.426Z"
   },
   {
    "duration": 39596,
    "start_time": "2024-07-30T09:10:51.459Z"
   },
   {
    "duration": 0,
    "start_time": "2024-07-30T09:11:31.058Z"
   },
   {
    "duration": 0,
    "start_time": "2024-07-30T09:11:31.058Z"
   },
   {
    "duration": 0,
    "start_time": "2024-07-30T09:11:31.059Z"
   },
   {
    "duration": 0,
    "start_time": "2024-07-30T09:11:31.060Z"
   },
   {
    "duration": 0,
    "start_time": "2024-07-30T09:11:31.061Z"
   },
   {
    "duration": 0,
    "start_time": "2024-07-30T09:11:31.062Z"
   },
   {
    "duration": 0,
    "start_time": "2024-07-30T09:11:31.063Z"
   },
   {
    "duration": 0,
    "start_time": "2024-07-30T09:11:31.064Z"
   },
   {
    "duration": 0,
    "start_time": "2024-07-30T09:11:31.064Z"
   },
   {
    "duration": 0,
    "start_time": "2024-07-30T09:11:31.065Z"
   },
   {
    "duration": 0,
    "start_time": "2024-07-30T09:11:31.066Z"
   },
   {
    "duration": 0,
    "start_time": "2024-07-30T09:11:31.066Z"
   },
   {
    "duration": 0,
    "start_time": "2024-07-30T09:11:31.067Z"
   },
   {
    "duration": 0,
    "start_time": "2024-07-30T09:11:31.068Z"
   },
   {
    "duration": 17,
    "start_time": "2024-07-30T09:16:06.743Z"
   },
   {
    "duration": 24,
    "start_time": "2024-07-30T09:16:06.863Z"
   },
   {
    "duration": 330,
    "start_time": "2024-07-30T09:16:52.965Z"
   },
   {
    "duration": 349,
    "start_time": "2024-07-30T09:17:14.617Z"
   },
   {
    "duration": 315,
    "start_time": "2024-07-30T09:17:19.132Z"
   },
   {
    "duration": 370,
    "start_time": "2024-07-30T09:17:22.807Z"
   },
   {
    "duration": 321,
    "start_time": "2024-07-30T09:17:27.778Z"
   },
   {
    "duration": 26,
    "start_time": "2024-07-30T09:19:02.826Z"
   },
   {
    "duration": 222,
    "start_time": "2024-07-30T09:19:02.854Z"
   },
   {
    "duration": 47,
    "start_time": "2024-07-30T09:19:03.078Z"
   },
   {
    "duration": 348,
    "start_time": "2024-07-30T09:19:03.126Z"
   },
   {
    "duration": 219,
    "start_time": "2024-07-30T09:19:03.477Z"
   },
   {
    "duration": 207,
    "start_time": "2024-07-30T09:19:03.697Z"
   },
   {
    "duration": 208,
    "start_time": "2024-07-30T09:19:03.905Z"
   },
   {
    "duration": 204,
    "start_time": "2024-07-30T09:19:04.115Z"
   },
   {
    "duration": 203,
    "start_time": "2024-07-30T09:19:04.321Z"
   },
   {
    "duration": 150,
    "start_time": "2024-07-30T09:19:04.525Z"
   },
   {
    "duration": 7,
    "start_time": "2024-07-30T09:19:04.677Z"
   },
   {
    "duration": 148,
    "start_time": "2024-07-30T09:19:04.686Z"
   },
   {
    "duration": 142,
    "start_time": "2024-07-30T09:19:04.836Z"
   },
   {
    "duration": 16,
    "start_time": "2024-07-30T09:19:04.981Z"
   },
   {
    "duration": 146,
    "start_time": "2024-07-30T09:19:04.999Z"
   },
   {
    "duration": 12,
    "start_time": "2024-07-30T09:19:05.147Z"
   },
   {
    "duration": 26,
    "start_time": "2024-07-30T09:19:05.161Z"
   },
   {
    "duration": 373,
    "start_time": "2024-07-30T09:19:05.189Z"
   },
   {
    "duration": 16,
    "start_time": "2024-07-30T09:19:05.563Z"
   },
   {
    "duration": 681,
    "start_time": "2024-07-30T09:19:05.581Z"
   },
   {
    "duration": 17,
    "start_time": "2024-07-30T09:19:06.264Z"
   },
   {
    "duration": 664,
    "start_time": "2024-07-30T09:19:06.282Z"
   },
   {
    "duration": 16,
    "start_time": "2024-07-30T09:19:06.955Z"
   },
   {
    "duration": 762,
    "start_time": "2024-07-30T09:19:06.973Z"
   },
   {
    "duration": 29,
    "start_time": "2024-07-30T09:19:07.737Z"
   },
   {
    "duration": 16,
    "start_time": "2024-07-30T09:19:07.768Z"
   },
   {
    "duration": 71,
    "start_time": "2024-07-30T09:19:07.785Z"
   },
   {
    "duration": 45,
    "start_time": "2024-07-30T09:23:24.448Z"
   },
   {
    "duration": 182,
    "start_time": "2024-07-30T09:25:41.153Z"
   },
   {
    "duration": 270,
    "start_time": "2024-07-30T09:25:48.050Z"
   },
   {
    "duration": 653,
    "start_time": "2024-07-30T09:26:22.076Z"
   },
   {
    "duration": 210,
    "start_time": "2024-07-30T09:30:01.532Z"
   },
   {
    "duration": 184,
    "start_time": "2024-07-30T09:35:05.841Z"
   },
   {
    "duration": 187,
    "start_time": "2024-07-30T09:37:38.883Z"
   },
   {
    "duration": 19,
    "start_time": "2024-07-30T09:40:02.351Z"
   },
   {
    "duration": 12,
    "start_time": "2024-07-30T09:40:07.056Z"
   },
   {
    "duration": 13,
    "start_time": "2024-07-30T09:41:29.794Z"
   },
   {
    "duration": 11,
    "start_time": "2024-07-30T09:41:41.599Z"
   },
   {
    "duration": 9,
    "start_time": "2024-07-30T09:41:44.507Z"
   },
   {
    "duration": 9,
    "start_time": "2024-07-30T09:42:08.550Z"
   },
   {
    "duration": 24,
    "start_time": "2024-07-30T09:44:38.666Z"
   },
   {
    "duration": 34,
    "start_time": "2024-07-30T09:44:49.047Z"
   },
   {
    "duration": 18,
    "start_time": "2024-07-30T09:49:05.200Z"
   },
   {
    "duration": 16,
    "start_time": "2024-07-30T09:56:59.620Z"
   },
   {
    "duration": 16,
    "start_time": "2024-07-30T09:57:23.594Z"
   },
   {
    "duration": 19,
    "start_time": "2024-07-30T09:57:32.874Z"
   },
   {
    "duration": 18,
    "start_time": "2024-07-30T09:57:45.732Z"
   },
   {
    "duration": 168,
    "start_time": "2024-07-30T10:21:32.645Z"
   },
   {
    "duration": 11,
    "start_time": "2024-07-30T10:24:08.693Z"
   },
   {
    "duration": 16,
    "start_time": "2024-07-30T10:24:27.968Z"
   },
   {
    "duration": 18,
    "start_time": "2024-07-30T10:26:34.102Z"
   },
   {
    "duration": 185,
    "start_time": "2024-07-30T10:26:44.066Z"
   },
   {
    "duration": 197,
    "start_time": "2024-07-30T10:26:49.613Z"
   },
   {
    "duration": 194,
    "start_time": "2024-07-30T10:26:56.465Z"
   },
   {
    "duration": 362,
    "start_time": "2024-07-30T10:27:03.522Z"
   },
   {
    "duration": 191,
    "start_time": "2024-07-30T10:28:26.043Z"
   },
   {
    "duration": 187,
    "start_time": "2024-07-30T10:28:28.620Z"
   },
   {
    "duration": 181,
    "start_time": "2024-07-30T10:29:28.587Z"
   },
   {
    "duration": 40,
    "start_time": "2024-07-30T10:39:20.333Z"
   },
   {
    "duration": 23,
    "start_time": "2024-07-30T10:39:37.656Z"
   },
   {
    "duration": 9,
    "start_time": "2024-07-30T10:39:45.276Z"
   },
   {
    "duration": 190,
    "start_time": "2024-07-30T10:39:51.309Z"
   },
   {
    "duration": 723,
    "start_time": "2024-07-30T10:40:00.770Z"
   },
   {
    "duration": 58,
    "start_time": "2024-07-30T10:40:01.495Z"
   },
   {
    "duration": 29,
    "start_time": "2024-07-30T10:40:01.561Z"
   },
   {
    "duration": 96,
    "start_time": "2024-07-30T10:40:01.592Z"
   },
   {
    "duration": 63,
    "start_time": "2024-07-30T10:40:01.689Z"
   },
   {
    "duration": 110,
    "start_time": "2024-07-30T10:40:01.754Z"
   },
   {
    "duration": 87,
    "start_time": "2024-07-30T10:40:01.868Z"
   },
   {
    "duration": 53,
    "start_time": "2024-07-30T10:40:01.958Z"
   },
   {
    "duration": 34,
    "start_time": "2024-07-30T10:40:02.014Z"
   },
   {
    "duration": 99,
    "start_time": "2024-07-30T10:40:02.049Z"
   },
   {
    "duration": 41,
    "start_time": "2024-07-30T10:40:02.149Z"
   },
   {
    "duration": 125,
    "start_time": "2024-07-30T10:40:02.192Z"
   },
   {
    "duration": 235,
    "start_time": "2024-07-30T10:40:02.319Z"
   },
   {
    "duration": 26,
    "start_time": "2024-07-30T10:40:02.557Z"
   },
   {
    "duration": 19,
    "start_time": "2024-07-30T10:40:02.586Z"
   },
   {
    "duration": 347,
    "start_time": "2024-07-30T10:40:02.608Z"
   },
   {
    "duration": 249,
    "start_time": "2024-07-30T10:40:02.957Z"
   },
   {
    "duration": 299,
    "start_time": "2024-07-30T10:40:03.208Z"
   },
   {
    "duration": 223,
    "start_time": "2024-07-30T10:40:03.509Z"
   },
   {
    "duration": 215,
    "start_time": "2024-07-30T10:40:03.733Z"
   },
   {
    "duration": 207,
    "start_time": "2024-07-30T10:40:03.950Z"
   },
   {
    "duration": 176,
    "start_time": "2024-07-30T10:40:04.159Z"
   },
   {
    "duration": 62,
    "start_time": "2024-07-30T10:40:04.336Z"
   },
   {
    "duration": 7,
    "start_time": "2024-07-30T10:40:04.400Z"
   },
   {
    "duration": 182,
    "start_time": "2024-07-30T10:40:04.409Z"
   },
   {
    "duration": 198,
    "start_time": "2024-07-30T10:40:04.593Z"
   },
   {
    "duration": 157,
    "start_time": "2024-07-30T10:40:04.795Z"
   },
   {
    "duration": 15,
    "start_time": "2024-07-30T10:40:04.953Z"
   },
   {
    "duration": 14,
    "start_time": "2024-07-30T10:40:04.971Z"
   },
   {
    "duration": 171,
    "start_time": "2024-07-30T10:40:04.987Z"
   },
   {
    "duration": 13,
    "start_time": "2024-07-30T10:40:05.161Z"
   },
   {
    "duration": 44,
    "start_time": "2024-07-30T10:40:05.176Z"
   },
   {
    "duration": 385,
    "start_time": "2024-07-30T10:40:05.222Z"
   },
   {
    "duration": 17,
    "start_time": "2024-07-30T10:40:05.609Z"
   },
   {
    "duration": 794,
    "start_time": "2024-07-30T10:40:05.628Z"
   },
   {
    "duration": 33,
    "start_time": "2024-07-30T10:40:06.424Z"
   },
   {
    "duration": 659,
    "start_time": "2024-07-30T10:40:06.459Z"
   },
   {
    "duration": 18,
    "start_time": "2024-07-30T10:40:07.120Z"
   },
   {
    "duration": 823,
    "start_time": "2024-07-30T10:40:07.157Z"
   },
   {
    "duration": 243,
    "start_time": "2024-07-30T10:40:07.982Z"
   },
   {
    "duration": 221,
    "start_time": "2024-07-30T10:40:08.227Z"
   },
   {
    "duration": 237,
    "start_time": "2024-07-30T10:40:08.450Z"
   },
   {
    "duration": 15,
    "start_time": "2024-07-30T10:40:08.689Z"
   },
   {
    "duration": 46,
    "start_time": "2024-07-30T10:40:08.705Z"
   },
   {
    "duration": 20,
    "start_time": "2024-07-30T10:40:08.753Z"
   },
   {
    "duration": 195,
    "start_time": "2024-07-30T10:40:17.586Z"
   },
   {
    "duration": 0,
    "start_time": "2024-07-30T10:41:49.762Z"
   },
   {
    "duration": 17,
    "start_time": "2024-07-30T10:41:52.387Z"
   },
   {
    "duration": 327,
    "start_time": "2024-07-30T10:41:54.421Z"
   },
   {
    "duration": 9,
    "start_time": "2024-07-30T10:45:08.627Z"
   },
   {
    "duration": 16,
    "start_time": "2024-07-30T10:45:13.167Z"
   },
   {
    "duration": 183,
    "start_time": "2024-07-30T10:45:25.005Z"
   },
   {
    "duration": 179,
    "start_time": "2024-07-30T10:45:30.986Z"
   },
   {
    "duration": 38,
    "start_time": "2024-07-30T10:46:17.164Z"
   },
   {
    "duration": 12,
    "start_time": "2024-07-30T10:47:28.806Z"
   },
   {
    "duration": 10,
    "start_time": "2024-07-30T10:48:07.530Z"
   },
   {
    "duration": 11,
    "start_time": "2024-07-30T10:51:02.942Z"
   },
   {
    "duration": 11,
    "start_time": "2024-07-30T10:57:23.797Z"
   },
   {
    "duration": 3,
    "start_time": "2024-07-30T10:57:41.525Z"
   },
   {
    "duration": 9,
    "start_time": "2024-07-30T10:57:46.281Z"
   },
   {
    "duration": 9,
    "start_time": "2024-07-30T10:57:55.085Z"
   },
   {
    "duration": 12,
    "start_time": "2024-07-30T10:57:56.124Z"
   },
   {
    "duration": 507,
    "start_time": "2024-07-30T10:58:16.513Z"
   },
   {
    "duration": 8,
    "start_time": "2024-07-30T10:58:23.108Z"
   },
   {
    "duration": 12,
    "start_time": "2024-07-30T11:32:13.519Z"
   },
   {
    "duration": 46,
    "start_time": "2024-07-30T11:33:07.892Z"
   },
   {
    "duration": 12,
    "start_time": "2024-07-30T11:33:14.255Z"
   },
   {
    "duration": 1280,
    "start_time": "2024-07-30T13:32:29.432Z"
   },
   {
    "duration": 62,
    "start_time": "2024-07-30T13:32:30.714Z"
   },
   {
    "duration": 174,
    "start_time": "2024-07-30T13:32:30.778Z"
   },
   {
    "duration": 178,
    "start_time": "2024-07-30T13:32:30.954Z"
   },
   {
    "duration": 40,
    "start_time": "2024-07-30T13:32:31.135Z"
   },
   {
    "duration": 86,
    "start_time": "2024-07-30T13:32:31.177Z"
   },
   {
    "duration": 73,
    "start_time": "2024-07-30T13:32:31.264Z"
   },
   {
    "duration": 133,
    "start_time": "2024-07-30T13:32:31.339Z"
   },
   {
    "duration": 54,
    "start_time": "2024-07-30T13:32:31.474Z"
   },
   {
    "duration": 31,
    "start_time": "2024-07-30T13:32:31.530Z"
   },
   {
    "duration": 73,
    "start_time": "2024-07-30T13:32:31.563Z"
   },
   {
    "duration": 108,
    "start_time": "2024-07-30T13:32:31.637Z"
   },
   {
    "duration": 273,
    "start_time": "2024-07-30T13:32:31.747Z"
   },
   {
    "duration": 32,
    "start_time": "2024-07-30T13:32:32.024Z"
   },
   {
    "duration": 64,
    "start_time": "2024-07-30T13:32:32.058Z"
   },
   {
    "duration": 343,
    "start_time": "2024-07-30T13:32:32.125Z"
   },
   {
    "duration": 227,
    "start_time": "2024-07-30T13:32:32.470Z"
   },
   {
    "duration": 235,
    "start_time": "2024-07-30T13:32:32.698Z"
   },
   {
    "duration": 220,
    "start_time": "2024-07-30T13:32:32.935Z"
   },
   {
    "duration": 217,
    "start_time": "2024-07-30T13:32:33.157Z"
   },
   {
    "duration": 212,
    "start_time": "2024-07-30T13:32:33.376Z"
   },
   {
    "duration": 188,
    "start_time": "2024-07-30T13:32:33.589Z"
   },
   {
    "duration": 46,
    "start_time": "2024-07-30T13:32:33.779Z"
   },
   {
    "duration": 7,
    "start_time": "2024-07-30T13:32:33.827Z"
   },
   {
    "duration": 236,
    "start_time": "2024-07-30T13:32:33.835Z"
   },
   {
    "duration": 149,
    "start_time": "2024-07-30T13:32:34.073Z"
   },
   {
    "duration": 159,
    "start_time": "2024-07-30T13:32:34.225Z"
   },
   {
    "duration": 11,
    "start_time": "2024-07-30T13:32:34.386Z"
   },
   {
    "duration": 36,
    "start_time": "2024-07-30T13:32:34.399Z"
   },
   {
    "duration": 152,
    "start_time": "2024-07-30T13:32:34.437Z"
   },
   {
    "duration": 8,
    "start_time": "2024-07-30T13:32:34.591Z"
   },
   {
    "duration": 25,
    "start_time": "2024-07-30T13:32:34.600Z"
   },
   {
    "duration": 424,
    "start_time": "2024-07-30T13:32:34.627Z"
   },
   {
    "duration": 20,
    "start_time": "2024-07-30T13:32:35.053Z"
   },
   {
    "duration": 720,
    "start_time": "2024-07-30T13:32:35.075Z"
   },
   {
    "duration": 23,
    "start_time": "2024-07-30T13:32:35.797Z"
   },
   {
    "duration": 749,
    "start_time": "2024-07-30T13:32:35.822Z"
   },
   {
    "duration": 18,
    "start_time": "2024-07-30T13:32:36.573Z"
   },
   {
    "duration": 827,
    "start_time": "2024-07-30T13:32:36.593Z"
   },
   {
    "duration": 352,
    "start_time": "2024-07-30T13:32:37.421Z"
   },
   {
    "duration": 231,
    "start_time": "2024-07-30T13:32:37.779Z"
   },
   {
    "duration": 202,
    "start_time": "2024-07-30T13:32:38.011Z"
   },
   {
    "duration": 16,
    "start_time": "2024-07-30T13:32:38.214Z"
   },
   {
    "duration": 97,
    "start_time": "2024-07-30T13:32:38.231Z"
   },
   {
    "duration": 18,
    "start_time": "2024-07-30T13:32:38.331Z"
   },
   {
    "duration": 8,
    "start_time": "2024-07-30T13:32:38.351Z"
   },
   {
    "duration": 13,
    "start_time": "2024-07-30T13:32:38.361Z"
   },
   {
    "duration": 17,
    "start_time": "2024-07-30T13:32:38.376Z"
   },
   {
    "duration": 21,
    "start_time": "2024-07-30T13:32:38.395Z"
   },
   {
    "duration": 22,
    "start_time": "2024-07-30T13:32:38.418Z"
   },
   {
    "duration": 60,
    "start_time": "2024-07-30T13:33:16.924Z"
   },
   {
    "duration": 21,
    "start_time": "2024-07-30T13:38:58.414Z"
   },
   {
    "duration": 16,
    "start_time": "2024-07-30T13:39:00.698Z"
   },
   {
    "duration": 1187,
    "start_time": "2024-07-30T13:48:35.409Z"
   },
   {
    "duration": 17,
    "start_time": "2024-07-30T13:48:59.984Z"
   },
   {
    "duration": 13,
    "start_time": "2024-07-30T13:49:04.084Z"
   },
   {
    "duration": 3,
    "start_time": "2024-07-30T13:49:11.773Z"
   },
   {
    "duration": 64,
    "start_time": "2024-07-30T13:49:11.778Z"
   },
   {
    "duration": 28,
    "start_time": "2024-07-30T13:49:11.845Z"
   },
   {
    "duration": 15,
    "start_time": "2024-07-30T13:49:11.875Z"
   },
   {
    "duration": 24,
    "start_time": "2024-07-30T13:49:11.892Z"
   },
   {
    "duration": 11,
    "start_time": "2024-07-30T13:49:11.917Z"
   },
   {
    "duration": 22,
    "start_time": "2024-07-30T13:49:15.350Z"
   },
   {
    "duration": 12,
    "start_time": "2024-07-30T13:53:55.335Z"
   },
   {
    "duration": 13,
    "start_time": "2024-07-30T13:54:00.749Z"
   },
   {
    "duration": 17,
    "start_time": "2024-07-30T13:54:47.667Z"
   },
   {
    "duration": 17,
    "start_time": "2024-07-30T13:55:05.054Z"
   },
   {
    "duration": 4,
    "start_time": "2024-07-30T13:55:39.534Z"
   },
   {
    "duration": 74,
    "start_time": "2024-07-30T13:55:39.540Z"
   },
   {
    "duration": 20,
    "start_time": "2024-07-30T13:55:39.616Z"
   },
   {
    "duration": 31,
    "start_time": "2024-07-30T13:55:39.638Z"
   },
   {
    "duration": 18,
    "start_time": "2024-07-30T13:55:39.673Z"
   },
   {
    "duration": 13,
    "start_time": "2024-07-30T13:55:39.693Z"
   },
   {
    "duration": 16,
    "start_time": "2024-07-30T13:55:44.198Z"
   },
   {
    "duration": 12,
    "start_time": "2024-07-30T13:56:06.623Z"
   },
   {
    "duration": 3,
    "start_time": "2024-07-30T13:56:10.964Z"
   },
   {
    "duration": 67,
    "start_time": "2024-07-30T13:56:10.969Z"
   },
   {
    "duration": 35,
    "start_time": "2024-07-30T13:56:11.037Z"
   },
   {
    "duration": 16,
    "start_time": "2024-07-30T13:56:11.074Z"
   },
   {
    "duration": 17,
    "start_time": "2024-07-30T13:56:11.093Z"
   },
   {
    "duration": 73,
    "start_time": "2024-07-30T13:56:11.111Z"
   },
   {
    "duration": 19,
    "start_time": "2024-07-30T13:56:13.173Z"
   },
   {
    "duration": 16,
    "start_time": "2024-07-30T14:02:09.070Z"
   },
   {
    "duration": 18,
    "start_time": "2024-07-30T14:02:38.350Z"
   },
   {
    "duration": 5,
    "start_time": "2024-07-30T14:04:04.546Z"
   },
   {
    "duration": 15,
    "start_time": "2024-07-30T14:04:41.269Z"
   },
   {
    "duration": 18,
    "start_time": "2024-07-30T14:08:43.509Z"
   },
   {
    "duration": 16,
    "start_time": "2024-07-30T14:08:57.187Z"
   },
   {
    "duration": 186,
    "start_time": "2024-07-30T14:17:44.487Z"
   },
   {
    "duration": 208,
    "start_time": "2024-07-30T14:18:16.083Z"
   },
   {
    "duration": 191,
    "start_time": "2024-07-30T14:18:52.255Z"
   },
   {
    "duration": 6,
    "start_time": "2024-07-30T14:21:54.823Z"
   },
   {
    "duration": 215,
    "start_time": "2024-07-30T14:23:07.744Z"
   },
   {
    "duration": 193,
    "start_time": "2024-07-30T14:23:14.919Z"
   },
   {
    "duration": 215,
    "start_time": "2024-07-30T14:24:00.652Z"
   },
   {
    "duration": 6,
    "start_time": "2024-07-30T14:25:48.810Z"
   },
   {
    "duration": 208,
    "start_time": "2024-07-30T14:28:30.711Z"
   },
   {
    "duration": 7,
    "start_time": "2024-07-30T14:36:21.183Z"
   },
   {
    "duration": 40,
    "start_time": "2024-07-30T14:41:33.360Z"
   },
   {
    "duration": 26,
    "start_time": "2024-07-30T14:44:13.113Z"
   },
   {
    "duration": 415,
    "start_time": "2024-07-30T14:48:12.642Z"
   },
   {
    "duration": 475,
    "start_time": "2024-07-30T14:48:43.147Z"
   },
   {
    "duration": 188,
    "start_time": "2024-07-30T14:51:29.067Z"
   },
   {
    "duration": 190,
    "start_time": "2024-07-30T14:57:51.222Z"
   },
   {
    "duration": 304,
    "start_time": "2024-07-30T14:58:11.539Z"
   },
   {
    "duration": 207,
    "start_time": "2024-07-30T14:58:45.431Z"
   },
   {
    "duration": 207,
    "start_time": "2024-07-30T14:59:20.425Z"
   },
   {
    "duration": 40,
    "start_time": "2024-07-30T15:03:29.080Z"
   },
   {
    "duration": 38,
    "start_time": "2024-07-30T15:03:40.190Z"
   },
   {
    "duration": 40,
    "start_time": "2024-07-30T15:03:53.307Z"
   },
   {
    "duration": 31,
    "start_time": "2024-07-30T15:05:24.035Z"
   },
   {
    "duration": 27,
    "start_time": "2024-07-30T15:05:28.651Z"
   },
   {
    "duration": 21,
    "start_time": "2024-07-30T15:07:00.755Z"
   },
   {
    "duration": 197,
    "start_time": "2024-07-30T15:07:07.193Z"
   },
   {
    "duration": 14,
    "start_time": "2024-07-30T15:14:39.502Z"
   },
   {
    "duration": 184,
    "start_time": "2024-07-30T15:14:43.633Z"
   },
   {
    "duration": 9,
    "start_time": "2024-07-30T15:20:19.957Z"
   },
   {
    "duration": 10,
    "start_time": "2024-07-30T15:20:41.025Z"
   },
   {
    "duration": 17,
    "start_time": "2024-07-30T15:24:24.731Z"
   },
   {
    "duration": 123,
    "start_time": "2024-07-30T15:24:33.032Z"
   },
   {
    "duration": 117,
    "start_time": "2024-07-30T15:24:57.241Z"
   },
   {
    "duration": 35,
    "start_time": "2024-07-30T15:25:47.692Z"
   },
   {
    "duration": 16,
    "start_time": "2024-07-30T15:31:23.184Z"
   },
   {
    "duration": 141,
    "start_time": "2024-07-30T15:35:35.549Z"
   },
   {
    "duration": 131,
    "start_time": "2024-07-30T15:36:13.493Z"
   },
   {
    "duration": 267,
    "start_time": "2024-07-30T15:36:30.001Z"
   },
   {
    "duration": 140,
    "start_time": "2024-07-30T15:37:01.874Z"
   },
   {
    "duration": 12,
    "start_time": "2024-07-30T15:37:35.304Z"
   },
   {
    "duration": 1132,
    "start_time": "2024-07-30T15:37:44.442Z"
   },
   {
    "duration": 13,
    "start_time": "2024-07-30T15:37:49.883Z"
   },
   {
    "duration": 1861,
    "start_time": "2024-07-30T15:44:47.695Z"
   },
   {
    "duration": 132,
    "start_time": "2024-07-30T15:44:54.225Z"
   },
   {
    "duration": 26,
    "start_time": "2024-07-30T15:48:07.387Z"
   },
   {
    "duration": 21,
    "start_time": "2024-07-30T15:51:03.390Z"
   },
   {
    "duration": 176,
    "start_time": "2024-07-30T15:56:29.847Z"
   },
   {
    "duration": 142,
    "start_time": "2024-07-30T15:57:49.852Z"
   },
   {
    "duration": 191,
    "start_time": "2024-07-30T15:59:37.705Z"
   },
   {
    "duration": 14,
    "start_time": "2024-07-30T16:02:00.454Z"
   },
   {
    "duration": 19,
    "start_time": "2024-07-30T16:02:04.962Z"
   },
   {
    "duration": 398,
    "start_time": "2024-07-30T16:02:20.553Z"
   },
   {
    "duration": 384,
    "start_time": "2024-07-30T16:03:04.898Z"
   },
   {
    "duration": 385,
    "start_time": "2024-07-30T16:03:12.029Z"
   },
   {
    "duration": 371,
    "start_time": "2024-07-30T16:07:09.155Z"
   },
   {
    "duration": 693,
    "start_time": "2024-07-30T16:09:25.956Z"
   },
   {
    "duration": 699,
    "start_time": "2024-07-30T16:10:11.958Z"
   },
   {
    "duration": 505,
    "start_time": "2024-07-30T16:11:35.928Z"
   },
   {
    "duration": 718,
    "start_time": "2024-07-30T16:13:06.601Z"
   },
   {
    "duration": 701,
    "start_time": "2024-07-30T16:13:16.883Z"
   },
   {
    "duration": 688,
    "start_time": "2024-07-30T16:13:21.474Z"
   },
   {
    "duration": 699,
    "start_time": "2024-07-30T16:13:25.434Z"
   },
   {
    "duration": 666,
    "start_time": "2024-07-30T16:13:29.993Z"
   },
   {
    "duration": 674,
    "start_time": "2024-07-30T16:13:33.519Z"
   },
   {
    "duration": 735,
    "start_time": "2024-07-30T16:13:37.116Z"
   },
   {
    "duration": 841,
    "start_time": "2024-07-30T16:13:46.804Z"
   },
   {
    "duration": 777,
    "start_time": "2024-07-30T16:15:06.459Z"
   },
   {
    "duration": 773,
    "start_time": "2024-07-30T16:15:30.266Z"
   },
   {
    "duration": 679,
    "start_time": "2024-07-30T16:15:35.503Z"
   },
   {
    "duration": 205,
    "start_time": "2024-07-30T16:34:13.398Z"
   },
   {
    "duration": 197,
    "start_time": "2024-07-30T16:35:23.229Z"
   },
   {
    "duration": 196,
    "start_time": "2024-07-30T16:36:17.281Z"
   },
   {
    "duration": 1206,
    "start_time": "2024-07-30T18:14:35.642Z"
   },
   {
    "duration": 62,
    "start_time": "2024-07-30T18:14:36.850Z"
   },
   {
    "duration": 28,
    "start_time": "2024-07-30T18:14:36.914Z"
   },
   {
    "duration": 24,
    "start_time": "2024-07-30T18:14:36.944Z"
   },
   {
    "duration": 19,
    "start_time": "2024-07-30T18:14:36.970Z"
   },
   {
    "duration": 13,
    "start_time": "2024-07-30T18:14:36.991Z"
   },
   {
    "duration": 55,
    "start_time": "2024-07-30T18:14:37.006Z"
   },
   {
    "duration": 5,
    "start_time": "2024-07-30T18:14:37.064Z"
   },
   {
    "duration": 17,
    "start_time": "2024-07-30T18:14:37.071Z"
   },
   {
    "duration": 7,
    "start_time": "2024-07-30T18:14:37.092Z"
   },
   {
    "duration": 61,
    "start_time": "2024-07-30T18:14:37.101Z"
   },
   {
    "duration": 18,
    "start_time": "2024-07-30T18:14:37.164Z"
   },
   {
    "duration": 232,
    "start_time": "2024-07-30T18:14:37.183Z"
   },
   {
    "duration": 6,
    "start_time": "2024-07-30T18:14:37.416Z"
   },
   {
    "duration": 375,
    "start_time": "2024-07-30T18:14:37.423Z"
   },
   {
    "duration": 218,
    "start_time": "2024-07-30T18:14:37.800Z"
   },
   {
    "duration": 253,
    "start_time": "2024-07-30T18:14:38.021Z"
   },
   {
    "duration": 202,
    "start_time": "2024-07-30T18:14:38.276Z"
   },
   {
    "duration": 202,
    "start_time": "2024-07-30T18:14:38.480Z"
   },
   {
    "duration": 6,
    "start_time": "2024-07-30T18:14:38.684Z"
   },
   {
    "duration": 131,
    "start_time": "2024-07-30T18:14:38.692Z"
   },
   {
    "duration": 143,
    "start_time": "2024-07-30T18:14:38.824Z"
   },
   {
    "duration": 226,
    "start_time": "2024-07-30T18:14:38.969Z"
   },
   {
    "duration": 19,
    "start_time": "2024-07-30T18:14:39.197Z"
   },
   {
    "duration": 17,
    "start_time": "2024-07-30T18:14:39.218Z"
   },
   {
    "duration": 143,
    "start_time": "2024-07-30T18:14:39.255Z"
   },
   {
    "duration": 21,
    "start_time": "2024-07-30T18:14:39.400Z"
   },
   {
    "duration": 195,
    "start_time": "2024-07-30T18:14:39.424Z"
   },
   {
    "duration": 381,
    "start_time": "2024-07-30T18:14:39.620Z"
   },
   {
    "duration": 716,
    "start_time": "2024-07-30T18:14:40.003Z"
   },
   {
    "duration": 735,
    "start_time": "2024-07-30T18:14:40.720Z"
   },
   {
    "duration": 798,
    "start_time": "2024-07-30T18:14:41.457Z"
   },
   {
    "duration": 222,
    "start_time": "2024-07-30T18:14:42.257Z"
   },
   {
    "duration": 277,
    "start_time": "2024-07-30T18:14:42.481Z"
   },
   {
    "duration": 208,
    "start_time": "2024-07-30T18:14:42.759Z"
   },
   {
    "duration": 16,
    "start_time": "2024-07-30T18:14:42.969Z"
   },
   {
    "duration": 72,
    "start_time": "2024-07-30T18:14:42.986Z"
   },
   {
    "duration": 16,
    "start_time": "2024-07-30T18:14:43.060Z"
   },
   {
    "duration": 8,
    "start_time": "2024-07-30T18:14:43.077Z"
   },
   {
    "duration": 9,
    "start_time": "2024-07-30T18:14:43.087Z"
   },
   {
    "duration": 13,
    "start_time": "2024-07-30T18:14:43.098Z"
   },
   {
    "duration": 46,
    "start_time": "2024-07-30T18:14:43.113Z"
   },
   {
    "duration": 7,
    "start_time": "2024-07-30T18:14:50.825Z"
   },
   {
    "duration": 8,
    "start_time": "2024-07-30T18:18:47.340Z"
   },
   {
    "duration": 1152,
    "start_time": "2024-07-30T18:35:59.697Z"
   },
   {
    "duration": 61,
    "start_time": "2024-07-30T18:36:00.851Z"
   },
   {
    "duration": 110,
    "start_time": "2024-07-30T18:36:00.915Z"
   },
   {
    "duration": 120,
    "start_time": "2024-07-30T18:36:01.027Z"
   },
   {
    "duration": 136,
    "start_time": "2024-07-30T18:36:01.149Z"
   },
   {
    "duration": 59,
    "start_time": "2024-07-30T18:36:01.286Z"
   },
   {
    "duration": 69,
    "start_time": "2024-07-30T18:36:01.347Z"
   },
   {
    "duration": 42,
    "start_time": "2024-07-30T18:36:01.418Z"
   },
   {
    "duration": 33,
    "start_time": "2024-07-30T18:36:01.461Z"
   },
   {
    "duration": 15,
    "start_time": "2024-07-30T18:36:01.496Z"
   },
   {
    "duration": 53,
    "start_time": "2024-07-30T18:36:01.512Z"
   },
   {
    "duration": 58,
    "start_time": "2024-07-30T18:36:01.567Z"
   },
   {
    "duration": 266,
    "start_time": "2024-07-30T18:36:01.629Z"
   },
   {
    "duration": 6,
    "start_time": "2024-07-30T18:36:01.896Z"
   },
   {
    "duration": 376,
    "start_time": "2024-07-30T18:36:01.904Z"
   },
   {
    "duration": 230,
    "start_time": "2024-07-30T18:36:02.282Z"
   },
   {
    "duration": 224,
    "start_time": "2024-07-30T18:36:02.514Z"
   },
   {
    "duration": 212,
    "start_time": "2024-07-30T18:36:02.741Z"
   },
   {
    "duration": 233,
    "start_time": "2024-07-30T18:36:02.956Z"
   },
   {
    "duration": 6,
    "start_time": "2024-07-30T18:36:03.191Z"
   },
   {
    "duration": 138,
    "start_time": "2024-07-30T18:36:03.199Z"
   },
   {
    "duration": 154,
    "start_time": "2024-07-30T18:36:03.339Z"
   },
   {
    "duration": 229,
    "start_time": "2024-07-30T18:36:03.495Z"
   },
   {
    "duration": 13,
    "start_time": "2024-07-30T18:36:03.726Z"
   },
   {
    "duration": 13,
    "start_time": "2024-07-30T18:36:03.756Z"
   },
   {
    "duration": 153,
    "start_time": "2024-07-30T18:36:03.771Z"
   },
   {
    "duration": 35,
    "start_time": "2024-07-30T18:36:03.925Z"
   },
   {
    "duration": 188,
    "start_time": "2024-07-30T18:36:03.962Z"
   },
   {
    "duration": 402,
    "start_time": "2024-07-30T18:36:04.156Z"
   },
   {
    "duration": 715,
    "start_time": "2024-07-30T18:36:04.560Z"
   },
   {
    "duration": 743,
    "start_time": "2024-07-30T18:36:05.277Z"
   },
   {
    "duration": 758,
    "start_time": "2024-07-30T18:36:06.021Z"
   },
   {
    "duration": 221,
    "start_time": "2024-07-30T18:36:06.781Z"
   },
   {
    "duration": 303,
    "start_time": "2024-07-30T18:36:07.004Z"
   },
   {
    "duration": 203,
    "start_time": "2024-07-30T18:36:07.309Z"
   },
   {
    "duration": 17,
    "start_time": "2024-07-30T18:36:07.514Z"
   },
   {
    "duration": 35,
    "start_time": "2024-07-30T18:36:07.533Z"
   },
   {
    "duration": 17,
    "start_time": "2024-07-30T18:36:07.570Z"
   },
   {
    "duration": 21,
    "start_time": "2024-07-30T18:36:07.589Z"
   },
   {
    "duration": 20,
    "start_time": "2024-07-30T18:36:07.615Z"
   },
   {
    "duration": 25,
    "start_time": "2024-07-30T18:36:07.636Z"
   },
   {
    "duration": 7,
    "start_time": "2024-07-30T18:36:07.663Z"
   },
   {
    "duration": 1220,
    "start_time": "2024-07-30T18:41:05.123Z"
   },
   {
    "duration": 64,
    "start_time": "2024-07-30T18:41:06.346Z"
   },
   {
    "duration": 73,
    "start_time": "2024-07-30T18:41:06.412Z"
   },
   {
    "duration": 16,
    "start_time": "2024-07-30T18:41:06.486Z"
   },
   {
    "duration": 51,
    "start_time": "2024-07-30T18:41:06.505Z"
   },
   {
    "duration": 14,
    "start_time": "2024-07-30T18:41:06.558Z"
   },
   {
    "duration": 24,
    "start_time": "2024-07-30T18:41:06.574Z"
   },
   {
    "duration": 4,
    "start_time": "2024-07-30T18:41:06.600Z"
   },
   {
    "duration": 36,
    "start_time": "2024-07-30T18:41:06.606Z"
   },
   {
    "duration": 19,
    "start_time": "2024-07-30T18:41:06.644Z"
   },
   {
    "duration": 27,
    "start_time": "2024-07-30T18:41:06.665Z"
   },
   {
    "duration": 16,
    "start_time": "2024-07-30T18:41:06.694Z"
   },
   {
    "duration": 224,
    "start_time": "2024-07-30T18:41:06.712Z"
   },
   {
    "duration": 17,
    "start_time": "2024-07-30T18:41:06.938Z"
   },
   {
    "duration": 339,
    "start_time": "2024-07-30T18:41:06.957Z"
   },
   {
    "duration": 206,
    "start_time": "2024-07-30T18:41:07.298Z"
   },
   {
    "duration": 261,
    "start_time": "2024-07-30T18:41:07.506Z"
   },
   {
    "duration": 196,
    "start_time": "2024-07-30T18:41:07.769Z"
   },
   {
    "duration": 199,
    "start_time": "2024-07-30T18:41:07.967Z"
   },
   {
    "duration": 9,
    "start_time": "2024-07-30T18:41:08.168Z"
   },
   {
    "duration": 165,
    "start_time": "2024-07-30T18:41:08.178Z"
   },
   {
    "duration": 146,
    "start_time": "2024-07-30T18:41:08.345Z"
   },
   {
    "duration": 226,
    "start_time": "2024-07-30T18:41:08.493Z"
   },
   {
    "duration": 10,
    "start_time": "2024-07-30T18:41:08.720Z"
   },
   {
    "duration": 29,
    "start_time": "2024-07-30T18:41:08.732Z"
   },
   {
    "duration": 224,
    "start_time": "2024-07-30T18:41:08.762Z"
   },
   {
    "duration": 20,
    "start_time": "2024-07-30T18:41:08.988Z"
   },
   {
    "duration": 221,
    "start_time": "2024-07-30T18:41:09.009Z"
   },
   {
    "duration": 383,
    "start_time": "2024-07-30T18:41:09.232Z"
   },
   {
    "duration": 713,
    "start_time": "2024-07-30T18:41:09.616Z"
   },
   {
    "duration": 720,
    "start_time": "2024-07-30T18:41:10.331Z"
   },
   {
    "duration": 803,
    "start_time": "2024-07-30T18:41:11.055Z"
   },
   {
    "duration": 221,
    "start_time": "2024-07-30T18:41:11.860Z"
   },
   {
    "duration": 285,
    "start_time": "2024-07-30T18:41:12.083Z"
   },
   {
    "duration": 207,
    "start_time": "2024-07-30T18:41:12.370Z"
   },
   {
    "duration": 15,
    "start_time": "2024-07-30T18:41:12.579Z"
   },
   {
    "duration": 30,
    "start_time": "2024-07-30T18:41:12.596Z"
   },
   {
    "duration": 47,
    "start_time": "2024-07-30T18:41:12.628Z"
   },
   {
    "duration": 10,
    "start_time": "2024-07-30T18:41:12.678Z"
   },
   {
    "duration": 12,
    "start_time": "2024-07-30T18:41:12.690Z"
   },
   {
    "duration": 17,
    "start_time": "2024-07-30T18:41:12.706Z"
   },
   {
    "duration": 30,
    "start_time": "2024-07-30T18:41:12.725Z"
   },
   {
    "duration": 1024,
    "start_time": "2024-07-30T18:54:40.311Z"
   },
   {
    "duration": 52,
    "start_time": "2024-07-30T18:54:41.337Z"
   },
   {
    "duration": 23,
    "start_time": "2024-07-30T18:54:41.390Z"
   },
   {
    "duration": 13,
    "start_time": "2024-07-30T18:54:41.414Z"
   },
   {
    "duration": 13,
    "start_time": "2024-07-30T18:54:41.429Z"
   },
   {
    "duration": 9,
    "start_time": "2024-07-30T18:54:41.443Z"
   },
   {
    "duration": 34,
    "start_time": "2024-07-30T18:54:41.453Z"
   },
   {
    "duration": 4,
    "start_time": "2024-07-30T18:54:41.488Z"
   },
   {
    "duration": 20,
    "start_time": "2024-07-30T18:54:41.493Z"
   },
   {
    "duration": 13,
    "start_time": "2024-07-30T18:54:41.515Z"
   },
   {
    "duration": 22,
    "start_time": "2024-07-30T18:54:41.529Z"
   },
   {
    "duration": 19,
    "start_time": "2024-07-30T18:54:41.552Z"
   },
   {
    "duration": 218,
    "start_time": "2024-07-30T18:54:41.572Z"
   },
   {
    "duration": 5,
    "start_time": "2024-07-30T18:54:41.793Z"
   },
   {
    "duration": 262,
    "start_time": "2024-07-30T18:54:41.799Z"
   },
   {
    "duration": 171,
    "start_time": "2024-07-30T18:54:42.063Z"
   },
   {
    "duration": 176,
    "start_time": "2024-07-30T18:54:42.236Z"
   },
   {
    "duration": 163,
    "start_time": "2024-07-30T18:54:42.413Z"
   },
   {
    "duration": 171,
    "start_time": "2024-07-30T18:54:42.578Z"
   },
   {
    "duration": 5,
    "start_time": "2024-07-30T18:54:42.751Z"
   },
   {
    "duration": 109,
    "start_time": "2024-07-30T18:54:42.758Z"
   },
   {
    "duration": 125,
    "start_time": "2024-07-30T18:54:42.869Z"
   },
   {
    "duration": 189,
    "start_time": "2024-07-30T18:54:42.995Z"
   },
   {
    "duration": 9,
    "start_time": "2024-07-30T18:54:43.186Z"
   },
   {
    "duration": 15,
    "start_time": "2024-07-30T18:54:43.196Z"
   },
   {
    "duration": 119,
    "start_time": "2024-07-30T18:54:43.213Z"
   },
   {
    "duration": 17,
    "start_time": "2024-07-30T18:54:43.334Z"
   },
   {
    "duration": 160,
    "start_time": "2024-07-30T18:54:43.352Z"
   },
   {
    "duration": 319,
    "start_time": "2024-07-30T18:54:43.513Z"
   },
   {
    "duration": 604,
    "start_time": "2024-07-30T18:54:43.834Z"
   },
   {
    "duration": 565,
    "start_time": "2024-07-30T18:54:44.440Z"
   },
   {
    "duration": 631,
    "start_time": "2024-07-30T18:54:45.007Z"
   },
   {
    "duration": 189,
    "start_time": "2024-07-30T18:54:45.640Z"
   },
   {
    "duration": 229,
    "start_time": "2024-07-30T18:54:45.831Z"
   },
   {
    "duration": 192,
    "start_time": "2024-07-30T18:54:46.062Z"
   },
   {
    "duration": 12,
    "start_time": "2024-07-30T18:54:46.256Z"
   },
   {
    "duration": 12,
    "start_time": "2024-07-30T18:54:46.269Z"
   },
   {
    "duration": 21,
    "start_time": "2024-07-30T18:54:46.282Z"
   },
   {
    "duration": 12,
    "start_time": "2024-07-30T18:54:46.305Z"
   },
   {
    "duration": 14,
    "start_time": "2024-07-30T18:54:46.318Z"
   },
   {
    "duration": 30,
    "start_time": "2024-07-30T18:54:46.336Z"
   },
   {
    "duration": 6,
    "start_time": "2024-07-30T18:54:46.367Z"
   },
   {
    "duration": 92,
    "start_time": "2024-07-30T19:32:26.840Z"
   },
   {
    "duration": 23,
    "start_time": "2024-07-30T19:49:38.556Z"
   },
   {
    "duration": 10,
    "start_time": "2024-07-30T20:11:31.054Z"
   },
   {
    "duration": 44,
    "start_time": "2024-07-31T09:54:33.497Z"
   },
   {
    "duration": 1273,
    "start_time": "2024-07-31T09:54:41.568Z"
   },
   {
    "duration": 236,
    "start_time": "2024-07-31T09:54:42.842Z"
   },
   {
    "duration": 24,
    "start_time": "2024-07-31T09:54:43.079Z"
   },
   {
    "duration": 13,
    "start_time": "2024-07-31T09:54:43.104Z"
   },
   {
    "duration": 25,
    "start_time": "2024-07-31T09:54:43.119Z"
   },
   {
    "duration": 10,
    "start_time": "2024-07-31T09:54:43.146Z"
   },
   {
    "duration": 31,
    "start_time": "2024-07-31T09:54:43.157Z"
   },
   {
    "duration": 4,
    "start_time": "2024-07-31T09:54:43.190Z"
   },
   {
    "duration": 14,
    "start_time": "2024-07-31T09:54:43.196Z"
   },
   {
    "duration": 19,
    "start_time": "2024-07-31T09:54:43.211Z"
   },
   {
    "duration": 30,
    "start_time": "2024-07-31T09:54:43.232Z"
   },
   {
    "duration": 20,
    "start_time": "2024-07-31T09:54:43.264Z"
   },
   {
    "duration": 103,
    "start_time": "2024-07-31T09:54:43.285Z"
   },
   {
    "duration": 201,
    "start_time": "2024-07-31T09:54:43.391Z"
   },
   {
    "duration": 6,
    "start_time": "2024-07-31T09:54:43.594Z"
   },
   {
    "duration": 282,
    "start_time": "2024-07-31T09:54:43.601Z"
   },
   {
    "duration": 180,
    "start_time": "2024-07-31T09:54:43.885Z"
   },
   {
    "duration": 175,
    "start_time": "2024-07-31T09:54:44.066Z"
   },
   {
    "duration": 173,
    "start_time": "2024-07-31T09:54:44.242Z"
   },
   {
    "duration": 173,
    "start_time": "2024-07-31T09:54:44.417Z"
   },
   {
    "duration": 24,
    "start_time": "2024-07-31T09:54:44.592Z"
   },
   {
    "duration": 7,
    "start_time": "2024-07-31T09:54:44.618Z"
   },
   {
    "duration": 126,
    "start_time": "2024-07-31T09:54:44.626Z"
   },
   {
    "duration": 131,
    "start_time": "2024-07-31T09:54:44.754Z"
   },
   {
    "duration": 200,
    "start_time": "2024-07-31T09:54:44.886Z"
   },
   {
    "duration": 11,
    "start_time": "2024-07-31T09:54:45.087Z"
   },
   {
    "duration": 40,
    "start_time": "2024-07-31T09:54:45.099Z"
   },
   {
    "duration": 115,
    "start_time": "2024-07-31T09:54:45.141Z"
   },
   {
    "duration": 26,
    "start_time": "2024-07-31T09:54:45.258Z"
   },
   {
    "duration": 166,
    "start_time": "2024-07-31T09:54:45.286Z"
   },
   {
    "duration": 330,
    "start_time": "2024-07-31T09:54:45.454Z"
   },
   {
    "duration": 616,
    "start_time": "2024-07-31T09:54:45.786Z"
   },
   {
    "duration": 602,
    "start_time": "2024-07-31T09:54:46.404Z"
   },
   {
    "duration": 652,
    "start_time": "2024-07-31T09:54:47.008Z"
   },
   {
    "duration": 182,
    "start_time": "2024-07-31T09:54:47.661Z"
   },
   {
    "duration": 249,
    "start_time": "2024-07-31T09:54:47.844Z"
   },
   {
    "duration": 187,
    "start_time": "2024-07-31T09:54:48.095Z"
   },
   {
    "duration": 13,
    "start_time": "2024-07-31T09:54:48.283Z"
   },
   {
    "duration": 17,
    "start_time": "2024-07-31T09:54:48.297Z"
   },
   {
    "duration": 23,
    "start_time": "2024-07-31T09:54:48.316Z"
   },
   {
    "duration": 23,
    "start_time": "2024-07-31T09:54:48.342Z"
   },
   {
    "duration": 25,
    "start_time": "2024-07-31T09:54:48.366Z"
   },
   {
    "duration": 7,
    "start_time": "2024-07-31T09:54:48.392Z"
   },
   {
    "duration": 7,
    "start_time": "2024-07-31T09:54:48.400Z"
   },
   {
    "duration": 14,
    "start_time": "2024-07-31T09:54:48.408Z"
   },
   {
    "duration": 7,
    "start_time": "2024-07-31T09:54:56.059Z"
   },
   {
    "duration": 6,
    "start_time": "2024-07-31T09:55:00.414Z"
   },
   {
    "duration": 7,
    "start_time": "2024-07-31T09:55:36.751Z"
   },
   {
    "duration": 6,
    "start_time": "2024-07-31T09:55:38.289Z"
   },
   {
    "duration": 2,
    "start_time": "2024-07-31T09:55:41.970Z"
   },
   {
    "duration": 64,
    "start_time": "2024-07-31T09:55:41.974Z"
   },
   {
    "duration": 18,
    "start_time": "2024-07-31T09:55:42.039Z"
   },
   {
    "duration": 24,
    "start_time": "2024-07-31T09:55:42.058Z"
   },
   {
    "duration": 15,
    "start_time": "2024-07-31T09:55:42.084Z"
   },
   {
    "duration": 8,
    "start_time": "2024-07-31T09:55:42.101Z"
   },
   {
    "duration": 16,
    "start_time": "2024-07-31T09:55:42.110Z"
   },
   {
    "duration": 8,
    "start_time": "2024-07-31T09:55:50.510Z"
   },
   {
    "duration": 3,
    "start_time": "2024-07-31T09:55:54.005Z"
   },
   {
    "duration": 61,
    "start_time": "2024-07-31T09:55:54.009Z"
   },
   {
    "duration": 18,
    "start_time": "2024-07-31T09:55:54.072Z"
   },
   {
    "duration": 18,
    "start_time": "2024-07-31T09:55:54.091Z"
   },
   {
    "duration": 28,
    "start_time": "2024-07-31T09:55:54.111Z"
   },
   {
    "duration": 9,
    "start_time": "2024-07-31T09:55:54.141Z"
   },
   {
    "duration": 10,
    "start_time": "2024-07-31T09:55:57.025Z"
   },
   {
    "duration": 12,
    "start_time": "2024-07-31T09:59:18.589Z"
   },
   {
    "duration": 6,
    "start_time": "2024-07-31T09:59:24.892Z"
   },
   {
    "duration": 6,
    "start_time": "2024-07-31T10:02:28.305Z"
   },
   {
    "duration": 94,
    "start_time": "2024-07-31T10:04:11.631Z"
   },
   {
    "duration": 14,
    "start_time": "2024-07-31T10:04:23.389Z"
   },
   {
    "duration": 10,
    "start_time": "2024-07-31T10:04:36.053Z"
   },
   {
    "duration": 11,
    "start_time": "2024-07-31T10:04:58.358Z"
   },
   {
    "duration": 10,
    "start_time": "2024-07-31T10:05:10.060Z"
   },
   {
    "duration": 10,
    "start_time": "2024-07-31T10:05:12.971Z"
   },
   {
    "duration": 11,
    "start_time": "2024-07-31T10:05:36.846Z"
   },
   {
    "duration": 17,
    "start_time": "2024-07-31T10:06:28.666Z"
   },
   {
    "duration": 9,
    "start_time": "2024-07-31T10:06:57.367Z"
   },
   {
    "duration": 18,
    "start_time": "2024-07-31T10:07:03.523Z"
   },
   {
    "duration": 6,
    "start_time": "2024-07-31T10:10:34.279Z"
   },
   {
    "duration": 6,
    "start_time": "2024-07-31T10:10:45.693Z"
   },
   {
    "duration": 18,
    "start_time": "2024-07-31T10:10:59.202Z"
   },
   {
    "duration": 20,
    "start_time": "2024-07-31T10:11:30.632Z"
   },
   {
    "duration": 19,
    "start_time": "2024-07-31T10:11:33.727Z"
   },
   {
    "duration": 1283,
    "start_time": "2024-07-31T11:21:47.250Z"
   },
   {
    "duration": 167,
    "start_time": "2024-07-31T11:21:48.535Z"
   },
   {
    "duration": 24,
    "start_time": "2024-07-31T11:21:48.703Z"
   },
   {
    "duration": 87,
    "start_time": "2024-07-31T11:21:48.728Z"
   },
   {
    "duration": 15,
    "start_time": "2024-07-31T11:21:48.817Z"
   },
   {
    "duration": 10,
    "start_time": "2024-07-31T11:21:48.834Z"
   },
   {
    "duration": 26,
    "start_time": "2024-07-31T11:21:48.845Z"
   },
   {
    "duration": 8,
    "start_time": "2024-07-31T11:21:48.873Z"
   },
   {
    "duration": 13,
    "start_time": "2024-07-31T11:21:48.883Z"
   },
   {
    "duration": 6,
    "start_time": "2024-07-31T11:21:48.897Z"
   },
   {
    "duration": 16,
    "start_time": "2024-07-31T11:21:48.905Z"
   },
   {
    "duration": 41,
    "start_time": "2024-07-31T11:21:48.922Z"
   },
   {
    "duration": 18,
    "start_time": "2024-07-31T11:22:01.216Z"
   },
   {
    "duration": 57,
    "start_time": "2024-07-31T11:22:28.059Z"
   },
   {
    "duration": 57,
    "start_time": "2024-07-31T11:22:32.075Z"
   },
   {
    "duration": 18,
    "start_time": "2024-07-31T11:22:41.019Z"
   },
   {
    "duration": 15,
    "start_time": "2024-07-31T11:32:48.360Z"
   },
   {
    "duration": 17,
    "start_time": "2024-07-31T11:32:54.073Z"
   },
   {
    "duration": 1097,
    "start_time": "2024-07-31T11:33:04.256Z"
   },
   {
    "duration": 18,
    "start_time": "2024-07-31T11:33:13.176Z"
   },
   {
    "duration": 1262,
    "start_time": "2024-07-31T11:33:19.837Z"
   },
   {
    "duration": 1031,
    "start_time": "2024-07-31T11:33:24.151Z"
   },
   {
    "duration": 20,
    "start_time": "2024-07-31T11:33:31.338Z"
   },
   {
    "duration": 17,
    "start_time": "2024-07-31T11:33:33.974Z"
   },
   {
    "duration": 16,
    "start_time": "2024-07-31T11:33:41.743Z"
   },
   {
    "duration": 12,
    "start_time": "2024-07-31T11:33:44.278Z"
   },
   {
    "duration": 16,
    "start_time": "2024-07-31T11:33:46.843Z"
   },
   {
    "duration": 21,
    "start_time": "2024-07-31T11:33:50.622Z"
   },
   {
    "duration": 567,
    "start_time": "2024-07-31T11:38:17.981Z"
   },
   {
    "duration": 584,
    "start_time": "2024-07-31T11:38:24.421Z"
   },
   {
    "duration": 1021,
    "start_time": "2024-07-31T11:38:27.766Z"
   },
   {
    "duration": 18,
    "start_time": "2024-07-31T11:38:34.132Z"
   },
   {
    "duration": 18,
    "start_time": "2024-07-31T11:38:39.556Z"
   },
   {
    "duration": 591,
    "start_time": "2024-07-31T11:38:45.399Z"
   },
   {
    "duration": 583,
    "start_time": "2024-07-31T11:42:40.643Z"
   },
   {
    "duration": 635,
    "start_time": "2024-07-31T11:43:00.042Z"
   },
   {
    "duration": 12,
    "start_time": "2024-07-31T11:43:08.101Z"
   },
   {
    "duration": 11,
    "start_time": "2024-07-31T11:43:10.894Z"
   },
   {
    "duration": 14,
    "start_time": "2024-07-31T11:43:14.034Z"
   },
   {
    "duration": 9,
    "start_time": "2024-07-31T11:43:59.624Z"
   },
   {
    "duration": 14,
    "start_time": "2024-07-31T11:44:02.332Z"
   },
   {
    "duration": 18,
    "start_time": "2024-07-31T11:44:06.216Z"
   },
   {
    "duration": 77,
    "start_time": "2024-07-31T11:46:35.366Z"
   },
   {
    "duration": 14,
    "start_time": "2024-07-31T11:46:42.920Z"
   },
   {
    "duration": 14,
    "start_time": "2024-07-31T11:47:04.887Z"
   },
   {
    "duration": 16,
    "start_time": "2024-07-31T11:48:02.357Z"
   },
   {
    "duration": 15,
    "start_time": "2024-07-31T11:48:06.408Z"
   },
   {
    "duration": 13,
    "start_time": "2024-07-31T11:48:10.535Z"
   },
   {
    "duration": 15,
    "start_time": "2024-07-31T11:48:13.443Z"
   },
   {
    "duration": 61,
    "start_time": "2024-07-31T11:51:59.580Z"
   },
   {
    "duration": 18,
    "start_time": "2024-07-31T11:52:26.386Z"
   },
   {
    "duration": 47,
    "start_time": "2024-07-31T11:56:52.190Z"
   },
   {
    "duration": 20,
    "start_time": "2024-07-31T11:57:20.614Z"
   },
   {
    "duration": 38,
    "start_time": "2024-07-31T11:57:57.307Z"
   },
   {
    "duration": 32,
    "start_time": "2024-07-31T12:03:29.949Z"
   },
   {
    "duration": 43,
    "start_time": "2024-07-31T12:03:37.443Z"
   },
   {
    "duration": 41,
    "start_time": "2024-07-31T12:04:08.842Z"
   },
   {
    "duration": 40,
    "start_time": "2024-07-31T12:04:32.354Z"
   },
   {
    "duration": 40,
    "start_time": "2024-07-31T12:04:37.993Z"
   },
   {
    "duration": 38,
    "start_time": "2024-07-31T12:05:16.847Z"
   },
   {
    "duration": 52,
    "start_time": "2024-07-31T12:09:42.949Z"
   },
   {
    "duration": 52,
    "start_time": "2024-07-31T12:09:53.343Z"
   },
   {
    "duration": 332,
    "start_time": "2024-07-31T12:10:04.891Z"
   },
   {
    "duration": 46,
    "start_time": "2024-07-31T12:10:12.259Z"
   },
   {
    "duration": 45,
    "start_time": "2024-07-31T12:10:56.318Z"
   },
   {
    "duration": 68,
    "start_time": "2024-07-31T12:13:16.664Z"
   },
   {
    "duration": 63,
    "start_time": "2024-07-31T12:13:22.149Z"
   },
   {
    "duration": 74,
    "start_time": "2024-07-31T12:13:29.957Z"
   },
   {
    "duration": 60,
    "start_time": "2024-07-31T12:13:40.025Z"
   },
   {
    "duration": 47,
    "start_time": "2024-07-31T12:14:42.945Z"
   },
   {
    "duration": 29,
    "start_time": "2024-07-31T12:19:59.427Z"
   },
   {
    "duration": 29,
    "start_time": "2024-07-31T12:20:05.249Z"
   },
   {
    "duration": 22,
    "start_time": "2024-07-31T12:20:30.837Z"
   },
   {
    "duration": 4,
    "start_time": "2024-07-31T12:20:34.633Z"
   },
   {
    "duration": 61,
    "start_time": "2024-07-31T12:20:34.639Z"
   },
   {
    "duration": 22,
    "start_time": "2024-07-31T12:20:34.702Z"
   },
   {
    "duration": 25,
    "start_time": "2024-07-31T12:20:34.726Z"
   },
   {
    "duration": 26,
    "start_time": "2024-07-31T12:20:34.753Z"
   },
   {
    "duration": 10,
    "start_time": "2024-07-31T12:20:34.781Z"
   },
   {
    "duration": 15,
    "start_time": "2024-07-31T12:20:34.793Z"
   },
   {
    "duration": 10,
    "start_time": "2024-07-31T12:20:34.810Z"
   },
   {
    "duration": 45,
    "start_time": "2024-07-31T12:20:34.822Z"
   },
   {
    "duration": 8,
    "start_time": "2024-07-31T12:20:34.869Z"
   },
   {
    "duration": 26,
    "start_time": "2024-07-31T12:20:34.879Z"
   },
   {
    "duration": 14,
    "start_time": "2024-07-31T12:20:34.907Z"
   },
   {
    "duration": 25,
    "start_time": "2024-07-31T12:20:43.157Z"
   },
   {
    "duration": 19,
    "start_time": "2024-07-31T12:20:46.622Z"
   },
   {
    "duration": 27,
    "start_time": "2024-07-31T12:22:15.520Z"
   },
   {
    "duration": 11,
    "start_time": "2024-07-31T12:22:46.309Z"
   },
   {
    "duration": 15,
    "start_time": "2024-07-31T12:22:53.549Z"
   },
   {
    "duration": 12,
    "start_time": "2024-07-31T12:23:08.688Z"
   },
   {
    "duration": 14,
    "start_time": "2024-07-31T12:23:26.727Z"
   },
   {
    "duration": 16,
    "start_time": "2024-07-31T12:23:47.071Z"
   },
   {
    "duration": 5,
    "start_time": "2024-07-31T12:24:32.073Z"
   },
   {
    "duration": 5,
    "start_time": "2024-07-31T12:24:41.903Z"
   },
   {
    "duration": 6,
    "start_time": "2024-07-31T12:24:53.660Z"
   },
   {
    "duration": 20,
    "start_time": "2024-07-31T12:25:00.868Z"
   },
   {
    "duration": 15,
    "start_time": "2024-07-31T12:25:04.977Z"
   },
   {
    "duration": 13,
    "start_time": "2024-07-31T12:26:21.204Z"
   },
   {
    "duration": 13,
    "start_time": "2024-07-31T12:26:25.082Z"
   },
   {
    "duration": 13,
    "start_time": "2024-07-31T12:27:59.377Z"
   },
   {
    "duration": 11,
    "start_time": "2024-07-31T12:28:21.032Z"
   },
   {
    "duration": 11,
    "start_time": "2024-07-31T12:30:35.665Z"
   },
   {
    "duration": 13,
    "start_time": "2024-07-31T12:32:27.292Z"
   },
   {
    "duration": 15,
    "start_time": "2024-07-31T12:32:57.860Z"
   },
   {
    "duration": 3,
    "start_time": "2024-07-31T12:33:41.505Z"
   },
   {
    "duration": 59,
    "start_time": "2024-07-31T12:33:41.510Z"
   },
   {
    "duration": 28,
    "start_time": "2024-07-31T12:33:41.571Z"
   },
   {
    "duration": 24,
    "start_time": "2024-07-31T12:33:41.601Z"
   },
   {
    "duration": 20,
    "start_time": "2024-07-31T12:33:41.627Z"
   },
   {
    "duration": 18,
    "start_time": "2024-07-31T12:33:41.648Z"
   },
   {
    "duration": 24,
    "start_time": "2024-07-31T12:33:41.667Z"
   },
   {
    "duration": 4,
    "start_time": "2024-07-31T12:33:41.693Z"
   },
   {
    "duration": 19,
    "start_time": "2024-07-31T12:33:41.699Z"
   },
   {
    "duration": 9,
    "start_time": "2024-07-31T12:33:41.719Z"
   },
   {
    "duration": 35,
    "start_time": "2024-07-31T12:33:41.730Z"
   },
   {
    "duration": 18,
    "start_time": "2024-07-31T12:33:44.361Z"
   },
   {
    "duration": 21,
    "start_time": "2024-07-31T12:33:48.346Z"
   },
   {
    "duration": 24,
    "start_time": "2024-07-31T12:33:53.211Z"
   },
   {
    "duration": 22,
    "start_time": "2024-07-31T12:34:27.573Z"
   },
   {
    "duration": 22,
    "start_time": "2024-07-31T12:34:37.683Z"
   },
   {
    "duration": 14,
    "start_time": "2024-07-31T12:36:26.911Z"
   },
   {
    "duration": 3,
    "start_time": "2024-07-31T12:36:30.542Z"
   },
   {
    "duration": 123,
    "start_time": "2024-07-31T12:36:30.548Z"
   },
   {
    "duration": 62,
    "start_time": "2024-07-31T12:36:30.673Z"
   },
   {
    "duration": 159,
    "start_time": "2024-07-31T12:36:30.738Z"
   },
   {
    "duration": 105,
    "start_time": "2024-07-31T12:36:30.899Z"
   },
   {
    "duration": 130,
    "start_time": "2024-07-31T12:36:31.006Z"
   },
   {
    "duration": 60,
    "start_time": "2024-07-31T12:36:31.138Z"
   },
   {
    "duration": 35,
    "start_time": "2024-07-31T12:36:31.200Z"
   },
   {
    "duration": 99,
    "start_time": "2024-07-31T12:36:31.238Z"
   },
   {
    "duration": 56,
    "start_time": "2024-07-31T12:36:31.339Z"
   },
   {
    "duration": 46,
    "start_time": "2024-07-31T12:36:31.397Z"
   },
   {
    "duration": 24,
    "start_time": "2024-07-31T12:36:31.445Z"
   },
   {
    "duration": 45,
    "start_time": "2024-07-31T12:36:31.471Z"
   },
   {
    "duration": 28,
    "start_time": "2024-07-31T12:36:32.761Z"
   },
   {
    "duration": 18,
    "start_time": "2024-07-31T12:39:20.974Z"
   },
   {
    "duration": 17,
    "start_time": "2024-07-31T12:39:28.523Z"
   },
   {
    "duration": 19,
    "start_time": "2024-07-31T12:39:30.890Z"
   },
   {
    "duration": 31,
    "start_time": "2024-07-31T12:50:06.029Z"
   },
   {
    "duration": 40,
    "start_time": "2024-07-31T12:50:30.256Z"
   },
   {
    "duration": 3,
    "start_time": "2024-07-31T12:50:42.713Z"
   },
   {
    "duration": 67,
    "start_time": "2024-07-31T12:50:42.719Z"
   },
   {
    "duration": 21,
    "start_time": "2024-07-31T12:50:42.788Z"
   },
   {
    "duration": 37,
    "start_time": "2024-07-31T12:50:42.811Z"
   },
   {
    "duration": 16,
    "start_time": "2024-07-31T12:50:42.850Z"
   },
   {
    "duration": 10,
    "start_time": "2024-07-31T12:50:42.867Z"
   },
   {
    "duration": 14,
    "start_time": "2024-07-31T12:50:42.879Z"
   },
   {
    "duration": 22,
    "start_time": "2024-07-31T12:50:42.894Z"
   },
   {
    "duration": 35,
    "start_time": "2024-07-31T12:50:42.918Z"
   },
   {
    "duration": 6,
    "start_time": "2024-07-31T12:50:42.955Z"
   },
   {
    "duration": 17,
    "start_time": "2024-07-31T12:50:42.964Z"
   },
   {
    "duration": 16,
    "start_time": "2024-07-31T12:50:42.983Z"
   },
   {
    "duration": 48,
    "start_time": "2024-07-31T12:50:50.489Z"
   },
   {
    "duration": 22,
    "start_time": "2024-07-31T12:50:56.326Z"
   },
   {
    "duration": 39,
    "start_time": "2024-07-31T12:51:02.075Z"
   },
   {
    "duration": 16,
    "start_time": "2024-07-31T12:53:42.423Z"
   },
   {
    "duration": 19,
    "start_time": "2024-07-31T12:56:28.114Z"
   },
   {
    "duration": 15,
    "start_time": "2024-07-31T13:11:32.500Z"
   },
   {
    "duration": 28,
    "start_time": "2024-07-31T13:11:37.754Z"
   },
   {
    "duration": 20,
    "start_time": "2024-07-31T13:11:45.745Z"
   },
   {
    "duration": 20,
    "start_time": "2024-07-31T13:12:08.851Z"
   },
   {
    "duration": 19,
    "start_time": "2024-07-31T13:14:09.969Z"
   },
   {
    "duration": 16,
    "start_time": "2024-07-31T13:14:17.433Z"
   },
   {
    "duration": 21,
    "start_time": "2024-07-31T13:14:27.784Z"
   },
   {
    "duration": 5,
    "start_time": "2024-07-31T13:20:36.280Z"
   },
   {
    "duration": 26,
    "start_time": "2024-07-31T13:20:42.810Z"
   },
   {
    "duration": 25,
    "start_time": "2024-07-31T13:21:53.034Z"
   },
   {
    "duration": 61,
    "start_time": "2024-07-31T13:23:17.646Z"
   },
   {
    "duration": 67,
    "start_time": "2024-07-31T13:24:31.540Z"
   },
   {
    "duration": 28,
    "start_time": "2024-07-31T13:25:09.915Z"
   },
   {
    "duration": 30,
    "start_time": "2024-07-31T13:25:13.442Z"
   },
   {
    "duration": 19,
    "start_time": "2024-07-31T13:25:44.358Z"
   },
   {
    "duration": 23,
    "start_time": "2024-07-31T13:32:18.402Z"
   },
   {
    "duration": 19,
    "start_time": "2024-07-31T13:32:36.957Z"
   },
   {
    "duration": 1074,
    "start_time": "2024-07-31T13:32:45.949Z"
   },
   {
    "duration": 25,
    "start_time": "2024-07-31T13:33:22.401Z"
   },
   {
    "duration": 26,
    "start_time": "2024-07-31T13:34:39.773Z"
   },
   {
    "duration": 29,
    "start_time": "2024-07-31T13:34:49.502Z"
   },
   {
    "duration": 73,
    "start_time": "2024-07-31T13:35:15.098Z"
   },
   {
    "duration": 65,
    "start_time": "2024-07-31T13:35:23.091Z"
   },
   {
    "duration": 65,
    "start_time": "2024-07-31T13:35:34.981Z"
   },
   {
    "duration": 20,
    "start_time": "2024-07-31T13:35:42.939Z"
   },
   {
    "duration": 3,
    "start_time": "2024-07-31T13:35:51.184Z"
   },
   {
    "duration": 76,
    "start_time": "2024-07-31T13:35:51.189Z"
   },
   {
    "duration": 20,
    "start_time": "2024-07-31T13:35:51.266Z"
   },
   {
    "duration": 44,
    "start_time": "2024-07-31T13:35:51.288Z"
   },
   {
    "duration": 17,
    "start_time": "2024-07-31T13:35:51.333Z"
   },
   {
    "duration": 17,
    "start_time": "2024-07-31T13:35:51.352Z"
   },
   {
    "duration": 12,
    "start_time": "2024-07-31T13:35:51.371Z"
   },
   {
    "duration": 6,
    "start_time": "2024-07-31T13:35:51.385Z"
   },
   {
    "duration": 16,
    "start_time": "2024-07-31T13:35:51.393Z"
   },
   {
    "duration": 7,
    "start_time": "2024-07-31T13:35:51.410Z"
   },
   {
    "duration": 43,
    "start_time": "2024-07-31T13:35:51.419Z"
   },
   {
    "duration": 17,
    "start_time": "2024-07-31T13:35:51.464Z"
   },
   {
    "duration": 20,
    "start_time": "2024-07-31T13:35:53.776Z"
   },
   {
    "duration": 46,
    "start_time": "2024-07-31T13:35:55.829Z"
   },
   {
    "duration": 28,
    "start_time": "2024-07-31T13:36:50.865Z"
   },
   {
    "duration": 29,
    "start_time": "2024-07-31T13:37:20.941Z"
   },
   {
    "duration": 27,
    "start_time": "2024-07-31T13:37:42.963Z"
   },
   {
    "duration": 3,
    "start_time": "2024-07-31T13:37:48.947Z"
   },
   {
    "duration": 64,
    "start_time": "2024-07-31T13:37:48.951Z"
   },
   {
    "duration": 20,
    "start_time": "2024-07-31T13:37:49.017Z"
   },
   {
    "duration": 23,
    "start_time": "2024-07-31T13:37:49.039Z"
   },
   {
    "duration": 16,
    "start_time": "2024-07-31T13:37:49.064Z"
   },
   {
    "duration": 12,
    "start_time": "2024-07-31T13:37:49.082Z"
   },
   {
    "duration": 15,
    "start_time": "2024-07-31T13:37:49.095Z"
   },
   {
    "duration": 3,
    "start_time": "2024-07-31T13:37:49.112Z"
   },
   {
    "duration": 17,
    "start_time": "2024-07-31T13:37:49.116Z"
   },
   {
    "duration": 28,
    "start_time": "2024-07-31T13:37:49.134Z"
   },
   {
    "duration": 32,
    "start_time": "2024-07-31T13:37:49.164Z"
   },
   {
    "duration": 17,
    "start_time": "2024-07-31T13:37:49.197Z"
   },
   {
    "duration": 20,
    "start_time": "2024-07-31T13:37:51.003Z"
   },
   {
    "duration": 29,
    "start_time": "2024-07-31T13:37:54.596Z"
   },
   {
    "duration": 28,
    "start_time": "2024-07-31T13:39:04.815Z"
   },
   {
    "duration": 40,
    "start_time": "2024-07-31T13:39:08.999Z"
   },
   {
    "duration": 36,
    "start_time": "2024-07-31T13:47:47.241Z"
   },
   {
    "duration": 36,
    "start_time": "2024-07-31T13:48:03.010Z"
   },
   {
    "duration": 27,
    "start_time": "2024-07-31T13:48:28.419Z"
   },
   {
    "duration": 40,
    "start_time": "2024-07-31T13:48:43.285Z"
   },
   {
    "duration": 3,
    "start_time": "2024-07-31T13:49:04.596Z"
   },
   {
    "duration": 71,
    "start_time": "2024-07-31T13:49:04.602Z"
   },
   {
    "duration": 21,
    "start_time": "2024-07-31T13:49:04.675Z"
   },
   {
    "duration": 16,
    "start_time": "2024-07-31T13:49:04.698Z"
   },
   {
    "duration": 16,
    "start_time": "2024-07-31T13:49:04.716Z"
   },
   {
    "duration": 33,
    "start_time": "2024-07-31T13:49:04.734Z"
   },
   {
    "duration": 11,
    "start_time": "2024-07-31T13:49:04.769Z"
   },
   {
    "duration": 4,
    "start_time": "2024-07-31T13:49:04.782Z"
   },
   {
    "duration": 18,
    "start_time": "2024-07-31T13:49:04.787Z"
   },
   {
    "duration": 9,
    "start_time": "2024-07-31T13:49:04.807Z"
   },
   {
    "duration": 50,
    "start_time": "2024-07-31T13:49:04.819Z"
   },
   {
    "duration": 21,
    "start_time": "2024-07-31T13:49:04.871Z"
   },
   {
    "duration": 22,
    "start_time": "2024-07-31T13:49:07.625Z"
   },
   {
    "duration": 24,
    "start_time": "2024-07-31T13:49:17.531Z"
   },
   {
    "duration": 4,
    "start_time": "2024-07-31T13:49:22.071Z"
   },
   {
    "duration": 28,
    "start_time": "2024-07-31T13:52:40.659Z"
   },
   {
    "duration": 21,
    "start_time": "2024-07-31T13:52:44.268Z"
   },
   {
    "duration": 40,
    "start_time": "2024-07-31T13:52:48.259Z"
   },
   {
    "duration": 13,
    "start_time": "2024-07-31T13:54:04.339Z"
   },
   {
    "duration": 30,
    "start_time": "2024-07-31T13:54:07.604Z"
   },
   {
    "duration": 23,
    "start_time": "2024-07-31T13:54:41.451Z"
   },
   {
    "duration": 34,
    "start_time": "2024-07-31T13:54:46.487Z"
   },
   {
    "duration": 80,
    "start_time": "2024-07-31T13:58:45.094Z"
   },
   {
    "duration": 25,
    "start_time": "2024-07-31T14:03:13.616Z"
   },
   {
    "duration": 1107,
    "start_time": "2024-07-31T14:04:12.869Z"
   },
   {
    "duration": 531,
    "start_time": "2024-07-31T14:04:17.994Z"
   },
   {
    "duration": 615,
    "start_time": "2024-07-31T14:04:26.952Z"
   },
   {
    "duration": 31,
    "start_time": "2024-07-31T14:04:30.386Z"
   },
   {
    "duration": 24,
    "start_time": "2024-07-31T14:04:42.662Z"
   },
   {
    "duration": 32,
    "start_time": "2024-07-31T14:05:22.960Z"
   },
   {
    "duration": 24,
    "start_time": "2024-07-31T14:05:38.805Z"
   },
   {
    "duration": 22,
    "start_time": "2024-07-31T14:06:35.662Z"
   },
   {
    "duration": 19,
    "start_time": "2024-07-31T14:06:53.763Z"
   },
   {
    "duration": 19,
    "start_time": "2024-07-31T14:07:07.654Z"
   },
   {
    "duration": 18,
    "start_time": "2024-07-31T14:07:13.555Z"
   },
   {
    "duration": 3,
    "start_time": "2024-07-31T14:07:16.718Z"
   },
   {
    "duration": 62,
    "start_time": "2024-07-31T14:07:16.723Z"
   },
   {
    "duration": 22,
    "start_time": "2024-07-31T14:07:16.787Z"
   },
   {
    "duration": 20,
    "start_time": "2024-07-31T14:07:16.811Z"
   },
   {
    "duration": 16,
    "start_time": "2024-07-31T14:07:16.832Z"
   },
   {
    "duration": 10,
    "start_time": "2024-07-31T14:07:16.861Z"
   },
   {
    "duration": 13,
    "start_time": "2024-07-31T14:07:16.872Z"
   },
   {
    "duration": 3,
    "start_time": "2024-07-31T14:07:16.887Z"
   },
   {
    "duration": 15,
    "start_time": "2024-07-31T14:07:16.892Z"
   },
   {
    "duration": 7,
    "start_time": "2024-07-31T14:07:16.910Z"
   },
   {
    "duration": 57,
    "start_time": "2024-07-31T14:07:16.918Z"
   },
   {
    "duration": 27,
    "start_time": "2024-07-31T14:07:16.976Z"
   },
   {
    "duration": 188,
    "start_time": "2024-07-31T14:07:17.005Z"
   },
   {
    "duration": 0,
    "start_time": "2024-07-31T14:07:17.195Z"
   },
   {
    "duration": 0,
    "start_time": "2024-07-31T14:07:17.196Z"
   },
   {
    "duration": 36,
    "start_time": "2024-07-31T14:07:21.883Z"
   },
   {
    "duration": 3,
    "start_time": "2024-07-31T14:07:23.745Z"
   },
   {
    "duration": 19,
    "start_time": "2024-07-31T14:07:24.893Z"
   },
   {
    "duration": 16,
    "start_time": "2024-07-31T14:08:40.038Z"
   },
   {
    "duration": 21,
    "start_time": "2024-07-31T14:08:46.396Z"
   },
   {
    "duration": 31,
    "start_time": "2024-07-31T14:08:53.297Z"
   },
   {
    "duration": 13,
    "start_time": "2024-07-31T14:09:35.564Z"
   },
   {
    "duration": 18,
    "start_time": "2024-07-31T14:09:42.469Z"
   },
   {
    "duration": 21,
    "start_time": "2024-07-31T14:09:45.527Z"
   },
   {
    "duration": 1019,
    "start_time": "2024-07-31T14:09:50.005Z"
   },
   {
    "duration": 12,
    "start_time": "2024-07-31T14:09:56.578Z"
   },
   {
    "duration": 20,
    "start_time": "2024-07-31T14:10:07.061Z"
   },
   {
    "duration": 23,
    "start_time": "2024-07-31T14:12:12.890Z"
   },
   {
    "duration": 32,
    "start_time": "2024-07-31T14:12:22.519Z"
   },
   {
    "duration": 18,
    "start_time": "2024-07-31T14:12:45.225Z"
   },
   {
    "duration": 24,
    "start_time": "2024-07-31T14:12:51.481Z"
   },
   {
    "duration": 37,
    "start_time": "2024-07-31T14:13:03.249Z"
   },
   {
    "duration": 39,
    "start_time": "2024-07-31T14:13:13.119Z"
   },
   {
    "duration": 16,
    "start_time": "2024-07-31T14:17:25.171Z"
   },
   {
    "duration": 14,
    "start_time": "2024-07-31T14:18:22.204Z"
   },
   {
    "duration": 23,
    "start_time": "2024-07-31T14:18:26.982Z"
   },
   {
    "duration": 20,
    "start_time": "2024-07-31T14:18:34.509Z"
   },
   {
    "duration": 20,
    "start_time": "2024-07-31T14:19:23.541Z"
   },
   {
    "duration": 17,
    "start_time": "2024-07-31T14:19:40.874Z"
   },
   {
    "duration": 3,
    "start_time": "2024-07-31T14:19:44.975Z"
   },
   {
    "duration": 4,
    "start_time": "2024-07-31T14:19:48.205Z"
   },
   {
    "duration": 13,
    "start_time": "2024-07-31T14:20:19.547Z"
   },
   {
    "duration": 17,
    "start_time": "2024-07-31T14:20:35.384Z"
   },
   {
    "duration": 18,
    "start_time": "2024-07-31T14:20:55.787Z"
   },
   {
    "duration": 26,
    "start_time": "2024-07-31T14:21:17.356Z"
   },
   {
    "duration": 25,
    "start_time": "2024-07-31T14:22:01.240Z"
   },
   {
    "duration": 25,
    "start_time": "2024-07-31T14:22:24.023Z"
   },
   {
    "duration": 67,
    "start_time": "2024-07-31T14:24:21.919Z"
   },
   {
    "duration": 33,
    "start_time": "2024-07-31T14:24:26.098Z"
   },
   {
    "duration": 46,
    "start_time": "2024-07-31T14:26:59.318Z"
   },
   {
    "duration": 29,
    "start_time": "2024-07-31T14:27:06.217Z"
   },
   {
    "duration": 2,
    "start_time": "2024-07-31T14:27:11.918Z"
   },
   {
    "duration": 69,
    "start_time": "2024-07-31T14:27:11.922Z"
   },
   {
    "duration": 21,
    "start_time": "2024-07-31T14:27:11.993Z"
   },
   {
    "duration": 16,
    "start_time": "2024-07-31T14:27:12.015Z"
   },
   {
    "duration": 41,
    "start_time": "2024-07-31T14:27:12.033Z"
   },
   {
    "duration": 10,
    "start_time": "2024-07-31T14:27:12.076Z"
   },
   {
    "duration": 14,
    "start_time": "2024-07-31T14:27:12.087Z"
   },
   {
    "duration": 4,
    "start_time": "2024-07-31T14:27:12.102Z"
   },
   {
    "duration": 15,
    "start_time": "2024-07-31T14:27:12.108Z"
   },
   {
    "duration": 36,
    "start_time": "2024-07-31T14:27:12.125Z"
   },
   {
    "duration": 17,
    "start_time": "2024-07-31T14:27:12.164Z"
   },
   {
    "duration": 15,
    "start_time": "2024-07-31T14:27:12.183Z"
   },
   {
    "duration": 21,
    "start_time": "2024-07-31T14:27:12.200Z"
   },
   {
    "duration": 44,
    "start_time": "2024-07-31T14:27:12.223Z"
   },
   {
    "duration": 3,
    "start_time": "2024-07-31T14:27:12.269Z"
   },
   {
    "duration": 28,
    "start_time": "2024-07-31T14:27:13.851Z"
   },
   {
    "duration": 8,
    "start_time": "2024-07-31T14:29:39.207Z"
   },
   {
    "duration": 411,
    "start_time": "2024-07-31T14:30:00.220Z"
   },
   {
    "duration": 8,
    "start_time": "2024-07-31T14:33:32.713Z"
   },
   {
    "duration": 28,
    "start_time": "2024-07-31T14:33:38.415Z"
   },
   {
    "duration": 22,
    "start_time": "2024-07-31T14:33:56.651Z"
   },
   {
    "duration": 29,
    "start_time": "2024-07-31T14:34:18.550Z"
   },
   {
    "duration": 3,
    "start_time": "2024-07-31T14:34:26.338Z"
   },
   {
    "duration": 57,
    "start_time": "2024-07-31T14:34:26.343Z"
   },
   {
    "duration": 20,
    "start_time": "2024-07-31T14:34:26.402Z"
   },
   {
    "duration": 15,
    "start_time": "2024-07-31T14:34:26.423Z"
   },
   {
    "duration": 23,
    "start_time": "2024-07-31T14:34:26.440Z"
   },
   {
    "duration": 9,
    "start_time": "2024-07-31T14:34:26.465Z"
   },
   {
    "duration": 11,
    "start_time": "2024-07-31T14:34:26.475Z"
   },
   {
    "duration": 3,
    "start_time": "2024-07-31T14:34:26.488Z"
   },
   {
    "duration": 27,
    "start_time": "2024-07-31T14:34:26.493Z"
   },
   {
    "duration": 6,
    "start_time": "2024-07-31T14:34:26.522Z"
   },
   {
    "duration": 38,
    "start_time": "2024-07-31T14:34:26.530Z"
   },
   {
    "duration": 17,
    "start_time": "2024-07-31T14:34:26.569Z"
   },
   {
    "duration": 23,
    "start_time": "2024-07-31T14:34:26.588Z"
   },
   {
    "duration": 15,
    "start_time": "2024-07-31T14:34:26.612Z"
   },
   {
    "duration": 33,
    "start_time": "2024-07-31T14:34:26.628Z"
   },
   {
    "duration": 26,
    "start_time": "2024-07-31T14:34:31.419Z"
   },
   {
    "duration": 31,
    "start_time": "2024-07-31T14:34:51.763Z"
   },
   {
    "duration": 28,
    "start_time": "2024-07-31T14:35:01.826Z"
   },
   {
    "duration": 28,
    "start_time": "2024-07-31T14:35:05.438Z"
   },
   {
    "duration": 20,
    "start_time": "2024-07-31T14:35:18.233Z"
   },
   {
    "duration": 3,
    "start_time": "2024-07-31T14:35:54.604Z"
   },
   {
    "duration": 150,
    "start_time": "2024-07-31T14:35:54.608Z"
   },
   {
    "duration": 22,
    "start_time": "2024-07-31T14:35:54.760Z"
   },
   {
    "duration": 49,
    "start_time": "2024-07-31T14:35:54.784Z"
   },
   {
    "duration": 22,
    "start_time": "2024-07-31T14:35:54.835Z"
   },
   {
    "duration": 13,
    "start_time": "2024-07-31T14:35:54.859Z"
   },
   {
    "duration": 27,
    "start_time": "2024-07-31T14:35:54.873Z"
   },
   {
    "duration": 20,
    "start_time": "2024-07-31T14:35:54.902Z"
   },
   {
    "duration": 115,
    "start_time": "2024-07-31T14:35:54.924Z"
   },
   {
    "duration": 7,
    "start_time": "2024-07-31T14:35:55.040Z"
   },
   {
    "duration": 27,
    "start_time": "2024-07-31T14:35:55.048Z"
   },
   {
    "duration": 16,
    "start_time": "2024-07-31T14:35:55.077Z"
   },
   {
    "duration": 22,
    "start_time": "2024-07-31T14:35:55.094Z"
   },
   {
    "duration": 2,
    "start_time": "2024-07-31T14:35:55.118Z"
   },
   {
    "duration": 30,
    "start_time": "2024-07-31T14:35:55.122Z"
   },
   {
    "duration": 27,
    "start_time": "2024-07-31T14:35:58.703Z"
   },
   {
    "duration": 1163,
    "start_time": "2024-07-31T14:36:17.460Z"
   },
   {
    "duration": 55,
    "start_time": "2024-07-31T14:36:18.625Z"
   },
   {
    "duration": 24,
    "start_time": "2024-07-31T14:36:18.682Z"
   },
   {
    "duration": 14,
    "start_time": "2024-07-31T14:36:18.708Z"
   },
   {
    "duration": 15,
    "start_time": "2024-07-31T14:36:18.723Z"
   },
   {
    "duration": 11,
    "start_time": "2024-07-31T14:36:18.761Z"
   },
   {
    "duration": 11,
    "start_time": "2024-07-31T14:36:18.773Z"
   },
   {
    "duration": 3,
    "start_time": "2024-07-31T14:36:18.786Z"
   },
   {
    "duration": 13,
    "start_time": "2024-07-31T14:36:18.791Z"
   },
   {
    "duration": 6,
    "start_time": "2024-07-31T14:36:18.807Z"
   },
   {
    "duration": 53,
    "start_time": "2024-07-31T14:36:18.815Z"
   },
   {
    "duration": 18,
    "start_time": "2024-07-31T14:36:18.870Z"
   },
   {
    "duration": 20,
    "start_time": "2024-07-31T14:36:18.890Z"
   },
   {
    "duration": 3,
    "start_time": "2024-07-31T14:36:18.912Z"
   },
   {
    "duration": 4,
    "start_time": "2024-07-31T14:36:18.917Z"
   },
   {
    "duration": 67,
    "start_time": "2024-07-31T14:36:18.923Z"
   },
   {
    "duration": 30,
    "start_time": "2024-07-31T14:36:18.992Z"
   },
   {
    "duration": 2,
    "start_time": "2024-07-31T14:36:19.024Z"
   },
   {
    "duration": 152,
    "start_time": "2024-07-31T14:36:19.028Z"
   },
   {
    "duration": 0,
    "start_time": "2024-07-31T14:36:19.184Z"
   },
   {
    "duration": 0,
    "start_time": "2024-07-31T14:36:19.185Z"
   },
   {
    "duration": 0,
    "start_time": "2024-07-31T14:36:19.186Z"
   },
   {
    "duration": 0,
    "start_time": "2024-07-31T14:36:19.188Z"
   },
   {
    "duration": 0,
    "start_time": "2024-07-31T14:36:19.189Z"
   },
   {
    "duration": 0,
    "start_time": "2024-07-31T14:36:19.191Z"
   },
   {
    "duration": 0,
    "start_time": "2024-07-31T14:36:19.192Z"
   },
   {
    "duration": 0,
    "start_time": "2024-07-31T14:36:19.194Z"
   },
   {
    "duration": 0,
    "start_time": "2024-07-31T14:36:19.195Z"
   },
   {
    "duration": 0,
    "start_time": "2024-07-31T14:36:19.196Z"
   },
   {
    "duration": 0,
    "start_time": "2024-07-31T14:36:19.197Z"
   },
   {
    "duration": 0,
    "start_time": "2024-07-31T14:36:19.198Z"
   },
   {
    "duration": 0,
    "start_time": "2024-07-31T14:36:19.199Z"
   },
   {
    "duration": 0,
    "start_time": "2024-07-31T14:36:19.200Z"
   },
   {
    "duration": 0,
    "start_time": "2024-07-31T14:36:19.201Z"
   },
   {
    "duration": 0,
    "start_time": "2024-07-31T14:36:19.202Z"
   },
   {
    "duration": 0,
    "start_time": "2024-07-31T14:36:19.203Z"
   },
   {
    "duration": 0,
    "start_time": "2024-07-31T14:36:19.204Z"
   },
   {
    "duration": 0,
    "start_time": "2024-07-31T14:36:19.205Z"
   },
   {
    "duration": 0,
    "start_time": "2024-07-31T14:36:19.207Z"
   },
   {
    "duration": 0,
    "start_time": "2024-07-31T14:36:19.207Z"
   },
   {
    "duration": 0,
    "start_time": "2024-07-31T14:36:19.209Z"
   },
   {
    "duration": 0,
    "start_time": "2024-07-31T14:36:19.210Z"
   },
   {
    "duration": 0,
    "start_time": "2024-07-31T14:36:19.211Z"
   },
   {
    "duration": 0,
    "start_time": "2024-07-31T14:36:19.212Z"
   },
   {
    "duration": 0,
    "start_time": "2024-07-31T14:36:19.213Z"
   },
   {
    "duration": 0,
    "start_time": "2024-07-31T14:36:19.261Z"
   },
   {
    "duration": 0,
    "start_time": "2024-07-31T14:36:19.262Z"
   },
   {
    "duration": 0,
    "start_time": "2024-07-31T14:36:19.263Z"
   },
   {
    "duration": 0,
    "start_time": "2024-07-31T14:36:19.264Z"
   },
   {
    "duration": 0,
    "start_time": "2024-07-31T14:36:19.265Z"
   },
   {
    "duration": 0,
    "start_time": "2024-07-31T14:36:19.266Z"
   },
   {
    "duration": 35,
    "start_time": "2024-07-31T14:37:57.215Z"
   },
   {
    "duration": 28,
    "start_time": "2024-07-31T14:38:03.648Z"
   },
   {
    "duration": 40,
    "start_time": "2024-07-31T14:38:26.135Z"
   },
   {
    "duration": 1143,
    "start_time": "2024-07-31T14:41:02.585Z"
   },
   {
    "duration": 59,
    "start_time": "2024-07-31T14:41:03.730Z"
   },
   {
    "duration": 27,
    "start_time": "2024-07-31T14:41:03.790Z"
   },
   {
    "duration": 15,
    "start_time": "2024-07-31T14:41:03.819Z"
   },
   {
    "duration": 37,
    "start_time": "2024-07-31T14:41:03.837Z"
   },
   {
    "duration": 15,
    "start_time": "2024-07-31T14:41:03.876Z"
   },
   {
    "duration": 33,
    "start_time": "2024-07-31T14:41:03.894Z"
   },
   {
    "duration": 39,
    "start_time": "2024-07-31T14:41:03.929Z"
   },
   {
    "duration": 37,
    "start_time": "2024-07-31T14:41:03.970Z"
   },
   {
    "duration": 30,
    "start_time": "2024-07-31T14:41:04.009Z"
   },
   {
    "duration": 29,
    "start_time": "2024-07-31T14:41:04.041Z"
   },
   {
    "duration": 28,
    "start_time": "2024-07-31T14:41:04.072Z"
   },
   {
    "duration": 42,
    "start_time": "2024-07-31T14:41:04.101Z"
   },
   {
    "duration": 43,
    "start_time": "2024-07-31T14:41:04.146Z"
   },
   {
    "duration": 29,
    "start_time": "2024-07-31T14:41:04.191Z"
   },
   {
    "duration": 3,
    "start_time": "2024-07-31T14:41:04.222Z"
   },
   {
    "duration": 138,
    "start_time": "2024-07-31T14:41:04.226Z"
   },
   {
    "duration": 0,
    "start_time": "2024-07-31T14:41:04.366Z"
   },
   {
    "duration": 0,
    "start_time": "2024-07-31T14:41:04.368Z"
   },
   {
    "duration": 0,
    "start_time": "2024-07-31T14:41:04.369Z"
   },
   {
    "duration": 0,
    "start_time": "2024-07-31T14:41:04.370Z"
   },
   {
    "duration": 0,
    "start_time": "2024-07-31T14:41:04.371Z"
   },
   {
    "duration": 0,
    "start_time": "2024-07-31T14:41:04.372Z"
   },
   {
    "duration": 0,
    "start_time": "2024-07-31T14:41:04.374Z"
   },
   {
    "duration": 0,
    "start_time": "2024-07-31T14:41:04.375Z"
   },
   {
    "duration": 0,
    "start_time": "2024-07-31T14:41:04.376Z"
   },
   {
    "duration": 0,
    "start_time": "2024-07-31T14:41:04.377Z"
   },
   {
    "duration": 0,
    "start_time": "2024-07-31T14:41:04.378Z"
   },
   {
    "duration": 0,
    "start_time": "2024-07-31T14:41:04.379Z"
   },
   {
    "duration": 0,
    "start_time": "2024-07-31T14:41:04.380Z"
   },
   {
    "duration": 0,
    "start_time": "2024-07-31T14:41:04.382Z"
   },
   {
    "duration": 0,
    "start_time": "2024-07-31T14:41:04.383Z"
   },
   {
    "duration": 0,
    "start_time": "2024-07-31T14:41:04.384Z"
   },
   {
    "duration": 0,
    "start_time": "2024-07-31T14:41:04.385Z"
   },
   {
    "duration": 0,
    "start_time": "2024-07-31T14:41:04.386Z"
   },
   {
    "duration": 0,
    "start_time": "2024-07-31T14:41:04.387Z"
   },
   {
    "duration": 0,
    "start_time": "2024-07-31T14:41:04.389Z"
   },
   {
    "duration": 0,
    "start_time": "2024-07-31T14:41:04.389Z"
   },
   {
    "duration": 0,
    "start_time": "2024-07-31T14:41:04.391Z"
   },
   {
    "duration": 0,
    "start_time": "2024-07-31T14:41:04.392Z"
   },
   {
    "duration": 0,
    "start_time": "2024-07-31T14:41:04.393Z"
   },
   {
    "duration": 0,
    "start_time": "2024-07-31T14:41:04.395Z"
   },
   {
    "duration": 0,
    "start_time": "2024-07-31T14:41:04.396Z"
   },
   {
    "duration": 0,
    "start_time": "2024-07-31T14:41:04.398Z"
   },
   {
    "duration": 0,
    "start_time": "2024-07-31T14:41:04.399Z"
   },
   {
    "duration": 0,
    "start_time": "2024-07-31T14:41:04.401Z"
   },
   {
    "duration": 0,
    "start_time": "2024-07-31T14:41:04.461Z"
   },
   {
    "duration": 0,
    "start_time": "2024-07-31T14:41:04.462Z"
   },
   {
    "duration": 0,
    "start_time": "2024-07-31T14:41:04.464Z"
   },
   {
    "duration": 31,
    "start_time": "2024-07-31T14:43:03.095Z"
   },
   {
    "duration": 28,
    "start_time": "2024-07-31T14:43:05.988Z"
   },
   {
    "duration": 29,
    "start_time": "2024-07-31T14:43:12.985Z"
   },
   {
    "duration": 1158,
    "start_time": "2024-07-31T14:43:46.468Z"
   },
   {
    "duration": 57,
    "start_time": "2024-07-31T14:43:47.627Z"
   },
   {
    "duration": 24,
    "start_time": "2024-07-31T14:43:47.685Z"
   },
   {
    "duration": 32,
    "start_time": "2024-07-31T14:43:47.711Z"
   },
   {
    "duration": 43,
    "start_time": "2024-07-31T14:43:47.745Z"
   },
   {
    "duration": 43,
    "start_time": "2024-07-31T14:43:47.790Z"
   },
   {
    "duration": 12,
    "start_time": "2024-07-31T14:43:47.835Z"
   },
   {
    "duration": 38,
    "start_time": "2024-07-31T14:43:47.849Z"
   },
   {
    "duration": 41,
    "start_time": "2024-07-31T14:43:47.889Z"
   },
   {
    "duration": 13,
    "start_time": "2024-07-31T14:43:47.932Z"
   },
   {
    "duration": 42,
    "start_time": "2024-07-31T14:43:47.947Z"
   },
   {
    "duration": 16,
    "start_time": "2024-07-31T14:43:47.990Z"
   },
   {
    "duration": 26,
    "start_time": "2024-07-31T14:43:48.008Z"
   },
   {
    "duration": 50,
    "start_time": "2024-07-31T14:43:48.036Z"
   },
   {
    "duration": 48,
    "start_time": "2024-07-31T14:43:48.087Z"
   },
   {
    "duration": 2,
    "start_time": "2024-07-31T14:43:48.137Z"
   },
   {
    "duration": 120,
    "start_time": "2024-07-31T14:43:48.140Z"
   },
   {
    "duration": 0,
    "start_time": "2024-07-31T14:43:48.263Z"
   },
   {
    "duration": 0,
    "start_time": "2024-07-31T14:43:48.265Z"
   },
   {
    "duration": 0,
    "start_time": "2024-07-31T14:43:48.267Z"
   },
   {
    "duration": 0,
    "start_time": "2024-07-31T14:43:48.268Z"
   },
   {
    "duration": 0,
    "start_time": "2024-07-31T14:43:48.270Z"
   },
   {
    "duration": 0,
    "start_time": "2024-07-31T14:43:48.272Z"
   },
   {
    "duration": 0,
    "start_time": "2024-07-31T14:43:48.273Z"
   },
   {
    "duration": 0,
    "start_time": "2024-07-31T14:43:48.275Z"
   },
   {
    "duration": 0,
    "start_time": "2024-07-31T14:43:48.276Z"
   },
   {
    "duration": 0,
    "start_time": "2024-07-31T14:43:48.278Z"
   },
   {
    "duration": 0,
    "start_time": "2024-07-31T14:43:48.279Z"
   },
   {
    "duration": 0,
    "start_time": "2024-07-31T14:43:48.281Z"
   },
   {
    "duration": 0,
    "start_time": "2024-07-31T14:43:48.283Z"
   },
   {
    "duration": 0,
    "start_time": "2024-07-31T14:43:48.284Z"
   },
   {
    "duration": 0,
    "start_time": "2024-07-31T14:43:48.286Z"
   },
   {
    "duration": 0,
    "start_time": "2024-07-31T14:43:48.287Z"
   },
   {
    "duration": 0,
    "start_time": "2024-07-31T14:43:48.289Z"
   },
   {
    "duration": 0,
    "start_time": "2024-07-31T14:43:48.291Z"
   },
   {
    "duration": 0,
    "start_time": "2024-07-31T14:43:48.292Z"
   },
   {
    "duration": 0,
    "start_time": "2024-07-31T14:43:48.294Z"
   },
   {
    "duration": 0,
    "start_time": "2024-07-31T14:43:48.295Z"
   },
   {
    "duration": 0,
    "start_time": "2024-07-31T14:43:48.296Z"
   },
   {
    "duration": 0,
    "start_time": "2024-07-31T14:43:48.297Z"
   },
   {
    "duration": 0,
    "start_time": "2024-07-31T14:43:48.298Z"
   },
   {
    "duration": 0,
    "start_time": "2024-07-31T14:43:48.299Z"
   },
   {
    "duration": 0,
    "start_time": "2024-07-31T14:43:48.361Z"
   },
   {
    "duration": 0,
    "start_time": "2024-07-31T14:43:48.363Z"
   },
   {
    "duration": 0,
    "start_time": "2024-07-31T14:43:48.364Z"
   },
   {
    "duration": 0,
    "start_time": "2024-07-31T14:43:48.365Z"
   },
   {
    "duration": 0,
    "start_time": "2024-07-31T14:43:48.366Z"
   },
   {
    "duration": 0,
    "start_time": "2024-07-31T14:43:48.367Z"
   },
   {
    "duration": 0,
    "start_time": "2024-07-31T14:43:48.368Z"
   },
   {
    "duration": 30,
    "start_time": "2024-07-31T14:44:25.698Z"
   },
   {
    "duration": 3,
    "start_time": "2024-07-31T14:44:28.740Z"
   },
   {
    "duration": 65,
    "start_time": "2024-07-31T14:44:28.745Z"
   },
   {
    "duration": 20,
    "start_time": "2024-07-31T14:44:28.812Z"
   },
   {
    "duration": 18,
    "start_time": "2024-07-31T14:44:28.833Z"
   },
   {
    "duration": 25,
    "start_time": "2024-07-31T14:44:28.854Z"
   },
   {
    "duration": 10,
    "start_time": "2024-07-31T14:44:28.881Z"
   },
   {
    "duration": 12,
    "start_time": "2024-07-31T14:44:28.893Z"
   },
   {
    "duration": 4,
    "start_time": "2024-07-31T14:44:28.906Z"
   },
   {
    "duration": 18,
    "start_time": "2024-07-31T14:44:28.911Z"
   },
   {
    "duration": 31,
    "start_time": "2024-07-31T14:44:28.931Z"
   },
   {
    "duration": 51,
    "start_time": "2024-07-31T14:44:28.964Z"
   },
   {
    "duration": 17,
    "start_time": "2024-07-31T14:44:29.017Z"
   },
   {
    "duration": 20,
    "start_time": "2024-07-31T14:44:29.035Z"
   },
   {
    "duration": 34,
    "start_time": "2024-07-31T14:44:30.633Z"
   },
   {
    "duration": 307,
    "start_time": "2024-07-31T14:45:16.867Z"
   },
   {
    "duration": 26,
    "start_time": "2024-07-31T14:45:31.798Z"
   },
   {
    "duration": 3,
    "start_time": "2024-07-31T14:45:35.193Z"
   },
   {
    "duration": 71,
    "start_time": "2024-07-31T14:45:35.198Z"
   },
   {
    "duration": 19,
    "start_time": "2024-07-31T14:45:35.271Z"
   },
   {
    "duration": 23,
    "start_time": "2024-07-31T14:45:35.291Z"
   },
   {
    "duration": 15,
    "start_time": "2024-07-31T14:45:35.316Z"
   },
   {
    "duration": 16,
    "start_time": "2024-07-31T14:45:35.333Z"
   },
   {
    "duration": 24,
    "start_time": "2024-07-31T14:45:35.360Z"
   },
   {
    "duration": 13,
    "start_time": "2024-07-31T14:45:35.385Z"
   },
   {
    "duration": 19,
    "start_time": "2024-07-31T14:45:35.400Z"
   },
   {
    "duration": 6,
    "start_time": "2024-07-31T14:45:35.421Z"
   },
   {
    "duration": 44,
    "start_time": "2024-07-31T14:45:35.429Z"
   },
   {
    "duration": 21,
    "start_time": "2024-07-31T14:45:35.474Z"
   },
   {
    "duration": 68,
    "start_time": "2024-07-31T14:45:35.497Z"
   },
   {
    "duration": 42,
    "start_time": "2024-07-31T14:45:38.170Z"
   },
   {
    "duration": 27,
    "start_time": "2024-07-31T14:46:07.129Z"
   },
   {
    "duration": 3,
    "start_time": "2024-07-31T14:46:10.494Z"
   },
   {
    "duration": 77,
    "start_time": "2024-07-31T14:46:10.499Z"
   },
   {
    "duration": 25,
    "start_time": "2024-07-31T14:46:10.578Z"
   },
   {
    "duration": 14,
    "start_time": "2024-07-31T14:46:10.606Z"
   },
   {
    "duration": 22,
    "start_time": "2024-07-31T14:46:10.621Z"
   },
   {
    "duration": 24,
    "start_time": "2024-07-31T14:46:10.644Z"
   },
   {
    "duration": 10,
    "start_time": "2024-07-31T14:46:10.669Z"
   },
   {
    "duration": 6,
    "start_time": "2024-07-31T14:46:10.681Z"
   },
   {
    "duration": 34,
    "start_time": "2024-07-31T14:46:10.689Z"
   },
   {
    "duration": 25,
    "start_time": "2024-07-31T14:46:10.725Z"
   },
   {
    "duration": 18,
    "start_time": "2024-07-31T14:46:10.752Z"
   },
   {
    "duration": 15,
    "start_time": "2024-07-31T14:46:10.771Z"
   },
   {
    "duration": 20,
    "start_time": "2024-07-31T14:46:10.787Z"
   },
   {
    "duration": 35,
    "start_time": "2024-07-31T14:46:12.048Z"
   },
   {
    "duration": 32,
    "start_time": "2024-07-31T14:48:32.938Z"
   },
   {
    "duration": 22,
    "start_time": "2024-07-31T14:49:05.182Z"
   },
   {
    "duration": 27,
    "start_time": "2024-07-31T14:49:46.773Z"
   },
   {
    "duration": 24,
    "start_time": "2024-07-31T14:49:53.366Z"
   },
   {
    "duration": 29,
    "start_time": "2024-07-31T14:49:54.358Z"
   },
   {
    "duration": 1172,
    "start_time": "2024-07-31T14:50:02.667Z"
   },
   {
    "duration": 58,
    "start_time": "2024-07-31T14:50:03.841Z"
   },
   {
    "duration": 26,
    "start_time": "2024-07-31T14:50:03.901Z"
   },
   {
    "duration": 32,
    "start_time": "2024-07-31T14:50:03.929Z"
   },
   {
    "duration": 22,
    "start_time": "2024-07-31T14:50:03.964Z"
   },
   {
    "duration": 11,
    "start_time": "2024-07-31T14:50:03.987Z"
   },
   {
    "duration": 24,
    "start_time": "2024-07-31T14:50:04.000Z"
   },
   {
    "duration": 9,
    "start_time": "2024-07-31T14:50:04.026Z"
   },
   {
    "duration": 24,
    "start_time": "2024-07-31T14:50:04.037Z"
   },
   {
    "duration": 7,
    "start_time": "2024-07-31T14:50:04.063Z"
   },
   {
    "duration": 21,
    "start_time": "2024-07-31T14:50:04.072Z"
   },
   {
    "duration": 24,
    "start_time": "2024-07-31T14:50:04.095Z"
   },
   {
    "duration": 40,
    "start_time": "2024-07-31T14:50:04.121Z"
   },
   {
    "duration": 26,
    "start_time": "2024-07-31T14:50:04.164Z"
   },
   {
    "duration": 29,
    "start_time": "2024-07-31T14:50:04.192Z"
   },
   {
    "duration": 3,
    "start_time": "2024-07-31T14:50:04.223Z"
   },
   {
    "duration": 144,
    "start_time": "2024-07-31T14:50:04.227Z"
   },
   {
    "duration": 226,
    "start_time": "2024-07-31T14:50:04.373Z"
   },
   {
    "duration": 7,
    "start_time": "2024-07-31T14:50:04.601Z"
   },
   {
    "duration": 365,
    "start_time": "2024-07-31T14:50:04.610Z"
   },
   {
    "duration": 218,
    "start_time": "2024-07-31T14:50:04.977Z"
   },
   {
    "duration": 215,
    "start_time": "2024-07-31T14:50:05.196Z"
   },
   {
    "duration": 206,
    "start_time": "2024-07-31T14:50:05.413Z"
   },
   {
    "duration": 198,
    "start_time": "2024-07-31T14:50:05.620Z"
   },
   {
    "duration": 27,
    "start_time": "2024-07-31T14:50:05.820Z"
   },
   {
    "duration": 6,
    "start_time": "2024-07-31T14:50:05.860Z"
   },
   {
    "duration": 137,
    "start_time": "2024-07-31T14:50:05.868Z"
   },
   {
    "duration": 170,
    "start_time": "2024-07-31T14:50:06.006Z"
   },
   {
    "duration": 236,
    "start_time": "2024-07-31T14:50:06.178Z"
   },
   {
    "duration": 13,
    "start_time": "2024-07-31T14:50:06.416Z"
   },
   {
    "duration": 26,
    "start_time": "2024-07-31T14:50:06.431Z"
   },
   {
    "duration": 134,
    "start_time": "2024-07-31T14:50:06.460Z"
   },
   {
    "duration": 21,
    "start_time": "2024-07-31T14:50:06.596Z"
   },
   {
    "duration": 202,
    "start_time": "2024-07-31T14:50:06.618Z"
   },
   {
    "duration": 372,
    "start_time": "2024-07-31T14:50:06.822Z"
   },
   {
    "duration": 1098,
    "start_time": "2024-07-31T14:50:07.196Z"
   },
   {
    "duration": 1057,
    "start_time": "2024-07-31T14:50:08.296Z"
   },
   {
    "duration": 811,
    "start_time": "2024-07-31T14:50:09.355Z"
   },
   {
    "duration": 228,
    "start_time": "2024-07-31T14:50:10.168Z"
   },
   {
    "duration": 299,
    "start_time": "2024-07-31T14:50:10.398Z"
   },
   {
    "duration": 201,
    "start_time": "2024-07-31T14:50:10.700Z"
   },
   {
    "duration": 16,
    "start_time": "2024-07-31T14:50:10.902Z"
   },
   {
    "duration": 13,
    "start_time": "2024-07-31T14:50:10.920Z"
   },
   {
    "duration": 34,
    "start_time": "2024-07-31T14:50:10.935Z"
   },
   {
    "duration": 10,
    "start_time": "2024-07-31T14:50:10.971Z"
   },
   {
    "duration": 7,
    "start_time": "2024-07-31T14:50:10.983Z"
   },
   {
    "duration": 14,
    "start_time": "2024-07-31T14:50:10.992Z"
   },
   {
    "duration": 10,
    "start_time": "2024-07-31T14:50:11.008Z"
   },
   {
    "duration": 6,
    "start_time": "2024-07-31T14:50:11.020Z"
   },
   {
    "duration": 20,
    "start_time": "2024-07-31T14:51:06.984Z"
   },
   {
    "duration": 1165,
    "start_time": "2024-07-31T14:51:13.372Z"
   },
   {
    "duration": 67,
    "start_time": "2024-07-31T14:51:14.540Z"
   },
   {
    "duration": 35,
    "start_time": "2024-07-31T14:51:14.609Z"
   },
   {
    "duration": 26,
    "start_time": "2024-07-31T14:51:14.647Z"
   },
   {
    "duration": 16,
    "start_time": "2024-07-31T14:51:14.676Z"
   },
   {
    "duration": 12,
    "start_time": "2024-07-31T14:51:14.694Z"
   },
   {
    "duration": 11,
    "start_time": "2024-07-31T14:51:14.708Z"
   },
   {
    "duration": 4,
    "start_time": "2024-07-31T14:51:14.721Z"
   },
   {
    "duration": 47,
    "start_time": "2024-07-31T14:51:14.726Z"
   },
   {
    "duration": 7,
    "start_time": "2024-07-31T14:51:14.775Z"
   },
   {
    "duration": 16,
    "start_time": "2024-07-31T14:51:14.784Z"
   },
   {
    "duration": 16,
    "start_time": "2024-07-31T14:51:14.801Z"
   },
   {
    "duration": 55,
    "start_time": "2024-07-31T14:51:14.818Z"
   },
   {
    "duration": 24,
    "start_time": "2024-07-31T14:51:14.876Z"
   },
   {
    "duration": 25,
    "start_time": "2024-07-31T14:51:14.902Z"
   },
   {
    "duration": 2,
    "start_time": "2024-07-31T14:51:14.929Z"
   },
   {
    "duration": 133,
    "start_time": "2024-07-31T14:51:14.932Z"
   },
   {
    "duration": 313,
    "start_time": "2024-07-31T14:51:15.066Z"
   },
   {
    "duration": 7,
    "start_time": "2024-07-31T14:51:15.380Z"
   },
   {
    "duration": 685,
    "start_time": "2024-07-31T14:51:15.388Z"
   },
   {
    "duration": 415,
    "start_time": "2024-07-31T14:51:16.075Z"
   },
   {
    "duration": 340,
    "start_time": "2024-07-31T14:51:16.491Z"
   },
   {
    "duration": 194,
    "start_time": "2024-07-31T14:51:16.832Z"
   },
   {
    "duration": 186,
    "start_time": "2024-07-31T14:51:17.027Z"
   },
   {
    "duration": 26,
    "start_time": "2024-07-31T14:51:17.214Z"
   },
   {
    "duration": 23,
    "start_time": "2024-07-31T14:51:17.242Z"
   },
   {
    "duration": 123,
    "start_time": "2024-07-31T14:51:17.267Z"
   },
   {
    "duration": 151,
    "start_time": "2024-07-31T14:51:17.392Z"
   },
   {
    "duration": 235,
    "start_time": "2024-07-31T14:51:17.545Z"
   },
   {
    "duration": 10,
    "start_time": "2024-07-31T14:51:17.782Z"
   },
   {
    "duration": 9,
    "start_time": "2024-07-31T14:51:17.794Z"
   },
   {
    "duration": 156,
    "start_time": "2024-07-31T14:51:17.805Z"
   },
   {
    "duration": 21,
    "start_time": "2024-07-31T14:51:17.962Z"
   },
   {
    "duration": 189,
    "start_time": "2024-07-31T14:51:17.985Z"
   },
   {
    "duration": 391,
    "start_time": "2024-07-31T14:51:18.175Z"
   },
   {
    "duration": 702,
    "start_time": "2024-07-31T14:51:18.568Z"
   },
   {
    "duration": 756,
    "start_time": "2024-07-31T14:51:19.272Z"
   },
   {
    "duration": 766,
    "start_time": "2024-07-31T14:51:20.030Z"
   },
   {
    "duration": 211,
    "start_time": "2024-07-31T14:51:20.798Z"
   },
   {
    "duration": 264,
    "start_time": "2024-07-31T14:51:21.011Z"
   },
   {
    "duration": 197,
    "start_time": "2024-07-31T14:51:21.278Z"
   },
   {
    "duration": 15,
    "start_time": "2024-07-31T14:51:21.476Z"
   },
   {
    "duration": 14,
    "start_time": "2024-07-31T14:51:21.493Z"
   },
   {
    "duration": 65,
    "start_time": "2024-07-31T14:51:21.508Z"
   },
   {
    "duration": 12,
    "start_time": "2024-07-31T14:51:21.575Z"
   },
   {
    "duration": 9,
    "start_time": "2024-07-31T14:51:21.589Z"
   },
   {
    "duration": 8,
    "start_time": "2024-07-31T14:51:21.599Z"
   },
   {
    "duration": 10,
    "start_time": "2024-07-31T14:51:21.609Z"
   },
   {
    "duration": 40,
    "start_time": "2024-07-31T14:51:21.621Z"
   },
   {
    "duration": 14,
    "start_time": "2024-07-31T14:52:17.387Z"
   },
   {
    "duration": 19,
    "start_time": "2024-07-31T14:52:39.803Z"
   },
   {
    "duration": 22,
    "start_time": "2024-07-31T14:54:33.135Z"
   },
   {
    "duration": 30,
    "start_time": "2024-07-31T14:54:36.109Z"
   },
   {
    "duration": 1203,
    "start_time": "2024-07-31T14:54:45.328Z"
   },
   {
    "duration": 56,
    "start_time": "2024-07-31T14:54:46.533Z"
   },
   {
    "duration": 27,
    "start_time": "2024-07-31T14:54:46.591Z"
   },
   {
    "duration": 16,
    "start_time": "2024-07-31T14:54:46.619Z"
   },
   {
    "duration": 39,
    "start_time": "2024-07-31T14:54:46.638Z"
   },
   {
    "duration": 12,
    "start_time": "2024-07-31T14:54:46.679Z"
   },
   {
    "duration": 21,
    "start_time": "2024-07-31T14:54:46.692Z"
   },
   {
    "duration": 14,
    "start_time": "2024-07-31T14:54:46.714Z"
   },
   {
    "duration": 31,
    "start_time": "2024-07-31T14:54:46.730Z"
   },
   {
    "duration": 7,
    "start_time": "2024-07-31T14:54:46.763Z"
   },
   {
    "duration": 17,
    "start_time": "2024-07-31T14:54:46.771Z"
   },
   {
    "duration": 17,
    "start_time": "2024-07-31T14:54:46.790Z"
   },
   {
    "duration": 19,
    "start_time": "2024-07-31T14:54:46.808Z"
   },
   {
    "duration": 54,
    "start_time": "2024-07-31T14:54:46.830Z"
   },
   {
    "duration": 28,
    "start_time": "2024-07-31T14:54:46.885Z"
   },
   {
    "duration": 19,
    "start_time": "2024-07-31T14:54:46.914Z"
   },
   {
    "duration": 118,
    "start_time": "2024-07-31T14:54:46.962Z"
   },
   {
    "duration": 315,
    "start_time": "2024-07-31T14:54:47.081Z"
   },
   {
    "duration": 7,
    "start_time": "2024-07-31T14:54:47.397Z"
   },
   {
    "duration": 697,
    "start_time": "2024-07-31T14:54:47.406Z"
   },
   {
    "duration": 398,
    "start_time": "2024-07-31T14:54:48.104Z"
   },
   {
    "duration": 314,
    "start_time": "2024-07-31T14:54:48.504Z"
   },
   {
    "duration": 194,
    "start_time": "2024-07-31T14:54:48.819Z"
   },
   {
    "duration": 192,
    "start_time": "2024-07-31T14:54:49.015Z"
   },
   {
    "duration": 26,
    "start_time": "2024-07-31T14:54:49.209Z"
   },
   {
    "duration": 24,
    "start_time": "2024-07-31T14:54:49.237Z"
   },
   {
    "duration": 120,
    "start_time": "2024-07-31T14:54:49.263Z"
   },
   {
    "duration": 165,
    "start_time": "2024-07-31T14:54:49.385Z"
   },
   {
    "duration": 258,
    "start_time": "2024-07-31T14:54:49.552Z"
   },
   {
    "duration": 11,
    "start_time": "2024-07-31T14:54:49.812Z"
   },
   {
    "duration": 14,
    "start_time": "2024-07-31T14:54:49.825Z"
   },
   {
    "duration": 149,
    "start_time": "2024-07-31T14:54:49.841Z"
   },
   {
    "duration": 21,
    "start_time": "2024-07-31T14:54:49.992Z"
   },
   {
    "duration": 187,
    "start_time": "2024-07-31T14:54:50.015Z"
   },
   {
    "duration": 370,
    "start_time": "2024-07-31T14:54:50.204Z"
   },
   {
    "duration": 758,
    "start_time": "2024-07-31T14:54:50.576Z"
   },
   {
    "duration": 688,
    "start_time": "2024-07-31T14:54:51.336Z"
   },
   {
    "duration": 776,
    "start_time": "2024-07-31T14:54:52.026Z"
   },
   {
    "duration": 229,
    "start_time": "2024-07-31T14:54:52.805Z"
   },
   {
    "duration": 307,
    "start_time": "2024-07-31T14:54:53.036Z"
   },
   {
    "duration": 198,
    "start_time": "2024-07-31T14:54:53.347Z"
   },
   {
    "duration": 23,
    "start_time": "2024-07-31T14:54:53.546Z"
   },
   {
    "duration": 33,
    "start_time": "2024-07-31T14:54:53.571Z"
   },
   {
    "duration": 16,
    "start_time": "2024-07-31T14:54:53.605Z"
   },
   {
    "duration": 12,
    "start_time": "2024-07-31T14:54:53.623Z"
   },
   {
    "duration": 25,
    "start_time": "2024-07-31T14:54:53.637Z"
   },
   {
    "duration": 8,
    "start_time": "2024-07-31T14:54:53.664Z"
   },
   {
    "duration": 46,
    "start_time": "2024-07-31T14:54:53.673Z"
   },
   {
    "duration": 11,
    "start_time": "2024-07-31T14:54:53.721Z"
   },
   {
    "duration": 143,
    "start_time": "2024-07-31T14:56:35.460Z"
   },
   {
    "duration": 28,
    "start_time": "2024-07-31T14:56:40.603Z"
   },
   {
    "duration": 32,
    "start_time": "2024-07-31T14:56:42.536Z"
   },
   {
    "duration": 33,
    "start_time": "2024-07-31T14:56:53.342Z"
   },
   {
    "duration": 31,
    "start_time": "2024-07-31T14:57:01.744Z"
   },
   {
    "duration": 1146,
    "start_time": "2024-07-31T14:57:07.893Z"
   },
   {
    "duration": 55,
    "start_time": "2024-07-31T14:57:09.041Z"
   },
   {
    "duration": 25,
    "start_time": "2024-07-31T14:57:09.098Z"
   },
   {
    "duration": 15,
    "start_time": "2024-07-31T14:57:09.125Z"
   },
   {
    "duration": 28,
    "start_time": "2024-07-31T14:57:09.141Z"
   },
   {
    "duration": 11,
    "start_time": "2024-07-31T14:57:09.171Z"
   },
   {
    "duration": 14,
    "start_time": "2024-07-31T14:57:09.184Z"
   },
   {
    "duration": 11,
    "start_time": "2024-07-31T14:57:09.199Z"
   },
   {
    "duration": 20,
    "start_time": "2024-07-31T14:57:09.211Z"
   },
   {
    "duration": 31,
    "start_time": "2024-07-31T14:57:09.234Z"
   },
   {
    "duration": 16,
    "start_time": "2024-07-31T14:57:09.267Z"
   },
   {
    "duration": 16,
    "start_time": "2024-07-31T14:57:09.285Z"
   },
   {
    "duration": 21,
    "start_time": "2024-07-31T14:57:09.303Z"
   },
   {
    "duration": 69,
    "start_time": "2024-07-31T14:57:09.326Z"
   },
   {
    "duration": 28,
    "start_time": "2024-07-31T14:57:09.397Z"
   },
   {
    "duration": 39,
    "start_time": "2024-07-31T14:57:09.427Z"
   },
   {
    "duration": 136,
    "start_time": "2024-07-31T14:57:09.468Z"
   },
   {
    "duration": 446,
    "start_time": "2024-07-31T14:57:09.661Z"
   },
   {
    "duration": 10,
    "start_time": "2024-07-31T14:57:10.160Z"
   },
   {
    "duration": 707,
    "start_time": "2024-07-31T14:57:10.172Z"
   },
   {
    "duration": 333,
    "start_time": "2024-07-31T14:57:10.880Z"
   },
   {
    "duration": 206,
    "start_time": "2024-07-31T14:57:11.215Z"
   },
   {
    "duration": 204,
    "start_time": "2024-07-31T14:57:11.422Z"
   },
   {
    "duration": 216,
    "start_time": "2024-07-31T14:57:11.634Z"
   },
   {
    "duration": 33,
    "start_time": "2024-07-31T14:57:11.853Z"
   },
   {
    "duration": 16,
    "start_time": "2024-07-31T14:57:11.888Z"
   },
   {
    "duration": 134,
    "start_time": "2024-07-31T14:57:11.906Z"
   },
   {
    "duration": 160,
    "start_time": "2024-07-31T14:57:12.045Z"
   },
   {
    "duration": 241,
    "start_time": "2024-07-31T14:57:12.207Z"
   },
   {
    "duration": 22,
    "start_time": "2024-07-31T14:57:12.450Z"
   },
   {
    "duration": 15,
    "start_time": "2024-07-31T14:57:12.474Z"
   },
   {
    "duration": 148,
    "start_time": "2024-07-31T14:57:12.491Z"
   },
   {
    "duration": 29,
    "start_time": "2024-07-31T14:57:12.641Z"
   },
   {
    "duration": 187,
    "start_time": "2024-07-31T14:57:12.671Z"
   },
   {
    "duration": 368,
    "start_time": "2024-07-31T14:57:12.860Z"
   },
   {
    "duration": 749,
    "start_time": "2024-07-31T14:57:13.229Z"
   },
   {
    "duration": 680,
    "start_time": "2024-07-31T14:57:13.981Z"
   },
   {
    "duration": 737,
    "start_time": "2024-07-31T14:57:14.662Z"
   },
   {
    "duration": 212,
    "start_time": "2024-07-31T14:57:15.400Z"
   },
   {
    "duration": 291,
    "start_time": "2024-07-31T14:57:15.614Z"
   },
   {
    "duration": 259,
    "start_time": "2024-07-31T14:57:15.907Z"
   },
   {
    "duration": 15,
    "start_time": "2024-07-31T14:57:16.168Z"
   },
   {
    "duration": 15,
    "start_time": "2024-07-31T14:57:16.185Z"
   },
   {
    "duration": 16,
    "start_time": "2024-07-31T14:57:16.201Z"
   },
   {
    "duration": 46,
    "start_time": "2024-07-31T14:57:16.218Z"
   },
   {
    "duration": 7,
    "start_time": "2024-07-31T14:57:16.266Z"
   },
   {
    "duration": 11,
    "start_time": "2024-07-31T14:57:16.275Z"
   },
   {
    "duration": 8,
    "start_time": "2024-07-31T14:57:16.287Z"
   },
   {
    "duration": 14,
    "start_time": "2024-07-31T14:57:16.296Z"
   },
   {
    "duration": 27,
    "start_time": "2024-07-31T15:00:32.785Z"
   },
   {
    "duration": 30,
    "start_time": "2024-07-31T15:00:39.922Z"
   },
   {
    "duration": 26,
    "start_time": "2024-07-31T15:00:53.632Z"
   },
   {
    "duration": 1191,
    "start_time": "2024-07-31T15:01:00.950Z"
   },
   {
    "duration": 56,
    "start_time": "2024-07-31T15:01:02.143Z"
   },
   {
    "duration": 31,
    "start_time": "2024-07-31T15:01:02.201Z"
   },
   {
    "duration": 33,
    "start_time": "2024-07-31T15:01:02.233Z"
   },
   {
    "duration": 58,
    "start_time": "2024-07-31T15:01:02.267Z"
   },
   {
    "duration": 22,
    "start_time": "2024-07-31T15:01:02.327Z"
   },
   {
    "duration": 30,
    "start_time": "2024-07-31T15:01:02.351Z"
   },
   {
    "duration": 23,
    "start_time": "2024-07-31T15:01:02.383Z"
   },
   {
    "duration": 24,
    "start_time": "2024-07-31T15:01:02.408Z"
   },
   {
    "duration": 9,
    "start_time": "2024-07-31T15:01:02.434Z"
   },
   {
    "duration": 39,
    "start_time": "2024-07-31T15:01:02.445Z"
   },
   {
    "duration": 26,
    "start_time": "2024-07-31T15:01:02.486Z"
   },
   {
    "duration": 21,
    "start_time": "2024-07-31T15:01:02.514Z"
   },
   {
    "duration": 42,
    "start_time": "2024-07-31T15:01:02.537Z"
   },
   {
    "duration": 27,
    "start_time": "2024-07-31T15:01:02.581Z"
   },
   {
    "duration": 17,
    "start_time": "2024-07-31T15:01:02.610Z"
   },
   {
    "duration": 143,
    "start_time": "2024-07-31T15:01:02.629Z"
   },
   {
    "duration": 252,
    "start_time": "2024-07-31T15:01:02.774Z"
   },
   {
    "duration": 8,
    "start_time": "2024-07-31T15:01:03.027Z"
   },
   {
    "duration": 318,
    "start_time": "2024-07-31T15:01:03.036Z"
   },
   {
    "duration": 191,
    "start_time": "2024-07-31T15:01:03.356Z"
   },
   {
    "duration": 198,
    "start_time": "2024-07-31T15:01:03.548Z"
   },
   {
    "duration": 200,
    "start_time": "2024-07-31T15:01:03.748Z"
   },
   {
    "duration": 226,
    "start_time": "2024-07-31T15:01:03.950Z"
   },
   {
    "duration": 37,
    "start_time": "2024-07-31T15:01:04.178Z"
   },
   {
    "duration": 6,
    "start_time": "2024-07-31T15:01:04.217Z"
   },
   {
    "duration": 135,
    "start_time": "2024-07-31T15:01:04.224Z"
   },
   {
    "duration": 142,
    "start_time": "2024-07-31T15:01:04.362Z"
   },
   {
    "duration": 231,
    "start_time": "2024-07-31T15:01:04.505Z"
   },
   {
    "duration": 10,
    "start_time": "2024-07-31T15:01:04.738Z"
   },
   {
    "duration": 17,
    "start_time": "2024-07-31T15:01:04.760Z"
   },
   {
    "duration": 142,
    "start_time": "2024-07-31T15:01:04.781Z"
   },
   {
    "duration": 21,
    "start_time": "2024-07-31T15:01:04.925Z"
   },
   {
    "duration": 189,
    "start_time": "2024-07-31T15:01:04.947Z"
   },
   {
    "duration": 362,
    "start_time": "2024-07-31T15:01:05.138Z"
   },
   {
    "duration": 696,
    "start_time": "2024-07-31T15:01:05.502Z"
   },
   {
    "duration": 670,
    "start_time": "2024-07-31T15:01:06.200Z"
   },
   {
    "duration": 727,
    "start_time": "2024-07-31T15:01:06.872Z"
   },
   {
    "duration": 211,
    "start_time": "2024-07-31T15:01:07.601Z"
   },
   {
    "duration": 294,
    "start_time": "2024-07-31T15:01:07.813Z"
   },
   {
    "duration": 196,
    "start_time": "2024-07-31T15:01:08.109Z"
   },
   {
    "duration": 19,
    "start_time": "2024-07-31T15:01:08.307Z"
   },
   {
    "duration": 24,
    "start_time": "2024-07-31T15:01:08.333Z"
   },
   {
    "duration": 24,
    "start_time": "2024-07-31T15:01:08.361Z"
   },
   {
    "duration": 13,
    "start_time": "2024-07-31T15:01:08.387Z"
   },
   {
    "duration": 19,
    "start_time": "2024-07-31T15:01:08.402Z"
   },
   {
    "duration": 15,
    "start_time": "2024-07-31T15:01:08.423Z"
   },
   {
    "duration": 47,
    "start_time": "2024-07-31T15:01:08.440Z"
   },
   {
    "duration": 34,
    "start_time": "2024-07-31T15:01:08.489Z"
   },
   {
    "duration": 33,
    "start_time": "2024-07-31T15:02:50.256Z"
   },
   {
    "duration": 1132,
    "start_time": "2024-07-31T15:02:58.825Z"
   },
   {
    "duration": 57,
    "start_time": "2024-07-31T15:02:59.959Z"
   },
   {
    "duration": 26,
    "start_time": "2024-07-31T15:03:00.018Z"
   },
   {
    "duration": 83,
    "start_time": "2024-07-31T15:03:00.046Z"
   },
   {
    "duration": 75,
    "start_time": "2024-07-31T15:03:00.131Z"
   },
   {
    "duration": 64,
    "start_time": "2024-07-31T15:03:00.208Z"
   },
   {
    "duration": 114,
    "start_time": "2024-07-31T15:03:00.274Z"
   },
   {
    "duration": 72,
    "start_time": "2024-07-31T15:03:00.390Z"
   },
   {
    "duration": 97,
    "start_time": "2024-07-31T15:03:00.464Z"
   },
   {
    "duration": 25,
    "start_time": "2024-07-31T15:03:00.565Z"
   },
   {
    "duration": 174,
    "start_time": "2024-07-31T15:03:00.592Z"
   },
   {
    "duration": 166,
    "start_time": "2024-07-31T15:03:00.768Z"
   },
   {
    "duration": 39,
    "start_time": "2024-07-31T15:03:00.962Z"
   },
   {
    "duration": 225,
    "start_time": "2024-07-31T15:03:01.002Z"
   },
   {
    "duration": 0,
    "start_time": "2024-07-31T15:03:01.230Z"
   },
   {
    "duration": 0,
    "start_time": "2024-07-31T15:03:01.231Z"
   },
   {
    "duration": 0,
    "start_time": "2024-07-31T15:03:01.232Z"
   },
   {
    "duration": 0,
    "start_time": "2024-07-31T15:03:01.233Z"
   },
   {
    "duration": 0,
    "start_time": "2024-07-31T15:03:01.234Z"
   },
   {
    "duration": 0,
    "start_time": "2024-07-31T15:03:01.235Z"
   },
   {
    "duration": 0,
    "start_time": "2024-07-31T15:03:01.236Z"
   },
   {
    "duration": 0,
    "start_time": "2024-07-31T15:03:01.237Z"
   },
   {
    "duration": 0,
    "start_time": "2024-07-31T15:03:01.238Z"
   },
   {
    "duration": 0,
    "start_time": "2024-07-31T15:03:01.239Z"
   },
   {
    "duration": 0,
    "start_time": "2024-07-31T15:03:01.240Z"
   },
   {
    "duration": 0,
    "start_time": "2024-07-31T15:03:01.241Z"
   },
   {
    "duration": 0,
    "start_time": "2024-07-31T15:03:01.260Z"
   },
   {
    "duration": 0,
    "start_time": "2024-07-31T15:03:01.262Z"
   },
   {
    "duration": 0,
    "start_time": "2024-07-31T15:03:01.264Z"
   },
   {
    "duration": 0,
    "start_time": "2024-07-31T15:03:01.264Z"
   },
   {
    "duration": 0,
    "start_time": "2024-07-31T15:03:01.265Z"
   },
   {
    "duration": 0,
    "start_time": "2024-07-31T15:03:01.266Z"
   },
   {
    "duration": 0,
    "start_time": "2024-07-31T15:03:01.267Z"
   },
   {
    "duration": 0,
    "start_time": "2024-07-31T15:03:01.268Z"
   },
   {
    "duration": 0,
    "start_time": "2024-07-31T15:03:01.269Z"
   },
   {
    "duration": 0,
    "start_time": "2024-07-31T15:03:01.270Z"
   },
   {
    "duration": 0,
    "start_time": "2024-07-31T15:03:01.271Z"
   },
   {
    "duration": 0,
    "start_time": "2024-07-31T15:03:01.272Z"
   },
   {
    "duration": 0,
    "start_time": "2024-07-31T15:03:01.273Z"
   },
   {
    "duration": 0,
    "start_time": "2024-07-31T15:03:01.274Z"
   },
   {
    "duration": 0,
    "start_time": "2024-07-31T15:03:01.275Z"
   },
   {
    "duration": 0,
    "start_time": "2024-07-31T15:03:01.276Z"
   },
   {
    "duration": 0,
    "start_time": "2024-07-31T15:03:01.277Z"
   },
   {
    "duration": 0,
    "start_time": "2024-07-31T15:03:01.278Z"
   },
   {
    "duration": 0,
    "start_time": "2024-07-31T15:03:01.279Z"
   },
   {
    "duration": 0,
    "start_time": "2024-07-31T15:03:01.280Z"
   },
   {
    "duration": 0,
    "start_time": "2024-07-31T15:03:01.281Z"
   },
   {
    "duration": 0,
    "start_time": "2024-07-31T15:03:01.282Z"
   },
   {
    "duration": 0,
    "start_time": "2024-07-31T15:03:01.283Z"
   },
   {
    "duration": 36,
    "start_time": "2024-07-31T15:03:22.801Z"
   },
   {
    "duration": 52,
    "start_time": "2024-07-31T15:05:18.126Z"
   },
   {
    "duration": 1204,
    "start_time": "2024-07-31T15:05:23.370Z"
   },
   {
    "duration": 94,
    "start_time": "2024-07-31T15:05:24.575Z"
   },
   {
    "duration": 25,
    "start_time": "2024-07-31T15:05:24.671Z"
   },
   {
    "duration": 68,
    "start_time": "2024-07-31T15:05:24.698Z"
   },
   {
    "duration": 15,
    "start_time": "2024-07-31T15:05:24.769Z"
   },
   {
    "duration": 11,
    "start_time": "2024-07-31T15:05:24.786Z"
   },
   {
    "duration": 69,
    "start_time": "2024-07-31T15:05:24.798Z"
   },
   {
    "duration": 14,
    "start_time": "2024-07-31T15:05:24.869Z"
   },
   {
    "duration": 15,
    "start_time": "2024-07-31T15:05:24.884Z"
   },
   {
    "duration": 61,
    "start_time": "2024-07-31T15:05:24.901Z"
   },
   {
    "duration": 17,
    "start_time": "2024-07-31T15:05:24.964Z"
   },
   {
    "duration": 24,
    "start_time": "2024-07-31T15:05:24.983Z"
   },
   {
    "duration": 68,
    "start_time": "2024-07-31T15:05:25.008Z"
   },
   {
    "duration": 98,
    "start_time": "2024-07-31T15:05:25.079Z"
   },
   {
    "duration": 82,
    "start_time": "2024-07-31T15:05:25.179Z"
   },
   {
    "duration": 19,
    "start_time": "2024-07-31T15:05:25.263Z"
   },
   {
    "duration": 222,
    "start_time": "2024-07-31T15:05:25.284Z"
   },
   {
    "duration": 439,
    "start_time": "2024-07-31T15:05:25.561Z"
   },
   {
    "duration": 60,
    "start_time": "2024-07-31T15:05:26.002Z"
   },
   {
    "duration": 385,
    "start_time": "2024-07-31T15:05:26.063Z"
   },
   {
    "duration": 210,
    "start_time": "2024-07-31T15:05:26.450Z"
   },
   {
    "duration": 205,
    "start_time": "2024-07-31T15:05:26.662Z"
   },
   {
    "duration": 204,
    "start_time": "2024-07-31T15:05:26.869Z"
   },
   {
    "duration": 208,
    "start_time": "2024-07-31T15:05:27.075Z"
   },
   {
    "duration": 28,
    "start_time": "2024-07-31T15:05:27.285Z"
   },
   {
    "duration": 7,
    "start_time": "2024-07-31T15:05:27.314Z"
   },
   {
    "duration": 141,
    "start_time": "2024-07-31T15:05:27.322Z"
   },
   {
    "duration": 171,
    "start_time": "2024-07-31T15:05:27.464Z"
   },
   {
    "duration": 240,
    "start_time": "2024-07-31T15:05:27.637Z"
   },
   {
    "duration": 13,
    "start_time": "2024-07-31T15:05:27.878Z"
   },
   {
    "duration": 11,
    "start_time": "2024-07-31T15:05:27.893Z"
   },
   {
    "duration": 177,
    "start_time": "2024-07-31T15:05:27.905Z"
   },
   {
    "duration": 21,
    "start_time": "2024-07-31T15:05:28.084Z"
   },
   {
    "duration": 195,
    "start_time": "2024-07-31T15:05:28.107Z"
   },
   {
    "duration": 377,
    "start_time": "2024-07-31T15:05:28.304Z"
   },
   {
    "duration": 735,
    "start_time": "2024-07-31T15:05:28.683Z"
   },
   {
    "duration": 694,
    "start_time": "2024-07-31T15:05:29.420Z"
   },
   {
    "duration": 770,
    "start_time": "2024-07-31T15:05:30.116Z"
   },
   {
    "duration": 218,
    "start_time": "2024-07-31T15:05:30.888Z"
   },
   {
    "duration": 295,
    "start_time": "2024-07-31T15:05:31.108Z"
   },
   {
    "duration": 200,
    "start_time": "2024-07-31T15:05:31.407Z"
   },
   {
    "duration": 15,
    "start_time": "2024-07-31T15:05:31.609Z"
   },
   {
    "duration": 51,
    "start_time": "2024-07-31T15:05:31.625Z"
   },
   {
    "duration": 28,
    "start_time": "2024-07-31T15:05:31.678Z"
   },
   {
    "duration": 50,
    "start_time": "2024-07-31T15:05:31.708Z"
   },
   {
    "duration": 26,
    "start_time": "2024-07-31T15:05:31.759Z"
   },
   {
    "duration": 48,
    "start_time": "2024-07-31T15:05:31.787Z"
   },
   {
    "duration": 84,
    "start_time": "2024-07-31T15:05:31.837Z"
   },
   {
    "duration": 35,
    "start_time": "2024-07-31T15:05:31.923Z"
   },
   {
    "duration": 10,
    "start_time": "2024-07-31T15:06:07.296Z"
   },
   {
    "duration": 11,
    "start_time": "2024-07-31T15:14:53.144Z"
   },
   {
    "duration": 8,
    "start_time": "2024-07-31T15:14:56.815Z"
   },
   {
    "duration": 13,
    "start_time": "2024-07-31T15:16:31.334Z"
   },
   {
    "duration": 10,
    "start_time": "2024-07-31T15:16:41.741Z"
   },
   {
    "duration": 131,
    "start_time": "2024-07-31T15:36:02.485Z"
   },
   {
    "duration": 31,
    "start_time": "2024-07-31T15:36:28.369Z"
   },
   {
    "duration": 31,
    "start_time": "2024-07-31T15:36:33.840Z"
   },
   {
    "duration": 30,
    "start_time": "2024-07-31T15:36:41.165Z"
   },
   {
    "duration": 1841,
    "start_time": "2024-07-31T15:39:09.828Z"
   },
   {
    "duration": 1727,
    "start_time": "2024-07-31T15:39:49.310Z"
   },
   {
    "duration": 22,
    "start_time": "2024-07-31T15:40:10.694Z"
   },
   {
    "duration": 32,
    "start_time": "2024-07-31T15:40:27.854Z"
   },
   {
    "duration": 118,
    "start_time": "2024-07-31T15:41:05.405Z"
   },
   {
    "duration": 29,
    "start_time": "2024-07-31T15:41:15.532Z"
   },
   {
    "duration": 28,
    "start_time": "2024-07-31T15:41:27.939Z"
   },
   {
    "duration": 11,
    "start_time": "2024-07-31T15:45:24.592Z"
   },
   {
    "duration": 13,
    "start_time": "2024-07-31T15:45:41.275Z"
   },
   {
    "duration": 10,
    "start_time": "2024-07-31T15:45:48.697Z"
   },
   {
    "duration": 11,
    "start_time": "2024-07-31T15:45:56.031Z"
   },
   {
    "duration": 47,
    "start_time": "2024-07-31T17:54:00.411Z"
   },
   {
    "duration": 8,
    "start_time": "2024-07-31T17:54:20.519Z"
   },
   {
    "duration": 1238,
    "start_time": "2024-07-31T17:54:27.222Z"
   },
   {
    "duration": 170,
    "start_time": "2024-07-31T17:54:28.462Z"
   },
   {
    "duration": 23,
    "start_time": "2024-07-31T17:54:28.633Z"
   },
   {
    "duration": 13,
    "start_time": "2024-07-31T17:54:28.657Z"
   },
   {
    "duration": 13,
    "start_time": "2024-07-31T17:54:28.673Z"
   },
   {
    "duration": 9,
    "start_time": "2024-07-31T17:54:28.688Z"
   },
   {
    "duration": 18,
    "start_time": "2024-07-31T17:54:28.711Z"
   },
   {
    "duration": 6,
    "start_time": "2024-07-31T17:54:28.731Z"
   },
   {
    "duration": 12,
    "start_time": "2024-07-31T17:54:28.738Z"
   },
   {
    "duration": 11,
    "start_time": "2024-07-31T17:54:28.752Z"
   },
   {
    "duration": 49,
    "start_time": "2024-07-31T17:54:28.764Z"
   },
   {
    "duration": 20,
    "start_time": "2024-07-31T17:54:28.815Z"
   },
   {
    "duration": 24,
    "start_time": "2024-07-31T17:54:28.838Z"
   },
   {
    "duration": 54,
    "start_time": "2024-07-31T17:54:28.865Z"
   },
   {
    "duration": 34,
    "start_time": "2024-07-31T17:54:28.921Z"
   },
   {
    "duration": 228,
    "start_time": "2024-07-31T17:54:28.958Z"
   },
   {
    "duration": 0,
    "start_time": "2024-07-31T17:54:29.188Z"
   },
   {
    "duration": 0,
    "start_time": "2024-07-31T17:54:29.189Z"
   },
   {
    "duration": 0,
    "start_time": "2024-07-31T17:54:29.190Z"
   },
   {
    "duration": 0,
    "start_time": "2024-07-31T17:54:29.191Z"
   },
   {
    "duration": 0,
    "start_time": "2024-07-31T17:54:29.192Z"
   },
   {
    "duration": 0,
    "start_time": "2024-07-31T17:54:29.193Z"
   },
   {
    "duration": 0,
    "start_time": "2024-07-31T17:54:29.194Z"
   },
   {
    "duration": 0,
    "start_time": "2024-07-31T17:54:29.194Z"
   },
   {
    "duration": 0,
    "start_time": "2024-07-31T17:54:29.195Z"
   },
   {
    "duration": 0,
    "start_time": "2024-07-31T17:54:29.212Z"
   },
   {
    "duration": 0,
    "start_time": "2024-07-31T17:54:29.213Z"
   },
   {
    "duration": 0,
    "start_time": "2024-07-31T17:54:29.215Z"
   },
   {
    "duration": 0,
    "start_time": "2024-07-31T17:54:29.217Z"
   },
   {
    "duration": 0,
    "start_time": "2024-07-31T17:54:29.218Z"
   },
   {
    "duration": 0,
    "start_time": "2024-07-31T17:54:29.220Z"
   },
   {
    "duration": 0,
    "start_time": "2024-07-31T17:54:29.221Z"
   },
   {
    "duration": 0,
    "start_time": "2024-07-31T17:54:29.223Z"
   },
   {
    "duration": 0,
    "start_time": "2024-07-31T17:54:29.225Z"
   },
   {
    "duration": 1,
    "start_time": "2024-07-31T17:54:29.226Z"
   },
   {
    "duration": 0,
    "start_time": "2024-07-31T17:54:29.228Z"
   },
   {
    "duration": 0,
    "start_time": "2024-07-31T17:54:29.230Z"
   },
   {
    "duration": 0,
    "start_time": "2024-07-31T17:54:29.232Z"
   },
   {
    "duration": 0,
    "start_time": "2024-07-31T17:54:29.233Z"
   },
   {
    "duration": 0,
    "start_time": "2024-07-31T17:54:29.235Z"
   },
   {
    "duration": 0,
    "start_time": "2024-07-31T17:54:29.236Z"
   },
   {
    "duration": 1,
    "start_time": "2024-07-31T17:54:29.236Z"
   },
   {
    "duration": 0,
    "start_time": "2024-07-31T17:54:29.238Z"
   },
   {
    "duration": 0,
    "start_time": "2024-07-31T17:54:29.239Z"
   },
   {
    "duration": 0,
    "start_time": "2024-07-31T17:54:29.241Z"
   },
   {
    "duration": 0,
    "start_time": "2024-07-31T17:54:29.243Z"
   },
   {
    "duration": 0,
    "start_time": "2024-07-31T17:54:29.245Z"
   },
   {
    "duration": 0,
    "start_time": "2024-07-31T17:54:29.246Z"
   },
   {
    "duration": 0,
    "start_time": "2024-07-31T17:54:29.248Z"
   },
   {
    "duration": 29,
    "start_time": "2024-07-31T17:56:03.324Z"
   },
   {
    "duration": 83,
    "start_time": "2024-07-31T17:56:34.802Z"
   },
   {
    "duration": 91,
    "start_time": "2024-07-31T17:56:47.329Z"
   },
   {
    "duration": 77,
    "start_time": "2024-07-31T17:56:53.185Z"
   },
   {
    "duration": 377,
    "start_time": "2024-07-31T17:56:59.007Z"
   },
   {
    "duration": 1625,
    "start_time": "2024-07-31T17:57:06.827Z"
   },
   {
    "duration": 1491,
    "start_time": "2024-07-31T17:57:17.613Z"
   },
   {
    "duration": 80,
    "start_time": "2024-07-31T17:57:29.143Z"
   },
   {
    "duration": 76,
    "start_time": "2024-07-31T17:57:35.763Z"
   },
   {
    "duration": 59,
    "start_time": "2024-07-31T17:57:38.577Z"
   },
   {
    "duration": 56,
    "start_time": "2024-07-31T17:57:42.955Z"
   },
   {
    "duration": 18,
    "start_time": "2024-07-31T17:57:48.188Z"
   },
   {
    "duration": 59,
    "start_time": "2024-07-31T17:57:55.418Z"
   },
   {
    "duration": 67,
    "start_time": "2024-07-31T17:58:36.070Z"
   },
   {
    "duration": 4,
    "start_time": "2024-07-31T17:58:42.370Z"
   },
   {
    "duration": 4,
    "start_time": "2024-07-31T17:58:49.667Z"
   },
   {
    "duration": 72,
    "start_time": "2024-07-31T17:59:18.735Z"
   },
   {
    "duration": 8,
    "start_time": "2024-07-31T17:59:26.548Z"
   },
   {
    "duration": 8,
    "start_time": "2024-07-31T17:59:31.966Z"
   },
   {
    "duration": 60,
    "start_time": "2024-07-31T17:59:42.091Z"
   },
   {
    "duration": 55,
    "start_time": "2024-07-31T17:59:45.025Z"
   },
   {
    "duration": 9,
    "start_time": "2024-07-31T17:59:47.035Z"
   },
   {
    "duration": 3,
    "start_time": "2024-07-31T18:05:09.100Z"
   },
   {
    "duration": 25,
    "start_time": "2024-07-31T18:05:32.852Z"
   },
   {
    "duration": 4,
    "start_time": "2024-07-31T18:05:45.942Z"
   },
   {
    "duration": 61,
    "start_time": "2024-07-31T18:06:42.811Z"
   },
   {
    "duration": 42,
    "start_time": "2024-07-31T18:06:49.564Z"
   },
   {
    "duration": 885,
    "start_time": "2024-07-31T18:07:24.919Z"
   },
   {
    "duration": 188,
    "start_time": "2024-07-31T18:07:30.306Z"
   },
   {
    "duration": 173,
    "start_time": "2024-07-31T18:07:34.065Z"
   },
   {
    "duration": 3,
    "start_time": "2024-07-31T18:09:19.116Z"
   },
   {
    "duration": 3,
    "start_time": "2024-07-31T18:09:23.735Z"
   },
   {
    "duration": 4,
    "start_time": "2024-07-31T18:09:26.215Z"
   },
   {
    "duration": 28,
    "start_time": "2024-07-31T18:10:33.720Z"
   },
   {
    "duration": 3,
    "start_time": "2024-07-31T18:15:49.052Z"
   },
   {
    "duration": 86,
    "start_time": "2024-07-31T18:21:11.529Z"
   },
   {
    "duration": 96,
    "start_time": "2024-07-31T18:22:25.105Z"
   },
   {
    "duration": 1121,
    "start_time": "2024-07-31T18:22:37.729Z"
   },
   {
    "duration": 61,
    "start_time": "2024-07-31T18:22:38.852Z"
   },
   {
    "duration": 31,
    "start_time": "2024-07-31T18:22:38.915Z"
   },
   {
    "duration": 12,
    "start_time": "2024-07-31T18:22:38.948Z"
   },
   {
    "duration": 14,
    "start_time": "2024-07-31T18:22:38.961Z"
   },
   {
    "duration": 35,
    "start_time": "2024-07-31T18:22:38.977Z"
   },
   {
    "duration": 26,
    "start_time": "2024-07-31T18:22:39.014Z"
   },
   {
    "duration": 4,
    "start_time": "2024-07-31T18:22:39.041Z"
   },
   {
    "duration": 12,
    "start_time": "2024-07-31T18:22:39.046Z"
   },
   {
    "duration": 7,
    "start_time": "2024-07-31T18:22:39.060Z"
   },
   {
    "duration": 13,
    "start_time": "2024-07-31T18:22:39.068Z"
   },
   {
    "duration": 44,
    "start_time": "2024-07-31T18:22:39.082Z"
   },
   {
    "duration": 22,
    "start_time": "2024-07-31T18:22:39.128Z"
   },
   {
    "duration": 52,
    "start_time": "2024-07-31T18:22:39.152Z"
   },
   {
    "duration": 33,
    "start_time": "2024-07-31T18:22:39.206Z"
   },
   {
    "duration": 211,
    "start_time": "2024-07-31T18:22:39.241Z"
   },
   {
    "duration": 0,
    "start_time": "2024-07-31T18:22:39.454Z"
   },
   {
    "duration": 0,
    "start_time": "2024-07-31T18:22:39.455Z"
   },
   {
    "duration": 0,
    "start_time": "2024-07-31T18:22:39.456Z"
   },
   {
    "duration": 0,
    "start_time": "2024-07-31T18:22:39.457Z"
   },
   {
    "duration": 0,
    "start_time": "2024-07-31T18:22:39.457Z"
   },
   {
    "duration": 0,
    "start_time": "2024-07-31T18:22:39.458Z"
   },
   {
    "duration": 0,
    "start_time": "2024-07-31T18:22:39.459Z"
   },
   {
    "duration": 0,
    "start_time": "2024-07-31T18:22:39.460Z"
   },
   {
    "duration": 0,
    "start_time": "2024-07-31T18:22:39.461Z"
   },
   {
    "duration": 0,
    "start_time": "2024-07-31T18:22:39.462Z"
   },
   {
    "duration": 0,
    "start_time": "2024-07-31T18:22:39.462Z"
   },
   {
    "duration": 0,
    "start_time": "2024-07-31T18:22:39.463Z"
   },
   {
    "duration": 0,
    "start_time": "2024-07-31T18:22:39.464Z"
   },
   {
    "duration": 0,
    "start_time": "2024-07-31T18:22:39.465Z"
   },
   {
    "duration": 0,
    "start_time": "2024-07-31T18:22:39.466Z"
   },
   {
    "duration": 0,
    "start_time": "2024-07-31T18:22:39.466Z"
   },
   {
    "duration": 0,
    "start_time": "2024-07-31T18:22:39.467Z"
   },
   {
    "duration": 0,
    "start_time": "2024-07-31T18:22:39.468Z"
   },
   {
    "duration": 0,
    "start_time": "2024-07-31T18:22:39.469Z"
   },
   {
    "duration": 0,
    "start_time": "2024-07-31T18:22:39.470Z"
   },
   {
    "duration": 0,
    "start_time": "2024-07-31T18:22:39.471Z"
   },
   {
    "duration": 0,
    "start_time": "2024-07-31T18:22:39.471Z"
   },
   {
    "duration": 0,
    "start_time": "2024-07-31T18:22:39.472Z"
   },
   {
    "duration": 0,
    "start_time": "2024-07-31T18:22:39.473Z"
   },
   {
    "duration": 0,
    "start_time": "2024-07-31T18:22:39.513Z"
   },
   {
    "duration": 0,
    "start_time": "2024-07-31T18:22:39.514Z"
   },
   {
    "duration": 0,
    "start_time": "2024-07-31T18:22:39.516Z"
   },
   {
    "duration": 0,
    "start_time": "2024-07-31T18:22:39.517Z"
   },
   {
    "duration": 0,
    "start_time": "2024-07-31T18:22:39.518Z"
   },
   {
    "duration": 0,
    "start_time": "2024-07-31T18:22:39.520Z"
   },
   {
    "duration": 0,
    "start_time": "2024-07-31T18:22:39.522Z"
   },
   {
    "duration": 0,
    "start_time": "2024-07-31T18:22:39.523Z"
   },
   {
    "duration": 0,
    "start_time": "2024-07-31T18:22:39.525Z"
   },
   {
    "duration": 30,
    "start_time": "2024-07-31T18:28:17.960Z"
   },
   {
    "duration": 28,
    "start_time": "2024-07-31T18:28:27.342Z"
   },
   {
    "duration": 978,
    "start_time": "2024-07-31T18:30:41.469Z"
   },
   {
    "duration": 1090,
    "start_time": "2024-07-31T18:30:56.839Z"
   },
   {
    "duration": 21,
    "start_time": "2024-07-31T18:31:44.349Z"
   },
   {
    "duration": 21,
    "start_time": "2024-07-31T18:31:56.740Z"
   },
   {
    "duration": 21,
    "start_time": "2024-07-31T18:32:23.559Z"
   },
   {
    "duration": 179,
    "start_time": "2024-07-31T18:33:19.646Z"
   },
   {
    "duration": 24,
    "start_time": "2024-07-31T18:35:17.777Z"
   },
   {
    "duration": 22,
    "start_time": "2024-07-31T18:35:54.526Z"
   },
   {
    "duration": 24,
    "start_time": "2024-07-31T18:36:04.569Z"
   },
   {
    "duration": 29,
    "start_time": "2024-07-31T18:36:13.625Z"
   },
   {
    "duration": 27,
    "start_time": "2024-07-31T18:39:24.126Z"
   },
   {
    "duration": 4,
    "start_time": "2024-07-31T18:41:38.204Z"
   },
   {
    "duration": 4,
    "start_time": "2024-07-31T18:41:44.631Z"
   },
   {
    "duration": 58,
    "start_time": "2024-07-31T18:41:44.637Z"
   },
   {
    "duration": 19,
    "start_time": "2024-07-31T18:41:44.697Z"
   },
   {
    "duration": 21,
    "start_time": "2024-07-31T18:41:44.719Z"
   },
   {
    "duration": 14,
    "start_time": "2024-07-31T18:41:44.742Z"
   },
   {
    "duration": 9,
    "start_time": "2024-07-31T18:41:44.758Z"
   },
   {
    "duration": 16,
    "start_time": "2024-07-31T18:41:44.769Z"
   },
   {
    "duration": 29,
    "start_time": "2024-07-31T18:41:44.787Z"
   },
   {
    "duration": 23,
    "start_time": "2024-07-31T18:41:44.820Z"
   },
   {
    "duration": 7,
    "start_time": "2024-07-31T18:41:44.845Z"
   },
   {
    "duration": 19,
    "start_time": "2024-07-31T18:41:44.854Z"
   },
   {
    "duration": 14,
    "start_time": "2024-07-31T18:41:44.875Z"
   },
   {
    "duration": 32,
    "start_time": "2024-07-31T18:41:44.890Z"
   },
   {
    "duration": 34,
    "start_time": "2024-07-31T18:41:44.924Z"
   },
   {
    "duration": 21,
    "start_time": "2024-07-31T18:41:44.960Z"
   },
   {
    "duration": 144,
    "start_time": "2024-07-31T18:41:44.983Z"
   },
   {
    "duration": 0,
    "start_time": "2024-07-31T18:41:45.129Z"
   },
   {
    "duration": 0,
    "start_time": "2024-07-31T18:41:45.130Z"
   },
   {
    "duration": 0,
    "start_time": "2024-07-31T18:41:45.131Z"
   },
   {
    "duration": 0,
    "start_time": "2024-07-31T18:41:45.132Z"
   },
   {
    "duration": 0,
    "start_time": "2024-07-31T18:41:45.132Z"
   },
   {
    "duration": 0,
    "start_time": "2024-07-31T18:41:45.134Z"
   },
   {
    "duration": 1,
    "start_time": "2024-07-31T18:41:45.135Z"
   },
   {
    "duration": 0,
    "start_time": "2024-07-31T18:41:45.137Z"
   },
   {
    "duration": 0,
    "start_time": "2024-07-31T18:41:45.137Z"
   },
   {
    "duration": 0,
    "start_time": "2024-07-31T18:41:45.138Z"
   },
   {
    "duration": 0,
    "start_time": "2024-07-31T18:41:45.139Z"
   },
   {
    "duration": 0,
    "start_time": "2024-07-31T18:41:45.140Z"
   },
   {
    "duration": 169,
    "start_time": "2024-07-31T18:46:17.246Z"
   },
   {
    "duration": 261,
    "start_time": "2024-07-31T18:46:26.598Z"
   },
   {
    "duration": 150,
    "start_time": "2024-07-31T18:47:22.813Z"
   },
   {
    "duration": 8,
    "start_time": "2024-07-31T18:47:37.726Z"
   },
   {
    "duration": 115,
    "start_time": "2024-07-31T18:47:40.108Z"
   },
   {
    "duration": 3,
    "start_time": "2024-07-31T18:49:45.584Z"
   },
   {
    "duration": 80,
    "start_time": "2024-07-31T18:49:45.589Z"
   },
   {
    "duration": 17,
    "start_time": "2024-07-31T18:49:45.670Z"
   },
   {
    "duration": 16,
    "start_time": "2024-07-31T18:49:45.689Z"
   },
   {
    "duration": 14,
    "start_time": "2024-07-31T18:49:45.706Z"
   },
   {
    "duration": 12,
    "start_time": "2024-07-31T18:49:45.721Z"
   },
   {
    "duration": 10,
    "start_time": "2024-07-31T18:49:45.734Z"
   },
   {
    "duration": 97,
    "start_time": "2024-07-31T18:49:45.745Z"
   },
   {
    "duration": 15,
    "start_time": "2024-07-31T18:49:45.843Z"
   },
   {
    "duration": 12,
    "start_time": "2024-07-31T18:49:45.859Z"
   },
   {
    "duration": 52,
    "start_time": "2024-07-31T18:49:45.873Z"
   },
   {
    "duration": 13,
    "start_time": "2024-07-31T18:49:45.927Z"
   },
   {
    "duration": 17,
    "start_time": "2024-07-31T18:49:45.942Z"
   },
   {
    "duration": 43,
    "start_time": "2024-07-31T18:49:45.960Z"
   },
   {
    "duration": 25,
    "start_time": "2024-07-31T18:49:46.005Z"
   },
   {
    "duration": 102,
    "start_time": "2024-07-31T18:49:46.031Z"
   },
   {
    "duration": 0,
    "start_time": "2024-07-31T18:49:46.134Z"
   },
   {
    "duration": 0,
    "start_time": "2024-07-31T18:49:46.136Z"
   },
   {
    "duration": 0,
    "start_time": "2024-07-31T18:49:46.137Z"
   },
   {
    "duration": 0,
    "start_time": "2024-07-31T18:49:46.138Z"
   },
   {
    "duration": 0,
    "start_time": "2024-07-31T18:49:46.139Z"
   },
   {
    "duration": 0,
    "start_time": "2024-07-31T18:49:46.139Z"
   },
   {
    "duration": 0,
    "start_time": "2024-07-31T18:49:46.140Z"
   },
   {
    "duration": 0,
    "start_time": "2024-07-31T18:49:46.141Z"
   },
   {
    "duration": 0,
    "start_time": "2024-07-31T18:49:46.142Z"
   },
   {
    "duration": 0,
    "start_time": "2024-07-31T18:49:46.143Z"
   },
   {
    "duration": 0,
    "start_time": "2024-07-31T18:49:46.143Z"
   },
   {
    "duration": 0,
    "start_time": "2024-07-31T18:49:46.144Z"
   },
   {
    "duration": 168,
    "start_time": "2024-07-31T18:50:02.282Z"
   },
   {
    "duration": 6,
    "start_time": "2024-07-31T18:50:05.466Z"
   },
   {
    "duration": 310,
    "start_time": "2024-07-31T18:50:07.506Z"
   },
   {
    "duration": 794,
    "start_time": "2024-07-31T18:50:11.956Z"
   },
   {
    "duration": 2,
    "start_time": "2024-07-31T18:50:17.089Z"
   },
   {
    "duration": 4,
    "start_time": "2024-07-31T18:51:29.694Z"
   },
   {
    "duration": 1852,
    "start_time": "2024-07-31T18:55:08.632Z"
   },
   {
    "duration": 1746,
    "start_time": "2024-07-31T18:56:41.524Z"
   },
   {
    "duration": 1784,
    "start_time": "2024-07-31T18:56:51.650Z"
   },
   {
    "duration": 1829,
    "start_time": "2024-07-31T19:02:05.456Z"
   },
   {
    "duration": 1903,
    "start_time": "2024-07-31T19:02:17.403Z"
   },
   {
    "duration": 1847,
    "start_time": "2024-07-31T19:02:24.868Z"
   },
   {
    "duration": 2005,
    "start_time": "2024-07-31T19:02:33.421Z"
   },
   {
    "duration": 1680,
    "start_time": "2024-07-31T19:03:29.986Z"
   },
   {
    "duration": 3236,
    "start_time": "2024-07-31T19:03:34.171Z"
   },
   {
    "duration": 2613,
    "start_time": "2024-07-31T19:03:37.999Z"
   },
   {
    "duration": 2967,
    "start_time": "2024-07-31T19:03:43.681Z"
   },
   {
    "duration": 1597,
    "start_time": "2024-07-31T19:04:36.478Z"
   },
   {
    "duration": 1509,
    "start_time": "2024-07-31T19:04:57.511Z"
   },
   {
    "duration": 55,
    "start_time": "2024-07-31T19:06:24.897Z"
   },
   {
    "duration": 1571,
    "start_time": "2024-07-31T19:06:28.293Z"
   },
   {
    "duration": 106,
    "start_time": "2024-07-31T19:07:07.450Z"
   },
   {
    "duration": 1108,
    "start_time": "2024-07-31T19:07:17.487Z"
   },
   {
    "duration": 1705,
    "start_time": "2024-07-31T19:07:44.846Z"
   },
   {
    "duration": 87,
    "start_time": "2024-07-31T19:07:56.904Z"
   },
   {
    "duration": 1473,
    "start_time": "2024-07-31T19:07:59.186Z"
   },
   {
    "duration": 1345,
    "start_time": "2024-07-31T19:08:25.136Z"
   },
   {
    "duration": 1753,
    "start_time": "2024-07-31T19:09:21.199Z"
   },
   {
    "duration": 1156,
    "start_time": "2024-07-31T19:11:13.434Z"
   },
   {
    "duration": 78,
    "start_time": "2024-07-31T19:11:27.684Z"
   },
   {
    "duration": 1116,
    "start_time": "2024-07-31T19:11:36.471Z"
   },
   {
    "duration": 1027,
    "start_time": "2024-07-31T19:12:20.475Z"
   },
   {
    "duration": 1399,
    "start_time": "2024-07-31T19:12:34.176Z"
   },
   {
    "duration": 123,
    "start_time": "2024-07-31T19:13:11.702Z"
   },
   {
    "duration": 64,
    "start_time": "2024-07-31T19:14:45.655Z"
   },
   {
    "duration": 154,
    "start_time": "2024-07-31T19:14:45.769Z"
   },
   {
    "duration": 66,
    "start_time": "2024-07-31T19:14:51.683Z"
   },
   {
    "duration": 609,
    "start_time": "2024-07-31T19:20:30.859Z"
   },
   {
    "duration": 67,
    "start_time": "2024-07-31T19:21:29.239Z"
   },
   {
    "duration": 61,
    "start_time": "2024-07-31T19:21:35.106Z"
   },
   {
    "duration": 2577,
    "start_time": "2024-07-31T19:22:01.681Z"
   },
   {
    "duration": 161,
    "start_time": "2024-07-31T19:22:12.155Z"
   },
   {
    "duration": 2579,
    "start_time": "2024-07-31T19:22:15.936Z"
   },
   {
    "duration": 2598,
    "start_time": "2024-07-31T19:22:21.678Z"
   },
   {
    "duration": 2210,
    "start_time": "2024-07-31T19:22:31.398Z"
   },
   {
    "duration": 67,
    "start_time": "2024-07-31T19:22:53.884Z"
   },
   {
    "duration": 1844,
    "start_time": "2024-07-31T19:23:05.584Z"
   },
   {
    "duration": 2195,
    "start_time": "2024-07-31T19:23:37.085Z"
   },
   {
    "duration": 10,
    "start_time": "2024-07-31T19:24:33.370Z"
   },
   {
    "duration": 652,
    "start_time": "2024-07-31T19:25:20.312Z"
   },
   {
    "duration": 539,
    "start_time": "2024-07-31T19:25:34.408Z"
   },
   {
    "duration": 553,
    "start_time": "2024-07-31T19:25:38.798Z"
   },
   {
    "duration": 1157,
    "start_time": "2024-07-31T19:27:30.222Z"
   },
   {
    "duration": 1226,
    "start_time": "2024-07-31T19:28:30.541Z"
   },
   {
    "duration": 55,
    "start_time": "2024-07-31T19:29:36.060Z"
   },
   {
    "duration": 1129,
    "start_time": "2024-07-31T19:29:39.735Z"
   },
   {
    "duration": 79,
    "start_time": "2024-07-31T19:29:47.549Z"
   },
   {
    "duration": 1064,
    "start_time": "2024-07-31T19:30:37.880Z"
   },
   {
    "duration": 1126,
    "start_time": "2024-07-31T19:30:50.457Z"
   },
   {
    "duration": 1088,
    "start_time": "2024-07-31T19:30:52.984Z"
   },
   {
    "duration": 1160,
    "start_time": "2024-07-31T19:31:01.377Z"
   },
   {
    "duration": 1267,
    "start_time": "2024-07-31T19:34:17.472Z"
   },
   {
    "duration": 28,
    "start_time": "2024-07-31T19:34:29.706Z"
   },
   {
    "duration": 3129,
    "start_time": "2024-07-31T19:34:38.430Z"
   },
   {
    "duration": 3064,
    "start_time": "2024-07-31T19:34:54.899Z"
   },
   {
    "duration": 3151,
    "start_time": "2024-07-31T19:35:05.742Z"
   },
   {
    "duration": 2766,
    "start_time": "2024-07-31T19:35:19.678Z"
   },
   {
    "duration": 435,
    "start_time": "2024-07-31T19:35:34.528Z"
   },
   {
    "duration": 2610,
    "start_time": "2024-07-31T19:35:46.759Z"
   },
   {
    "duration": 2727,
    "start_time": "2024-07-31T19:35:58.583Z"
   },
   {
    "duration": 2709,
    "start_time": "2024-07-31T19:36:06.665Z"
   },
   {
    "duration": 2614,
    "start_time": "2024-07-31T19:36:42.432Z"
   },
   {
    "duration": 2585,
    "start_time": "2024-07-31T19:37:04.887Z"
   },
   {
    "duration": 7041,
    "start_time": "2024-07-31T19:37:16.122Z"
   },
   {
    "duration": 2954,
    "start_time": "2024-07-31T19:37:26.657Z"
   },
   {
    "duration": 2779,
    "start_time": "2024-07-31T19:37:37.678Z"
   },
   {
    "duration": 57,
    "start_time": "2024-07-31T19:38:08.936Z"
   },
   {
    "duration": 444,
    "start_time": "2024-07-31T19:38:13.922Z"
   },
   {
    "duration": 1216,
    "start_time": "2024-07-31T19:38:48.699Z"
   },
   {
    "duration": 883,
    "start_time": "2024-07-31T19:38:55.644Z"
   },
   {
    "duration": 967,
    "start_time": "2024-07-31T19:39:46.429Z"
   },
   {
    "duration": 1132,
    "start_time": "2024-07-31T19:41:36.409Z"
   },
   {
    "duration": 898,
    "start_time": "2024-07-31T19:41:42.704Z"
   },
   {
    "duration": 1067,
    "start_time": "2024-07-31T19:41:48.334Z"
   },
   {
    "duration": 974,
    "start_time": "2024-07-31T19:41:52.787Z"
   },
   {
    "duration": 961,
    "start_time": "2024-07-31T19:42:13.471Z"
   },
   {
    "duration": 867,
    "start_time": "2024-07-31T19:42:17.679Z"
   },
   {
    "duration": 973,
    "start_time": "2024-07-31T19:42:37.403Z"
   },
   {
    "duration": 947,
    "start_time": "2024-07-31T19:42:41.422Z"
   },
   {
    "duration": 927,
    "start_time": "2024-07-31T19:42:47.968Z"
   },
   {
    "duration": 1027,
    "start_time": "2024-07-31T19:43:24.920Z"
   },
   {
    "duration": 1078,
    "start_time": "2024-07-31T19:43:45.046Z"
   },
   {
    "duration": 1062,
    "start_time": "2024-07-31T19:44:10.529Z"
   },
   {
    "duration": 988,
    "start_time": "2024-07-31T19:44:25.464Z"
   },
   {
    "duration": 1056,
    "start_time": "2024-07-31T19:44:57.647Z"
   },
   {
    "duration": 923,
    "start_time": "2024-07-31T19:45:12.380Z"
   },
   {
    "duration": 972,
    "start_time": "2024-07-31T19:45:58.733Z"
   },
   {
    "duration": 1019,
    "start_time": "2024-07-31T19:46:09.081Z"
   },
   {
    "duration": 189,
    "start_time": "2024-07-31T19:46:15.821Z"
   },
   {
    "duration": 841,
    "start_time": "2024-07-31T19:46:24.411Z"
   },
   {
    "duration": 952,
    "start_time": "2024-07-31T19:46:29.734Z"
   },
   {
    "duration": 892,
    "start_time": "2024-07-31T19:46:37.884Z"
   },
   {
    "duration": 892,
    "start_time": "2024-07-31T19:46:42.630Z"
   },
   {
    "duration": 961,
    "start_time": "2024-07-31T19:46:47.384Z"
   },
   {
    "duration": 883,
    "start_time": "2024-07-31T19:46:56.107Z"
   },
   {
    "duration": 889,
    "start_time": "2024-07-31T19:47:02.474Z"
   },
   {
    "duration": 208,
    "start_time": "2024-07-31T19:47:06.858Z"
   },
   {
    "duration": 758,
    "start_time": "2024-07-31T19:47:10.442Z"
   },
   {
    "duration": 894,
    "start_time": "2024-07-31T19:47:20.645Z"
   },
   {
    "duration": 909,
    "start_time": "2024-07-31T19:47:34.063Z"
   },
   {
    "duration": 923,
    "start_time": "2024-07-31T19:47:37.616Z"
   },
   {
    "duration": 962,
    "start_time": "2024-07-31T19:47:53.013Z"
   },
   {
    "duration": 949,
    "start_time": "2024-07-31T19:48:00.378Z"
   },
   {
    "duration": 927,
    "start_time": "2024-07-31T19:48:08.375Z"
   },
   {
    "duration": 1022,
    "start_time": "2024-07-31T19:48:13.965Z"
   },
   {
    "duration": 921,
    "start_time": "2024-07-31T19:48:20.059Z"
   },
   {
    "duration": 891,
    "start_time": "2024-07-31T19:48:24.059Z"
   },
   {
    "duration": 893,
    "start_time": "2024-07-31T19:48:28.521Z"
   },
   {
    "duration": 891,
    "start_time": "2024-07-31T19:48:34.401Z"
   },
   {
    "duration": 880,
    "start_time": "2024-07-31T19:48:39.288Z"
   },
   {
    "duration": 1001,
    "start_time": "2024-07-31T19:49:07.058Z"
   },
   {
    "duration": 860,
    "start_time": "2024-07-31T19:49:12.125Z"
   },
   {
    "duration": 962,
    "start_time": "2024-07-31T19:49:15.938Z"
   },
   {
    "duration": 193,
    "start_time": "2024-07-31T19:49:20.549Z"
   },
   {
    "duration": 205,
    "start_time": "2024-07-31T19:49:22.579Z"
   },
   {
    "duration": 901,
    "start_time": "2024-07-31T19:49:24.881Z"
   },
   {
    "duration": 1084,
    "start_time": "2024-07-31T19:49:29.767Z"
   },
   {
    "duration": 1022,
    "start_time": "2024-07-31T19:49:35.047Z"
   },
   {
    "duration": 926,
    "start_time": "2024-07-31T19:49:44.514Z"
   },
   {
    "duration": 1033,
    "start_time": "2024-07-31T19:49:50.372Z"
   },
   {
    "duration": 962,
    "start_time": "2024-07-31T19:50:20.422Z"
   },
   {
    "duration": 1297,
    "start_time": "2024-07-31T19:51:36.060Z"
   },
   {
    "duration": 189,
    "start_time": "2024-07-31T19:51:44.394Z"
   },
   {
    "duration": 1104,
    "start_time": "2024-07-31T19:51:50.277Z"
   },
   {
    "duration": 932,
    "start_time": "2024-07-31T19:55:02.190Z"
   },
   {
    "duration": 1101,
    "start_time": "2024-07-31T19:55:09.016Z"
   },
   {
    "duration": 1018,
    "start_time": "2024-07-31T19:55:15.385Z"
   },
   {
    "duration": 916,
    "start_time": "2024-07-31T19:55:24.235Z"
   },
   {
    "duration": 1074,
    "start_time": "2024-07-31T19:55:32.158Z"
   },
   {
    "duration": 983,
    "start_time": "2024-07-31T19:55:35.996Z"
   },
   {
    "duration": 992,
    "start_time": "2024-07-31T19:55:41.350Z"
   },
   {
    "duration": 1077,
    "start_time": "2024-07-31T19:56:19.609Z"
   },
   {
    "duration": 1065,
    "start_time": "2024-07-31T19:56:29.537Z"
   },
   {
    "duration": 1022,
    "start_time": "2024-07-31T19:56:41.962Z"
   },
   {
    "duration": 998,
    "start_time": "2024-07-31T19:56:49.550Z"
   },
   {
    "duration": 937,
    "start_time": "2024-07-31T19:56:57.462Z"
   },
   {
    "duration": 991,
    "start_time": "2024-07-31T19:57:07.081Z"
   },
   {
    "duration": 932,
    "start_time": "2024-07-31T19:57:12.913Z"
   },
   {
    "duration": 917,
    "start_time": "2024-07-31T19:57:42.645Z"
   },
   {
    "duration": 1117,
    "start_time": "2024-07-31T19:57:45.342Z"
   },
   {
    "duration": 916,
    "start_time": "2024-07-31T19:57:51.544Z"
   },
   {
    "duration": 1026,
    "start_time": "2024-07-31T19:57:59.506Z"
   },
   {
    "duration": 913,
    "start_time": "2024-07-31T19:58:06.021Z"
   },
   {
    "duration": 864,
    "start_time": "2024-07-31T19:58:12.922Z"
   },
   {
    "duration": 1073,
    "start_time": "2024-07-31T19:59:35.100Z"
   },
   {
    "duration": 944,
    "start_time": "2024-07-31T19:59:44.798Z"
   },
   {
    "duration": 983,
    "start_time": "2024-07-31T19:59:56.848Z"
   },
   {
    "duration": 1093,
    "start_time": "2024-07-31T20:00:11.430Z"
   },
   {
    "duration": 1005,
    "start_time": "2024-07-31T20:00:21.331Z"
   },
   {
    "duration": 951,
    "start_time": "2024-07-31T20:00:26.517Z"
   },
   {
    "duration": 1075,
    "start_time": "2024-07-31T20:00:34.076Z"
   },
   {
    "duration": 953,
    "start_time": "2024-07-31T20:00:38.079Z"
   },
   {
    "duration": 1016,
    "start_time": "2024-07-31T20:00:41.590Z"
   },
   {
    "duration": 1051,
    "start_time": "2024-07-31T20:09:06.163Z"
   },
   {
    "duration": 956,
    "start_time": "2024-07-31T20:09:11.840Z"
   },
   {
    "duration": 1095,
    "start_time": "2024-07-31T20:09:19.907Z"
   },
   {
    "duration": 995,
    "start_time": "2024-07-31T20:09:31.380Z"
   },
   {
    "duration": 876,
    "start_time": "2024-07-31T20:09:46.461Z"
   },
   {
    "duration": 1038,
    "start_time": "2024-07-31T20:09:55.922Z"
   },
   {
    "duration": 971,
    "start_time": "2024-07-31T20:10:01.485Z"
   },
   {
    "duration": 74,
    "start_time": "2024-07-31T20:11:45.036Z"
   },
   {
    "duration": 1493,
    "start_time": "2024-07-31T20:12:06.863Z"
   },
   {
    "duration": 21,
    "start_time": "2024-07-31T20:12:19.258Z"
   },
   {
    "duration": 19,
    "start_time": "2024-07-31T20:12:29.965Z"
   },
   {
    "duration": 338,
    "start_time": "2024-07-31T20:13:22.035Z"
   },
   {
    "duration": 404,
    "start_time": "2024-07-31T20:14:31.599Z"
   },
   {
    "duration": 183,
    "start_time": "2024-07-31T20:16:24.090Z"
   },
   {
    "duration": 620,
    "start_time": "2024-07-31T20:16:32.492Z"
   },
   {
    "duration": 102,
    "start_time": "2024-07-31T20:18:37.175Z"
   },
   {
    "duration": 161,
    "start_time": "2024-07-31T20:18:44.046Z"
   },
   {
    "duration": 214,
    "start_time": "2024-07-31T20:18:49.675Z"
   },
   {
    "duration": 723,
    "start_time": "2024-07-31T20:18:56.980Z"
   },
   {
    "duration": 526,
    "start_time": "2024-07-31T20:19:15.465Z"
   },
   {
    "duration": 208,
    "start_time": "2024-07-31T20:19:53.849Z"
   },
   {
    "duration": 486,
    "start_time": "2024-07-31T20:20:05.481Z"
   },
   {
    "duration": 1148,
    "start_time": "2024-07-31T20:21:08.510Z"
   },
   {
    "duration": 594,
    "start_time": "2024-07-31T20:21:36.241Z"
   },
   {
    "duration": 194,
    "start_time": "2024-07-31T20:22:18.800Z"
   },
   {
    "duration": 581,
    "start_time": "2024-07-31T20:22:35.568Z"
   },
   {
    "duration": 474,
    "start_time": "2024-07-31T20:23:23.930Z"
   },
   {
    "duration": 341,
    "start_time": "2024-07-31T20:23:38.615Z"
   },
   {
    "duration": 371,
    "start_time": "2024-07-31T20:23:43.310Z"
   },
   {
    "duration": 471,
    "start_time": "2024-07-31T20:23:53.972Z"
   },
   {
    "duration": 463,
    "start_time": "2024-07-31T20:24:34.917Z"
   },
   {
    "duration": 434,
    "start_time": "2024-07-31T20:24:53.216Z"
   },
   {
    "duration": 429,
    "start_time": "2024-07-31T20:25:04.527Z"
   },
   {
    "duration": 498,
    "start_time": "2024-07-31T20:25:25.869Z"
   },
   {
    "duration": 414,
    "start_time": "2024-07-31T20:25:29.747Z"
   },
   {
    "duration": 371,
    "start_time": "2024-07-31T20:26:02.490Z"
   },
   {
    "duration": 339,
    "start_time": "2024-07-31T20:26:12.449Z"
   },
   {
    "duration": 417,
    "start_time": "2024-07-31T20:26:49.827Z"
   },
   {
    "duration": 346,
    "start_time": "2024-07-31T20:26:56.267Z"
   },
   {
    "duration": 184,
    "start_time": "2024-07-31T20:27:32.730Z"
   },
   {
    "duration": 349,
    "start_time": "2024-07-31T20:27:41.535Z"
   },
   {
    "duration": 194,
    "start_time": "2024-07-31T20:27:52.109Z"
   },
   {
    "duration": 350,
    "start_time": "2024-07-31T20:27:58.746Z"
   },
   {
    "duration": 388,
    "start_time": "2024-07-31T20:28:29.672Z"
   },
   {
    "duration": 537,
    "start_time": "2024-07-31T20:28:36.877Z"
   },
   {
    "duration": 461,
    "start_time": "2024-07-31T20:28:51.013Z"
   },
   {
    "duration": 8,
    "start_time": "2024-07-31T20:29:53.760Z"
   },
   {
    "duration": 1103,
    "start_time": "2024-07-31T20:30:10.009Z"
   },
   {
    "duration": 108,
    "start_time": "2024-07-31T20:30:17.223Z"
   },
   {
    "duration": 1008,
    "start_time": "2024-07-31T20:30:40.223Z"
   },
   {
    "duration": 1006,
    "start_time": "2024-07-31T20:30:50.650Z"
   },
   {
    "duration": 56,
    "start_time": "2024-07-31T20:31:50.713Z"
   },
   {
    "duration": 127,
    "start_time": "2024-07-31T20:32:28.427Z"
   },
   {
    "duration": 7,
    "start_time": "2024-07-31T20:32:38.940Z"
   },
   {
    "duration": 19,
    "start_time": "2024-07-31T20:32:42.233Z"
   },
   {
    "duration": 19,
    "start_time": "2024-07-31T20:33:00.008Z"
   },
   {
    "duration": 9,
    "start_time": "2024-07-31T20:33:04.338Z"
   },
   {
    "duration": 140,
    "start_time": "2024-07-31T20:33:14.975Z"
   },
   {
    "duration": 121,
    "start_time": "2024-07-31T20:33:25.228Z"
   },
   {
    "duration": 127,
    "start_time": "2024-07-31T20:33:34.887Z"
   },
   {
    "duration": 105,
    "start_time": "2024-07-31T20:34:26.409Z"
   },
   {
    "duration": 110,
    "start_time": "2024-07-31T20:39:00.854Z"
   },
   {
    "duration": 54,
    "start_time": "2024-07-31T20:39:45.538Z"
   },
   {
    "duration": 15,
    "start_time": "2024-07-31T20:39:49.339Z"
   },
   {
    "duration": 13,
    "start_time": "2024-07-31T20:39:59.151Z"
   },
   {
    "duration": 125,
    "start_time": "2024-07-31T20:40:04.154Z"
   },
   {
    "duration": 119,
    "start_time": "2024-07-31T20:40:13.035Z"
   },
   {
    "duration": 271,
    "start_time": "2024-07-31T20:42:26.483Z"
   },
   {
    "duration": 250,
    "start_time": "2024-07-31T20:42:42.175Z"
   },
   {
    "duration": 246,
    "start_time": "2024-07-31T20:42:48.191Z"
   },
   {
    "duration": 3,
    "start_time": "2024-07-31T20:44:07.467Z"
   },
   {
    "duration": 273,
    "start_time": "2024-07-31T20:44:27.073Z"
   },
   {
    "duration": 308,
    "start_time": "2024-07-31T20:45:08.105Z"
   },
   {
    "duration": 157,
    "start_time": "2024-07-31T20:45:38.119Z"
   },
   {
    "duration": 228,
    "start_time": "2024-07-31T20:45:41.005Z"
   },
   {
    "duration": 262,
    "start_time": "2024-07-31T20:45:44.113Z"
   },
   {
    "duration": 247,
    "start_time": "2024-07-31T20:47:57.382Z"
   },
   {
    "duration": 254,
    "start_time": "2024-07-31T20:48:33.087Z"
   },
   {
    "duration": 276,
    "start_time": "2024-07-31T20:49:36.857Z"
   },
   {
    "duration": 242,
    "start_time": "2024-07-31T20:49:43.271Z"
   },
   {
    "duration": 340,
    "start_time": "2024-07-31T20:49:55.488Z"
   },
   {
    "duration": 266,
    "start_time": "2024-07-31T20:50:19.272Z"
   },
   {
    "duration": 162,
    "start_time": "2024-07-31T20:51:00.769Z"
   },
   {
    "duration": 263,
    "start_time": "2024-07-31T20:51:12.749Z"
   },
   {
    "duration": 252,
    "start_time": "2024-07-31T20:52:22.920Z"
   },
   {
    "duration": 262,
    "start_time": "2024-07-31T20:52:30.206Z"
   },
   {
    "duration": 340,
    "start_time": "2024-07-31T20:52:38.578Z"
   },
   {
    "duration": 185,
    "start_time": "2024-07-31T20:53:42.766Z"
   },
   {
    "duration": 184,
    "start_time": "2024-07-31T20:53:45.311Z"
   },
   {
    "duration": 13,
    "start_time": "2024-07-31T20:53:49.006Z"
   },
   {
    "duration": 303,
    "start_time": "2024-07-31T20:53:53.322Z"
   },
   {
    "duration": 187,
    "start_time": "2024-07-31T20:54:03.041Z"
   },
   {
    "duration": 46,
    "start_time": "2024-08-01T08:20:07.906Z"
   },
   {
    "duration": 1256,
    "start_time": "2024-08-01T08:20:11.772Z"
   },
   {
    "duration": 208,
    "start_time": "2024-08-01T08:20:13.030Z"
   },
   {
    "duration": 27,
    "start_time": "2024-08-01T08:20:13.240Z"
   },
   {
    "duration": 13,
    "start_time": "2024-08-01T08:20:13.269Z"
   },
   {
    "duration": 14,
    "start_time": "2024-08-01T08:20:13.283Z"
   },
   {
    "duration": 9,
    "start_time": "2024-08-01T08:20:13.298Z"
   },
   {
    "duration": 15,
    "start_time": "2024-08-01T08:20:13.309Z"
   },
   {
    "duration": 6,
    "start_time": "2024-08-01T08:20:13.326Z"
   },
   {
    "duration": 22,
    "start_time": "2024-08-01T08:20:13.333Z"
   },
   {
    "duration": 8,
    "start_time": "2024-08-01T08:20:13.357Z"
   },
   {
    "duration": 16,
    "start_time": "2024-08-01T08:20:13.382Z"
   },
   {
    "duration": 15,
    "start_time": "2024-08-01T08:20:13.399Z"
   },
   {
    "duration": 17,
    "start_time": "2024-08-01T08:20:13.416Z"
   },
   {
    "duration": 57,
    "start_time": "2024-08-01T08:20:13.435Z"
   },
   {
    "duration": 23,
    "start_time": "2024-08-01T08:20:13.494Z"
   },
   {
    "duration": 152,
    "start_time": "2024-08-01T08:20:13.518Z"
   },
   {
    "duration": 0,
    "start_time": "2024-08-01T08:20:13.672Z"
   },
   {
    "duration": 0,
    "start_time": "2024-08-01T08:20:13.682Z"
   },
   {
    "duration": 0,
    "start_time": "2024-08-01T08:20:13.683Z"
   },
   {
    "duration": 0,
    "start_time": "2024-08-01T08:20:13.684Z"
   },
   {
    "duration": 0,
    "start_time": "2024-08-01T08:20:13.685Z"
   },
   {
    "duration": 0,
    "start_time": "2024-08-01T08:20:13.686Z"
   },
   {
    "duration": 0,
    "start_time": "2024-08-01T08:20:13.687Z"
   },
   {
    "duration": 0,
    "start_time": "2024-08-01T08:20:13.687Z"
   },
   {
    "duration": 0,
    "start_time": "2024-08-01T08:20:13.688Z"
   },
   {
    "duration": 0,
    "start_time": "2024-08-01T08:20:13.689Z"
   },
   {
    "duration": 0,
    "start_time": "2024-08-01T08:20:13.690Z"
   },
   {
    "duration": 0,
    "start_time": "2024-08-01T08:20:13.691Z"
   },
   {
    "duration": 0,
    "start_time": "2024-08-01T08:20:13.692Z"
   },
   {
    "duration": 0,
    "start_time": "2024-08-01T08:20:13.693Z"
   },
   {
    "duration": 0,
    "start_time": "2024-08-01T08:20:13.694Z"
   },
   {
    "duration": 0,
    "start_time": "2024-08-01T08:20:13.695Z"
   },
   {
    "duration": 0,
    "start_time": "2024-08-01T08:20:13.696Z"
   },
   {
    "duration": 0,
    "start_time": "2024-08-01T08:20:13.697Z"
   },
   {
    "duration": 0,
    "start_time": "2024-08-01T08:20:13.697Z"
   },
   {
    "duration": 0,
    "start_time": "2024-08-01T08:20:13.698Z"
   },
   {
    "duration": 0,
    "start_time": "2024-08-01T08:20:13.699Z"
   },
   {
    "duration": 0,
    "start_time": "2024-08-01T08:20:13.700Z"
   },
   {
    "duration": 0,
    "start_time": "2024-08-01T08:20:13.701Z"
   },
   {
    "duration": 0,
    "start_time": "2024-08-01T08:20:13.702Z"
   },
   {
    "duration": 0,
    "start_time": "2024-08-01T08:20:13.703Z"
   },
   {
    "duration": 0,
    "start_time": "2024-08-01T08:20:13.704Z"
   },
   {
    "duration": 0,
    "start_time": "2024-08-01T08:20:13.704Z"
   },
   {
    "duration": 0,
    "start_time": "2024-08-01T08:20:13.706Z"
   },
   {
    "duration": 0,
    "start_time": "2024-08-01T08:20:13.706Z"
   },
   {
    "duration": 0,
    "start_time": "2024-08-01T08:20:13.707Z"
   },
   {
    "duration": 0,
    "start_time": "2024-08-01T08:20:13.708Z"
   },
   {
    "duration": 0,
    "start_time": "2024-08-01T08:20:13.709Z"
   },
   {
    "duration": 0,
    "start_time": "2024-08-01T08:20:13.709Z"
   },
   {
    "duration": 0,
    "start_time": "2024-08-01T08:20:13.710Z"
   },
   {
    "duration": 0,
    "start_time": "2024-08-01T08:20:13.711Z"
   },
   {
    "duration": 0,
    "start_time": "2024-08-01T08:20:13.712Z"
   },
   {
    "duration": 0,
    "start_time": "2024-08-01T08:20:13.713Z"
   },
   {
    "duration": 0,
    "start_time": "2024-08-01T08:20:13.714Z"
   },
   {
    "duration": 30,
    "start_time": "2024-08-01T08:20:45.771Z"
   },
   {
    "duration": 3,
    "start_time": "2024-08-01T08:20:49.886Z"
   },
   {
    "duration": 57,
    "start_time": "2024-08-01T08:20:49.891Z"
   },
   {
    "duration": 18,
    "start_time": "2024-08-01T08:20:49.950Z"
   },
   {
    "duration": 22,
    "start_time": "2024-08-01T08:20:49.970Z"
   },
   {
    "duration": 16,
    "start_time": "2024-08-01T08:20:49.994Z"
   },
   {
    "duration": 31,
    "start_time": "2024-08-01T08:20:50.012Z"
   },
   {
    "duration": 15,
    "start_time": "2024-08-01T08:20:50.044Z"
   },
   {
    "duration": 21,
    "start_time": "2024-08-01T08:20:50.061Z"
   },
   {
    "duration": 14,
    "start_time": "2024-08-01T08:20:50.084Z"
   },
   {
    "duration": 9,
    "start_time": "2024-08-01T08:20:50.099Z"
   },
   {
    "duration": 15,
    "start_time": "2024-08-01T08:20:50.110Z"
   },
   {
    "duration": 16,
    "start_time": "2024-08-01T08:20:50.126Z"
   },
   {
    "duration": 40,
    "start_time": "2024-08-01T08:20:50.143Z"
   },
   {
    "duration": 34,
    "start_time": "2024-08-01T08:20:52.403Z"
   },
   {
    "duration": 3,
    "start_time": "2024-08-01T08:21:30.086Z"
   },
   {
    "duration": 97,
    "start_time": "2024-08-01T08:21:30.091Z"
   },
   {
    "duration": 62,
    "start_time": "2024-08-01T08:21:30.189Z"
   },
   {
    "duration": 100,
    "start_time": "2024-08-01T08:21:30.253Z"
   },
   {
    "duration": 40,
    "start_time": "2024-08-01T08:21:30.355Z"
   },
   {
    "duration": 85,
    "start_time": "2024-08-01T08:21:30.396Z"
   },
   {
    "duration": 50,
    "start_time": "2024-08-01T08:21:30.482Z"
   },
   {
    "duration": 31,
    "start_time": "2024-08-01T08:21:30.533Z"
   },
   {
    "duration": 42,
    "start_time": "2024-08-01T08:21:30.565Z"
   },
   {
    "duration": 45,
    "start_time": "2024-08-01T08:21:30.608Z"
   },
   {
    "duration": 81,
    "start_time": "2024-08-01T08:21:30.656Z"
   },
   {
    "duration": 105,
    "start_time": "2024-08-01T08:21:30.739Z"
   },
   {
    "duration": 106,
    "start_time": "2024-08-01T08:21:30.846Z"
   },
   {
    "duration": 32,
    "start_time": "2024-08-01T08:21:32.865Z"
   },
   {
    "duration": 27,
    "start_time": "2024-08-01T08:22:31.836Z"
   },
   {
    "duration": 17,
    "start_time": "2024-08-01T08:22:44.574Z"
   },
   {
    "duration": 2,
    "start_time": "2024-08-01T08:22:48.903Z"
   },
   {
    "duration": 67,
    "start_time": "2024-08-01T08:22:48.907Z"
   },
   {
    "duration": 18,
    "start_time": "2024-08-01T08:22:48.975Z"
   },
   {
    "duration": 23,
    "start_time": "2024-08-01T08:22:48.995Z"
   },
   {
    "duration": 15,
    "start_time": "2024-08-01T08:22:49.019Z"
   },
   {
    "duration": 23,
    "start_time": "2024-08-01T08:22:49.035Z"
   },
   {
    "duration": 11,
    "start_time": "2024-08-01T08:22:49.060Z"
   },
   {
    "duration": 15,
    "start_time": "2024-08-01T08:22:49.072Z"
   },
   {
    "duration": 25,
    "start_time": "2024-08-01T08:22:49.089Z"
   },
   {
    "duration": 15,
    "start_time": "2024-08-01T08:22:49.116Z"
   },
   {
    "duration": 24,
    "start_time": "2024-08-01T08:22:49.132Z"
   },
   {
    "duration": 15,
    "start_time": "2024-08-01T08:22:49.157Z"
   },
   {
    "duration": 24,
    "start_time": "2024-08-01T08:22:49.175Z"
   },
   {
    "duration": 30,
    "start_time": "2024-08-01T08:22:49.200Z"
   },
   {
    "duration": 17,
    "start_time": "2024-08-01T08:22:50.685Z"
   },
   {
    "duration": 25,
    "start_time": "2024-08-01T08:26:50.067Z"
   },
   {
    "duration": 24,
    "start_time": "2024-08-01T08:26:56.658Z"
   },
   {
    "duration": 25,
    "start_time": "2024-08-01T08:27:08.917Z"
   },
   {
    "duration": 24,
    "start_time": "2024-08-01T08:27:45.927Z"
   },
   {
    "duration": 26,
    "start_time": "2024-08-01T08:27:50.402Z"
   },
   {
    "duration": 19,
    "start_time": "2024-08-01T08:30:07.030Z"
   },
   {
    "duration": 3,
    "start_time": "2024-08-01T08:30:12.566Z"
   },
   {
    "duration": 62,
    "start_time": "2024-08-01T08:30:12.571Z"
   },
   {
    "duration": 18,
    "start_time": "2024-08-01T08:30:12.635Z"
   },
   {
    "duration": 21,
    "start_time": "2024-08-01T08:30:12.655Z"
   },
   {
    "duration": 15,
    "start_time": "2024-08-01T08:30:12.678Z"
   },
   {
    "duration": 9,
    "start_time": "2024-08-01T08:30:12.694Z"
   },
   {
    "duration": 9,
    "start_time": "2024-08-01T08:30:12.704Z"
   },
   {
    "duration": 3,
    "start_time": "2024-08-01T08:30:12.715Z"
   },
   {
    "duration": 14,
    "start_time": "2024-08-01T08:30:12.719Z"
   },
   {
    "duration": 8,
    "start_time": "2024-08-01T08:30:12.735Z"
   },
   {
    "duration": 38,
    "start_time": "2024-08-01T08:30:12.745Z"
   },
   {
    "duration": 48,
    "start_time": "2024-08-01T08:30:12.785Z"
   },
   {
    "duration": 23,
    "start_time": "2024-08-01T08:30:12.835Z"
   },
   {
    "duration": 31,
    "start_time": "2024-08-01T08:30:12.860Z"
   },
   {
    "duration": 18,
    "start_time": "2024-08-01T08:30:15.142Z"
   },
   {
    "duration": 1073,
    "start_time": "2024-08-01T09:01:00.168Z"
   },
   {
    "duration": 54,
    "start_time": "2024-08-01T09:01:01.243Z"
   },
   {
    "duration": 23,
    "start_time": "2024-08-01T09:01:01.298Z"
   },
   {
    "duration": 41,
    "start_time": "2024-08-01T09:01:01.323Z"
   },
   {
    "duration": 60,
    "start_time": "2024-08-01T09:01:01.366Z"
   },
   {
    "duration": 110,
    "start_time": "2024-08-01T09:01:01.428Z"
   },
   {
    "duration": 83,
    "start_time": "2024-08-01T09:01:01.540Z"
   },
   {
    "duration": 34,
    "start_time": "2024-08-01T09:01:01.625Z"
   },
   {
    "duration": 46,
    "start_time": "2024-08-01T09:01:01.661Z"
   },
   {
    "duration": 37,
    "start_time": "2024-08-01T09:01:01.709Z"
   },
   {
    "duration": 37,
    "start_time": "2024-08-01T09:01:01.747Z"
   },
   {
    "duration": 15,
    "start_time": "2024-08-01T09:01:01.786Z"
   },
   {
    "duration": 18,
    "start_time": "2024-08-01T09:01:01.802Z"
   },
   {
    "duration": 68,
    "start_time": "2024-08-01T09:01:01.821Z"
   },
   {
    "duration": 16,
    "start_time": "2024-08-01T09:01:01.891Z"
   },
   {
    "duration": 196,
    "start_time": "2024-08-01T09:01:01.909Z"
   },
   {
    "duration": 0,
    "start_time": "2024-08-01T09:01:02.107Z"
   },
   {
    "duration": 0,
    "start_time": "2024-08-01T09:01:02.108Z"
   },
   {
    "duration": 0,
    "start_time": "2024-08-01T09:01:02.109Z"
   },
   {
    "duration": 0,
    "start_time": "2024-08-01T09:01:02.110Z"
   },
   {
    "duration": 0,
    "start_time": "2024-08-01T09:01:02.111Z"
   },
   {
    "duration": 0,
    "start_time": "2024-08-01T09:01:02.112Z"
   },
   {
    "duration": 0,
    "start_time": "2024-08-01T09:01:02.112Z"
   },
   {
    "duration": 0,
    "start_time": "2024-08-01T09:01:02.113Z"
   },
   {
    "duration": 0,
    "start_time": "2024-08-01T09:01:02.114Z"
   },
   {
    "duration": 0,
    "start_time": "2024-08-01T09:01:02.116Z"
   },
   {
    "duration": 0,
    "start_time": "2024-08-01T09:01:02.117Z"
   },
   {
    "duration": 0,
    "start_time": "2024-08-01T09:01:02.118Z"
   },
   {
    "duration": 0,
    "start_time": "2024-08-01T09:01:02.119Z"
   },
   {
    "duration": 0,
    "start_time": "2024-08-01T09:01:02.119Z"
   },
   {
    "duration": 0,
    "start_time": "2024-08-01T09:01:02.120Z"
   },
   {
    "duration": 0,
    "start_time": "2024-08-01T09:01:02.121Z"
   },
   {
    "duration": 0,
    "start_time": "2024-08-01T09:01:02.122Z"
   },
   {
    "duration": 0,
    "start_time": "2024-08-01T09:01:02.123Z"
   },
   {
    "duration": 0,
    "start_time": "2024-08-01T09:01:02.124Z"
   },
   {
    "duration": 0,
    "start_time": "2024-08-01T09:01:02.125Z"
   },
   {
    "duration": 0,
    "start_time": "2024-08-01T09:01:02.126Z"
   },
   {
    "duration": 0,
    "start_time": "2024-08-01T09:01:02.127Z"
   },
   {
    "duration": 0,
    "start_time": "2024-08-01T09:01:02.128Z"
   },
   {
    "duration": 0,
    "start_time": "2024-08-01T09:01:02.129Z"
   },
   {
    "duration": 0,
    "start_time": "2024-08-01T09:01:02.130Z"
   },
   {
    "duration": 0,
    "start_time": "2024-08-01T09:01:02.130Z"
   },
   {
    "duration": 0,
    "start_time": "2024-08-01T09:01:02.131Z"
   },
   {
    "duration": 0,
    "start_time": "2024-08-01T09:01:02.133Z"
   },
   {
    "duration": 0,
    "start_time": "2024-08-01T09:01:02.182Z"
   },
   {
    "duration": 0,
    "start_time": "2024-08-01T09:01:02.183Z"
   },
   {
    "duration": 0,
    "start_time": "2024-08-01T09:01:02.184Z"
   },
   {
    "duration": 0,
    "start_time": "2024-08-01T09:01:02.185Z"
   },
   {
    "duration": 0,
    "start_time": "2024-08-01T09:01:02.186Z"
   },
   {
    "duration": 0,
    "start_time": "2024-08-01T09:01:02.187Z"
   },
   {
    "duration": 0,
    "start_time": "2024-08-01T09:01:02.188Z"
   },
   {
    "duration": 0,
    "start_time": "2024-08-01T09:01:02.189Z"
   },
   {
    "duration": 0,
    "start_time": "2024-08-01T09:01:02.190Z"
   },
   {
    "duration": 0,
    "start_time": "2024-08-01T09:01:02.191Z"
   },
   {
    "duration": 187,
    "start_time": "2024-08-01T09:01:20.956Z"
   },
   {
    "duration": 6,
    "start_time": "2024-08-01T09:01:21.941Z"
   },
   {
    "duration": 270,
    "start_time": "2024-08-01T09:01:22.341Z"
   },
   {
    "duration": 934,
    "start_time": "2024-08-01T09:01:23.414Z"
   },
   {
    "duration": 2,
    "start_time": "2024-08-01T09:01:54.598Z"
   },
   {
    "duration": 3,
    "start_time": "2024-08-01T09:01:55.407Z"
   },
   {
    "duration": 2,
    "start_time": "2024-08-01T09:01:55.847Z"
   },
   {
    "duration": 2,
    "start_time": "2024-08-01T09:01:56.229Z"
   },
   {
    "duration": 26,
    "start_time": "2024-08-01T09:02:01.880Z"
   },
   {
    "duration": 21,
    "start_time": "2024-08-01T09:02:02.595Z"
   },
   {
    "duration": 26,
    "start_time": "2024-08-01T09:02:03.242Z"
   },
   {
    "duration": 5,
    "start_time": "2024-08-01T09:02:08.950Z"
   },
   {
    "duration": 463,
    "start_time": "2024-08-01T09:02:15.883Z"
   },
   {
    "duration": 528,
    "start_time": "2024-08-01T09:02:52.002Z"
   },
   {
    "duration": 241,
    "start_time": "2024-08-01T09:04:37.942Z"
   },
   {
    "duration": 241,
    "start_time": "2024-08-01T09:04:40.909Z"
   },
   {
    "duration": 117,
    "start_time": "2024-08-01T09:06:34.600Z"
   },
   {
    "duration": 117,
    "start_time": "2024-08-01T09:07:20.273Z"
   },
   {
    "duration": 117,
    "start_time": "2024-08-01T09:07:26.985Z"
   },
   {
    "duration": 116,
    "start_time": "2024-08-01T09:07:37.322Z"
   },
   {
    "duration": 2,
    "start_time": "2024-08-01T09:08:18.506Z"
   },
   {
    "duration": 3,
    "start_time": "2024-08-01T09:08:20.802Z"
   },
   {
    "duration": 121,
    "start_time": "2024-08-01T09:08:41.945Z"
   },
   {
    "duration": 184,
    "start_time": "2024-08-01T09:08:57.208Z"
   },
   {
    "duration": 9,
    "start_time": "2024-08-01T09:10:07.113Z"
   },
   {
    "duration": 9,
    "start_time": "2024-08-01T09:10:09.227Z"
   },
   {
    "duration": 9,
    "start_time": "2024-08-01T09:10:12.074Z"
   },
   {
    "duration": 536,
    "start_time": "2024-08-01T09:14:09.248Z"
   },
   {
    "duration": 523,
    "start_time": "2024-08-01T09:14:27.162Z"
   },
   {
    "duration": 553,
    "start_time": "2024-08-01T09:15:14.346Z"
   },
   {
    "duration": 639,
    "start_time": "2024-08-01T09:16:58.174Z"
   },
   {
    "duration": 510,
    "start_time": "2024-08-01T09:17:41.261Z"
   },
   {
    "duration": 493,
    "start_time": "2024-08-01T09:17:45.522Z"
   },
   {
    "duration": 969,
    "start_time": "2024-08-01T09:18:02.691Z"
   },
   {
    "duration": 481,
    "start_time": "2024-08-01T09:19:58.430Z"
   },
   {
    "duration": 502,
    "start_time": "2024-08-01T09:20:10.390Z"
   },
   {
    "duration": 528,
    "start_time": "2024-08-01T09:20:14.034Z"
   },
   {
    "duration": 601,
    "start_time": "2024-08-01T09:20:19.281Z"
   },
   {
    "duration": 678,
    "start_time": "2024-08-01T09:22:12.181Z"
   },
   {
    "duration": 504,
    "start_time": "2024-08-01T09:22:26.350Z"
   },
   {
    "duration": 519,
    "start_time": "2024-08-01T09:22:30.432Z"
   },
   {
    "duration": 59,
    "start_time": "2024-08-01T09:24:39.970Z"
   },
   {
    "duration": 44,
    "start_time": "2024-08-01T09:24:46.311Z"
   },
   {
    "duration": 30,
    "start_time": "2024-08-01T09:25:11.433Z"
   },
   {
    "duration": 766,
    "start_time": "2024-08-01T09:27:10.716Z"
   },
   {
    "duration": 43,
    "start_time": "2024-08-01T09:27:22.813Z"
   },
   {
    "duration": 41,
    "start_time": "2024-08-01T09:27:33.753Z"
   },
   {
    "duration": 43,
    "start_time": "2024-08-01T09:28:11.946Z"
   },
   {
    "duration": 43,
    "start_time": "2024-08-01T09:28:18.123Z"
   },
   {
    "duration": 61,
    "start_time": "2024-08-01T09:28:25.511Z"
   },
   {
    "duration": 62,
    "start_time": "2024-08-01T09:28:30.189Z"
   },
   {
    "duration": 45,
    "start_time": "2024-08-01T09:28:53.018Z"
   },
   {
    "duration": 44,
    "start_time": "2024-08-01T09:29:11.373Z"
   },
   {
    "duration": 45,
    "start_time": "2024-08-01T09:29:14.002Z"
   },
   {
    "duration": 40,
    "start_time": "2024-08-01T09:29:17.460Z"
   },
   {
    "duration": 47,
    "start_time": "2024-08-01T09:30:31.396Z"
   },
   {
    "duration": 57,
    "start_time": "2024-08-01T09:30:35.636Z"
   },
   {
    "duration": 46,
    "start_time": "2024-08-01T09:30:54.765Z"
   },
   {
    "duration": 46,
    "start_time": "2024-08-01T09:30:56.948Z"
   },
   {
    "duration": 200,
    "start_time": "2024-08-01T09:31:07.684Z"
   },
   {
    "duration": 47,
    "start_time": "2024-08-01T09:31:19.030Z"
   },
   {
    "duration": 45,
    "start_time": "2024-08-01T09:32:08.681Z"
   },
   {
    "duration": 47,
    "start_time": "2024-08-01T09:33:05.119Z"
   },
   {
    "duration": 46,
    "start_time": "2024-08-01T09:33:08.002Z"
   },
   {
    "duration": 46,
    "start_time": "2024-08-01T09:35:03.246Z"
   },
   {
    "duration": 39,
    "start_time": "2024-08-01T09:35:09.891Z"
   },
   {
    "duration": 41,
    "start_time": "2024-08-01T09:35:18.838Z"
   },
   {
    "duration": 44,
    "start_time": "2024-08-01T09:36:56.169Z"
   },
   {
    "duration": 45,
    "start_time": "2024-08-01T09:37:01.090Z"
   },
   {
    "duration": 42,
    "start_time": "2024-08-01T09:37:04.449Z"
   },
   {
    "duration": 63,
    "start_time": "2024-08-01T09:37:08.500Z"
   },
   {
    "duration": 68,
    "start_time": "2024-08-01T09:37:12.825Z"
   },
   {
    "duration": 42,
    "start_time": "2024-08-01T09:37:15.095Z"
   },
   {
    "duration": 54,
    "start_time": "2024-08-01T09:37:37.220Z"
   },
   {
    "duration": 49,
    "start_time": "2024-08-01T09:37:39.757Z"
   },
   {
    "duration": 44,
    "start_time": "2024-08-01T09:37:45.626Z"
   },
   {
    "duration": 65,
    "start_time": "2024-08-01T09:39:08.190Z"
   },
   {
    "duration": 45,
    "start_time": "2024-08-01T09:39:14.617Z"
   },
   {
    "duration": 62,
    "start_time": "2024-08-01T09:39:54.561Z"
   },
   {
    "duration": 49,
    "start_time": "2024-08-01T09:40:08.745Z"
   },
   {
    "duration": 53,
    "start_time": "2024-08-01T09:40:24.653Z"
   },
   {
    "duration": 44,
    "start_time": "2024-08-01T09:40:31.020Z"
   },
   {
    "duration": 45,
    "start_time": "2024-08-01T09:40:42.116Z"
   },
   {
    "duration": 47,
    "start_time": "2024-08-01T09:40:45.606Z"
   },
   {
    "duration": 46,
    "start_time": "2024-08-01T09:40:49.322Z"
   },
   {
    "duration": 64,
    "start_time": "2024-08-01T09:45:13.661Z"
   },
   {
    "duration": 45,
    "start_time": "2024-08-01T09:45:21.501Z"
   },
   {
    "duration": 16,
    "start_time": "2024-08-01T09:45:30.839Z"
   },
   {
    "duration": 59,
    "start_time": "2024-08-01T09:46:05.540Z"
   },
   {
    "duration": 53,
    "start_time": "2024-08-01T09:49:53.637Z"
   },
   {
    "duration": 50,
    "start_time": "2024-08-01T09:50:06.135Z"
   },
   {
    "duration": 60,
    "start_time": "2024-08-01T09:52:26.489Z"
   },
   {
    "duration": 65,
    "start_time": "2024-08-01T09:52:45.000Z"
   },
   {
    "duration": 68,
    "start_time": "2024-08-01T09:54:39.858Z"
   },
   {
    "duration": 50,
    "start_time": "2024-08-01T09:54:46.491Z"
   },
   {
    "duration": 60,
    "start_time": "2024-08-01T09:55:04.613Z"
   },
   {
    "duration": 51,
    "start_time": "2024-08-01T09:55:19.075Z"
   },
   {
    "duration": 50,
    "start_time": "2024-08-01T09:55:22.401Z"
   },
   {
    "duration": 52,
    "start_time": "2024-08-01T09:55:25.009Z"
   },
   {
    "duration": 52,
    "start_time": "2024-08-01T09:56:09.998Z"
   },
   {
    "duration": 51,
    "start_time": "2024-08-01T09:56:23.844Z"
   },
   {
    "duration": 57,
    "start_time": "2024-08-01T09:57:36.149Z"
   },
   {
    "duration": 61,
    "start_time": "2024-08-01T09:57:46.275Z"
   },
   {
    "duration": 50,
    "start_time": "2024-08-01T09:57:52.795Z"
   },
   {
    "duration": 68,
    "start_time": "2024-08-01T09:57:58.327Z"
   },
   {
    "duration": 53,
    "start_time": "2024-08-01T09:58:01.312Z"
   },
   {
    "duration": 54,
    "start_time": "2024-08-01T09:58:14.092Z"
   },
   {
    "duration": 57,
    "start_time": "2024-08-01T09:58:16.958Z"
   },
   {
    "duration": 74,
    "start_time": "2024-08-01T10:03:16.067Z"
   },
   {
    "duration": 47,
    "start_time": "2024-08-01T10:03:31.990Z"
   },
   {
    "duration": 78,
    "start_time": "2024-08-01T10:04:10.048Z"
   },
   {
    "duration": 48,
    "start_time": "2024-08-01T10:04:37.428Z"
   },
   {
    "duration": 52,
    "start_time": "2024-08-01T10:05:05.155Z"
   },
   {
    "duration": 43,
    "start_time": "2024-08-01T10:05:44.905Z"
   },
   {
    "duration": 48,
    "start_time": "2024-08-01T10:05:51.632Z"
   },
   {
    "duration": 46,
    "start_time": "2024-08-01T10:06:00.427Z"
   },
   {
    "duration": 47,
    "start_time": "2024-08-01T10:06:13.041Z"
   },
   {
    "duration": 94,
    "start_time": "2024-08-01T10:06:25.092Z"
   },
   {
    "duration": 77,
    "start_time": "2024-08-01T10:06:29.036Z"
   },
   {
    "duration": 53,
    "start_time": "2024-08-01T10:06:40.065Z"
   },
   {
    "duration": 46,
    "start_time": "2024-08-01T10:08:58.208Z"
   },
   {
    "duration": 57,
    "start_time": "2024-08-01T10:09:02.581Z"
   },
   {
    "duration": 50,
    "start_time": "2024-08-01T10:09:29.764Z"
   },
   {
    "duration": 49,
    "start_time": "2024-08-01T10:09:49.465Z"
   },
   {
    "duration": 70,
    "start_time": "2024-08-01T10:10:29.307Z"
   },
   {
    "duration": 57,
    "start_time": "2024-08-01T10:11:05.381Z"
   },
   {
    "duration": 64,
    "start_time": "2024-08-01T10:11:17.578Z"
   },
   {
    "duration": 52,
    "start_time": "2024-08-01T10:11:24.928Z"
   },
   {
    "duration": 54,
    "start_time": "2024-08-01T10:11:45.349Z"
   },
   {
    "duration": 675,
    "start_time": "2024-08-01T10:11:48.400Z"
   },
   {
    "duration": 147,
    "start_time": "2024-08-01T10:14:43.951Z"
   },
   {
    "duration": 85,
    "start_time": "2024-08-01T10:15:27.856Z"
   },
   {
    "duration": 5,
    "start_time": "2024-08-01T10:16:40.887Z"
   },
   {
    "duration": 4,
    "start_time": "2024-08-01T10:16:44.768Z"
   },
   {
    "duration": 3,
    "start_time": "2024-08-01T10:17:29.783Z"
   },
   {
    "duration": 357,
    "start_time": "2024-08-01T10:17:35.336Z"
   },
   {
    "duration": 334,
    "start_time": "2024-08-01T10:17:44.306Z"
   },
   {
    "duration": 418,
    "start_time": "2024-08-01T10:18:36.254Z"
   },
   {
    "duration": 258,
    "start_time": "2024-08-01T10:19:11.514Z"
   },
   {
    "duration": 250,
    "start_time": "2024-08-01T10:19:23.473Z"
   },
   {
    "duration": 275,
    "start_time": "2024-08-01T10:19:41.616Z"
   },
   {
    "duration": 280,
    "start_time": "2024-08-01T10:20:01.378Z"
   },
   {
    "duration": 375,
    "start_time": "2024-08-01T10:20:03.203Z"
   },
   {
    "duration": 361,
    "start_time": "2024-08-01T10:20:12.578Z"
   },
   {
    "duration": 257,
    "start_time": "2024-08-01T10:20:18.712Z"
   },
   {
    "duration": 173,
    "start_time": "2024-08-01T10:23:49.409Z"
   },
   {
    "duration": 305,
    "start_time": "2024-08-01T10:23:53.048Z"
   },
   {
    "duration": 304,
    "start_time": "2024-08-01T10:23:55.945Z"
   },
   {
    "duration": 276,
    "start_time": "2024-08-01T10:23:58.396Z"
   },
   {
    "duration": 171,
    "start_time": "2024-08-01T10:24:05.812Z"
   },
   {
    "duration": 267,
    "start_time": "2024-08-01T10:24:07.891Z"
   },
   {
    "duration": 11,
    "start_time": "2024-08-01T10:25:51.489Z"
   },
   {
    "duration": 13,
    "start_time": "2024-08-01T10:25:53.376Z"
   },
   {
    "duration": 12,
    "start_time": "2024-08-01T10:25:55.904Z"
   },
   {
    "duration": 8,
    "start_time": "2024-08-01T10:28:03.798Z"
   },
   {
    "duration": 9,
    "start_time": "2024-08-01T10:31:58.109Z"
   },
   {
    "duration": 8,
    "start_time": "2024-08-01T10:32:03.148Z"
   },
   {
    "duration": 281,
    "start_time": "2024-08-01T10:32:09.214Z"
   },
   {
    "duration": 6,
    "start_time": "2024-08-01T10:32:44.375Z"
   },
   {
    "duration": 5,
    "start_time": "2024-08-01T10:33:07.485Z"
   },
   {
    "duration": 5,
    "start_time": "2024-08-01T10:33:14.115Z"
   },
   {
    "duration": 6,
    "start_time": "2024-08-01T10:33:19.766Z"
   },
   {
    "duration": 7,
    "start_time": "2024-08-01T10:33:22.454Z"
   },
   {
    "duration": 59,
    "start_time": "2024-08-01T10:35:57.403Z"
   },
   {
    "duration": 8,
    "start_time": "2024-08-01T10:36:03.490Z"
   },
   {
    "duration": 9,
    "start_time": "2024-08-01T10:36:05.310Z"
   },
   {
    "duration": 6,
    "start_time": "2024-08-01T10:36:17.668Z"
   },
   {
    "duration": 9,
    "start_time": "2024-08-01T10:36:40.006Z"
   },
   {
    "duration": 9,
    "start_time": "2024-08-01T10:37:05.299Z"
   },
   {
    "duration": 7,
    "start_time": "2024-08-01T10:37:07.902Z"
   },
   {
    "duration": 9,
    "start_time": "2024-08-01T10:38:25.672Z"
   },
   {
    "duration": 6,
    "start_time": "2024-08-01T10:38:52.390Z"
   },
   {
    "duration": 10,
    "start_time": "2024-08-01T10:40:37.271Z"
   },
   {
    "duration": 27,
    "start_time": "2024-08-01T10:40:42.183Z"
   },
   {
    "duration": 11,
    "start_time": "2024-08-01T10:40:48.633Z"
   },
   {
    "duration": 32,
    "start_time": "2024-08-01T10:41:02.378Z"
   },
   {
    "duration": 10,
    "start_time": "2024-08-01T10:41:07.131Z"
   },
   {
    "duration": 24,
    "start_time": "2024-08-01T10:43:55.767Z"
   },
   {
    "duration": 14,
    "start_time": "2024-08-01T10:44:26.565Z"
   },
   {
    "duration": 40,
    "start_time": "2024-08-01T10:44:32.855Z"
   },
   {
    "duration": 7,
    "start_time": "2024-08-01T10:44:37.205Z"
   },
   {
    "duration": 4,
    "start_time": "2024-08-01T10:45:03.616Z"
   },
   {
    "duration": 65,
    "start_time": "2024-08-01T10:45:03.622Z"
   },
   {
    "duration": 21,
    "start_time": "2024-08-01T10:45:03.689Z"
   },
   {
    "duration": 32,
    "start_time": "2024-08-01T10:45:03.711Z"
   },
   {
    "duration": 15,
    "start_time": "2024-08-01T10:45:03.746Z"
   },
   {
    "duration": 28,
    "start_time": "2024-08-01T10:45:03.762Z"
   },
   {
    "duration": 14,
    "start_time": "2024-08-01T10:45:03.794Z"
   },
   {
    "duration": 4,
    "start_time": "2024-08-01T10:45:03.810Z"
   },
   {
    "duration": 14,
    "start_time": "2024-08-01T10:45:03.816Z"
   },
   {
    "duration": 13,
    "start_time": "2024-08-01T10:45:03.832Z"
   },
   {
    "duration": 41,
    "start_time": "2024-08-01T10:45:03.848Z"
   },
   {
    "duration": 17,
    "start_time": "2024-08-01T10:45:03.891Z"
   },
   {
    "duration": 19,
    "start_time": "2024-08-01T10:45:03.910Z"
   },
   {
    "duration": 62,
    "start_time": "2024-08-01T10:45:03.931Z"
   },
   {
    "duration": 18,
    "start_time": "2024-08-01T10:45:03.996Z"
   },
   {
    "duration": 113,
    "start_time": "2024-08-01T10:45:04.016Z"
   },
   {
    "duration": 0,
    "start_time": "2024-08-01T10:45:04.132Z"
   },
   {
    "duration": 0,
    "start_time": "2024-08-01T10:45:04.134Z"
   },
   {
    "duration": 0,
    "start_time": "2024-08-01T10:45:04.135Z"
   },
   {
    "duration": 0,
    "start_time": "2024-08-01T10:45:04.136Z"
   },
   {
    "duration": 0,
    "start_time": "2024-08-01T10:45:04.138Z"
   },
   {
    "duration": 0,
    "start_time": "2024-08-01T10:45:04.139Z"
   },
   {
    "duration": 0,
    "start_time": "2024-08-01T10:45:04.141Z"
   },
   {
    "duration": 0,
    "start_time": "2024-08-01T10:45:04.142Z"
   },
   {
    "duration": 0,
    "start_time": "2024-08-01T10:45:04.143Z"
   },
   {
    "duration": 0,
    "start_time": "2024-08-01T10:45:04.144Z"
   },
   {
    "duration": 1,
    "start_time": "2024-08-01T10:45:04.145Z"
   },
   {
    "duration": 0,
    "start_time": "2024-08-01T10:45:04.147Z"
   },
   {
    "duration": 0,
    "start_time": "2024-08-01T10:45:04.148Z"
   },
   {
    "duration": 0,
    "start_time": "2024-08-01T10:45:04.149Z"
   },
   {
    "duration": 0,
    "start_time": "2024-08-01T10:45:04.150Z"
   },
   {
    "duration": 0,
    "start_time": "2024-08-01T10:45:04.151Z"
   },
   {
    "duration": 0,
    "start_time": "2024-08-01T10:45:04.152Z"
   },
   {
    "duration": 0,
    "start_time": "2024-08-01T10:45:04.183Z"
   },
   {
    "duration": 0,
    "start_time": "2024-08-01T10:45:04.184Z"
   },
   {
    "duration": 0,
    "start_time": "2024-08-01T10:45:04.185Z"
   },
   {
    "duration": 0,
    "start_time": "2024-08-01T10:45:04.186Z"
   },
   {
    "duration": 0,
    "start_time": "2024-08-01T10:45:04.186Z"
   },
   {
    "duration": 0,
    "start_time": "2024-08-01T10:45:04.189Z"
   },
   {
    "duration": 0,
    "start_time": "2024-08-01T10:45:04.190Z"
   },
   {
    "duration": 0,
    "start_time": "2024-08-01T10:45:04.191Z"
   },
   {
    "duration": 1,
    "start_time": "2024-08-01T10:45:04.191Z"
   },
   {
    "duration": 0,
    "start_time": "2024-08-01T10:45:04.192Z"
   },
   {
    "duration": 0,
    "start_time": "2024-08-01T10:45:04.193Z"
   },
   {
    "duration": 0,
    "start_time": "2024-08-01T10:45:04.194Z"
   },
   {
    "duration": 0,
    "start_time": "2024-08-01T10:45:04.195Z"
   },
   {
    "duration": 0,
    "start_time": "2024-08-01T10:45:04.195Z"
   },
   {
    "duration": 0,
    "start_time": "2024-08-01T10:45:04.196Z"
   },
   {
    "duration": 0,
    "start_time": "2024-08-01T10:45:04.197Z"
   },
   {
    "duration": 0,
    "start_time": "2024-08-01T10:45:04.197Z"
   },
   {
    "duration": 0,
    "start_time": "2024-08-01T10:45:04.198Z"
   },
   {
    "duration": 0,
    "start_time": "2024-08-01T10:45:04.199Z"
   },
   {
    "duration": 0,
    "start_time": "2024-08-01T10:45:04.200Z"
   },
   {
    "duration": 0,
    "start_time": "2024-08-01T10:45:04.202Z"
   },
   {
    "duration": 0,
    "start_time": "2024-08-01T10:45:04.203Z"
   },
   {
    "duration": 0,
    "start_time": "2024-08-01T10:45:04.204Z"
   },
   {
    "duration": 36,
    "start_time": "2024-08-01T10:45:11.043Z"
   },
   {
    "duration": 36,
    "start_time": "2024-08-01T10:45:16.158Z"
   },
   {
    "duration": 34,
    "start_time": "2024-08-01T10:45:20.896Z"
   },
   {
    "duration": 7,
    "start_time": "2024-08-01T10:45:25.421Z"
   },
   {
    "duration": 7,
    "start_time": "2024-08-01T10:46:05.513Z"
   },
   {
    "duration": 31,
    "start_time": "2024-08-01T10:46:27.061Z"
   },
   {
    "duration": 7,
    "start_time": "2024-08-01T10:46:40.970Z"
   },
   {
    "duration": 6,
    "start_time": "2024-08-01T10:47:21.851Z"
   },
   {
    "duration": 42,
    "start_time": "2024-08-01T10:47:24.778Z"
   },
   {
    "duration": 7,
    "start_time": "2024-08-01T10:47:27.038Z"
   },
   {
    "duration": 32,
    "start_time": "2024-08-01T10:47:55.114Z"
   },
   {
    "duration": 6,
    "start_time": "2024-08-01T10:47:58.215Z"
   },
   {
    "duration": 3,
    "start_time": "2024-08-01T10:48:10.505Z"
   },
   {
    "duration": 54,
    "start_time": "2024-08-01T10:48:10.509Z"
   },
   {
    "duration": 30,
    "start_time": "2024-08-01T10:48:10.565Z"
   },
   {
    "duration": 19,
    "start_time": "2024-08-01T10:48:10.597Z"
   },
   {
    "duration": 16,
    "start_time": "2024-08-01T10:48:10.618Z"
   },
   {
    "duration": 8,
    "start_time": "2024-08-01T10:48:10.635Z"
   },
   {
    "duration": 12,
    "start_time": "2024-08-01T10:48:10.645Z"
   },
   {
    "duration": 33,
    "start_time": "2024-08-01T10:48:10.658Z"
   },
   {
    "duration": 14,
    "start_time": "2024-08-01T10:48:10.697Z"
   },
   {
    "duration": 9,
    "start_time": "2024-08-01T10:48:10.713Z"
   },
   {
    "duration": 22,
    "start_time": "2024-08-01T10:48:10.723Z"
   },
   {
    "duration": 15,
    "start_time": "2024-08-01T10:48:10.747Z"
   },
   {
    "duration": 39,
    "start_time": "2024-08-01T10:48:10.764Z"
   },
   {
    "duration": 36,
    "start_time": "2024-08-01T10:48:10.807Z"
   },
   {
    "duration": 47,
    "start_time": "2024-08-01T10:48:10.846Z"
   },
   {
    "duration": 108,
    "start_time": "2024-08-01T10:48:10.894Z"
   },
   {
    "duration": 0,
    "start_time": "2024-08-01T10:48:11.006Z"
   },
   {
    "duration": 0,
    "start_time": "2024-08-01T10:48:11.007Z"
   },
   {
    "duration": 0,
    "start_time": "2024-08-01T10:48:11.009Z"
   },
   {
    "duration": 0,
    "start_time": "2024-08-01T10:48:11.010Z"
   },
   {
    "duration": 0,
    "start_time": "2024-08-01T10:48:11.011Z"
   },
   {
    "duration": 0,
    "start_time": "2024-08-01T10:48:11.013Z"
   },
   {
    "duration": 0,
    "start_time": "2024-08-01T10:48:11.014Z"
   },
   {
    "duration": 0,
    "start_time": "2024-08-01T10:48:11.016Z"
   },
   {
    "duration": 0,
    "start_time": "2024-08-01T10:48:11.017Z"
   },
   {
    "duration": 0,
    "start_time": "2024-08-01T10:48:11.018Z"
   },
   {
    "duration": 0,
    "start_time": "2024-08-01T10:48:11.019Z"
   },
   {
    "duration": 0,
    "start_time": "2024-08-01T10:48:11.019Z"
   },
   {
    "duration": 0,
    "start_time": "2024-08-01T10:48:11.021Z"
   },
   {
    "duration": 0,
    "start_time": "2024-08-01T10:48:11.022Z"
   },
   {
    "duration": 0,
    "start_time": "2024-08-01T10:48:11.023Z"
   },
   {
    "duration": 0,
    "start_time": "2024-08-01T10:48:11.024Z"
   },
   {
    "duration": 0,
    "start_time": "2024-08-01T10:48:11.025Z"
   },
   {
    "duration": 0,
    "start_time": "2024-08-01T10:48:11.026Z"
   },
   {
    "duration": 0,
    "start_time": "2024-08-01T10:48:11.027Z"
   },
   {
    "duration": 0,
    "start_time": "2024-08-01T10:48:11.028Z"
   },
   {
    "duration": 0,
    "start_time": "2024-08-01T10:48:11.029Z"
   },
   {
    "duration": 0,
    "start_time": "2024-08-01T10:48:11.030Z"
   },
   {
    "duration": 0,
    "start_time": "2024-08-01T10:48:11.031Z"
   },
   {
    "duration": 0,
    "start_time": "2024-08-01T10:48:11.032Z"
   },
   {
    "duration": 0,
    "start_time": "2024-08-01T10:48:11.033Z"
   },
   {
    "duration": 0,
    "start_time": "2024-08-01T10:48:11.082Z"
   },
   {
    "duration": 0,
    "start_time": "2024-08-01T10:48:11.083Z"
   },
   {
    "duration": 0,
    "start_time": "2024-08-01T10:48:11.083Z"
   },
   {
    "duration": 0,
    "start_time": "2024-08-01T10:48:11.084Z"
   },
   {
    "duration": 0,
    "start_time": "2024-08-01T10:48:11.085Z"
   },
   {
    "duration": 0,
    "start_time": "2024-08-01T10:48:11.086Z"
   },
   {
    "duration": 0,
    "start_time": "2024-08-01T10:48:11.086Z"
   },
   {
    "duration": 0,
    "start_time": "2024-08-01T10:48:11.087Z"
   },
   {
    "duration": 0,
    "start_time": "2024-08-01T10:48:11.087Z"
   },
   {
    "duration": 0,
    "start_time": "2024-08-01T10:48:11.088Z"
   },
   {
    "duration": 0,
    "start_time": "2024-08-01T10:48:11.089Z"
   },
   {
    "duration": 0,
    "start_time": "2024-08-01T10:48:11.093Z"
   },
   {
    "duration": 0,
    "start_time": "2024-08-01T10:48:11.094Z"
   },
   {
    "duration": 0,
    "start_time": "2024-08-01T10:48:11.095Z"
   },
   {
    "duration": 0,
    "start_time": "2024-08-01T10:48:11.095Z"
   },
   {
    "duration": 0,
    "start_time": "2024-08-01T10:48:11.096Z"
   },
   {
    "duration": 0,
    "start_time": "2024-08-01T10:48:11.097Z"
   },
   {
    "duration": 30,
    "start_time": "2024-08-01T10:48:14.887Z"
   },
   {
    "duration": 7,
    "start_time": "2024-08-01T10:48:17.853Z"
   },
   {
    "duration": 10,
    "start_time": "2024-08-01T10:48:44.830Z"
   },
   {
    "duration": 6,
    "start_time": "2024-08-01T10:48:48.548Z"
   },
   {
    "duration": 7,
    "start_time": "2024-08-01T10:48:54.566Z"
   },
   {
    "duration": 4,
    "start_time": "2024-08-01T17:21:42.896Z"
   },
   {
    "duration": 70,
    "start_time": "2024-08-01T17:21:42.901Z"
   },
   {
    "duration": 20,
    "start_time": "2024-08-01T17:21:42.973Z"
   },
   {
    "duration": 34,
    "start_time": "2024-08-01T17:21:42.995Z"
   },
   {
    "duration": 27,
    "start_time": "2024-08-01T17:21:43.031Z"
   },
   {
    "duration": 24,
    "start_time": "2024-08-01T17:21:43.060Z"
   },
   {
    "duration": 23,
    "start_time": "2024-08-01T17:21:43.085Z"
   },
   {
    "duration": 4,
    "start_time": "2024-08-01T17:21:43.110Z"
   },
   {
    "duration": 21,
    "start_time": "2024-08-01T17:21:43.116Z"
   },
   {
    "duration": 24,
    "start_time": "2024-08-01T17:21:43.139Z"
   },
   {
    "duration": 38,
    "start_time": "2024-08-01T17:21:43.165Z"
   },
   {
    "duration": 36,
    "start_time": "2024-08-01T17:21:43.205Z"
   },
   {
    "duration": 21,
    "start_time": "2024-08-01T17:21:43.244Z"
   },
   {
    "duration": 38,
    "start_time": "2024-08-01T17:21:43.269Z"
   },
   {
    "duration": 19,
    "start_time": "2024-08-01T17:21:43.309Z"
   },
   {
    "duration": 130,
    "start_time": "2024-08-01T17:21:43.330Z"
   },
   {
    "duration": 0,
    "start_time": "2024-08-01T17:21:43.461Z"
   },
   {
    "duration": 0,
    "start_time": "2024-08-01T17:21:43.462Z"
   },
   {
    "duration": 0,
    "start_time": "2024-08-01T17:21:43.482Z"
   },
   {
    "duration": 0,
    "start_time": "2024-08-01T17:21:43.484Z"
   },
   {
    "duration": 0,
    "start_time": "2024-08-01T17:21:43.484Z"
   },
   {
    "duration": 0,
    "start_time": "2024-08-01T17:21:43.485Z"
   },
   {
    "duration": 0,
    "start_time": "2024-08-01T17:21:43.487Z"
   },
   {
    "duration": 0,
    "start_time": "2024-08-01T17:21:43.488Z"
   },
   {
    "duration": 0,
    "start_time": "2024-08-01T17:21:43.489Z"
   },
   {
    "duration": 0,
    "start_time": "2024-08-01T17:21:43.490Z"
   },
   {
    "duration": 0,
    "start_time": "2024-08-01T17:21:43.491Z"
   },
   {
    "duration": 0,
    "start_time": "2024-08-01T17:21:43.492Z"
   },
   {
    "duration": 0,
    "start_time": "2024-08-01T17:21:43.493Z"
   },
   {
    "duration": 0,
    "start_time": "2024-08-01T17:21:43.494Z"
   },
   {
    "duration": 0,
    "start_time": "2024-08-01T17:21:43.495Z"
   },
   {
    "duration": 0,
    "start_time": "2024-08-01T17:21:43.496Z"
   },
   {
    "duration": 0,
    "start_time": "2024-08-01T17:21:43.497Z"
   },
   {
    "duration": 0,
    "start_time": "2024-08-01T17:21:43.498Z"
   },
   {
    "duration": 0,
    "start_time": "2024-08-01T17:21:43.499Z"
   },
   {
    "duration": 0,
    "start_time": "2024-08-01T17:21:43.500Z"
   },
   {
    "duration": 0,
    "start_time": "2024-08-01T17:21:43.501Z"
   },
   {
    "duration": 0,
    "start_time": "2024-08-01T17:21:43.502Z"
   },
   {
    "duration": 0,
    "start_time": "2024-08-01T17:21:43.503Z"
   },
   {
    "duration": 0,
    "start_time": "2024-08-01T17:21:43.504Z"
   },
   {
    "duration": 0,
    "start_time": "2024-08-01T17:21:43.505Z"
   },
   {
    "duration": 0,
    "start_time": "2024-08-01T17:21:43.506Z"
   },
   {
    "duration": 0,
    "start_time": "2024-08-01T17:21:43.507Z"
   },
   {
    "duration": 0,
    "start_time": "2024-08-01T17:21:43.508Z"
   },
   {
    "duration": 0,
    "start_time": "2024-08-01T17:21:43.509Z"
   },
   {
    "duration": 0,
    "start_time": "2024-08-01T17:21:43.510Z"
   },
   {
    "duration": 0,
    "start_time": "2024-08-01T17:21:43.512Z"
   },
   {
    "duration": 0,
    "start_time": "2024-08-01T17:21:43.513Z"
   },
   {
    "duration": 0,
    "start_time": "2024-08-01T17:21:43.514Z"
   },
   {
    "duration": 0,
    "start_time": "2024-08-01T17:21:43.515Z"
   },
   {
    "duration": 0,
    "start_time": "2024-08-01T17:21:43.516Z"
   },
   {
    "duration": 0,
    "start_time": "2024-08-01T17:21:43.517Z"
   },
   {
    "duration": 0,
    "start_time": "2024-08-01T17:21:43.518Z"
   },
   {
    "duration": 0,
    "start_time": "2024-08-01T17:21:43.519Z"
   },
   {
    "duration": 0,
    "start_time": "2024-08-01T17:21:43.520Z"
   },
   {
    "duration": 0,
    "start_time": "2024-08-01T17:21:43.521Z"
   },
   {
    "duration": 0,
    "start_time": "2024-08-01T17:21:43.522Z"
   },
   {
    "duration": 0,
    "start_time": "2024-08-01T17:21:43.583Z"
   },
   {
    "duration": 0,
    "start_time": "2024-08-01T17:21:43.584Z"
   },
   {
    "duration": 0,
    "start_time": "2024-08-01T17:21:43.585Z"
   },
   {
    "duration": 219,
    "start_time": "2024-08-01T17:21:57.005Z"
   },
   {
    "duration": 3,
    "start_time": "2024-08-01T17:21:59.731Z"
   },
   {
    "duration": 59,
    "start_time": "2024-08-01T17:21:59.736Z"
   },
   {
    "duration": 20,
    "start_time": "2024-08-01T17:21:59.796Z"
   },
   {
    "duration": 13,
    "start_time": "2024-08-01T17:21:59.818Z"
   },
   {
    "duration": 16,
    "start_time": "2024-08-01T17:21:59.833Z"
   },
   {
    "duration": 39,
    "start_time": "2024-08-01T17:21:59.851Z"
   },
   {
    "duration": 18,
    "start_time": "2024-08-01T17:21:59.892Z"
   },
   {
    "duration": 5,
    "start_time": "2024-08-01T17:21:59.912Z"
   },
   {
    "duration": 17,
    "start_time": "2024-08-01T17:21:59.918Z"
   },
   {
    "duration": 45,
    "start_time": "2024-08-01T17:21:59.937Z"
   },
   {
    "duration": 37,
    "start_time": "2024-08-01T17:21:59.984Z"
   },
   {
    "duration": 22,
    "start_time": "2024-08-01T17:22:00.024Z"
   },
   {
    "duration": 87,
    "start_time": "2024-08-01T17:22:00.049Z"
   },
   {
    "duration": 69,
    "start_time": "2024-08-01T17:22:00.137Z"
   },
   {
    "duration": 19,
    "start_time": "2024-08-01T17:22:00.208Z"
   },
   {
    "duration": 137,
    "start_time": "2024-08-01T17:22:00.229Z"
   },
   {
    "duration": 6,
    "start_time": "2024-08-01T17:22:05.721Z"
   },
   {
    "duration": 325,
    "start_time": "2024-08-01T17:22:06.221Z"
   },
   {
    "duration": 1039,
    "start_time": "2024-08-01T17:22:06.596Z"
   },
   {
    "duration": 3,
    "start_time": "2024-08-01T17:22:07.637Z"
   },
   {
    "duration": 9,
    "start_time": "2024-08-01T17:22:07.642Z"
   },
   {
    "duration": 3,
    "start_time": "2024-08-01T17:22:07.921Z"
   },
   {
    "duration": 3,
    "start_time": "2024-08-01T17:22:08.373Z"
   },
   {
    "duration": 27,
    "start_time": "2024-08-01T17:22:10.004Z"
   },
   {
    "duration": 25,
    "start_time": "2024-08-01T17:22:10.244Z"
   },
   {
    "duration": 28,
    "start_time": "2024-08-01T17:22:10.452Z"
   },
   {
    "duration": 6,
    "start_time": "2024-08-01T17:22:11.055Z"
   },
   {
    "duration": 571,
    "start_time": "2024-08-01T17:22:12.034Z"
   },
   {
    "duration": 3,
    "start_time": "2024-08-01T17:22:12.619Z"
   },
   {
    "duration": 274,
    "start_time": "2024-08-01T17:22:12.842Z"
   },
   {
    "duration": 321,
    "start_time": "2024-08-01T17:22:13.118Z"
   },
   {
    "duration": 2,
    "start_time": "2024-08-01T17:22:14.393Z"
   },
   {
    "duration": 2,
    "start_time": "2024-08-01T17:22:14.606Z"
   },
   {
    "duration": 138,
    "start_time": "2024-08-01T17:22:14.780Z"
   },
   {
    "duration": 147,
    "start_time": "2024-08-01T17:22:14.983Z"
   },
   {
    "duration": 10,
    "start_time": "2024-08-01T17:22:15.886Z"
   },
   {
    "duration": 9,
    "start_time": "2024-08-01T17:22:16.108Z"
   },
   {
    "duration": 3,
    "start_time": "2024-08-01T17:22:16.782Z"
   },
   {
    "duration": 2,
    "start_time": "2024-08-01T17:22:17.044Z"
   },
   {
    "duration": 589,
    "start_time": "2024-08-01T17:22:17.650Z"
   },
   {
    "duration": 699,
    "start_time": "2024-08-01T17:22:18.242Z"
   },
   {
    "duration": 75,
    "start_time": "2024-08-01T17:22:18.943Z"
   },
   {
    "duration": 176,
    "start_time": "2024-08-01T17:22:20.130Z"
   },
   {
    "duration": 281,
    "start_time": "2024-08-01T17:22:20.596Z"
   },
   {
    "duration": 327,
    "start_time": "2024-08-01T17:22:20.882Z"
   },
   {
    "duration": 378,
    "start_time": "2024-08-01T17:22:21.641Z"
   },
   {
    "duration": 342,
    "start_time": "2024-08-01T17:22:22.275Z"
   },
   {
    "duration": 328,
    "start_time": "2024-08-01T17:22:23.330Z"
   },
   {
    "duration": 293,
    "start_time": "2024-08-01T17:22:24.238Z"
   },
   {
    "duration": 204,
    "start_time": "2024-08-01T17:22:24.878Z"
   },
   {
    "duration": 205,
    "start_time": "2024-08-01T17:22:25.615Z"
   },
   {
    "duration": 11,
    "start_time": "2024-08-01T17:35:34.503Z"
   },
   {
    "duration": 13,
    "start_time": "2024-08-01T17:35:36.239Z"
   },
   {
    "duration": 19,
    "start_time": "2024-08-01T17:35:53.976Z"
   },
   {
    "duration": 14,
    "start_time": "2024-08-01T17:36:51.313Z"
   },
   {
    "duration": 62,
    "start_time": "2024-08-01T17:42:59.018Z"
   },
   {
    "duration": 58,
    "start_time": "2024-08-01T17:43:14.818Z"
   },
   {
    "duration": 22,
    "start_time": "2024-08-01T17:43:28.812Z"
   },
   {
    "duration": 13,
    "start_time": "2024-08-01T17:50:08.471Z"
   },
   {
    "duration": 15,
    "start_time": "2024-08-01T17:50:14.665Z"
   },
   {
    "duration": 15,
    "start_time": "2024-08-01T17:50:44.590Z"
   },
   {
    "duration": 58,
    "start_time": "2024-08-01T17:52:27.525Z"
   },
   {
    "duration": 16,
    "start_time": "2024-08-01T17:52:30.342Z"
   },
   {
    "duration": 19,
    "start_time": "2024-08-01T17:54:02.849Z"
   },
   {
    "duration": 13,
    "start_time": "2024-08-01T17:54:24.185Z"
   },
   {
    "duration": 22,
    "start_time": "2024-08-01T17:54:28.522Z"
   },
   {
    "duration": 18,
    "start_time": "2024-08-01T17:54:49.029Z"
   },
   {
    "duration": 29,
    "start_time": "2024-08-01T17:55:41.626Z"
   },
   {
    "duration": 22,
    "start_time": "2024-08-01T17:55:58.463Z"
   },
   {
    "duration": 19,
    "start_time": "2024-08-01T17:56:06.289Z"
   },
   {
    "duration": 20,
    "start_time": "2024-08-01T17:56:29.789Z"
   },
   {
    "duration": 19,
    "start_time": "2024-08-01T17:56:35.352Z"
   },
   {
    "duration": 19,
    "start_time": "2024-08-01T17:56:46.746Z"
   },
   {
    "duration": 21,
    "start_time": "2024-08-01T17:58:42.698Z"
   },
   {
    "duration": 14,
    "start_time": "2024-08-01T17:58:52.417Z"
   },
   {
    "duration": 19,
    "start_time": "2024-08-01T17:58:56.932Z"
   },
   {
    "duration": 20,
    "start_time": "2024-08-01T17:59:05.213Z"
   },
   {
    "duration": 18,
    "start_time": "2024-08-01T17:59:28.347Z"
   },
   {
    "duration": 1519,
    "start_time": "2024-08-01T18:01:27.274Z"
   },
   {
    "duration": 13,
    "start_time": "2024-08-01T18:01:55.631Z"
   },
   {
    "duration": 16,
    "start_time": "2024-08-01T18:02:01.182Z"
   },
   {
    "duration": 14,
    "start_time": "2024-08-01T18:02:44.905Z"
   },
   {
    "duration": 1032,
    "start_time": "2024-08-01T18:02:51.330Z"
   },
   {
    "duration": 376,
    "start_time": "2024-08-01T18:02:58.710Z"
   },
   {
    "duration": 1076,
    "start_time": "2024-08-01T18:03:06.193Z"
   },
   {
    "duration": 12,
    "start_time": "2024-08-01T18:03:27.218Z"
   },
   {
    "duration": 17,
    "start_time": "2024-08-01T18:03:35.481Z"
   },
   {
    "duration": 554,
    "start_time": "2024-08-01T18:10:26.284Z"
   },
   {
    "duration": 845,
    "start_time": "2024-08-01T18:11:43.140Z"
   },
   {
    "duration": 859,
    "start_time": "2024-08-01T18:12:10.489Z"
   },
   {
    "duration": 935,
    "start_time": "2024-08-01T18:12:18.730Z"
   },
   {
    "duration": 841,
    "start_time": "2024-08-01T18:12:29.427Z"
   },
   {
    "duration": 581,
    "start_time": "2024-08-01T18:14:07.962Z"
   },
   {
    "duration": 557,
    "start_time": "2024-08-01T18:14:22.203Z"
   },
   {
    "duration": 655,
    "start_time": "2024-08-01T18:14:28.550Z"
   },
   {
    "duration": 564,
    "start_time": "2024-08-01T18:14:36.004Z"
   },
   {
    "duration": 561,
    "start_time": "2024-08-01T18:14:39.318Z"
   },
   {
    "duration": 583,
    "start_time": "2024-08-01T18:14:42.232Z"
   },
   {
    "duration": 67,
    "start_time": "2024-08-01T18:15:00.133Z"
   },
   {
    "duration": 533,
    "start_time": "2024-08-01T18:15:02.918Z"
   },
   {
    "duration": 635,
    "start_time": "2024-08-01T18:15:07.739Z"
   },
   {
    "duration": 570,
    "start_time": "2024-08-01T18:15:13.079Z"
   },
   {
    "duration": 521,
    "start_time": "2024-08-01T18:15:16.000Z"
   },
   {
    "duration": 525,
    "start_time": "2024-08-01T18:15:29.891Z"
   },
   {
    "duration": 555,
    "start_time": "2024-08-01T18:15:32.908Z"
   },
   {
    "duration": 699,
    "start_time": "2024-08-01T18:15:37.811Z"
   },
   {
    "duration": 577,
    "start_time": "2024-08-01T18:15:52.010Z"
   },
   {
    "duration": 582,
    "start_time": "2024-08-01T18:16:52.416Z"
   },
   {
    "duration": 69,
    "start_time": "2024-08-01T18:17:06.365Z"
   },
   {
    "duration": 623,
    "start_time": "2024-08-01T18:17:09.330Z"
   },
   {
    "duration": 657,
    "start_time": "2024-08-01T18:17:14.756Z"
   },
   {
    "duration": 589,
    "start_time": "2024-08-01T18:17:21.644Z"
   },
   {
    "duration": 680,
    "start_time": "2024-08-01T18:17:35.940Z"
   },
   {
    "duration": 571,
    "start_time": "2024-08-01T18:17:44.187Z"
   },
   {
    "duration": 65,
    "start_time": "2024-08-01T18:17:47.396Z"
   },
   {
    "duration": 571,
    "start_time": "2024-08-01T18:17:49.350Z"
   },
   {
    "duration": 609,
    "start_time": "2024-08-01T18:17:53.831Z"
   },
   {
    "duration": 329,
    "start_time": "2024-08-01T18:18:14.137Z"
   },
   {
    "duration": 12,
    "start_time": "2024-08-01T18:18:46.031Z"
   },
   {
    "duration": 861,
    "start_time": "2024-08-01T18:18:50.117Z"
   },
   {
    "duration": 13,
    "start_time": "2024-08-01T18:19:01.545Z"
   },
   {
    "duration": 12,
    "start_time": "2024-08-01T18:19:02.234Z"
   },
   {
    "duration": 13,
    "start_time": "2024-08-01T18:19:02.981Z"
   },
   {
    "duration": 706,
    "start_time": "2024-08-01T18:19:03.629Z"
   },
   {
    "duration": 20,
    "start_time": "2024-08-01T18:19:22.394Z"
   },
   {
    "duration": 14,
    "start_time": "2024-08-01T18:19:56.083Z"
   },
   {
    "duration": 589,
    "start_time": "2024-08-01T18:19:57.942Z"
   },
   {
    "duration": 12,
    "start_time": "2024-08-01T18:20:05.591Z"
   },
   {
    "duration": 12,
    "start_time": "2024-08-01T18:20:06.018Z"
   },
   {
    "duration": 13,
    "start_time": "2024-08-01T18:20:06.493Z"
   },
   {
    "duration": 576,
    "start_time": "2024-08-01T18:20:07.744Z"
   },
   {
    "duration": 18,
    "start_time": "2024-08-01T18:20:19.137Z"
   },
   {
    "duration": 16,
    "start_time": "2024-08-01T18:20:23.702Z"
   },
   {
    "duration": 12,
    "start_time": "2024-08-01T18:20:27.403Z"
   },
   {
    "duration": 641,
    "start_time": "2024-08-01T18:20:32.214Z"
   },
   {
    "duration": 654,
    "start_time": "2024-08-01T18:20:49.782Z"
   },
   {
    "duration": 696,
    "start_time": "2024-08-01T18:21:06.102Z"
   },
   {
    "duration": 644,
    "start_time": "2024-08-01T18:24:10.071Z"
   },
   {
    "duration": 585,
    "start_time": "2024-08-01T18:24:46.041Z"
   },
   {
    "duration": 593,
    "start_time": "2024-08-01T18:25:10.529Z"
   },
   {
    "duration": 667,
    "start_time": "2024-08-01T18:25:13.737Z"
   },
   {
    "duration": 940,
    "start_time": "2024-08-01T18:26:34.803Z"
   },
   {
    "duration": 772,
    "start_time": "2024-08-01T18:27:12.433Z"
   },
   {
    "duration": 668,
    "start_time": "2024-08-01T18:27:23.139Z"
   },
   {
    "duration": 674,
    "start_time": "2024-08-01T18:27:29.472Z"
   },
   {
    "duration": 618,
    "start_time": "2024-08-01T18:27:40.601Z"
   },
   {
    "duration": 684,
    "start_time": "2024-08-01T18:27:53.101Z"
   },
   {
    "duration": 798,
    "start_time": "2024-08-01T18:28:29.488Z"
   },
   {
    "duration": 691,
    "start_time": "2024-08-01T18:28:36.786Z"
   },
   {
    "duration": 656,
    "start_time": "2024-08-01T18:28:42.826Z"
   },
   {
    "duration": 1119,
    "start_time": "2024-08-01T18:28:48.521Z"
   },
   {
    "duration": 848,
    "start_time": "2024-08-01T18:29:13.572Z"
   },
   {
    "duration": 606,
    "start_time": "2024-08-01T18:30:19.365Z"
   },
   {
    "duration": 668,
    "start_time": "2024-08-01T18:30:25.428Z"
   },
   {
    "duration": 700,
    "start_time": "2024-08-01T18:30:34.859Z"
   },
   {
    "duration": 790,
    "start_time": "2024-08-01T18:30:39.191Z"
   },
   {
    "duration": 677,
    "start_time": "2024-08-01T18:30:42.755Z"
   },
   {
    "duration": 700,
    "start_time": "2024-08-01T18:30:47.402Z"
   },
   {
    "duration": 673,
    "start_time": "2024-08-01T18:30:51.465Z"
   },
   {
    "duration": 814,
    "start_time": "2024-08-01T18:31:00.837Z"
   },
   {
    "duration": 699,
    "start_time": "2024-08-01T18:31:06.056Z"
   },
   {
    "duration": 709,
    "start_time": "2024-08-01T18:31:15.345Z"
   },
   {
    "duration": 638,
    "start_time": "2024-08-01T18:31:20.205Z"
   },
   {
    "duration": 797,
    "start_time": "2024-08-01T18:31:29.214Z"
   },
   {
    "duration": 679,
    "start_time": "2024-08-01T18:31:43.261Z"
   },
   {
    "duration": 288,
    "start_time": "2024-08-01T18:31:53.695Z"
   },
   {
    "duration": 692,
    "start_time": "2024-08-01T18:31:58.877Z"
   },
   {
    "duration": 775,
    "start_time": "2024-08-01T18:32:04.627Z"
   },
   {
    "duration": 683,
    "start_time": "2024-08-01T18:32:08.139Z"
   },
   {
    "duration": 702,
    "start_time": "2024-08-01T18:32:13.258Z"
   },
   {
    "duration": 691,
    "start_time": "2024-08-01T18:32:19.010Z"
   },
   {
    "duration": 755,
    "start_time": "2024-08-01T18:32:22.457Z"
   },
   {
    "duration": 907,
    "start_time": "2024-08-01T18:32:44.521Z"
   },
   {
    "duration": 943,
    "start_time": "2024-08-01T18:32:54.353Z"
   },
   {
    "duration": 117,
    "start_time": "2024-08-01T18:33:26.958Z"
   },
   {
    "duration": 919,
    "start_time": "2024-08-01T18:33:30.757Z"
   },
   {
    "duration": 913,
    "start_time": "2024-08-01T18:33:35.909Z"
   },
   {
    "duration": 984,
    "start_time": "2024-08-01T18:36:14.696Z"
   },
   {
    "duration": 666,
    "start_time": "2024-08-01T18:36:39.619Z"
   },
   {
    "duration": 920,
    "start_time": "2024-08-01T18:36:45.980Z"
   },
   {
    "duration": 921,
    "start_time": "2024-08-01T18:36:55.664Z"
   },
   {
    "duration": 217,
    "start_time": "2024-08-01T18:38:04.088Z"
   },
   {
    "duration": 431,
    "start_time": "2024-08-01T18:38:27.443Z"
   },
   {
    "duration": 553,
    "start_time": "2024-08-01T18:38:33.713Z"
   },
   {
    "duration": 423,
    "start_time": "2024-08-01T18:38:40.513Z"
   },
   {
    "duration": 943,
    "start_time": "2024-08-01T18:38:50.937Z"
   },
   {
    "duration": 67,
    "start_time": "2024-08-01T18:39:17.477Z"
   },
   {
    "duration": 856,
    "start_time": "2024-08-01T18:39:41.258Z"
   },
   {
    "duration": 880,
    "start_time": "2024-08-01T18:39:54.401Z"
   },
   {
    "duration": 893,
    "start_time": "2024-08-01T18:40:02.282Z"
   },
   {
    "duration": 932,
    "start_time": "2024-08-01T18:42:46.956Z"
   },
   {
    "duration": 927,
    "start_time": "2024-08-01T18:42:53.529Z"
   },
   {
    "duration": 968,
    "start_time": "2024-08-01T18:42:58.714Z"
   },
   {
    "duration": 846,
    "start_time": "2024-08-01T18:43:27.554Z"
   },
   {
    "duration": 848,
    "start_time": "2024-08-01T18:43:41.717Z"
   },
   {
    "duration": 848,
    "start_time": "2024-08-01T18:43:48.677Z"
   },
   {
    "duration": 803,
    "start_time": "2024-08-01T18:44:10.507Z"
   },
   {
    "duration": 918,
    "start_time": "2024-08-01T18:45:05.700Z"
   },
   {
    "duration": 916,
    "start_time": "2024-08-01T18:45:12.062Z"
   },
   {
    "duration": 835,
    "start_time": "2024-08-01T18:45:17.955Z"
   },
   {
    "duration": 829,
    "start_time": "2024-08-01T18:45:21.914Z"
   },
   {
    "duration": 806,
    "start_time": "2024-08-01T18:45:34.693Z"
   },
   {
    "duration": 650,
    "start_time": "2024-08-01T18:46:19.386Z"
   },
   {
    "duration": 940,
    "start_time": "2024-08-01T18:46:22.997Z"
   },
   {
    "duration": 963,
    "start_time": "2024-08-01T18:46:27.546Z"
   },
   {
    "duration": 644,
    "start_time": "2024-08-01T18:47:26.181Z"
   },
   {
    "duration": 1048,
    "start_time": "2024-08-01T18:49:00.395Z"
   },
   {
    "duration": 992,
    "start_time": "2024-08-01T18:49:31.116Z"
   },
   {
    "duration": 1072,
    "start_time": "2024-08-01T18:49:46.516Z"
   },
   {
    "duration": 1011,
    "start_time": "2024-08-01T18:49:51.739Z"
   },
   {
    "duration": 913,
    "start_time": "2024-08-01T18:50:09.306Z"
   },
   {
    "duration": 958,
    "start_time": "2024-08-01T18:50:18.553Z"
   },
   {
    "duration": 1509,
    "start_time": "2024-08-01T18:50:22.420Z"
   },
   {
    "duration": 1039,
    "start_time": "2024-08-01T18:50:33.900Z"
   },
   {
    "duration": 1259,
    "start_time": "2024-08-01T18:50:37.057Z"
   },
   {
    "duration": 995,
    "start_time": "2024-08-01T18:50:43.640Z"
   },
   {
    "duration": 1013,
    "start_time": "2024-08-01T18:50:47.895Z"
   },
   {
    "duration": 969,
    "start_time": "2024-08-01T18:50:52.368Z"
   },
   {
    "duration": 1044,
    "start_time": "2024-08-01T18:51:01.080Z"
   },
   {
    "duration": 1629,
    "start_time": "2024-08-01T18:51:04.579Z"
   },
   {
    "duration": 1248,
    "start_time": "2024-08-01T18:51:11.680Z"
   },
   {
    "duration": 958,
    "start_time": "2024-08-01T18:51:23.233Z"
   },
   {
    "duration": 1260,
    "start_time": "2024-08-01T18:51:27.444Z"
   },
   {
    "duration": 975,
    "start_time": "2024-08-01T18:51:37.209Z"
   },
   {
    "duration": 975,
    "start_time": "2024-08-01T18:51:41.034Z"
   },
   {
    "duration": 1022,
    "start_time": "2024-08-01T18:51:45.024Z"
   },
   {
    "duration": 856,
    "start_time": "2024-08-01T18:51:49.391Z"
   },
   {
    "duration": 913,
    "start_time": "2024-08-01T18:51:53.197Z"
   },
   {
    "duration": 905,
    "start_time": "2024-08-01T18:52:00.956Z"
   },
   {
    "duration": 872,
    "start_time": "2024-08-01T18:52:04.911Z"
   },
   {
    "duration": 1022,
    "start_time": "2024-08-01T18:52:08.624Z"
   },
   {
    "duration": 853,
    "start_time": "2024-08-01T18:52:24.294Z"
   },
   {
    "duration": 898,
    "start_time": "2024-08-01T18:52:31.753Z"
   },
   {
    "duration": 915,
    "start_time": "2024-08-01T18:52:51.418Z"
   },
   {
    "duration": 879,
    "start_time": "2024-08-01T18:53:04.938Z"
   },
   {
    "duration": 1002,
    "start_time": "2024-08-01T18:53:09.372Z"
   },
   {
    "duration": 1386,
    "start_time": "2024-08-01T18:53:34.086Z"
   },
   {
    "duration": 58,
    "start_time": "2024-08-01T19:02:09.333Z"
   },
   {
    "duration": 1228,
    "start_time": "2024-08-01T19:07:31.507Z"
   },
   {
    "duration": 1030,
    "start_time": "2024-08-01T19:07:47.720Z"
   },
   {
    "duration": 1140,
    "start_time": "2024-08-01T19:08:18.971Z"
   },
   {
    "duration": 893,
    "start_time": "2024-08-01T19:08:33.325Z"
   },
   {
    "duration": 249,
    "start_time": "2024-08-01T19:09:19.273Z"
   },
   {
    "duration": 281,
    "start_time": "2024-08-01T19:09:27.181Z"
   },
   {
    "duration": 904,
    "start_time": "2024-08-01T19:09:39.256Z"
   },
   {
    "duration": 862,
    "start_time": "2024-08-01T19:09:54.106Z"
   },
   {
    "duration": 823,
    "start_time": "2024-08-01T19:10:00.062Z"
   },
   {
    "duration": 886,
    "start_time": "2024-08-01T19:13:15.411Z"
   },
   {
    "duration": 944,
    "start_time": "2024-08-01T19:13:21.815Z"
   },
   {
    "duration": 1049,
    "start_time": "2024-08-01T19:14:49.522Z"
   },
   {
    "duration": 125,
    "start_time": "2024-08-01T19:15:29.522Z"
   },
   {
    "duration": 880,
    "start_time": "2024-08-01T19:15:34.547Z"
   },
   {
    "duration": 882,
    "start_time": "2024-08-01T19:16:58.021Z"
   },
   {
    "duration": 871,
    "start_time": "2024-08-01T19:18:19.286Z"
   },
   {
    "duration": 848,
    "start_time": "2024-08-01T19:18:32.857Z"
   },
   {
    "duration": 970,
    "start_time": "2024-08-01T19:18:47.330Z"
   },
   {
    "duration": 890,
    "start_time": "2024-08-01T19:19:03.773Z"
   },
   {
    "duration": 2,
    "start_time": "2024-08-01T19:19:43.489Z"
   },
   {
    "duration": 2,
    "start_time": "2024-08-01T19:19:51.659Z"
   },
   {
    "duration": 2,
    "start_time": "2024-08-01T19:20:02.960Z"
   },
   {
    "duration": 13,
    "start_time": "2024-08-01T19:20:54.530Z"
   },
   {
    "duration": 14,
    "start_time": "2024-08-01T19:20:55.830Z"
   },
   {
    "duration": 14,
    "start_time": "2024-08-01T19:20:57.912Z"
   },
   {
    "duration": 17,
    "start_time": "2024-08-01T19:38:12.176Z"
   },
   {
    "duration": 3,
    "start_time": "2024-08-01T19:38:35.183Z"
   },
   {
    "duration": 2,
    "start_time": "2024-08-01T19:38:36.325Z"
   },
   {
    "duration": 164,
    "start_time": "2024-08-01T19:38:55.341Z"
   },
   {
    "duration": 162,
    "start_time": "2024-08-01T19:40:11.049Z"
   },
   {
    "duration": 155,
    "start_time": "2024-08-01T19:40:14.448Z"
   },
   {
    "duration": 160,
    "start_time": "2024-08-01T19:40:17.900Z"
   },
   {
    "duration": 157,
    "start_time": "2024-08-01T19:40:21.459Z"
   },
   {
    "duration": 181,
    "start_time": "2024-08-01T19:41:27.408Z"
   },
   {
    "duration": 189,
    "start_time": "2024-08-01T19:44:04.616Z"
   },
   {
    "duration": 169,
    "start_time": "2024-08-01T19:44:10.228Z"
   },
   {
    "duration": 289,
    "start_time": "2024-08-01T19:44:37.844Z"
   },
   {
    "duration": 14,
    "start_time": "2024-08-01T19:44:46.028Z"
   },
   {
    "duration": 13,
    "start_time": "2024-08-01T19:44:48.848Z"
   },
   {
    "duration": 166,
    "start_time": "2024-08-01T19:45:10.437Z"
   },
   {
    "duration": 3,
    "start_time": "2024-08-01T19:45:41.580Z"
   },
   {
    "duration": 2,
    "start_time": "2024-08-01T19:45:44.226Z"
   },
   {
    "duration": 3,
    "start_time": "2024-08-01T19:47:08.815Z"
   },
   {
    "duration": 35,
    "start_time": "2024-08-01T20:01:45.986Z"
   },
   {
    "duration": 36,
    "start_time": "2024-08-01T20:02:28.389Z"
   },
   {
    "duration": 1125,
    "start_time": "2024-08-01T20:21:10.740Z"
   },
   {
    "duration": 59,
    "start_time": "2024-08-01T20:21:11.867Z"
   },
   {
    "duration": 74,
    "start_time": "2024-08-01T20:21:11.928Z"
   },
   {
    "duration": 16,
    "start_time": "2024-08-01T20:21:12.003Z"
   },
   {
    "duration": 17,
    "start_time": "2024-08-01T20:21:12.021Z"
   },
   {
    "duration": 11,
    "start_time": "2024-08-01T20:21:12.039Z"
   },
   {
    "duration": 38,
    "start_time": "2024-08-01T20:21:12.052Z"
   },
   {
    "duration": 4,
    "start_time": "2024-08-01T20:21:12.092Z"
   },
   {
    "duration": 24,
    "start_time": "2024-08-01T20:21:12.098Z"
   },
   {
    "duration": 9,
    "start_time": "2024-08-01T20:21:12.124Z"
   },
   {
    "duration": 22,
    "start_time": "2024-08-01T20:21:12.135Z"
   },
   {
    "duration": 19,
    "start_time": "2024-08-01T20:21:12.181Z"
   },
   {
    "duration": 22,
    "start_time": "2024-08-01T20:21:12.202Z"
   },
   {
    "duration": 73,
    "start_time": "2024-08-01T20:21:12.228Z"
   },
   {
    "duration": 22,
    "start_time": "2024-08-01T20:21:12.303Z"
   },
   {
    "duration": 222,
    "start_time": "2024-08-01T20:21:12.327Z"
   },
   {
    "duration": 0,
    "start_time": "2024-08-01T20:21:12.552Z"
   },
   {
    "duration": 0,
    "start_time": "2024-08-01T20:21:12.553Z"
   },
   {
    "duration": 0,
    "start_time": "2024-08-01T20:21:12.554Z"
   },
   {
    "duration": 0,
    "start_time": "2024-08-01T20:21:12.555Z"
   },
   {
    "duration": 0,
    "start_time": "2024-08-01T20:21:12.556Z"
   },
   {
    "duration": 0,
    "start_time": "2024-08-01T20:21:12.557Z"
   },
   {
    "duration": 0,
    "start_time": "2024-08-01T20:21:12.558Z"
   },
   {
    "duration": 0,
    "start_time": "2024-08-01T20:21:12.559Z"
   },
   {
    "duration": 0,
    "start_time": "2024-08-01T20:21:12.560Z"
   },
   {
    "duration": 0,
    "start_time": "2024-08-01T20:21:12.561Z"
   },
   {
    "duration": 0,
    "start_time": "2024-08-01T20:21:12.562Z"
   },
   {
    "duration": 0,
    "start_time": "2024-08-01T20:21:12.582Z"
   },
   {
    "duration": 0,
    "start_time": "2024-08-01T20:21:12.584Z"
   },
   {
    "duration": 0,
    "start_time": "2024-08-01T20:21:12.585Z"
   },
   {
    "duration": 0,
    "start_time": "2024-08-01T20:21:12.586Z"
   },
   {
    "duration": 0,
    "start_time": "2024-08-01T20:21:12.588Z"
   },
   {
    "duration": 0,
    "start_time": "2024-08-01T20:21:12.589Z"
   },
   {
    "duration": 0,
    "start_time": "2024-08-01T20:21:12.590Z"
   },
   {
    "duration": 0,
    "start_time": "2024-08-01T20:21:12.591Z"
   },
   {
    "duration": 0,
    "start_time": "2024-08-01T20:21:12.592Z"
   },
   {
    "duration": 0,
    "start_time": "2024-08-01T20:21:12.593Z"
   },
   {
    "duration": 0,
    "start_time": "2024-08-01T20:21:12.594Z"
   },
   {
    "duration": 0,
    "start_time": "2024-08-01T20:21:12.595Z"
   },
   {
    "duration": 0,
    "start_time": "2024-08-01T20:21:12.596Z"
   },
   {
    "duration": 0,
    "start_time": "2024-08-01T20:21:12.598Z"
   },
   {
    "duration": 0,
    "start_time": "2024-08-01T20:21:12.599Z"
   },
   {
    "duration": 0,
    "start_time": "2024-08-01T20:21:12.600Z"
   },
   {
    "duration": 0,
    "start_time": "2024-08-01T20:21:12.601Z"
   },
   {
    "duration": 0,
    "start_time": "2024-08-01T20:21:12.602Z"
   },
   {
    "duration": 0,
    "start_time": "2024-08-01T20:21:12.603Z"
   },
   {
    "duration": 0,
    "start_time": "2024-08-01T20:21:12.604Z"
   },
   {
    "duration": 0,
    "start_time": "2024-08-01T20:21:12.605Z"
   },
   {
    "duration": 0,
    "start_time": "2024-08-01T20:21:12.606Z"
   },
   {
    "duration": 0,
    "start_time": "2024-08-01T20:21:12.607Z"
   },
   {
    "duration": 0,
    "start_time": "2024-08-01T20:21:12.608Z"
   },
   {
    "duration": 0,
    "start_time": "2024-08-01T20:21:12.610Z"
   },
   {
    "duration": 0,
    "start_time": "2024-08-01T20:21:12.610Z"
   },
   {
    "duration": 0,
    "start_time": "2024-08-01T20:21:12.612Z"
   },
   {
    "duration": 0,
    "start_time": "2024-08-01T20:21:12.613Z"
   },
   {
    "duration": 0,
    "start_time": "2024-08-01T20:21:12.614Z"
   },
   {
    "duration": 0,
    "start_time": "2024-08-01T20:21:12.615Z"
   },
   {
    "duration": 0,
    "start_time": "2024-08-01T20:21:12.616Z"
   },
   {
    "duration": 0,
    "start_time": "2024-08-01T20:21:12.617Z"
   },
   {
    "duration": 0,
    "start_time": "2024-08-01T20:21:12.618Z"
   },
   {
    "duration": 0,
    "start_time": "2024-08-01T20:21:12.619Z"
   },
   {
    "duration": 0,
    "start_time": "2024-08-01T20:21:12.620Z"
   },
   {
    "duration": 0,
    "start_time": "2024-08-01T20:21:12.682Z"
   },
   {
    "duration": 3,
    "start_time": "2024-08-01T20:21:18.438Z"
   },
   {
    "duration": 80,
    "start_time": "2024-08-01T20:21:18.443Z"
   },
   {
    "duration": 19,
    "start_time": "2024-08-01T20:21:18.525Z"
   },
   {
    "duration": 14,
    "start_time": "2024-08-01T20:21:18.546Z"
   },
   {
    "duration": 30,
    "start_time": "2024-08-01T20:21:18.563Z"
   },
   {
    "duration": 23,
    "start_time": "2024-08-01T20:21:18.595Z"
   },
   {
    "duration": 12,
    "start_time": "2024-08-01T20:21:18.620Z"
   },
   {
    "duration": 3,
    "start_time": "2024-08-01T20:21:18.634Z"
   },
   {
    "duration": 35,
    "start_time": "2024-08-01T20:21:18.639Z"
   },
   {
    "duration": 34,
    "start_time": "2024-08-01T20:21:18.676Z"
   },
   {
    "duration": 22,
    "start_time": "2024-08-01T20:21:18.713Z"
   },
   {
    "duration": 24,
    "start_time": "2024-08-01T20:21:18.737Z"
   },
   {
    "duration": 31,
    "start_time": "2024-08-01T20:21:18.763Z"
   },
   {
    "duration": 37,
    "start_time": "2024-08-01T20:21:18.795Z"
   },
   {
    "duration": 19,
    "start_time": "2024-08-01T20:21:18.833Z"
   },
   {
    "duration": 142,
    "start_time": "2024-08-01T20:21:18.854Z"
   },
   {
    "duration": 0,
    "start_time": "2024-08-01T20:21:18.998Z"
   },
   {
    "duration": 0,
    "start_time": "2024-08-01T20:21:18.999Z"
   },
   {
    "duration": 0,
    "start_time": "2024-08-01T20:21:19.000Z"
   },
   {
    "duration": 0,
    "start_time": "2024-08-01T20:21:19.002Z"
   },
   {
    "duration": 0,
    "start_time": "2024-08-01T20:21:19.003Z"
   },
   {
    "duration": 0,
    "start_time": "2024-08-01T20:21:19.004Z"
   },
   {
    "duration": 0,
    "start_time": "2024-08-01T20:21:19.005Z"
   },
   {
    "duration": 0,
    "start_time": "2024-08-01T20:21:19.006Z"
   },
   {
    "duration": 0,
    "start_time": "2024-08-01T20:21:19.007Z"
   },
   {
    "duration": 0,
    "start_time": "2024-08-01T20:21:19.008Z"
   },
   {
    "duration": 0,
    "start_time": "2024-08-01T20:21:19.009Z"
   },
   {
    "duration": 0,
    "start_time": "2024-08-01T20:21:19.010Z"
   },
   {
    "duration": 0,
    "start_time": "2024-08-01T20:21:19.011Z"
   },
   {
    "duration": 0,
    "start_time": "2024-08-01T20:21:19.012Z"
   },
   {
    "duration": 0,
    "start_time": "2024-08-01T20:21:19.013Z"
   },
   {
    "duration": 0,
    "start_time": "2024-08-01T20:21:19.014Z"
   },
   {
    "duration": 0,
    "start_time": "2024-08-01T20:21:19.015Z"
   },
   {
    "duration": 0,
    "start_time": "2024-08-01T20:21:19.016Z"
   },
   {
    "duration": 0,
    "start_time": "2024-08-01T20:21:19.017Z"
   },
   {
    "duration": 0,
    "start_time": "2024-08-01T20:21:19.018Z"
   },
   {
    "duration": 0,
    "start_time": "2024-08-01T20:21:19.020Z"
   },
   {
    "duration": 0,
    "start_time": "2024-08-01T20:21:19.020Z"
   },
   {
    "duration": 0,
    "start_time": "2024-08-01T20:21:19.021Z"
   },
   {
    "duration": 0,
    "start_time": "2024-08-01T20:21:19.022Z"
   },
   {
    "duration": 0,
    "start_time": "2024-08-01T20:21:19.023Z"
   },
   {
    "duration": 0,
    "start_time": "2024-08-01T20:21:19.025Z"
   },
   {
    "duration": 1,
    "start_time": "2024-08-01T20:21:19.025Z"
   },
   {
    "duration": 0,
    "start_time": "2024-08-01T20:21:19.027Z"
   },
   {
    "duration": 0,
    "start_time": "2024-08-01T20:21:19.028Z"
   },
   {
    "duration": 0,
    "start_time": "2024-08-01T20:21:19.029Z"
   },
   {
    "duration": 0,
    "start_time": "2024-08-01T20:21:19.083Z"
   },
   {
    "duration": 0,
    "start_time": "2024-08-01T20:21:19.084Z"
   },
   {
    "duration": 0,
    "start_time": "2024-08-01T20:21:19.086Z"
   },
   {
    "duration": 0,
    "start_time": "2024-08-01T20:21:19.087Z"
   },
   {
    "duration": 0,
    "start_time": "2024-08-01T20:21:19.088Z"
   },
   {
    "duration": 0,
    "start_time": "2024-08-01T20:21:19.089Z"
   },
   {
    "duration": 0,
    "start_time": "2024-08-01T20:21:19.090Z"
   },
   {
    "duration": 0,
    "start_time": "2024-08-01T20:21:19.091Z"
   },
   {
    "duration": 0,
    "start_time": "2024-08-01T20:21:19.092Z"
   },
   {
    "duration": 0,
    "start_time": "2024-08-01T20:21:19.093Z"
   },
   {
    "duration": 0,
    "start_time": "2024-08-01T20:21:19.094Z"
   },
   {
    "duration": 0,
    "start_time": "2024-08-01T20:21:19.095Z"
   },
   {
    "duration": 0,
    "start_time": "2024-08-01T20:21:19.096Z"
   },
   {
    "duration": 0,
    "start_time": "2024-08-01T20:21:19.097Z"
   },
   {
    "duration": 0,
    "start_time": "2024-08-01T20:21:19.098Z"
   },
   {
    "duration": 0,
    "start_time": "2024-08-01T20:21:19.099Z"
   },
   {
    "duration": 0,
    "start_time": "2024-08-01T20:21:19.100Z"
   },
   {
    "duration": 1166,
    "start_time": "2024-08-01T20:21:29.200Z"
   },
   {
    "duration": 59,
    "start_time": "2024-08-01T20:21:30.369Z"
   },
   {
    "duration": 62,
    "start_time": "2024-08-01T20:21:30.429Z"
   },
   {
    "duration": 37,
    "start_time": "2024-08-01T20:21:30.492Z"
   },
   {
    "duration": 53,
    "start_time": "2024-08-01T20:21:30.531Z"
   },
   {
    "duration": 17,
    "start_time": "2024-08-01T20:21:30.586Z"
   },
   {
    "duration": 53,
    "start_time": "2024-08-01T20:21:30.604Z"
   },
   {
    "duration": 36,
    "start_time": "2024-08-01T20:21:30.658Z"
   },
   {
    "duration": 48,
    "start_time": "2024-08-01T20:21:30.695Z"
   },
   {
    "duration": 69,
    "start_time": "2024-08-01T20:21:30.745Z"
   },
   {
    "duration": 71,
    "start_time": "2024-08-01T20:21:30.816Z"
   },
   {
    "duration": 136,
    "start_time": "2024-08-01T20:21:30.888Z"
   },
   {
    "duration": 60,
    "start_time": "2024-08-01T20:21:31.026Z"
   },
   {
    "duration": 92,
    "start_time": "2024-08-01T20:21:31.089Z"
   },
   {
    "duration": 25,
    "start_time": "2024-08-01T20:21:31.183Z"
   },
   {
    "duration": 226,
    "start_time": "2024-08-01T20:21:31.209Z"
   },
   {
    "duration": 0,
    "start_time": "2024-08-01T20:21:31.437Z"
   },
   {
    "duration": 0,
    "start_time": "2024-08-01T20:21:31.439Z"
   },
   {
    "duration": 0,
    "start_time": "2024-08-01T20:21:31.440Z"
   },
   {
    "duration": 0,
    "start_time": "2024-08-01T20:21:31.441Z"
   },
   {
    "duration": 0,
    "start_time": "2024-08-01T20:21:31.442Z"
   },
   {
    "duration": 0,
    "start_time": "2024-08-01T20:21:31.443Z"
   },
   {
    "duration": 0,
    "start_time": "2024-08-01T20:21:31.443Z"
   },
   {
    "duration": 0,
    "start_time": "2024-08-01T20:21:31.445Z"
   },
   {
    "duration": 0,
    "start_time": "2024-08-01T20:21:31.445Z"
   },
   {
    "duration": 0,
    "start_time": "2024-08-01T20:21:31.447Z"
   },
   {
    "duration": 0,
    "start_time": "2024-08-01T20:21:31.448Z"
   },
   {
    "duration": 0,
    "start_time": "2024-08-01T20:21:31.449Z"
   },
   {
    "duration": 0,
    "start_time": "2024-08-01T20:21:31.451Z"
   },
   {
    "duration": 0,
    "start_time": "2024-08-01T20:21:31.481Z"
   },
   {
    "duration": 0,
    "start_time": "2024-08-01T20:21:31.483Z"
   },
   {
    "duration": 0,
    "start_time": "2024-08-01T20:21:31.484Z"
   },
   {
    "duration": 0,
    "start_time": "2024-08-01T20:21:31.485Z"
   },
   {
    "duration": 0,
    "start_time": "2024-08-01T20:21:31.486Z"
   },
   {
    "duration": 0,
    "start_time": "2024-08-01T20:21:31.487Z"
   },
   {
    "duration": 0,
    "start_time": "2024-08-01T20:21:31.488Z"
   },
   {
    "duration": 0,
    "start_time": "2024-08-01T20:21:31.490Z"
   },
   {
    "duration": 0,
    "start_time": "2024-08-01T20:21:31.490Z"
   },
   {
    "duration": 0,
    "start_time": "2024-08-01T20:21:31.492Z"
   },
   {
    "duration": 0,
    "start_time": "2024-08-01T20:21:31.493Z"
   },
   {
    "duration": 0,
    "start_time": "2024-08-01T20:21:31.493Z"
   },
   {
    "duration": 0,
    "start_time": "2024-08-01T20:21:31.495Z"
   },
   {
    "duration": 0,
    "start_time": "2024-08-01T20:21:31.496Z"
   },
   {
    "duration": 0,
    "start_time": "2024-08-01T20:21:31.497Z"
   },
   {
    "duration": 0,
    "start_time": "2024-08-01T20:21:31.497Z"
   },
   {
    "duration": 0,
    "start_time": "2024-08-01T20:21:31.499Z"
   },
   {
    "duration": 0,
    "start_time": "2024-08-01T20:21:31.500Z"
   },
   {
    "duration": 0,
    "start_time": "2024-08-01T20:21:31.501Z"
   },
   {
    "duration": 0,
    "start_time": "2024-08-01T20:21:31.502Z"
   },
   {
    "duration": 0,
    "start_time": "2024-08-01T20:21:31.503Z"
   },
   {
    "duration": 1,
    "start_time": "2024-08-01T20:21:31.504Z"
   },
   {
    "duration": 1,
    "start_time": "2024-08-01T20:21:31.505Z"
   },
   {
    "duration": 0,
    "start_time": "2024-08-01T20:21:31.507Z"
   },
   {
    "duration": 0,
    "start_time": "2024-08-01T20:21:31.508Z"
   },
   {
    "duration": 0,
    "start_time": "2024-08-01T20:21:31.509Z"
   },
   {
    "duration": 0,
    "start_time": "2024-08-01T20:21:31.510Z"
   },
   {
    "duration": 0,
    "start_time": "2024-08-01T20:21:31.511Z"
   },
   {
    "duration": 0,
    "start_time": "2024-08-01T20:21:31.512Z"
   },
   {
    "duration": 0,
    "start_time": "2024-08-01T20:21:31.513Z"
   },
   {
    "duration": 0,
    "start_time": "2024-08-01T20:21:31.514Z"
   },
   {
    "duration": 0,
    "start_time": "2024-08-01T20:21:31.515Z"
   },
   {
    "duration": 0,
    "start_time": "2024-08-01T20:21:31.516Z"
   },
   {
    "duration": 0,
    "start_time": "2024-08-01T20:21:31.518Z"
   },
   {
    "duration": 236,
    "start_time": "2024-08-01T20:29:07.653Z"
   },
   {
    "duration": 7,
    "start_time": "2024-08-01T20:29:36.824Z"
   },
   {
    "duration": 338,
    "start_time": "2024-08-01T20:29:43.926Z"
   },
   {
    "duration": 1327,
    "start_time": "2024-08-01T20:29:57.745Z"
   },
   {
    "duration": 2,
    "start_time": "2024-08-01T20:30:25.671Z"
   },
   {
    "duration": 32,
    "start_time": "2024-08-01T20:34:16.961Z"
   },
   {
    "duration": 30,
    "start_time": "2024-08-01T20:34:52.531Z"
   },
   {
    "duration": 6,
    "start_time": "2024-08-01T20:35:26.160Z"
   },
   {
    "duration": 6,
    "start_time": "2024-08-01T20:36:41.219Z"
   },
   {
    "duration": 563,
    "start_time": "2024-08-01T20:37:50.909Z"
   },
   {
    "duration": 588,
    "start_time": "2024-08-01T20:39:06.653Z"
   },
   {
    "duration": 11,
    "start_time": "2024-08-01T20:39:39.612Z"
   },
   {
    "duration": 1363,
    "start_time": "2024-08-01T20:39:53.267Z"
   },
   {
    "duration": 507,
    "start_time": "2024-08-01T20:39:59.137Z"
   },
   {
    "duration": 541,
    "start_time": "2024-08-01T20:40:43.334Z"
   },
   {
    "duration": 607,
    "start_time": "2024-08-01T20:42:40.408Z"
   },
   {
    "duration": 528,
    "start_time": "2024-08-01T20:42:50.544Z"
   },
   {
    "duration": 514,
    "start_time": "2024-08-01T20:43:05.449Z"
   },
   {
    "duration": 518,
    "start_time": "2024-08-01T20:43:22.131Z"
   },
   {
    "duration": 9874,
    "start_time": "2024-08-01T20:44:36.470Z"
   },
   {
    "duration": 65,
    "start_time": "2024-08-01T20:44:51.024Z"
   },
   {
    "duration": 500,
    "start_time": "2024-08-01T20:44:56.741Z"
   },
   {
    "duration": 16,
    "start_time": "2024-08-01T20:49:36.620Z"
   },
   {
    "duration": 20,
    "start_time": "2024-08-01T20:49:46.431Z"
   },
   {
    "duration": 12,
    "start_time": "2024-08-01T20:50:13.710Z"
   },
   {
    "duration": 13,
    "start_time": "2024-08-01T20:50:36.802Z"
   },
   {
    "duration": 16,
    "start_time": "2024-08-01T20:50:39.951Z"
   },
   {
    "duration": 14,
    "start_time": "2024-08-01T20:50:47.061Z"
   },
   {
    "duration": 17,
    "start_time": "2024-08-01T20:51:13.152Z"
   },
   {
    "duration": 16,
    "start_time": "2024-08-01T20:51:22.038Z"
   },
   {
    "duration": 15,
    "start_time": "2024-08-01T20:54:22.345Z"
   },
   {
    "duration": 3,
    "start_time": "2024-08-01T21:02:02.300Z"
   },
   {
    "duration": 526,
    "start_time": "2024-08-01T21:02:02.957Z"
   },
   {
    "duration": 300,
    "start_time": "2024-08-01T21:03:49.212Z"
   },
   {
    "duration": 334,
    "start_time": "2024-08-01T21:04:43.127Z"
   },
   {
    "duration": 50,
    "start_time": "2024-08-01T21:06:58.509Z"
   },
   {
    "duration": 246,
    "start_time": "2024-08-01T21:07:29.274Z"
   },
   {
    "duration": 226,
    "start_time": "2024-08-01T21:07:45.170Z"
   },
   {
    "duration": 248,
    "start_time": "2024-08-01T21:08:18.163Z"
   },
   {
    "duration": 3,
    "start_time": "2024-08-01T21:17:10.363Z"
   },
   {
    "duration": 2,
    "start_time": "2024-08-01T21:17:10.715Z"
   },
   {
    "duration": 148,
    "start_time": "2024-08-01T21:17:11.292Z"
   },
   {
    "duration": 138,
    "start_time": "2024-08-01T21:17:17.356Z"
   },
   {
    "duration": 3,
    "start_time": "2024-08-01T21:17:28.460Z"
   },
   {
    "duration": 3,
    "start_time": "2024-08-01T21:17:35.860Z"
   },
   {
    "duration": 1001,
    "start_time": "2024-08-01T21:17:56.106Z"
   },
   {
    "duration": 907,
    "start_time": "2024-08-01T21:17:59.753Z"
   },
   {
    "duration": 61,
    "start_time": "2024-08-01T21:18:03.568Z"
   },
   {
    "duration": 59,
    "start_time": "2024-08-01T21:24:45.735Z"
   },
   {
    "duration": 27,
    "start_time": "2024-08-01T21:25:38.198Z"
   },
   {
    "duration": 4,
    "start_time": "2024-08-01T21:26:35.098Z"
   },
   {
    "duration": 144,
    "start_time": "2024-08-01T21:26:50.538Z"
   },
   {
    "duration": 20,
    "start_time": "2024-08-01T21:27:05.574Z"
   },
   {
    "duration": 21,
    "start_time": "2024-08-01T21:27:31.634Z"
   },
   {
    "duration": 20,
    "start_time": "2024-08-01T21:27:39.779Z"
   },
   {
    "duration": 890,
    "start_time": "2024-08-01T21:27:53.333Z"
   },
   {
    "duration": 971,
    "start_time": "2024-08-01T21:28:05.782Z"
   },
   {
    "duration": 2,
    "start_time": "2024-08-01T21:28:26.786Z"
   },
   {
    "duration": 2,
    "start_time": "2024-08-01T21:28:27.520Z"
   },
   {
    "duration": 63,
    "start_time": "2024-08-01T21:28:40.981Z"
   },
   {
    "duration": 178,
    "start_time": "2024-08-01T21:30:23.378Z"
   },
   {
    "duration": 296,
    "start_time": "2024-08-01T21:30:48.442Z"
   },
   {
    "duration": 334,
    "start_time": "2024-08-01T21:30:50.857Z"
   },
   {
    "duration": 845,
    "start_time": "2024-08-01T21:35:45.496Z"
   },
   {
    "duration": 118,
    "start_time": "2024-08-01T21:35:48.420Z"
   },
   {
    "duration": 3,
    "start_time": "2024-08-01T21:36:26.299Z"
   },
   {
    "duration": 3,
    "start_time": "2024-08-01T21:37:53.263Z"
   },
   {
    "duration": 51,
    "start_time": "2024-08-02T09:06:11.767Z"
   },
   {
    "duration": 1310,
    "start_time": "2024-08-02T09:06:20.700Z"
   },
   {
    "duration": 185,
    "start_time": "2024-08-02T09:06:22.012Z"
   },
   {
    "duration": 25,
    "start_time": "2024-08-02T09:06:22.198Z"
   },
   {
    "duration": 19,
    "start_time": "2024-08-02T09:06:22.224Z"
   },
   {
    "duration": 17,
    "start_time": "2024-08-02T09:06:22.245Z"
   },
   {
    "duration": 11,
    "start_time": "2024-08-02T09:06:22.263Z"
   },
   {
    "duration": 30,
    "start_time": "2024-08-02T09:06:22.275Z"
   },
   {
    "duration": 7,
    "start_time": "2024-08-02T09:06:22.307Z"
   },
   {
    "duration": 32,
    "start_time": "2024-08-02T09:06:22.316Z"
   },
   {
    "duration": 9,
    "start_time": "2024-08-02T09:06:22.350Z"
   },
   {
    "duration": 37,
    "start_time": "2024-08-02T09:06:22.361Z"
   },
   {
    "duration": 26,
    "start_time": "2024-08-02T09:06:22.400Z"
   },
   {
    "duration": 21,
    "start_time": "2024-08-02T09:06:22.427Z"
   },
   {
    "duration": 35,
    "start_time": "2024-08-02T09:06:22.451Z"
   },
   {
    "duration": 20,
    "start_time": "2024-08-02T09:06:22.488Z"
   },
   {
    "duration": 193,
    "start_time": "2024-08-02T09:06:22.510Z"
   },
   {
    "duration": 0,
    "start_time": "2024-08-02T09:06:22.705Z"
   },
   {
    "duration": 0,
    "start_time": "2024-08-02T09:06:22.706Z"
   },
   {
    "duration": 0,
    "start_time": "2024-08-02T09:06:22.707Z"
   },
   {
    "duration": 0,
    "start_time": "2024-08-02T09:06:22.708Z"
   },
   {
    "duration": 0,
    "start_time": "2024-08-02T09:06:22.709Z"
   },
   {
    "duration": 0,
    "start_time": "2024-08-02T09:06:22.710Z"
   },
   {
    "duration": 0,
    "start_time": "2024-08-02T09:06:22.711Z"
   },
   {
    "duration": 0,
    "start_time": "2024-08-02T09:06:22.712Z"
   },
   {
    "duration": 0,
    "start_time": "2024-08-02T09:06:22.713Z"
   },
   {
    "duration": 0,
    "start_time": "2024-08-02T09:06:22.714Z"
   },
   {
    "duration": 0,
    "start_time": "2024-08-02T09:06:22.715Z"
   },
   {
    "duration": 0,
    "start_time": "2024-08-02T09:06:22.716Z"
   },
   {
    "duration": 0,
    "start_time": "2024-08-02T09:06:22.717Z"
   },
   {
    "duration": 0,
    "start_time": "2024-08-02T09:06:22.718Z"
   },
   {
    "duration": 0,
    "start_time": "2024-08-02T09:06:22.719Z"
   },
   {
    "duration": 0,
    "start_time": "2024-08-02T09:06:22.747Z"
   },
   {
    "duration": 0,
    "start_time": "2024-08-02T09:06:22.749Z"
   },
   {
    "duration": 1,
    "start_time": "2024-08-02T09:06:22.750Z"
   },
   {
    "duration": 0,
    "start_time": "2024-08-02T09:06:22.752Z"
   },
   {
    "duration": 0,
    "start_time": "2024-08-02T09:06:22.754Z"
   },
   {
    "duration": 0,
    "start_time": "2024-08-02T09:06:22.756Z"
   },
   {
    "duration": 0,
    "start_time": "2024-08-02T09:06:22.757Z"
   },
   {
    "duration": 0,
    "start_time": "2024-08-02T09:06:22.758Z"
   },
   {
    "duration": 0,
    "start_time": "2024-08-02T09:06:22.760Z"
   },
   {
    "duration": 0,
    "start_time": "2024-08-02T09:06:22.762Z"
   },
   {
    "duration": 0,
    "start_time": "2024-08-02T09:06:22.764Z"
   },
   {
    "duration": 0,
    "start_time": "2024-08-02T09:06:22.766Z"
   },
   {
    "duration": 0,
    "start_time": "2024-08-02T09:06:22.767Z"
   },
   {
    "duration": 0,
    "start_time": "2024-08-02T09:06:22.768Z"
   },
   {
    "duration": 0,
    "start_time": "2024-08-02T09:06:22.770Z"
   },
   {
    "duration": 0,
    "start_time": "2024-08-02T09:06:22.771Z"
   },
   {
    "duration": 0,
    "start_time": "2024-08-02T09:06:22.773Z"
   },
   {
    "duration": 0,
    "start_time": "2024-08-02T09:06:22.775Z"
   },
   {
    "duration": 0,
    "start_time": "2024-08-02T09:06:22.776Z"
   },
   {
    "duration": 0,
    "start_time": "2024-08-02T09:06:22.778Z"
   },
   {
    "duration": 269,
    "start_time": "2024-08-02T09:06:33.931Z"
   },
   {
    "duration": 5,
    "start_time": "2024-08-02T09:06:34.628Z"
   },
   {
    "duration": 323,
    "start_time": "2024-08-02T09:06:35.687Z"
   },
   {
    "duration": 1327,
    "start_time": "2024-08-02T09:06:36.080Z"
   },
   {
    "duration": 2,
    "start_time": "2024-08-02T09:06:37.410Z"
   },
   {
    "duration": 80,
    "start_time": "2024-08-02T09:06:37.414Z"
   },
   {
    "duration": 43,
    "start_time": "2024-08-02T09:06:37.496Z"
   },
   {
    "duration": 5,
    "start_time": "2024-08-02T09:06:37.541Z"
   },
   {
    "duration": 26,
    "start_time": "2024-08-02T09:06:38.357Z"
   },
   {
    "duration": 31,
    "start_time": "2024-08-02T09:06:38.971Z"
   },
   {
    "duration": 36,
    "start_time": "2024-08-02T09:06:39.345Z"
   },
   {
    "duration": 5,
    "start_time": "2024-08-02T09:06:40.339Z"
   },
   {
    "duration": 575,
    "start_time": "2024-08-02T09:06:41.866Z"
   },
   {
    "duration": 22,
    "start_time": "2024-08-02T09:06:42.443Z"
   },
   {
    "duration": 2,
    "start_time": "2024-08-02T09:06:43.374Z"
   },
   {
    "duration": 259,
    "start_time": "2024-08-02T09:06:43.616Z"
   },
   {
    "duration": 262,
    "start_time": "2024-08-02T09:06:44.117Z"
   },
   {
    "duration": 3,
    "start_time": "2024-08-02T09:06:47.125Z"
   },
   {
    "duration": 3,
    "start_time": "2024-08-02T09:06:47.465Z"
   },
   {
    "duration": 3,
    "start_time": "2024-08-02T09:06:47.856Z"
   },
   {
    "duration": 3,
    "start_time": "2024-08-02T09:06:48.194Z"
   },
   {
    "duration": 2,
    "start_time": "2024-08-02T09:06:49.123Z"
   },
   {
    "duration": 2,
    "start_time": "2024-08-02T09:06:49.455Z"
   },
   {
    "duration": 4,
    "start_time": "2024-08-02T09:06:49.690Z"
   },
   {
    "duration": 3,
    "start_time": "2024-08-02T09:06:49.930Z"
   },
   {
    "duration": 849,
    "start_time": "2024-08-02T09:06:50.186Z"
   },
   {
    "duration": 862,
    "start_time": "2024-08-02T09:06:51.038Z"
   },
   {
    "duration": 150,
    "start_time": "2024-08-02T09:06:51.902Z"
   },
   {
    "duration": 171,
    "start_time": "2024-08-02T09:06:52.816Z"
   },
   {
    "duration": 320,
    "start_time": "2024-08-02T09:06:53.364Z"
   },
   {
    "duration": 312,
    "start_time": "2024-08-02T09:06:53.978Z"
   },
   {
    "duration": 756,
    "start_time": "2024-08-02T09:06:57.272Z"
   },
   {
    "duration": 3,
    "start_time": "2024-08-02T09:06:58.030Z"
   },
   {
    "duration": 52,
    "start_time": "2024-08-02T09:06:58.035Z"
   },
   {
    "duration": 3,
    "start_time": "2024-08-02T09:06:58.297Z"
   },
   {
    "duration": 941,
    "start_time": "2024-08-02T09:07:00.155Z"
   },
   {
    "duration": 3,
    "start_time": "2024-08-02T09:07:15.991Z"
   },
   {
    "duration": 5,
    "start_time": "2024-08-02T09:07:27.657Z"
   },
   {
    "duration": 4,
    "start_time": "2024-08-02T09:07:36.674Z"
   },
   {
    "duration": 813,
    "start_time": "2024-08-02T09:09:08.363Z"
   },
   {
    "duration": 3,
    "start_time": "2024-08-02T09:10:37.497Z"
   },
   {
    "duration": 3,
    "start_time": "2024-08-02T09:10:37.847Z"
   },
   {
    "duration": 18,
    "start_time": "2024-08-02T09:10:37.853Z"
   },
   {
    "duration": 265,
    "start_time": "2024-08-02T09:18:43.981Z"
   },
   {
    "duration": 12,
    "start_time": "2024-08-02T09:28:02.582Z"
   },
   {
    "duration": 6,
    "start_time": "2024-08-02T09:28:03.860Z"
   },
   {
    "duration": 11,
    "start_time": "2024-08-02T09:28:57.236Z"
   },
   {
    "duration": 10,
    "start_time": "2024-08-02T09:28:58.620Z"
   },
   {
    "duration": 60,
    "start_time": "2024-08-02T09:32:28.855Z"
   },
   {
    "duration": 177,
    "start_time": "2024-08-02T09:58:10.557Z"
   },
   {
    "duration": 1227,
    "start_time": "2024-08-02T11:57:39.720Z"
   },
   {
    "duration": 59,
    "start_time": "2024-08-02T11:57:40.950Z"
   },
   {
    "duration": 29,
    "start_time": "2024-08-02T11:57:41.011Z"
   },
   {
    "duration": 15,
    "start_time": "2024-08-02T11:57:41.042Z"
   },
   {
    "duration": 18,
    "start_time": "2024-08-02T11:57:41.059Z"
   },
   {
    "duration": 13,
    "start_time": "2024-08-02T11:57:41.079Z"
   },
   {
    "duration": 11,
    "start_time": "2024-08-02T11:57:41.094Z"
   },
   {
    "duration": 5,
    "start_time": "2024-08-02T11:57:41.107Z"
   },
   {
    "duration": 41,
    "start_time": "2024-08-02T11:57:41.113Z"
   },
   {
    "duration": 8,
    "start_time": "2024-08-02T11:57:41.157Z"
   },
   {
    "duration": 31,
    "start_time": "2024-08-02T11:57:41.167Z"
   },
   {
    "duration": 16,
    "start_time": "2024-08-02T11:57:41.200Z"
   },
   {
    "duration": 35,
    "start_time": "2024-08-02T11:57:41.217Z"
   },
   {
    "duration": 37,
    "start_time": "2024-08-02T11:57:41.254Z"
   },
   {
    "duration": 19,
    "start_time": "2024-08-02T11:57:41.292Z"
   },
   {
    "duration": 215,
    "start_time": "2024-08-02T11:57:41.313Z"
   },
   {
    "duration": 0,
    "start_time": "2024-08-02T11:57:41.531Z"
   },
   {
    "duration": 0,
    "start_time": "2024-08-02T11:57:41.532Z"
   },
   {
    "duration": 0,
    "start_time": "2024-08-02T11:57:41.533Z"
   },
   {
    "duration": 0,
    "start_time": "2024-08-02T11:57:41.534Z"
   },
   {
    "duration": 0,
    "start_time": "2024-08-02T11:57:41.535Z"
   },
   {
    "duration": 0,
    "start_time": "2024-08-02T11:57:41.546Z"
   },
   {
    "duration": 0,
    "start_time": "2024-08-02T11:57:41.547Z"
   },
   {
    "duration": 0,
    "start_time": "2024-08-02T11:57:41.547Z"
   },
   {
    "duration": 0,
    "start_time": "2024-08-02T11:57:41.549Z"
   },
   {
    "duration": 0,
    "start_time": "2024-08-02T11:57:41.550Z"
   },
   {
    "duration": 1,
    "start_time": "2024-08-02T11:57:41.550Z"
   },
   {
    "duration": 0,
    "start_time": "2024-08-02T11:57:41.551Z"
   },
   {
    "duration": 0,
    "start_time": "2024-08-02T11:57:41.552Z"
   },
   {
    "duration": 0,
    "start_time": "2024-08-02T11:57:41.553Z"
   },
   {
    "duration": 0,
    "start_time": "2024-08-02T11:57:41.554Z"
   },
   {
    "duration": 0,
    "start_time": "2024-08-02T11:57:41.555Z"
   },
   {
    "duration": 0,
    "start_time": "2024-08-02T11:57:41.556Z"
   },
   {
    "duration": 0,
    "start_time": "2024-08-02T11:57:41.557Z"
   },
   {
    "duration": 0,
    "start_time": "2024-08-02T11:57:41.558Z"
   },
   {
    "duration": 0,
    "start_time": "2024-08-02T11:57:41.559Z"
   },
   {
    "duration": 0,
    "start_time": "2024-08-02T11:57:41.560Z"
   },
   {
    "duration": 0,
    "start_time": "2024-08-02T11:57:41.561Z"
   },
   {
    "duration": 0,
    "start_time": "2024-08-02T11:57:41.562Z"
   },
   {
    "duration": 0,
    "start_time": "2024-08-02T11:57:41.563Z"
   },
   {
    "duration": 1,
    "start_time": "2024-08-02T11:57:41.564Z"
   },
   {
    "duration": 0,
    "start_time": "2024-08-02T11:57:41.565Z"
   },
   {
    "duration": 0,
    "start_time": "2024-08-02T11:57:41.566Z"
   },
   {
    "duration": 0,
    "start_time": "2024-08-02T11:57:41.567Z"
   },
   {
    "duration": 0,
    "start_time": "2024-08-02T11:57:41.569Z"
   },
   {
    "duration": 0,
    "start_time": "2024-08-02T11:57:41.569Z"
   },
   {
    "duration": 0,
    "start_time": "2024-08-02T11:57:41.571Z"
   },
   {
    "duration": 0,
    "start_time": "2024-08-02T11:57:41.572Z"
   },
   {
    "duration": 0,
    "start_time": "2024-08-02T11:57:41.573Z"
   },
   {
    "duration": 0,
    "start_time": "2024-08-02T11:57:41.574Z"
   },
   {
    "duration": 0,
    "start_time": "2024-08-02T11:57:41.576Z"
   },
   {
    "duration": 0,
    "start_time": "2024-08-02T11:57:41.577Z"
   },
   {
    "duration": 0,
    "start_time": "2024-08-02T11:57:41.578Z"
   },
   {
    "duration": 0,
    "start_time": "2024-08-02T11:57:41.580Z"
   },
   {
    "duration": 0,
    "start_time": "2024-08-02T11:57:41.581Z"
   },
   {
    "duration": 1,
    "start_time": "2024-08-02T11:57:41.582Z"
   },
   {
    "duration": 0,
    "start_time": "2024-08-02T11:57:41.646Z"
   },
   {
    "duration": 0,
    "start_time": "2024-08-02T11:57:41.648Z"
   },
   {
    "duration": 0,
    "start_time": "2024-08-02T11:57:41.649Z"
   },
   {
    "duration": 0,
    "start_time": "2024-08-02T11:57:41.650Z"
   },
   {
    "duration": 0,
    "start_time": "2024-08-02T11:57:41.652Z"
   },
   {
    "duration": 0,
    "start_time": "2024-08-02T11:57:41.653Z"
   },
   {
    "duration": 0,
    "start_time": "2024-08-02T11:57:41.654Z"
   },
   {
    "duration": 222,
    "start_time": "2024-08-02T11:57:51.275Z"
   },
   {
    "duration": 5,
    "start_time": "2024-08-02T11:57:51.499Z"
   },
   {
    "duration": 301,
    "start_time": "2024-08-02T11:57:52.161Z"
   },
   {
    "duration": 1344,
    "start_time": "2024-08-02T11:57:52.549Z"
   },
   {
    "duration": 3,
    "start_time": "2024-08-02T11:57:53.895Z"
   },
   {
    "duration": 29,
    "start_time": "2024-08-02T11:57:53.899Z"
   },
   {
    "duration": 8,
    "start_time": "2024-08-02T11:57:53.930Z"
   },
   {
    "duration": 7,
    "start_time": "2024-08-02T11:57:53.939Z"
   },
   {
    "duration": 27,
    "start_time": "2024-08-02T11:57:54.698Z"
   },
   {
    "duration": 26,
    "start_time": "2024-08-02T11:57:55.268Z"
   },
   {
    "duration": 30,
    "start_time": "2024-08-02T11:57:55.802Z"
   },
   {
    "duration": 6,
    "start_time": "2024-08-02T11:57:56.753Z"
   },
   {
    "duration": 528,
    "start_time": "2024-08-02T11:57:58.129Z"
   },
   {
    "duration": 17,
    "start_time": "2024-08-02T11:57:58.659Z"
   },
   {
    "duration": 3,
    "start_time": "2024-08-02T11:57:59.287Z"
   },
   {
    "duration": 371,
    "start_time": "2024-08-02T11:57:59.498Z"
   },
   {
    "duration": 250,
    "start_time": "2024-08-02T11:57:59.900Z"
   },
   {
    "duration": 3,
    "start_time": "2024-08-02T11:58:01.553Z"
   },
   {
    "duration": 197,
    "start_time": "2024-08-02T11:58:01.714Z"
   },
   {
    "duration": 432,
    "start_time": "2024-08-02T11:58:01.931Z"
   },
   {
    "duration": 292,
    "start_time": "2024-08-02T11:58:02.365Z"
   },
   {
    "duration": 169,
    "start_time": "2024-08-02T11:58:02.917Z"
   },
   {
    "duration": 8,
    "start_time": "2024-08-02T11:58:03.088Z"
   },
   {
    "duration": 2,
    "start_time": "2024-08-02T11:58:03.196Z"
   },
   {
    "duration": 3,
    "start_time": "2024-08-02T11:58:03.409Z"
   },
   {
    "duration": 797,
    "start_time": "2024-08-02T11:58:03.646Z"
   },
   {
    "duration": 910,
    "start_time": "2024-08-02T11:58:04.445Z"
   },
   {
    "duration": 59,
    "start_time": "2024-08-02T11:58:05.356Z"
   },
   {
    "duration": 168,
    "start_time": "2024-08-02T11:58:05.627Z"
   },
   {
    "duration": 384,
    "start_time": "2024-08-02T11:58:05.991Z"
   },
   {
    "duration": 329,
    "start_time": "2024-08-02T11:58:06.421Z"
   },
   {
    "duration": 835,
    "start_time": "2024-08-02T11:58:08.142Z"
   },
   {
    "duration": 3,
    "start_time": "2024-08-02T11:58:08.978Z"
   },
   {
    "duration": 23,
    "start_time": "2024-08-02T11:58:08.982Z"
   },
   {
    "duration": 17,
    "start_time": "2024-08-02T11:58:09.006Z"
   },
   {
    "duration": 852,
    "start_time": "2024-08-02T11:58:09.814Z"
   },
   {
    "duration": 3,
    "start_time": "2024-08-02T11:58:10.668Z"
   },
   {
    "duration": 8,
    "start_time": "2024-08-02T11:58:10.672Z"
   },
   {
    "duration": 20,
    "start_time": "2024-08-02T11:58:10.682Z"
   },
   {
    "duration": 166,
    "start_time": "2024-08-02T11:58:12.115Z"
   },
   {
    "duration": 2,
    "start_time": "2024-08-02T11:58:12.320Z"
   },
   {
    "duration": 2,
    "start_time": "2024-08-02T11:58:12.497Z"
   },
   {
    "duration": 9,
    "start_time": "2024-08-02T11:58:13.344Z"
   },
   {
    "duration": 11,
    "start_time": "2024-08-02T11:58:14.445Z"
   },
   {
    "duration": 9,
    "start_time": "2024-08-02T11:58:15.088Z"
   },
   {
    "duration": 10,
    "start_time": "2024-08-02T11:58:16.132Z"
   },
   {
    "duration": 7,
    "start_time": "2024-08-02T11:58:16.750Z"
   },
   {
    "duration": 1175,
    "start_time": "2024-08-02T19:41:59.023Z"
   },
   {
    "duration": 59,
    "start_time": "2024-08-02T19:42:00.200Z"
   },
   {
    "duration": 267,
    "start_time": "2024-08-02T19:42:00.260Z"
   },
   {
    "duration": 178,
    "start_time": "2024-08-02T19:42:00.529Z"
   },
   {
    "duration": 60,
    "start_time": "2024-08-02T19:42:00.709Z"
   },
   {
    "duration": 132,
    "start_time": "2024-08-02T19:42:00.770Z"
   },
   {
    "duration": 48,
    "start_time": "2024-08-02T19:42:00.903Z"
   },
   {
    "duration": 29,
    "start_time": "2024-08-02T19:42:00.953Z"
   },
   {
    "duration": 50,
    "start_time": "2024-08-02T19:42:00.983Z"
   },
   {
    "duration": 27,
    "start_time": "2024-08-02T19:42:01.034Z"
   },
   {
    "duration": 86,
    "start_time": "2024-08-02T19:42:01.063Z"
   },
   {
    "duration": 68,
    "start_time": "2024-08-02T19:42:01.150Z"
   },
   {
    "duration": 45,
    "start_time": "2024-08-02T19:42:01.220Z"
   },
   {
    "duration": 96,
    "start_time": "2024-08-02T19:42:01.270Z"
   },
   {
    "duration": 19,
    "start_time": "2024-08-02T19:42:01.368Z"
   },
   {
    "duration": 199,
    "start_time": "2024-08-02T19:42:01.388Z"
   },
   {
    "duration": 0,
    "start_time": "2024-08-02T19:42:01.590Z"
   },
   {
    "duration": 0,
    "start_time": "2024-08-02T19:42:01.591Z"
   },
   {
    "duration": 0,
    "start_time": "2024-08-02T19:42:01.592Z"
   },
   {
    "duration": 0,
    "start_time": "2024-08-02T19:42:01.593Z"
   },
   {
    "duration": 0,
    "start_time": "2024-08-02T19:42:01.594Z"
   },
   {
    "duration": 0,
    "start_time": "2024-08-02T19:42:01.595Z"
   },
   {
    "duration": 0,
    "start_time": "2024-08-02T19:42:01.596Z"
   },
   {
    "duration": 0,
    "start_time": "2024-08-02T19:42:01.598Z"
   },
   {
    "duration": 0,
    "start_time": "2024-08-02T19:42:01.599Z"
   },
   {
    "duration": 0,
    "start_time": "2024-08-02T19:42:01.600Z"
   },
   {
    "duration": 0,
    "start_time": "2024-08-02T19:42:01.601Z"
   },
   {
    "duration": 0,
    "start_time": "2024-08-02T19:42:01.602Z"
   },
   {
    "duration": 0,
    "start_time": "2024-08-02T19:42:01.603Z"
   },
   {
    "duration": 0,
    "start_time": "2024-08-02T19:42:01.604Z"
   },
   {
    "duration": 0,
    "start_time": "2024-08-02T19:42:01.605Z"
   },
   {
    "duration": 0,
    "start_time": "2024-08-02T19:42:01.606Z"
   },
   {
    "duration": 0,
    "start_time": "2024-08-02T19:42:01.638Z"
   },
   {
    "duration": 0,
    "start_time": "2024-08-02T19:42:01.639Z"
   },
   {
    "duration": 0,
    "start_time": "2024-08-02T19:42:01.640Z"
   },
   {
    "duration": 0,
    "start_time": "2024-08-02T19:42:01.641Z"
   },
   {
    "duration": 0,
    "start_time": "2024-08-02T19:42:01.642Z"
   },
   {
    "duration": 0,
    "start_time": "2024-08-02T19:42:01.643Z"
   },
   {
    "duration": 0,
    "start_time": "2024-08-02T19:42:01.644Z"
   },
   {
    "duration": 0,
    "start_time": "2024-08-02T19:42:01.645Z"
   },
   {
    "duration": 0,
    "start_time": "2024-08-02T19:42:01.646Z"
   },
   {
    "duration": 0,
    "start_time": "2024-08-02T19:42:01.647Z"
   },
   {
    "duration": 0,
    "start_time": "2024-08-02T19:42:01.648Z"
   },
   {
    "duration": 0,
    "start_time": "2024-08-02T19:42:01.649Z"
   },
   {
    "duration": 0,
    "start_time": "2024-08-02T19:42:01.650Z"
   },
   {
    "duration": 0,
    "start_time": "2024-08-02T19:42:01.651Z"
   },
   {
    "duration": 0,
    "start_time": "2024-08-02T19:42:01.652Z"
   },
   {
    "duration": 1,
    "start_time": "2024-08-02T19:42:01.652Z"
   },
   {
    "duration": 0,
    "start_time": "2024-08-02T19:42:01.653Z"
   },
   {
    "duration": 0,
    "start_time": "2024-08-02T19:42:01.654Z"
   },
   {
    "duration": 0,
    "start_time": "2024-08-02T19:42:01.655Z"
   },
   {
    "duration": 0,
    "start_time": "2024-08-02T19:42:01.657Z"
   },
   {
    "duration": 0,
    "start_time": "2024-08-02T19:42:01.658Z"
   },
   {
    "duration": 0,
    "start_time": "2024-08-02T19:42:01.659Z"
   },
   {
    "duration": 0,
    "start_time": "2024-08-02T19:42:01.660Z"
   },
   {
    "duration": 0,
    "start_time": "2024-08-02T19:42:01.661Z"
   },
   {
    "duration": 0,
    "start_time": "2024-08-02T19:42:01.663Z"
   },
   {
    "duration": 0,
    "start_time": "2024-08-02T19:42:01.664Z"
   },
   {
    "duration": 0,
    "start_time": "2024-08-02T19:42:01.665Z"
   },
   {
    "duration": 0,
    "start_time": "2024-08-02T19:42:01.667Z"
   },
   {
    "duration": 0,
    "start_time": "2024-08-02T19:42:01.668Z"
   },
   {
    "duration": 0,
    "start_time": "2024-08-02T19:42:01.669Z"
   },
   {
    "duration": 0,
    "start_time": "2024-08-02T19:42:01.670Z"
   },
   {
    "duration": 57,
    "start_time": "2024-08-02T19:42:54.063Z"
   },
   {
    "duration": 1243,
    "start_time": "2024-08-02T19:43:04.137Z"
   },
   {
    "duration": 93,
    "start_time": "2024-08-02T19:43:05.382Z"
   },
   {
    "duration": 23,
    "start_time": "2024-08-02T19:43:05.477Z"
   },
   {
    "duration": 51,
    "start_time": "2024-08-02T19:43:05.501Z"
   },
   {
    "duration": 16,
    "start_time": "2024-08-02T19:43:05.555Z"
   },
   {
    "duration": 14,
    "start_time": "2024-08-02T19:43:05.573Z"
   },
   {
    "duration": 62,
    "start_time": "2024-08-02T19:43:05.589Z"
   },
   {
    "duration": 7,
    "start_time": "2024-08-02T19:43:05.653Z"
   },
   {
    "duration": 14,
    "start_time": "2024-08-02T19:43:05.662Z"
   },
   {
    "duration": 7,
    "start_time": "2024-08-02T19:43:05.677Z"
   },
   {
    "duration": 61,
    "start_time": "2024-08-02T19:43:05.686Z"
   },
   {
    "duration": 16,
    "start_time": "2024-08-02T19:43:05.749Z"
   },
   {
    "duration": 116,
    "start_time": "2024-08-02T19:43:05.767Z"
   },
   {
    "duration": 31,
    "start_time": "2024-08-02T19:43:05.886Z"
   },
   {
    "duration": 18,
    "start_time": "2024-08-02T19:43:05.919Z"
   },
   {
    "duration": 68,
    "start_time": "2024-08-02T19:43:05.939Z"
   },
   {
    "duration": 259,
    "start_time": "2024-08-02T19:43:06.008Z"
   },
   {
    "duration": 5,
    "start_time": "2024-08-02T19:43:06.268Z"
   },
   {
    "duration": 341,
    "start_time": "2024-08-02T19:43:06.275Z"
   },
   {
    "duration": 1274,
    "start_time": "2024-08-02T19:43:06.618Z"
   },
   {
    "duration": 3,
    "start_time": "2024-08-02T19:43:07.894Z"
   },
   {
    "duration": 4,
    "start_time": "2024-08-02T19:43:07.898Z"
   },
   {
    "duration": 3,
    "start_time": "2024-08-02T19:43:07.904Z"
   },
   {
    "duration": 4,
    "start_time": "2024-08-02T19:43:07.909Z"
   },
   {
    "duration": 56,
    "start_time": "2024-08-02T19:43:07.914Z"
   },
   {
    "duration": 23,
    "start_time": "2024-08-02T19:43:07.971Z"
   },
   {
    "duration": 28,
    "start_time": "2024-08-02T19:43:07.995Z"
   },
   {
    "duration": 22,
    "start_time": "2024-08-02T19:43:08.024Z"
   },
   {
    "duration": 538,
    "start_time": "2024-08-02T19:43:08.053Z"
   },
   {
    "duration": 14,
    "start_time": "2024-08-02T19:43:08.592Z"
   },
   {
    "duration": 3,
    "start_time": "2024-08-02T19:43:08.607Z"
   },
   {
    "duration": 336,
    "start_time": "2024-08-02T19:43:08.611Z"
   },
   {
    "duration": 248,
    "start_time": "2024-08-02T19:43:08.949Z"
   },
   {
    "duration": 2,
    "start_time": "2024-08-02T19:43:09.199Z"
   },
   {
    "duration": 4,
    "start_time": "2024-08-02T19:43:09.202Z"
   },
   {
    "duration": 3,
    "start_time": "2024-08-02T19:43:09.207Z"
   },
   {
    "duration": 4,
    "start_time": "2024-08-02T19:43:09.212Z"
   },
   {
    "duration": 3,
    "start_time": "2024-08-02T19:43:09.217Z"
   },
   {
    "duration": 18,
    "start_time": "2024-08-02T19:43:09.221Z"
   },
   {
    "duration": 3,
    "start_time": "2024-08-02T19:43:09.240Z"
   },
   {
    "duration": 3,
    "start_time": "2024-08-02T19:43:09.250Z"
   },
   {
    "duration": 859,
    "start_time": "2024-08-02T19:43:09.255Z"
   },
   {
    "duration": 808,
    "start_time": "2024-08-02T19:43:10.116Z"
   },
   {
    "duration": 69,
    "start_time": "2024-08-02T19:43:10.925Z"
   },
   {
    "duration": 174,
    "start_time": "2024-08-02T19:43:10.996Z"
   },
   {
    "duration": 412,
    "start_time": "2024-08-02T19:43:11.172Z"
   },
   {
    "duration": 301,
    "start_time": "2024-08-02T19:43:11.586Z"
   },
   {
    "duration": 790,
    "start_time": "2024-08-02T19:43:11.889Z"
   },
   {
    "duration": 3,
    "start_time": "2024-08-02T19:43:12.680Z"
   },
   {
    "duration": 68,
    "start_time": "2024-08-02T19:43:12.684Z"
   },
   {
    "duration": 17,
    "start_time": "2024-08-02T19:43:12.753Z"
   },
   {
    "duration": 801,
    "start_time": "2024-08-02T19:43:12.771Z"
   },
   {
    "duration": 3,
    "start_time": "2024-08-02T19:43:13.573Z"
   },
   {
    "duration": 4,
    "start_time": "2024-08-02T19:43:13.578Z"
   },
   {
    "duration": 4,
    "start_time": "2024-08-02T19:43:13.583Z"
   },
   {
    "duration": 178,
    "start_time": "2024-08-02T19:43:13.588Z"
   },
   {
    "duration": 2,
    "start_time": "2024-08-02T19:43:13.767Z"
   },
   {
    "duration": 77,
    "start_time": "2024-08-02T19:43:13.770Z"
   },
   {
    "duration": 14,
    "start_time": "2024-08-02T19:43:13.849Z"
   },
   {
    "duration": 11,
    "start_time": "2024-08-02T19:43:13.864Z"
   },
   {
    "duration": 13,
    "start_time": "2024-08-02T19:43:13.876Z"
   },
   {
    "duration": 10,
    "start_time": "2024-08-02T19:43:13.890Z"
   },
   {
    "duration": 6,
    "start_time": "2024-08-02T19:43:13.901Z"
   },
   {
    "duration": 42,
    "start_time": "2024-08-02T20:17:26.976Z"
   },
   {
    "duration": 1228,
    "start_time": "2024-08-02T20:17:31.820Z"
   },
   {
    "duration": 213,
    "start_time": "2024-08-02T20:17:33.050Z"
   },
   {
    "duration": 23,
    "start_time": "2024-08-02T20:17:33.264Z"
   },
   {
    "duration": 13,
    "start_time": "2024-08-02T20:17:33.288Z"
   },
   {
    "duration": 13,
    "start_time": "2024-08-02T20:17:33.303Z"
   },
   {
    "duration": 9,
    "start_time": "2024-08-02T20:17:33.318Z"
   },
   {
    "duration": 13,
    "start_time": "2024-08-02T20:17:33.328Z"
   },
   {
    "duration": 6,
    "start_time": "2024-08-02T20:17:33.343Z"
   },
   {
    "duration": 38,
    "start_time": "2024-08-02T20:17:33.350Z"
   },
   {
    "duration": 9,
    "start_time": "2024-08-02T20:17:36.008Z"
   },
   {
    "duration": 12,
    "start_time": "2024-08-02T20:17:53.706Z"
   },
   {
    "duration": 8,
    "start_time": "2024-08-02T20:17:57.050Z"
   }
  ],
  "kernelspec": {
   "display_name": "Python 3 (ipykernel)",
   "language": "python",
   "name": "python3"
  },
  "language_info": {
   "codemirror_mode": {
    "name": "ipython",
    "version": 3
   },
   "file_extension": ".py",
   "mimetype": "text/x-python",
   "name": "python",
   "nbconvert_exporter": "python",
   "pygments_lexer": "ipython3",
   "version": "3.11.9"
  },
  "toc": {
   "base_numbering": 1,
   "nav_menu": {},
   "number_sections": true,
   "sideBar": true,
   "skip_h1_title": true,
   "title_cell": "Table of Contents",
   "title_sidebar": "Contents",
   "toc_cell": false,
   "toc_position": {
    "height": "calc(100% - 180px)",
    "left": "10px",
    "top": "150px",
    "width": "284px"
   },
   "toc_section_display": true,
   "toc_window_display": false
  }
 },
 "nbformat": 4,
 "nbformat_minor": 2
}
