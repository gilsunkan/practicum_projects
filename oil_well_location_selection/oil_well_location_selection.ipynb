{
 "cells": [
  {
   "cell_type": "markdown",
   "metadata": {},
   "source": [
    "# Выбор локации для скважины"
   ]
  },
  {
   "cell_type": "markdown",
   "metadata": {},
   "source": [
    "Допустим, вы работаете в добывающей компании «ГлавРосГосНефть». Нужно решить, где бурить новую скважину.\n",
    "\n",
    "Вам предоставлены пробы нефти в трёх регионах: в каждом 10 000 месторождений, где измерили качество нефти и объём её запасов. Постройте модель машинного обучения, которая поможет определить регион, где добыча принесёт наибольшую прибыль. Проанализируйте возможную прибыль и риски техникой *Bootstrap.*\n",
    "\n",
    "Шаги для выбора локации:\n",
    "\n",
    "- В избранном регионе ищут месторождения, для каждого определяют значения признаков;\n",
    "- Строят модель и оценивают объём запасов;\n",
    "- Выбирают месторождения с самым высокими оценками значений. Количество месторождений зависит от бюджета компании и стоимости разработки одной скважины;\n",
    "- Прибыль равна суммарной прибыли отобранных месторождений."
   ]
  },
  {
   "cell_type": "markdown",
   "metadata": {},
   "source": [
    "**Цель проекта**:\n",
    "Проанализировать возможную прибыль и риски в трех регионах, с целью выбора локации новой скважины. \n",
    "\n",
    "**Условия задачи:** \\\n",
    "Для обучения модели подходит только линейная регрессия (остальные — недостаточно предсказуемые).\\\n",
    "При разведке региона исследуют 500 точек, из которых с помощью машинного обучения выбирают 200 лучших для разработки.\\\n",
    "Бюджет на разработку скважин в регионе — 10 млрд рублей.\\\n",
    "При нынешних ценах один баррель сырья приносит 450 рублей дохода. Доход с каждой единицы продукта составляет 450 тыс. рублей, поскольку объём указан в тысячах баррелей.\\\n",
    "После оценки рисков нужно оставить лишь те регионы, в которых вероятность убытков меньше 2.5%. Среди них выбирают регион с наибольшей средней прибылью.\\\n",
    "Данные синтетические: детали контрактов и характеристики месторождений не разглашаются.\n",
    "\n",
    "**План проекта**\n",
    " 1. Загрузка и подготовка данных.\n",
    " 2. Обучения и проверка модели.\n",
    " 3. Подготовка к расчету прибыли.\n",
    " 4. Расчет прибыли и рисков.\n",
    " 5. Вывод\n",
    " 6. Чек-лист готовности проекта. "
   ]
  },
  {
   "cell_type": "code",
   "execution_count": 1,
   "metadata": {},
   "outputs": [],
   "source": [
    "import pandas as pd\n",
    "\n",
    "from matplotlib import pyplot as plt\n",
    "\n",
    "from numpy.random import RandomState\n",
    "\n",
    "from sklearn.model_selection import train_test_split\n",
    "\n",
    "# загружаем классы для подготовки данных\n",
    "from sklearn.preprocessing import StandardScaler\n",
    "\n",
    "# загружаем функцию для работы с метриками\n",
    "from sklearn.metrics import mean_squared_error\n",
    "\n",
    "# загружаем нужные модели\n",
    "from sklearn.linear_model import LinearRegression"
   ]
  },
  {
   "cell_type": "markdown",
   "metadata": {},
   "source": [
    "## Загрузка и подготовка данных"
   ]
  },
  {
   "cell_type": "markdown",
   "metadata": {},
   "source": [
    "### Загрузка данных"
   ]
  },
  {
   "cell_type": "code",
   "execution_count": 2,
   "metadata": {},
   "outputs": [],
   "source": [
    "#загрузим данные в соответствующие датафреймы\n",
    "geo_data_0 = pd.read_csv('geo_data_0.csv')"
   ]
  },
  {
   "cell_type": "code",
   "execution_count": 3,
   "metadata": {},
   "outputs": [],
   "source": [
    "#загрузим данные в соответствующие датафреймы\n",
    "geo_data_1 = pd.read_csv('geo_data_1.csv')"
   ]
  },
  {
   "cell_type": "code",
   "execution_count": 4,
   "metadata": {},
   "outputs": [],
   "source": [
    "#загрузим данные в соответствующие датафреймы\n",
    "geo_data_2 = pd.read_csv('geo_data_2.csv')"
   ]
  },
  {
   "cell_type": "code",
   "execution_count": 5,
   "metadata": {},
   "outputs": [],
   "source": [
    "#создадим функцию для отображения общей информации о датафрейме\n",
    "\n",
    "def main_info(df):\n",
    "    display(df.head())\n",
    "    df.info()\n",
    "    return"
   ]
  },
  {
   "cell_type": "code",
   "execution_count": 6,
   "metadata": {},
   "outputs": [
    {
     "data": {
      "text/html": [
       "<div>\n",
       "<style scoped>\n",
       "    .dataframe tbody tr th:only-of-type {\n",
       "        vertical-align: middle;\n",
       "    }\n",
       "\n",
       "    .dataframe tbody tr th {\n",
       "        vertical-align: top;\n",
       "    }\n",
       "\n",
       "    .dataframe thead th {\n",
       "        text-align: right;\n",
       "    }\n",
       "</style>\n",
       "<table border=\"1\" class=\"dataframe\">\n",
       "  <thead>\n",
       "    <tr style=\"text-align: right;\">\n",
       "      <th></th>\n",
       "      <th>id</th>\n",
       "      <th>f0</th>\n",
       "      <th>f1</th>\n",
       "      <th>f2</th>\n",
       "      <th>product</th>\n",
       "    </tr>\n",
       "  </thead>\n",
       "  <tbody>\n",
       "    <tr>\n",
       "      <th>0</th>\n",
       "      <td>txEyH</td>\n",
       "      <td>0.705745</td>\n",
       "      <td>-0.497823</td>\n",
       "      <td>1.221170</td>\n",
       "      <td>105.280062</td>\n",
       "    </tr>\n",
       "    <tr>\n",
       "      <th>1</th>\n",
       "      <td>2acmU</td>\n",
       "      <td>1.334711</td>\n",
       "      <td>-0.340164</td>\n",
       "      <td>4.365080</td>\n",
       "      <td>73.037750</td>\n",
       "    </tr>\n",
       "    <tr>\n",
       "      <th>2</th>\n",
       "      <td>409Wp</td>\n",
       "      <td>1.022732</td>\n",
       "      <td>0.151990</td>\n",
       "      <td>1.419926</td>\n",
       "      <td>85.265647</td>\n",
       "    </tr>\n",
       "    <tr>\n",
       "      <th>3</th>\n",
       "      <td>iJLyR</td>\n",
       "      <td>-0.032172</td>\n",
       "      <td>0.139033</td>\n",
       "      <td>2.978566</td>\n",
       "      <td>168.620776</td>\n",
       "    </tr>\n",
       "    <tr>\n",
       "      <th>4</th>\n",
       "      <td>Xdl7t</td>\n",
       "      <td>1.988431</td>\n",
       "      <td>0.155413</td>\n",
       "      <td>4.751769</td>\n",
       "      <td>154.036647</td>\n",
       "    </tr>\n",
       "  </tbody>\n",
       "</table>\n",
       "</div>"
      ],
      "text/plain": [
       "      id        f0        f1        f2     product\n",
       "0  txEyH  0.705745 -0.497823  1.221170  105.280062\n",
       "1  2acmU  1.334711 -0.340164  4.365080   73.037750\n",
       "2  409Wp  1.022732  0.151990  1.419926   85.265647\n",
       "3  iJLyR -0.032172  0.139033  2.978566  168.620776\n",
       "4  Xdl7t  1.988431  0.155413  4.751769  154.036647"
      ]
     },
     "metadata": {},
     "output_type": "display_data"
    },
    {
     "name": "stdout",
     "output_type": "stream",
     "text": [
      "<class 'pandas.core.frame.DataFrame'>\n",
      "RangeIndex: 100000 entries, 0 to 99999\n",
      "Data columns (total 5 columns):\n",
      " #   Column   Non-Null Count   Dtype  \n",
      "---  ------   --------------   -----  \n",
      " 0   id       100000 non-null  object \n",
      " 1   f0       100000 non-null  float64\n",
      " 2   f1       100000 non-null  float64\n",
      " 3   f2       100000 non-null  float64\n",
      " 4   product  100000 non-null  float64\n",
      "dtypes: float64(4), object(1)\n",
      "memory usage: 3.8+ MB\n"
     ]
    }
   ],
   "source": [
    "#выведем информацию о первом датасете\n",
    "main_info(geo_data_0)"
   ]
  },
  {
   "cell_type": "markdown",
   "metadata": {},
   "source": [
    "Можно увидеть, что типы данных соответствуют ожидаемым, пропусков не обнаружено"
   ]
  },
  {
   "cell_type": "code",
   "execution_count": 7,
   "metadata": {},
   "outputs": [
    {
     "data": {
      "text/html": [
       "<div>\n",
       "<style scoped>\n",
       "    .dataframe tbody tr th:only-of-type {\n",
       "        vertical-align: middle;\n",
       "    }\n",
       "\n",
       "    .dataframe tbody tr th {\n",
       "        vertical-align: top;\n",
       "    }\n",
       "\n",
       "    .dataframe thead th {\n",
       "        text-align: right;\n",
       "    }\n",
       "</style>\n",
       "<table border=\"1\" class=\"dataframe\">\n",
       "  <thead>\n",
       "    <tr style=\"text-align: right;\">\n",
       "      <th></th>\n",
       "      <th>id</th>\n",
       "      <th>f0</th>\n",
       "      <th>f1</th>\n",
       "      <th>f2</th>\n",
       "      <th>product</th>\n",
       "    </tr>\n",
       "  </thead>\n",
       "  <tbody>\n",
       "    <tr>\n",
       "      <th>0</th>\n",
       "      <td>kBEdx</td>\n",
       "      <td>-15.001348</td>\n",
       "      <td>-8.276000</td>\n",
       "      <td>-0.005876</td>\n",
       "      <td>3.179103</td>\n",
       "    </tr>\n",
       "    <tr>\n",
       "      <th>1</th>\n",
       "      <td>62mP7</td>\n",
       "      <td>14.272088</td>\n",
       "      <td>-3.475083</td>\n",
       "      <td>0.999183</td>\n",
       "      <td>26.953261</td>\n",
       "    </tr>\n",
       "    <tr>\n",
       "      <th>2</th>\n",
       "      <td>vyE1P</td>\n",
       "      <td>6.263187</td>\n",
       "      <td>-5.948386</td>\n",
       "      <td>5.001160</td>\n",
       "      <td>134.766305</td>\n",
       "    </tr>\n",
       "    <tr>\n",
       "      <th>3</th>\n",
       "      <td>KcrkZ</td>\n",
       "      <td>-13.081196</td>\n",
       "      <td>-11.506057</td>\n",
       "      <td>4.999415</td>\n",
       "      <td>137.945408</td>\n",
       "    </tr>\n",
       "    <tr>\n",
       "      <th>4</th>\n",
       "      <td>AHL4O</td>\n",
       "      <td>12.702195</td>\n",
       "      <td>-8.147433</td>\n",
       "      <td>5.004363</td>\n",
       "      <td>134.766305</td>\n",
       "    </tr>\n",
       "  </tbody>\n",
       "</table>\n",
       "</div>"
      ],
      "text/plain": [
       "      id         f0         f1        f2     product\n",
       "0  kBEdx -15.001348  -8.276000 -0.005876    3.179103\n",
       "1  62mP7  14.272088  -3.475083  0.999183   26.953261\n",
       "2  vyE1P   6.263187  -5.948386  5.001160  134.766305\n",
       "3  KcrkZ -13.081196 -11.506057  4.999415  137.945408\n",
       "4  AHL4O  12.702195  -8.147433  5.004363  134.766305"
      ]
     },
     "metadata": {},
     "output_type": "display_data"
    },
    {
     "name": "stdout",
     "output_type": "stream",
     "text": [
      "<class 'pandas.core.frame.DataFrame'>\n",
      "RangeIndex: 100000 entries, 0 to 99999\n",
      "Data columns (total 5 columns):\n",
      " #   Column   Non-Null Count   Dtype  \n",
      "---  ------   --------------   -----  \n",
      " 0   id       100000 non-null  object \n",
      " 1   f0       100000 non-null  float64\n",
      " 2   f1       100000 non-null  float64\n",
      " 3   f2       100000 non-null  float64\n",
      " 4   product  100000 non-null  float64\n",
      "dtypes: float64(4), object(1)\n",
      "memory usage: 3.8+ MB\n"
     ]
    }
   ],
   "source": [
    "# выведем инфо о втором датасете\n",
    "main_info(geo_data_1)"
   ]
  },
  {
   "cell_type": "markdown",
   "metadata": {},
   "source": [
    "Также видим, что типы данных соответствуют ожидаемым, пропусков не обнаружено"
   ]
  },
  {
   "cell_type": "code",
   "execution_count": 8,
   "metadata": {},
   "outputs": [
    {
     "data": {
      "text/html": [
       "<div>\n",
       "<style scoped>\n",
       "    .dataframe tbody tr th:only-of-type {\n",
       "        vertical-align: middle;\n",
       "    }\n",
       "\n",
       "    .dataframe tbody tr th {\n",
       "        vertical-align: top;\n",
       "    }\n",
       "\n",
       "    .dataframe thead th {\n",
       "        text-align: right;\n",
       "    }\n",
       "</style>\n",
       "<table border=\"1\" class=\"dataframe\">\n",
       "  <thead>\n",
       "    <tr style=\"text-align: right;\">\n",
       "      <th></th>\n",
       "      <th>id</th>\n",
       "      <th>f0</th>\n",
       "      <th>f1</th>\n",
       "      <th>f2</th>\n",
       "      <th>product</th>\n",
       "    </tr>\n",
       "  </thead>\n",
       "  <tbody>\n",
       "    <tr>\n",
       "      <th>0</th>\n",
       "      <td>fwXo0</td>\n",
       "      <td>-1.146987</td>\n",
       "      <td>0.963328</td>\n",
       "      <td>-0.828965</td>\n",
       "      <td>27.758673</td>\n",
       "    </tr>\n",
       "    <tr>\n",
       "      <th>1</th>\n",
       "      <td>WJtFt</td>\n",
       "      <td>0.262778</td>\n",
       "      <td>0.269839</td>\n",
       "      <td>-2.530187</td>\n",
       "      <td>56.069697</td>\n",
       "    </tr>\n",
       "    <tr>\n",
       "      <th>2</th>\n",
       "      <td>ovLUW</td>\n",
       "      <td>0.194587</td>\n",
       "      <td>0.289035</td>\n",
       "      <td>-5.586433</td>\n",
       "      <td>62.871910</td>\n",
       "    </tr>\n",
       "    <tr>\n",
       "      <th>3</th>\n",
       "      <td>q6cA6</td>\n",
       "      <td>2.236060</td>\n",
       "      <td>-0.553760</td>\n",
       "      <td>0.930038</td>\n",
       "      <td>114.572842</td>\n",
       "    </tr>\n",
       "    <tr>\n",
       "      <th>4</th>\n",
       "      <td>WPMUX</td>\n",
       "      <td>-0.515993</td>\n",
       "      <td>1.716266</td>\n",
       "      <td>5.899011</td>\n",
       "      <td>149.600746</td>\n",
       "    </tr>\n",
       "  </tbody>\n",
       "</table>\n",
       "</div>"
      ],
      "text/plain": [
       "      id        f0        f1        f2     product\n",
       "0  fwXo0 -1.146987  0.963328 -0.828965   27.758673\n",
       "1  WJtFt  0.262778  0.269839 -2.530187   56.069697\n",
       "2  ovLUW  0.194587  0.289035 -5.586433   62.871910\n",
       "3  q6cA6  2.236060 -0.553760  0.930038  114.572842\n",
       "4  WPMUX -0.515993  1.716266  5.899011  149.600746"
      ]
     },
     "metadata": {},
     "output_type": "display_data"
    },
    {
     "name": "stdout",
     "output_type": "stream",
     "text": [
      "<class 'pandas.core.frame.DataFrame'>\n",
      "RangeIndex: 100000 entries, 0 to 99999\n",
      "Data columns (total 5 columns):\n",
      " #   Column   Non-Null Count   Dtype  \n",
      "---  ------   --------------   -----  \n",
      " 0   id       100000 non-null  object \n",
      " 1   f0       100000 non-null  float64\n",
      " 2   f1       100000 non-null  float64\n",
      " 3   f2       100000 non-null  float64\n",
      " 4   product  100000 non-null  float64\n",
      "dtypes: float64(4), object(1)\n",
      "memory usage: 3.8+ MB\n"
     ]
    }
   ],
   "source": [
    "# выведем инфо о третьем датасете\n",
    "main_info(geo_data_2)"
   ]
  },
  {
   "cell_type": "markdown",
   "metadata": {},
   "source": [
    "Типы данных соответствуют ожидаемым, пропусков не обнаружено"
   ]
  },
  {
   "cell_type": "markdown",
   "metadata": {},
   "source": [
    "### Проверка на дубликаты"
   ]
  },
  {
   "cell_type": "code",
   "execution_count": 9,
   "metadata": {},
   "outputs": [
    {
     "data": {
      "text/plain": [
       "0"
      ]
     },
     "execution_count": 9,
     "metadata": {},
     "output_type": "execute_result"
    }
   ],
   "source": [
    "# проверим данные на явные дубликаты\n",
    "geo_data_0.duplicated().sum()"
   ]
  },
  {
   "cell_type": "code",
   "execution_count": 10,
   "metadata": {},
   "outputs": [
    {
     "data": {
      "text/plain": [
       "10"
      ]
     },
     "execution_count": 10,
     "metadata": {},
     "output_type": "execute_result"
    }
   ],
   "source": [
    "# проверим данные на неявные дубликаты\n",
    "geo_data_0.duplicated(subset='id').sum()"
   ]
  },
  {
   "cell_type": "code",
   "execution_count": 11,
   "metadata": {},
   "outputs": [
    {
     "data": {
      "text/html": [
       "<div>\n",
       "<style scoped>\n",
       "    .dataframe tbody tr th:only-of-type {\n",
       "        vertical-align: middle;\n",
       "    }\n",
       "\n",
       "    .dataframe tbody tr th {\n",
       "        vertical-align: top;\n",
       "    }\n",
       "\n",
       "    .dataframe thead th {\n",
       "        text-align: right;\n",
       "    }\n",
       "</style>\n",
       "<table border=\"1\" class=\"dataframe\">\n",
       "  <thead>\n",
       "    <tr style=\"text-align: right;\">\n",
       "      <th></th>\n",
       "      <th>id</th>\n",
       "      <th>f0</th>\n",
       "      <th>f1</th>\n",
       "      <th>f2</th>\n",
       "      <th>product</th>\n",
       "    </tr>\n",
       "  </thead>\n",
       "  <tbody>\n",
       "    <tr>\n",
       "      <th>66136</th>\n",
       "      <td>74z30</td>\n",
       "      <td>1.084962</td>\n",
       "      <td>-0.312358</td>\n",
       "      <td>6.990771</td>\n",
       "      <td>127.643327</td>\n",
       "    </tr>\n",
       "    <tr>\n",
       "      <th>64022</th>\n",
       "      <td>74z30</td>\n",
       "      <td>0.741456</td>\n",
       "      <td>0.459229</td>\n",
       "      <td>5.153109</td>\n",
       "      <td>140.771492</td>\n",
       "    </tr>\n",
       "    <tr>\n",
       "      <th>51970</th>\n",
       "      <td>A5aEY</td>\n",
       "      <td>-0.180335</td>\n",
       "      <td>0.935548</td>\n",
       "      <td>-2.094773</td>\n",
       "      <td>33.020205</td>\n",
       "    </tr>\n",
       "    <tr>\n",
       "      <th>3389</th>\n",
       "      <td>A5aEY</td>\n",
       "      <td>-0.039949</td>\n",
       "      <td>0.156872</td>\n",
       "      <td>0.209861</td>\n",
       "      <td>89.249364</td>\n",
       "    </tr>\n",
       "    <tr>\n",
       "      <th>69163</th>\n",
       "      <td>AGS9W</td>\n",
       "      <td>-0.933795</td>\n",
       "      <td>0.116194</td>\n",
       "      <td>-3.655896</td>\n",
       "      <td>19.230453</td>\n",
       "    </tr>\n",
       "    <tr>\n",
       "      <th>42529</th>\n",
       "      <td>AGS9W</td>\n",
       "      <td>1.454747</td>\n",
       "      <td>-0.479651</td>\n",
       "      <td>0.683380</td>\n",
       "      <td>126.370504</td>\n",
       "    </tr>\n",
       "    <tr>\n",
       "      <th>931</th>\n",
       "      <td>HZww2</td>\n",
       "      <td>0.755284</td>\n",
       "      <td>0.368511</td>\n",
       "      <td>1.863211</td>\n",
       "      <td>30.681774</td>\n",
       "    </tr>\n",
       "    <tr>\n",
       "      <th>7530</th>\n",
       "      <td>HZww2</td>\n",
       "      <td>1.061194</td>\n",
       "      <td>-0.373969</td>\n",
       "      <td>10.430210</td>\n",
       "      <td>158.828695</td>\n",
       "    </tr>\n",
       "    <tr>\n",
       "      <th>63593</th>\n",
       "      <td>QcMuo</td>\n",
       "      <td>0.635635</td>\n",
       "      <td>-0.473422</td>\n",
       "      <td>0.862670</td>\n",
       "      <td>64.578675</td>\n",
       "    </tr>\n",
       "    <tr>\n",
       "      <th>1949</th>\n",
       "      <td>QcMuo</td>\n",
       "      <td>0.506563</td>\n",
       "      <td>-0.323775</td>\n",
       "      <td>-2.215583</td>\n",
       "      <td>75.496502</td>\n",
       "    </tr>\n",
       "    <tr>\n",
       "      <th>75715</th>\n",
       "      <td>Tdehs</td>\n",
       "      <td>0.112079</td>\n",
       "      <td>0.430296</td>\n",
       "      <td>3.218993</td>\n",
       "      <td>60.964018</td>\n",
       "    </tr>\n",
       "    <tr>\n",
       "      <th>21426</th>\n",
       "      <td>Tdehs</td>\n",
       "      <td>0.829407</td>\n",
       "      <td>0.298807</td>\n",
       "      <td>-0.049563</td>\n",
       "      <td>96.035308</td>\n",
       "    </tr>\n",
       "    <tr>\n",
       "      <th>92341</th>\n",
       "      <td>TtcGQ</td>\n",
       "      <td>0.110711</td>\n",
       "      <td>1.022689</td>\n",
       "      <td>0.911381</td>\n",
       "      <td>101.318008</td>\n",
       "    </tr>\n",
       "    <tr>\n",
       "      <th>60140</th>\n",
       "      <td>TtcGQ</td>\n",
       "      <td>0.569276</td>\n",
       "      <td>-0.104876</td>\n",
       "      <td>6.440215</td>\n",
       "      <td>85.350186</td>\n",
       "    </tr>\n",
       "    <tr>\n",
       "      <th>89582</th>\n",
       "      <td>bsk9y</td>\n",
       "      <td>0.398908</td>\n",
       "      <td>-0.400253</td>\n",
       "      <td>10.122376</td>\n",
       "      <td>163.433078</td>\n",
       "    </tr>\n",
       "    <tr>\n",
       "      <th>97785</th>\n",
       "      <td>bsk9y</td>\n",
       "      <td>0.378429</td>\n",
       "      <td>0.005837</td>\n",
       "      <td>0.160827</td>\n",
       "      <td>160.637302</td>\n",
       "    </tr>\n",
       "    <tr>\n",
       "      <th>41724</th>\n",
       "      <td>bxg6G</td>\n",
       "      <td>-0.823752</td>\n",
       "      <td>0.546319</td>\n",
       "      <td>3.630479</td>\n",
       "      <td>93.007798</td>\n",
       "    </tr>\n",
       "    <tr>\n",
       "      <th>1364</th>\n",
       "      <td>bxg6G</td>\n",
       "      <td>0.411645</td>\n",
       "      <td>0.856830</td>\n",
       "      <td>-3.653440</td>\n",
       "      <td>73.604260</td>\n",
       "    </tr>\n",
       "    <tr>\n",
       "      <th>16633</th>\n",
       "      <td>fiKDv</td>\n",
       "      <td>0.157341</td>\n",
       "      <td>1.028359</td>\n",
       "      <td>5.585586</td>\n",
       "      <td>95.817889</td>\n",
       "    </tr>\n",
       "    <tr>\n",
       "      <th>90815</th>\n",
       "      <td>fiKDv</td>\n",
       "      <td>0.049883</td>\n",
       "      <td>0.841313</td>\n",
       "      <td>6.394613</td>\n",
       "      <td>137.346586</td>\n",
       "    </tr>\n",
       "  </tbody>\n",
       "</table>\n",
       "</div>"
      ],
      "text/plain": [
       "          id        f0        f1         f2     product\n",
       "66136  74z30  1.084962 -0.312358   6.990771  127.643327\n",
       "64022  74z30  0.741456  0.459229   5.153109  140.771492\n",
       "51970  A5aEY -0.180335  0.935548  -2.094773   33.020205\n",
       "3389   A5aEY -0.039949  0.156872   0.209861   89.249364\n",
       "69163  AGS9W -0.933795  0.116194  -3.655896   19.230453\n",
       "42529  AGS9W  1.454747 -0.479651   0.683380  126.370504\n",
       "931    HZww2  0.755284  0.368511   1.863211   30.681774\n",
       "7530   HZww2  1.061194 -0.373969  10.430210  158.828695\n",
       "63593  QcMuo  0.635635 -0.473422   0.862670   64.578675\n",
       "1949   QcMuo  0.506563 -0.323775  -2.215583   75.496502\n",
       "75715  Tdehs  0.112079  0.430296   3.218993   60.964018\n",
       "21426  Tdehs  0.829407  0.298807  -0.049563   96.035308\n",
       "92341  TtcGQ  0.110711  1.022689   0.911381  101.318008\n",
       "60140  TtcGQ  0.569276 -0.104876   6.440215   85.350186\n",
       "89582  bsk9y  0.398908 -0.400253  10.122376  163.433078\n",
       "97785  bsk9y  0.378429  0.005837   0.160827  160.637302\n",
       "41724  bxg6G -0.823752  0.546319   3.630479   93.007798\n",
       "1364   bxg6G  0.411645  0.856830  -3.653440   73.604260\n",
       "16633  fiKDv  0.157341  1.028359   5.585586   95.817889\n",
       "90815  fiKDv  0.049883  0.841313   6.394613  137.346586"
      ]
     },
     "execution_count": 11,
     "metadata": {},
     "output_type": "execute_result"
    }
   ],
   "source": [
    "# выведем неявные дубликаты \n",
    "geo_data_0[geo_data_0['id'].duplicated(keep=False)].sort_values(by='id')"
   ]
  },
  {
   "cell_type": "markdown",
   "metadata": {},
   "source": [
    "Так как неизвестно, что означают признаки точек f0-f2, то нет возможности сложить данные или вычислить среднее для сохранения данных, поэтому принято решение удалить все дубликаты"
   ]
  },
  {
   "cell_type": "code",
   "execution_count": 12,
   "metadata": {},
   "outputs": [],
   "source": [
    "geo_data_0 = geo_data_0.drop_duplicates(keep=False)"
   ]
  },
  {
   "cell_type": "code",
   "execution_count": 13,
   "metadata": {},
   "outputs": [
    {
     "data": {
      "text/plain": [
       "0"
      ]
     },
     "execution_count": 13,
     "metadata": {},
     "output_type": "execute_result"
    }
   ],
   "source": [
    "# проверим данные второго датасета на явные дубликаты\n",
    "geo_data_1.duplicated().sum()"
   ]
  },
  {
   "cell_type": "code",
   "execution_count": 14,
   "metadata": {},
   "outputs": [
    {
     "data": {
      "text/plain": [
       "4"
      ]
     },
     "execution_count": 14,
     "metadata": {},
     "output_type": "execute_result"
    }
   ],
   "source": [
    "# проверим данные на неявные дубликаты\n",
    "geo_data_1.duplicated(subset='id').sum()"
   ]
  },
  {
   "cell_type": "code",
   "execution_count": 15,
   "metadata": {},
   "outputs": [
    {
     "data": {
      "text/html": [
       "<div>\n",
       "<style scoped>\n",
       "    .dataframe tbody tr th:only-of-type {\n",
       "        vertical-align: middle;\n",
       "    }\n",
       "\n",
       "    .dataframe tbody tr th {\n",
       "        vertical-align: top;\n",
       "    }\n",
       "\n",
       "    .dataframe thead th {\n",
       "        text-align: right;\n",
       "    }\n",
       "</style>\n",
       "<table border=\"1\" class=\"dataframe\">\n",
       "  <thead>\n",
       "    <tr style=\"text-align: right;\">\n",
       "      <th></th>\n",
       "      <th>id</th>\n",
       "      <th>f0</th>\n",
       "      <th>f1</th>\n",
       "      <th>f2</th>\n",
       "      <th>product</th>\n",
       "    </tr>\n",
       "  </thead>\n",
       "  <tbody>\n",
       "    <tr>\n",
       "      <th>5849</th>\n",
       "      <td>5ltQ6</td>\n",
       "      <td>-3.435401</td>\n",
       "      <td>-12.296043</td>\n",
       "      <td>1.999796</td>\n",
       "      <td>57.085625</td>\n",
       "    </tr>\n",
       "    <tr>\n",
       "      <th>84461</th>\n",
       "      <td>5ltQ6</td>\n",
       "      <td>18.213839</td>\n",
       "      <td>2.191999</td>\n",
       "      <td>3.993869</td>\n",
       "      <td>107.813044</td>\n",
       "    </tr>\n",
       "    <tr>\n",
       "      <th>1305</th>\n",
       "      <td>LHZR0</td>\n",
       "      <td>11.170835</td>\n",
       "      <td>-1.945066</td>\n",
       "      <td>3.002872</td>\n",
       "      <td>80.859783</td>\n",
       "    </tr>\n",
       "    <tr>\n",
       "      <th>41906</th>\n",
       "      <td>LHZR0</td>\n",
       "      <td>-8.989672</td>\n",
       "      <td>-4.286607</td>\n",
       "      <td>2.009139</td>\n",
       "      <td>57.085625</td>\n",
       "    </tr>\n",
       "    <tr>\n",
       "      <th>2721</th>\n",
       "      <td>bfPNe</td>\n",
       "      <td>-9.494442</td>\n",
       "      <td>-5.463692</td>\n",
       "      <td>4.006042</td>\n",
       "      <td>110.992147</td>\n",
       "    </tr>\n",
       "    <tr>\n",
       "      <th>82178</th>\n",
       "      <td>bfPNe</td>\n",
       "      <td>-6.202799</td>\n",
       "      <td>-4.820045</td>\n",
       "      <td>2.995107</td>\n",
       "      <td>84.038886</td>\n",
       "    </tr>\n",
       "    <tr>\n",
       "      <th>47591</th>\n",
       "      <td>wt4Uk</td>\n",
       "      <td>-9.091098</td>\n",
       "      <td>-8.109279</td>\n",
       "      <td>-0.002314</td>\n",
       "      <td>3.179103</td>\n",
       "    </tr>\n",
       "    <tr>\n",
       "      <th>82873</th>\n",
       "      <td>wt4Uk</td>\n",
       "      <td>10.259972</td>\n",
       "      <td>-9.376355</td>\n",
       "      <td>4.994297</td>\n",
       "      <td>134.766305</td>\n",
       "    </tr>\n",
       "  </tbody>\n",
       "</table>\n",
       "</div>"
      ],
      "text/plain": [
       "          id         f0         f1        f2     product\n",
       "5849   5ltQ6  -3.435401 -12.296043  1.999796   57.085625\n",
       "84461  5ltQ6  18.213839   2.191999  3.993869  107.813044\n",
       "1305   LHZR0  11.170835  -1.945066  3.002872   80.859783\n",
       "41906  LHZR0  -8.989672  -4.286607  2.009139   57.085625\n",
       "2721   bfPNe  -9.494442  -5.463692  4.006042  110.992147\n",
       "82178  bfPNe  -6.202799  -4.820045  2.995107   84.038886\n",
       "47591  wt4Uk  -9.091098  -8.109279 -0.002314    3.179103\n",
       "82873  wt4Uk  10.259972  -9.376355  4.994297  134.766305"
      ]
     },
     "execution_count": 15,
     "metadata": {},
     "output_type": "execute_result"
    }
   ],
   "source": [
    "geo_data_1[geo_data_1['id'].duplicated(keep=False)].sort_values(by='id')"
   ]
  },
  {
   "cell_type": "code",
   "execution_count": 16,
   "metadata": {},
   "outputs": [],
   "source": [
    "# удалим неявные дубликаты\n",
    "geo_data_1 = geo_data_1.drop_duplicates(keep=False)"
   ]
  },
  {
   "cell_type": "code",
   "execution_count": 17,
   "metadata": {},
   "outputs": [
    {
     "data": {
      "text/plain": [
       "0"
      ]
     },
     "execution_count": 17,
     "metadata": {},
     "output_type": "execute_result"
    }
   ],
   "source": [
    "# проверим данные третьего датасета на явные дубликаты\n",
    "geo_data_2.duplicated().sum()"
   ]
  },
  {
   "cell_type": "code",
   "execution_count": 18,
   "metadata": {},
   "outputs": [
    {
     "data": {
      "text/plain": [
       "4"
      ]
     },
     "execution_count": 18,
     "metadata": {},
     "output_type": "execute_result"
    }
   ],
   "source": [
    "# проверим данные третьего датасета на неявные дубликаты\n",
    "geo_data_2.duplicated(subset='id').sum()"
   ]
  },
  {
   "cell_type": "code",
   "execution_count": 19,
   "metadata": {},
   "outputs": [
    {
     "data": {
      "text/html": [
       "<div>\n",
       "<style scoped>\n",
       "    .dataframe tbody tr th:only-of-type {\n",
       "        vertical-align: middle;\n",
       "    }\n",
       "\n",
       "    .dataframe tbody tr th {\n",
       "        vertical-align: top;\n",
       "    }\n",
       "\n",
       "    .dataframe thead th {\n",
       "        text-align: right;\n",
       "    }\n",
       "</style>\n",
       "<table border=\"1\" class=\"dataframe\">\n",
       "  <thead>\n",
       "    <tr style=\"text-align: right;\">\n",
       "      <th></th>\n",
       "      <th>id</th>\n",
       "      <th>f0</th>\n",
       "      <th>f1</th>\n",
       "      <th>f2</th>\n",
       "      <th>product</th>\n",
       "    </tr>\n",
       "  </thead>\n",
       "  <tbody>\n",
       "    <tr>\n",
       "      <th>45404</th>\n",
       "      <td>KUPhW</td>\n",
       "      <td>0.231846</td>\n",
       "      <td>-1.698941</td>\n",
       "      <td>4.990775</td>\n",
       "      <td>11.716299</td>\n",
       "    </tr>\n",
       "    <tr>\n",
       "      <th>55967</th>\n",
       "      <td>KUPhW</td>\n",
       "      <td>1.211150</td>\n",
       "      <td>3.176408</td>\n",
       "      <td>5.543540</td>\n",
       "      <td>132.831802</td>\n",
       "    </tr>\n",
       "    <tr>\n",
       "      <th>11449</th>\n",
       "      <td>VF7Jo</td>\n",
       "      <td>2.122656</td>\n",
       "      <td>-0.858275</td>\n",
       "      <td>5.746001</td>\n",
       "      <td>181.716817</td>\n",
       "    </tr>\n",
       "    <tr>\n",
       "      <th>49564</th>\n",
       "      <td>VF7Jo</td>\n",
       "      <td>-0.883115</td>\n",
       "      <td>0.560537</td>\n",
       "      <td>0.723601</td>\n",
       "      <td>136.233420</td>\n",
       "    </tr>\n",
       "    <tr>\n",
       "      <th>44378</th>\n",
       "      <td>Vcm5J</td>\n",
       "      <td>-1.229484</td>\n",
       "      <td>-2.439204</td>\n",
       "      <td>1.222909</td>\n",
       "      <td>137.968290</td>\n",
       "    </tr>\n",
       "    <tr>\n",
       "      <th>95090</th>\n",
       "      <td>Vcm5J</td>\n",
       "      <td>2.587702</td>\n",
       "      <td>1.986875</td>\n",
       "      <td>2.482245</td>\n",
       "      <td>92.327572</td>\n",
       "    </tr>\n",
       "    <tr>\n",
       "      <th>28039</th>\n",
       "      <td>xCHr8</td>\n",
       "      <td>1.633027</td>\n",
       "      <td>0.368135</td>\n",
       "      <td>-2.378367</td>\n",
       "      <td>6.120525</td>\n",
       "    </tr>\n",
       "    <tr>\n",
       "      <th>43233</th>\n",
       "      <td>xCHr8</td>\n",
       "      <td>-0.847066</td>\n",
       "      <td>2.101796</td>\n",
       "      <td>5.597130</td>\n",
       "      <td>184.388641</td>\n",
       "    </tr>\n",
       "  </tbody>\n",
       "</table>\n",
       "</div>"
      ],
      "text/plain": [
       "          id        f0        f1        f2     product\n",
       "45404  KUPhW  0.231846 -1.698941  4.990775   11.716299\n",
       "55967  KUPhW  1.211150  3.176408  5.543540  132.831802\n",
       "11449  VF7Jo  2.122656 -0.858275  5.746001  181.716817\n",
       "49564  VF7Jo -0.883115  0.560537  0.723601  136.233420\n",
       "44378  Vcm5J -1.229484 -2.439204  1.222909  137.968290\n",
       "95090  Vcm5J  2.587702  1.986875  2.482245   92.327572\n",
       "28039  xCHr8  1.633027  0.368135 -2.378367    6.120525\n",
       "43233  xCHr8 -0.847066  2.101796  5.597130  184.388641"
      ]
     },
     "execution_count": 19,
     "metadata": {},
     "output_type": "execute_result"
    }
   ],
   "source": [
    "# выведем неявные дубликаты для анализа\n",
    "geo_data_2[geo_data_2['id'].duplicated(keep=False)].sort_values(by='id')"
   ]
  },
  {
   "cell_type": "code",
   "execution_count": 20,
   "metadata": {},
   "outputs": [],
   "source": [
    "# удалим неявные дубликаты\n",
    "geo_data_2 = geo_data_2.drop_duplicates(keep=False)"
   ]
  },
  {
   "cell_type": "markdown",
   "metadata": {},
   "source": [
    "### Исследовательский анализ "
   ]
  },
  {
   "cell_type": "code",
   "execution_count": 21,
   "metadata": {},
   "outputs": [],
   "source": [
    "# создадим список подписей для графиков\n",
    "labels =[\n",
    "    'Значения', \n",
    "    'Значения', \n",
    "    'Значения', \n",
    "   ' Объём запасов в скважине (тыс. баррелей)'\n",
    "] "
   ]
  },
  {
   "cell_type": "code",
   "execution_count": 22,
   "metadata": {},
   "outputs": [],
   "source": [
    "#создадим функцию построения графиков распределения признаков\n",
    "def graph_maker(df):\n",
    "    i = 1\n",
    "    fig, ax = plt.subplots()\n",
    "    col_names = df.select_dtypes(include='number').columns.to_list()\n",
    "    for col_name in col_names:\n",
    "        ax = plt.subplot(2, 2, i)\n",
    "        df[col_name].plot(kind='hist', ax=ax, figsize=(16, 14))\n",
    "        ax.set_title(f'Диаграмма распределения, {col_name}')\n",
    "        ax.set_ylabel('Количество значений')\n",
    "        ax.set_xlabel(f'{labels[i-1]}')\n",
    "        i +=1\n",
    "    fig.tight_layout()  \n",
    "    plt.show() "
   ]
  },
  {
   "cell_type": "code",
   "execution_count": 23,
   "metadata": {},
   "outputs": [
    {
     "data": {
      "image/png": "[encoded data removed]",
      "text/plain": [
       "<Figure size 1152x1008 with 4 Axes>"
      ]
     },
     "metadata": {
      "needs_background": "light"
     },
     "output_type": "display_data"
    }
   ],
   "source": [
    "# построим графики распределения признаков в первом датасете\n",
    "graph_maker(geo_data_0)"
   ]
  },
  {
   "cell_type": "markdown",
   "metadata": {},
   "source": [
    "Распределения признаков похожи на нормальные, не наблюдаем выбросов в данных"
   ]
  },
  {
   "cell_type": "code",
   "execution_count": 24,
   "metadata": {},
   "outputs": [
    {
     "data": {
      "image/png": "[encoded data removed]",
      "text/plain": [
       "<Figure size 1152x1008 with 4 Axes>"
      ]
     },
     "metadata": {
      "needs_background": "light"
     },
     "output_type": "display_data"
    }
   ],
   "source": [
    "# построим графики распределения признаков во втором датасете\n",
    "graph_maker(geo_data_1)"
   ]
  },
  {
   "cell_type": "markdown",
   "metadata": {},
   "source": [
    "Распределения признаков f0 и f1 похожи на нормальные, не наблюдаем выбросов в данных. Признаки f2 и product распределены не нормально. "
   ]
  },
  {
   "cell_type": "code",
   "execution_count": 25,
   "metadata": {},
   "outputs": [
    {
     "data": {
      "image/png": "[encoded data removed]",
      "text/plain": [
       "<Figure size 1152x1008 with 4 Axes>"
      ]
     },
     "metadata": {
      "needs_background": "light"
     },
     "output_type": "display_data"
    }
   ],
   "source": [
    "# построим графики распределения признаков в третьем датасете\n",
    "graph_maker(geo_data_2)"
   ]
  },
  {
   "cell_type": "markdown",
   "metadata": {},
   "source": [
    "Распределения признаков похожи на нормальные, не наблюдаем выбросов в данных"
   ]
  },
  {
   "cell_type": "markdown",
   "metadata": {},
   "source": [
    "### Вывод"
   ]
  },
  {
   "cell_type": "markdown",
   "metadata": {},
   "source": [
    "Произвели загрузку и обработку данных. В трех датасетах не были найдены пропуски, но присутствовали неявные дубликаты. Дубликаты удалены. Распределения признаков в 1 и 3 регионе похожи на нормальные, во 2 регионе есть аномальные распределения по признакам f2 и product. "
   ]
  },
  {
   "cell_type": "markdown",
   "metadata": {},
   "source": [
    "## Обучение и проверка модели"
   ]
  },
  {
   "cell_type": "markdown",
   "metadata": {},
   "source": [
    "### Разбивка данных и обучение модели"
   ]
  },
  {
   "cell_type": "code",
   "execution_count": 26,
   "metadata": {},
   "outputs": [],
   "source": [
    "# создадим функцию для предсказаний модели\n",
    "def predictions(df):\n",
    "    RANDOM_STATE = 42\n",
    "    TEST_SIZE = 0.25\n",
    "\n",
    "    X = df.drop(['product', 'id'], axis=1)\n",
    "    y = df['product']\n",
    "\n",
    "    X_train, X_valid, y_train, y_valid = train_test_split(\n",
    "        X,\n",
    "        y,\n",
    "        test_size=TEST_SIZE,\n",
    "        random_state=RANDOM_STATE\n",
    "    )\n",
    "    \n",
    "    scaler=StandardScaler()\n",
    "    X_train_scaled = scaler.fit_transform(X_train)\n",
    "    X_valid_scaled = scaler.transform(X_valid)\n",
    "    \n",
    "    model = LinearRegression()\n",
    "    model.fit(X_train_scaled, y_train)\n",
    "    \n",
    "    y_pred = model.predict(X_valid_scaled)\n",
    "    rmse = mean_squared_error(y_valid, y_pred, squared=False)\n",
    "    return rmse, y_pred, y_valid"
   ]
  },
  {
   "cell_type": "code",
   "execution_count": 27,
   "metadata": {},
   "outputs": [],
   "source": [
    "# сохраним предсказания и правильные ответы на валидационной выборке для первого датасета\n",
    "rmse_0, y_pred_0, y_valid_0 = predictions(geo_data_0)"
   ]
  },
  {
   "cell_type": "code",
   "execution_count": 28,
   "metadata": {},
   "outputs": [],
   "source": [
    "# сохраним предсказания и правильные ответы на валидационной выборке для второго датасета\n",
    "rmse_1, y_pred_1, y_valid_1 = predictions(geo_data_1)"
   ]
  },
  {
   "cell_type": "code",
   "execution_count": 29,
   "metadata": {},
   "outputs": [],
   "source": [
    "# сохраним предсказания и правильные ответы на валидационной выборке для третьего датасета\n",
    "rmse_2, y_pred_2, y_valid_2 = predictions(geo_data_2)"
   ]
  },
  {
   "cell_type": "markdown",
   "metadata": {},
   "source": [
    "### Вывод показателей "
   ]
  },
  {
   "cell_type": "code",
   "execution_count": 30,
   "metadata": {},
   "outputs": [
    {
     "name": "stdout",
     "output_type": "stream",
     "text": [
      "Регион 1:\n",
      "RMSE LinearRegression  = 37.757\n",
      "Средний запас предсказанного сырья  = 92.399\n"
     ]
    }
   ],
   "source": [
    "# выведем средний запас предсказанного сырья и RMSE модели по первому региону\n",
    "print(f'Регион 1:')\n",
    "print(f'RMSE LinearRegression  = {rmse_0:.3f}')\n",
    "print(f'Средний запас предсказанного сырья  = {y_pred_0.mean():.3f}')"
   ]
  },
  {
   "cell_type": "code",
   "execution_count": 31,
   "metadata": {},
   "outputs": [
    {
     "name": "stdout",
     "output_type": "stream",
     "text": [
      "Регион 2:\n",
      "RMSE LinearRegression  = 0.890\n",
      "Средний запас предсказанного сырья  = 68.713\n"
     ]
    }
   ],
   "source": [
    "# выведем средний запас предсказанного сырья и RMSE модели по второму региону\n",
    "print(f'Регион 2:')\n",
    "print(f'RMSE LinearRegression  = {rmse_1:.3f}')\n",
    "print(f'Средний запас предсказанного сырья  = {y_pred_1.mean():.3f}')"
   ]
  },
  {
   "cell_type": "code",
   "execution_count": 32,
   "metadata": {},
   "outputs": [
    {
     "name": "stdout",
     "output_type": "stream",
     "text": [
      "Регион 3:\n",
      "RMSE LinearRegression  = 40.146\n",
      "Средний запас предсказанного сырья  = 94.771\n"
     ]
    }
   ],
   "source": [
    "# выведем средний запас предсказанного сырья и RMSE модели по третьему региону\n",
    "print(f'Регион 3:')\n",
    "print(f'RMSE LinearRegression  = {rmse_2:.3f}')\n",
    "print(f'Средний запас предсказанного сырья  = {y_pred_2.mean():.3f}')"
   ]
  },
  {
   "cell_type": "markdown",
   "metadata": {},
   "source": [
    "### Вывод\n",
    "Разбили данные на обучающую и валидационную выборки в соотношении 75:25. \\\n",
    "Обучили модель и сделали предсказания на валидационной выборке для трех регионов.\\\n",
    "Лучшие показатели по RMSE у второго региона - 0.890, но здесь же самый низкий показатель среднего запаса предсказанного сырья. \\\n",
    "Самый высокий средний запас предсказанного сырья у третьего региона, здесь же худший показатель по метрике RMSE - 40.146"
   ]
  },
  {
   "cell_type": "markdown",
   "metadata": {},
   "source": [
    "## Подготовка к расчёту прибыли"
   ]
  },
  {
   "cell_type": "code",
   "execution_count": 33,
   "metadata": {},
   "outputs": [],
   "source": [
    "# сохраним значения для расчетов в переменных\n",
    "K_POINTS = 500\n",
    "K_POINTS_BEST = 200\n",
    "BUDGET = 10000000000\n",
    "INCOME_PER_UNIT = 450000\n",
    "LOSS_PROBA = 0.025"
   ]
  },
  {
   "cell_type": "code",
   "execution_count": 34,
   "metadata": {},
   "outputs": [],
   "source": [
    "# расчитаем достаточный объем сырья для безубыточной разработки новой скважины\n",
    "break_even_point = BUDGET / INCOME_PER_UNIT / K_POINTS_BEST"
   ]
  },
  {
   "cell_type": "code",
   "execution_count": 35,
   "metadata": {
    "scrolled": true
   },
   "outputs": [
    {
     "name": "stdout",
     "output_type": "stream",
     "text": [
      "Достаточный объем сырья для безубыточной разработки новой скважины: 111.11 тыс. баррелей\n"
     ]
    }
   ],
   "source": [
    "print(f'Достаточный объем сырья для безубыточной разработки новой скважины: {break_even_point:.2f} тыс. баррелей')"
   ]
  },
  {
   "cell_type": "markdown",
   "metadata": {},
   "source": [
    "### Вывод"
   ]
  },
  {
   "cell_type": "markdown",
   "metadata": {},
   "source": [
    "Сравнивая ранее рассчитанные средние запасы предсказанного сырья в трех регионах с достаточным объемом сырья, можем сказать, что во всех регионах средние запасы меньше безубыточных. "
   ]
  },
  {
   "cell_type": "markdown",
   "metadata": {},
   "source": [
    "## Расчёт прибыли и рисков "
   ]
  },
  {
   "cell_type": "code",
   "execution_count": 36,
   "metadata": {},
   "outputs": [],
   "source": [
    "# напишем функцию для расчета прибыли по выбранным скважинам и предсказаниям модели\n",
    "\n",
    "def profit(predictions, valid):\n",
    "    predictions_sorted = pd.Series(predictions).sort_values(ascending=False)\n",
    "    points_best = valid.reset_index(drop=True)[predictions_sorted.index][:K_POINTS_BEST]\n",
    "    profit_sum = points_best.sum() * INCOME_PER_UNIT - BUDGET\n",
    "    return profit_sum"
   ]
  },
  {
   "cell_type": "code",
   "execution_count": 37,
   "metadata": {},
   "outputs": [],
   "source": [
    "# напишем функцию для применения техники Bootstrap для определения распределения прибыли\n",
    "def bootstrap(predictions, valid):\n",
    "    values = []\n",
    "    state = RandomState(12345)\n",
    "    \n",
    "    for i in range(1000):\n",
    "        pred_sample = pd.Series(predictions).sample(n=K_POINTS, replace=True, random_state=state)\n",
    "        values.append(profit(pred_sample, valid))\n",
    "        \n",
    "    values = pd.Series(values)\n",
    "    lower = values.quantile(0.025)\n",
    "    upper = values.quantile(0.975)\n",
    "    mean_profit = values.mean()\n",
    "    #loss_risk = len(values[values < 0])/len(values)\n",
    "    loss_risk = (values < 0).mean()\n",
    "    return lower, upper, mean_profit, loss_risk"
   ]
  },
  {
   "cell_type": "code",
   "execution_count": 38,
   "metadata": {},
   "outputs": [],
   "source": [
    "# сохраним значения границ доверительного интервала, средней прибыли и риск убытков для первого региона\n",
    "lower_0, upper_0, mean_profit_0, loss_risk_0 = bootstrap(y_pred_0, y_valid_0)"
   ]
  },
  {
   "cell_type": "code",
   "execution_count": 39,
   "metadata": {},
   "outputs": [],
   "source": [
    "# сохраним значения границ доверительного интервала, средней прибыли и риск убытков для второго региона\n",
    "lower_1, upper_1, mean_profit_1, loss_risk_1 = bootstrap(y_pred_1, y_valid_1)"
   ]
  },
  {
   "cell_type": "code",
   "execution_count": 40,
   "metadata": {},
   "outputs": [],
   "source": [
    "# сохраним значения границ доверительного интервала, средней прибыли и риск убытков для третьего региона\n",
    "lower_2, upper_2, mean_profit_2, loss_risk_2 = bootstrap(y_pred_2, y_valid_2)"
   ]
  },
  {
   "cell_type": "code",
   "execution_count": 41,
   "metadata": {
    "scrolled": true
   },
   "outputs": [
    {
     "name": "stdout",
     "output_type": "stream",
     "text": [
      "Регион 1:\n",
      "Доверительный интервал: -117742136.49 - 911737050.75\n",
      "Средняя прибыль:406278783.42\n",
      "Риск убытков:6.70%\n",
      "\n",
      "Регион 2:\n",
      "Доверительный интервал: 16846174.93 - 815972526.29\n",
      "Средняя прибыль: 432624131.81\n",
      "Риск убытков: 1.90%\n",
      "\n",
      "Регион 3:\n",
      "Доверительный интервал: -170780417.71 - 901772131.39\n",
      "Средняя прибыль: 377362192.42\n",
      "Риск убытков: 7.40%\n"
     ]
    }
   ],
   "source": [
    "print('Регион 1:')\n",
    "print(f'Доверительный интервал: {lower_0:.2f} - {upper_0:.2f}')\n",
    "print(f'Средняя прибыль:{mean_profit_0:.2f}')\n",
    "print(f'Риск убытков:{loss_risk_0:.2%}')\n",
    "\n",
    "print('\\nРегион 2:')\n",
    "print(f'Доверительный интервал: {lower_1:.2f} - {upper_1:.2f}')\n",
    "print(f'Средняя прибыль: {mean_profit_1:.2f}')\n",
    "print(f'Риск убытков: {loss_risk_1:.2%}')\n",
    "\n",
    "print('\\nРегион 3:')\n",
    "print(f'Доверительный интервал: {lower_2:.2f} - {upper_2:.2f}')\n",
    "print(f'Средняя прибыль: {mean_profit_2:.2f}')\n",
    "print(f'Риск убытков: {loss_risk_2:.2%}')"
   ]
  },
  {
   "cell_type": "markdown",
   "metadata": {},
   "source": [
    "### Вывод"
   ]
  },
  {
   "cell_type": "markdown",
   "metadata": {},
   "source": [
    "По условиям задачи после оценки рисков требуется найти регионы, в которых вероятность убытков меньше 2.5% - единственный подходящий регион 2, с показателем риска убытков 1.90%. Данный регион также показывает наибольшую среднюю прибыль среди регионов - 432624131.81\n",
    "\n",
    "Поэтому для выбора локации новой скважины необходимо выбрать второй регион. "
   ]
  },
  {
   "cell_type": "markdown",
   "metadata": {},
   "source": [
    "## Вывод"
   ]
  },
  {
   "cell_type": "markdown",
   "metadata": {},
   "source": [
    "В начале проекта была поставлена задача: проанализировать возможную прибыль и риски в трех регионах, с целью выбора локации новой скважины.\n",
    "\n",
    "В ходе проекта были произведены следующие шаги:\n",
    "\n",
    "**1. Загрузка и обработка данных.** \\\n",
    "В трех датасетах не были найдены пропуски, но присутствовали неявные дубликаты. Дубликаты удалены. Распределения признаков в 1 и 3 регионе похожи на нормальные, во 2 регионе есть аномальные распределения по признакам f2 и product.\n",
    "\n",
    "**2. Обучение и проверка модели**\\\n",
    "Разбили данные на обучающую и валидационную выборки в соотношении 75:25.\n",
    "Обучили модель и сделали предсказания на валидационной выборке для трех регионов.\n",
    "\n",
    "- Регион 1:\\\n",
    "RMSE LinearRegression  = 37.757\\\n",
    "Средний запас предсказанного сырья  = 92.399\n",
    "\n",
    "- Регион 2:\\\n",
    "RMSE LinearRegression  = 0.890\\\n",
    "Средний запас предсказанного сырья  = 68.713\n",
    "\n",
    "- Регион 3:\\\n",
    "RMSE LinearRegression  = 40.146\\\n",
    "Средний запас предсказанного сырья  = 94.771\n",
    "\n",
    "Лучшие показатели по RMSE у второго региона - 0.890, но здесь же самый низкий показатель среднего запаса предсказанного сырья.\n",
    "Самый высокий средний запас предсказанного сырья у третьего региона, здесь же худший показатель по метрике RMSE - 40.146\n",
    "\n",
    "**3. Подготовка к расчету прибыли**\\\n",
    "Все ключевые значения для расчётов сохранили в отдельных переменных.\n",
    "Далее рассчитали достаточный объём сырья для безубыточной разработки новой скважины, равный 111.11 тыс баррелей. \n",
    "Сравнивая ранее рассчитанные средние запасы предсказанного сырья в трех регионах с достаточным объемом сырья, можем сказать, что во всех регионах средние запасы меньше безубыточных.\n",
    "\n",
    "**4. Расчет прибыли и рисков**\\\n",
    "Были написаны две функции - для расчета прибыли и для применения техники Bootstrap\n",
    "\n",
    "Получили следующие показатели по 95% доверительному интервалу, средней прибыли и риску отрицательной прибыли: \n",
    "\n",
    "- Регион 1:\\\n",
    "Доверительный интервал: -117742136.49 - 911737050.75\\\n",
    "Средняя прибыль: 406278783.42\\\n",
    "Риск убытков: 6.70%\n",
    "\n",
    "- Регион 2:\\\n",
    "Доверительный интервал: 16846174.93 - 815972526.29\\\n",
    "Средняя прибыль: 432624131.81\\\n",
    "Риск убытков: 1.90%\n",
    "\n",
    "- Регион 3:\\\n",
    "Доверительный интервал: -170780417.71 - 901772131.39\\\n",
    "Средняя прибыль: 377362192.42\\\n",
    "Риск убытков: 7.40%\n",
    "\n",
    "По условиям задачи после оценки рисков требуется найти регионы, в которых вероятность убытков меньше 2.5% - единственный подходящий регион 2, с показателем риска убытков 1.90%. Данный регион также показывает наибольшую среднюю прибыль среди регионов - 432624131.81\n",
    "\n",
    "Поэтому для выбора локации новой скважины необходимо выбрать второй регион."
   ]
  },
  {
   "cell_type": "code",
   "execution_count": null,
   "metadata": {},
   "outputs": [],
   "source": []
  }
 ],
 "metadata": {
  "ExecuteTimeLog": [
   {
    "duration": 53,
    "start_time": "2025-01-23T14:17:02.000Z"
   },
   {
    "duration": 429,
    "start_time": "2025-01-23T14:17:10.541Z"
   },
   {
    "duration": 243,
    "start_time": "2025-01-23T14:17:14.748Z"
   },
   {
    "duration": 3,
    "start_time": "2025-01-23T14:18:01.250Z"
   },
   {
    "duration": 3,
    "start_time": "2025-01-23T14:18:15.904Z"
   },
   {
    "duration": 48,
    "start_time": "2025-01-23T14:18:16.290Z"
   },
   {
    "duration": 3,
    "start_time": "2025-01-23T14:20:00.901Z"
   },
   {
    "duration": 28,
    "start_time": "2025-01-23T14:20:01.560Z"
   },
   {
    "duration": 226,
    "start_time": "2025-01-23T14:20:35.227Z"
   },
   {
    "duration": 217,
    "start_time": "2025-01-23T14:20:41.475Z"
   },
   {
    "duration": 23,
    "start_time": "2025-01-23T14:20:59.904Z"
   },
   {
    "duration": 22,
    "start_time": "2025-01-23T14:21:04.881Z"
   },
   {
    "duration": 33,
    "start_time": "2025-01-23T14:23:23.599Z"
   },
   {
    "duration": 8,
    "start_time": "2025-01-23T14:23:26.183Z"
   },
   {
    "duration": 8,
    "start_time": "2025-01-23T14:23:30.748Z"
   },
   {
    "duration": 23,
    "start_time": "2025-01-23T14:23:34.293Z"
   },
   {
    "duration": 15,
    "start_time": "2025-01-23T14:23:38.772Z"
   },
   {
    "duration": 52,
    "start_time": "2025-01-23T14:23:52.296Z"
   },
   {
    "duration": 15,
    "start_time": "2025-01-23T14:23:55.679Z"
   },
   {
    "duration": 23,
    "start_time": "2025-01-23T14:24:06.121Z"
   },
   {
    "duration": 21,
    "start_time": "2025-01-23T14:24:06.301Z"
   },
   {
    "duration": 16,
    "start_time": "2025-01-23T14:25:55.482Z"
   },
   {
    "duration": 23,
    "start_time": "2025-01-23T14:28:30.045Z"
   },
   {
    "duration": 29,
    "start_time": "2025-01-23T14:30:50.567Z"
   },
   {
    "duration": 31,
    "start_time": "2025-01-23T14:34:36.463Z"
   },
   {
    "duration": 39,
    "start_time": "2025-01-23T14:35:58.380Z"
   },
   {
    "duration": 30,
    "start_time": "2025-01-23T14:36:03.842Z"
   },
   {
    "duration": 60,
    "start_time": "2025-01-23T14:37:26.435Z"
   },
   {
    "duration": 55,
    "start_time": "2025-01-23T14:37:39.714Z"
   },
   {
    "duration": 55,
    "start_time": "2025-01-23T14:37:46.958Z"
   },
   {
    "duration": 1441,
    "start_time": "2025-01-23T15:15:21.299Z"
   },
   {
    "duration": 163,
    "start_time": "2025-01-23T15:15:22.742Z"
   },
   {
    "duration": 142,
    "start_time": "2025-01-23T15:15:22.907Z"
   },
   {
    "duration": 143,
    "start_time": "2025-01-23T15:15:23.051Z"
   },
   {
    "duration": 3,
    "start_time": "2025-01-23T15:15:23.195Z"
   },
   {
    "duration": 70,
    "start_time": "2025-01-23T15:15:23.199Z"
   },
   {
    "duration": 23,
    "start_time": "2025-01-23T15:15:23.271Z"
   },
   {
    "duration": 35,
    "start_time": "2025-01-23T15:15:23.295Z"
   },
   {
    "duration": 21,
    "start_time": "2025-01-23T15:15:23.332Z"
   },
   {
    "duration": 59,
    "start_time": "2025-01-23T15:15:23.356Z"
   },
   {
    "duration": 58,
    "start_time": "2025-01-23T15:15:23.417Z"
   },
   {
    "duration": 20,
    "start_time": "2025-01-23T15:15:23.477Z"
   },
   {
    "duration": 36,
    "start_time": "2025-01-23T15:15:23.498Z"
   },
   {
    "duration": 78,
    "start_time": "2025-01-23T15:15:23.535Z"
   },
   {
    "duration": 19,
    "start_time": "2025-01-23T15:15:23.615Z"
   },
   {
    "duration": 29,
    "start_time": "2025-01-23T15:15:23.636Z"
   },
   {
    "duration": 68,
    "start_time": "2025-01-23T15:15:23.667Z"
   },
   {
    "duration": 23,
    "start_time": "2025-01-23T15:15:26.740Z"
   },
   {
    "duration": 18,
    "start_time": "2025-01-23T15:17:33.890Z"
   },
   {
    "duration": 109,
    "start_time": "2025-01-23T15:17:58.656Z"
   },
   {
    "duration": 9,
    "start_time": "2025-01-23T15:18:38.959Z"
   },
   {
    "duration": 2,
    "start_time": "2025-01-23T15:18:43.606Z"
   },
   {
    "duration": 10,
    "start_time": "2025-01-23T15:19:45.102Z"
   },
   {
    "duration": 4,
    "start_time": "2025-01-23T15:19:45.329Z"
   },
   {
    "duration": 3,
    "start_time": "2025-01-23T15:20:24.370Z"
   },
   {
    "duration": 5,
    "start_time": "2025-01-23T15:21:57.961Z"
   },
   {
    "duration": 13,
    "start_time": "2025-01-23T15:24:45.207Z"
   },
   {
    "duration": 12,
    "start_time": "2025-01-23T15:24:49.852Z"
   },
   {
    "duration": 11,
    "start_time": "2025-01-23T15:24:56.370Z"
   },
   {
    "duration": 9,
    "start_time": "2025-01-23T15:24:56.585Z"
   },
   {
    "duration": 4,
    "start_time": "2025-01-23T15:25:40.015Z"
   },
   {
    "duration": 9,
    "start_time": "2025-01-23T15:26:30.647Z"
   },
   {
    "duration": 5,
    "start_time": "2025-01-23T15:26:44.863Z"
   },
   {
    "duration": 10,
    "start_time": "2025-01-23T15:26:48.831Z"
   },
   {
    "duration": 4,
    "start_time": "2025-01-23T15:26:53.810Z"
   },
   {
    "duration": 8,
    "start_time": "2025-01-23T15:28:37.073Z"
   },
   {
    "duration": 3,
    "start_time": "2025-01-23T15:28:39.398Z"
   },
   {
    "duration": 99,
    "start_time": "2025-01-23T16:40:52.775Z"
   },
   {
    "duration": 4,
    "start_time": "2025-01-23T16:41:12.475Z"
   },
   {
    "duration": 107,
    "start_time": "2025-01-23T16:41:35.623Z"
   },
   {
    "duration": 28,
    "start_time": "2025-01-23T16:42:03.959Z"
   },
   {
    "duration": 27,
    "start_time": "2025-01-23T16:42:04.131Z"
   },
   {
    "duration": 3,
    "start_time": "2025-01-23T16:42:16.979Z"
   },
   {
    "duration": 3,
    "start_time": "2025-01-23T16:42:30.178Z"
   },
   {
    "duration": 3,
    "start_time": "2025-01-23T16:42:30.415Z"
   },
   {
    "duration": 113,
    "start_time": "2025-01-23T16:43:41.457Z"
   },
   {
    "duration": 4,
    "start_time": "2025-01-23T16:43:45.911Z"
   },
   {
    "duration": 13,
    "start_time": "2025-01-23T16:44:21.313Z"
   },
   {
    "duration": 5,
    "start_time": "2025-01-23T16:44:30.125Z"
   },
   {
    "duration": 4,
    "start_time": "2025-01-23T16:44:40.884Z"
   },
   {
    "duration": 6,
    "start_time": "2025-01-23T16:44:48.406Z"
   },
   {
    "duration": 3,
    "start_time": "2025-01-23T17:06:35.284Z"
   },
   {
    "duration": 2,
    "start_time": "2025-01-23T17:10:41.020Z"
   },
   {
    "duration": 4,
    "start_time": "2025-01-23T17:11:58.113Z"
   },
   {
    "duration": 5,
    "start_time": "2025-01-23T17:12:04.878Z"
   },
   {
    "duration": 4,
    "start_time": "2025-01-23T17:12:43.271Z"
   },
   {
    "duration": 13,
    "start_time": "2025-01-23T17:17:44.002Z"
   },
   {
    "duration": 3,
    "start_time": "2025-01-23T17:17:47.399Z"
   },
   {
    "duration": 4,
    "start_time": "2025-01-23T17:17:47.596Z"
   },
   {
    "duration": 1166,
    "start_time": "2025-01-25T15:27:27.689Z"
   },
   {
    "duration": 228,
    "start_time": "2025-01-25T15:27:28.857Z"
   },
   {
    "duration": 220,
    "start_time": "2025-01-25T15:27:29.087Z"
   },
   {
    "duration": 214,
    "start_time": "2025-01-25T15:27:29.309Z"
   },
   {
    "duration": 3,
    "start_time": "2025-01-25T15:27:29.525Z"
   },
   {
    "duration": 34,
    "start_time": "2025-01-25T15:27:29.529Z"
   },
   {
    "duration": 92,
    "start_time": "2025-01-25T15:27:29.564Z"
   },
   {
    "duration": 22,
    "start_time": "2025-01-25T15:27:29.658Z"
   },
   {
    "duration": 22,
    "start_time": "2025-01-25T15:27:29.682Z"
   },
   {
    "duration": 33,
    "start_time": "2025-01-25T15:27:29.706Z"
   },
   {
    "duration": 65,
    "start_time": "2025-01-25T15:27:29.741Z"
   },
   {
    "duration": 25,
    "start_time": "2025-01-25T15:27:29.808Z"
   },
   {
    "duration": 28,
    "start_time": "2025-01-25T15:27:29.835Z"
   },
   {
    "duration": 81,
    "start_time": "2025-01-25T15:27:29.866Z"
   },
   {
    "duration": 20,
    "start_time": "2025-01-25T15:27:29.949Z"
   },
   {
    "duration": 38,
    "start_time": "2025-01-25T15:27:29.970Z"
   },
   {
    "duration": 109,
    "start_time": "2025-01-25T15:27:30.009Z"
   },
   {
    "duration": 4,
    "start_time": "2025-01-25T15:27:30.119Z"
   },
   {
    "duration": 86,
    "start_time": "2025-01-25T15:27:30.125Z"
   },
   {
    "duration": 208,
    "start_time": "2025-01-25T15:27:30.213Z"
   },
   {
    "duration": 198,
    "start_time": "2025-01-25T15:27:30.426Z"
   },
   {
    "duration": 89,
    "start_time": "2025-01-25T15:27:30.631Z"
   },
   {
    "duration": 7,
    "start_time": "2025-01-25T15:27:30.814Z"
   },
   {
    "duration": 7,
    "start_time": "2025-01-25T15:27:30.822Z"
   },
   {
    "duration": 31,
    "start_time": "2025-01-25T15:27:30.830Z"
   },
   {
    "duration": 33,
    "start_time": "2025-01-25T15:27:30.863Z"
   },
   {
    "duration": 99,
    "start_time": "2025-01-25T15:27:46.083Z"
   },
   {
    "duration": 5,
    "start_time": "2025-01-25T15:27:52.992Z"
   },
   {
    "duration": 9,
    "start_time": "2025-01-25T15:33:39.213Z"
   },
   {
    "duration": 13,
    "start_time": "2025-01-25T15:33:44.416Z"
   },
   {
    "duration": 3,
    "start_time": "2025-01-25T15:45:57.630Z"
   },
   {
    "duration": 4,
    "start_time": "2025-01-25T16:04:22.319Z"
   },
   {
    "duration": 4,
    "start_time": "2025-01-25T16:04:54.615Z"
   },
   {
    "duration": 14,
    "start_time": "2025-01-25T16:05:22.867Z"
   },
   {
    "duration": 5,
    "start_time": "2025-01-25T16:05:48.716Z"
   },
   {
    "duration": 15,
    "start_time": "2025-01-25T16:05:49.534Z"
   },
   {
    "duration": 4,
    "start_time": "2025-01-25T16:06:06.039Z"
   },
   {
    "duration": 30,
    "start_time": "2025-01-25T16:06:07.203Z"
   },
   {
    "duration": 4,
    "start_time": "2025-01-25T16:06:36.201Z"
   },
   {
    "duration": 4,
    "start_time": "2025-01-25T16:06:36.456Z"
   },
   {
    "duration": 28,
    "start_time": "2025-01-25T16:06:36.760Z"
   },
   {
    "duration": 20,
    "start_time": "2025-01-25T16:08:55.365Z"
   },
   {
    "duration": 6,
    "start_time": "2025-01-25T16:09:06.143Z"
   },
   {
    "duration": 9,
    "start_time": "2025-01-25T16:09:09.658Z"
   },
   {
    "duration": 18,
    "start_time": "2025-01-25T16:09:19.464Z"
   },
   {
    "duration": 20,
    "start_time": "2025-01-25T16:09:22.568Z"
   },
   {
    "duration": 18,
    "start_time": "2025-01-25T16:09:32.630Z"
   },
   {
    "duration": 13,
    "start_time": "2025-01-25T16:09:55.511Z"
   },
   {
    "duration": 16,
    "start_time": "2025-01-25T16:10:58.881Z"
   },
   {
    "duration": 5,
    "start_time": "2025-01-25T16:12:15.950Z"
   },
   {
    "duration": 4,
    "start_time": "2025-01-25T16:12:16.343Z"
   },
   {
    "duration": 30,
    "start_time": "2025-01-25T16:12:17.715Z"
   },
   {
    "duration": 4,
    "start_time": "2025-01-25T16:12:44.234Z"
   },
   {
    "duration": 5,
    "start_time": "2025-01-25T16:12:47.118Z"
   },
   {
    "duration": 15,
    "start_time": "2025-01-25T16:13:02.306Z"
   },
   {
    "duration": 4,
    "start_time": "2025-01-25T16:17:37.839Z"
   },
   {
    "duration": 28,
    "start_time": "2025-01-25T16:17:38.517Z"
   },
   {
    "duration": 7,
    "start_time": "2025-01-25T16:19:53.755Z"
   },
   {
    "duration": 1068,
    "start_time": "2025-01-25T16:20:07.164Z"
   },
   {
    "duration": 6,
    "start_time": "2025-01-25T16:20:11.648Z"
   },
   {
    "duration": 3,
    "start_time": "2025-01-25T16:20:43.491Z"
   },
   {
    "duration": 6,
    "start_time": "2025-01-25T16:20:45.402Z"
   },
   {
    "duration": 5,
    "start_time": "2025-01-25T16:21:30.831Z"
   },
   {
    "duration": 1672,
    "start_time": "2025-01-25T16:21:33.011Z"
   },
   {
    "duration": 4,
    "start_time": "2025-01-25T16:22:02.176Z"
   },
   {
    "duration": 8,
    "start_time": "2025-01-25T16:22:02.319Z"
   },
   {
    "duration": 25,
    "start_time": "2025-01-25T16:22:02.550Z"
   },
   {
    "duration": 9,
    "start_time": "2025-01-25T16:22:18.240Z"
   },
   {
    "duration": 3,
    "start_time": "2025-01-25T16:22:22.843Z"
   },
   {
    "duration": 13,
    "start_time": "2025-01-25T16:22:25.063Z"
   },
   {
    "duration": 3,
    "start_time": "2025-01-25T16:22:26.711Z"
   },
   {
    "duration": 5,
    "start_time": "2025-01-25T16:22:26.889Z"
   },
   {
    "duration": 35,
    "start_time": "2025-01-25T16:22:27.149Z"
   },
   {
    "duration": 6,
    "start_time": "2025-01-25T16:22:42.249Z"
   },
   {
    "duration": 40,
    "start_time": "2025-01-25T16:23:15.190Z"
   },
   {
    "duration": 10,
    "start_time": "2025-01-25T16:24:04.963Z"
   },
   {
    "duration": 16,
    "start_time": "2025-01-25T16:24:25.498Z"
   },
   {
    "duration": 7,
    "start_time": "2025-01-25T16:24:33.815Z"
   },
   {
    "duration": 6,
    "start_time": "2025-01-25T16:24:37.197Z"
   },
   {
    "duration": 25,
    "start_time": "2025-01-25T16:25:38.441Z"
   },
   {
    "duration": 10,
    "start_time": "2025-01-25T16:25:47.390Z"
   },
   {
    "duration": 52,
    "start_time": "2025-01-25T16:26:46.825Z"
   },
   {
    "duration": 39,
    "start_time": "2025-01-25T16:27:02.134Z"
   },
   {
    "duration": 25,
    "start_time": "2025-01-25T16:27:13.466Z"
   },
   {
    "duration": 34,
    "start_time": "2025-01-25T16:28:13.580Z"
   },
   {
    "duration": 42,
    "start_time": "2025-01-25T16:28:31.504Z"
   },
   {
    "duration": 6,
    "start_time": "2025-01-25T16:28:55.210Z"
   },
   {
    "duration": 13,
    "start_time": "2025-01-25T16:28:58.284Z"
   },
   {
    "duration": 23,
    "start_time": "2025-01-25T16:30:43.244Z"
   },
   {
    "duration": 5,
    "start_time": "2025-01-25T16:37:55.552Z"
   },
   {
    "duration": 14,
    "start_time": "2025-01-25T16:38:07.671Z"
   },
   {
    "duration": 31,
    "start_time": "2025-01-25T16:38:11.643Z"
   },
   {
    "duration": 10,
    "start_time": "2025-01-25T16:38:41.072Z"
   },
   {
    "duration": 5,
    "start_time": "2025-01-25T16:39:50.831Z"
   },
   {
    "duration": 819,
    "start_time": "2025-01-25T16:39:50.988Z"
   },
   {
    "duration": 5,
    "start_time": "2025-01-25T16:41:15.261Z"
   },
   {
    "duration": 795,
    "start_time": "2025-01-25T16:41:15.420Z"
   },
   {
    "duration": 4,
    "start_time": "2025-01-25T16:45:51.855Z"
   },
   {
    "duration": 9,
    "start_time": "2025-01-25T16:45:52.585Z"
   },
   {
    "duration": 4,
    "start_time": "2025-01-25T16:46:00.018Z"
   },
   {
    "duration": 805,
    "start_time": "2025-01-25T16:46:00.203Z"
   },
   {
    "duration": 4,
    "start_time": "2025-01-25T16:46:11.732Z"
   },
   {
    "duration": 6,
    "start_time": "2025-01-25T16:46:11.955Z"
   },
   {
    "duration": 781,
    "start_time": "2025-01-25T16:46:12.324Z"
   },
   {
    "duration": 776,
    "start_time": "2025-01-25T16:46:16.814Z"
   },
   {
    "duration": 5,
    "start_time": "2025-01-25T16:50:53.869Z"
   },
   {
    "duration": 795,
    "start_time": "2025-01-25T16:50:53.971Z"
   },
   {
    "duration": 4,
    "start_time": "2025-01-25T16:52:26.339Z"
   },
   {
    "duration": 805,
    "start_time": "2025-01-25T16:52:26.552Z"
   },
   {
    "duration": 848,
    "start_time": "2025-01-25T16:52:32.678Z"
   },
   {
    "duration": 4,
    "start_time": "2025-01-25T16:56:14.019Z"
   },
   {
    "duration": 1165,
    "start_time": "2025-01-25T16:56:14.593Z"
   },
   {
    "duration": 10,
    "start_time": "2025-01-25T16:57:09.792Z"
   },
   {
    "duration": 6,
    "start_time": "2025-01-25T16:58:13.112Z"
   },
   {
    "duration": 9,
    "start_time": "2025-01-25T16:58:13.577Z"
   },
   {
    "duration": 6,
    "start_time": "2025-01-25T16:58:22.644Z"
   },
   {
    "duration": 4,
    "start_time": "2025-01-25T16:58:24.355Z"
   },
   {
    "duration": 6,
    "start_time": "2025-01-25T16:58:34.848Z"
   },
   {
    "duration": 5,
    "start_time": "2025-01-25T16:58:42.966Z"
   },
   {
    "duration": 6,
    "start_time": "2025-01-25T16:58:57.655Z"
   },
   {
    "duration": 1185,
    "start_time": "2025-01-25T17:04:30.070Z"
   },
   {
    "duration": 4,
    "start_time": "2025-01-25T17:04:58.386Z"
   },
   {
    "duration": 848,
    "start_time": "2025-01-25T17:04:59.178Z"
   },
   {
    "duration": 861,
    "start_time": "2025-01-25T17:05:00.028Z"
   },
   {
    "duration": 7,
    "start_time": "2025-01-25T17:05:29.652Z"
   },
   {
    "duration": 9,
    "start_time": "2025-01-25T17:05:37.333Z"
   },
   {
    "duration": 8,
    "start_time": "2025-01-25T17:06:30.220Z"
   },
   {
    "duration": 43,
    "start_time": "2025-01-25T17:06:40.704Z"
   },
   {
    "duration": 5,
    "start_time": "2025-01-25T17:07:16.048Z"
   },
   {
    "duration": 6,
    "start_time": "2025-01-25T17:07:35.549Z"
   },
   {
    "duration": 4,
    "start_time": "2025-01-25T17:07:50.855Z"
   },
   {
    "duration": 5,
    "start_time": "2025-01-25T17:08:27.612Z"
   },
   {
    "duration": 91,
    "start_time": "2025-01-25T17:08:27.928Z"
   },
   {
    "duration": 227,
    "start_time": "2025-01-25T17:08:28.188Z"
   },
   {
    "duration": 78,
    "start_time": "2025-01-25T17:08:28.638Z"
   },
   {
    "duration": 1181,
    "start_time": "2025-01-25T17:08:46.931Z"
   },
   {
    "duration": 150,
    "start_time": "2025-01-25T17:08:48.114Z"
   },
   {
    "duration": 142,
    "start_time": "2025-01-25T17:08:48.266Z"
   },
   {
    "duration": 143,
    "start_time": "2025-01-25T17:08:48.410Z"
   },
   {
    "duration": 3,
    "start_time": "2025-01-25T17:08:48.556Z"
   },
   {
    "duration": 35,
    "start_time": "2025-01-25T17:08:48.560Z"
   },
   {
    "duration": 38,
    "start_time": "2025-01-25T17:08:48.597Z"
   },
   {
    "duration": 21,
    "start_time": "2025-01-25T17:08:48.637Z"
   },
   {
    "duration": 21,
    "start_time": "2025-01-25T17:08:48.660Z"
   },
   {
    "duration": 59,
    "start_time": "2025-01-25T17:08:48.682Z"
   },
   {
    "duration": 75,
    "start_time": "2025-01-25T17:08:48.743Z"
   },
   {
    "duration": 20,
    "start_time": "2025-01-25T17:08:48.820Z"
   },
   {
    "duration": 43,
    "start_time": "2025-01-25T17:08:48.841Z"
   },
   {
    "duration": 77,
    "start_time": "2025-01-25T17:08:48.886Z"
   },
   {
    "duration": 19,
    "start_time": "2025-01-25T17:08:48.965Z"
   },
   {
    "duration": 43,
    "start_time": "2025-01-25T17:08:48.986Z"
   },
   {
    "duration": 58,
    "start_time": "2025-01-25T17:08:49.031Z"
   },
   {
    "duration": 5,
    "start_time": "2025-01-25T17:08:49.091Z"
   },
   {
    "duration": 37,
    "start_time": "2025-01-25T17:08:52.806Z"
   },
   {
    "duration": 309,
    "start_time": "2025-01-25T17:08:57.686Z"
   },
   {
    "duration": 5,
    "start_time": "2025-01-25T17:09:11.141Z"
   },
   {
    "duration": 6,
    "start_time": "2025-01-25T17:09:14.638Z"
   },
   {
    "duration": 5,
    "start_time": "2025-01-25T17:10:57.212Z"
   },
   {
    "duration": 6,
    "start_time": "2025-01-25T17:11:02.387Z"
   },
   {
    "duration": 4,
    "start_time": "2025-01-25T17:11:38.868Z"
   },
   {
    "duration": 5,
    "start_time": "2025-01-25T17:11:45.112Z"
   },
   {
    "duration": 11,
    "start_time": "2025-01-25T17:12:16.776Z"
   },
   {
    "duration": 8,
    "start_time": "2025-01-25T17:12:21.744Z"
   },
   {
    "duration": 28,
    "start_time": "2025-01-25T17:13:27.947Z"
   },
   {
    "duration": 53,
    "start_time": "2025-01-25T17:13:28.164Z"
   },
   {
    "duration": 27,
    "start_time": "2025-01-25T17:13:28.388Z"
   },
   {
    "duration": 4,
    "start_time": "2025-01-25T17:13:28.880Z"
   },
   {
    "duration": 4,
    "start_time": "2025-01-25T17:13:29.917Z"
   },
   {
    "duration": 4,
    "start_time": "2025-01-25T17:13:30.293Z"
   },
   {
    "duration": 3,
    "start_time": "2025-01-25T17:13:34.000Z"
   },
   {
    "duration": 4,
    "start_time": "2025-01-25T17:13:34.517Z"
   },
   {
    "duration": 3,
    "start_time": "2025-01-25T17:13:35.380Z"
   },
   {
    "duration": 5,
    "start_time": "2025-01-25T17:15:14.987Z"
   },
   {
    "duration": 4,
    "start_time": "2025-01-25T17:15:34.856Z"
   },
   {
    "duration": 14,
    "start_time": "2025-01-25T17:15:36.670Z"
   },
   {
    "duration": 4,
    "start_time": "2025-01-25T17:15:50.188Z"
   },
   {
    "duration": 1107,
    "start_time": "2025-01-25T17:15:50.540Z"
   },
   {
    "duration": 918,
    "start_time": "2025-01-25T17:16:04.428Z"
   },
   {
    "duration": 1127,
    "start_time": "2025-01-25T17:44:29.872Z"
   },
   {
    "duration": 148,
    "start_time": "2025-01-25T17:44:31.001Z"
   },
   {
    "duration": 143,
    "start_time": "2025-01-25T17:44:31.150Z"
   },
   {
    "duration": 146,
    "start_time": "2025-01-25T17:44:31.297Z"
   },
   {
    "duration": 3,
    "start_time": "2025-01-25T17:44:31.445Z"
   },
   {
    "duration": 73,
    "start_time": "2025-01-25T17:44:31.449Z"
   },
   {
    "duration": 22,
    "start_time": "2025-01-25T17:44:31.523Z"
   },
   {
    "duration": 29,
    "start_time": "2025-01-25T17:44:31.547Z"
   },
   {
    "duration": 38,
    "start_time": "2025-01-25T17:44:31.578Z"
   },
   {
    "duration": 31,
    "start_time": "2025-01-25T17:44:31.619Z"
   },
   {
    "duration": 138,
    "start_time": "2025-01-25T17:44:31.652Z"
   },
   {
    "duration": 39,
    "start_time": "2025-01-25T17:44:31.791Z"
   },
   {
    "duration": 46,
    "start_time": "2025-01-25T17:44:31.832Z"
   },
   {
    "duration": 55,
    "start_time": "2025-01-25T17:44:31.880Z"
   },
   {
    "duration": 22,
    "start_time": "2025-01-25T17:44:31.936Z"
   },
   {
    "duration": 32,
    "start_time": "2025-01-25T17:44:31.960Z"
   },
   {
    "duration": 73,
    "start_time": "2025-01-25T17:44:31.994Z"
   },
   {
    "duration": 80,
    "start_time": "2025-01-25T17:44:32.068Z"
   },
   {
    "duration": 80,
    "start_time": "2025-01-25T17:44:32.150Z"
   },
   {
    "duration": 201,
    "start_time": "2025-01-25T17:44:32.232Z"
   },
   {
    "duration": 196,
    "start_time": "2025-01-25T17:44:32.436Z"
   },
   {
    "duration": 84,
    "start_time": "2025-01-25T17:44:32.635Z"
   },
   {
    "duration": 110,
    "start_time": "2025-01-25T17:44:32.721Z"
   },
   {
    "duration": 29,
    "start_time": "2025-01-25T17:44:32.833Z"
   },
   {
    "duration": 11,
    "start_time": "2025-01-25T17:44:32.864Z"
   },
   {
    "duration": 9,
    "start_time": "2025-01-25T17:44:32.877Z"
   },
   {
    "duration": 8,
    "start_time": "2025-01-25T17:44:32.887Z"
   },
   {
    "duration": 32,
    "start_time": "2025-01-25T17:44:32.898Z"
   },
   {
    "duration": 30,
    "start_time": "2025-01-25T17:44:32.931Z"
   },
   {
    "duration": 16,
    "start_time": "2025-01-25T17:44:32.963Z"
   },
   {
    "duration": 11,
    "start_time": "2025-01-25T17:44:32.981Z"
   },
   {
    "duration": 40,
    "start_time": "2025-01-25T17:44:32.994Z"
   },
   {
    "duration": 31,
    "start_time": "2025-01-25T17:44:33.035Z"
   },
   {
    "duration": 24,
    "start_time": "2025-01-25T17:44:33.068Z"
   },
   {
    "duration": 5,
    "start_time": "2025-01-25T17:44:33.093Z"
   },
   {
    "duration": 34,
    "start_time": "2025-01-25T17:44:33.099Z"
   },
   {
    "duration": 7,
    "start_time": "2025-01-25T17:44:33.134Z"
   },
   {
    "duration": 26,
    "start_time": "2025-01-25T17:44:33.142Z"
   },
   {
    "duration": 933,
    "start_time": "2025-01-25T17:44:33.170Z"
   },
   {
    "duration": 906,
    "start_time": "2025-01-25T17:44:38.687Z"
   },
   {
    "duration": 937,
    "start_time": "2025-01-25T17:44:44.717Z"
   },
   {
    "duration": 17,
    "start_time": "2025-01-25T17:45:56.484Z"
   },
   {
    "duration": 11,
    "start_time": "2025-01-25T17:45:59.005Z"
   },
   {
    "duration": 818,
    "start_time": "2025-01-25T17:46:14.747Z"
   },
   {
    "duration": 443,
    "start_time": "2025-01-25T17:46:33.921Z"
   },
   {
    "duration": 225,
    "start_time": "2025-01-25T17:46:41.734Z"
   },
   {
    "duration": 412,
    "start_time": "2025-01-25T17:46:48.617Z"
   },
   {
    "duration": 12,
    "start_time": "2025-01-25T17:46:54.759Z"
   },
   {
    "duration": 263,
    "start_time": "2025-01-25T17:47:04.607Z"
   },
   {
    "duration": 5,
    "start_time": "2025-01-25T17:53:55.577Z"
   },
   {
    "duration": 4,
    "start_time": "2025-01-25T17:54:01.228Z"
   },
   {
    "duration": 13,
    "start_time": "2025-01-25T17:54:09.211Z"
   },
   {
    "duration": 3,
    "start_time": "2025-01-25T17:54:32.175Z"
   },
   {
    "duration": 4,
    "start_time": "2025-01-25T17:54:33.118Z"
   },
   {
    "duration": 182,
    "start_time": "2025-01-25T17:54:33.352Z"
   },
   {
    "duration": 4,
    "start_time": "2025-01-25T17:54:44.797Z"
   },
   {
    "duration": 775,
    "start_time": "2025-01-25T17:54:46.676Z"
   },
   {
    "duration": 5,
    "start_time": "2025-01-25T17:56:01.105Z"
   },
   {
    "duration": 805,
    "start_time": "2025-01-25T17:56:02.305Z"
   },
   {
    "duration": 4,
    "start_time": "2025-01-25T17:57:39.639Z"
   },
   {
    "duration": 5,
    "start_time": "2025-01-25T17:58:47.852Z"
   },
   {
    "duration": 580,
    "start_time": "2025-01-25T17:58:49.217Z"
   },
   {
    "duration": 5,
    "start_time": "2025-01-25T17:59:14.328Z"
   },
   {
    "duration": 697,
    "start_time": "2025-01-25T17:59:15.492Z"
   },
   {
    "duration": 5,
    "start_time": "2025-01-25T17:59:21.334Z"
   },
   {
    "duration": 186,
    "start_time": "2025-01-25T17:59:21.953Z"
   },
   {
    "duration": 4,
    "start_time": "2025-01-25T17:59:25.635Z"
   },
   {
    "duration": 200,
    "start_time": "2025-01-25T17:59:26.539Z"
   },
   {
    "duration": 5,
    "start_time": "2025-01-25T17:59:43.565Z"
   },
   {
    "duration": 198,
    "start_time": "2025-01-25T17:59:43.996Z"
   },
   {
    "duration": 3,
    "start_time": "2025-01-25T18:00:58.272Z"
   },
   {
    "duration": 89,
    "start_time": "2025-01-25T18:01:24.734Z"
   },
   {
    "duration": 116,
    "start_time": "2025-01-25T18:01:31.436Z"
   },
   {
    "duration": 4,
    "start_time": "2025-01-25T18:01:49.958Z"
   },
   {
    "duration": 436,
    "start_time": "2025-01-25T18:01:50.581Z"
   },
   {
    "duration": 5,
    "start_time": "2025-01-25T18:02:22.305Z"
   },
   {
    "duration": 433,
    "start_time": "2025-01-25T18:02:22.633Z"
   },
   {
    "duration": 5,
    "start_time": "2025-01-25T18:03:28.634Z"
   },
   {
    "duration": 708,
    "start_time": "2025-01-25T18:03:29.814Z"
   },
   {
    "duration": 5,
    "start_time": "2025-01-25T18:03:47.272Z"
   },
   {
    "duration": 422,
    "start_time": "2025-01-25T18:03:47.760Z"
   },
   {
    "duration": 4,
    "start_time": "2025-01-25T18:04:08.187Z"
   },
   {
    "duration": 779,
    "start_time": "2025-01-25T18:04:08.420Z"
   },
   {
    "duration": 4,
    "start_time": "2025-01-25T18:04:23.133Z"
   },
   {
    "duration": 774,
    "start_time": "2025-01-25T18:04:23.669Z"
   },
   {
    "duration": 909,
    "start_time": "2025-01-25T18:04:39.468Z"
   },
   {
    "duration": 817,
    "start_time": "2025-01-25T18:04:44.015Z"
   },
   {
    "duration": 14,
    "start_time": "2025-01-25T18:10:21.489Z"
   },
   {
    "duration": 898,
    "start_time": "2025-01-25T18:11:02.985Z"
   },
   {
    "duration": 905,
    "start_time": "2025-01-25T18:11:19.872Z"
   },
   {
    "duration": 954,
    "start_time": "2025-01-25T18:11:40.166Z"
   },
   {
    "duration": 135,
    "start_time": "2025-01-25T18:12:07.578Z"
   },
   {
    "duration": 128,
    "start_time": "2025-01-25T18:12:30.566Z"
   },
   {
    "duration": 134,
    "start_time": "2025-01-25T18:12:35.734Z"
   },
   {
    "duration": 3,
    "start_time": "2025-01-25T18:14:16.784Z"
   },
   {
    "duration": 3,
    "start_time": "2025-01-25T18:14:37.912Z"
   },
   {
    "duration": 3,
    "start_time": "2025-01-25T18:14:41.043Z"
   },
   {
    "duration": 4,
    "start_time": "2025-01-25T18:14:43.718Z"
   },
   {
    "duration": 3,
    "start_time": "2025-01-25T18:14:58.931Z"
   },
   {
    "duration": 4,
    "start_time": "2025-01-25T18:15:33.202Z"
   },
   {
    "duration": 10,
    "start_time": "2025-01-25T18:16:16.904Z"
   },
   {
    "duration": 131,
    "start_time": "2025-01-25T18:16:27.637Z"
   },
   {
    "duration": 5,
    "start_time": "2025-01-25T18:17:10.089Z"
   },
   {
    "duration": 83,
    "start_time": "2025-01-25T18:17:18.532Z"
   },
   {
    "duration": 96,
    "start_time": "2025-01-25T18:17:22.311Z"
   },
   {
    "duration": 13,
    "start_time": "2025-01-25T18:17:35.287Z"
   },
   {
    "duration": 11,
    "start_time": "2025-01-25T18:17:38.333Z"
   },
   {
    "duration": 81,
    "start_time": "2025-01-25T18:17:42.855Z"
   },
   {
    "duration": 5,
    "start_time": "2025-01-25T18:17:49.351Z"
   },
   {
    "duration": 5,
    "start_time": "2025-01-25T18:18:18.527Z"
   },
   {
    "duration": 5,
    "start_time": "2025-01-25T18:18:28.486Z"
   },
   {
    "duration": 6,
    "start_time": "2025-01-25T18:18:32.084Z"
   },
   {
    "duration": 7,
    "start_time": "2025-01-25T18:18:47.039Z"
   },
   {
    "duration": 6,
    "start_time": "2025-01-25T18:19:18.261Z"
   },
   {
    "duration": 6,
    "start_time": "2025-01-25T18:19:28.041Z"
   },
   {
    "duration": 1574,
    "start_time": "2025-01-26T10:30:04.203Z"
   },
   {
    "duration": 1426,
    "start_time": "2025-01-26T10:30:12.626Z"
   },
   {
    "duration": 151,
    "start_time": "2025-01-26T10:32:16.254Z"
   },
   {
    "duration": 134,
    "start_time": "2025-01-26T10:32:16.469Z"
   },
   {
    "duration": 135,
    "start_time": "2025-01-26T10:32:16.687Z"
   },
   {
    "duration": 3,
    "start_time": "2025-01-26T10:32:55.722Z"
   },
   {
    "duration": 27,
    "start_time": "2025-01-26T10:33:09.087Z"
   },
   {
    "duration": 24,
    "start_time": "2025-01-26T10:33:56.809Z"
   },
   {
    "duration": 83,
    "start_time": "2025-01-26T10:34:06.456Z"
   },
   {
    "duration": 22,
    "start_time": "2025-01-26T10:34:18.496Z"
   },
   {
    "duration": 3,
    "start_time": "2025-01-26T10:35:03.850Z"
   },
   {
    "duration": 51,
    "start_time": "2025-01-26T10:35:11.095Z"
   },
   {
    "duration": 19,
    "start_time": "2025-01-26T10:35:16.222Z"
   },
   {
    "duration": 74,
    "start_time": "2025-01-26T10:37:36.187Z"
   },
   {
    "duration": 80,
    "start_time": "2025-01-26T10:37:41.545Z"
   },
   {
    "duration": 357,
    "start_time": "2025-01-26T10:37:51.138Z"
   },
   {
    "duration": 4,
    "start_time": "2025-01-26T10:38:21.388Z"
   },
   {
    "duration": 335,
    "start_time": "2025-01-26T10:38:26.094Z"
   },
   {
    "duration": 146,
    "start_time": "2025-01-26T10:38:42.793Z"
   },
   {
    "duration": 27,
    "start_time": "2025-01-26T10:42:27.262Z"
   },
   {
    "duration": 59,
    "start_time": "2025-01-26T10:43:04.407Z"
   },
   {
    "duration": 48,
    "start_time": "2025-01-26T10:43:36.744Z"
   },
   {
    "duration": 23,
    "start_time": "2025-01-26T10:43:46.487Z"
   },
   {
    "duration": 47,
    "start_time": "2025-01-26T10:44:42.139Z"
   },
   {
    "duration": 23,
    "start_time": "2025-01-26T10:44:42.694Z"
   },
   {
    "duration": 32,
    "start_time": "2025-01-26T10:44:45.211Z"
   },
   {
    "duration": 28,
    "start_time": "2025-01-26T10:45:27.758Z"
   },
   {
    "duration": 54,
    "start_time": "2025-01-26T10:45:29.506Z"
   },
   {
    "duration": 2,
    "start_time": "2025-01-26T10:45:50.218Z"
   },
   {
    "duration": 110,
    "start_time": "2025-01-26T10:47:59.603Z"
   },
   {
    "duration": 5,
    "start_time": "2025-01-26T10:48:03.861Z"
   },
   {
    "duration": 953,
    "start_time": "2025-01-26T10:48:04.316Z"
   },
   {
    "duration": 791,
    "start_time": "2025-01-26T10:48:17.282Z"
   },
   {
    "duration": 4,
    "start_time": "2025-01-26T10:52:34.502Z"
   },
   {
    "duration": 29,
    "start_time": "2025-01-26T10:53:25.223Z"
   },
   {
    "duration": 26,
    "start_time": "2025-01-26T10:53:25.478Z"
   },
   {
    "duration": 25,
    "start_time": "2025-01-26T10:53:25.638Z"
   },
   {
    "duration": 4,
    "start_time": "2025-01-26T10:54:20.023Z"
   },
   {
    "duration": 4,
    "start_time": "2025-01-26T10:54:27.780Z"
   },
   {
    "duration": 4,
    "start_time": "2025-01-26T10:54:38.027Z"
   },
   {
    "duration": 3,
    "start_time": "2025-01-26T10:59:55.215Z"
   },
   {
    "duration": 5,
    "start_time": "2025-01-26T11:01:45.361Z"
   },
   {
    "duration": 3,
    "start_time": "2025-01-26T11:02:27.867Z"
   },
   {
    "duration": 3,
    "start_time": "2025-01-26T11:02:37.993Z"
   },
   {
    "duration": 2,
    "start_time": "2025-01-26T11:02:48.336Z"
   },
   {
    "duration": 4,
    "start_time": "2025-01-26T11:02:49.083Z"
   },
   {
    "duration": 3,
    "start_time": "2025-01-26T11:06:15.745Z"
   },
   {
    "duration": 5,
    "start_time": "2025-01-26T11:07:40.477Z"
   },
   {
    "duration": 943,
    "start_time": "2025-01-26T11:07:43.473Z"
   },
   {
    "duration": 927,
    "start_time": "2025-01-26T11:07:44.417Z"
   },
   {
    "duration": 941,
    "start_time": "2025-01-26T11:07:45.345Z"
   },
   {
    "duration": 6,
    "start_time": "2025-01-26T11:08:02.458Z"
   },
   {
    "duration": 1289,
    "start_time": "2025-01-26T11:26:54.373Z"
   },
   {
    "duration": 145,
    "start_time": "2025-01-26T11:26:55.664Z"
   },
   {
    "duration": 129,
    "start_time": "2025-01-26T11:26:55.811Z"
   },
   {
    "duration": 129,
    "start_time": "2025-01-26T11:26:55.942Z"
   },
   {
    "duration": 3,
    "start_time": "2025-01-26T11:26:56.073Z"
   },
   {
    "duration": 29,
    "start_time": "2025-01-26T11:26:56.077Z"
   },
   {
    "duration": 41,
    "start_time": "2025-01-26T11:26:56.107Z"
   },
   {
    "duration": 20,
    "start_time": "2025-01-26T11:26:56.150Z"
   },
   {
    "duration": 46,
    "start_time": "2025-01-26T11:26:56.171Z"
   },
   {
    "duration": 20,
    "start_time": "2025-01-26T11:26:56.236Z"
   },
   {
    "duration": 30,
    "start_time": "2025-01-26T11:26:56.258Z"
   },
   {
    "duration": 71,
    "start_time": "2025-01-26T11:26:56.289Z"
   },
   {
    "duration": 41,
    "start_time": "2025-01-26T11:26:56.362Z"
   },
   {
    "duration": 37,
    "start_time": "2025-01-26T11:26:56.405Z"
   },
   {
    "duration": 29,
    "start_time": "2025-01-26T11:26:56.444Z"
   },
   {
    "duration": 63,
    "start_time": "2025-01-26T11:26:56.474Z"
   },
   {
    "duration": 48,
    "start_time": "2025-01-26T11:26:56.539Z"
   },
   {
    "duration": 20,
    "start_time": "2025-01-26T11:26:56.589Z"
   },
   {
    "duration": 51,
    "start_time": "2025-01-26T11:26:56.610Z"
   },
   {
    "duration": 50,
    "start_time": "2025-01-26T11:26:56.663Z"
   },
   {
    "duration": 3,
    "start_time": "2025-01-26T11:26:56.715Z"
   },
   {
    "duration": 21,
    "start_time": "2025-01-26T11:26:56.719Z"
   },
   {
    "duration": 826,
    "start_time": "2025-01-26T11:26:56.742Z"
   },
   {
    "duration": 803,
    "start_time": "2025-01-26T11:26:57.569Z"
   },
   {
    "duration": 899,
    "start_time": "2025-01-26T11:26:58.374Z"
   },
   {
    "duration": 5,
    "start_time": "2025-01-26T11:26:59.275Z"
   },
   {
    "duration": 58,
    "start_time": "2025-01-26T11:26:59.282Z"
   },
   {
    "duration": 27,
    "start_time": "2025-01-26T11:26:59.438Z"
   },
   {
    "duration": 115,
    "start_time": "2025-01-26T11:26:59.540Z"
   },
   {
    "duration": 87,
    "start_time": "2025-01-26T11:26:59.657Z"
   },
   {
    "duration": 91,
    "start_time": "2025-01-26T11:26:59.747Z"
   },
   {
    "duration": 7,
    "start_time": "2025-01-26T11:26:59.840Z"
   },
   {
    "duration": 3,
    "start_time": "2025-01-26T11:26:59.849Z"
   },
   {
    "duration": 4,
    "start_time": "2025-01-26T11:26:59.853Z"
   },
   {
    "duration": 4,
    "start_time": "2025-01-26T11:26:59.858Z"
   },
   {
    "duration": 4,
    "start_time": "2025-01-26T11:26:59.863Z"
   },
   {
    "duration": 13,
    "start_time": "2025-01-26T11:26:59.868Z"
   },
   {
    "duration": 1003,
    "start_time": "2025-01-26T11:26:59.883Z"
   },
   {
    "duration": 959,
    "start_time": "2025-01-26T11:27:00.888Z"
   },
   {
    "duration": 966,
    "start_time": "2025-01-26T11:27:01.848Z"
   },
   {
    "duration": 5,
    "start_time": "2025-01-26T11:27:02.816Z"
   },
   {
    "duration": 1532,
    "start_time": "2025-01-27T13:42:41.749Z"
   },
   {
    "duration": 520,
    "start_time": "2025-01-27T13:42:43.283Z"
   },
   {
    "duration": 474,
    "start_time": "2025-01-27T13:42:43.804Z"
   },
   {
    "duration": 475,
    "start_time": "2025-01-27T13:42:44.279Z"
   },
   {
    "duration": 3,
    "start_time": "2025-01-27T13:42:44.757Z"
   },
   {
    "duration": 30,
    "start_time": "2025-01-27T13:42:44.762Z"
   },
   {
    "duration": 18,
    "start_time": "2025-01-27T13:42:44.793Z"
   },
   {
    "duration": 100,
    "start_time": "2025-01-27T13:42:44.812Z"
   },
   {
    "duration": 44,
    "start_time": "2025-01-27T13:42:44.913Z"
   },
   {
    "duration": 18,
    "start_time": "2025-01-27T13:42:44.959Z"
   },
   {
    "duration": 29,
    "start_time": "2025-01-27T13:42:44.986Z"
   },
   {
    "duration": 102,
    "start_time": "2025-01-27T13:42:45.016Z"
   },
   {
    "duration": 37,
    "start_time": "2025-01-27T13:42:45.120Z"
   },
   {
    "duration": 17,
    "start_time": "2025-01-27T13:42:45.160Z"
   },
   {
    "duration": 28,
    "start_time": "2025-01-27T13:42:45.186Z"
   },
   {
    "duration": 54,
    "start_time": "2025-01-27T13:42:45.215Z"
   },
   {
    "duration": 54,
    "start_time": "2025-01-27T13:42:45.271Z"
   },
   {
    "duration": 19,
    "start_time": "2025-01-27T13:42:45.326Z"
   },
   {
    "duration": 42,
    "start_time": "2025-01-27T13:42:45.346Z"
   },
   {
    "duration": 56,
    "start_time": "2025-01-27T13:42:45.389Z"
   },
   {
    "duration": 2,
    "start_time": "2025-01-27T13:42:45.447Z"
   },
   {
    "duration": 10,
    "start_time": "2025-01-27T13:42:45.450Z"
   },
   {
    "duration": 860,
    "start_time": "2025-01-27T13:42:45.462Z"
   },
   {
    "duration": 801,
    "start_time": "2025-01-27T13:42:46.324Z"
   },
   {
    "duration": 748,
    "start_time": "2025-01-27T13:42:47.127Z"
   },
   {
    "duration": 5,
    "start_time": "2025-01-27T13:42:47.876Z"
   },
   {
    "duration": 23,
    "start_time": "2025-01-27T13:42:47.886Z"
   },
   {
    "duration": 181,
    "start_time": "2025-01-27T13:42:47.911Z"
   },
   {
    "duration": 197,
    "start_time": "2025-01-27T13:42:48.094Z"
   },
   {
    "duration": 7,
    "start_time": "2025-01-27T13:42:48.294Z"
   },
   {
    "duration": 95,
    "start_time": "2025-01-27T13:42:48.392Z"
   },
   {
    "duration": 10,
    "start_time": "2025-01-27T13:42:48.489Z"
   },
   {
    "duration": 66,
    "start_time": "2025-01-27T13:42:48.500Z"
   },
   {
    "duration": 3,
    "start_time": "2025-01-27T13:42:56.082Z"
   },
   {
    "duration": 3,
    "start_time": "2025-01-27T13:42:59.793Z"
   },
   {
    "duration": 3,
    "start_time": "2025-01-27T13:43:25.932Z"
   },
   {
    "duration": 4,
    "start_time": "2025-01-27T13:44:19.333Z"
   },
   {
    "duration": 120,
    "start_time": "2025-01-27T13:44:47.346Z"
   },
   {
    "duration": 4,
    "start_time": "2025-01-27T13:44:53.522Z"
   },
   {
    "duration": 4,
    "start_time": "2025-01-27T13:45:10.686Z"
   },
   {
    "duration": 3,
    "start_time": "2025-01-27T13:45:34.294Z"
   },
   {
    "duration": 4,
    "start_time": "2025-01-27T13:45:34.442Z"
   },
   {
    "duration": 762,
    "start_time": "2025-01-27T13:45:36.166Z"
   },
   {
    "duration": 747,
    "start_time": "2025-01-27T13:45:39.914Z"
   },
   {
    "duration": 724,
    "start_time": "2025-01-27T13:45:40.663Z"
   },
   {
    "duration": 5,
    "start_time": "2025-01-27T13:45:41.388Z"
   },
   {
    "duration": 4,
    "start_time": "2025-01-27T13:46:04.040Z"
   },
   {
    "duration": 763,
    "start_time": "2025-01-27T13:46:06.218Z"
   },
   {
    "duration": 0,
    "start_time": "2025-01-27T13:46:06.983Z"
   },
   {
    "duration": 0,
    "start_time": "2025-01-27T13:46:06.984Z"
   },
   {
    "duration": 4,
    "start_time": "2025-01-27T13:46:17.149Z"
   },
   {
    "duration": 755,
    "start_time": "2025-01-27T13:46:19.336Z"
   },
   {
    "duration": 0,
    "start_time": "2025-01-27T13:46:20.093Z"
   },
   {
    "duration": 0,
    "start_time": "2025-01-27T13:46:20.093Z"
   },
   {
    "duration": 5,
    "start_time": "2025-01-27T13:46:20.171Z"
   },
   {
    "duration": 4,
    "start_time": "2025-01-27T13:46:36.584Z"
   },
   {
    "duration": 728,
    "start_time": "2025-01-27T13:46:37.932Z"
   },
   {
    "duration": 771,
    "start_time": "2025-01-27T13:46:39.310Z"
   },
   {
    "duration": 760,
    "start_time": "2025-01-27T13:46:40.083Z"
   },
   {
    "duration": 6,
    "start_time": "2025-01-27T13:46:40.844Z"
   },
   {
    "duration": 1260,
    "start_time": "2025-01-27T13:47:19.213Z"
   },
   {
    "duration": 121,
    "start_time": "2025-01-27T13:47:20.475Z"
   },
   {
    "duration": 108,
    "start_time": "2025-01-27T13:47:20.597Z"
   },
   {
    "duration": 115,
    "start_time": "2025-01-27T13:47:20.707Z"
   },
   {
    "duration": 2,
    "start_time": "2025-01-27T13:47:20.825Z"
   },
   {
    "duration": 82,
    "start_time": "2025-01-27T13:47:20.829Z"
   },
   {
    "duration": 18,
    "start_time": "2025-01-27T13:47:20.912Z"
   },
   {
    "duration": 18,
    "start_time": "2025-01-27T13:47:20.932Z"
   },
   {
    "duration": 65,
    "start_time": "2025-01-27T13:47:20.951Z"
   },
   {
    "duration": 17,
    "start_time": "2025-01-27T13:47:21.018Z"
   },
   {
    "duration": 46,
    "start_time": "2025-01-27T13:47:21.037Z"
   },
   {
    "duration": 49,
    "start_time": "2025-01-27T13:47:21.086Z"
   },
   {
    "duration": 53,
    "start_time": "2025-01-27T13:47:21.138Z"
   },
   {
    "duration": 19,
    "start_time": "2025-01-27T13:47:21.195Z"
   },
   {
    "duration": 25,
    "start_time": "2025-01-27T13:47:21.216Z"
   },
   {
    "duration": 62,
    "start_time": "2025-01-27T13:47:21.243Z"
   },
   {
    "duration": 44,
    "start_time": "2025-01-27T13:47:21.306Z"
   },
   {
    "duration": 17,
    "start_time": "2025-01-27T13:47:21.352Z"
   },
   {
    "duration": 25,
    "start_time": "2025-01-27T13:47:21.385Z"
   },
   {
    "duration": 69,
    "start_time": "2025-01-27T13:47:21.411Z"
   },
   {
    "duration": 3,
    "start_time": "2025-01-27T13:47:21.481Z"
   },
   {
    "duration": 51,
    "start_time": "2025-01-27T13:47:21.485Z"
   },
   {
    "duration": 819,
    "start_time": "2025-01-27T13:47:21.537Z"
   },
   {
    "duration": 762,
    "start_time": "2025-01-27T13:47:22.358Z"
   },
   {
    "duration": 834,
    "start_time": "2025-01-27T13:47:23.122Z"
   },
   {
    "duration": 4,
    "start_time": "2025-01-27T13:47:23.957Z"
   },
   {
    "duration": 41,
    "start_time": "2025-01-27T13:47:23.963Z"
   },
   {
    "duration": 188,
    "start_time": "2025-01-27T13:47:24.006Z"
   },
   {
    "duration": 192,
    "start_time": "2025-01-27T13:47:24.196Z"
   },
   {
    "duration": 4,
    "start_time": "2025-01-27T13:47:24.390Z"
   },
   {
    "duration": 90,
    "start_time": "2025-01-27T13:47:24.396Z"
   },
   {
    "duration": 3,
    "start_time": "2025-01-27T13:47:24.488Z"
   },
   {
    "duration": 164,
    "start_time": "2025-01-27T13:47:24.493Z"
   },
   {
    "duration": 9,
    "start_time": "2025-01-27T13:47:24.658Z"
   },
   {
    "duration": 8,
    "start_time": "2025-01-27T13:47:24.668Z"
   },
   {
    "duration": 3,
    "start_time": "2025-01-27T13:47:24.677Z"
   },
   {
    "duration": 4,
    "start_time": "2025-01-27T13:47:24.681Z"
   },
   {
    "duration": 749,
    "start_time": "2025-01-27T13:47:24.686Z"
   },
   {
    "duration": 737,
    "start_time": "2025-01-27T13:47:25.436Z"
   },
   {
    "duration": 725,
    "start_time": "2025-01-27T13:47:26.175Z"
   },
   {
    "duration": 5,
    "start_time": "2025-01-27T13:47:26.904Z"
   }
  ],
  "kernelspec": {
   "display_name": "Python 3 (ipykernel)",
   "language": "python",
   "name": "python3"
  },
  "language_info": {
   "codemirror_mode": {
    "name": "ipython",
    "version": 3
   },
   "file_extension": ".py",
   "mimetype": "text/x-python",
   "name": "python",
   "nbconvert_exporter": "python",
   "pygments_lexer": "ipython3",
   "version": "3.11.9"
  },
  "toc": {
   "base_numbering": 1,
   "nav_menu": {},
   "number_sections": true,
   "sideBar": true,
   "skip_h1_title": true,
   "title_cell": "Table of Contents",
   "title_sidebar": "Contents",
   "toc_cell": false,
   "toc_position": {
    "height": "calc(100% - 180px)",
    "left": "10px",
    "top": "150px",
    "width": "275.1875px"
   },
   "toc_section_display": true,
   "toc_window_display": false
  }
 },
 "nbformat": 4,
 "nbformat_minor": 2
}
