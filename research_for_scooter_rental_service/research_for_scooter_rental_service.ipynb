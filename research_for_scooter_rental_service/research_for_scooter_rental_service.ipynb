{
 "cells": [
  {
   "cell_type": "markdown",
   "id": "c70c34d5",
   "metadata": {},
   "source": [
    "# Исследование данных и проверка гипотез в сервисе аренды самокатов GoFast\n",
    "\n",
    "Вы аналитик популярного сервиса аренды самокатов GoFast. Вам передали данные о некоторых пользователях из нескольких городов, а также об их поездках. Проанализируйте данные и проверьте некоторые гипотезы, которые могут помочь бизнесу вырасти.\n",
    "Чтобы совершать поездки по городу, пользователи сервиса GoFast пользуются мобильным приложением. Сервисом можно пользоваться:\n",
    "\n",
    "* без подписки \n",
    "абонентская плата отсутствует;\n",
    "стоимость одной минуты поездки — 8 рублей;\n",
    "стоимость старта (начала поездки) — 50 рублей;\n",
    "\n",
    "* с подпиской Ultra \n",
    "абонентская плата — 199 рублей в месяц;\n",
    "стоимость одной минуты поездки — 6 рублей;\n",
    "стоимость старта — бесплатно."
   ]
  },
  {
   "cell_type": "markdown",
   "id": "1f51efe2",
   "metadata": {},
   "source": [
    "**Цель проекта**:\n",
    "Провести исследовательский анализ данных и проверить гипотезы, которые могут помочь сервису вырасти. \n",
    "\n",
    "**План проекта**\n",
    "\n",
    " 1. Загрузка и обзор данных.\n",
    " 2. Предобработка данных.\n",
    " 3. Исследовательский анализ данных.\n",
    " 4. Объединение данных\n",
    " 5. Подсчет выручки\n",
    " 6. Проверка гипотез\n",
    " 7. Распределения"
   ]
  },
  {
   "cell_type": "code",
   "execution_count": 1,
   "id": "72576667",
   "metadata": {},
   "outputs": [],
   "source": [
    "import pandas as pd\n",
    "import matplotlib.pyplot as plt\n",
    "import numpy as np\n",
    "from scipy import stats as st\n",
    "from math import factorial\n",
    "from math import sqrt\n",
    "from scipy.stats import binom"
   ]
  },
  {
   "cell_type": "markdown",
   "id": "c42cbe00",
   "metadata": {},
   "source": [
    "#### Шаг 1. Загрузка данных"
   ]
  },
  {
   "cell_type": "code",
   "execution_count": 2,
   "id": "eff9f206",
   "metadata": {},
   "outputs": [
    {
     "data": {
      "text/html": [
       "<div>\n",
       "<style scoped>\n",
       "    .dataframe tbody tr th:only-of-type {\n",
       "        vertical-align: middle;\n",
       "    }\n",
       "\n",
       "    .dataframe tbody tr th {\n",
       "        vertical-align: top;\n",
       "    }\n",
       "\n",
       "    .dataframe thead th {\n",
       "        text-align: right;\n",
       "    }\n",
       "</style>\n",
       "<table border=\"1\" class=\"dataframe\">\n",
       "  <thead>\n",
       "    <tr style=\"text-align: right;\">\n",
       "      <th></th>\n",
       "      <th>user_id</th>\n",
       "      <th>name</th>\n",
       "      <th>age</th>\n",
       "      <th>city</th>\n",
       "      <th>subscription_type</th>\n",
       "    </tr>\n",
       "  </thead>\n",
       "  <tbody>\n",
       "    <tr>\n",
       "      <th>0</th>\n",
       "      <td>1</td>\n",
       "      <td>Кира</td>\n",
       "      <td>22</td>\n",
       "      <td>Тюмень</td>\n",
       "      <td>ultra</td>\n",
       "    </tr>\n",
       "    <tr>\n",
       "      <th>1</th>\n",
       "      <td>2</td>\n",
       "      <td>Станислав</td>\n",
       "      <td>31</td>\n",
       "      <td>Омск</td>\n",
       "      <td>ultra</td>\n",
       "    </tr>\n",
       "    <tr>\n",
       "      <th>2</th>\n",
       "      <td>3</td>\n",
       "      <td>Алексей</td>\n",
       "      <td>20</td>\n",
       "      <td>Москва</td>\n",
       "      <td>ultra</td>\n",
       "    </tr>\n",
       "    <tr>\n",
       "      <th>3</th>\n",
       "      <td>4</td>\n",
       "      <td>Константин</td>\n",
       "      <td>26</td>\n",
       "      <td>Ростов-на-Дону</td>\n",
       "      <td>ultra</td>\n",
       "    </tr>\n",
       "    <tr>\n",
       "      <th>4</th>\n",
       "      <td>5</td>\n",
       "      <td>Адель</td>\n",
       "      <td>28</td>\n",
       "      <td>Омск</td>\n",
       "      <td>ultra</td>\n",
       "    </tr>\n",
       "    <tr>\n",
       "      <th>5</th>\n",
       "      <td>6</td>\n",
       "      <td>Регина</td>\n",
       "      <td>25</td>\n",
       "      <td>Краснодар</td>\n",
       "      <td>ultra</td>\n",
       "    </tr>\n",
       "    <tr>\n",
       "      <th>6</th>\n",
       "      <td>7</td>\n",
       "      <td>Игорь</td>\n",
       "      <td>23</td>\n",
       "      <td>Омск</td>\n",
       "      <td>ultra</td>\n",
       "    </tr>\n",
       "    <tr>\n",
       "      <th>7</th>\n",
       "      <td>8</td>\n",
       "      <td>Юрий</td>\n",
       "      <td>23</td>\n",
       "      <td>Краснодар</td>\n",
       "      <td>ultra</td>\n",
       "    </tr>\n",
       "    <tr>\n",
       "      <th>8</th>\n",
       "      <td>9</td>\n",
       "      <td>Ян</td>\n",
       "      <td>21</td>\n",
       "      <td>Пятигорск</td>\n",
       "      <td>ultra</td>\n",
       "    </tr>\n",
       "    <tr>\n",
       "      <th>9</th>\n",
       "      <td>10</td>\n",
       "      <td>Валерий</td>\n",
       "      <td>18</td>\n",
       "      <td>Екатеринбург</td>\n",
       "      <td>ultra</td>\n",
       "    </tr>\n",
       "  </tbody>\n",
       "</table>\n",
       "</div>"
      ],
      "text/plain": [
       "   user_id        name  age            city subscription_type\n",
       "0        1        Кира   22          Тюмень             ultra\n",
       "1        2   Станислав   31            Омск             ultra\n",
       "2        3     Алексей   20          Москва             ultra\n",
       "3        4  Константин   26  Ростов-на-Дону             ultra\n",
       "4        5       Адель   28            Омск             ultra\n",
       "5        6      Регина   25       Краснодар             ultra\n",
       "6        7       Игорь   23            Омск             ultra\n",
       "7        8        Юрий   23       Краснодар             ultra\n",
       "8        9          Ян   21       Пятигорск             ultra\n",
       "9       10     Валерий   18    Екатеринбург             ultra"
      ]
     },
     "execution_count": 2,
     "metadata": {},
     "output_type": "execute_result"
    }
   ],
   "source": [
    "#считаем CSV-файл с данными о пользователях с помощью библиотеки pandas и сохраним его в датафрейм.\n",
    "\n",
    "users_data = pd.read_csv('users_go.csv')\n",
    "\n",
    "#выведем первые 10 строк датасета\n",
    "users_data.head(10)"
   ]
  },
  {
   "cell_type": "code",
   "execution_count": 3,
   "id": "4950b578",
   "metadata": {
    "scrolled": true
   },
   "outputs": [
    {
     "name": "stdout",
     "output_type": "stream",
     "text": [
      "<class 'pandas.core.frame.DataFrame'>\n",
      "RangeIndex: 1565 entries, 0 to 1564\n",
      "Data columns (total 5 columns):\n",
      " #   Column             Non-Null Count  Dtype \n",
      "---  ------             --------------  ----- \n",
      " 0   user_id            1565 non-null   int64 \n",
      " 1   name               1565 non-null   object\n",
      " 2   age                1565 non-null   int64 \n",
      " 3   city               1565 non-null   object\n",
      " 4   subscription_type  1565 non-null   object\n",
      "dtypes: int64(2), object(3)\n",
      "memory usage: 61.3+ KB\n"
     ]
    }
   ],
   "source": [
    "#Изучим общую информацию о датафрейме\n",
    "\n",
    "users_data.info()"
   ]
  },
  {
   "cell_type": "markdown",
   "id": "804ebe50",
   "metadata": {},
   "source": [
    "Видим, что в датасете нет пропущенных значений. "
   ]
  },
  {
   "cell_type": "code",
   "execution_count": 4,
   "id": "c9fe5632",
   "metadata": {},
   "outputs": [
    {
     "data": {
      "text/html": [
       "<div>\n",
       "<style scoped>\n",
       "    .dataframe tbody tr th:only-of-type {\n",
       "        vertical-align: middle;\n",
       "    }\n",
       "\n",
       "    .dataframe tbody tr th {\n",
       "        vertical-align: top;\n",
       "    }\n",
       "\n",
       "    .dataframe thead th {\n",
       "        text-align: right;\n",
       "    }\n",
       "</style>\n",
       "<table border=\"1\" class=\"dataframe\">\n",
       "  <thead>\n",
       "    <tr style=\"text-align: right;\">\n",
       "      <th></th>\n",
       "      <th>user_id</th>\n",
       "      <th>distance</th>\n",
       "      <th>duration</th>\n",
       "      <th>date</th>\n",
       "    </tr>\n",
       "  </thead>\n",
       "  <tbody>\n",
       "    <tr>\n",
       "      <th>0</th>\n",
       "      <td>1</td>\n",
       "      <td>4409.919140</td>\n",
       "      <td>25.599769</td>\n",
       "      <td>2021-01-01</td>\n",
       "    </tr>\n",
       "    <tr>\n",
       "      <th>1</th>\n",
       "      <td>1</td>\n",
       "      <td>2617.592153</td>\n",
       "      <td>15.816871</td>\n",
       "      <td>2021-01-18</td>\n",
       "    </tr>\n",
       "    <tr>\n",
       "      <th>2</th>\n",
       "      <td>1</td>\n",
       "      <td>754.159807</td>\n",
       "      <td>6.232113</td>\n",
       "      <td>2021-04-20</td>\n",
       "    </tr>\n",
       "    <tr>\n",
       "      <th>3</th>\n",
       "      <td>1</td>\n",
       "      <td>2694.783254</td>\n",
       "      <td>18.511000</td>\n",
       "      <td>2021-08-11</td>\n",
       "    </tr>\n",
       "    <tr>\n",
       "      <th>4</th>\n",
       "      <td>1</td>\n",
       "      <td>4028.687306</td>\n",
       "      <td>26.265803</td>\n",
       "      <td>2021-08-28</td>\n",
       "    </tr>\n",
       "    <tr>\n",
       "      <th>5</th>\n",
       "      <td>1</td>\n",
       "      <td>2770.890808</td>\n",
       "      <td>16.650138</td>\n",
       "      <td>2021-10-09</td>\n",
       "    </tr>\n",
       "    <tr>\n",
       "      <th>6</th>\n",
       "      <td>1</td>\n",
       "      <td>3039.020292</td>\n",
       "      <td>14.927879</td>\n",
       "      <td>2021-10-19</td>\n",
       "    </tr>\n",
       "    <tr>\n",
       "      <th>7</th>\n",
       "      <td>1</td>\n",
       "      <td>2842.118050</td>\n",
       "      <td>23.117468</td>\n",
       "      <td>2021-11-06</td>\n",
       "    </tr>\n",
       "    <tr>\n",
       "      <th>8</th>\n",
       "      <td>1</td>\n",
       "      <td>3412.690668</td>\n",
       "      <td>15.238072</td>\n",
       "      <td>2021-11-14</td>\n",
       "    </tr>\n",
       "    <tr>\n",
       "      <th>9</th>\n",
       "      <td>1</td>\n",
       "      <td>748.690645</td>\n",
       "      <td>15.041884</td>\n",
       "      <td>2021-11-22</td>\n",
       "    </tr>\n",
       "  </tbody>\n",
       "</table>\n",
       "</div>"
      ],
      "text/plain": [
       "   user_id     distance   duration        date\n",
       "0        1  4409.919140  25.599769  2021-01-01\n",
       "1        1  2617.592153  15.816871  2021-01-18\n",
       "2        1   754.159807   6.232113  2021-04-20\n",
       "3        1  2694.783254  18.511000  2021-08-11\n",
       "4        1  4028.687306  26.265803  2021-08-28\n",
       "5        1  2770.890808  16.650138  2021-10-09\n",
       "6        1  3039.020292  14.927879  2021-10-19\n",
       "7        1  2842.118050  23.117468  2021-11-06\n",
       "8        1  3412.690668  15.238072  2021-11-14\n",
       "9        1   748.690645  15.041884  2021-11-22"
      ]
     },
     "execution_count": 4,
     "metadata": {},
     "output_type": "execute_result"
    }
   ],
   "source": [
    "#считаем CSV-файл с данными о поездках с помощью библиотеки pandas и сохраним его в датафрейм.\n",
    "rides_data = pd.read_csv('rides_go.csv')\n",
    "\n",
    "rides_data.head(10)"
   ]
  },
  {
   "cell_type": "code",
   "execution_count": 5,
   "id": "5e68baf6",
   "metadata": {
    "scrolled": true
   },
   "outputs": [
    {
     "name": "stdout",
     "output_type": "stream",
     "text": [
      "<class 'pandas.core.frame.DataFrame'>\n",
      "RangeIndex: 18068 entries, 0 to 18067\n",
      "Data columns (total 4 columns):\n",
      " #   Column    Non-Null Count  Dtype  \n",
      "---  ------    --------------  -----  \n",
      " 0   user_id   18068 non-null  int64  \n",
      " 1   distance  18068 non-null  float64\n",
      " 2   duration  18068 non-null  float64\n",
      " 3   date      18068 non-null  object \n",
      "dtypes: float64(2), int64(1), object(1)\n",
      "memory usage: 564.8+ KB\n"
     ]
    }
   ],
   "source": [
    "#Изучим общую информацию о датафрейме\n",
    "\n",
    "rides_data.info()"
   ]
  },
  {
   "cell_type": "markdown",
   "id": "ac9132a2",
   "metadata": {},
   "source": [
    "Видим, что в датасете нет пропущенных значений. "
   ]
  },
  {
   "cell_type": "code",
   "execution_count": 6,
   "id": "bc4be56a",
   "metadata": {
    "scrolled": true
   },
   "outputs": [
    {
     "data": {
      "text/html": [
       "<div>\n",
       "<style scoped>\n",
       "    .dataframe tbody tr th:only-of-type {\n",
       "        vertical-align: middle;\n",
       "    }\n",
       "\n",
       "    .dataframe tbody tr th {\n",
       "        vertical-align: top;\n",
       "    }\n",
       "\n",
       "    .dataframe thead th {\n",
       "        text-align: right;\n",
       "    }\n",
       "</style>\n",
       "<table border=\"1\" class=\"dataframe\">\n",
       "  <thead>\n",
       "    <tr style=\"text-align: right;\">\n",
       "      <th></th>\n",
       "      <th>subscription_type</th>\n",
       "      <th>minute_price</th>\n",
       "      <th>start_ride_price</th>\n",
       "      <th>subscription_fee</th>\n",
       "    </tr>\n",
       "  </thead>\n",
       "  <tbody>\n",
       "    <tr>\n",
       "      <th>0</th>\n",
       "      <td>free</td>\n",
       "      <td>8</td>\n",
       "      <td>50</td>\n",
       "      <td>0</td>\n",
       "    </tr>\n",
       "    <tr>\n",
       "      <th>1</th>\n",
       "      <td>ultra</td>\n",
       "      <td>6</td>\n",
       "      <td>0</td>\n",
       "      <td>199</td>\n",
       "    </tr>\n",
       "  </tbody>\n",
       "</table>\n",
       "</div>"
      ],
      "text/plain": [
       "  subscription_type  minute_price  start_ride_price  subscription_fee\n",
       "0              free             8                50                 0\n",
       "1             ultra             6                 0               199"
      ]
     },
     "execution_count": 6,
     "metadata": {},
     "output_type": "execute_result"
    }
   ],
   "source": [
    "#считаем CSV-файл с данными о подписках с помощью библиотеки pandas и сохраним его в датафрейм.\n",
    "\n",
    "subscriptions_data = pd.read_csv('subscriptions_go.csv')\n",
    "\n",
    "subscriptions_data.head(10)"
   ]
  },
  {
   "cell_type": "code",
   "execution_count": 7,
   "id": "3e660931",
   "metadata": {},
   "outputs": [
    {
     "name": "stdout",
     "output_type": "stream",
     "text": [
      "<class 'pandas.core.frame.DataFrame'>\n",
      "RangeIndex: 2 entries, 0 to 1\n",
      "Data columns (total 4 columns):\n",
      " #   Column             Non-Null Count  Dtype \n",
      "---  ------             --------------  ----- \n",
      " 0   subscription_type  2 non-null      object\n",
      " 1   minute_price       2 non-null      int64 \n",
      " 2   start_ride_price   2 non-null      int64 \n",
      " 3   subscription_fee   2 non-null      int64 \n",
      "dtypes: int64(3), object(1)\n",
      "memory usage: 192.0+ bytes\n"
     ]
    }
   ],
   "source": [
    "#Изучим общую информацию о датафрейме\n",
    "\n",
    "subscriptions_data.info()"
   ]
  },
  {
   "cell_type": "markdown",
   "id": "f2d49caf",
   "metadata": {},
   "source": [
    "Видим, что в датасете нет пропущенных значений. "
   ]
  },
  {
   "cell_type": "markdown",
   "id": "e95ebca7",
   "metadata": {},
   "source": [
    "#### Шаг 2. Предобработка данных"
   ]
  },
  {
   "cell_type": "code",
   "execution_count": 8,
   "id": "af6d202c",
   "metadata": {
    "scrolled": true
   },
   "outputs": [
    {
     "name": "stdout",
     "output_type": "stream",
     "text": [
      "<class 'pandas.core.frame.DataFrame'>\n",
      "RangeIndex: 18068 entries, 0 to 18067\n",
      "Data columns (total 4 columns):\n",
      " #   Column    Non-Null Count  Dtype         \n",
      "---  ------    --------------  -----         \n",
      " 0   user_id   18068 non-null  int64         \n",
      " 1   distance  18068 non-null  float64       \n",
      " 2   duration  18068 non-null  float64       \n",
      " 3   date      18068 non-null  datetime64[ns]\n",
      "dtypes: datetime64[ns](1), float64(2), int64(1)\n",
      "memory usage: 564.8 KB\n"
     ]
    }
   ],
   "source": [
    "# приведем данные из столбца date в датафрейме rides_data в тип datetime\n",
    "\n",
    "rides_data['date'] = pd.to_datetime(rides_data['date'],format='%Y-%m-%d')\n",
    "\n",
    "# проверим изменения формата в столбце\n",
    "rides_data.info()"
   ]
  },
  {
   "cell_type": "code",
   "execution_count": 9,
   "id": "67f2aaaa",
   "metadata": {},
   "outputs": [
    {
     "data": {
      "text/html": [
       "<div>\n",
       "<style scoped>\n",
       "    .dataframe tbody tr th:only-of-type {\n",
       "        vertical-align: middle;\n",
       "    }\n",
       "\n",
       "    .dataframe tbody tr th {\n",
       "        vertical-align: top;\n",
       "    }\n",
       "\n",
       "    .dataframe thead th {\n",
       "        text-align: right;\n",
       "    }\n",
       "</style>\n",
       "<table border=\"1\" class=\"dataframe\">\n",
       "  <thead>\n",
       "    <tr style=\"text-align: right;\">\n",
       "      <th></th>\n",
       "      <th>user_id</th>\n",
       "      <th>distance</th>\n",
       "      <th>duration</th>\n",
       "      <th>date</th>\n",
       "      <th>month</th>\n",
       "    </tr>\n",
       "  </thead>\n",
       "  <tbody>\n",
       "    <tr>\n",
       "      <th>0</th>\n",
       "      <td>1</td>\n",
       "      <td>4409.919140</td>\n",
       "      <td>25.599769</td>\n",
       "      <td>2021-01-01</td>\n",
       "      <td>1</td>\n",
       "    </tr>\n",
       "    <tr>\n",
       "      <th>1</th>\n",
       "      <td>1</td>\n",
       "      <td>2617.592153</td>\n",
       "      <td>15.816871</td>\n",
       "      <td>2021-01-18</td>\n",
       "      <td>1</td>\n",
       "    </tr>\n",
       "    <tr>\n",
       "      <th>2</th>\n",
       "      <td>1</td>\n",
       "      <td>754.159807</td>\n",
       "      <td>6.232113</td>\n",
       "      <td>2021-04-20</td>\n",
       "      <td>4</td>\n",
       "    </tr>\n",
       "    <tr>\n",
       "      <th>3</th>\n",
       "      <td>1</td>\n",
       "      <td>2694.783254</td>\n",
       "      <td>18.511000</td>\n",
       "      <td>2021-08-11</td>\n",
       "      <td>8</td>\n",
       "    </tr>\n",
       "    <tr>\n",
       "      <th>4</th>\n",
       "      <td>1</td>\n",
       "      <td>4028.687306</td>\n",
       "      <td>26.265803</td>\n",
       "      <td>2021-08-28</td>\n",
       "      <td>8</td>\n",
       "    </tr>\n",
       "  </tbody>\n",
       "</table>\n",
       "</div>"
      ],
      "text/plain": [
       "   user_id     distance   duration       date  month\n",
       "0        1  4409.919140  25.599769 2021-01-01      1\n",
       "1        1  2617.592153  15.816871 2021-01-18      1\n",
       "2        1   754.159807   6.232113 2021-04-20      4\n",
       "3        1  2694.783254  18.511000 2021-08-11      8\n",
       "4        1  4028.687306  26.265803 2021-08-28      8"
      ]
     },
     "execution_count": 9,
     "metadata": {},
     "output_type": "execute_result"
    }
   ],
   "source": [
    "#добавим новый столбец с номером месяца в датафрейм rides_data\n",
    "\n",
    "rides_data['month'] =  rides_data['date'].dt.month\n",
    "\n",
    "#проверим изменения\n",
    "rides_data.head()"
   ]
  },
  {
   "cell_type": "code",
   "execution_count": 10,
   "id": "4ec91712",
   "metadata": {},
   "outputs": [
    {
     "name": "stdout",
     "output_type": "stream",
     "text": [
      "user_id     0\n",
      "distance    0\n",
      "duration    0\n",
      "date        0\n",
      "month       0\n",
      "dtype: int64\n",
      "\n",
      "user_id              0\n",
      "name                 0\n",
      "age                  0\n",
      "city                 0\n",
      "subscription_type    0\n",
      "dtype: int64\n"
     ]
    },
    {
     "data": {
      "text/plain": [
       "subscription_type    0\n",
       "minute_price         0\n",
       "start_ride_price     0\n",
       "subscription_fee     0\n",
       "dtype: int64"
      ]
     },
     "execution_count": 10,
     "metadata": {},
     "output_type": "execute_result"
    }
   ],
   "source": [
    "#проверим наличие пропущенных значений в датафреймах\n",
    "\n",
    "print(rides_data.isna().sum())\n",
    "\n",
    "print()\n",
    "\n",
    "print(users_data.isna().sum())\n",
    "\n",
    "subscriptions_data.isna().sum()"
   ]
  },
  {
   "cell_type": "markdown",
   "id": "aafaf677",
   "metadata": {},
   "source": [
    "Убедились, что в датафреймах нет пропущенных значений "
   ]
  },
  {
   "cell_type": "code",
   "execution_count": 11,
   "id": "f3e82daf",
   "metadata": {},
   "outputs": [
    {
     "name": "stdout",
     "output_type": "stream",
     "text": [
      "31\n"
     ]
    },
    {
     "data": {
      "text/plain": [
       "0"
      ]
     },
     "execution_count": 11,
     "metadata": {},
     "output_type": "execute_result"
    }
   ],
   "source": [
    "#проверим наличие пропущенных значений в датафреймах\n",
    "\n",
    "print(users_data.duplicated().sum())\n",
    "\n",
    "rides_data.duplicated().sum()"
   ]
  },
  {
   "cell_type": "code",
   "execution_count": 12,
   "id": "5797bd68",
   "metadata": {},
   "outputs": [],
   "source": [
    "#удалим дубликаты\n",
    "\n",
    "users_data = users_data.drop_duplicates().reset_index(drop=True)"
   ]
  },
  {
   "cell_type": "markdown",
   "id": "212593c7",
   "metadata": {},
   "source": [
    "#### Шаг 3. Исследовательский анализ данных"
   ]
  },
  {
   "cell_type": "markdown",
   "id": "f6bb4018",
   "metadata": {},
   "source": [
    "Опишите и визуализируйте общую информацию о пользователях и поездках:\n",
    "3.1 частота встречаемости городов;\n",
    "3.2 соотношение пользователей с подпиской и без подписки;\n",
    "3.3 возраст пользователей;\n",
    "3.4 расстояние, которое пользователь преодолел за одну поездку;\n",
    "3.5 продолжительность поездок.\n"
   ]
  },
  {
   "cell_type": "code",
   "execution_count": 13,
   "id": "7f700c31",
   "metadata": {},
   "outputs": [
    {
     "data": {
      "image/png": "[encoded data removed]",
      "text/plain": [
       "<Figure size 432x288 with 1 Axes>"
      ]
     },
     "metadata": {
      "needs_background": "light"
     },
     "output_type": "display_data"
    }
   ],
   "source": [
    "#визуализируем информацию о частоте встречаемости городов\n",
    "\n",
    "users_data['city'].value_counts().plot.bar()\n",
    "\n",
    "plt.title('Распределение по городам')\n",
    "plt.xlabel('Наименование города')\n",
    "plt.ylabel('Количество пользователей')\n",
    "plt.show()"
   ]
  },
  {
   "cell_type": "code",
   "execution_count": 14,
   "id": "bfeb34da",
   "metadata": {},
   "outputs": [
    {
     "data": {
      "text/plain": [
       "Пятигорск         219\n",
       "Екатеринбург      204\n",
       "Ростов-на-Дону    198\n",
       "Краснодар         193\n",
       "Сочи              189\n",
       "Омск              183\n",
       "Тюмень            180\n",
       "Москва            168\n",
       "Name: city, dtype: int64"
      ]
     },
     "execution_count": 14,
     "metadata": {},
     "output_type": "execute_result"
    }
   ],
   "source": [
    "#выведем абсолютное число пользователей по городам\n",
    "users_data['city'].value_counts()"
   ]
  },
  {
   "cell_type": "markdown",
   "id": "e6af1628",
   "metadata": {},
   "source": [
    "Построили гистограмму по информации о городах в датасете, можно сделать вывод о том, что большее количество пользователей находятся в городе Пятигорск, второе и третье место - Екатеринбург и Ростов-на-Дону"
   ]
  },
  {
   "cell_type": "code",
   "execution_count": 15,
   "id": "838ea461",
   "metadata": {},
   "outputs": [
    {
     "data": {
      "image/png": "[encoded data removed]",
      "text/plain": [
       "<Figure size 432x288 with 1 Axes>"
      ]
     },
     "metadata": {},
     "output_type": "display_data"
    }
   ],
   "source": [
    "#визуализируем информацию о соотношении пользователей с подпиской и без подписки\n",
    "\n",
    "users_data['subscription_type'].value_counts().plot.pie(autopct='%.2f%%')\n",
    "\n",
    "plt.title('Распределение пользователей по подписке')\n",
    "plt.ylabel('Количество пользователей')\n",
    "plt.show()"
   ]
  },
  {
   "cell_type": "markdown",
   "id": "5000761c",
   "metadata": {},
   "source": [
    "Построили круговую диаграмму по информации о наличии платной подписки, можно сделать вывод, что пользователей без подписки примерно на 10% больше, чем пользователей с подпиской. "
   ]
  },
  {
   "cell_type": "code",
   "execution_count": 16,
   "id": "262f9a45",
   "metadata": {
    "scrolled": true
   },
   "outputs": [
    {
     "data": {
      "image/png": "[encoded data removed]",
      "text/plain": [
       "<Figure size 432x288 with 1 Axes>"
      ]
     },
     "metadata": {
      "needs_background": "light"
     },
     "output_type": "display_data"
    }
   ],
   "source": [
    "#визуализируем информацию о возрасте пользователей\n",
    "\n",
    "users_data['age'].hist()\n",
    "\n",
    "plt.title('Распределение возраста пользователей')\n",
    "plt.xlabel('Возраст, лет')\n",
    "plt.ylabel('Количество пользователей')\n",
    "plt.show()"
   ]
  },
  {
   "cell_type": "markdown",
   "id": "19dbd41b",
   "metadata": {},
   "source": [
    "Построили гистограмму по информации о возрасте пользователей. \n",
    "В среднем большее количество пользователей в категории 22-27 лет, но также встречаются и пользователи 12-15 лет и небольшая категория пользователей 37-45 лет. "
   ]
  },
  {
   "cell_type": "code",
   "execution_count": 17,
   "id": "e04f207f",
   "metadata": {},
   "outputs": [
    {
     "data": {
      "image/png": "[encoded data removed]",
      "text/plain": [
       "<Figure size 432x288 with 1 Axes>"
      ]
     },
     "metadata": {
      "needs_background": "light"
     },
     "output_type": "display_data"
    }
   ],
   "source": [
    "#визуализируем информацию о расстоянии, которое пользователь преодолел за одну поездку\n",
    "rides_data['distance'].hist()\n",
    "\n",
    "plt.title('Распределение дистанций за поездку')\n",
    "plt.xlabel('Расстояние, м')\n",
    "plt.ylabel('Количество пользователей')\n",
    "plt.show()"
   ]
  },
  {
   "cell_type": "markdown",
   "id": "93c9f461",
   "metadata": {},
   "source": [
    "Построили гистограмму по информации о расстоянии в поездках пользователей, видим, что в среднем за поездку преодолевают расстояние 3-3,5км, есть небольшое количество данных (около 1000 записей) с записями о поездках на расстояния менее 1км."
   ]
  },
  {
   "cell_type": "code",
   "execution_count": 18,
   "id": "9ba02501",
   "metadata": {
    "scrolled": true
   },
   "outputs": [
    {
     "data": {
      "image/png": "[encoded data removed]",
      "text/plain": [
       "<Figure size 432x288 with 1 Axes>"
      ]
     },
     "metadata": {
      "needs_background": "light"
     },
     "output_type": "display_data"
    }
   ],
   "source": [
    "#визуализируем информацию о продолжительности поездок\n",
    "\n",
    "rides_data['duration'].hist()\n",
    "\n",
    "plt.title('Распределение продолжительности поездок')\n",
    "plt.xlabel('Длительность поездки, мин')\n",
    "plt.ylabel('Количество пользователей')\n",
    "plt.show()"
   ]
  },
  {
   "cell_type": "markdown",
   "id": "a228923f",
   "metadata": {},
   "source": [
    "На гистограмме видим, что средняя продолжительность поездки - 16-20 минут, есть достаточно редкие записи о поездках до 5 минут и от 36 минут."
   ]
  },
  {
   "cell_type": "code",
   "execution_count": 19,
   "id": "5119bf86",
   "metadata": {},
   "outputs": [
    {
     "data": {
      "text/html": [
       "<div>\n",
       "<style scoped>\n",
       "    .dataframe tbody tr th:only-of-type {\n",
       "        vertical-align: middle;\n",
       "    }\n",
       "\n",
       "    .dataframe tbody tr th {\n",
       "        vertical-align: top;\n",
       "    }\n",
       "\n",
       "    .dataframe thead th {\n",
       "        text-align: right;\n",
       "    }\n",
       "</style>\n",
       "<table border=\"1\" class=\"dataframe\">\n",
       "  <thead>\n",
       "    <tr style=\"text-align: right;\">\n",
       "      <th></th>\n",
       "      <th>user_id</th>\n",
       "      <th>distance</th>\n",
       "      <th>duration</th>\n",
       "      <th>date</th>\n",
       "      <th>month</th>\n",
       "    </tr>\n",
       "  </thead>\n",
       "  <tbody>\n",
       "    <tr>\n",
       "      <th>6531</th>\n",
       "      <td>701</td>\n",
       "      <td>4196.445201</td>\n",
       "      <td>0.5</td>\n",
       "      <td>2021-08-31</td>\n",
       "      <td>8</td>\n",
       "    </tr>\n",
       "    <tr>\n",
       "      <th>6570</th>\n",
       "      <td>704</td>\n",
       "      <td>4830.824371</td>\n",
       "      <td>0.5</td>\n",
       "      <td>2021-10-14</td>\n",
       "      <td>10</td>\n",
       "    </tr>\n",
       "    <tr>\n",
       "      <th>6680</th>\n",
       "      <td>712</td>\n",
       "      <td>4684.004397</td>\n",
       "      <td>0.5</td>\n",
       "      <td>2021-03-04</td>\n",
       "      <td>3</td>\n",
       "    </tr>\n",
       "    <tr>\n",
       "      <th>6695</th>\n",
       "      <td>713</td>\n",
       "      <td>5215.642710</td>\n",
       "      <td>0.5</td>\n",
       "      <td>2021-02-25</td>\n",
       "      <td>2</td>\n",
       "    </tr>\n",
       "    <tr>\n",
       "      <th>6768</th>\n",
       "      <td>718</td>\n",
       "      <td>5197.436649</td>\n",
       "      <td>0.5</td>\n",
       "      <td>2021-02-11</td>\n",
       "      <td>2</td>\n",
       "    </tr>\n",
       "    <tr>\n",
       "      <th>...</th>\n",
       "      <td>...</td>\n",
       "      <td>...</td>\n",
       "      <td>...</td>\n",
       "      <td>...</td>\n",
       "      <td>...</td>\n",
       "    </tr>\n",
       "    <tr>\n",
       "      <th>17004</th>\n",
       "      <td>1460</td>\n",
       "      <td>5531.335845</td>\n",
       "      <td>0.5</td>\n",
       "      <td>2021-01-19</td>\n",
       "      <td>1</td>\n",
       "    </tr>\n",
       "    <tr>\n",
       "      <th>17242</th>\n",
       "      <td>1477</td>\n",
       "      <td>6724.932981</td>\n",
       "      <td>0.5</td>\n",
       "      <td>2021-01-12</td>\n",
       "      <td>1</td>\n",
       "    </tr>\n",
       "    <tr>\n",
       "      <th>17314</th>\n",
       "      <td>1483</td>\n",
       "      <td>4445.481070</td>\n",
       "      <td>0.5</td>\n",
       "      <td>2021-03-06</td>\n",
       "      <td>3</td>\n",
       "    </tr>\n",
       "    <tr>\n",
       "      <th>17505</th>\n",
       "      <td>1496</td>\n",
       "      <td>5722.551787</td>\n",
       "      <td>0.5</td>\n",
       "      <td>2021-02-14</td>\n",
       "      <td>2</td>\n",
       "    </tr>\n",
       "    <tr>\n",
       "      <th>17909</th>\n",
       "      <td>1524</td>\n",
       "      <td>4103.998874</td>\n",
       "      <td>0.5</td>\n",
       "      <td>2021-06-18</td>\n",
       "      <td>6</td>\n",
       "    </tr>\n",
       "  </tbody>\n",
       "</table>\n",
       "<p>95 rows × 5 columns</p>\n",
       "</div>"
      ],
      "text/plain": [
       "       user_id     distance  duration       date  month\n",
       "6531       701  4196.445201       0.5 2021-08-31      8\n",
       "6570       704  4830.824371       0.5 2021-10-14     10\n",
       "6680       712  4684.004397       0.5 2021-03-04      3\n",
       "6695       713  5215.642710       0.5 2021-02-25      2\n",
       "6768       718  5197.436649       0.5 2021-02-11      2\n",
       "...        ...          ...       ...        ...    ...\n",
       "17004     1460  5531.335845       0.5 2021-01-19      1\n",
       "17242     1477  6724.932981       0.5 2021-01-12      1\n",
       "17314     1483  4445.481070       0.5 2021-03-06      3\n",
       "17505     1496  5722.551787       0.5 2021-02-14      2\n",
       "17909     1524  4103.998874       0.5 2021-06-18      6\n",
       "\n",
       "[95 rows x 5 columns]"
      ]
     },
     "execution_count": 19,
     "metadata": {},
     "output_type": "execute_result"
    }
   ],
   "source": [
    "#выведем информацию о поездках длительностью до 1 минуты\n",
    "rides_data.query('duration < 1')"
   ]
  },
  {
   "cell_type": "markdown",
   "id": "52a83a33",
   "metadata": {},
   "source": [
    "Видим, что пользователи проезжали далекие дистанции в поездках длительностью до 1 минуты - похоже на сбои логирования.\n",
    "\n",
    "Заменим значения по длительности этих поездок, рассчитав среднюю скорость самокатов. "
   ]
  },
  {
   "cell_type": "code",
   "execution_count": 20,
   "id": "a3666943",
   "metadata": {},
   "outputs": [],
   "source": [
    "#найдем среднюю скорость поездок\n",
    "v = (rides_data['distance']/rides_data['duration']).median()\n",
    "\n",
    "#заменим некорректные значения длительности поездок\n",
    "rides_data['duration'] = rides_data['duration'].where(rides_data['duration'] > 1, rides_data['distance'] / v)"
   ]
  },
  {
   "cell_type": "code",
   "execution_count": 21,
   "id": "6321d12d",
   "metadata": {},
   "outputs": [
    {
     "data": {
      "image/png": "[encoded data removed]",
      "text/plain": [
       "<Figure size 432x288 with 1 Axes>"
      ]
     },
     "metadata": {
      "needs_background": "light"
     },
     "output_type": "display_data"
    }
   ],
   "source": [
    "#построим обновленный график длительности поездок\n",
    "rides_data['duration'].hist()\n",
    "\n",
    "plt.title('Распределение продолжительности поездок')\n",
    "plt.xlabel('Длительность поездки, мин')\n",
    "plt.ylabel('Количество пользователей')\n",
    "plt.show()"
   ]
  },
  {
   "cell_type": "markdown",
   "id": "4ef51331",
   "metadata": {},
   "source": [
    "#### Шаг 4. Объединение данных"
   ]
  },
  {
   "cell_type": "code",
   "execution_count": 22,
   "id": "ed54cf6c",
   "metadata": {
    "scrolled": false
   },
   "outputs": [
    {
     "data": {
      "text/html": [
       "<div>\n",
       "<style scoped>\n",
       "    .dataframe tbody tr th:only-of-type {\n",
       "        vertical-align: middle;\n",
       "    }\n",
       "\n",
       "    .dataframe tbody tr th {\n",
       "        vertical-align: top;\n",
       "    }\n",
       "\n",
       "    .dataframe thead th {\n",
       "        text-align: right;\n",
       "    }\n",
       "</style>\n",
       "<table border=\"1\" class=\"dataframe\">\n",
       "  <thead>\n",
       "    <tr style=\"text-align: right;\">\n",
       "      <th></th>\n",
       "      <th>user_id</th>\n",
       "      <th>name</th>\n",
       "      <th>age</th>\n",
       "      <th>city</th>\n",
       "      <th>subscription_type</th>\n",
       "      <th>distance</th>\n",
       "      <th>duration</th>\n",
       "      <th>date</th>\n",
       "      <th>month</th>\n",
       "      <th>minute_price</th>\n",
       "      <th>start_ride_price</th>\n",
       "      <th>subscription_fee</th>\n",
       "    </tr>\n",
       "  </thead>\n",
       "  <tbody>\n",
       "    <tr>\n",
       "      <th>0</th>\n",
       "      <td>1</td>\n",
       "      <td>Кира</td>\n",
       "      <td>22</td>\n",
       "      <td>Тюмень</td>\n",
       "      <td>ultra</td>\n",
       "      <td>4409.919140</td>\n",
       "      <td>25.599769</td>\n",
       "      <td>2021-01-01</td>\n",
       "      <td>1</td>\n",
       "      <td>6</td>\n",
       "      <td>0</td>\n",
       "      <td>199</td>\n",
       "    </tr>\n",
       "    <tr>\n",
       "      <th>1</th>\n",
       "      <td>1</td>\n",
       "      <td>Кира</td>\n",
       "      <td>22</td>\n",
       "      <td>Тюмень</td>\n",
       "      <td>ultra</td>\n",
       "      <td>2617.592153</td>\n",
       "      <td>15.816871</td>\n",
       "      <td>2021-01-18</td>\n",
       "      <td>1</td>\n",
       "      <td>6</td>\n",
       "      <td>0</td>\n",
       "      <td>199</td>\n",
       "    </tr>\n",
       "    <tr>\n",
       "      <th>2</th>\n",
       "      <td>1</td>\n",
       "      <td>Кира</td>\n",
       "      <td>22</td>\n",
       "      <td>Тюмень</td>\n",
       "      <td>ultra</td>\n",
       "      <td>754.159807</td>\n",
       "      <td>6.232113</td>\n",
       "      <td>2021-04-20</td>\n",
       "      <td>4</td>\n",
       "      <td>6</td>\n",
       "      <td>0</td>\n",
       "      <td>199</td>\n",
       "    </tr>\n",
       "    <tr>\n",
       "      <th>3</th>\n",
       "      <td>1</td>\n",
       "      <td>Кира</td>\n",
       "      <td>22</td>\n",
       "      <td>Тюмень</td>\n",
       "      <td>ultra</td>\n",
       "      <td>2694.783254</td>\n",
       "      <td>18.511000</td>\n",
       "      <td>2021-08-11</td>\n",
       "      <td>8</td>\n",
       "      <td>6</td>\n",
       "      <td>0</td>\n",
       "      <td>199</td>\n",
       "    </tr>\n",
       "    <tr>\n",
       "      <th>4</th>\n",
       "      <td>1</td>\n",
       "      <td>Кира</td>\n",
       "      <td>22</td>\n",
       "      <td>Тюмень</td>\n",
       "      <td>ultra</td>\n",
       "      <td>4028.687306</td>\n",
       "      <td>26.265803</td>\n",
       "      <td>2021-08-28</td>\n",
       "      <td>8</td>\n",
       "      <td>6</td>\n",
       "      <td>0</td>\n",
       "      <td>199</td>\n",
       "    </tr>\n",
       "    <tr>\n",
       "      <th>5</th>\n",
       "      <td>1</td>\n",
       "      <td>Кира</td>\n",
       "      <td>22</td>\n",
       "      <td>Тюмень</td>\n",
       "      <td>ultra</td>\n",
       "      <td>2770.890808</td>\n",
       "      <td>16.650138</td>\n",
       "      <td>2021-10-09</td>\n",
       "      <td>10</td>\n",
       "      <td>6</td>\n",
       "      <td>0</td>\n",
       "      <td>199</td>\n",
       "    </tr>\n",
       "    <tr>\n",
       "      <th>6</th>\n",
       "      <td>1</td>\n",
       "      <td>Кира</td>\n",
       "      <td>22</td>\n",
       "      <td>Тюмень</td>\n",
       "      <td>ultra</td>\n",
       "      <td>3039.020292</td>\n",
       "      <td>14.927879</td>\n",
       "      <td>2021-10-19</td>\n",
       "      <td>10</td>\n",
       "      <td>6</td>\n",
       "      <td>0</td>\n",
       "      <td>199</td>\n",
       "    </tr>\n",
       "    <tr>\n",
       "      <th>7</th>\n",
       "      <td>1</td>\n",
       "      <td>Кира</td>\n",
       "      <td>22</td>\n",
       "      <td>Тюмень</td>\n",
       "      <td>ultra</td>\n",
       "      <td>2842.118050</td>\n",
       "      <td>23.117468</td>\n",
       "      <td>2021-11-06</td>\n",
       "      <td>11</td>\n",
       "      <td>6</td>\n",
       "      <td>0</td>\n",
       "      <td>199</td>\n",
       "    </tr>\n",
       "    <tr>\n",
       "      <th>8</th>\n",
       "      <td>1</td>\n",
       "      <td>Кира</td>\n",
       "      <td>22</td>\n",
       "      <td>Тюмень</td>\n",
       "      <td>ultra</td>\n",
       "      <td>3412.690668</td>\n",
       "      <td>15.238072</td>\n",
       "      <td>2021-11-14</td>\n",
       "      <td>11</td>\n",
       "      <td>6</td>\n",
       "      <td>0</td>\n",
       "      <td>199</td>\n",
       "    </tr>\n",
       "    <tr>\n",
       "      <th>9</th>\n",
       "      <td>1</td>\n",
       "      <td>Кира</td>\n",
       "      <td>22</td>\n",
       "      <td>Тюмень</td>\n",
       "      <td>ultra</td>\n",
       "      <td>748.690645</td>\n",
       "      <td>15.041884</td>\n",
       "      <td>2021-11-22</td>\n",
       "      <td>11</td>\n",
       "      <td>6</td>\n",
       "      <td>0</td>\n",
       "      <td>199</td>\n",
       "    </tr>\n",
       "    <tr>\n",
       "      <th>10</th>\n",
       "      <td>1</td>\n",
       "      <td>Кира</td>\n",
       "      <td>22</td>\n",
       "      <td>Тюмень</td>\n",
       "      <td>ultra</td>\n",
       "      <td>4031.020195</td>\n",
       "      <td>17.674448</td>\n",
       "      <td>2021-12-14</td>\n",
       "      <td>12</td>\n",
       "      <td>6</td>\n",
       "      <td>0</td>\n",
       "      <td>199</td>\n",
       "    </tr>\n",
       "    <tr>\n",
       "      <th>11</th>\n",
       "      <td>1</td>\n",
       "      <td>Кира</td>\n",
       "      <td>22</td>\n",
       "      <td>Тюмень</td>\n",
       "      <td>ultra</td>\n",
       "      <td>2720.609748</td>\n",
       "      <td>9.529463</td>\n",
       "      <td>2021-12-22</td>\n",
       "      <td>12</td>\n",
       "      <td>6</td>\n",
       "      <td>0</td>\n",
       "      <td>199</td>\n",
       "    </tr>\n",
       "    <tr>\n",
       "      <th>12</th>\n",
       "      <td>2</td>\n",
       "      <td>Станислав</td>\n",
       "      <td>31</td>\n",
       "      <td>Омск</td>\n",
       "      <td>ultra</td>\n",
       "      <td>3105.086678</td>\n",
       "      <td>24.307514</td>\n",
       "      <td>2021-03-15</td>\n",
       "      <td>3</td>\n",
       "      <td>6</td>\n",
       "      <td>0</td>\n",
       "      <td>199</td>\n",
       "    </tr>\n",
       "    <tr>\n",
       "      <th>13</th>\n",
       "      <td>2</td>\n",
       "      <td>Станислав</td>\n",
       "      <td>31</td>\n",
       "      <td>Омск</td>\n",
       "      <td>ultra</td>\n",
       "      <td>3053.519401</td>\n",
       "      <td>11.543256</td>\n",
       "      <td>2021-03-18</td>\n",
       "      <td>3</td>\n",
       "      <td>6</td>\n",
       "      <td>0</td>\n",
       "      <td>199</td>\n",
       "    </tr>\n",
       "    <tr>\n",
       "      <th>14</th>\n",
       "      <td>2</td>\n",
       "      <td>Станислав</td>\n",
       "      <td>31</td>\n",
       "      <td>Омск</td>\n",
       "      <td>ultra</td>\n",
       "      <td>4029.116927</td>\n",
       "      <td>25.109188</td>\n",
       "      <td>2021-03-23</td>\n",
       "      <td>3</td>\n",
       "      <td>6</td>\n",
       "      <td>0</td>\n",
       "      <td>199</td>\n",
       "    </tr>\n",
       "  </tbody>\n",
       "</table>\n",
       "</div>"
      ],
      "text/plain": [
       "    user_id       name  age    city subscription_type     distance   duration  \\\n",
       "0         1       Кира   22  Тюмень             ultra  4409.919140  25.599769   \n",
       "1         1       Кира   22  Тюмень             ultra  2617.592153  15.816871   \n",
       "2         1       Кира   22  Тюмень             ultra   754.159807   6.232113   \n",
       "3         1       Кира   22  Тюмень             ultra  2694.783254  18.511000   \n",
       "4         1       Кира   22  Тюмень             ultra  4028.687306  26.265803   \n",
       "5         1       Кира   22  Тюмень             ultra  2770.890808  16.650138   \n",
       "6         1       Кира   22  Тюмень             ultra  3039.020292  14.927879   \n",
       "7         1       Кира   22  Тюмень             ultra  2842.118050  23.117468   \n",
       "8         1       Кира   22  Тюмень             ultra  3412.690668  15.238072   \n",
       "9         1       Кира   22  Тюмень             ultra   748.690645  15.041884   \n",
       "10        1       Кира   22  Тюмень             ultra  4031.020195  17.674448   \n",
       "11        1       Кира   22  Тюмень             ultra  2720.609748   9.529463   \n",
       "12        2  Станислав   31    Омск             ultra  3105.086678  24.307514   \n",
       "13        2  Станислав   31    Омск             ultra  3053.519401  11.543256   \n",
       "14        2  Станислав   31    Омск             ultra  4029.116927  25.109188   \n",
       "\n",
       "         date  month  minute_price  start_ride_price  subscription_fee  \n",
       "0  2021-01-01      1             6                 0               199  \n",
       "1  2021-01-18      1             6                 0               199  \n",
       "2  2021-04-20      4             6                 0               199  \n",
       "3  2021-08-11      8             6                 0               199  \n",
       "4  2021-08-28      8             6                 0               199  \n",
       "5  2021-10-09     10             6                 0               199  \n",
       "6  2021-10-19     10             6                 0               199  \n",
       "7  2021-11-06     11             6                 0               199  \n",
       "8  2021-11-14     11             6                 0               199  \n",
       "9  2021-11-22     11             6                 0               199  \n",
       "10 2021-12-14     12             6                 0               199  \n",
       "11 2021-12-22     12             6                 0               199  \n",
       "12 2021-03-15      3             6                 0               199  \n",
       "13 2021-03-18      3             6                 0               199  \n",
       "14 2021-03-23      3             6                 0               199  "
      ]
     },
     "execution_count": 22,
     "metadata": {},
     "output_type": "execute_result"
    }
   ],
   "source": [
    "#объединим данные о пользователях, поездках и подписках в один датафрейм\n",
    "data = users_data.merge(rides_data, on='user_id')\n",
    "data = data.merge(subscriptions_data, on='subscription_type')\n",
    "\n",
    "#выведем начало нового датафрейма\n",
    "data.head(15)"
   ]
  },
  {
   "cell_type": "code",
   "execution_count": 23,
   "id": "1fa31dc0",
   "metadata": {
    "scrolled": true
   },
   "outputs": [
    {
     "name": "stdout",
     "output_type": "stream",
     "text": [
      "18068\n",
      "18068\n"
     ]
    },
    {
     "data": {
      "text/plain": [
       "user_id              0\n",
       "name                 0\n",
       "age                  0\n",
       "city                 0\n",
       "subscription_type    0\n",
       "distance             0\n",
       "duration             0\n",
       "date                 0\n",
       "month                0\n",
       "minute_price         0\n",
       "start_ride_price     0\n",
       "subscription_fee     0\n",
       "dtype: int64"
      ]
     },
     "execution_count": 23,
     "metadata": {},
     "output_type": "execute_result"
    }
   ],
   "source": [
    "#проверим, что объем данных сохранен \n",
    "print(rides_data.shape[0])\n",
    "print(data.shape[0])\n",
    "\n",
    "#проверим, не появились ли пропуски\n",
    "data.isna().sum()"
   ]
  },
  {
   "cell_type": "markdown",
   "id": "462c1abd",
   "metadata": {},
   "source": [
    "Объединение таблиц успешно, нет пропусков и размер соотвествует ожиданиям"
   ]
  },
  {
   "cell_type": "code",
   "execution_count": 24,
   "id": "cd92946f",
   "metadata": {
    "scrolled": false
   },
   "outputs": [
    {
     "data": {
      "text/html": [
       "<div>\n",
       "<style scoped>\n",
       "    .dataframe tbody tr th:only-of-type {\n",
       "        vertical-align: middle;\n",
       "    }\n",
       "\n",
       "    .dataframe tbody tr th {\n",
       "        vertical-align: top;\n",
       "    }\n",
       "\n",
       "    .dataframe thead th {\n",
       "        text-align: right;\n",
       "    }\n",
       "</style>\n",
       "<table border=\"1\" class=\"dataframe\">\n",
       "  <thead>\n",
       "    <tr style=\"text-align: right;\">\n",
       "      <th></th>\n",
       "      <th>user_id</th>\n",
       "      <th>name</th>\n",
       "      <th>age</th>\n",
       "      <th>city</th>\n",
       "      <th>subscription_type</th>\n",
       "      <th>distance</th>\n",
       "      <th>duration</th>\n",
       "      <th>date</th>\n",
       "      <th>month</th>\n",
       "      <th>minute_price</th>\n",
       "      <th>start_ride_price</th>\n",
       "      <th>subscription_fee</th>\n",
       "    </tr>\n",
       "  </thead>\n",
       "  <tbody>\n",
       "    <tr>\n",
       "      <th>11555</th>\n",
       "      <td>1069</td>\n",
       "      <td>Степан</td>\n",
       "      <td>20</td>\n",
       "      <td>Сочи</td>\n",
       "      <td>free</td>\n",
       "      <td>0.855683</td>\n",
       "      <td>10.001902</td>\n",
       "      <td>2021-01-31</td>\n",
       "      <td>1</td>\n",
       "      <td>8</td>\n",
       "      <td>50</td>\n",
       "      <td>0</td>\n",
       "    </tr>\n",
       "    <tr>\n",
       "      <th>9541</th>\n",
       "      <td>925</td>\n",
       "      <td>Всеволод</td>\n",
       "      <td>28</td>\n",
       "      <td>Ростов-на-Дону</td>\n",
       "      <td>free</td>\n",
       "      <td>2.570787</td>\n",
       "      <td>3.011018</td>\n",
       "      <td>2021-10-19</td>\n",
       "      <td>10</td>\n",
       "      <td>8</td>\n",
       "      <td>50</td>\n",
       "      <td>0</td>\n",
       "    </tr>\n",
       "    <tr>\n",
       "      <th>13690</th>\n",
       "      <td>1223</td>\n",
       "      <td>Злата</td>\n",
       "      <td>22</td>\n",
       "      <td>Тюмень</td>\n",
       "      <td>free</td>\n",
       "      <td>4.329506</td>\n",
       "      <td>4.008958</td>\n",
       "      <td>2021-05-22</td>\n",
       "      <td>5</td>\n",
       "      <td>8</td>\n",
       "      <td>50</td>\n",
       "      <td>0</td>\n",
       "    </tr>\n",
       "    <tr>\n",
       "      <th>8658</th>\n",
       "      <td>861</td>\n",
       "      <td>Мария</td>\n",
       "      <td>27</td>\n",
       "      <td>Краснодар</td>\n",
       "      <td>free</td>\n",
       "      <td>6.784447</td>\n",
       "      <td>6.015656</td>\n",
       "      <td>2021-07-21</td>\n",
       "      <td>7</td>\n",
       "      <td>8</td>\n",
       "      <td>50</td>\n",
       "      <td>0</td>\n",
       "    </tr>\n",
       "    <tr>\n",
       "      <th>7841</th>\n",
       "      <td>796</td>\n",
       "      <td>Алексей</td>\n",
       "      <td>25</td>\n",
       "      <td>Екатеринбург</td>\n",
       "      <td>free</td>\n",
       "      <td>7.097072</td>\n",
       "      <td>10.026614</td>\n",
       "      <td>2021-11-26</td>\n",
       "      <td>11</td>\n",
       "      <td>8</td>\n",
       "      <td>50</td>\n",
       "      <td>0</td>\n",
       "    </tr>\n",
       "    <tr>\n",
       "      <th>...</th>\n",
       "      <td>...</td>\n",
       "      <td>...</td>\n",
       "      <td>...</td>\n",
       "      <td>...</td>\n",
       "      <td>...</td>\n",
       "      <td>...</td>\n",
       "      <td>...</td>\n",
       "      <td>...</td>\n",
       "      <td>...</td>\n",
       "      <td>...</td>\n",
       "      <td>...</td>\n",
       "      <td>...</td>\n",
       "    </tr>\n",
       "    <tr>\n",
       "      <th>17242</th>\n",
       "      <td>1477</td>\n",
       "      <td>Ян</td>\n",
       "      <td>17</td>\n",
       "      <td>Сочи</td>\n",
       "      <td>free</td>\n",
       "      <td>6724.932981</td>\n",
       "      <td>39.361103</td>\n",
       "      <td>2021-01-12</td>\n",
       "      <td>1</td>\n",
       "      <td>8</td>\n",
       "      <td>50</td>\n",
       "      <td>0</td>\n",
       "    </tr>\n",
       "    <tr>\n",
       "      <th>17171</th>\n",
       "      <td>1471</td>\n",
       "      <td>Роман</td>\n",
       "      <td>21</td>\n",
       "      <td>Краснодар</td>\n",
       "      <td>free</td>\n",
       "      <td>6760.940067</td>\n",
       "      <td>32.043760</td>\n",
       "      <td>2021-08-03</td>\n",
       "      <td>8</td>\n",
       "      <td>8</td>\n",
       "      <td>50</td>\n",
       "      <td>0</td>\n",
       "    </tr>\n",
       "    <tr>\n",
       "      <th>15580</th>\n",
       "      <td>1361</td>\n",
       "      <td>Тамерлан</td>\n",
       "      <td>21</td>\n",
       "      <td>Екатеринбург</td>\n",
       "      <td>free</td>\n",
       "      <td>6908.491343</td>\n",
       "      <td>23.816983</td>\n",
       "      <td>2021-03-27</td>\n",
       "      <td>3</td>\n",
       "      <td>8</td>\n",
       "      <td>50</td>\n",
       "      <td>0</td>\n",
       "    </tr>\n",
       "    <tr>\n",
       "      <th>16484</th>\n",
       "      <td>1422</td>\n",
       "      <td>Светлана</td>\n",
       "      <td>33</td>\n",
       "      <td>Тюмень</td>\n",
       "      <td>free</td>\n",
       "      <td>7066.003772</td>\n",
       "      <td>23.619318</td>\n",
       "      <td>2021-02-12</td>\n",
       "      <td>2</td>\n",
       "      <td>8</td>\n",
       "      <td>50</td>\n",
       "      <td>0</td>\n",
       "    </tr>\n",
       "    <tr>\n",
       "      <th>16309</th>\n",
       "      <td>1411</td>\n",
       "      <td>Александр</td>\n",
       "      <td>20</td>\n",
       "      <td>Пятигорск</td>\n",
       "      <td>free</td>\n",
       "      <td>7211.007745</td>\n",
       "      <td>42.206104</td>\n",
       "      <td>2021-04-15</td>\n",
       "      <td>4</td>\n",
       "      <td>8</td>\n",
       "      <td>50</td>\n",
       "      <td>0</td>\n",
       "    </tr>\n",
       "  </tbody>\n",
       "</table>\n",
       "<p>11568 rows × 12 columns</p>\n",
       "</div>"
      ],
      "text/plain": [
       "       user_id       name  age            city subscription_type     distance  \\\n",
       "11555     1069     Степан   20            Сочи              free     0.855683   \n",
       "9541       925   Всеволод   28  Ростов-на-Дону              free     2.570787   \n",
       "13690     1223      Злата   22          Тюмень              free     4.329506   \n",
       "8658       861      Мария   27       Краснодар              free     6.784447   \n",
       "7841       796    Алексей   25    Екатеринбург              free     7.097072   \n",
       "...        ...        ...  ...             ...               ...          ...   \n",
       "17242     1477         Ян   17            Сочи              free  6724.932981   \n",
       "17171     1471      Роман   21       Краснодар              free  6760.940067   \n",
       "15580     1361   Тамерлан   21    Екатеринбург              free  6908.491343   \n",
       "16484     1422   Светлана   33          Тюмень              free  7066.003772   \n",
       "16309     1411  Александр   20       Пятигорск              free  7211.007745   \n",
       "\n",
       "        duration       date  month  minute_price  start_ride_price  \\\n",
       "11555  10.001902 2021-01-31      1             8                50   \n",
       "9541    3.011018 2021-10-19     10             8                50   \n",
       "13690   4.008958 2021-05-22      5             8                50   \n",
       "8658    6.015656 2021-07-21      7             8                50   \n",
       "7841   10.026614 2021-11-26     11             8                50   \n",
       "...          ...        ...    ...           ...               ...   \n",
       "17242  39.361103 2021-01-12      1             8                50   \n",
       "17171  32.043760 2021-08-03      8             8                50   \n",
       "15580  23.816983 2021-03-27      3             8                50   \n",
       "16484  23.619318 2021-02-12      2             8                50   \n",
       "16309  42.206104 2021-04-15      4             8                50   \n",
       "\n",
       "       subscription_fee  \n",
       "11555                 0  \n",
       "9541                  0  \n",
       "13690                 0  \n",
       "8658                  0  \n",
       "7841                  0  \n",
       "...                 ...  \n",
       "17242                 0  \n",
       "17171                 0  \n",
       "15580                 0  \n",
       "16484                 0  \n",
       "16309                 0  \n",
       "\n",
       "[11568 rows x 12 columns]"
      ]
     },
     "execution_count": 24,
     "metadata": {},
     "output_type": "execute_result"
    }
   ],
   "source": [
    "#создадим на основе общего датафрейма датафрейм с данными о пользователях без подписки\n",
    "users_free = data[data['subscription_type'] == 'free']\n",
    "\n",
    "users_free.sort_values('distance')"
   ]
  },
  {
   "cell_type": "code",
   "execution_count": 25,
   "id": "7009583c",
   "metadata": {
    "scrolled": false
   },
   "outputs": [
    {
     "data": {
      "text/html": [
       "<div>\n",
       "<style scoped>\n",
       "    .dataframe tbody tr th:only-of-type {\n",
       "        vertical-align: middle;\n",
       "    }\n",
       "\n",
       "    .dataframe tbody tr th {\n",
       "        vertical-align: top;\n",
       "    }\n",
       "\n",
       "    .dataframe thead th {\n",
       "        text-align: right;\n",
       "    }\n",
       "</style>\n",
       "<table border=\"1\" class=\"dataframe\">\n",
       "  <thead>\n",
       "    <tr style=\"text-align: right;\">\n",
       "      <th></th>\n",
       "      <th>user_id</th>\n",
       "      <th>name</th>\n",
       "      <th>age</th>\n",
       "      <th>city</th>\n",
       "      <th>subscription_type</th>\n",
       "      <th>distance</th>\n",
       "      <th>duration</th>\n",
       "      <th>date</th>\n",
       "      <th>month</th>\n",
       "      <th>minute_price</th>\n",
       "      <th>start_ride_price</th>\n",
       "      <th>subscription_fee</th>\n",
       "    </tr>\n",
       "  </thead>\n",
       "  <tbody>\n",
       "    <tr>\n",
       "      <th>0</th>\n",
       "      <td>1</td>\n",
       "      <td>Кира</td>\n",
       "      <td>22</td>\n",
       "      <td>Тюмень</td>\n",
       "      <td>ultra</td>\n",
       "      <td>4409.919140</td>\n",
       "      <td>25.599769</td>\n",
       "      <td>2021-01-01</td>\n",
       "      <td>1</td>\n",
       "      <td>6</td>\n",
       "      <td>0</td>\n",
       "      <td>199</td>\n",
       "    </tr>\n",
       "    <tr>\n",
       "      <th>1</th>\n",
       "      <td>1</td>\n",
       "      <td>Кира</td>\n",
       "      <td>22</td>\n",
       "      <td>Тюмень</td>\n",
       "      <td>ultra</td>\n",
       "      <td>2617.592153</td>\n",
       "      <td>15.816871</td>\n",
       "      <td>2021-01-18</td>\n",
       "      <td>1</td>\n",
       "      <td>6</td>\n",
       "      <td>0</td>\n",
       "      <td>199</td>\n",
       "    </tr>\n",
       "    <tr>\n",
       "      <th>2</th>\n",
       "      <td>1</td>\n",
       "      <td>Кира</td>\n",
       "      <td>22</td>\n",
       "      <td>Тюмень</td>\n",
       "      <td>ultra</td>\n",
       "      <td>754.159807</td>\n",
       "      <td>6.232113</td>\n",
       "      <td>2021-04-20</td>\n",
       "      <td>4</td>\n",
       "      <td>6</td>\n",
       "      <td>0</td>\n",
       "      <td>199</td>\n",
       "    </tr>\n",
       "    <tr>\n",
       "      <th>3</th>\n",
       "      <td>1</td>\n",
       "      <td>Кира</td>\n",
       "      <td>22</td>\n",
       "      <td>Тюмень</td>\n",
       "      <td>ultra</td>\n",
       "      <td>2694.783254</td>\n",
       "      <td>18.511000</td>\n",
       "      <td>2021-08-11</td>\n",
       "      <td>8</td>\n",
       "      <td>6</td>\n",
       "      <td>0</td>\n",
       "      <td>199</td>\n",
       "    </tr>\n",
       "    <tr>\n",
       "      <th>4</th>\n",
       "      <td>1</td>\n",
       "      <td>Кира</td>\n",
       "      <td>22</td>\n",
       "      <td>Тюмень</td>\n",
       "      <td>ultra</td>\n",
       "      <td>4028.687306</td>\n",
       "      <td>26.265803</td>\n",
       "      <td>2021-08-28</td>\n",
       "      <td>8</td>\n",
       "      <td>6</td>\n",
       "      <td>0</td>\n",
       "      <td>199</td>\n",
       "    </tr>\n",
       "    <tr>\n",
       "      <th>...</th>\n",
       "      <td>...</td>\n",
       "      <td>...</td>\n",
       "      <td>...</td>\n",
       "      <td>...</td>\n",
       "      <td>...</td>\n",
       "      <td>...</td>\n",
       "      <td>...</td>\n",
       "      <td>...</td>\n",
       "      <td>...</td>\n",
       "      <td>...</td>\n",
       "      <td>...</td>\n",
       "      <td>...</td>\n",
       "    </tr>\n",
       "    <tr>\n",
       "      <th>6495</th>\n",
       "      <td>699</td>\n",
       "      <td>Оксана</td>\n",
       "      <td>22</td>\n",
       "      <td>Москва</td>\n",
       "      <td>ultra</td>\n",
       "      <td>3973.046497</td>\n",
       "      <td>24.671163</td>\n",
       "      <td>2021-08-29</td>\n",
       "      <td>8</td>\n",
       "      <td>6</td>\n",
       "      <td>0</td>\n",
       "      <td>199</td>\n",
       "    </tr>\n",
       "    <tr>\n",
       "      <th>6496</th>\n",
       "      <td>699</td>\n",
       "      <td>Оксана</td>\n",
       "      <td>22</td>\n",
       "      <td>Москва</td>\n",
       "      <td>ultra</td>\n",
       "      <td>3288.702563</td>\n",
       "      <td>15.892886</td>\n",
       "      <td>2021-09-12</td>\n",
       "      <td>9</td>\n",
       "      <td>6</td>\n",
       "      <td>0</td>\n",
       "      <td>199</td>\n",
       "    </tr>\n",
       "    <tr>\n",
       "      <th>6497</th>\n",
       "      <td>699</td>\n",
       "      <td>Оксана</td>\n",
       "      <td>22</td>\n",
       "      <td>Москва</td>\n",
       "      <td>ultra</td>\n",
       "      <td>3076.159348</td>\n",
       "      <td>14.389525</td>\n",
       "      <td>2021-09-26</td>\n",
       "      <td>9</td>\n",
       "      <td>6</td>\n",
       "      <td>0</td>\n",
       "      <td>199</td>\n",
       "    </tr>\n",
       "    <tr>\n",
       "      <th>6498</th>\n",
       "      <td>699</td>\n",
       "      <td>Оксана</td>\n",
       "      <td>22</td>\n",
       "      <td>Москва</td>\n",
       "      <td>ultra</td>\n",
       "      <td>4707.845501</td>\n",
       "      <td>15.839579</td>\n",
       "      <td>2021-10-17</td>\n",
       "      <td>10</td>\n",
       "      <td>6</td>\n",
       "      <td>0</td>\n",
       "      <td>199</td>\n",
       "    </tr>\n",
       "    <tr>\n",
       "      <th>6499</th>\n",
       "      <td>699</td>\n",
       "      <td>Оксана</td>\n",
       "      <td>22</td>\n",
       "      <td>Москва</td>\n",
       "      <td>ultra</td>\n",
       "      <td>3202.890770</td>\n",
       "      <td>25.217345</td>\n",
       "      <td>2021-12-03</td>\n",
       "      <td>12</td>\n",
       "      <td>6</td>\n",
       "      <td>0</td>\n",
       "      <td>199</td>\n",
       "    </tr>\n",
       "  </tbody>\n",
       "</table>\n",
       "<p>6500 rows × 12 columns</p>\n",
       "</div>"
      ],
      "text/plain": [
       "      user_id    name  age    city subscription_type     distance   duration  \\\n",
       "0           1    Кира   22  Тюмень             ultra  4409.919140  25.599769   \n",
       "1           1    Кира   22  Тюмень             ultra  2617.592153  15.816871   \n",
       "2           1    Кира   22  Тюмень             ultra   754.159807   6.232113   \n",
       "3           1    Кира   22  Тюмень             ultra  2694.783254  18.511000   \n",
       "4           1    Кира   22  Тюмень             ultra  4028.687306  26.265803   \n",
       "...       ...     ...  ...     ...               ...          ...        ...   \n",
       "6495      699  Оксана   22  Москва             ultra  3973.046497  24.671163   \n",
       "6496      699  Оксана   22  Москва             ultra  3288.702563  15.892886   \n",
       "6497      699  Оксана   22  Москва             ultra  3076.159348  14.389525   \n",
       "6498      699  Оксана   22  Москва             ultra  4707.845501  15.839579   \n",
       "6499      699  Оксана   22  Москва             ultra  3202.890770  25.217345   \n",
       "\n",
       "           date  month  minute_price  start_ride_price  subscription_fee  \n",
       "0    2021-01-01      1             6                 0               199  \n",
       "1    2021-01-18      1             6                 0               199  \n",
       "2    2021-04-20      4             6                 0               199  \n",
       "3    2021-08-11      8             6                 0               199  \n",
       "4    2021-08-28      8             6                 0               199  \n",
       "...         ...    ...           ...               ...               ...  \n",
       "6495 2021-08-29      8             6                 0               199  \n",
       "6496 2021-09-12      9             6                 0               199  \n",
       "6497 2021-09-26      9             6                 0               199  \n",
       "6498 2021-10-17     10             6                 0               199  \n",
       "6499 2021-12-03     12             6                 0               199  \n",
       "\n",
       "[6500 rows x 12 columns]"
      ]
     },
     "execution_count": 25,
     "metadata": {},
     "output_type": "execute_result"
    }
   ],
   "source": [
    "#создадим на основе общего датафрейма датафрейм с данными о пользователях с подпиской\n",
    "users_ultra = data[data['subscription_type'] == 'ultra']\n",
    "\n",
    "users_ultra "
   ]
  },
  {
   "cell_type": "markdown",
   "id": "ec33a8a5",
   "metadata": {},
   "source": [
    "Визуализируем информацию о расстоянии и времени поездок для пользователей обеих категорий"
   ]
  },
  {
   "cell_type": "code",
   "execution_count": 43,
   "id": "4ebebc6c",
   "metadata": {},
   "outputs": [
    {
     "data": {
      "image/png": "[encoded data removed]",
      "text/plain": [
       "<Figure size 432x288 with 1 Axes>"
      ]
     },
     "metadata": {
      "needs_background": "light"
     },
     "output_type": "display_data"
    }
   ],
   "source": [
    "ax = users_free.plot(kind='hist', y='distance', histtype='step', range=(500, 7500), bins=10,\n",
    "                              linewidth=3, alpha=0.5, label='free')\n",
    "users_ultra.plot(kind='hist', y='distance', histtype='step', range=(500, 7500), bins=10,\n",
    "                       linewidth=3, alpha=0.5, label='ultra', \n",
    "                 ax=ax, grid=True, legend=True)\n",
    "\n",
    "plt.title('Распределение дистанций по категориям')\n",
    "plt.xlabel('Расстояние, м')\n",
    "plt.ylabel('Количество пользователей')\n",
    "plt.axvline(x=np.median(users_free['distance']), linewidth=2, linestyle='--', color='blue')\n",
    "plt.axvline(x=np.median(users_ultra['distance']), linewidth=2, linestyle='--', color='orange')\n",
    "plt.legend(('медиана users_free', 'медиана users_ultra', 'users_free', 'users_ultra'))\n",
    "plt.show()"
   ]
  },
  {
   "cell_type": "code",
   "execution_count": 27,
   "id": "d16886dc",
   "metadata": {},
   "outputs": [
    {
     "data": {
      "image/png": "[encoded data removed]",
      "text/plain": [
       "<Figure size 432x288 with 1 Axes>"
      ]
     },
     "metadata": {
      "needs_background": "light"
     },
     "output_type": "display_data"
    }
   ],
   "source": [
    "ax = users_free.plot(kind='hist', y='duration', histtype='step', range=(0, 40), bins=10,\n",
    "                              linewidth=3, alpha=0.5, label='free')\n",
    "users_ultra.plot(kind='hist', y='duration', histtype='step', range=(0, 40), bins=10,\n",
    "                       linewidth=3, alpha=0.5, label='ultra', \n",
    "                 ax=ax, grid=True, legend=True)\n",
    "\n",
    "plt.title('Распределение длительности поездок по категориям')\n",
    "plt.xlabel('Длительность, мин')\n",
    "plt.ylabel('Количество пользователей')\n",
    "plt.axvline(x=np.median(users_free['duration']), linewidth=2, linestyle='--', color='blue')\n",
    "plt.axvline(x=np.median(users_ultra['duration']), linewidth=2, linestyle='--', color='orange')\n",
    "plt.show()"
   ]
  },
  {
   "cell_type": "markdown",
   "id": "71969d61",
   "metadata": {},
   "source": [
    "Медианное расстояние пользователей с подпиской и без примерно одинаково и составляет 3,1-3,2км. \n",
    "Медианное время поездки пользователей с подпиской и без примерно одинаково и составляет 17-18 минут. "
   ]
  },
  {
   "cell_type": "markdown",
   "id": "402d620f",
   "metadata": {},
   "source": [
    "#### Шаг 5. Подсчёт выручки"
   ]
  },
  {
   "cell_type": "code",
   "execution_count": 28,
   "id": "3972dc62",
   "metadata": {},
   "outputs": [
    {
     "data": {
      "text/html": [
       "<div>\n",
       "<style scoped>\n",
       "    .dataframe tbody tr th:only-of-type {\n",
       "        vertical-align: middle;\n",
       "    }\n",
       "\n",
       "    .dataframe tbody tr th {\n",
       "        vertical-align: top;\n",
       "    }\n",
       "\n",
       "    .dataframe thead th {\n",
       "        text-align: right;\n",
       "    }\n",
       "</style>\n",
       "<table border=\"1\" class=\"dataframe\">\n",
       "  <thead>\n",
       "    <tr style=\"text-align: right;\">\n",
       "      <th></th>\n",
       "      <th></th>\n",
       "      <th>суммарное_расстояние</th>\n",
       "      <th>количество_поездок</th>\n",
       "      <th>суммарное_время</th>\n",
       "      <th>стоимость_минуты</th>\n",
       "      <th>стоимость_начала_поездки</th>\n",
       "      <th>стоимость_подписки</th>\n",
       "    </tr>\n",
       "    <tr>\n",
       "      <th>month</th>\n",
       "      <th>user_id</th>\n",
       "      <th></th>\n",
       "      <th></th>\n",
       "      <th></th>\n",
       "      <th></th>\n",
       "      <th></th>\n",
       "      <th></th>\n",
       "    </tr>\n",
       "  </thead>\n",
       "  <tbody>\n",
       "    <tr>\n",
       "      <th rowspan=\"20\" valign=\"top\">1</th>\n",
       "      <th>1</th>\n",
       "      <td>7027.511294</td>\n",
       "      <td>2</td>\n",
       "      <td>42.0</td>\n",
       "      <td>6</td>\n",
       "      <td>0</td>\n",
       "      <td>199</td>\n",
       "    </tr>\n",
       "    <tr>\n",
       "      <th>3</th>\n",
       "      <td>3061.777147</td>\n",
       "      <td>1</td>\n",
       "      <td>13.0</td>\n",
       "      <td>6</td>\n",
       "      <td>0</td>\n",
       "      <td>199</td>\n",
       "    </tr>\n",
       "    <tr>\n",
       "      <th>5</th>\n",
       "      <td>3914.646990</td>\n",
       "      <td>1</td>\n",
       "      <td>13.0</td>\n",
       "      <td>6</td>\n",
       "      <td>0</td>\n",
       "      <td>199</td>\n",
       "    </tr>\n",
       "    <tr>\n",
       "      <th>7</th>\n",
       "      <td>6478.080979</td>\n",
       "      <td>2</td>\n",
       "      <td>28.0</td>\n",
       "      <td>6</td>\n",
       "      <td>0</td>\n",
       "      <td>199</td>\n",
       "    </tr>\n",
       "    <tr>\n",
       "      <th>12</th>\n",
       "      <td>3577.151148</td>\n",
       "      <td>1</td>\n",
       "      <td>33.0</td>\n",
       "      <td>6</td>\n",
       "      <td>0</td>\n",
       "      <td>199</td>\n",
       "    </tr>\n",
       "    <tr>\n",
       "      <th>13</th>\n",
       "      <td>6687.987446</td>\n",
       "      <td>2</td>\n",
       "      <td>42.0</td>\n",
       "      <td>6</td>\n",
       "      <td>0</td>\n",
       "      <td>199</td>\n",
       "    </tr>\n",
       "    <tr>\n",
       "      <th>14</th>\n",
       "      <td>7699.643820</td>\n",
       "      <td>2</td>\n",
       "      <td>35.0</td>\n",
       "      <td>6</td>\n",
       "      <td>0</td>\n",
       "      <td>199</td>\n",
       "    </tr>\n",
       "    <tr>\n",
       "      <th>15</th>\n",
       "      <td>4187.621459</td>\n",
       "      <td>1</td>\n",
       "      <td>39.0</td>\n",
       "      <td>6</td>\n",
       "      <td>0</td>\n",
       "      <td>199</td>\n",
       "    </tr>\n",
       "    <tr>\n",
       "      <th>20</th>\n",
       "      <td>3516.719208</td>\n",
       "      <td>1</td>\n",
       "      <td>29.0</td>\n",
       "      <td>6</td>\n",
       "      <td>0</td>\n",
       "      <td>199</td>\n",
       "    </tr>\n",
       "    <tr>\n",
       "      <th>22</th>\n",
       "      <td>3058.692225</td>\n",
       "      <td>1</td>\n",
       "      <td>13.0</td>\n",
       "      <td>6</td>\n",
       "      <td>0</td>\n",
       "      <td>199</td>\n",
       "    </tr>\n",
       "    <tr>\n",
       "      <th>25</th>\n",
       "      <td>3440.353053</td>\n",
       "      <td>1</td>\n",
       "      <td>17.0</td>\n",
       "      <td>6</td>\n",
       "      <td>0</td>\n",
       "      <td>199</td>\n",
       "    </tr>\n",
       "    <tr>\n",
       "      <th>26</th>\n",
       "      <td>6545.964099</td>\n",
       "      <td>2</td>\n",
       "      <td>28.0</td>\n",
       "      <td>6</td>\n",
       "      <td>0</td>\n",
       "      <td>199</td>\n",
       "    </tr>\n",
       "    <tr>\n",
       "      <th>30</th>\n",
       "      <td>7774.720501</td>\n",
       "      <td>2</td>\n",
       "      <td>25.0</td>\n",
       "      <td>6</td>\n",
       "      <td>0</td>\n",
       "      <td>199</td>\n",
       "    </tr>\n",
       "    <tr>\n",
       "      <th>32</th>\n",
       "      <td>3734.993902</td>\n",
       "      <td>1</td>\n",
       "      <td>25.0</td>\n",
       "      <td>6</td>\n",
       "      <td>0</td>\n",
       "      <td>199</td>\n",
       "    </tr>\n",
       "    <tr>\n",
       "      <th>35</th>\n",
       "      <td>9707.810053</td>\n",
       "      <td>3</td>\n",
       "      <td>57.0</td>\n",
       "      <td>6</td>\n",
       "      <td>0</td>\n",
       "      <td>199</td>\n",
       "    </tr>\n",
       "    <tr>\n",
       "      <th>42</th>\n",
       "      <td>4329.769187</td>\n",
       "      <td>1</td>\n",
       "      <td>23.0</td>\n",
       "      <td>6</td>\n",
       "      <td>0</td>\n",
       "      <td>199</td>\n",
       "    </tr>\n",
       "    <tr>\n",
       "      <th>43</th>\n",
       "      <td>6322.206034</td>\n",
       "      <td>2</td>\n",
       "      <td>48.0</td>\n",
       "      <td>6</td>\n",
       "      <td>0</td>\n",
       "      <td>199</td>\n",
       "    </tr>\n",
       "    <tr>\n",
       "      <th>44</th>\n",
       "      <td>2944.410629</td>\n",
       "      <td>2</td>\n",
       "      <td>19.0</td>\n",
       "      <td>6</td>\n",
       "      <td>0</td>\n",
       "      <td>199</td>\n",
       "    </tr>\n",
       "    <tr>\n",
       "      <th>45</th>\n",
       "      <td>3702.424319</td>\n",
       "      <td>2</td>\n",
       "      <td>27.0</td>\n",
       "      <td>6</td>\n",
       "      <td>0</td>\n",
       "      <td>199</td>\n",
       "    </tr>\n",
       "    <tr>\n",
       "      <th>46</th>\n",
       "      <td>3242.092435</td>\n",
       "      <td>1</td>\n",
       "      <td>20.0</td>\n",
       "      <td>6</td>\n",
       "      <td>0</td>\n",
       "      <td>199</td>\n",
       "    </tr>\n",
       "  </tbody>\n",
       "</table>\n",
       "</div>"
      ],
      "text/plain": [
       "               суммарное_расстояние  количество_поездок  суммарное_время  \\\n",
       "month user_id                                                              \n",
       "1     1                 7027.511294                   2             42.0   \n",
       "      3                 3061.777147                   1             13.0   \n",
       "      5                 3914.646990                   1             13.0   \n",
       "      7                 6478.080979                   2             28.0   \n",
       "      12                3577.151148                   1             33.0   \n",
       "      13                6687.987446                   2             42.0   \n",
       "      14                7699.643820                   2             35.0   \n",
       "      15                4187.621459                   1             39.0   \n",
       "      20                3516.719208                   1             29.0   \n",
       "      22                3058.692225                   1             13.0   \n",
       "      25                3440.353053                   1             17.0   \n",
       "      26                6545.964099                   2             28.0   \n",
       "      30                7774.720501                   2             25.0   \n",
       "      32                3734.993902                   1             25.0   \n",
       "      35                9707.810053                   3             57.0   \n",
       "      42                4329.769187                   1             23.0   \n",
       "      43                6322.206034                   2             48.0   \n",
       "      44                2944.410629                   2             19.0   \n",
       "      45                3702.424319                   2             27.0   \n",
       "      46                3242.092435                   1             20.0   \n",
       "\n",
       "               стоимость_минуты  стоимость_начала_поездки  стоимость_подписки  \n",
       "month user_id                                                                  \n",
       "1     1                       6                         0                 199  \n",
       "      3                       6                         0                 199  \n",
       "      5                       6                         0                 199  \n",
       "      7                       6                         0                 199  \n",
       "      12                      6                         0                 199  \n",
       "      13                      6                         0                 199  \n",
       "      14                      6                         0                 199  \n",
       "      15                      6                         0                 199  \n",
       "      20                      6                         0                 199  \n",
       "      22                      6                         0                 199  \n",
       "      25                      6                         0                 199  \n",
       "      26                      6                         0                 199  \n",
       "      30                      6                         0                 199  \n",
       "      32                      6                         0                 199  \n",
       "      35                      6                         0                 199  \n",
       "      42                      6                         0                 199  \n",
       "      43                      6                         0                 199  \n",
       "      44                      6                         0                 199  \n",
       "      45                      6                         0                 199  \n",
       "      46                      6                         0                 199  "
      ]
     },
     "execution_count": 28,
     "metadata": {},
     "output_type": "execute_result"
    }
   ],
   "source": [
    "#Создадим датафрейм с агрегированными данными о поездках\n",
    "\n",
    "#для подсчета стоимости округлим продолжительность поездок до целых минут\n",
    "data['duration'] = np.ceil(data['duration']) \n",
    "\n",
    "#создаем сводную таблицу\n",
    "data_pivot = data.pivot_table(index=['month', \n",
    "                                     'user_id'], \n",
    "                              values=['distance',\n",
    "                                      'duration', \n",
    "                                      'subscription_fee', \n",
    "                                      'start_ride_price', \n",
    "                                      'minute_price'], \n",
    "                              aggfunc={'distance':'sum', \n",
    "                                       'duration':['sum', 'count'], \n",
    "                                       'subscription_fee': 'mean', \n",
    "                                       'start_ride_price': 'mean',\n",
    "                                       'minute_price': 'mean'\n",
    "                                      })\n",
    "#переименовываем столбцы\n",
    "data_pivot.columns = ['суммарное_расстояние', \n",
    "                      'количество_поездок', \n",
    "                      'суммарное_время', \n",
    "                      'стоимость_минуты', \n",
    "                      'стоимость_начала_поездки', \n",
    "                      'стоимость_подписки']\n",
    "\n",
    "#выведем начало таблицы\n",
    "data_pivot.head(20)"
   ]
  },
  {
   "cell_type": "code",
   "execution_count": 29,
   "id": "0e8c804d",
   "metadata": {},
   "outputs": [
    {
     "data": {
      "text/html": [
       "<div>\n",
       "<style scoped>\n",
       "    .dataframe tbody tr th:only-of-type {\n",
       "        vertical-align: middle;\n",
       "    }\n",
       "\n",
       "    .dataframe tbody tr th {\n",
       "        vertical-align: top;\n",
       "    }\n",
       "\n",
       "    .dataframe thead th {\n",
       "        text-align: right;\n",
       "    }\n",
       "</style>\n",
       "<table border=\"1\" class=\"dataframe\">\n",
       "  <thead>\n",
       "    <tr style=\"text-align: right;\">\n",
       "      <th></th>\n",
       "      <th></th>\n",
       "      <th>суммарное_расстояние</th>\n",
       "      <th>количество_поездок</th>\n",
       "      <th>суммарное_время</th>\n",
       "      <th>стоимость_минуты</th>\n",
       "      <th>стоимость_начала_поездки</th>\n",
       "      <th>стоимость_подписки</th>\n",
       "      <th>выручка</th>\n",
       "    </tr>\n",
       "    <tr>\n",
       "      <th>month</th>\n",
       "      <th>user_id</th>\n",
       "      <th></th>\n",
       "      <th></th>\n",
       "      <th></th>\n",
       "      <th></th>\n",
       "      <th></th>\n",
       "      <th></th>\n",
       "      <th></th>\n",
       "    </tr>\n",
       "  </thead>\n",
       "  <tbody>\n",
       "    <tr>\n",
       "      <th rowspan=\"20\" valign=\"top\">1</th>\n",
       "      <th>1</th>\n",
       "      <td>7027.511294</td>\n",
       "      <td>2</td>\n",
       "      <td>42.0</td>\n",
       "      <td>6</td>\n",
       "      <td>0</td>\n",
       "      <td>199</td>\n",
       "      <td>451.0</td>\n",
       "    </tr>\n",
       "    <tr>\n",
       "      <th>3</th>\n",
       "      <td>3061.777147</td>\n",
       "      <td>1</td>\n",
       "      <td>13.0</td>\n",
       "      <td>6</td>\n",
       "      <td>0</td>\n",
       "      <td>199</td>\n",
       "      <td>277.0</td>\n",
       "    </tr>\n",
       "    <tr>\n",
       "      <th>5</th>\n",
       "      <td>3914.646990</td>\n",
       "      <td>1</td>\n",
       "      <td>13.0</td>\n",
       "      <td>6</td>\n",
       "      <td>0</td>\n",
       "      <td>199</td>\n",
       "      <td>277.0</td>\n",
       "    </tr>\n",
       "    <tr>\n",
       "      <th>7</th>\n",
       "      <td>6478.080979</td>\n",
       "      <td>2</td>\n",
       "      <td>28.0</td>\n",
       "      <td>6</td>\n",
       "      <td>0</td>\n",
       "      <td>199</td>\n",
       "      <td>367.0</td>\n",
       "    </tr>\n",
       "    <tr>\n",
       "      <th>12</th>\n",
       "      <td>3577.151148</td>\n",
       "      <td>1</td>\n",
       "      <td>33.0</td>\n",
       "      <td>6</td>\n",
       "      <td>0</td>\n",
       "      <td>199</td>\n",
       "      <td>397.0</td>\n",
       "    </tr>\n",
       "    <tr>\n",
       "      <th>13</th>\n",
       "      <td>6687.987446</td>\n",
       "      <td>2</td>\n",
       "      <td>42.0</td>\n",
       "      <td>6</td>\n",
       "      <td>0</td>\n",
       "      <td>199</td>\n",
       "      <td>451.0</td>\n",
       "    </tr>\n",
       "    <tr>\n",
       "      <th>14</th>\n",
       "      <td>7699.643820</td>\n",
       "      <td>2</td>\n",
       "      <td>35.0</td>\n",
       "      <td>6</td>\n",
       "      <td>0</td>\n",
       "      <td>199</td>\n",
       "      <td>409.0</td>\n",
       "    </tr>\n",
       "    <tr>\n",
       "      <th>15</th>\n",
       "      <td>4187.621459</td>\n",
       "      <td>1</td>\n",
       "      <td>39.0</td>\n",
       "      <td>6</td>\n",
       "      <td>0</td>\n",
       "      <td>199</td>\n",
       "      <td>433.0</td>\n",
       "    </tr>\n",
       "    <tr>\n",
       "      <th>20</th>\n",
       "      <td>3516.719208</td>\n",
       "      <td>1</td>\n",
       "      <td>29.0</td>\n",
       "      <td>6</td>\n",
       "      <td>0</td>\n",
       "      <td>199</td>\n",
       "      <td>373.0</td>\n",
       "    </tr>\n",
       "    <tr>\n",
       "      <th>22</th>\n",
       "      <td>3058.692225</td>\n",
       "      <td>1</td>\n",
       "      <td>13.0</td>\n",
       "      <td>6</td>\n",
       "      <td>0</td>\n",
       "      <td>199</td>\n",
       "      <td>277.0</td>\n",
       "    </tr>\n",
       "    <tr>\n",
       "      <th>25</th>\n",
       "      <td>3440.353053</td>\n",
       "      <td>1</td>\n",
       "      <td>17.0</td>\n",
       "      <td>6</td>\n",
       "      <td>0</td>\n",
       "      <td>199</td>\n",
       "      <td>301.0</td>\n",
       "    </tr>\n",
       "    <tr>\n",
       "      <th>26</th>\n",
       "      <td>6545.964099</td>\n",
       "      <td>2</td>\n",
       "      <td>28.0</td>\n",
       "      <td>6</td>\n",
       "      <td>0</td>\n",
       "      <td>199</td>\n",
       "      <td>367.0</td>\n",
       "    </tr>\n",
       "    <tr>\n",
       "      <th>30</th>\n",
       "      <td>7774.720501</td>\n",
       "      <td>2</td>\n",
       "      <td>25.0</td>\n",
       "      <td>6</td>\n",
       "      <td>0</td>\n",
       "      <td>199</td>\n",
       "      <td>349.0</td>\n",
       "    </tr>\n",
       "    <tr>\n",
       "      <th>32</th>\n",
       "      <td>3734.993902</td>\n",
       "      <td>1</td>\n",
       "      <td>25.0</td>\n",
       "      <td>6</td>\n",
       "      <td>0</td>\n",
       "      <td>199</td>\n",
       "      <td>349.0</td>\n",
       "    </tr>\n",
       "    <tr>\n",
       "      <th>35</th>\n",
       "      <td>9707.810053</td>\n",
       "      <td>3</td>\n",
       "      <td>57.0</td>\n",
       "      <td>6</td>\n",
       "      <td>0</td>\n",
       "      <td>199</td>\n",
       "      <td>541.0</td>\n",
       "    </tr>\n",
       "    <tr>\n",
       "      <th>42</th>\n",
       "      <td>4329.769187</td>\n",
       "      <td>1</td>\n",
       "      <td>23.0</td>\n",
       "      <td>6</td>\n",
       "      <td>0</td>\n",
       "      <td>199</td>\n",
       "      <td>337.0</td>\n",
       "    </tr>\n",
       "    <tr>\n",
       "      <th>43</th>\n",
       "      <td>6322.206034</td>\n",
       "      <td>2</td>\n",
       "      <td>48.0</td>\n",
       "      <td>6</td>\n",
       "      <td>0</td>\n",
       "      <td>199</td>\n",
       "      <td>487.0</td>\n",
       "    </tr>\n",
       "    <tr>\n",
       "      <th>44</th>\n",
       "      <td>2944.410629</td>\n",
       "      <td>2</td>\n",
       "      <td>19.0</td>\n",
       "      <td>6</td>\n",
       "      <td>0</td>\n",
       "      <td>199</td>\n",
       "      <td>313.0</td>\n",
       "    </tr>\n",
       "    <tr>\n",
       "      <th>45</th>\n",
       "      <td>3702.424319</td>\n",
       "      <td>2</td>\n",
       "      <td>27.0</td>\n",
       "      <td>6</td>\n",
       "      <td>0</td>\n",
       "      <td>199</td>\n",
       "      <td>361.0</td>\n",
       "    </tr>\n",
       "    <tr>\n",
       "      <th>46</th>\n",
       "      <td>3242.092435</td>\n",
       "      <td>1</td>\n",
       "      <td>20.0</td>\n",
       "      <td>6</td>\n",
       "      <td>0</td>\n",
       "      <td>199</td>\n",
       "      <td>319.0</td>\n",
       "    </tr>\n",
       "  </tbody>\n",
       "</table>\n",
       "</div>"
      ],
      "text/plain": [
       "               суммарное_расстояние  количество_поездок  суммарное_время  \\\n",
       "month user_id                                                              \n",
       "1     1                 7027.511294                   2             42.0   \n",
       "      3                 3061.777147                   1             13.0   \n",
       "      5                 3914.646990                   1             13.0   \n",
       "      7                 6478.080979                   2             28.0   \n",
       "      12                3577.151148                   1             33.0   \n",
       "      13                6687.987446                   2             42.0   \n",
       "      14                7699.643820                   2             35.0   \n",
       "      15                4187.621459                   1             39.0   \n",
       "      20                3516.719208                   1             29.0   \n",
       "      22                3058.692225                   1             13.0   \n",
       "      25                3440.353053                   1             17.0   \n",
       "      26                6545.964099                   2             28.0   \n",
       "      30                7774.720501                   2             25.0   \n",
       "      32                3734.993902                   1             25.0   \n",
       "      35                9707.810053                   3             57.0   \n",
       "      42                4329.769187                   1             23.0   \n",
       "      43                6322.206034                   2             48.0   \n",
       "      44                2944.410629                   2             19.0   \n",
       "      45                3702.424319                   2             27.0   \n",
       "      46                3242.092435                   1             20.0   \n",
       "\n",
       "               стоимость_минуты  стоимость_начала_поездки  стоимость_подписки  \\\n",
       "month user_id                                                                   \n",
       "1     1                       6                         0                 199   \n",
       "      3                       6                         0                 199   \n",
       "      5                       6                         0                 199   \n",
       "      7                       6                         0                 199   \n",
       "      12                      6                         0                 199   \n",
       "      13                      6                         0                 199   \n",
       "      14                      6                         0                 199   \n",
       "      15                      6                         0                 199   \n",
       "      20                      6                         0                 199   \n",
       "      22                      6                         0                 199   \n",
       "      25                      6                         0                 199   \n",
       "      26                      6                         0                 199   \n",
       "      30                      6                         0                 199   \n",
       "      32                      6                         0                 199   \n",
       "      35                      6                         0                 199   \n",
       "      42                      6                         0                 199   \n",
       "      43                      6                         0                 199   \n",
       "      44                      6                         0                 199   \n",
       "      45                      6                         0                 199   \n",
       "      46                      6                         0                 199   \n",
       "\n",
       "               выручка  \n",
       "month user_id           \n",
       "1     1          451.0  \n",
       "      3          277.0  \n",
       "      5          277.0  \n",
       "      7          367.0  \n",
       "      12         397.0  \n",
       "      13         451.0  \n",
       "      14         409.0  \n",
       "      15         433.0  \n",
       "      20         373.0  \n",
       "      22         277.0  \n",
       "      25         301.0  \n",
       "      26         367.0  \n",
       "      30         349.0  \n",
       "      32         349.0  \n",
       "      35         541.0  \n",
       "      42         337.0  \n",
       "      43         487.0  \n",
       "      44         313.0  \n",
       "      45         361.0  \n",
       "      46         319.0  "
      ]
     },
     "execution_count": 29,
     "metadata": {},
     "output_type": "execute_result"
    }
   ],
   "source": [
    "#добавим столбец с помесячной выручкой, которую принёс каждый пользователь\n",
    "data_pivot['выручка'] = (data_pivot['стоимость_начала_поездки'] * data_pivot['количество_поездок'] \n",
    "                  + data_pivot['стоимость_минуты'] * data_pivot['суммарное_время']\n",
    "                  + data_pivot['стоимость_подписки'])\n",
    "#выведем начало таблицы\n",
    "data_pivot.head(20)"
   ]
  },
  {
   "cell_type": "markdown",
   "id": "41545ac0",
   "metadata": {},
   "source": [
    "#### Шаг 6. Проверка гипотез"
   ]
  },
  {
   "cell_type": "markdown",
   "id": "a03de383",
   "metadata": {},
   "source": [
    "Проверим гипотезу о том, тратят ли пользователи с подпиской больше времени на поездки"
   ]
  },
  {
   "cell_type": "code",
   "execution_count": 32,
   "id": "5b8b1ed9",
   "metadata": {
    "scrolled": false
   },
   "outputs": [
    {
     "name": "stdout",
     "output_type": "stream",
     "text": [
      "среднее первой выборки:17.632576846581223\n",
      "среднее второй выборки:18.54198516280583\n",
      "p-значение: 9.917862480986927e-23\n",
      "Отвергаем нулевую гипотезу\n"
     ]
    }
   ],
   "source": [
    "print(f'среднее первой выборки:{np.mean(users_free[\"duration\"])}')\n",
    "\n",
    "print(f'среднее второй выборки:{np.mean(users_ultra[\"duration\"])}')\n",
    "\n",
    "# задаем уровень значимости\n",
    "alpha = 0.05\n",
    "\n",
    "# проводим ttest для двух выборок, в качестве альтернативной используем одностороннюю гипотезу «меньше»\n",
    "results = st.ttest_ind(\n",
    "    users_free['duration'],\n",
    "    users_ultra['duration'],\n",
    "    alternative='less')\n",
    "\n",
    "print('p-значение:', results.pvalue)\n",
    "\n",
    "# проверяем p-value\n",
    "if results.pvalue < alpha:\n",
    "    print('Отвергаем нулевую гипотезу')\n",
    "else:\n",
    "    print('Не получилось отвергнуть нулевую гипотезу')"
   ]
  },
  {
   "cell_type": "markdown",
   "id": "19c6a1db",
   "metadata": {},
   "source": [
    "Полученное значение p-value меньше заданного уровня значимости, поэтому можно отвергнуть нулевую гипотезу. Можно сделать вывод, что пользователи с подпиской тратят больше времени на поездки."
   ]
  },
  {
   "cell_type": "markdown",
   "id": "69a35761",
   "metadata": {},
   "source": [
    "Проверим гипотезу о том, что среднее расстояние, которое проезжают пользователи с подпиской за одну поездку, не превышает 3130 метров."
   ]
  },
  {
   "cell_type": "code",
   "execution_count": 33,
   "id": "71d74d74",
   "metadata": {
    "scrolled": true
   },
   "outputs": [
    {
     "name": "stdout",
     "output_type": "stream",
     "text": [
      "среднее выборки: 3115.4453880370247\n",
      "p-значение: 0.9195368847849785\n",
      "Не получилось отвергнуть нулевую гипотезу\n"
     ]
    }
   ],
   "source": [
    "print('среднее выборки:', users_ultra['distance'].mean())\n",
    "\n",
    "# какое расстояние не должно быть превышено\n",
    "value = 3130\n",
    "\n",
    "# задаем уровень значимости\n",
    "alpha = 0.05\n",
    "\n",
    "# проводим ttest для выборки, в качестве альтернативной используем одностороннюю гипотезу «больше»\n",
    "results = st.ttest_1samp(\n",
    "    users_ultra['distance'],\n",
    "    value,\n",
    "    alternative='greater')\n",
    "\n",
    "print('p-значение:', results.pvalue)\n",
    "\n",
    "# проверяем p-value\n",
    "if results.pvalue < alpha:\n",
    "    print('Отвергаем нулевую гипотезу')\n",
    "else:\n",
    "    print('Не получилось отвергнуть нулевую гипотезу')"
   ]
  },
  {
   "cell_type": "markdown",
   "id": "8899345d",
   "metadata": {},
   "source": [
    "Полученное значение p-value больше заданного уровня значимости, поэтому отвергнуть нулевую гипотезу нельзя. Можно сделать вывод, что среднее расстояние, которое проезжают пользователи с подпиской за одну поездку, не превышает 3130 метров"
   ]
  },
  {
   "cell_type": "markdown",
   "id": "4fe9511c",
   "metadata": {},
   "source": [
    "Проверим гипотезу о том, будет ли помесячная выручка от пользователей с подпиской по месяцам выше, чем выручка от пользователей без подписки. "
   ]
  },
  {
   "cell_type": "code",
   "execution_count": 34,
   "id": "9dbf82f4",
   "metadata": {},
   "outputs": [
    {
     "name": "stdout",
     "output_type": "stream",
     "text": [
      "среднее первой выборки:331.9293909973522\n",
      "среднее второй выборки:362.7921906022502\n",
      "p-значение: 9.391432442479095e-26\n",
      "Отвергаем нулевую гипотезу\n"
     ]
    }
   ],
   "source": [
    "#создадим датафреймы с помесячной выручкой у пользователей с подпиской и без\n",
    "data_income_ultra = data_pivot.query('стоимость_подписки == 199')\n",
    "data_income_free = data_pivot.query('стоимость_подписки == 0')\n",
    "\n",
    "print(f'среднее первой выборки:{np.mean(data_income_free[\"выручка\"])}')\n",
    "\n",
    "print(f'среднее второй выборки:{np.mean(data_income_ultra[\"выручка\"])}')\n",
    "\n",
    "# задаем уровень значимости\n",
    "alpha = 0.05\n",
    "\n",
    "# проводим ttest для двух выборок, в качестве альтернативной используем одностороннюю гипотезу «меньше»\n",
    "results = st.ttest_ind(\n",
    "    data_income_free['выручка'],\n",
    "    data_income_ultra['выручка'],\n",
    "    alternative='less')\n",
    "\n",
    "print('p-значение:', results.pvalue)\n",
    "\n",
    "# проверяем p-value\n",
    "if results.pvalue < alpha:\n",
    "    print('Отвергаем нулевую гипотезу')\n",
    "else:\n",
    "    print('Не получилось отвергнуть нулевую гипотезу')"
   ]
  },
  {
   "cell_type": "markdown",
   "id": "61213c5e",
   "metadata": {},
   "source": [
    "#### Шаг 7. Распределения"
   ]
  },
  {
   "cell_type": "markdown",
   "id": "2aecd671",
   "metadata": {},
   "source": [
    "**7.1** Отделу маркетинга GoFast поставили задачу: нужно провести акцию с раздачей промокодов на один бесплатный месяц подписки, в рамках которой как минимум 100 существующих клиентов должны продлить эту подписку. То есть по завершении периода действия подписки пользователь может либо отказаться от неё, либо продлить, совершив соответствующий платёж. \n",
    "Эта акция уже проводилась ранее и по итогу выяснилось, что после бесплатного пробного периода подписку продлевают 10 % пользователей. Выясните, какое минимальное количество промокодов нужно разослать, чтобы вероятность не выполнить план была примерно 5 %. Подберите параметры распределения, описывающего эту ситуацию, постройте график распределения и сформулируйте ответ на вопрос о количестве промокодов."
   ]
  },
  {
   "cell_type": "code",
   "execution_count": 59,
   "id": "a30a0f2e",
   "metadata": {},
   "outputs": [
    {
     "data": {
      "text/plain": [
       "0.0507443655394362"
      ]
     },
     "execution_count": 59,
     "metadata": {},
     "output_type": "execute_result"
    }
   ],
   "source": [
    "st.binom(1160, 0.1).cdf(99) "
   ]
  },
  {
   "cell_type": "markdown",
   "id": "3b8b09a7",
   "metadata": {},
   "source": [
    "<div class=\"alert alert-info\"> <b>Комментарий студента:</b> Попробовала просчитать количество нужных промокодов с помощью биноминального распределения. Получила новый ответ - нужно разослать минимум 1160 промокодов, чтобы вероятность не выполнить план была примерно 5%. \n",
    "</div>"
   ]
  },
  {
   "cell_type": "code",
   "execution_count": 37,
   "id": "5965e57f",
   "metadata": {},
   "outputs": [
    {
     "name": "stdout",
     "output_type": "stream",
     "text": [
      "0.04048226246214656\n"
     ]
    }
   ],
   "source": [
    "n = 1169 # количество попыток\n",
    "p = 0.1 # вероятность успеха\n",
    "\n",
    "# зададим мат.ожидание и ст.отклонение нормального распределения равными\n",
    "# мат.ожиданию и ст.отклонению биномиального распределения\n",
    "mu = n * p\n",
    "sigma = sqrt(n * p * (1 - p))\n",
    "\n",
    "# задаём нормальное распределение\n",
    "distr = st.norm(mu, sigma) \n",
    "\n",
    "# считаем вероятность хвоста слева от 100\n",
    "result = distr.cdf(99)\n",
    "print(result)"
   ]
  },
  {
   "cell_type": "markdown",
   "id": "11be4c3e",
   "metadata": {},
   "source": [
    "Воспользовались нормальной аппроксимацией биномиального распределения. Подобрали значение минимального количества промокодов - 1169, для того, чтобы вероятность не выполнить план была примерно 5%"
   ]
  },
  {
   "cell_type": "markdown",
   "id": "ea434739",
   "metadata": {},
   "source": [
    "**7.2** Отдел маркетинга рассылает клиентам push-уведомления в мобильном приложении. Клиенты могут открыть его или не открывать. Известно, что уведомления открывают около 40 % получивших клиентов. Отдел планирует разослать 1 млн уведомлений. С помощью аппроксимации постройте примерный график распределения и оцените вероятность того, что уведомление откроют не более 399,5 тыс. пользователей."
   ]
  },
  {
   "cell_type": "code",
   "execution_count": 39,
   "id": "6f9818e9",
   "metadata": {},
   "outputs": [
    {
     "name": "stdout",
     "output_type": "stream",
     "text": [
      "0.15371708296369768\n"
     ]
    }
   ],
   "source": [
    "n = 1000000 # количество попыток\n",
    "p = 0.4 # вероятность успеха\n",
    "\n",
    "# зададим мат.ожидание и ст.отклонение нормального распределения равными\n",
    "# мат.ожиданию и ст.отклонению биномиального распределения\n",
    "mu = n * p\n",
    "sigma = sqrt(n * p * (1 - p))\n",
    "\n",
    "# задаём нормальное распределение\n",
    "distr = st.norm(mu, sigma) \n",
    "\n",
    "# считаем вероятность хвоста слева от 100\n",
    "result = distr.cdf(399500)\n",
    "print(result)"
   ]
  },
  {
   "cell_type": "markdown",
   "id": "65f082ac",
   "metadata": {},
   "source": [
    "Воспользовались нормальной аппроксимацией биномиального распределения. Вероятность того, что уведомление откроют не более 399,5 тыс. пользователей равна 15,4 %. "
   ]
  },
  {
   "cell_type": "markdown",
   "id": "b5aea8ca",
   "metadata": {},
   "source": [
    "**Общий вывод**"
   ]
  },
  {
   "cell_type": "markdown",
   "id": "3c485c05",
   "metadata": {},
   "source": [
    "1) Большее количество пользователей сосредоточено в городах: Пятигорск, Екатеринбург и Ростов-на-Дону\n",
    "\n",
    "2) Большинство пользователей - молодая группа 22-27 лет\n",
    "\n",
    "3) В среднем пользователи используют самокаты для преодоления расстояний 3-3,5 км и по времени поездки - 16-20 минут\n",
    "\n",
    "4) Исходное количество пользователей с подпиской меньше, чем пользователей без подписки\n",
    "\n",
    "5) Проверили гипотезу о том, тратят ли пользователи с подпиской больше времени на поездку - гипотезу подтвердили\n",
    "\n",
    "6) Проверили гипотезу о том, что среднее расстояние, которое проезжают пользователи с подпиской за одну поездку, не превышает 3130 метров (расстояние до износа самоката) - подтвердили гипотезу\n",
    "\n",
    "7) Проверили и подтвердили гипотезу о том, что помесячная выручка пользователей с подспиской больше, чем выручка пользователей без подписки  \n",
    "\n",
    "8) Также были рассчитаны показатели для маркетингового отдела:\n",
    "* минимального количество промокодов - 1169, для того, чтобы вероятность не выполнить план (100 подписок) была примерно 5%\n",
    "* вероятность того, что push-уведомление откроют не более 399,5 тыс. пользователей из рассылки в 1 млн уведомлений равна 15,4 %."
   ]
  },
  {
   "cell_type": "code",
   "execution_count": null,
   "id": "268c7811",
   "metadata": {},
   "outputs": [],
   "source": []
  }
 ],
 "metadata": {
  "ExecuteTimeLog": [
   {
    "duration": 355,
    "start_time": "2024-07-24T16:20:07.986Z"
   },
   {
    "duration": 81,
    "start_time": "2024-07-24T16:22:28.527Z"
   },
   {
    "duration": 170,
    "start_time": "2024-07-24T16:22:31.579Z"
   },
   {
    "duration": 80,
    "start_time": "2024-07-24T16:22:33.699Z"
   },
   {
    "duration": 12,
    "start_time": "2024-07-24T16:22:50.597Z"
   },
   {
    "duration": 10,
    "start_time": "2024-07-24T16:23:11.307Z"
   },
   {
    "duration": 8,
    "start_time": "2024-07-24T16:23:24.228Z"
   },
   {
    "duration": 30,
    "start_time": "2024-07-24T16:29:28.088Z"
   },
   {
    "duration": 29,
    "start_time": "2024-07-24T16:29:35.001Z"
   },
   {
    "duration": 55,
    "start_time": "2024-07-24T16:32:29.797Z"
   },
   {
    "duration": 73,
    "start_time": "2024-07-24T16:34:22.227Z"
   },
   {
    "duration": 7,
    "start_time": "2024-07-24T16:34:37.677Z"
   },
   {
    "duration": 50,
    "start_time": "2024-07-24T16:34:58.699Z"
   },
   {
    "duration": 64,
    "start_time": "2024-07-24T16:41:50.527Z"
   },
   {
    "duration": 84,
    "start_time": "2024-07-24T16:42:17.858Z"
   },
   {
    "duration": 60,
    "start_time": "2024-07-24T16:42:54.278Z"
   },
   {
    "duration": 72,
    "start_time": "2024-07-24T16:44:00.168Z"
   },
   {
    "duration": 5,
    "start_time": "2024-07-24T16:50:40.994Z"
   },
   {
    "duration": 10,
    "start_time": "2024-07-24T16:50:57.253Z"
   },
   {
    "duration": 8,
    "start_time": "2024-07-24T17:01:08.614Z"
   },
   {
    "duration": 8,
    "start_time": "2024-07-24T17:01:23.024Z"
   },
   {
    "duration": 8,
    "start_time": "2024-07-24T17:01:33.138Z"
   },
   {
    "duration": 19,
    "start_time": "2024-07-24T17:02:28.354Z"
   },
   {
    "duration": 11,
    "start_time": "2024-07-24T17:02:54.343Z"
   },
   {
    "duration": 12,
    "start_time": "2024-07-24T17:03:12.758Z"
   },
   {
    "duration": 9,
    "start_time": "2024-07-24T17:04:12.396Z"
   },
   {
    "duration": 9,
    "start_time": "2024-07-24T17:04:45.324Z"
   },
   {
    "duration": 6,
    "start_time": "2024-07-24T17:04:53.273Z"
   },
   {
    "duration": 10,
    "start_time": "2024-07-24T17:05:17.244Z"
   },
   {
    "duration": 9,
    "start_time": "2024-07-24T17:05:23.725Z"
   },
   {
    "duration": 9,
    "start_time": "2024-07-24T17:05:32.326Z"
   },
   {
    "duration": 6,
    "start_time": "2024-07-24T17:05:52.687Z"
   },
   {
    "duration": 11,
    "start_time": "2024-07-24T17:06:48.583Z"
   },
   {
    "duration": 14,
    "start_time": "2024-07-24T17:06:59.303Z"
   },
   {
    "duration": 373,
    "start_time": "2024-07-24T17:09:19.235Z"
   },
   {
    "duration": 128,
    "start_time": "2024-07-24T17:09:32.744Z"
   },
   {
    "duration": 121,
    "start_time": "2024-07-24T17:09:54.603Z"
   },
   {
    "duration": 5,
    "start_time": "2024-07-24T17:09:59.143Z"
   },
   {
    "duration": 285,
    "start_time": "2024-07-24T17:12:18.132Z"
   },
   {
    "duration": 8,
    "start_time": "2024-07-24T17:12:28.585Z"
   },
   {
    "duration": 4,
    "start_time": "2024-07-24T17:12:32.877Z"
   },
   {
    "duration": 5,
    "start_time": "2024-07-24T17:12:39.662Z"
   },
   {
    "duration": 8,
    "start_time": "2024-07-24T17:12:43.774Z"
   },
   {
    "duration": 2,
    "start_time": "2024-07-24T17:15:25.423Z"
   },
   {
    "duration": 127,
    "start_time": "2024-07-24T17:15:40.234Z"
   },
   {
    "duration": 117,
    "start_time": "2024-07-24T17:36:04.085Z"
   },
   {
    "duration": 13,
    "start_time": "2024-07-24T17:38:02.754Z"
   },
   {
    "duration": 93,
    "start_time": "2024-07-24T17:38:10.163Z"
   },
   {
    "duration": 98,
    "start_time": "2024-07-24T17:38:42.504Z"
   },
   {
    "duration": 131,
    "start_time": "2024-07-24T17:40:17.324Z"
   },
   {
    "duration": 130,
    "start_time": "2024-07-24T17:41:04.576Z"
   },
   {
    "duration": 123,
    "start_time": "2024-07-24T17:43:51.737Z"
   },
   {
    "duration": 26,
    "start_time": "2024-07-24T19:13:38.644Z"
   },
   {
    "duration": 21,
    "start_time": "2024-07-24T19:15:24.148Z"
   },
   {
    "duration": 15,
    "start_time": "2024-07-24T19:16:01.887Z"
   },
   {
    "duration": 32,
    "start_time": "2024-07-24T19:16:07.148Z"
   },
   {
    "duration": 28,
    "start_time": "2024-07-24T19:16:31.403Z"
   },
   {
    "duration": 4,
    "start_time": "2024-07-24T19:18:59.811Z"
   },
   {
    "duration": 22,
    "start_time": "2024-07-24T19:19:52.259Z"
   },
   {
    "duration": 31,
    "start_time": "2024-07-24T19:19:57.098Z"
   },
   {
    "duration": 26,
    "start_time": "2024-07-24T19:20:29.243Z"
   },
   {
    "duration": 43,
    "start_time": "2024-07-24T19:20:49.413Z"
   },
   {
    "duration": 43,
    "start_time": "2024-07-24T19:20:54.382Z"
   },
   {
    "duration": 9,
    "start_time": "2024-07-24T19:21:37.562Z"
   },
   {
    "duration": 5,
    "start_time": "2024-07-24T19:22:05.743Z"
   },
   {
    "duration": 6,
    "start_time": "2024-07-24T19:23:12.443Z"
   },
   {
    "duration": 6,
    "start_time": "2024-07-24T19:23:21.052Z"
   },
   {
    "duration": 5,
    "start_time": "2024-07-24T19:23:32.053Z"
   },
   {
    "duration": 5,
    "start_time": "2024-07-24T19:23:37.183Z"
   },
   {
    "duration": 6,
    "start_time": "2024-07-24T19:23:42.132Z"
   },
   {
    "duration": 5,
    "start_time": "2024-07-24T19:23:49.284Z"
   },
   {
    "duration": 26,
    "start_time": "2024-07-24T19:24:35.212Z"
   },
   {
    "duration": 27,
    "start_time": "2024-07-24T19:24:47.827Z"
   },
   {
    "duration": 29,
    "start_time": "2024-07-24T19:24:57.807Z"
   },
   {
    "duration": 15,
    "start_time": "2024-07-24T19:25:32.413Z"
   },
   {
    "duration": 12,
    "start_time": "2024-07-24T19:25:37.798Z"
   },
   {
    "duration": 7,
    "start_time": "2024-07-24T19:26:14.867Z"
   },
   {
    "duration": 33,
    "start_time": "2024-07-24T19:26:27.784Z"
   },
   {
    "duration": 28,
    "start_time": "2024-07-24T19:26:33.715Z"
   },
   {
    "duration": 29,
    "start_time": "2024-07-24T19:26:58.012Z"
   },
   {
    "duration": 23,
    "start_time": "2024-07-24T19:27:02.262Z"
   },
   {
    "duration": 9,
    "start_time": "2024-07-24T19:28:55.742Z"
   },
   {
    "duration": 991,
    "start_time": "2024-07-24T19:29:22.318Z"
   },
   {
    "duration": 4,
    "start_time": "2024-07-24T19:29:38.612Z"
   },
   {
    "duration": 7,
    "start_time": "2024-07-24T19:29:42.288Z"
   },
   {
    "duration": 20,
    "start_time": "2024-07-24T19:29:48.542Z"
   },
   {
    "duration": 17,
    "start_time": "2024-07-24T19:30:13.608Z"
   },
   {
    "duration": 209,
    "start_time": "2024-07-24T19:33:15.818Z"
   },
   {
    "duration": 133,
    "start_time": "2024-07-24T19:35:39.931Z"
   },
   {
    "duration": 123,
    "start_time": "2024-07-24T19:35:40.066Z"
   },
   {
    "duration": 18,
    "start_time": "2024-07-24T19:35:40.190Z"
   },
   {
    "duration": 115,
    "start_time": "2024-07-24T19:35:57.327Z"
   },
   {
    "duration": 62,
    "start_time": "2024-07-25T17:06:32.311Z"
   },
   {
    "duration": 774,
    "start_time": "2024-07-25T17:06:38.472Z"
   },
   {
    "duration": 116,
    "start_time": "2024-07-25T17:06:39.248Z"
   },
   {
    "duration": 10,
    "start_time": "2024-07-25T17:06:39.366Z"
   },
   {
    "duration": 185,
    "start_time": "2024-07-25T17:06:39.378Z"
   },
   {
    "duration": 11,
    "start_time": "2024-07-25T17:06:39.565Z"
   },
   {
    "duration": 76,
    "start_time": "2024-07-25T17:06:39.578Z"
   },
   {
    "duration": 10,
    "start_time": "2024-07-25T17:06:39.656Z"
   },
   {
    "duration": 14,
    "start_time": "2024-07-25T17:06:39.667Z"
   },
   {
    "duration": 12,
    "start_time": "2024-07-25T17:06:39.683Z"
   },
   {
    "duration": 9,
    "start_time": "2024-07-25T17:06:39.698Z"
   },
   {
    "duration": 7,
    "start_time": "2024-07-25T17:06:39.709Z"
   },
   {
    "duration": 8,
    "start_time": "2024-07-25T17:06:39.718Z"
   },
   {
    "duration": 5,
    "start_time": "2024-07-25T17:06:39.727Z"
   },
   {
    "duration": 162,
    "start_time": "2024-07-25T17:06:39.734Z"
   },
   {
    "duration": 104,
    "start_time": "2024-07-25T17:06:39.898Z"
   },
   {
    "duration": 139,
    "start_time": "2024-07-25T17:06:40.003Z"
   },
   {
    "duration": 154,
    "start_time": "2024-07-25T17:06:40.143Z"
   },
   {
    "duration": 185,
    "start_time": "2024-07-25T17:06:40.298Z"
   },
   {
    "duration": 25,
    "start_time": "2024-07-25T17:06:40.485Z"
   },
   {
    "duration": 20,
    "start_time": "2024-07-25T17:06:40.512Z"
   },
   {
    "duration": 18,
    "start_time": "2024-07-25T17:06:40.533Z"
   },
   {
    "duration": 152,
    "start_time": "2024-07-25T17:06:40.553Z"
   },
   {
    "duration": 126,
    "start_time": "2024-07-25T17:06:40.707Z"
   },
   {
    "duration": 116,
    "start_time": "2024-07-25T17:06:40.834Z"
   },
   {
    "duration": 14,
    "start_time": "2024-07-25T17:06:46.232Z"
   },
   {
    "duration": 21,
    "start_time": "2024-07-25T17:06:55.722Z"
   },
   {
    "duration": 60,
    "start_time": "2024-07-25T17:13:49.885Z"
   },
   {
    "duration": 21,
    "start_time": "2024-07-25T17:13:54.685Z"
   },
   {
    "duration": 31,
    "start_time": "2024-07-25T17:14:00.294Z"
   },
   {
    "duration": 52,
    "start_time": "2024-07-25T17:17:27.424Z"
   },
   {
    "duration": 28,
    "start_time": "2024-07-25T17:19:14.454Z"
   },
   {
    "duration": 32,
    "start_time": "2024-07-25T17:19:48.274Z"
   },
   {
    "duration": 33,
    "start_time": "2024-07-25T17:20:39.484Z"
   },
   {
    "duration": 31,
    "start_time": "2024-07-25T17:21:07.264Z"
   },
   {
    "duration": 21,
    "start_time": "2024-07-25T17:27:28.293Z"
   },
   {
    "duration": 36,
    "start_time": "2024-07-25T17:27:32.936Z"
   },
   {
    "duration": 19,
    "start_time": "2024-07-25T17:29:04.506Z"
   },
   {
    "duration": 28,
    "start_time": "2024-07-25T17:29:08.393Z"
   },
   {
    "duration": 3,
    "start_time": "2024-07-25T17:31:14.403Z"
   },
   {
    "duration": 31,
    "start_time": "2024-07-25T17:39:44.574Z"
   },
   {
    "duration": 18,
    "start_time": "2024-07-25T17:39:54.110Z"
   },
   {
    "duration": 33,
    "start_time": "2024-07-25T18:54:54.291Z"
   },
   {
    "duration": 28,
    "start_time": "2024-07-25T19:22:30.101Z"
   },
   {
    "duration": 26,
    "start_time": "2024-07-25T19:22:37.112Z"
   },
   {
    "duration": 26,
    "start_time": "2024-07-25T19:22:46.816Z"
   },
   {
    "duration": 26,
    "start_time": "2024-07-25T19:27:16.276Z"
   },
   {
    "duration": 2,
    "start_time": "2024-07-25T19:28:26.506Z"
   },
   {
    "duration": 37,
    "start_time": "2024-07-25T19:28:26.511Z"
   },
   {
    "duration": 9,
    "start_time": "2024-07-25T19:28:26.550Z"
   },
   {
    "duration": 32,
    "start_time": "2024-07-25T19:28:26.561Z"
   },
   {
    "duration": 10,
    "start_time": "2024-07-25T19:28:26.594Z"
   },
   {
    "duration": 22,
    "start_time": "2024-07-25T19:28:26.605Z"
   },
   {
    "duration": 9,
    "start_time": "2024-07-25T19:28:26.628Z"
   },
   {
    "duration": 13,
    "start_time": "2024-07-25T19:28:26.638Z"
   },
   {
    "duration": 9,
    "start_time": "2024-07-25T19:28:26.652Z"
   },
   {
    "duration": 22,
    "start_time": "2024-07-25T19:28:26.663Z"
   },
   {
    "duration": 6,
    "start_time": "2024-07-25T19:28:26.687Z"
   },
   {
    "duration": 7,
    "start_time": "2024-07-25T19:28:26.695Z"
   },
   {
    "duration": 4,
    "start_time": "2024-07-25T19:28:26.703Z"
   },
   {
    "duration": 143,
    "start_time": "2024-07-25T19:28:26.708Z"
   },
   {
    "duration": 104,
    "start_time": "2024-07-25T19:28:26.853Z"
   },
   {
    "duration": 128,
    "start_time": "2024-07-25T19:28:26.958Z"
   },
   {
    "duration": 131,
    "start_time": "2024-07-25T19:28:27.087Z"
   },
   {
    "duration": 129,
    "start_time": "2024-07-25T19:28:27.219Z"
   },
   {
    "duration": 24,
    "start_time": "2024-07-25T19:28:27.350Z"
   },
   {
    "duration": 19,
    "start_time": "2024-07-25T19:28:27.382Z"
   },
   {
    "duration": 16,
    "start_time": "2024-07-25T19:28:27.402Z"
   },
   {
    "duration": 134,
    "start_time": "2024-07-25T19:28:27.419Z"
   },
   {
    "duration": 119,
    "start_time": "2024-07-25T19:28:27.555Z"
   },
   {
    "duration": 164,
    "start_time": "2024-07-25T19:28:27.681Z"
   },
   {
    "duration": 26,
    "start_time": "2024-07-25T19:28:36.546Z"
   },
   {
    "duration": 26,
    "start_time": "2024-07-25T19:29:58.900Z"
   },
   {
    "duration": 23,
    "start_time": "2024-07-25T19:30:17.091Z"
   },
   {
    "duration": 28,
    "start_time": "2024-07-25T19:31:22.681Z"
   },
   {
    "duration": 68,
    "start_time": "2024-07-25T19:32:35.601Z"
   },
   {
    "duration": 22,
    "start_time": "2024-07-25T19:32:41.771Z"
   },
   {
    "duration": 24,
    "start_time": "2024-07-25T19:32:48.731Z"
   },
   {
    "duration": 25,
    "start_time": "2024-07-25T19:33:26.776Z"
   },
   {
    "duration": 26,
    "start_time": "2024-07-25T19:33:37.835Z"
   },
   {
    "duration": 23,
    "start_time": "2024-07-25T19:35:11.735Z"
   },
   {
    "duration": 23,
    "start_time": "2024-07-25T19:35:26.091Z"
   },
   {
    "duration": 22,
    "start_time": "2024-07-25T19:36:05.585Z"
   },
   {
    "duration": 22,
    "start_time": "2024-07-25T19:36:11.006Z"
   },
   {
    "duration": 22,
    "start_time": "2024-07-25T19:36:17.596Z"
   },
   {
    "duration": 23,
    "start_time": "2024-07-25T19:36:25.316Z"
   },
   {
    "duration": 60,
    "start_time": "2024-07-25T19:39:30.419Z"
   },
   {
    "duration": 38,
    "start_time": "2024-07-25T19:39:49.799Z"
   },
   {
    "duration": 30,
    "start_time": "2024-07-25T19:41:24.430Z"
   },
   {
    "duration": 43,
    "start_time": "2024-07-25T19:42:13.811Z"
   },
   {
    "duration": 29,
    "start_time": "2024-07-25T19:43:59.131Z"
   },
   {
    "duration": 14,
    "start_time": "2024-07-25T19:46:28.420Z"
   },
   {
    "duration": 57,
    "start_time": "2024-07-25T19:48:55.559Z"
   },
   {
    "duration": 6,
    "start_time": "2024-07-25T19:49:02.169Z"
   },
   {
    "duration": 24,
    "start_time": "2024-07-25T19:49:09.479Z"
   },
   {
    "duration": 22,
    "start_time": "2024-07-25T19:50:52.759Z"
   },
   {
    "duration": 22,
    "start_time": "2024-07-25T19:51:47.950Z"
   },
   {
    "duration": 34,
    "start_time": "2024-07-25T19:51:52.999Z"
   },
   {
    "duration": 67,
    "start_time": "2024-07-25T19:53:03.317Z"
   },
   {
    "duration": 290,
    "start_time": "2024-07-25T19:54:49.257Z"
   },
   {
    "duration": 33,
    "start_time": "2024-07-25T19:55:12.999Z"
   },
   {
    "duration": 27,
    "start_time": "2024-07-25T20:02:20.339Z"
   },
   {
    "duration": 24,
    "start_time": "2024-07-25T20:04:22.480Z"
   },
   {
    "duration": 58,
    "start_time": "2024-07-25T20:05:39.200Z"
   },
   {
    "duration": 37,
    "start_time": "2024-07-25T20:05:53.580Z"
   },
   {
    "duration": 25,
    "start_time": "2024-07-25T20:06:59.909Z"
   },
   {
    "duration": 35,
    "start_time": "2024-07-25T20:07:04.924Z"
   },
   {
    "duration": 49,
    "start_time": "2024-07-25T20:09:55.079Z"
   },
   {
    "duration": 45,
    "start_time": "2024-07-25T20:11:47.869Z"
   },
   {
    "duration": 46,
    "start_time": "2024-07-25T20:13:08.814Z"
   },
   {
    "duration": 727,
    "start_time": "2024-07-25T20:14:12.984Z"
   },
   {
    "duration": 734,
    "start_time": "2024-07-25T20:14:44.504Z"
   },
   {
    "duration": 47,
    "start_time": "2024-07-25T20:14:49.670Z"
   },
   {
    "duration": 5,
    "start_time": "2024-07-25T20:14:51.479Z"
   },
   {
    "duration": 18,
    "start_time": "2024-07-25T20:14:58.699Z"
   },
   {
    "duration": 1244,
    "start_time": "2024-07-26T08:56:19.120Z"
   },
   {
    "duration": 54,
    "start_time": "2024-07-26T08:57:51.690Z"
   },
   {
    "duration": 60,
    "start_time": "2024-07-26T08:58:04.887Z"
   },
   {
    "duration": 53,
    "start_time": "2024-07-26T08:58:52.353Z"
   },
   {
    "duration": 56,
    "start_time": "2024-07-26T08:59:18.350Z"
   },
   {
    "duration": 90,
    "start_time": "2024-07-26T08:59:33.695Z"
   },
   {
    "duration": 3,
    "start_time": "2024-07-26T08:59:38.503Z"
   },
   {
    "duration": 166,
    "start_time": "2024-07-26T08:59:38.508Z"
   },
   {
    "duration": 11,
    "start_time": "2024-07-26T08:59:38.676Z"
   },
   {
    "duration": 205,
    "start_time": "2024-07-26T08:59:38.688Z"
   },
   {
    "duration": 12,
    "start_time": "2024-07-26T08:59:38.895Z"
   },
   {
    "duration": 86,
    "start_time": "2024-07-26T08:59:38.908Z"
   },
   {
    "duration": 10,
    "start_time": "2024-07-26T08:59:38.996Z"
   },
   {
    "duration": 26,
    "start_time": "2024-07-26T08:59:39.008Z"
   },
   {
    "duration": 12,
    "start_time": "2024-07-26T08:59:39.036Z"
   },
   {
    "duration": 10,
    "start_time": "2024-07-26T08:59:39.050Z"
   },
   {
    "duration": 27,
    "start_time": "2024-07-26T08:59:39.061Z"
   },
   {
    "duration": 25,
    "start_time": "2024-07-26T08:59:39.089Z"
   },
   {
    "duration": 17,
    "start_time": "2024-07-26T08:59:39.115Z"
   },
   {
    "duration": 162,
    "start_time": "2024-07-26T08:59:39.135Z"
   },
   {
    "duration": 130,
    "start_time": "2024-07-26T08:59:39.298Z"
   },
   {
    "duration": 165,
    "start_time": "2024-07-26T08:59:39.430Z"
   },
   {
    "duration": 137,
    "start_time": "2024-07-26T08:59:39.596Z"
   },
   {
    "duration": 131,
    "start_time": "2024-07-26T08:59:39.735Z"
   },
   {
    "duration": 33,
    "start_time": "2024-07-26T08:59:39.867Z"
   },
   {
    "duration": 20,
    "start_time": "2024-07-26T08:59:39.901Z"
   },
   {
    "duration": 18,
    "start_time": "2024-07-26T08:59:39.923Z"
   },
   {
    "duration": 152,
    "start_time": "2024-07-26T08:59:39.942Z"
   },
   {
    "duration": 136,
    "start_time": "2024-07-26T08:59:40.096Z"
   },
   {
    "duration": 127,
    "start_time": "2024-07-26T08:59:40.233Z"
   },
   {
    "duration": 24,
    "start_time": "2024-07-26T08:59:40.361Z"
   },
   {
    "duration": 0,
    "start_time": "2024-07-26T08:59:40.386Z"
   },
   {
    "duration": 11,
    "start_time": "2024-07-26T09:06:41.300Z"
   },
   {
    "duration": 55,
    "start_time": "2024-07-26T09:06:54.597Z"
   },
   {
    "duration": 800,
    "start_time": "2024-07-26T09:08:29.383Z"
   },
   {
    "duration": 5,
    "start_time": "2024-07-26T09:08:48.425Z"
   },
   {
    "duration": 19,
    "start_time": "2024-07-26T09:08:54.442Z"
   },
   {
    "duration": 4,
    "start_time": "2024-07-26T09:09:04.003Z"
   },
   {
    "duration": 9,
    "start_time": "2024-07-26T09:14:17.506Z"
   },
   {
    "duration": 57,
    "start_time": "2024-07-26T09:18:27.040Z"
   },
   {
    "duration": 3,
    "start_time": "2024-07-26T09:18:34.444Z"
   },
   {
    "duration": 3,
    "start_time": "2024-07-26T09:18:36.201Z"
   },
   {
    "duration": 7,
    "start_time": "2024-07-26T09:19:45.322Z"
   },
   {
    "duration": 16,
    "start_time": "2024-07-26T09:23:38.422Z"
   },
   {
    "duration": 15,
    "start_time": "2024-07-26T09:23:45.091Z"
   },
   {
    "duration": 19,
    "start_time": "2024-07-26T09:24:08.130Z"
   },
   {
    "duration": 15,
    "start_time": "2024-07-26T09:24:15.658Z"
   },
   {
    "duration": 7,
    "start_time": "2024-07-26T09:27:14.835Z"
   },
   {
    "duration": 3,
    "start_time": "2024-07-26T13:48:49.179Z"
   },
   {
    "duration": 289,
    "start_time": "2024-07-26T14:00:48.481Z"
   },
   {
    "duration": 242,
    "start_time": "2024-07-26T14:03:39.903Z"
   },
   {
    "duration": 3,
    "start_time": "2024-07-26T14:03:58.355Z"
   },
   {
    "duration": 238,
    "start_time": "2024-07-26T14:05:16.523Z"
   },
   {
    "duration": 1422,
    "start_time": "2024-07-26T14:05:40.873Z"
   },
   {
    "duration": 823,
    "start_time": "2024-07-26T14:05:56.331Z"
   },
   {
    "duration": 437,
    "start_time": "2024-07-26T14:06:04.005Z"
   },
   {
    "duration": 347,
    "start_time": "2024-07-26T14:06:52.615Z"
   },
   {
    "duration": 420,
    "start_time": "2024-07-26T14:07:01.965Z"
   },
   {
    "duration": 512,
    "start_time": "2024-07-26T14:07:17.417Z"
   },
   {
    "duration": 374,
    "start_time": "2024-07-26T14:07:22.077Z"
   },
   {
    "duration": 391,
    "start_time": "2024-07-26T14:07:27.104Z"
   },
   {
    "duration": 1442,
    "start_time": "2024-07-26T14:08:20.863Z"
   },
   {
    "duration": 826,
    "start_time": "2024-07-26T14:08:29.627Z"
   },
   {
    "duration": 922,
    "start_time": "2024-07-26T14:08:36.723Z"
   },
   {
    "duration": 296,
    "start_time": "2024-07-26T14:08:41.866Z"
   },
   {
    "duration": 366,
    "start_time": "2024-07-26T14:08:52.880Z"
   },
   {
    "duration": 744,
    "start_time": "2024-07-26T14:09:19.855Z"
   },
   {
    "duration": 520,
    "start_time": "2024-07-26T14:09:37.564Z"
   },
   {
    "duration": 347,
    "start_time": "2024-07-26T14:09:50.596Z"
   },
   {
    "duration": 243,
    "start_time": "2024-07-26T14:09:55.381Z"
   },
   {
    "duration": 566,
    "start_time": "2024-07-26T14:10:00.685Z"
   },
   {
    "duration": 5,
    "start_time": "2024-07-26T14:11:32.821Z"
   },
   {
    "duration": 462,
    "start_time": "2024-07-26T14:11:39.890Z"
   },
   {
    "duration": 121,
    "start_time": "2024-07-26T14:11:43.844Z"
   },
   {
    "duration": 6,
    "start_time": "2024-07-26T14:12:39.927Z"
   },
   {
    "duration": 5,
    "start_time": "2024-07-26T14:12:43.632Z"
   },
   {
    "duration": 5,
    "start_time": "2024-07-26T14:12:45.985Z"
   },
   {
    "duration": 5,
    "start_time": "2024-07-26T14:12:50.213Z"
   },
   {
    "duration": 5,
    "start_time": "2024-07-26T14:12:54.597Z"
   },
   {
    "duration": 6,
    "start_time": "2024-07-26T14:12:57.771Z"
   },
   {
    "duration": 5,
    "start_time": "2024-07-26T14:13:00.465Z"
   },
   {
    "duration": 5,
    "start_time": "2024-07-26T14:13:04.485Z"
   },
   {
    "duration": 5,
    "start_time": "2024-07-26T14:13:08.050Z"
   },
   {
    "duration": 9,
    "start_time": "2024-07-26T14:13:13.872Z"
   },
   {
    "duration": 5,
    "start_time": "2024-07-26T14:13:15.688Z"
   },
   {
    "duration": 4,
    "start_time": "2024-07-26T14:13:25.374Z"
   },
   {
    "duration": 5,
    "start_time": "2024-07-26T14:13:28.335Z"
   },
   {
    "duration": 6,
    "start_time": "2024-07-26T14:13:31.717Z"
   },
   {
    "duration": 5,
    "start_time": "2024-07-26T14:13:34.871Z"
   },
   {
    "duration": 8,
    "start_time": "2024-07-26T14:19:24.879Z"
   },
   {
    "duration": 4659,
    "start_time": "2024-07-26T14:19:35.594Z"
   },
   {
    "duration": 244,
    "start_time": "2024-07-26T14:27:58.047Z"
   },
   {
    "duration": 241,
    "start_time": "2024-07-26T14:28:04.315Z"
   },
   {
    "duration": 658,
    "start_time": "2024-07-26T14:28:19.200Z"
   },
   {
    "duration": 175,
    "start_time": "2024-07-26T14:28:23.121Z"
   },
   {
    "duration": 429,
    "start_time": "2024-07-26T14:29:18.735Z"
   },
   {
    "duration": 9,
    "start_time": "2024-07-26T14:32:53.934Z"
   },
   {
    "duration": 319,
    "start_time": "2024-07-26T14:33:25.091Z"
   },
   {
    "duration": 1541,
    "start_time": "2024-07-26T14:35:32.143Z"
   },
   {
    "duration": 309,
    "start_time": "2024-07-26T14:36:18.590Z"
   },
   {
    "duration": 299,
    "start_time": "2024-07-26T14:36:30.674Z"
   },
   {
    "duration": 1545,
    "start_time": "2024-07-26T14:36:46.142Z"
   },
   {
    "duration": 1608,
    "start_time": "2024-07-26T14:36:49.137Z"
   },
   {
    "duration": 247,
    "start_time": "2024-07-26T14:41:49.000Z"
   },
   {
    "duration": 1812,
    "start_time": "2024-07-26T14:43:33.928Z"
   },
   {
    "duration": 1786,
    "start_time": "2024-07-26T14:43:55.058Z"
   },
   {
    "duration": 1830,
    "start_time": "2024-07-26T14:44:08.954Z"
   },
   {
    "duration": 1791,
    "start_time": "2024-07-26T14:46:36.572Z"
   },
   {
    "duration": 41,
    "start_time": "2024-07-26T14:46:44.004Z"
   },
   {
    "duration": 47,
    "start_time": "2024-07-26T17:42:12.400Z"
   },
   {
    "duration": 1322,
    "start_time": "2024-07-26T17:42:16.960Z"
   },
   {
    "duration": 83,
    "start_time": "2024-07-26T17:42:18.283Z"
   },
   {
    "duration": 11,
    "start_time": "2024-07-26T17:42:18.368Z"
   },
   {
    "duration": 186,
    "start_time": "2024-07-26T17:42:18.381Z"
   },
   {
    "duration": 15,
    "start_time": "2024-07-26T17:42:18.568Z"
   },
   {
    "duration": 80,
    "start_time": "2024-07-26T17:42:18.585Z"
   },
   {
    "duration": 13,
    "start_time": "2024-07-26T17:42:18.666Z"
   },
   {
    "duration": 23,
    "start_time": "2024-07-26T17:42:18.681Z"
   },
   {
    "duration": 13,
    "start_time": "2024-07-26T17:42:18.706Z"
   },
   {
    "duration": 28,
    "start_time": "2024-07-26T17:42:18.722Z"
   },
   {
    "duration": 12,
    "start_time": "2024-07-26T17:42:18.752Z"
   },
   {
    "duration": 29,
    "start_time": "2024-07-26T17:42:18.765Z"
   },
   {
    "duration": 5,
    "start_time": "2024-07-26T17:42:18.795Z"
   },
   {
    "duration": 165,
    "start_time": "2024-07-26T17:42:18.801Z"
   },
   {
    "duration": 119,
    "start_time": "2024-07-26T17:42:18.968Z"
   },
   {
    "duration": 149,
    "start_time": "2024-07-26T17:42:19.089Z"
   },
   {
    "duration": 143,
    "start_time": "2024-07-26T17:42:19.239Z"
   },
   {
    "duration": 135,
    "start_time": "2024-07-26T17:42:19.383Z"
   },
   {
    "duration": 37,
    "start_time": "2024-07-26T17:42:19.520Z"
   },
   {
    "duration": 33,
    "start_time": "2024-07-26T17:42:19.559Z"
   },
   {
    "duration": 28,
    "start_time": "2024-07-26T17:42:19.594Z"
   },
   {
    "duration": 133,
    "start_time": "2024-07-26T17:42:19.624Z"
   },
   {
    "duration": 148,
    "start_time": "2024-07-26T17:42:19.759Z"
   },
   {
    "duration": 137,
    "start_time": "2024-07-26T17:42:19.909Z"
   },
   {
    "duration": 56,
    "start_time": "2024-07-26T17:42:20.047Z"
   },
   {
    "duration": 41,
    "start_time": "2024-07-26T17:42:20.105Z"
   },
   {
    "duration": 17,
    "start_time": "2024-07-26T17:42:20.148Z"
   },
   {
    "duration": 14,
    "start_time": "2024-07-26T17:42:20.168Z"
   },
   {
    "duration": 10,
    "start_time": "2024-07-26T17:42:20.184Z"
   },
   {
    "duration": 7,
    "start_time": "2024-07-26T17:42:20.196Z"
   },
   {
    "duration": 43,
    "start_time": "2024-07-26T17:42:20.205Z"
   },
   {
    "duration": 93,
    "start_time": "2024-07-26T17:42:20.250Z"
   },
   {
    "duration": 0,
    "start_time": "2024-07-26T17:42:20.345Z"
   },
   {
    "duration": 8,
    "start_time": "2024-07-26T17:47:15.663Z"
   },
   {
    "duration": 13,
    "start_time": "2024-07-26T17:49:18.962Z"
   },
   {
    "duration": 19,
    "start_time": "2024-07-26T17:49:45.968Z"
   },
   {
    "duration": 12,
    "start_time": "2024-07-26T17:49:53.400Z"
   },
   {
    "duration": 6,
    "start_time": "2024-07-26T17:50:11.729Z"
   },
   {
    "duration": 10,
    "start_time": "2024-07-26T17:50:13.462Z"
   },
   {
    "duration": 50,
    "start_time": "2024-07-26T18:08:37.400Z"
   },
   {
    "duration": 45,
    "start_time": "2024-07-26T18:08:41.866Z"
   },
   {
    "duration": 46,
    "start_time": "2024-07-26T18:08:59.786Z"
   },
   {
    "duration": 49,
    "start_time": "2024-07-26T18:09:03.713Z"
   },
   {
    "duration": 45,
    "start_time": "2024-07-26T18:09:18.250Z"
   },
   {
    "duration": 6,
    "start_time": "2024-07-26T18:12:55.096Z"
   },
   {
    "duration": 16,
    "start_time": "2024-07-26T18:13:00.682Z"
   },
   {
    "duration": 134,
    "start_time": "2024-07-26T18:14:30.952Z"
   },
   {
    "duration": 27,
    "start_time": "2024-07-26T18:18:46.854Z"
   },
   {
    "duration": 221,
    "start_time": "2024-07-26T18:20:46.093Z"
   },
   {
    "duration": 3,
    "start_time": "2024-07-26T18:21:03.408Z"
   },
   {
    "duration": 56,
    "start_time": "2024-07-26T18:21:03.413Z"
   },
   {
    "duration": 13,
    "start_time": "2024-07-26T18:21:03.472Z"
   },
   {
    "duration": 41,
    "start_time": "2024-07-26T18:21:03.488Z"
   },
   {
    "duration": 15,
    "start_time": "2024-07-26T18:21:03.531Z"
   },
   {
    "duration": 22,
    "start_time": "2024-07-26T18:21:03.548Z"
   },
   {
    "duration": 11,
    "start_time": "2024-07-26T18:21:03.572Z"
   },
   {
    "duration": 31,
    "start_time": "2024-07-26T18:21:03.584Z"
   },
   {
    "duration": 12,
    "start_time": "2024-07-26T18:21:03.617Z"
   },
   {
    "duration": 20,
    "start_time": "2024-07-26T18:21:03.630Z"
   },
   {
    "duration": 10,
    "start_time": "2024-07-26T18:21:03.652Z"
   },
   {
    "duration": 9,
    "start_time": "2024-07-26T18:21:03.664Z"
   },
   {
    "duration": 152,
    "start_time": "2024-07-26T18:21:03.674Z"
   },
   {
    "duration": 126,
    "start_time": "2024-07-26T18:21:03.827Z"
   },
   {
    "duration": 156,
    "start_time": "2024-07-26T18:21:03.954Z"
   },
   {
    "duration": 143,
    "start_time": "2024-07-26T18:21:04.111Z"
   },
   {
    "duration": 6,
    "start_time": "2024-07-26T18:21:04.255Z"
   },
   {
    "duration": 148,
    "start_time": "2024-07-26T18:21:04.263Z"
   },
   {
    "duration": 37,
    "start_time": "2024-07-26T18:21:04.412Z"
   },
   {
    "duration": 22,
    "start_time": "2024-07-26T18:21:04.450Z"
   },
   {
    "duration": 21,
    "start_time": "2024-07-26T18:21:04.474Z"
   },
   {
    "duration": 44,
    "start_time": "2024-07-26T18:21:30.267Z"
   },
   {
    "duration": 29,
    "start_time": "2024-07-26T18:21:34.265Z"
   },
   {
    "duration": 20,
    "start_time": "2024-07-26T18:21:54.695Z"
   },
   {
    "duration": 18,
    "start_time": "2024-07-26T18:22:19.102Z"
   },
   {
    "duration": 23,
    "start_time": "2024-07-26T18:23:29.438Z"
   },
   {
    "duration": 5,
    "start_time": "2024-07-26T18:23:49.553Z"
   },
   {
    "duration": 128,
    "start_time": "2024-07-26T18:23:52.070Z"
   },
   {
    "duration": 6,
    "start_time": "2024-07-26T18:24:01.914Z"
   },
   {
    "duration": 139,
    "start_time": "2024-07-26T18:24:07.345Z"
   },
   {
    "duration": 146,
    "start_time": "2024-07-26T18:25:10.184Z"
   },
   {
    "duration": 70,
    "start_time": "2024-07-26T18:30:57.448Z"
   },
   {
    "duration": 47,
    "start_time": "2024-07-26T18:32:23.626Z"
   },
   {
    "duration": 19,
    "start_time": "2024-07-26T18:33:32.359Z"
   },
   {
    "duration": 19,
    "start_time": "2024-07-26T18:33:59.071Z"
   },
   {
    "duration": 49,
    "start_time": "2024-07-26T18:34:04.773Z"
   },
   {
    "duration": 17,
    "start_time": "2024-07-26T18:34:07.198Z"
   },
   {
    "duration": 19,
    "start_time": "2024-07-26T18:48:21.707Z"
   },
   {
    "duration": 22,
    "start_time": "2024-07-26T18:48:31.117Z"
   },
   {
    "duration": 15,
    "start_time": "2024-07-26T18:48:45.143Z"
   },
   {
    "duration": 7,
    "start_time": "2024-07-26T18:49:28.497Z"
   },
   {
    "duration": 11,
    "start_time": "2024-07-26T18:57:32.191Z"
   },
   {
    "duration": 3,
    "start_time": "2024-07-26T18:57:52.185Z"
   },
   {
    "duration": 1613,
    "start_time": "2024-07-26T18:57:56.366Z"
   },
   {
    "duration": 1558,
    "start_time": "2024-07-26T18:58:24.259Z"
   },
   {
    "duration": 6,
    "start_time": "2024-07-26T18:58:47.216Z"
   },
   {
    "duration": 5,
    "start_time": "2024-07-26T19:00:36.029Z"
   },
   {
    "duration": 6,
    "start_time": "2024-07-26T19:00:38.515Z"
   },
   {
    "duration": 6,
    "start_time": "2024-07-26T19:00:40.343Z"
   },
   {
    "duration": 5,
    "start_time": "2024-07-26T19:00:44.636Z"
   },
   {
    "duration": 5,
    "start_time": "2024-07-26T19:00:47.226Z"
   },
   {
    "duration": 6,
    "start_time": "2024-07-26T19:03:02.655Z"
   },
   {
    "duration": 5,
    "start_time": "2024-07-26T19:03:29.750Z"
   },
   {
    "duration": 203,
    "start_time": "2024-07-26T19:32:33.792Z"
   },
   {
    "duration": 27,
    "start_time": "2024-07-26T19:32:57.546Z"
   },
   {
    "duration": 22,
    "start_time": "2024-07-26T19:33:00.764Z"
   },
   {
    "duration": 22,
    "start_time": "2024-07-26T19:33:15.512Z"
   },
   {
    "duration": 3,
    "start_time": "2024-07-26T19:34:21.244Z"
   },
   {
    "duration": 57,
    "start_time": "2024-07-26T19:34:21.249Z"
   },
   {
    "duration": 11,
    "start_time": "2024-07-26T19:34:21.307Z"
   },
   {
    "duration": 48,
    "start_time": "2024-07-26T19:34:21.320Z"
   },
   {
    "duration": 13,
    "start_time": "2024-07-26T19:34:21.370Z"
   },
   {
    "duration": 22,
    "start_time": "2024-07-26T19:34:21.385Z"
   },
   {
    "duration": 11,
    "start_time": "2024-07-26T19:34:21.409Z"
   },
   {
    "duration": 33,
    "start_time": "2024-07-26T19:34:21.422Z"
   },
   {
    "duration": 11,
    "start_time": "2024-07-26T19:34:21.458Z"
   },
   {
    "duration": 10,
    "start_time": "2024-07-26T19:34:21.470Z"
   },
   {
    "duration": 16,
    "start_time": "2024-07-26T19:34:21.482Z"
   },
   {
    "duration": 5,
    "start_time": "2024-07-26T19:34:21.500Z"
   },
   {
    "duration": 173,
    "start_time": "2024-07-26T19:34:21.507Z"
   },
   {
    "duration": 133,
    "start_time": "2024-07-26T19:34:21.682Z"
   },
   {
    "duration": 175,
    "start_time": "2024-07-26T19:34:21.817Z"
   },
   {
    "duration": 145,
    "start_time": "2024-07-26T19:34:21.993Z"
   },
   {
    "duration": 9,
    "start_time": "2024-07-26T19:34:22.140Z"
   },
   {
    "duration": 145,
    "start_time": "2024-07-26T19:34:22.150Z"
   },
   {
    "duration": 26,
    "start_time": "2024-07-26T19:34:22.297Z"
   },
   {
    "duration": 66,
    "start_time": "2024-07-26T19:34:22.325Z"
   },
   {
    "duration": 20,
    "start_time": "2024-07-26T19:34:22.393Z"
   },
   {
    "duration": 128,
    "start_time": "2024-07-26T19:34:22.415Z"
   },
   {
    "duration": 149,
    "start_time": "2024-07-26T19:34:22.545Z"
   },
   {
    "duration": 127,
    "start_time": "2024-07-26T19:34:22.698Z"
   },
   {
    "duration": 160,
    "start_time": "2024-07-26T19:34:22.827Z"
   },
   {
    "duration": 61,
    "start_time": "2024-07-26T19:34:22.988Z"
   },
   {
    "duration": 17,
    "start_time": "2024-07-26T19:34:23.050Z"
   },
   {
    "duration": 76,
    "start_time": "2024-07-26T19:34:23.069Z"
   },
   {
    "duration": 8,
    "start_time": "2024-07-26T19:34:23.147Z"
   },
   {
    "duration": 24,
    "start_time": "2024-07-26T19:34:23.157Z"
   },
   {
    "duration": 1626,
    "start_time": "2024-07-26T19:34:23.182Z"
   },
   {
    "duration": 6,
    "start_time": "2024-07-26T19:34:24.810Z"
   },
   {
    "duration": 19,
    "start_time": "2024-07-26T19:34:24.818Z"
   },
   {
    "duration": 1028,
    "start_time": "2024-07-26T20:09:42.265Z"
   },
   {
    "duration": 80,
    "start_time": "2024-07-26T20:09:43.295Z"
   },
   {
    "duration": 10,
    "start_time": "2024-07-26T20:09:43.376Z"
   },
   {
    "duration": 152,
    "start_time": "2024-07-26T20:09:43.387Z"
   },
   {
    "duration": 11,
    "start_time": "2024-07-26T20:09:43.541Z"
   },
   {
    "duration": 77,
    "start_time": "2024-07-26T20:09:43.553Z"
   },
   {
    "duration": 10,
    "start_time": "2024-07-26T20:09:43.632Z"
   },
   {
    "duration": 14,
    "start_time": "2024-07-26T20:09:43.643Z"
   },
   {
    "duration": 10,
    "start_time": "2024-07-26T20:09:43.659Z"
   },
   {
    "duration": 11,
    "start_time": "2024-07-26T20:09:43.672Z"
   },
   {
    "duration": 11,
    "start_time": "2024-07-26T20:09:43.684Z"
   },
   {
    "duration": 5,
    "start_time": "2024-07-26T20:09:43.697Z"
   },
   {
    "duration": 146,
    "start_time": "2024-07-26T20:09:43.739Z"
   },
   {
    "duration": 117,
    "start_time": "2024-07-26T20:09:43.887Z"
   },
   {
    "duration": 147,
    "start_time": "2024-07-26T20:09:44.005Z"
   },
   {
    "duration": 148,
    "start_time": "2024-07-26T20:09:44.154Z"
   },
   {
    "duration": 7,
    "start_time": "2024-07-26T20:09:44.303Z"
   },
   {
    "duration": 141,
    "start_time": "2024-07-26T20:09:44.312Z"
   },
   {
    "duration": 25,
    "start_time": "2024-07-26T20:09:44.454Z"
   },
   {
    "duration": 21,
    "start_time": "2024-07-26T20:09:44.482Z"
   },
   {
    "duration": 38,
    "start_time": "2024-07-26T20:09:44.504Z"
   },
   {
    "duration": 129,
    "start_time": "2024-07-26T20:09:44.544Z"
   },
   {
    "duration": 146,
    "start_time": "2024-07-26T20:09:44.675Z"
   },
   {
    "duration": 133,
    "start_time": "2024-07-26T20:09:44.823Z"
   },
   {
    "duration": 151,
    "start_time": "2024-07-26T20:09:44.958Z"
   },
   {
    "duration": 126,
    "start_time": "2024-07-26T20:09:45.111Z"
   },
   {
    "duration": 16,
    "start_time": "2024-07-26T20:09:45.239Z"
   },
   {
    "duration": 13,
    "start_time": "2024-07-26T20:10:01.435Z"
   },
   {
    "duration": 19,
    "start_time": "2024-07-26T20:10:47.876Z"
   },
   {
    "duration": 42,
    "start_time": "2024-07-26T20:12:14.873Z"
   },
   {
    "duration": 15,
    "start_time": "2024-07-26T20:12:25.653Z"
   },
   {
    "duration": 17,
    "start_time": "2024-07-26T20:15:38.718Z"
   },
   {
    "duration": 88,
    "start_time": "2024-07-26T20:16:41.079Z"
   },
   {
    "duration": 4,
    "start_time": "2024-07-26T20:16:45.049Z"
   },
   {
    "duration": 80,
    "start_time": "2024-07-26T20:16:45.055Z"
   },
   {
    "duration": 10,
    "start_time": "2024-07-26T20:16:45.137Z"
   },
   {
    "duration": 71,
    "start_time": "2024-07-26T20:16:45.149Z"
   },
   {
    "duration": 28,
    "start_time": "2024-07-26T20:16:45.222Z"
   },
   {
    "duration": 64,
    "start_time": "2024-07-26T20:16:45.252Z"
   },
   {
    "duration": 42,
    "start_time": "2024-07-26T20:16:45.318Z"
   },
   {
    "duration": 51,
    "start_time": "2024-07-26T20:16:45.362Z"
   },
   {
    "duration": 35,
    "start_time": "2024-07-26T20:16:45.414Z"
   },
   {
    "duration": 12,
    "start_time": "2024-07-26T20:16:45.452Z"
   },
   {
    "duration": 11,
    "start_time": "2024-07-26T20:16:45.466Z"
   },
   {
    "duration": 6,
    "start_time": "2024-07-26T20:16:45.479Z"
   },
   {
    "duration": 227,
    "start_time": "2024-07-26T20:16:45.486Z"
   },
   {
    "duration": 109,
    "start_time": "2024-07-26T20:16:45.715Z"
   },
   {
    "duration": 141,
    "start_time": "2024-07-26T20:16:45.825Z"
   },
   {
    "duration": 130,
    "start_time": "2024-07-26T20:16:45.967Z"
   },
   {
    "duration": 5,
    "start_time": "2024-07-26T20:16:46.099Z"
   },
   {
    "duration": 142,
    "start_time": "2024-07-26T20:16:46.106Z"
   },
   {
    "duration": 25,
    "start_time": "2024-07-26T20:16:46.250Z"
   },
   {
    "duration": 23,
    "start_time": "2024-07-26T20:16:46.276Z"
   },
   {
    "duration": 45,
    "start_time": "2024-07-26T20:16:46.300Z"
   },
   {
    "duration": 144,
    "start_time": "2024-07-26T20:16:46.347Z"
   },
   {
    "duration": 132,
    "start_time": "2024-07-26T20:16:46.493Z"
   },
   {
    "duration": 121,
    "start_time": "2024-07-26T20:16:46.627Z"
   },
   {
    "duration": 152,
    "start_time": "2024-07-26T20:16:46.750Z"
   },
   {
    "duration": 55,
    "start_time": "2024-07-26T20:16:46.904Z"
   },
   {
    "duration": 17,
    "start_time": "2024-07-26T20:16:46.960Z"
   },
   {
    "duration": 12,
    "start_time": "2024-07-26T20:16:46.980Z"
   },
   {
    "duration": 14,
    "start_time": "2024-07-26T20:16:46.994Z"
   },
   {
    "duration": 29,
    "start_time": "2024-07-26T20:16:47.010Z"
   },
   {
    "duration": 7,
    "start_time": "2024-07-26T20:16:47.040Z"
   },
   {
    "duration": 20,
    "start_time": "2024-07-26T20:16:47.048Z"
   },
   {
    "duration": 7,
    "start_time": "2024-07-26T20:16:47.069Z"
   },
   {
    "duration": 8,
    "start_time": "2024-07-26T20:16:52.838Z"
   },
   {
    "duration": 18,
    "start_time": "2024-07-26T20:16:54.829Z"
   },
   {
    "duration": 6,
    "start_time": "2024-07-26T20:19:10.429Z"
   },
   {
    "duration": 1278,
    "start_time": "2024-07-27T12:30:03.003Z"
   },
   {
    "duration": 80,
    "start_time": "2024-07-27T12:30:04.283Z"
   },
   {
    "duration": 10,
    "start_time": "2024-07-27T12:30:04.365Z"
   },
   {
    "duration": 179,
    "start_time": "2024-07-27T12:30:04.376Z"
   },
   {
    "duration": 10,
    "start_time": "2024-07-27T12:30:04.557Z"
   },
   {
    "duration": 87,
    "start_time": "2024-07-27T12:30:04.568Z"
   },
   {
    "duration": 8,
    "start_time": "2024-07-27T12:30:04.657Z"
   },
   {
    "duration": 32,
    "start_time": "2024-07-27T12:30:04.667Z"
   },
   {
    "duration": 10,
    "start_time": "2024-07-27T12:30:04.700Z"
   },
   {
    "duration": 9,
    "start_time": "2024-07-27T12:30:04.713Z"
   },
   {
    "duration": 20,
    "start_time": "2024-07-27T12:30:04.723Z"
   },
   {
    "duration": 5,
    "start_time": "2024-07-27T12:30:04.744Z"
   },
   {
    "duration": 143,
    "start_time": "2024-07-27T12:30:04.750Z"
   },
   {
    "duration": 116,
    "start_time": "2024-07-27T12:30:04.894Z"
   },
   {
    "duration": 143,
    "start_time": "2024-07-27T12:30:05.012Z"
   },
   {
    "duration": 140,
    "start_time": "2024-07-27T12:30:05.156Z"
   },
   {
    "duration": 8,
    "start_time": "2024-07-27T12:30:05.298Z"
   },
   {
    "duration": 177,
    "start_time": "2024-07-27T12:30:05.308Z"
   },
   {
    "duration": 27,
    "start_time": "2024-07-27T12:30:05.487Z"
   },
   {
    "duration": 34,
    "start_time": "2024-07-27T12:30:05.516Z"
   },
   {
    "duration": 64,
    "start_time": "2024-07-27T12:30:05.552Z"
   },
   {
    "duration": 129,
    "start_time": "2024-07-27T12:30:05.618Z"
   },
   {
    "duration": 126,
    "start_time": "2024-07-27T12:30:05.749Z"
   },
   {
    "duration": 119,
    "start_time": "2024-07-27T12:30:05.877Z"
   },
   {
    "duration": 144,
    "start_time": "2024-07-27T12:30:05.997Z"
   },
   {
    "duration": 113,
    "start_time": "2024-07-27T12:30:06.142Z"
   },
   {
    "duration": 16,
    "start_time": "2024-07-27T12:30:06.256Z"
   },
   {
    "duration": 90,
    "start_time": "2024-07-27T12:30:06.274Z"
   },
   {
    "duration": 10,
    "start_time": "2024-07-27T12:30:06.366Z"
   },
   {
    "duration": 22,
    "start_time": "2024-07-27T12:30:06.378Z"
   },
   {
    "duration": 25,
    "start_time": "2024-07-27T12:30:06.401Z"
   },
   {
    "duration": 31,
    "start_time": "2024-07-27T12:30:06.427Z"
   },
   {
    "duration": 1462,
    "start_time": "2024-07-27T12:30:06.459Z"
   },
   {
    "duration": 5,
    "start_time": "2024-07-27T12:30:07.922Z"
   },
   {
    "duration": 17,
    "start_time": "2024-07-27T12:30:07.929Z"
   },
   {
    "duration": 20,
    "start_time": "2024-07-27T12:30:07.947Z"
   },
   {
    "duration": 149,
    "start_time": "2024-07-27T12:34:55.658Z"
   },
   {
    "duration": 6,
    "start_time": "2024-07-27T12:35:17.846Z"
   },
   {
    "duration": 88,
    "start_time": "2024-07-27T12:38:02.539Z"
   },
   {
    "duration": 83,
    "start_time": "2024-07-27T12:40:47.041Z"
   },
   {
    "duration": 147,
    "start_time": "2024-07-27T12:40:52.490Z"
   },
   {
    "duration": 80,
    "start_time": "2024-07-27T12:49:21.963Z"
   },
   {
    "duration": 90,
    "start_time": "2024-07-27T12:50:08.156Z"
   },
   {
    "duration": 77,
    "start_time": "2024-07-27T12:50:25.782Z"
   },
   {
    "duration": 146,
    "start_time": "2024-07-27T12:52:38.888Z"
   },
   {
    "duration": 149,
    "start_time": "2024-07-27T12:53:18.454Z"
   },
   {
    "duration": 126,
    "start_time": "2024-07-27T13:03:59.762Z"
   },
   {
    "duration": 144,
    "start_time": "2024-07-27T13:04:10.062Z"
   },
   {
    "duration": 146,
    "start_time": "2024-07-27T13:04:27.863Z"
   },
   {
    "duration": 262,
    "start_time": "2024-07-27T13:04:31.718Z"
   },
   {
    "duration": 144,
    "start_time": "2024-07-27T13:04:38.156Z"
   },
   {
    "duration": 134,
    "start_time": "2024-07-27T13:05:36.655Z"
   },
   {
    "duration": 18,
    "start_time": "2024-07-27T13:06:29.294Z"
   },
   {
    "duration": 6,
    "start_time": "2024-07-27T13:14:45.733Z"
   },
   {
    "duration": 5,
    "start_time": "2024-07-27T13:14:57.556Z"
   },
   {
    "duration": 7,
    "start_time": "2024-07-27T13:16:31.733Z"
   },
   {
    "duration": 91,
    "start_time": "2024-07-27T13:18:14.154Z"
   },
   {
    "duration": 25,
    "start_time": "2024-07-27T13:20:57.940Z"
   },
   {
    "duration": 6,
    "start_time": "2024-07-27T13:24:39.527Z"
   },
   {
    "duration": 16,
    "start_time": "2024-07-27T13:24:48.567Z"
   },
   {
    "duration": 5,
    "start_time": "2024-07-27T13:25:23.260Z"
   },
   {
    "duration": 17,
    "start_time": "2024-07-27T13:25:40.279Z"
   },
   {
    "duration": 18,
    "start_time": "2024-07-27T13:26:05.147Z"
   },
   {
    "duration": 10,
    "start_time": "2024-07-27T13:26:15.945Z"
   },
   {
    "duration": 6,
    "start_time": "2024-07-27T13:26:56.459Z"
   },
   {
    "duration": 21,
    "start_time": "2024-07-27T13:26:59.461Z"
   },
   {
    "duration": 6,
    "start_time": "2024-07-27T13:27:21.307Z"
   },
   {
    "duration": 134,
    "start_time": "2024-07-27T13:27:22.915Z"
   },
   {
    "duration": 21,
    "start_time": "2024-07-27T13:32:24.526Z"
   },
   {
    "duration": 24,
    "start_time": "2024-07-27T13:32:27.414Z"
   },
   {
    "duration": 3,
    "start_time": "2024-07-27T13:32:32.518Z"
   },
   {
    "duration": 4,
    "start_time": "2024-07-27T13:32:35.073Z"
   },
   {
    "duration": 4,
    "start_time": "2024-07-27T13:32:56.942Z"
   },
   {
    "duration": 4,
    "start_time": "2024-07-27T13:33:11.105Z"
   },
   {
    "duration": 6,
    "start_time": "2024-07-27T14:05:39.042Z"
   },
   {
    "duration": 19,
    "start_time": "2024-07-27T14:08:08.874Z"
   },
   {
    "duration": 12,
    "start_time": "2024-07-27T14:08:15.563Z"
   },
   {
    "duration": 10,
    "start_time": "2024-07-27T14:08:59.250Z"
   },
   {
    "duration": 10,
    "start_time": "2024-07-27T14:09:05.656Z"
   },
   {
    "duration": 289,
    "start_time": "2024-07-27T14:20:05.418Z"
   },
   {
    "duration": 263,
    "start_time": "2024-07-27T14:20:16.690Z"
   },
   {
    "duration": 272,
    "start_time": "2024-07-27T14:20:37.327Z"
   },
   {
    "duration": 280,
    "start_time": "2024-07-27T14:22:45.661Z"
   },
   {
    "duration": 266,
    "start_time": "2024-07-27T14:23:20.941Z"
   },
   {
    "duration": 283,
    "start_time": "2024-07-27T14:24:17.344Z"
   },
   {
    "duration": 165,
    "start_time": "2024-07-27T14:24:37.637Z"
   },
   {
    "duration": 381,
    "start_time": "2024-07-27T14:30:51.181Z"
   },
   {
    "duration": 342,
    "start_time": "2024-07-27T14:30:55.531Z"
   },
   {
    "duration": 323,
    "start_time": "2024-07-27T14:31:24.233Z"
   },
   {
    "duration": 164,
    "start_time": "2024-07-27T14:31:30.517Z"
   },
   {
    "duration": 166,
    "start_time": "2024-07-27T14:32:03.213Z"
   },
   {
    "duration": 165,
    "start_time": "2024-07-27T14:33:07.037Z"
   },
   {
    "duration": 372,
    "start_time": "2024-07-27T14:33:10.985Z"
   },
   {
    "duration": 260,
    "start_time": "2024-07-27T14:33:36.650Z"
   },
   {
    "duration": 58,
    "start_time": "2024-07-27T14:33:51.633Z"
   },
   {
    "duration": 167,
    "start_time": "2024-07-27T14:33:55.736Z"
   },
   {
    "duration": 272,
    "start_time": "2024-07-27T14:34:16.176Z"
   },
   {
    "duration": 177,
    "start_time": "2024-07-27T14:34:26.309Z"
   },
   {
    "duration": 278,
    "start_time": "2024-07-27T14:34:29.288Z"
   },
   {
    "duration": 270,
    "start_time": "2024-07-27T14:34:35.054Z"
   },
   {
    "duration": 270,
    "start_time": "2024-07-27T14:35:04.558Z"
   },
   {
    "duration": 305,
    "start_time": "2024-07-27T14:35:55.748Z"
   },
   {
    "duration": 281,
    "start_time": "2024-07-27T14:36:09.986Z"
   },
   {
    "duration": 318,
    "start_time": "2024-07-27T14:36:27.891Z"
   },
   {
    "duration": 285,
    "start_time": "2024-07-27T14:38:19.324Z"
   },
   {
    "duration": 265,
    "start_time": "2024-07-27T14:39:24.058Z"
   },
   {
    "duration": 257,
    "start_time": "2024-07-27T14:39:35.948Z"
   },
   {
    "duration": 424,
    "start_time": "2024-07-27T14:39:43.996Z"
   },
   {
    "duration": 114,
    "start_time": "2024-07-27T14:39:57.284Z"
   },
   {
    "duration": 251,
    "start_time": "2024-07-27T14:40:51.666Z"
   },
   {
    "duration": 11,
    "start_time": "2024-07-27T14:46:25.151Z"
   },
   {
    "duration": 6,
    "start_time": "2024-07-27T14:48:53.792Z"
   },
   {
    "duration": 6,
    "start_time": "2024-07-27T14:50:01.863Z"
   },
   {
    "duration": 15,
    "start_time": "2024-07-27T14:50:08.392Z"
   },
   {
    "duration": 6,
    "start_time": "2024-07-27T14:53:02.783Z"
   },
   {
    "duration": 13,
    "start_time": "2024-07-27T14:54:21.854Z"
   },
   {
    "duration": 14,
    "start_time": "2024-07-27T14:54:23.578Z"
   },
   {
    "duration": 11,
    "start_time": "2024-07-27T14:55:02.198Z"
   },
   {
    "duration": 12,
    "start_time": "2024-07-27T14:55:05.186Z"
   },
   {
    "duration": 3,
    "start_time": "2024-07-27T15:01:47.524Z"
   },
   {
    "duration": 3,
    "start_time": "2024-07-27T15:02:03.515Z"
   },
   {
    "duration": 57,
    "start_time": "2024-07-27T15:02:03.519Z"
   },
   {
    "duration": 10,
    "start_time": "2024-07-27T15:02:03.577Z"
   },
   {
    "duration": 34,
    "start_time": "2024-07-27T15:02:03.588Z"
   },
   {
    "duration": 10,
    "start_time": "2024-07-27T15:02:03.623Z"
   },
   {
    "duration": 48,
    "start_time": "2024-07-27T15:02:03.634Z"
   },
   {
    "duration": 38,
    "start_time": "2024-07-27T15:02:03.684Z"
   },
   {
    "duration": 37,
    "start_time": "2024-07-27T15:02:03.724Z"
   },
   {
    "duration": 10,
    "start_time": "2024-07-27T15:02:03.762Z"
   },
   {
    "duration": 9,
    "start_time": "2024-07-27T15:02:03.773Z"
   },
   {
    "duration": 135,
    "start_time": "2024-07-27T15:02:03.783Z"
   },
   {
    "duration": 4,
    "start_time": "2024-07-27T15:02:03.920Z"
   },
   {
    "duration": 135,
    "start_time": "2024-07-27T15:02:03.926Z"
   },
   {
    "duration": 5,
    "start_time": "2024-07-27T15:02:04.062Z"
   },
   {
    "duration": 110,
    "start_time": "2024-07-27T15:02:04.069Z"
   },
   {
    "duration": 144,
    "start_time": "2024-07-27T15:02:04.181Z"
   },
   {
    "duration": 154,
    "start_time": "2024-07-27T15:02:04.326Z"
   },
   {
    "duration": 3,
    "start_time": "2024-07-27T15:02:04.481Z"
   },
   {
    "duration": 163,
    "start_time": "2024-07-27T15:02:04.485Z"
   },
   {
    "duration": 14,
    "start_time": "2024-07-27T15:02:04.650Z"
   },
   {
    "duration": 6,
    "start_time": "2024-07-27T15:02:04.665Z"
   },
   {
    "duration": 149,
    "start_time": "2024-07-27T15:02:04.672Z"
   },
   {
    "duration": 28,
    "start_time": "2024-07-27T15:02:04.822Z"
   },
   {
    "duration": 11,
    "start_time": "2024-07-27T15:02:04.851Z"
   },
   {
    "duration": 28,
    "start_time": "2024-07-27T15:02:04.863Z"
   },
   {
    "duration": 24,
    "start_time": "2024-07-27T15:02:04.893Z"
   },
   {
    "duration": 275,
    "start_time": "2024-07-27T15:02:04.939Z"
   },
   {
    "duration": 291,
    "start_time": "2024-07-27T15:02:05.215Z"
   },
   {
    "duration": 57,
    "start_time": "2024-07-27T15:02:05.509Z"
   },
   {
    "duration": 14,
    "start_time": "2024-07-27T15:02:05.568Z"
   },
   {
    "duration": 47,
    "start_time": "2024-07-27T15:02:05.584Z"
   },
   {
    "duration": 14,
    "start_time": "2024-07-27T15:02:13.443Z"
   },
   {
    "duration": 12,
    "start_time": "2024-07-27T15:02:15.423Z"
   },
   {
    "duration": 7,
    "start_time": "2024-07-27T15:02:27.166Z"
   },
   {
    "duration": 7,
    "start_time": "2024-07-27T15:02:29.452Z"
   },
   {
    "duration": 18,
    "start_time": "2024-07-27T15:04:04.924Z"
   },
   {
    "duration": 13,
    "start_time": "2024-07-27T15:04:08.714Z"
   },
   {
    "duration": 6,
    "start_time": "2024-07-27T15:09:48.965Z"
   },
   {
    "duration": 18,
    "start_time": "2024-07-27T15:09:55.563Z"
   },
   {
    "duration": 11,
    "start_time": "2024-07-27T15:10:29.694Z"
   },
   {
    "duration": 3,
    "start_time": "2024-07-27T15:18:44.505Z"
   },
   {
    "duration": 3,
    "start_time": "2024-07-27T15:19:33.787Z"
   },
   {
    "duration": 4,
    "start_time": "2024-07-27T15:19:38.561Z"
   },
   {
    "duration": 5,
    "start_time": "2024-07-27T15:20:45.593Z"
   },
   {
    "duration": 4,
    "start_time": "2024-07-27T15:20:49.409Z"
   },
   {
    "duration": 4,
    "start_time": "2024-07-27T15:20:53.641Z"
   },
   {
    "duration": 4,
    "start_time": "2024-07-27T15:20:57.459Z"
   },
   {
    "duration": 4,
    "start_time": "2024-07-27T15:21:00.453Z"
   },
   {
    "duration": 4,
    "start_time": "2024-07-27T15:21:09.693Z"
   },
   {
    "duration": 5,
    "start_time": "2024-07-27T15:21:12.382Z"
   },
   {
    "duration": 4,
    "start_time": "2024-07-27T15:21:18.304Z"
   },
   {
    "duration": 5,
    "start_time": "2024-07-27T15:21:21.850Z"
   },
   {
    "duration": 4,
    "start_time": "2024-07-27T15:21:24.605Z"
   },
   {
    "duration": 5,
    "start_time": "2024-07-27T15:21:28.393Z"
   },
   {
    "duration": 5,
    "start_time": "2024-07-27T15:21:31.527Z"
   },
   {
    "duration": 4,
    "start_time": "2024-07-27T15:21:34.761Z"
   },
   {
    "duration": 4,
    "start_time": "2024-07-27T15:21:38.476Z"
   },
   {
    "duration": 4,
    "start_time": "2024-07-27T15:21:43.550Z"
   },
   {
    "duration": 4,
    "start_time": "2024-07-27T15:21:46.032Z"
   },
   {
    "duration": 4,
    "start_time": "2024-07-27T15:21:49.293Z"
   },
   {
    "duration": 4,
    "start_time": "2024-07-27T15:21:51.795Z"
   },
   {
    "duration": 4,
    "start_time": "2024-07-27T15:21:54.567Z"
   },
   {
    "duration": 1294,
    "start_time": "2024-07-27T15:22:31.588Z"
   },
   {
    "duration": 210,
    "start_time": "2024-07-27T15:22:42.153Z"
   },
   {
    "duration": 354,
    "start_time": "2024-07-27T15:23:43.504Z"
   },
   {
    "duration": 406,
    "start_time": "2024-07-27T15:27:35.542Z"
   },
   {
    "duration": 4,
    "start_time": "2024-07-27T15:32:52.119Z"
   },
   {
    "duration": 5,
    "start_time": "2024-07-27T15:33:17.112Z"
   },
   {
    "duration": 4,
    "start_time": "2024-07-27T15:33:28.051Z"
   },
   {
    "duration": 4,
    "start_time": "2024-07-27T15:33:30.990Z"
   },
   {
    "duration": 6,
    "start_time": "2024-07-27T15:33:34.503Z"
   },
   {
    "duration": 5,
    "start_time": "2024-07-27T15:33:40.136Z"
   },
   {
    "duration": 5,
    "start_time": "2024-07-27T15:33:44.429Z"
   },
   {
    "duration": 619,
    "start_time": "2024-07-27T15:34:09.045Z"
   },
   {
    "duration": 1513,
    "start_time": "2024-07-27T15:34:11.623Z"
   },
   {
    "duration": 247,
    "start_time": "2024-07-27T15:34:21.331Z"
   },
   {
    "duration": 161,
    "start_time": "2024-07-27T15:34:25.632Z"
   },
   {
    "duration": 271,
    "start_time": "2024-07-27T15:34:55.057Z"
   },
   {
    "duration": 213,
    "start_time": "2024-07-27T15:35:04.064Z"
   },
   {
    "duration": 63,
    "start_time": "2024-07-27T15:36:54.000Z"
   },
   {
    "duration": 102,
    "start_time": "2024-07-27T15:37:35.197Z"
   },
   {
    "duration": 67,
    "start_time": "2024-07-27T15:37:52.971Z"
   },
   {
    "duration": 66,
    "start_time": "2024-07-27T15:38:00.281Z"
   },
   {
    "duration": 11,
    "start_time": "2024-07-27T15:38:11.012Z"
   },
   {
    "duration": 11,
    "start_time": "2024-07-27T15:38:17.745Z"
   },
   {
    "duration": 11,
    "start_time": "2024-07-27T15:38:24.363Z"
   },
   {
    "duration": 11,
    "start_time": "2024-07-27T15:38:27.558Z"
   },
   {
    "duration": 10,
    "start_time": "2024-07-27T15:38:30.069Z"
   },
   {
    "duration": 11,
    "start_time": "2024-07-27T15:38:32.802Z"
   },
   {
    "duration": 12,
    "start_time": "2024-07-27T15:38:35.252Z"
   },
   {
    "duration": 11,
    "start_time": "2024-07-27T15:38:39.174Z"
   },
   {
    "duration": 12,
    "start_time": "2024-07-27T15:38:41.710Z"
   },
   {
    "duration": 12,
    "start_time": "2024-07-27T15:38:44.015Z"
   },
   {
    "duration": 11,
    "start_time": "2024-07-27T15:38:50.045Z"
   },
   {
    "duration": 11,
    "start_time": "2024-07-27T15:38:52.857Z"
   },
   {
    "duration": 1501,
    "start_time": "2024-07-27T15:39:07.485Z"
   },
   {
    "duration": 341,
    "start_time": "2024-07-27T15:39:26.077Z"
   },
   {
    "duration": 12,
    "start_time": "2024-07-27T15:40:15.165Z"
   },
   {
    "duration": 5,
    "start_time": "2024-07-27T15:42:01.200Z"
   },
   {
    "duration": 5,
    "start_time": "2024-07-27T15:42:36.617Z"
   },
   {
    "duration": 5,
    "start_time": "2024-07-27T15:42:47.504Z"
   },
   {
    "duration": 5,
    "start_time": "2024-07-27T15:42:49.680Z"
   },
   {
    "duration": 5,
    "start_time": "2024-07-27T15:42:52.790Z"
   },
   {
    "duration": 5,
    "start_time": "2024-07-27T15:42:54.825Z"
   },
   {
    "duration": 5,
    "start_time": "2024-07-27T15:42:57.041Z"
   },
   {
    "duration": 4,
    "start_time": "2024-07-27T15:42:59.067Z"
   },
   {
    "duration": 5,
    "start_time": "2024-07-27T15:43:04.767Z"
   },
   {
    "duration": 1043,
    "start_time": "2024-07-27T15:44:13.239Z"
   },
   {
    "duration": 37,
    "start_time": "2024-07-27T15:44:14.284Z"
   },
   {
    "duration": 10,
    "start_time": "2024-07-27T15:44:14.323Z"
   },
   {
    "duration": 39,
    "start_time": "2024-07-27T15:44:14.335Z"
   },
   {
    "duration": 9,
    "start_time": "2024-07-27T15:44:14.377Z"
   },
   {
    "duration": 29,
    "start_time": "2024-07-27T15:44:14.388Z"
   },
   {
    "duration": 8,
    "start_time": "2024-07-27T15:44:14.418Z"
   },
   {
    "duration": 14,
    "start_time": "2024-07-27T15:44:14.428Z"
   },
   {
    "duration": 9,
    "start_time": "2024-07-27T15:44:14.444Z"
   },
   {
    "duration": 8,
    "start_time": "2024-07-27T15:44:14.455Z"
   },
   {
    "duration": 11,
    "start_time": "2024-07-27T15:44:14.464Z"
   },
   {
    "duration": 5,
    "start_time": "2024-07-27T15:44:14.477Z"
   },
   {
    "duration": 176,
    "start_time": "2024-07-27T15:44:14.483Z"
   },
   {
    "duration": 6,
    "start_time": "2024-07-27T15:44:14.662Z"
   },
   {
    "duration": 90,
    "start_time": "2024-07-27T15:44:14.669Z"
   },
   {
    "duration": 145,
    "start_time": "2024-07-27T15:44:14.761Z"
   },
   {
    "duration": 169,
    "start_time": "2024-07-27T15:44:14.907Z"
   },
   {
    "duration": 6,
    "start_time": "2024-07-27T15:44:15.078Z"
   },
   {
    "duration": 185,
    "start_time": "2024-07-27T15:44:15.086Z"
   },
   {
    "duration": 14,
    "start_time": "2024-07-27T15:44:15.273Z"
   },
   {
    "duration": 68,
    "start_time": "2024-07-27T15:44:15.288Z"
   },
   {
    "duration": 309,
    "start_time": "2024-07-27T15:44:15.358Z"
   },
   {
    "duration": 24,
    "start_time": "2024-07-27T15:44:15.669Z"
   },
   {
    "duration": 45,
    "start_time": "2024-07-27T15:44:15.694Z"
   },
   {
    "duration": 21,
    "start_time": "2024-07-27T15:44:15.740Z"
   },
   {
    "duration": 40,
    "start_time": "2024-07-27T15:44:15.763Z"
   },
   {
    "duration": 299,
    "start_time": "2024-07-27T15:44:15.804Z"
   },
   {
    "duration": 296,
    "start_time": "2024-07-27T15:44:16.105Z"
   },
   {
    "duration": 57,
    "start_time": "2024-07-27T15:44:16.403Z"
   },
   {
    "duration": 15,
    "start_time": "2024-07-27T15:44:16.462Z"
   },
   {
    "duration": 81,
    "start_time": "2024-07-27T15:44:16.479Z"
   },
   {
    "duration": 11,
    "start_time": "2024-07-27T15:44:16.561Z"
   },
   {
    "duration": 7,
    "start_time": "2024-07-27T15:44:16.573Z"
   },
   {
    "duration": 6,
    "start_time": "2024-07-27T15:44:16.582Z"
   },
   {
    "duration": 11,
    "start_time": "2024-07-27T15:44:16.590Z"
   },
   {
    "duration": 359,
    "start_time": "2024-07-27T15:44:16.603Z"
   },
   {
    "duration": 5,
    "start_time": "2024-07-27T15:44:16.964Z"
   },
   {
    "duration": 13,
    "start_time": "2024-07-27T15:44:16.971Z"
   },
   {
    "duration": 6,
    "start_time": "2024-07-27T15:44:16.985Z"
   },
   {
    "duration": 8,
    "start_time": "2024-07-27T15:44:16.993Z"
   },
   {
    "duration": 137,
    "start_time": "2024-07-27T15:45:02.819Z"
   },
   {
    "duration": 5,
    "start_time": "2024-07-27T15:45:34.274Z"
   },
   {
    "duration": 50,
    "start_time": "2024-07-28T16:52:01.339Z"
   },
   {
    "duration": 1213,
    "start_time": "2024-07-28T16:52:09.933Z"
   },
   {
    "duration": 120,
    "start_time": "2024-07-28T16:52:11.148Z"
   },
   {
    "duration": 11,
    "start_time": "2024-07-28T16:52:11.270Z"
   },
   {
    "duration": 191,
    "start_time": "2024-07-28T16:52:11.283Z"
   },
   {
    "duration": 10,
    "start_time": "2024-07-28T16:52:11.476Z"
   },
   {
    "duration": 79,
    "start_time": "2024-07-28T16:52:11.488Z"
   },
   {
    "duration": 9,
    "start_time": "2024-07-28T16:52:11.569Z"
   },
   {
    "duration": 13,
    "start_time": "2024-07-28T16:52:11.580Z"
   },
   {
    "duration": 10,
    "start_time": "2024-07-28T16:52:11.595Z"
   },
   {
    "duration": 9,
    "start_time": "2024-07-28T16:52:11.607Z"
   },
   {
    "duration": 10,
    "start_time": "2024-07-28T16:52:11.617Z"
   },
   {
    "duration": 5,
    "start_time": "2024-07-28T16:52:11.628Z"
   },
   {
    "duration": 180,
    "start_time": "2024-07-28T16:52:11.634Z"
   },
   {
    "duration": 5,
    "start_time": "2024-07-28T16:52:11.815Z"
   },
   {
    "duration": 89,
    "start_time": "2024-07-28T16:52:11.821Z"
   },
   {
    "duration": 146,
    "start_time": "2024-07-28T16:52:11.911Z"
   },
   {
    "duration": 150,
    "start_time": "2024-07-28T16:52:12.059Z"
   },
   {
    "duration": 147,
    "start_time": "2024-07-28T16:52:12.211Z"
   },
   {
    "duration": 25,
    "start_time": "2024-07-28T16:52:12.359Z"
   },
   {
    "duration": 5,
    "start_time": "2024-07-28T16:52:12.385Z"
   },
   {
    "duration": 143,
    "start_time": "2024-07-28T16:52:12.391Z"
   },
   {
    "duration": 27,
    "start_time": "2024-07-28T16:52:12.535Z"
   },
   {
    "duration": 21,
    "start_time": "2024-07-28T16:52:12.564Z"
   },
   {
    "duration": 21,
    "start_time": "2024-07-28T16:52:12.587Z"
   },
   {
    "duration": 18,
    "start_time": "2024-07-28T16:52:12.609Z"
   },
   {
    "duration": 383,
    "start_time": "2024-07-28T16:52:12.628Z"
   },
   {
    "duration": 253,
    "start_time": "2024-07-28T16:52:13.012Z"
   },
   {
    "duration": 54,
    "start_time": "2024-07-28T16:52:13.268Z"
   },
   {
    "duration": 14,
    "start_time": "2024-07-28T16:52:13.323Z"
   },
   {
    "duration": 12,
    "start_time": "2024-07-28T16:52:13.339Z"
   },
   {
    "duration": 10,
    "start_time": "2024-07-28T16:52:13.352Z"
   },
   {
    "duration": 5,
    "start_time": "2024-07-28T16:52:13.384Z"
   },
   {
    "duration": 6,
    "start_time": "2024-07-28T16:52:13.390Z"
   },
   {
    "duration": 12,
    "start_time": "2024-07-28T16:52:13.397Z"
   },
   {
    "duration": 363,
    "start_time": "2024-07-28T16:52:13.410Z"
   },
   {
    "duration": 11,
    "start_time": "2024-07-28T16:52:13.774Z"
   },
   {
    "duration": 5,
    "start_time": "2024-07-28T16:52:13.786Z"
   },
   {
    "duration": 10,
    "start_time": "2024-07-28T16:52:13.792Z"
   },
   {
    "duration": 5,
    "start_time": "2024-07-28T16:52:13.803Z"
   },
   {
    "duration": 370,
    "start_time": "2024-07-28T16:54:14.526Z"
   },
   {
    "duration": 279,
    "start_time": "2024-07-28T16:54:20.606Z"
   },
   {
    "duration": 319,
    "start_time": "2024-07-28T16:54:24.342Z"
   },
   {
    "duration": 282,
    "start_time": "2024-07-28T16:54:37.492Z"
   },
   {
    "duration": 56,
    "start_time": "2024-07-28T16:57:00.522Z"
   },
   {
    "duration": 5,
    "start_time": "2024-07-28T16:57:30.366Z"
   },
   {
    "duration": 5,
    "start_time": "2024-07-28T16:57:34.663Z"
   },
   {
    "duration": 5,
    "start_time": "2024-07-28T16:57:40.215Z"
   },
   {
    "duration": 5,
    "start_time": "2024-07-28T16:57:42.776Z"
   },
   {
    "duration": 5,
    "start_time": "2024-07-28T16:57:45.353Z"
   },
   {
    "duration": 6,
    "start_time": "2024-07-28T16:57:49.001Z"
   },
   {
    "duration": 5,
    "start_time": "2024-07-28T16:57:51.691Z"
   },
   {
    "duration": 6,
    "start_time": "2024-07-28T16:57:54.514Z"
   },
   {
    "duration": 5,
    "start_time": "2024-07-28T16:57:58.157Z"
   },
   {
    "duration": 4,
    "start_time": "2024-07-28T16:58:00.647Z"
   },
   {
    "duration": 5,
    "start_time": "2024-07-28T16:58:05.573Z"
   },
   {
    "duration": 5,
    "start_time": "2024-07-28T16:58:08.917Z"
   },
   {
    "duration": 4,
    "start_time": "2024-07-28T16:58:12.680Z"
   },
   {
    "duration": 5,
    "start_time": "2024-07-28T16:58:14.724Z"
   },
   {
    "duration": 5,
    "start_time": "2024-07-28T16:58:17.261Z"
   }
  ],
  "kernelspec": {
   "display_name": "Python 3 (ipykernel)",
   "language": "python",
   "name": "python3"
  },
  "language_info": {
   "codemirror_mode": {
    "name": "ipython",
    "version": 3
   },
   "file_extension": ".py",
   "mimetype": "text/x-python",
   "name": "python",
   "nbconvert_exporter": "python",
   "pygments_lexer": "ipython3",
   "version": "3.11.9"
  },
  "toc": {
   "base_numbering": 1,
   "nav_menu": {
    "height": "206px",
    "width": "241px"
   },
   "number_sections": true,
   "sideBar": true,
   "skip_h1_title": true,
   "title_cell": "Table of Contents",
   "title_sidebar": "Contents",
   "toc_cell": false,
   "toc_position": {
    "height": "calc(100% - 180px)",
    "left": "10px",
    "top": "150px",
    "width": "288px"
   },
   "toc_section_display": true,
   "toc_window_display": false
  }
 },
 "nbformat": 4,
 "nbformat_minor": 5
}
